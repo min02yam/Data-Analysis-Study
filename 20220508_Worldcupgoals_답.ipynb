{
  "nbformat": 4,
  "nbformat_minor": 0,
  "metadata": {
    "colab": {
      "name": "20220508_Worldcupgoals_하는중.ipynb의 사본",
      "provenance": [],
      "authorship_tag": "ABX9TyOOSunPxOBMMK+RWWtKDWFT",
      "include_colab_link": true
    },
    "kernelspec": {
      "name": "ir",
      "display_name": "R"
    },
    "language_info": {
      "name": "R"
    }
  },
  "cells": [
    {
      "cell_type": "markdown",
      "metadata": {
        "id": "view-in-github",
        "colab_type": "text"
      },
      "source": [
        "<a href=\"https://colab.research.google.com/github/min02yam/Data-study/blob/main/20220508_Worldcupgoals_%EB%8B%B5.ipynb\" target=\"_parent\"><img src=\"https://colab.research.google.com/assets/colab-badge.svg\" alt=\"Open In Colab\"/></a>"
      ]
    },
    {
      "cell_type": "markdown",
      "source": [
        "# 1. Data Pre-processing\n",
        "\n",
        "\n",
        "## 1-2-1. Worldcupgoals.csv 데이터에서 국가별 득점을 한 선수의 숫자와 총 득점수를 표시하시오. (가장 적은 코드로 작성한 사람에게는 커피 한 잔 쿠폰을 선물로 드립니다. )\n",
        "\n",
        "## 1-2-2. Worldcupgoals.csv 데이터에서 tm 패키지를 이용해서 월드컵 출전회수 column을 추가하시오."
      ],
      "metadata": {
        "id": "glH2Xjg7kgtN"
      }
    },
    {
      "cell_type": "code",
      "source": [
        "install.packages(c(\"dplyr\",\"tm\")) "
      ],
      "metadata": {
        "colab": {
          "base_uri": "https://localhost:8080/"
        },
        "id": "pkvZ4WIjlH7t",
        "outputId": "bc757057-8976-48d0-873f-0f6c263058c6"
      },
      "execution_count": 1,
      "outputs": [
        {
          "output_type": "stream",
          "name": "stderr",
          "text": [
            "Installing packages into ‘/usr/local/lib/R/site-library’\n",
            "(as ‘lib’ is unspecified)\n",
            "\n"
          ]
        }
      ]
    },
    {
      "cell_type": "code",
      "source": [
        "library(dplyr);library(magrittr)"
      ],
      "metadata": {
        "id": "Ac6Snw5ClhkZ",
        "colab": {
          "base_uri": "https://localhost:8080/"
        },
        "outputId": "f8edeff8-c208-4aef-e03b-310bd7213a70"
      },
      "execution_count": 2,
      "outputs": [
        {
          "output_type": "stream",
          "name": "stderr",
          "text": [
            "\n",
            "Attaching package: ‘dplyr’\n",
            "\n",
            "\n",
            "The following objects are masked from ‘package:stats’:\n",
            "\n",
            "    filter, lag\n",
            "\n",
            "\n",
            "The following objects are masked from ‘package:base’:\n",
            "\n",
            "    intersect, setdiff, setequal, union\n",
            "\n",
            "\n"
          ]
        }
      ]
    },
    {
      "cell_type": "code",
      "source": [
        "install.packages(\"tm\");  library(tm)"
      ],
      "metadata": {
        "colab": {
          "base_uri": "https://localhost:8080/"
        },
        "id": "CdCwYFtlU43P",
        "outputId": "4e609d63-8842-4887-e53b-dfcfe9fe125e"
      },
      "execution_count": 3,
      "outputs": [
        {
          "output_type": "stream",
          "name": "stderr",
          "text": [
            "Installing package into ‘/usr/local/lib/R/site-library’\n",
            "(as ‘lib’ is unspecified)\n",
            "\n",
            "Loading required package: NLP\n",
            "\n"
          ]
        }
      ]
    },
    {
      "cell_type": "markdown",
      "source": [
        "ref. https://cran.r-project.org/web/packages/tm/vignettes/tm.pdf"
      ],
      "metadata": {
        "id": "EO60mBqLvBII"
      }
    },
    {
      "cell_type": "markdown",
      "source": [
        "- `step1)` 데이터 불러오기 및 간단한 구조 확인"
      ],
      "metadata": {
        "id": "Z3MdmaBBoLtV"
      }
    },
    {
      "cell_type": "code",
      "source": [
        "df<-read.csv(\"/content/Worldcupgoals.csv\")"
      ],
      "metadata": {
        "id": "z5XKGAGjTf0v"
      },
      "execution_count": 4,
      "outputs": []
    },
    {
      "cell_type": "code",
      "source": [
        "str(df); head(df)"
      ],
      "metadata": {
        "colab": {
          "base_uri": "https://localhost:8080/",
          "height": 377
        },
        "id": "N4SIpwCfTrIO",
        "outputId": "a7ce833b-be64-4053-c547-71387462dd2c"
      },
      "execution_count": 5,
      "outputs": [
        {
          "output_type": "stream",
          "name": "stdout",
          "text": [
            "'data.frame':\t1295 obs. of  4 variables:\n",
            " $ Player : chr  \"Miroslav Klose\" \"Ronaldo\" \"Gerd Muller\" \"Just Fontaine\" ...\n",
            " $ Goals  : int  16 15 14 13 12 11 11 10 10 10 ...\n",
            " $ Years  : chr  \"2002-2006-2010-2014\" \"1998-2002-2006\" \"1970-1974\" \"1958\" ...\n",
            " $ Country: chr  \"Germany\" \"Brazil\" \"Germany\" \"France\" ...\n"
          ]
        },
        {
          "output_type": "display_data",
          "data": {
            "text/html": [
              "<table class=\"dataframe\">\n",
              "<caption>A data.frame: 6 × 4</caption>\n",
              "<thead>\n",
              "\t<tr><th></th><th scope=col>Player</th><th scope=col>Goals</th><th scope=col>Years</th><th scope=col>Country</th></tr>\n",
              "\t<tr><th></th><th scope=col>&lt;chr&gt;</th><th scope=col>&lt;int&gt;</th><th scope=col>&lt;chr&gt;</th><th scope=col>&lt;chr&gt;</th></tr>\n",
              "</thead>\n",
              "<tbody>\n",
              "\t<tr><th scope=row>1</th><td>Miroslav Klose  </td><td>16</td><td>2002-2006-2010-2014</td><td>Germany</td></tr>\n",
              "\t<tr><th scope=row>2</th><td>Ronaldo         </td><td>15</td><td>1998-2002-2006     </td><td>Brazil </td></tr>\n",
              "\t<tr><th scope=row>3</th><td>Gerd Muller     </td><td>14</td><td>1970-1974          </td><td>Germany</td></tr>\n",
              "\t<tr><th scope=row>4</th><td>Just Fontaine   </td><td>13</td><td>1958               </td><td>France </td></tr>\n",
              "\t<tr><th scope=row>5</th><td>Pele            </td><td>12</td><td>1958-1962-1966-1970</td><td>Brazil </td></tr>\n",
              "\t<tr><th scope=row>6</th><td>Jurgen Klinsmann</td><td>11</td><td>1990-1994-1998     </td><td>Germany</td></tr>\n",
              "</tbody>\n",
              "</table>\n"
            ],
            "text/markdown": "\nA data.frame: 6 × 4\n\n| <!--/--> | Player &lt;chr&gt; | Goals &lt;int&gt; | Years &lt;chr&gt; | Country &lt;chr&gt; |\n|---|---|---|---|---|\n| 1 | Miroslav Klose   | 16 | 2002-2006-2010-2014 | Germany |\n| 2 | Ronaldo          | 15 | 1998-2002-2006      | Brazil  |\n| 3 | Gerd Muller      | 14 | 1970-1974           | Germany |\n| 4 | Just Fontaine    | 13 | 1958                | France  |\n| 5 | Pele             | 12 | 1958-1962-1966-1970 | Brazil  |\n| 6 | Jurgen Klinsmann | 11 | 1990-1994-1998      | Germany |\n\n",
            "text/latex": "A data.frame: 6 × 4\n\\begin{tabular}{r|llll}\n  & Player & Goals & Years & Country\\\\\n  & <chr> & <int> & <chr> & <chr>\\\\\n\\hline\n\t1 & Miroslav Klose   & 16 & 2002-2006-2010-2014 & Germany\\\\\n\t2 & Ronaldo          & 15 & 1998-2002-2006      & Brazil \\\\\n\t3 & Gerd Muller      & 14 & 1970-1974           & Germany\\\\\n\t4 & Just Fontaine    & 13 & 1958                & France \\\\\n\t5 & Pele             & 12 & 1958-1962-1966-1970 & Brazil \\\\\n\t6 & Jurgen Klinsmann & 11 & 1990-1994-1998      & Germany\\\\\n\\end{tabular}\n",
            "text/plain": [
              "  Player           Goals Years               Country\n",
              "1 Miroslav Klose   16    2002-2006-2010-2014 Germany\n",
              "2 Ronaldo          15    1998-2002-2006      Brazil \n",
              "3 Gerd Muller      14    1970-1974           Germany\n",
              "4 Just Fontaine    13    1958                France \n",
              "5 Pele             12    1958-1962-1966-1970 Brazil \n",
              "6 Jurgen Klinsmann 11    1990-1994-1998      Germany"
            ]
          },
          "metadata": {}
        }
      ]
    },
    {
      "cell_type": "markdown",
      "source": [
        "- `step2)` 국가별 득점을 한 선수의 숫자와 총 득점수를 표시 \n",
        "> group_by, count, summarise로 해결 "
      ],
      "metadata": {
        "id": "oH8cIDz0UDX3"
      }
    },
    {
      "cell_type": "code",
      "source": [
        "df %>% group_by(Country)  %>% count(Player, Goals) %>% summarise(tot_goals=sum(Goals), tot_player=sum(n)) %>%arrange(-tot_goals)"
      ],
      "metadata": {
        "colab": {
          "base_uri": "https://localhost:8080/",
          "height": 1000
        },
        "id": "h-bb0zzYCYVU",
        "outputId": "f2ded6bf-a2bf-4e6d-d6c2-01c7a42de625"
      },
      "execution_count": 6,
      "outputs": [
        {
          "output_type": "display_data",
          "data": {
            "text/html": [
              "<table class=\"dataframe\">\n",
              "<caption>A tibble: 76 × 3</caption>\n",
              "<thead>\n",
              "\t<tr><th scope=col>Country</th><th scope=col>tot_goals</th><th scope=col>tot_player</th></tr>\n",
              "\t<tr><th scope=col>&lt;chr&gt;</th><th scope=col>&lt;int&gt;</th><th scope=col>&lt;int&gt;</th></tr>\n",
              "</thead>\n",
              "<tbody>\n",
              "\t<tr><td>Brazil     </td><td>227</td><td>81</td></tr>\n",
              "\t<tr><td>Germany    </td><td>226</td><td>78</td></tr>\n",
              "\t<tr><td>Argentina  </td><td>135</td><td>59</td></tr>\n",
              "\t<tr><td>Italy      </td><td>123</td><td>60</td></tr>\n",
              "\t<tr><td>France     </td><td>115</td><td>58</td></tr>\n",
              "\t<tr><td>Spain      </td><td> 96</td><td>48</td></tr>\n",
              "\t<tr><td>England    </td><td> 89</td><td>46</td></tr>\n",
              "\t<tr><td>Uruguay    </td><td> 86</td><td>39</td></tr>\n",
              "\t<tr><td>Hungary    </td><td> 85</td><td>36</td></tr>\n",
              "\t<tr><td>Netherlands</td><td> 84</td><td>39</td></tr>\n",
              "\t<tr><td>Sweden     </td><td> 78</td><td>39</td></tr>\n",
              "\t<tr><td>Belgium    </td><td> 65</td><td>37</td></tr>\n",
              "\t<tr><td>Yugoslavia </td><td> 61</td><td>38</td></tr>\n",
              "\t<tr><td>Mexico     </td><td> 60</td><td>42</td></tr>\n",
              "\t<tr><td>USSR       </td><td> 52</td><td>30</td></tr>\n",
              "\t<tr><td>Switzerland</td><td> 50</td><td>28</td></tr>\n",
              "\t<tr><td>Poland     </td><td> 46</td><td>18</td></tr>\n",
              "\t<tr><td>Portugal   </td><td> 46</td><td>22</td></tr>\n",
              "\t<tr><td>Czech      </td><td> 44</td><td>22</td></tr>\n",
              "\t<tr><td>Austria    </td><td> 40</td><td>23</td></tr>\n",
              "\t<tr><td>Chile      </td><td> 40</td><td>24</td></tr>\n",
              "\t<tr><td>USA        </td><td> 34</td><td>20</td></tr>\n",
              "\t<tr><td>South Korea</td><td> 33</td><td>22</td></tr>\n",
              "\t<tr><td>Croatia    </td><td> 31</td><td>16</td></tr>\n",
              "\t<tr><td>Colombia   </td><td> 30</td><td>19</td></tr>\n",
              "\t<tr><td>Denmark    </td><td> 30</td><td>18</td></tr>\n",
              "\t<tr><td>Romania    </td><td> 30</td><td>17</td></tr>\n",
              "\t<tr><td>Paraguay   </td><td> 28</td><td>20</td></tr>\n",
              "\t<tr><td>Russia     </td><td> 23</td><td>13</td></tr>\n",
              "\t<tr><td>Scotland   </td><td> 23</td><td>18</td></tr>\n",
              "\t<tr><td>⋮</td><td>⋮</td><td>⋮</td></tr>\n",
              "\t<tr><td>South Africa  </td><td>11</td><td>9</td></tr>\n",
              "\t<tr><td>Ireland       </td><td>10</td><td>8</td></tr>\n",
              "\t<tr><td>Senegal       </td><td>10</td><td>7</td></tr>\n",
              "\t<tr><td>Iran          </td><td> 8</td><td>8</td></tr>\n",
              "\t<tr><td>North Korea   </td><td> 6</td><td>5</td></tr>\n",
              "\t<tr><td>Norway        </td><td> 6</td><td>5</td></tr>\n",
              "\t<tr><td>Serbia        </td><td> 6</td><td>6</td></tr>\n",
              "\t<tr><td>Cuba          </td><td> 5</td><td>4</td></tr>\n",
              "\t<tr><td>Egypt         </td><td> 5</td><td>3</td></tr>\n",
              "\t<tr><td>Greece        </td><td> 5</td><td>5</td></tr>\n",
              "\t<tr><td>Slovakia      </td><td> 5</td><td>2</td></tr>\n",
              "\t<tr><td>Slovenia      </td><td> 5</td><td>5</td></tr>\n",
              "\t<tr><td>Ukraine       </td><td> 5</td><td>4</td></tr>\n",
              "\t<tr><td>Bosnia Herz   </td><td> 4</td><td>4</td></tr>\n",
              "\t<tr><td>New Zealand   </td><td> 4</td><td>4</td></tr>\n",
              "\t<tr><td>Wales         </td><td> 4</td><td>3</td></tr>\n",
              "\t<tr><td>Czech Republic</td><td> 3</td><td>2</td></tr>\n",
              "\t<tr><td>Honduras      </td><td> 3</td><td>3</td></tr>\n",
              "\t<tr><td>Jamaica       </td><td> 3</td><td>2</td></tr>\n",
              "\t<tr><td>Haiti         </td><td> 2</td><td>1</td></tr>\n",
              "\t<tr><td>Iceland       </td><td> 2</td><td>2</td></tr>\n",
              "\t<tr><td>Kuwait        </td><td> 2</td><td>2</td></tr>\n",
              "\t<tr><td>UAE           </td><td> 2</td><td>2</td></tr>\n",
              "\t<tr><td>Angola        </td><td> 1</td><td>1</td></tr>\n",
              "\t<tr><td>Bolivia       </td><td> 1</td><td>1</td></tr>\n",
              "\t<tr><td>El Salvador   </td><td> 1</td><td>1</td></tr>\n",
              "\t<tr><td>Iraq          </td><td> 1</td><td>1</td></tr>\n",
              "\t<tr><td>Israel        </td><td> 1</td><td>1</td></tr>\n",
              "\t<tr><td>Panama        </td><td> 1</td><td>1</td></tr>\n",
              "\t<tr><td>Togo          </td><td> 1</td><td>1</td></tr>\n",
              "</tbody>\n",
              "</table>\n"
            ],
            "text/markdown": "\nA tibble: 76 × 3\n\n| Country &lt;chr&gt; | tot_goals &lt;int&gt; | tot_player &lt;int&gt; |\n|---|---|---|\n| Brazil      | 227 | 81 |\n| Germany     | 226 | 78 |\n| Argentina   | 135 | 59 |\n| Italy       | 123 | 60 |\n| France      | 115 | 58 |\n| Spain       |  96 | 48 |\n| England     |  89 | 46 |\n| Uruguay     |  86 | 39 |\n| Hungary     |  85 | 36 |\n| Netherlands |  84 | 39 |\n| Sweden      |  78 | 39 |\n| Belgium     |  65 | 37 |\n| Yugoslavia  |  61 | 38 |\n| Mexico      |  60 | 42 |\n| USSR        |  52 | 30 |\n| Switzerland |  50 | 28 |\n| Poland      |  46 | 18 |\n| Portugal    |  46 | 22 |\n| Czech       |  44 | 22 |\n| Austria     |  40 | 23 |\n| Chile       |  40 | 24 |\n| USA         |  34 | 20 |\n| South Korea |  33 | 22 |\n| Croatia     |  31 | 16 |\n| Colombia    |  30 | 19 |\n| Denmark     |  30 | 18 |\n| Romania     |  30 | 17 |\n| Paraguay    |  28 | 20 |\n| Russia      |  23 | 13 |\n| Scotland    |  23 | 18 |\n| ⋮ | ⋮ | ⋮ |\n| South Africa   | 11 | 9 |\n| Ireland        | 10 | 8 |\n| Senegal        | 10 | 7 |\n| Iran           |  8 | 8 |\n| North Korea    |  6 | 5 |\n| Norway         |  6 | 5 |\n| Serbia         |  6 | 6 |\n| Cuba           |  5 | 4 |\n| Egypt          |  5 | 3 |\n| Greece         |  5 | 5 |\n| Slovakia       |  5 | 2 |\n| Slovenia       |  5 | 5 |\n| Ukraine        |  5 | 4 |\n| Bosnia Herz    |  4 | 4 |\n| New Zealand    |  4 | 4 |\n| Wales          |  4 | 3 |\n| Czech Republic |  3 | 2 |\n| Honduras       |  3 | 3 |\n| Jamaica        |  3 | 2 |\n| Haiti          |  2 | 1 |\n| Iceland        |  2 | 2 |\n| Kuwait         |  2 | 2 |\n| UAE            |  2 | 2 |\n| Angola         |  1 | 1 |\n| Bolivia        |  1 | 1 |\n| El Salvador    |  1 | 1 |\n| Iraq           |  1 | 1 |\n| Israel         |  1 | 1 |\n| Panama         |  1 | 1 |\n| Togo           |  1 | 1 |\n\n",
            "text/latex": "A tibble: 76 × 3\n\\begin{tabular}{lll}\n Country & tot\\_goals & tot\\_player\\\\\n <chr> & <int> & <int>\\\\\n\\hline\n\t Brazil      & 227 & 81\\\\\n\t Germany     & 226 & 78\\\\\n\t Argentina   & 135 & 59\\\\\n\t Italy       & 123 & 60\\\\\n\t France      & 115 & 58\\\\\n\t Spain       &  96 & 48\\\\\n\t England     &  89 & 46\\\\\n\t Uruguay     &  86 & 39\\\\\n\t Hungary     &  85 & 36\\\\\n\t Netherlands &  84 & 39\\\\\n\t Sweden      &  78 & 39\\\\\n\t Belgium     &  65 & 37\\\\\n\t Yugoslavia  &  61 & 38\\\\\n\t Mexico      &  60 & 42\\\\\n\t USSR        &  52 & 30\\\\\n\t Switzerland &  50 & 28\\\\\n\t Poland      &  46 & 18\\\\\n\t Portugal    &  46 & 22\\\\\n\t Czech       &  44 & 22\\\\\n\t Austria     &  40 & 23\\\\\n\t Chile       &  40 & 24\\\\\n\t USA         &  34 & 20\\\\\n\t South Korea &  33 & 22\\\\\n\t Croatia     &  31 & 16\\\\\n\t Colombia    &  30 & 19\\\\\n\t Denmark     &  30 & 18\\\\\n\t Romania     &  30 & 17\\\\\n\t Paraguay    &  28 & 20\\\\\n\t Russia      &  23 & 13\\\\\n\t Scotland    &  23 & 18\\\\\n\t ⋮ & ⋮ & ⋮\\\\\n\t South Africa   & 11 & 9\\\\\n\t Ireland        & 10 & 8\\\\\n\t Senegal        & 10 & 7\\\\\n\t Iran           &  8 & 8\\\\\n\t North Korea    &  6 & 5\\\\\n\t Norway         &  6 & 5\\\\\n\t Serbia         &  6 & 6\\\\\n\t Cuba           &  5 & 4\\\\\n\t Egypt          &  5 & 3\\\\\n\t Greece         &  5 & 5\\\\\n\t Slovakia       &  5 & 2\\\\\n\t Slovenia       &  5 & 5\\\\\n\t Ukraine        &  5 & 4\\\\\n\t Bosnia Herz    &  4 & 4\\\\\n\t New Zealand    &  4 & 4\\\\\n\t Wales          &  4 & 3\\\\\n\t Czech Republic &  3 & 2\\\\\n\t Honduras       &  3 & 3\\\\\n\t Jamaica        &  3 & 2\\\\\n\t Haiti          &  2 & 1\\\\\n\t Iceland        &  2 & 2\\\\\n\t Kuwait         &  2 & 2\\\\\n\t UAE            &  2 & 2\\\\\n\t Angola         &  1 & 1\\\\\n\t Bolivia        &  1 & 1\\\\\n\t El Salvador    &  1 & 1\\\\\n\t Iraq           &  1 & 1\\\\\n\t Israel         &  1 & 1\\\\\n\t Panama         &  1 & 1\\\\\n\t Togo           &  1 & 1\\\\\n\\end{tabular}\n",
            "text/plain": [
              "   Country        tot_goals tot_player\n",
              "1  Brazil         227       81        \n",
              "2  Germany        226       78        \n",
              "3  Argentina      135       59        \n",
              "4  Italy          123       60        \n",
              "5  France         115       58        \n",
              "6  Spain           96       48        \n",
              "7  England         89       46        \n",
              "8  Uruguay         86       39        \n",
              "9  Hungary         85       36        \n",
              "10 Netherlands     84       39        \n",
              "11 Sweden          78       39        \n",
              "12 Belgium         65       37        \n",
              "13 Yugoslavia      61       38        \n",
              "14 Mexico          60       42        \n",
              "15 USSR            52       30        \n",
              "16 Switzerland     50       28        \n",
              "17 Poland          46       18        \n",
              "18 Portugal        46       22        \n",
              "19 Czech           44       22        \n",
              "20 Austria         40       23        \n",
              "21 Chile           40       24        \n",
              "22 USA             34       20        \n",
              "23 South Korea     33       22        \n",
              "24 Croatia         31       16        \n",
              "25 Colombia        30       19        \n",
              "26 Denmark         30       18        \n",
              "27 Romania         30       17        \n",
              "28 Paraguay        28       20        \n",
              "29 Russia          23       13        \n",
              "30 Scotland        23       18        \n",
              "⋮  ⋮              ⋮         ⋮         \n",
              "47 South Africa   11        9         \n",
              "48 Ireland        10        8         \n",
              "49 Senegal        10        7         \n",
              "50 Iran            8        8         \n",
              "51 North Korea     6        5         \n",
              "52 Norway          6        5         \n",
              "53 Serbia          6        6         \n",
              "54 Cuba            5        4         \n",
              "55 Egypt           5        3         \n",
              "56 Greece          5        5         \n",
              "57 Slovakia        5        2         \n",
              "58 Slovenia        5        5         \n",
              "59 Ukraine         5        4         \n",
              "60 Bosnia Herz     4        4         \n",
              "61 New Zealand     4        4         \n",
              "62 Wales           4        3         \n",
              "63 Czech Republic  3        2         \n",
              "64 Honduras        3        3         \n",
              "65 Jamaica         3        2         \n",
              "66 Haiti           2        1         \n",
              "67 Iceland         2        2         \n",
              "68 Kuwait          2        2         \n",
              "69 UAE             2        2         \n",
              "70 Angola          1        1         \n",
              "71 Bolivia         1        1         \n",
              "72 El Salvador     1        1         \n",
              "73 Iraq            1        1         \n",
              "74 Israel          1        1         \n",
              "75 Panama          1        1         \n",
              "76 Togo            1        1         "
            ]
          },
          "metadata": {}
        }
      ]
    },
    {
      "cell_type": "markdown",
      "source": [
        "- `step3)` tm 패키지를 이용해서 월드컵 출전회수 column을 추가"
      ],
      "metadata": {
        "id": "CxLfRct4KH3d"
      }
    },
    {
      "cell_type": "code",
      "source": [
        "year<-tm_map( VCorpus(VectorSource(df[,3])),  removePunctuation)   # 리스트로 반환뒴 "
      ],
      "metadata": {
        "id": "NyN8rJitKOWR"
      },
      "execution_count": 7,
      "outputs": []
    },
    {
      "cell_type": "code",
      "source": [
        "df$count_year<-sapply(year, nchar)[1,] / 4 "
      ],
      "metadata": {
        "id": "5X2kc9g1gd6A"
      },
      "execution_count": 8,
      "outputs": []
    },
    {
      "cell_type": "code",
      "source": [
        "head(df)"
      ],
      "metadata": {
        "colab": {
          "base_uri": "https://localhost:8080/",
          "height": 286
        },
        "id": "tUmmg1PuiMLh",
        "outputId": "ac3cc9e6-6d47-43f8-e849-56114e90b6a7"
      },
      "execution_count": 9,
      "outputs": [
        {
          "output_type": "display_data",
          "data": {
            "text/html": [
              "<table class=\"dataframe\">\n",
              "<caption>A data.frame: 6 × 5</caption>\n",
              "<thead>\n",
              "\t<tr><th></th><th scope=col>Player</th><th scope=col>Goals</th><th scope=col>Years</th><th scope=col>Country</th><th scope=col>count_year</th></tr>\n",
              "\t<tr><th></th><th scope=col>&lt;chr&gt;</th><th scope=col>&lt;int&gt;</th><th scope=col>&lt;chr&gt;</th><th scope=col>&lt;chr&gt;</th><th scope=col>&lt;dbl&gt;</th></tr>\n",
              "</thead>\n",
              "<tbody>\n",
              "\t<tr><th scope=row>1</th><td>Miroslav Klose  </td><td>16</td><td>2002-2006-2010-2014</td><td>Germany</td><td>4</td></tr>\n",
              "\t<tr><th scope=row>2</th><td>Ronaldo         </td><td>15</td><td>1998-2002-2006     </td><td>Brazil </td><td>3</td></tr>\n",
              "\t<tr><th scope=row>3</th><td>Gerd Muller     </td><td>14</td><td>1970-1974          </td><td>Germany</td><td>2</td></tr>\n",
              "\t<tr><th scope=row>4</th><td>Just Fontaine   </td><td>13</td><td>1958               </td><td>France </td><td>1</td></tr>\n",
              "\t<tr><th scope=row>5</th><td>Pele            </td><td>12</td><td>1958-1962-1966-1970</td><td>Brazil </td><td>4</td></tr>\n",
              "\t<tr><th scope=row>6</th><td>Jurgen Klinsmann</td><td>11</td><td>1990-1994-1998     </td><td>Germany</td><td>3</td></tr>\n",
              "</tbody>\n",
              "</table>\n"
            ],
            "text/markdown": "\nA data.frame: 6 × 5\n\n| <!--/--> | Player &lt;chr&gt; | Goals &lt;int&gt; | Years &lt;chr&gt; | Country &lt;chr&gt; | count_year &lt;dbl&gt; |\n|---|---|---|---|---|---|\n| 1 | Miroslav Klose   | 16 | 2002-2006-2010-2014 | Germany | 4 |\n| 2 | Ronaldo          | 15 | 1998-2002-2006      | Brazil  | 3 |\n| 3 | Gerd Muller      | 14 | 1970-1974           | Germany | 2 |\n| 4 | Just Fontaine    | 13 | 1958                | France  | 1 |\n| 5 | Pele             | 12 | 1958-1962-1966-1970 | Brazil  | 4 |\n| 6 | Jurgen Klinsmann | 11 | 1990-1994-1998      | Germany | 3 |\n\n",
            "text/latex": "A data.frame: 6 × 5\n\\begin{tabular}{r|lllll}\n  & Player & Goals & Years & Country & count\\_year\\\\\n  & <chr> & <int> & <chr> & <chr> & <dbl>\\\\\n\\hline\n\t1 & Miroslav Klose   & 16 & 2002-2006-2010-2014 & Germany & 4\\\\\n\t2 & Ronaldo          & 15 & 1998-2002-2006      & Brazil  & 3\\\\\n\t3 & Gerd Muller      & 14 & 1970-1974           & Germany & 2\\\\\n\t4 & Just Fontaine    & 13 & 1958                & France  & 1\\\\\n\t5 & Pele             & 12 & 1958-1962-1966-1970 & Brazil  & 4\\\\\n\t6 & Jurgen Klinsmann & 11 & 1990-1994-1998      & Germany & 3\\\\\n\\end{tabular}\n",
            "text/plain": [
              "  Player           Goals Years               Country count_year\n",
              "1 Miroslav Klose   16    2002-2006-2010-2014 Germany 4         \n",
              "2 Ronaldo          15    1998-2002-2006      Brazil  3         \n",
              "3 Gerd Muller      14    1970-1974           Germany 2         \n",
              "4 Just Fontaine    13    1958                France  1         \n",
              "5 Pele             12    1958-1962-1966-1970 Brazil  4         \n",
              "6 Jurgen Klinsmann 11    1990-1994-1998      Germany 3         "
            ]
          },
          "metadata": {}
        }
      ]
    },
    {
      "cell_type": "code",
      "source": [
        "#year[[1]]$content\n",
        "#year[[1]]"
      ],
      "metadata": {
        "id": "B0D2ov1FgIvy"
      },
      "execution_count": 10,
      "outputs": []
    },
    {
      "cell_type": "code",
      "source": [
        "#year[[1]]$content"
      ],
      "metadata": {
        "id": "jrJym4mxfj2H"
      },
      "execution_count": 11,
      "outputs": []
    },
    {
      "cell_type": "code",
      "source": [
        "#year[[1]]"
      ],
      "metadata": {
        "id": "RVoLkEdvfwe4"
      },
      "execution_count": 12,
      "outputs": []
    },
    {
      "cell_type": "code",
      "source": [
        "#year[[3]]$content"
      ],
      "metadata": {
        "id": "2JUDvNNYNgl6"
      },
      "execution_count": 13,
      "outputs": []
    },
    {
      "cell_type": "code",
      "source": [
        "#nchar( tm_map(year, removePunctuation) )"
      ],
      "metadata": {
        "id": "Q0Pa2Ye4PoEB"
      },
      "execution_count": 14,
      "outputs": []
    },
    {
      "cell_type": "code",
      "source": [
        "#df$count <- sapply(tm_map(year, removePunctuation) ,nchar)"
      ],
      "metadata": {
        "id": "rWeN3yS1PoqM"
      },
      "execution_count": 15,
      "outputs": []
    }
  ]
}