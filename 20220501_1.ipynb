{
  "cells": [
    {
      "cell_type": "code",
      "execution_count": 1,
      "metadata": {
        "colab": {
          "base_uri": "https://localhost:8080/",
          "height": 34
        },
        "id": "KfN39srDBVWW",
        "outputId": "228bd4ea-8edb-475f-fe2f-429750f2a017"
      },
      "outputs": [
        {
          "output_type": "display_data",
          "data": {
            "text/html": [
              "'/content'"
            ],
            "text/markdown": "'/content'",
            "text/latex": "'/content'",
            "text/plain": [
              "[1] \"/content\""
            ]
          },
          "metadata": {}
        }
      ],
      "source": [
        "getwd()"
      ]
    },
    {
      "cell_type": "code",
      "execution_count": 2,
      "metadata": {
        "colab": {
          "base_uri": "https://localhost:8080/",
          "height": 136
        },
        "id": "q3BZzSSkBVWc",
        "outputId": "ec304c35-4416-4976-9851-7cdf13657dc9"
      },
      "outputs": [
        {
          "output_type": "error",
          "ename": "ERROR",
          "evalue": "ignored",
          "traceback": [
            "Error in setwd(\"C:/Users/alsdu/Downloads/20220501_데이터분석 스터디\"): cannot change working directory\nTraceback:\n",
            "1. setwd(\"C:/Users/alsdu/Downloads/20220501_데이터분석 스터디\")"
          ]
        }
      ],
      "source": [
        "setwd(\"C:/Users/alsdu/Downloads/20220501_데이터분석 스터디\")"
      ]
    },
    {
      "cell_type": "code",
      "execution_count": 4,
      "metadata": {
        "id": "KTCXxdofBVWc"
      },
      "outputs": [],
      "source": [
        "library(dplyr); library(magrittr)"
      ]
    },
    {
      "cell_type": "markdown",
      "metadata": {
        "id": "GadsnNq8BVWd"
      },
      "source": [
        "# ⚽1. Worldcupgoals\n",
        "첨부된 'Worldcupgoals' 데이터셋은 1930년부터 2018년까지 FIFA 월드컵에서득점한 선수관련데이터입니다.\n",
        "- 1) 골득점을 한 선수가 가장 많은 나라 상위 5개 국가와 그 선수 숫자를 출력하세요.\n",
        "- 2) Brazil 국가의 월드컵 출전 횟수가 ~~5회 이상인 선수들을 내림차순으로 정렬하세요.~~ **3회인 선수들을 도출하시오.**"
      ]
    },
    {
      "cell_type": "code",
      "execution_count": 17,
      "metadata": {
        "id": "APmzJ9dxBVWf"
      },
      "outputs": [],
      "source": [
        "wc<-read.csv(\"/content/Worldcupgoals.csv\")"
      ]
    },
    {
      "cell_type": "code",
      "execution_count": 18,
      "metadata": {
        "colab": {
          "base_uri": "https://localhost:8080/"
        },
        "id": "H3OzZFpFBVWg",
        "outputId": "5f479ba2-9268-4d58-aecc-b2ebde2e2938"
      },
      "outputs": [
        {
          "output_type": "stream",
          "name": "stdout",
          "text": [
            "'data.frame':\t1295 obs. of  4 variables:\n",
            " $ Player : chr  \"Miroslav Klose\" \"Ronaldo\" \"Gerd Muller\" \"Just Fontaine\" ...\n",
            " $ Goals  : int  16 15 14 13 12 11 11 10 10 10 ...\n",
            " $ Years  : chr  \"2002-2006-2010-2014\" \"1998-2002-2006\" \"1970-1974\" \"1958\" ...\n",
            " $ Country: chr  \"Germany\" \"Brazil\" \"Germany\" \"France\" ...\n"
          ]
        }
      ],
      "source": [
        "str(wc)"
      ]
    },
    {
      "cell_type": "code",
      "execution_count": 19,
      "metadata": {
        "scrolled": true,
        "colab": {
          "base_uri": "https://localhost:8080/",
          "height": 144
        },
        "id": "f02KMmdSBVWh",
        "outputId": "36cf60de-338d-4e59-a1c0-576d45c14c02"
      },
      "outputs": [
        {
          "output_type": "display_data",
          "data": {
            "text/plain": [
              "    Player              Goals           Years             Country         \n",
              " Length:1295        Min.   : 1.000   Length:1295        Length:1295       \n",
              " Class :character   1st Qu.: 1.000   Class :character   Class :character  \n",
              " Mode  :character   Median : 1.000   Mode  :character   Mode  :character  \n",
              "                    Mean   : 1.924                                        \n",
              "                    3rd Qu.: 2.000                                        \n",
              "                    Max.   :16.000                                        "
            ]
          },
          "metadata": {}
        }
      ],
      "source": [
        "summary(wc) "
      ]
    },
    {
      "cell_type": "code",
      "execution_count": 20,
      "metadata": {
        "scrolled": true,
        "colab": {
          "base_uri": "https://localhost:8080/",
          "height": 286
        },
        "id": "qWh8tTReBVWh",
        "outputId": "7834e1b6-f2f6-4e71-d992-891db07de246"
      },
      "outputs": [
        {
          "output_type": "display_data",
          "data": {
            "text/html": [
              "<table class=\"dataframe\">\n",
              "<caption>A data.frame: 6 × 4</caption>\n",
              "<thead>\n",
              "\t<tr><th></th><th scope=col>Player</th><th scope=col>Goals</th><th scope=col>Years</th><th scope=col>Country</th></tr>\n",
              "\t<tr><th></th><th scope=col>&lt;chr&gt;</th><th scope=col>&lt;int&gt;</th><th scope=col>&lt;chr&gt;</th><th scope=col>&lt;chr&gt;</th></tr>\n",
              "</thead>\n",
              "<tbody>\n",
              "\t<tr><th scope=row>1</th><td>Miroslav Klose  </td><td>16</td><td>2002-2006-2010-2014</td><td>Germany</td></tr>\n",
              "\t<tr><th scope=row>2</th><td>Ronaldo         </td><td>15</td><td>1998-2002-2006     </td><td>Brazil </td></tr>\n",
              "\t<tr><th scope=row>3</th><td>Gerd Muller     </td><td>14</td><td>1970-1974          </td><td>Germany</td></tr>\n",
              "\t<tr><th scope=row>4</th><td>Just Fontaine   </td><td>13</td><td>1958               </td><td>France </td></tr>\n",
              "\t<tr><th scope=row>5</th><td>Pele            </td><td>12</td><td>1958-1962-1966-1970</td><td>Brazil </td></tr>\n",
              "\t<tr><th scope=row>6</th><td>Jurgen Klinsmann</td><td>11</td><td>1990-1994-1998     </td><td>Germany</td></tr>\n",
              "</tbody>\n",
              "</table>\n"
            ],
            "text/markdown": "\nA data.frame: 6 × 4\n\n| <!--/--> | Player &lt;chr&gt; | Goals &lt;int&gt; | Years &lt;chr&gt; | Country &lt;chr&gt; |\n|---|---|---|---|---|\n| 1 | Miroslav Klose   | 16 | 2002-2006-2010-2014 | Germany |\n| 2 | Ronaldo          | 15 | 1998-2002-2006      | Brazil  |\n| 3 | Gerd Muller      | 14 | 1970-1974           | Germany |\n| 4 | Just Fontaine    | 13 | 1958                | France  |\n| 5 | Pele             | 12 | 1958-1962-1966-1970 | Brazil  |\n| 6 | Jurgen Klinsmann | 11 | 1990-1994-1998      | Germany |\n\n",
            "text/latex": "A data.frame: 6 × 4\n\\begin{tabular}{r|llll}\n  & Player & Goals & Years & Country\\\\\n  & <chr> & <int> & <chr> & <chr>\\\\\n\\hline\n\t1 & Miroslav Klose   & 16 & 2002-2006-2010-2014 & Germany\\\\\n\t2 & Ronaldo          & 15 & 1998-2002-2006      & Brazil \\\\\n\t3 & Gerd Muller      & 14 & 1970-1974           & Germany\\\\\n\t4 & Just Fontaine    & 13 & 1958                & France \\\\\n\t5 & Pele             & 12 & 1958-1962-1966-1970 & Brazil \\\\\n\t6 & Jurgen Klinsmann & 11 & 1990-1994-1998      & Germany\\\\\n\\end{tabular}\n",
            "text/plain": [
              "  Player           Goals Years               Country\n",
              "1 Miroslav Klose   16    2002-2006-2010-2014 Germany\n",
              "2 Ronaldo          15    1998-2002-2006      Brazil \n",
              "3 Gerd Muller      14    1970-1974           Germany\n",
              "4 Just Fontaine    13    1958                France \n",
              "5 Pele             12    1958-1962-1966-1970 Brazil \n",
              "6 Jurgen Klinsmann 11    1990-1994-1998      Germany"
            ]
          },
          "metadata": {}
        }
      ],
      "source": [
        "head(wc)"
      ]
    },
    {
      "cell_type": "markdown",
      "metadata": {
        "id": "RQaypsAjBVWi"
      },
      "source": [
        "## 1-1 골득점을 한 선수가 가장 많은 나라 상위 5개 국가와 그 선수 숫자를 출력하세요."
      ]
    },
    {
      "cell_type": "markdown",
      "source": [
        "- `step1` count 변수 생성"
      ],
      "metadata": {
        "id": "knn3gxeeCaCm"
      }
    },
    {
      "cell_type": "code",
      "execution_count": 21,
      "metadata": {
        "scrolled": true,
        "colab": {
          "base_uri": "https://localhost:8080/",
          "height": 286
        },
        "id": "s3SooCA7BVWj",
        "outputId": "f125cf0b-cc56-4188-e8c4-cf3c1fdd3df1"
      },
      "outputs": [
        {
          "output_type": "display_data",
          "data": {
            "text/html": [
              "<table class=\"dataframe\">\n",
              "<caption>A data.frame: 6 × 5</caption>\n",
              "<thead>\n",
              "\t<tr><th></th><th scope=col>Player</th><th scope=col>Goals</th><th scope=col>Years</th><th scope=col>Country</th><th scope=col>count</th></tr>\n",
              "\t<tr><th></th><th scope=col>&lt;chr&gt;</th><th scope=col>&lt;int&gt;</th><th scope=col>&lt;chr&gt;</th><th scope=col>&lt;chr&gt;</th><th scope=col>&lt;dbl&gt;</th></tr>\n",
              "</thead>\n",
              "<tbody>\n",
              "\t<tr><th scope=row>1</th><td>Miroslav Klose  </td><td>16</td><td>2002-2006-2010-2014</td><td>Germany</td><td>1</td></tr>\n",
              "\t<tr><th scope=row>2</th><td>Ronaldo         </td><td>15</td><td>1998-2002-2006     </td><td>Brazil </td><td>1</td></tr>\n",
              "\t<tr><th scope=row>3</th><td>Gerd Muller     </td><td>14</td><td>1970-1974          </td><td>Germany</td><td>1</td></tr>\n",
              "\t<tr><th scope=row>4</th><td>Just Fontaine   </td><td>13</td><td>1958               </td><td>France </td><td>1</td></tr>\n",
              "\t<tr><th scope=row>5</th><td>Pele            </td><td>12</td><td>1958-1962-1966-1970</td><td>Brazil </td><td>1</td></tr>\n",
              "\t<tr><th scope=row>6</th><td>Jurgen Klinsmann</td><td>11</td><td>1990-1994-1998     </td><td>Germany</td><td>1</td></tr>\n",
              "</tbody>\n",
              "</table>\n"
            ],
            "text/markdown": "\nA data.frame: 6 × 5\n\n| <!--/--> | Player &lt;chr&gt; | Goals &lt;int&gt; | Years &lt;chr&gt; | Country &lt;chr&gt; | count &lt;dbl&gt; |\n|---|---|---|---|---|---|\n| 1 | Miroslav Klose   | 16 | 2002-2006-2010-2014 | Germany | 1 |\n| 2 | Ronaldo          | 15 | 1998-2002-2006      | Brazil  | 1 |\n| 3 | Gerd Muller      | 14 | 1970-1974           | Germany | 1 |\n| 4 | Just Fontaine    | 13 | 1958                | France  | 1 |\n| 5 | Pele             | 12 | 1958-1962-1966-1970 | Brazil  | 1 |\n| 6 | Jurgen Klinsmann | 11 | 1990-1994-1998      | Germany | 1 |\n\n",
            "text/latex": "A data.frame: 6 × 5\n\\begin{tabular}{r|lllll}\n  & Player & Goals & Years & Country & count\\\\\n  & <chr> & <int> & <chr> & <chr> & <dbl>\\\\\n\\hline\n\t1 & Miroslav Klose   & 16 & 2002-2006-2010-2014 & Germany & 1\\\\\n\t2 & Ronaldo          & 15 & 1998-2002-2006      & Brazil  & 1\\\\\n\t3 & Gerd Muller      & 14 & 1970-1974           & Germany & 1\\\\\n\t4 & Just Fontaine    & 13 & 1958                & France  & 1\\\\\n\t5 & Pele             & 12 & 1958-1962-1966-1970 & Brazil  & 1\\\\\n\t6 & Jurgen Klinsmann & 11 & 1990-1994-1998      & Germany & 1\\\\\n\\end{tabular}\n",
            "text/plain": [
              "  Player           Goals Years               Country count\n",
              "1 Miroslav Klose   16    2002-2006-2010-2014 Germany 1    \n",
              "2 Ronaldo          15    1998-2002-2006      Brazil  1    \n",
              "3 Gerd Muller      14    1970-1974           Germany 1    \n",
              "4 Just Fontaine    13    1958                France  1    \n",
              "5 Pele             12    1958-1962-1966-1970 Brazil  1    \n",
              "6 Jurgen Klinsmann 11    1990-1994-1998      Germany 1    "
            ]
          },
          "metadata": {}
        }
      ],
      "source": [
        "wc$count<- rep(1, each=nrow(wc) ) ; head(wc)"
      ]
    },
    {
      "cell_type": "markdown",
      "source": [
        "- `step2` Country 그룹 기준으로 count를 sum한 뒤 내림차순으로 출력"
      ],
      "metadata": {
        "id": "8FlvaTX1Cqsk"
      }
    },
    {
      "cell_type": "code",
      "execution_count": 22,
      "metadata": {
        "scrolled": true,
        "colab": {
          "base_uri": "https://localhost:8080/",
          "height": 255
        },
        "id": "mGViwhbjBVWj",
        "outputId": "08512c5e-cfc1-4c97-e123-37f420d851f9"
      },
      "outputs": [
        {
          "output_type": "display_data",
          "data": {
            "text/html": [
              "<table class=\"dataframe\">\n",
              "<caption>A tibble: 5 × 2</caption>\n",
              "<thead>\n",
              "\t<tr><th scope=col>Country</th><th scope=col>Player_count</th></tr>\n",
              "\t<tr><th scope=col>&lt;chr&gt;</th><th scope=col>&lt;dbl&gt;</th></tr>\n",
              "</thead>\n",
              "<tbody>\n",
              "\t<tr><td>Brazil   </td><td>81</td></tr>\n",
              "\t<tr><td>Germany  </td><td>78</td></tr>\n",
              "\t<tr><td>Italy    </td><td>60</td></tr>\n",
              "\t<tr><td>Argentina</td><td>59</td></tr>\n",
              "\t<tr><td>France   </td><td>58</td></tr>\n",
              "</tbody>\n",
              "</table>\n"
            ],
            "text/markdown": "\nA tibble: 5 × 2\n\n| Country &lt;chr&gt; | Player_count &lt;dbl&gt; |\n|---|---|\n| Brazil    | 81 |\n| Germany   | 78 |\n| Italy     | 60 |\n| Argentina | 59 |\n| France    | 58 |\n\n",
            "text/latex": "A tibble: 5 × 2\n\\begin{tabular}{ll}\n Country & Player\\_count\\\\\n <chr> & <dbl>\\\\\n\\hline\n\t Brazil    & 81\\\\\n\t Germany   & 78\\\\\n\t Italy     & 60\\\\\n\t Argentina & 59\\\\\n\t France    & 58\\\\\n\\end{tabular}\n",
            "text/plain": [
              "  Country   Player_count\n",
              "1 Brazil    81          \n",
              "2 Germany   78          \n",
              "3 Italy     60          \n",
              "4 Argentina 59          \n",
              "5 France    58          "
            ]
          },
          "metadata": {}
        }
      ],
      "source": [
        "wc  %>%   group_by(Country)  %>% summarise(Player_count= sum(count)) %>% arrange (desc(Player_count))  %>% head(5)"
      ]
    },
    {
      "cell_type": "markdown",
      "metadata": {
        "id": "zfxBqTaYBVWk"
      },
      "source": [
        "## 1-2 Brazil 국가의 월드컵 출전 횟수가 3회인 선수들을 도출하세요. (문제수정)"
      ]
    },
    {
      "cell_type": "code",
      "execution_count": 23,
      "metadata": {
        "scrolled": true,
        "id": "PJGG6w7fBVWk"
      },
      "outputs": [],
      "source": [
        "#wc[wc$Country==\"Brazil\", ]"
      ]
    },
    {
      "cell_type": "markdown",
      "metadata": {
        "id": "SaUOwMzmBVWk"
      },
      "source": [
        "- `step1` gsub() ➡️ factor형 'Years'변수에서 숫자만 추출('\\\\D')해서 새로운 변수('years_new')로 할당  \n",
        "![image.png](data:image/png;base64,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)\n",
        "ref.https://cceeddcc.tistory.com/110"
      ]
    },
    {
      "cell_type": "code",
      "execution_count": 24,
      "metadata": {
        "id": "m8zBWZ8mBVWl"
      },
      "outputs": [],
      "source": [
        "wc$years_new<-gsub('\\\\D','', wc[,3])  ;  #gsub(숫자만 뺌, 공백제외, 해당변수)"
      ]
    },
    {
      "cell_type": "markdown",
      "metadata": {
        "id": "eU_7--FtBVWl"
      },
      "source": [
        "- `step2` nchar() ➡️ 월드컵 출전 횟수 변수 생성"
      ]
    },
    {
      "cell_type": "code",
      "execution_count": 25,
      "metadata": {
        "colab": {
          "base_uri": "https://localhost:8080/",
          "height": 192
        },
        "id": "2oe5q3PABVWl",
        "outputId": "6fa36e17-e185-4ea4-de8c-4f2f4f7a1cb6"
      },
      "outputs": [
        {
          "output_type": "display_data",
          "data": {
            "text/html": [
              "<table class=\"dataframe\">\n",
              "<caption>A data.frame: 3 × 7</caption>\n",
              "<thead>\n",
              "\t<tr><th></th><th scope=col>Player</th><th scope=col>Goals</th><th scope=col>Years</th><th scope=col>Country</th><th scope=col>count</th><th scope=col>years_new</th><th scope=col>years_count</th></tr>\n",
              "\t<tr><th></th><th scope=col>&lt;chr&gt;</th><th scope=col>&lt;int&gt;</th><th scope=col>&lt;chr&gt;</th><th scope=col>&lt;chr&gt;</th><th scope=col>&lt;dbl&gt;</th><th scope=col>&lt;chr&gt;</th><th scope=col>&lt;dbl&gt;</th></tr>\n",
              "</thead>\n",
              "<tbody>\n",
              "\t<tr><th scope=row>1</th><td>Miroslav Klose</td><td>16</td><td>2002-2006-2010-2014</td><td>Germany</td><td>1</td><td>2002200620102014</td><td>4</td></tr>\n",
              "\t<tr><th scope=row>2</th><td>Ronaldo       </td><td>15</td><td>1998-2002-2006     </td><td>Brazil </td><td>1</td><td>199820022006    </td><td>3</td></tr>\n",
              "\t<tr><th scope=row>3</th><td>Gerd Muller   </td><td>14</td><td>1970-1974          </td><td>Germany</td><td>1</td><td>19701974        </td><td>2</td></tr>\n",
              "</tbody>\n",
              "</table>\n"
            ],
            "text/markdown": "\nA data.frame: 3 × 7\n\n| <!--/--> | Player &lt;chr&gt; | Goals &lt;int&gt; | Years &lt;chr&gt; | Country &lt;chr&gt; | count &lt;dbl&gt; | years_new &lt;chr&gt; | years_count &lt;dbl&gt; |\n|---|---|---|---|---|---|---|---|\n| 1 | Miroslav Klose | 16 | 2002-2006-2010-2014 | Germany | 1 | 2002200620102014 | 4 |\n| 2 | Ronaldo        | 15 | 1998-2002-2006      | Brazil  | 1 | 199820022006     | 3 |\n| 3 | Gerd Muller    | 14 | 1970-1974           | Germany | 1 | 19701974         | 2 |\n\n",
            "text/latex": "A data.frame: 3 × 7\n\\begin{tabular}{r|lllllll}\n  & Player & Goals & Years & Country & count & years\\_new & years\\_count\\\\\n  & <chr> & <int> & <chr> & <chr> & <dbl> & <chr> & <dbl>\\\\\n\\hline\n\t1 & Miroslav Klose & 16 & 2002-2006-2010-2014 & Germany & 1 & 2002200620102014 & 4\\\\\n\t2 & Ronaldo        & 15 & 1998-2002-2006      & Brazil  & 1 & 199820022006     & 3\\\\\n\t3 & Gerd Muller    & 14 & 1970-1974           & Germany & 1 & 19701974         & 2\\\\\n\\end{tabular}\n",
            "text/plain": [
              "  Player         Goals Years               Country count years_new       \n",
              "1 Miroslav Klose 16    2002-2006-2010-2014 Germany 1     2002200620102014\n",
              "2 Ronaldo        15    1998-2002-2006      Brazil  1     199820022006    \n",
              "3 Gerd Muller    14    1970-1974           Germany 1     19701974        \n",
              "  years_count\n",
              "1 4          \n",
              "2 3          \n",
              "3 2          "
            ]
          },
          "metadata": {}
        }
      ],
      "source": [
        "wc %<>% mutate( years_count= nchar(years_new)/4)  ; head(wc,3)"
      ]
    },
    {
      "cell_type": "markdown",
      "metadata": {
        "id": "d3WNJpo6BVWm"
      },
      "source": [
        "- `step3` filter(), select() ➡️ 최종 결과 도출"
      ]
    },
    {
      "cell_type": "code",
      "execution_count": 26,
      "metadata": {
        "colab": {
          "base_uri": "https://localhost:8080/",
          "height": 412
        },
        "id": "cPxJJQl4BVWm",
        "outputId": "f13a954b-3f69-4c0b-d5d6-de0279e1c265"
      },
      "outputs": [
        {
          "output_type": "display_data",
          "data": {
            "text/html": [
              "<table class=\"dataframe\">\n",
              "<caption>A data.frame: 10 × 4</caption>\n",
              "<thead>\n",
              "\t<tr><th scope=col>Player</th><th scope=col>Goals</th><th scope=col>Country</th><th scope=col>years_count</th></tr>\n",
              "\t<tr><th scope=col>&lt;chr&gt;</th><th scope=col>&lt;int&gt;</th><th scope=col>&lt;chr&gt;</th><th scope=col>&lt;dbl&gt;</th></tr>\n",
              "</thead>\n",
              "<tbody>\n",
              "\t<tr><td>Ronaldo       </td><td>15</td><td>Brazil</td><td>3</td></tr>\n",
              "\t<tr><td>Jairzinho     </td><td> 9</td><td>Brazil</td><td>3</td></tr>\n",
              "\t<tr><td>Rivelino      </td><td> 6</td><td>Brazil</td><td>3</td></tr>\n",
              "\t<tr><td>Garrincha     </td><td> 5</td><td>Brazil</td><td>3</td></tr>\n",
              "\t<tr><td>Didi          </td><td> 3</td><td>Brazil</td><td>3</td></tr>\n",
              "\t<tr><td>Dirceu        </td><td> 3</td><td>Brazil</td><td>3</td></tr>\n",
              "\t<tr><td>Branco        </td><td> 1</td><td>Brazil</td><td>3</td></tr>\n",
              "\t<tr><td>Roberto Carlos</td><td> 1</td><td>Brazil</td><td>3</td></tr>\n",
              "\t<tr><td>Kaka          </td><td> 1</td><td>Brazil</td><td>3</td></tr>\n",
              "\t<tr><td>Nilton Santos </td><td> 1</td><td>Brazil</td><td>3</td></tr>\n",
              "</tbody>\n",
              "</table>\n"
            ],
            "text/markdown": "\nA data.frame: 10 × 4\n\n| Player &lt;chr&gt; | Goals &lt;int&gt; | Country &lt;chr&gt; | years_count &lt;dbl&gt; |\n|---|---|---|---|\n| Ronaldo        | 15 | Brazil | 3 |\n| Jairzinho      |  9 | Brazil | 3 |\n| Rivelino       |  6 | Brazil | 3 |\n| Garrincha      |  5 | Brazil | 3 |\n| Didi           |  3 | Brazil | 3 |\n| Dirceu         |  3 | Brazil | 3 |\n| Branco         |  1 | Brazil | 3 |\n| Roberto Carlos |  1 | Brazil | 3 |\n| Kaka           |  1 | Brazil | 3 |\n| Nilton Santos  |  1 | Brazil | 3 |\n\n",
            "text/latex": "A data.frame: 10 × 4\n\\begin{tabular}{llll}\n Player & Goals & Country & years\\_count\\\\\n <chr> & <int> & <chr> & <dbl>\\\\\n\\hline\n\t Ronaldo        & 15 & Brazil & 3\\\\\n\t Jairzinho      &  9 & Brazil & 3\\\\\n\t Rivelino       &  6 & Brazil & 3\\\\\n\t Garrincha      &  5 & Brazil & 3\\\\\n\t Didi           &  3 & Brazil & 3\\\\\n\t Dirceu         &  3 & Brazil & 3\\\\\n\t Branco         &  1 & Brazil & 3\\\\\n\t Roberto Carlos &  1 & Brazil & 3\\\\\n\t Kaka           &  1 & Brazil & 3\\\\\n\t Nilton Santos  &  1 & Brazil & 3\\\\\n\\end{tabular}\n",
            "text/plain": [
              "   Player         Goals Country years_count\n",
              "1  Ronaldo        15    Brazil  3          \n",
              "2  Jairzinho       9    Brazil  3          \n",
              "3  Rivelino        6    Brazil  3          \n",
              "4  Garrincha       5    Brazil  3          \n",
              "5  Didi            3    Brazil  3          \n",
              "6  Dirceu          3    Brazil  3          \n",
              "7  Branco          1    Brazil  3          \n",
              "8  Roberto Carlos  1    Brazil  3          \n",
              "9  Kaka            1    Brazil  3          \n",
              "10 Nilton Santos   1    Brazil  3          "
            ]
          },
          "metadata": {}
        }
      ],
      "source": [
        "wc  %>%  filter(Country==\"Brazil\", years_count==3 )   %>%  select (Player,Goals,Country,years_count )"
      ]
    }
  ],
  "metadata": {
    "kernelspec": {
      "display_name": "R",
      "language": "R",
      "name": "ir"
    },
    "language_info": {
      "codemirror_mode": "r",
      "file_extension": ".r",
      "mimetype": "text/x-r-source",
      "name": "R",
      "pygments_lexer": "r",
      "version": "3.6.1"
    },
    "toc": {
      "base_numbering": 1,
      "nav_menu": {},
      "number_sections": true,
      "sideBar": true,
      "skip_h1_title": false,
      "title_cell": "Table of Contents",
      "title_sidebar": "Contents",
      "toc_cell": false,
      "toc_position": {},
      "toc_section_display": true,
      "toc_window_display": false
    },
    "colab": {
      "name": "20220501_worldcupgoals_답.ipynb",
      "provenance": []
    }
  },
  "nbformat": 4,
  "nbformat_minor": 0
}
