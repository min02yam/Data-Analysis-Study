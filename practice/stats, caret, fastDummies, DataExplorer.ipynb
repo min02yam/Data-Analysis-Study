{
  "nbformat": 4,
  "nbformat_minor": 0,
  "metadata": {
    "colab": {
      "name": "Untitled23.ipynb",
      "provenance": [],
      "authorship_tag": "ABX9TyMh7XvTDcgHXHC2HvygXCqn",
      "include_colab_link": true
    },
    "kernelspec": {
      "name": "ir",
      "display_name": "R"
    },
    "language_info": {
      "name": "R"
    }
  },
  "cells": [
    {
      "cell_type": "markdown",
      "metadata": {
        "id": "view-in-github",
        "colab_type": "text"
      },
      "source": [
        "<a href=\"https://colab.research.google.com/github/min02yam/R-study/blob/main/%EC%97%B0%EC%8A%B5/stats%2C%20caret%2C%20fastDummies%2C%20DataExplorer.ipynb\" target=\"_parent\"><img src=\"https://colab.research.google.com/assets/colab-badge.svg\" alt=\"Open In Colab\"/></a>"
      ]
    },
    {
      "cell_type": "markdown",
      "source": [
        "**caret** <br>\n",
        "3.Pre-Processing을 공부하면서<br>\n",
        "더미코딩(less than full rank parameterized)과 \n",
        "원핫인코딩(a full set of dummy variables) 정리<br>\n",
        "2022.06.13\n",
        "\n",
        "1. `stats`::model.matrix (더미코딩)\n",
        "     - intercept 생성\n",
        "2. `caret`::dummyVars (디폴트:원핫인코딩/ 더미코딩)\n",
        "    - predict으로 생성해야 함, fullRank = FALSE\n",
        "3. `fastDummies`:: dummy_cols (디폴트:원핫인코딩/ 더미코딩)\n",
        "    - dummy_rows 가능 , remove_first_dummy=  FALSE\n",
        "    - select_columns 특정 열만\n",
        "    - remove_selected_columns=FALSE 대상 변수 살림\n",
        "4. `DataExplorer`::dummify ( 원핫인코딩)\n",
        "    - maxcat 맥스 카테고리 개수 \n",
        "    - select 변수선택\n",
        "5. 결론\n",
        "- 원핫인코딩 -> DataExplorer가 제일 빠름\n",
        "- 여러 옵션 주고싶을 때 -> fastDummies\n",
        "- "
      ],
      "metadata": {
        "id": "60ov11HBsImP"
      }
    },
    {
      "cell_type": "code",
      "source": [
        "#install.packages(\"caret\")\n",
        "#install.packages(c(\"tidyverse\",\"pacman\"))\n",
        "#install.packages(c(\"dplyr\",\"DataExplorer\",\"skimr\"))\n",
        "#pacman::p_load(\"tidyverse\", \"DataExplorer\",\"skimr\")\n",
        "library(caret)"
      ],
      "metadata": {
        "colab": {
          "base_uri": "https://localhost:8080/"
        },
        "id": "8vhYe3Dv0oJS",
        "outputId": "cf87a1bc-74a2-4d77-e98d-126d615638b1"
      },
      "execution_count": 15,
      "outputs": [
        {
          "output_type": "stream",
          "name": "stderr",
          "text": [
            "Loading required package: lattice\n",
            "\n",
            "\n",
            "Attaching package: ‘caret’\n",
            "\n",
            "\n",
            "The following object is masked from ‘package:purrr’:\n",
            "\n",
            "    lift\n",
            "\n",
            "\n"
          ]
        }
      ]
    },
    {
      "cell_type": "markdown",
      "source": [
        "# 1. stats:: dummyVars"
      ],
      "metadata": {
        "id": "8aujtivh0Pk8"
      }
    },
    {
      "cell_type": "code",
      "execution_count": 4,
      "metadata": {
        "id": "0N7NyqZ5sE8h"
      },
      "outputs": [],
      "source": [
        "#데이터 로드\n",
        "#install.packages(\"earth\")\n",
        "df=earth::etitanic"
      ]
    },
    {
      "cell_type": "code",
      "source": [
        "#간단 구조 확인\n",
        "skim(df)"
      ],
      "metadata": {
        "colab": {
          "base_uri": "https://localhost:8080/"
        },
        "id": "mqSPqgt6184C",
        "outputId": "72a6a08c-699c-421b-e987-da9de97555bd"
      },
      "execution_count": 9,
      "outputs": [
        {
          "output_type": "stream",
          "name": "stdout",
          "text": [
            "── Data Summary ────────────────────────\n",
            "                           Values\n",
            "Name                       df    \n",
            "Number of rows             1046  \n",
            "Number of columns          6     \n",
            "_______________________          \n",
            "Column type frequency:           \n",
            "  factor                   2     \n",
            "  numeric                  4     \n",
            "________________________         \n",
            "Group variables            None  \n",
            "\n",
            "── Variable type: factor ───────────────────────────────────────────────────────\n",
            "  skim_variable n_missing complete_rate ordered n_unique\n",
            "\u001b[90m1\u001b[39m pclass                0             1 FALSE          3\n",
            "\u001b[90m2\u001b[39m sex                   0             1 FALSE          2\n",
            "  top_counts                  \n",
            "\u001b[90m1\u001b[39m 3rd: 501, 1st: 284, 2nd: 261\n",
            "\u001b[90m2\u001b[39m mal: 658, fem: 388          \n",
            "\n",
            "── Variable type: numeric ──────────────────────────────────────────────────────\n",
            "  skim_variable n_missing complete_rate   mean     sd    p0 p25 p50 p75 p100\n",
            "\u001b[90m1\u001b[39m survived              0             1  0.408  0.492 0       0   0   1    1\n",
            "\u001b[90m2\u001b[39m age                   0             1 29.9   14.4   0.167  21  28  39   80\n",
            "\u001b[90m3\u001b[39m sibsp                 0             1  0.503  0.912 0       0   0   1    8\n",
            "\u001b[90m4\u001b[39m parch                 0             1  0.421  0.840 0       0   0   1    6\n",
            "  hist \n",
            "\u001b[90m1\u001b[39m ▇▁▁▁▆\n",
            "\u001b[90m2\u001b[39m ▂▇▅▂▁\n",
            "\u001b[90m3\u001b[39m ▇▁▁▁▁\n",
            "\u001b[90m4\u001b[39m ▇▁▁▁▁\n"
          ]
        },
        {
          "output_type": "stream",
          "name": "stderr",
          "text": [
            "Warning message in is.null(text_repr) || nchar(text_repr) == 0L:\n",
            "“'length(x) = 2 > 1' in coercion to 'logical(1)'”\n"
          ]
        }
      ]
    },
    {
      "cell_type": "code",
      "source": [
        "#베이직\n",
        "stats::model.matrix(survived ~ ., df) %>% head"
      ],
      "metadata": {
        "colab": {
          "base_uri": "https://localhost:8080/",
          "height": 255
        },
        "id": "BtoMTLQw1yeY",
        "outputId": "58db8b98-4c48-46ff-92d5-de639ce55556"
      },
      "execution_count": 12,
      "outputs": [
        {
          "output_type": "display_data",
          "data": {
            "text/html": [
              "<table class=\"dataframe\">\n",
              "<caption>A matrix: 6 × 7 of type dbl</caption>\n",
              "<thead>\n",
              "\t<tr><th></th><th scope=col>(Intercept)</th><th scope=col>pclass2nd</th><th scope=col>pclass3rd</th><th scope=col>sexmale</th><th scope=col>age</th><th scope=col>sibsp</th><th scope=col>parch</th></tr>\n",
              "</thead>\n",
              "<tbody>\n",
              "\t<tr><th scope=row>1</th><td>1</td><td>0</td><td>0</td><td>0</td><td>29.0000</td><td>0</td><td>0</td></tr>\n",
              "\t<tr><th scope=row>2</th><td>1</td><td>0</td><td>0</td><td>1</td><td> 0.9167</td><td>1</td><td>2</td></tr>\n",
              "\t<tr><th scope=row>3</th><td>1</td><td>0</td><td>0</td><td>0</td><td> 2.0000</td><td>1</td><td>2</td></tr>\n",
              "\t<tr><th scope=row>4</th><td>1</td><td>0</td><td>0</td><td>1</td><td>30.0000</td><td>1</td><td>2</td></tr>\n",
              "\t<tr><th scope=row>5</th><td>1</td><td>0</td><td>0</td><td>0</td><td>25.0000</td><td>1</td><td>2</td></tr>\n",
              "\t<tr><th scope=row>6</th><td>1</td><td>0</td><td>0</td><td>1</td><td>48.0000</td><td>0</td><td>0</td></tr>\n",
              "</tbody>\n",
              "</table>\n"
            ],
            "text/markdown": "\nA matrix: 6 × 7 of type dbl\n\n| <!--/--> | (Intercept) | pclass2nd | pclass3rd | sexmale | age | sibsp | parch |\n|---|---|---|---|---|---|---|---|\n| 1 | 1 | 0 | 0 | 0 | 29.0000 | 0 | 0 |\n| 2 | 1 | 0 | 0 | 1 |  0.9167 | 1 | 2 |\n| 3 | 1 | 0 | 0 | 0 |  2.0000 | 1 | 2 |\n| 4 | 1 | 0 | 0 | 1 | 30.0000 | 1 | 2 |\n| 5 | 1 | 0 | 0 | 0 | 25.0000 | 1 | 2 |\n| 6 | 1 | 0 | 0 | 1 | 48.0000 | 0 | 0 |\n\n",
            "text/latex": "A matrix: 6 × 7 of type dbl\n\\begin{tabular}{r|lllllll}\n  & (Intercept) & pclass2nd & pclass3rd & sexmale & age & sibsp & parch\\\\\n\\hline\n\t1 & 1 & 0 & 0 & 0 & 29.0000 & 0 & 0\\\\\n\t2 & 1 & 0 & 0 & 1 &  0.9167 & 1 & 2\\\\\n\t3 & 1 & 0 & 0 & 0 &  2.0000 & 1 & 2\\\\\n\t4 & 1 & 0 & 0 & 1 & 30.0000 & 1 & 2\\\\\n\t5 & 1 & 0 & 0 & 0 & 25.0000 & 1 & 2\\\\\n\t6 & 1 & 0 & 0 & 1 & 48.0000 & 0 & 0\\\\\n\\end{tabular}\n",
            "text/plain": [
              "  (Intercept) pclass2nd pclass3rd sexmale age     sibsp parch\n",
              "1 1           0         0         0       29.0000 0     0    \n",
              "2 1           0         0         1        0.9167 1     2    \n",
              "3 1           0         0         0        2.0000 1     2    \n",
              "4 1           0         0         1       30.0000 1     2    \n",
              "5 1           0         0         0       25.0000 1     2    \n",
              "6 1           0         0         1       48.0000 0     0    "
            ]
          },
          "metadata": {}
        }
      ]
    },
    {
      "cell_type": "markdown",
      "source": [
        "# 2. caret::dummyVars사용"
      ],
      "metadata": {
        "id": "LpqCwChG6qL2"
      }
    },
    {
      "cell_type": "code",
      "source": [
        "#caret::dummyVars사용\n",
        "dmy= caret::dummyVars(survived~., df)\n",
        "predict(dmy, newdata=df) %>% head"
      ],
      "metadata": {
        "colab": {
          "base_uri": "https://localhost:8080/",
          "height": 255
        },
        "id": "8N8rylD52Wuq",
        "outputId": "c6f21583-518b-480f-ade3-7d0e98f303b0"
      },
      "execution_count": 19,
      "outputs": [
        {
          "output_type": "display_data",
          "data": {
            "text/html": [
              "<table class=\"dataframe\">\n",
              "<caption>A matrix: 6 × 8 of type dbl</caption>\n",
              "<thead>\n",
              "\t<tr><th></th><th scope=col>pclass.1st</th><th scope=col>pclass.2nd</th><th scope=col>pclass.3rd</th><th scope=col>sex.female</th><th scope=col>sex.male</th><th scope=col>age</th><th scope=col>sibsp</th><th scope=col>parch</th></tr>\n",
              "</thead>\n",
              "<tbody>\n",
              "\t<tr><th scope=row>1</th><td>1</td><td>0</td><td>0</td><td>1</td><td>0</td><td>29.0000</td><td>0</td><td>0</td></tr>\n",
              "\t<tr><th scope=row>2</th><td>1</td><td>0</td><td>0</td><td>0</td><td>1</td><td> 0.9167</td><td>1</td><td>2</td></tr>\n",
              "\t<tr><th scope=row>3</th><td>1</td><td>0</td><td>0</td><td>1</td><td>0</td><td> 2.0000</td><td>1</td><td>2</td></tr>\n",
              "\t<tr><th scope=row>4</th><td>1</td><td>0</td><td>0</td><td>0</td><td>1</td><td>30.0000</td><td>1</td><td>2</td></tr>\n",
              "\t<tr><th scope=row>5</th><td>1</td><td>0</td><td>0</td><td>1</td><td>0</td><td>25.0000</td><td>1</td><td>2</td></tr>\n",
              "\t<tr><th scope=row>6</th><td>1</td><td>0</td><td>0</td><td>0</td><td>1</td><td>48.0000</td><td>0</td><td>0</td></tr>\n",
              "</tbody>\n",
              "</table>\n"
            ],
            "text/markdown": "\nA matrix: 6 × 8 of type dbl\n\n| <!--/--> | pclass.1st | pclass.2nd | pclass.3rd | sex.female | sex.male | age | sibsp | parch |\n|---|---|---|---|---|---|---|---|---|\n| 1 | 1 | 0 | 0 | 1 | 0 | 29.0000 | 0 | 0 |\n| 2 | 1 | 0 | 0 | 0 | 1 |  0.9167 | 1 | 2 |\n| 3 | 1 | 0 | 0 | 1 | 0 |  2.0000 | 1 | 2 |\n| 4 | 1 | 0 | 0 | 0 | 1 | 30.0000 | 1 | 2 |\n| 5 | 1 | 0 | 0 | 1 | 0 | 25.0000 | 1 | 2 |\n| 6 | 1 | 0 | 0 | 0 | 1 | 48.0000 | 0 | 0 |\n\n",
            "text/latex": "A matrix: 6 × 8 of type dbl\n\\begin{tabular}{r|llllllll}\n  & pclass.1st & pclass.2nd & pclass.3rd & sex.female & sex.male & age & sibsp & parch\\\\\n\\hline\n\t1 & 1 & 0 & 0 & 1 & 0 & 29.0000 & 0 & 0\\\\\n\t2 & 1 & 0 & 0 & 0 & 1 &  0.9167 & 1 & 2\\\\\n\t3 & 1 & 0 & 0 & 1 & 0 &  2.0000 & 1 & 2\\\\\n\t4 & 1 & 0 & 0 & 0 & 1 & 30.0000 & 1 & 2\\\\\n\t5 & 1 & 0 & 0 & 1 & 0 & 25.0000 & 1 & 2\\\\\n\t6 & 1 & 0 & 0 & 0 & 1 & 48.0000 & 0 & 0\\\\\n\\end{tabular}\n",
            "text/plain": [
              "  pclass.1st pclass.2nd pclass.3rd sex.female sex.male age     sibsp parch\n",
              "1 1          0          0          1          0        29.0000 0     0    \n",
              "2 1          0          0          0          1         0.9167 1     2    \n",
              "3 1          0          0          1          0         2.0000 1     2    \n",
              "4 1          0          0          0          1        30.0000 1     2    \n",
              "5 1          0          0          1          0        25.0000 1     2    \n",
              "6 1          0          0          0          1        48.0000 0     0    "
            ]
          },
          "metadata": {}
        }
      ]
    },
    {
      "cell_type": "code",
      "source": [
        "dmy= caret::dummyVars(survived~., data=df, fullRank = TRUE  )\n",
        "predict(dmy, newdata=df) %>% head"
      ],
      "metadata": {
        "colab": {
          "base_uri": "https://localhost:8080/",
          "height": 255
        },
        "id": "x_I7cF1959zv",
        "outputId": "6df33452-bd43-48a9-a970-4edf7dce454a"
      },
      "execution_count": 22,
      "outputs": [
        {
          "output_type": "display_data",
          "data": {
            "text/html": [
              "<table class=\"dataframe\">\n",
              "<caption>A matrix: 6 × 6 of type dbl</caption>\n",
              "<thead>\n",
              "\t<tr><th></th><th scope=col>pclass.2nd</th><th scope=col>pclass.3rd</th><th scope=col>sex.male</th><th scope=col>age</th><th scope=col>sibsp</th><th scope=col>parch</th></tr>\n",
              "</thead>\n",
              "<tbody>\n",
              "\t<tr><th scope=row>1</th><td>0</td><td>0</td><td>0</td><td>29.0000</td><td>0</td><td>0</td></tr>\n",
              "\t<tr><th scope=row>2</th><td>0</td><td>0</td><td>1</td><td> 0.9167</td><td>1</td><td>2</td></tr>\n",
              "\t<tr><th scope=row>3</th><td>0</td><td>0</td><td>0</td><td> 2.0000</td><td>1</td><td>2</td></tr>\n",
              "\t<tr><th scope=row>4</th><td>0</td><td>0</td><td>1</td><td>30.0000</td><td>1</td><td>2</td></tr>\n",
              "\t<tr><th scope=row>5</th><td>0</td><td>0</td><td>0</td><td>25.0000</td><td>1</td><td>2</td></tr>\n",
              "\t<tr><th scope=row>6</th><td>0</td><td>0</td><td>1</td><td>48.0000</td><td>0</td><td>0</td></tr>\n",
              "</tbody>\n",
              "</table>\n"
            ],
            "text/markdown": "\nA matrix: 6 × 6 of type dbl\n\n| <!--/--> | pclass.2nd | pclass.3rd | sex.male | age | sibsp | parch |\n|---|---|---|---|---|---|---|\n| 1 | 0 | 0 | 0 | 29.0000 | 0 | 0 |\n| 2 | 0 | 0 | 1 |  0.9167 | 1 | 2 |\n| 3 | 0 | 0 | 0 |  2.0000 | 1 | 2 |\n| 4 | 0 | 0 | 1 | 30.0000 | 1 | 2 |\n| 5 | 0 | 0 | 0 | 25.0000 | 1 | 2 |\n| 6 | 0 | 0 | 1 | 48.0000 | 0 | 0 |\n\n",
            "text/latex": "A matrix: 6 × 6 of type dbl\n\\begin{tabular}{r|llllll}\n  & pclass.2nd & pclass.3rd & sex.male & age & sibsp & parch\\\\\n\\hline\n\t1 & 0 & 0 & 0 & 29.0000 & 0 & 0\\\\\n\t2 & 0 & 0 & 1 &  0.9167 & 1 & 2\\\\\n\t3 & 0 & 0 & 0 &  2.0000 & 1 & 2\\\\\n\t4 & 0 & 0 & 1 & 30.0000 & 1 & 2\\\\\n\t5 & 0 & 0 & 0 & 25.0000 & 1 & 2\\\\\n\t6 & 0 & 0 & 1 & 48.0000 & 0 & 0\\\\\n\\end{tabular}\n",
            "text/plain": [
              "  pclass.2nd pclass.3rd sex.male age     sibsp parch\n",
              "1 0          0          0        29.0000 0     0    \n",
              "2 0          0          1         0.9167 1     2    \n",
              "3 0          0          0         2.0000 1     2    \n",
              "4 0          0          1        30.0000 1     2    \n",
              "5 0          0          0        25.0000 1     2    \n",
              "6 0          0          1        48.0000 0     0    "
            ]
          },
          "metadata": {}
        }
      ]
    },
    {
      "cell_type": "markdown",
      "source": [
        "# 3. fastDummies"
      ],
      "metadata": {
        "id": "vQ0LSXRq6oID"
      }
    },
    {
      "cell_type": "code",
      "source": [
        "install.packages(\"fastDummies\")\n",
        "library(fastDummies)"
      ],
      "metadata": {
        "colab": {
          "base_uri": "https://localhost:8080/"
        },
        "id": "pWSt8O9r5iHh",
        "outputId": "9f292694-6b89-4e1d-a816-a59a2f90c632"
      },
      "execution_count": 23,
      "outputs": [
        {
          "output_type": "stream",
          "name": "stderr",
          "text": [
            "Installing package into ‘/usr/local/lib/R/site-library’\n",
            "(as ‘lib’ is unspecified)\n",
            "\n"
          ]
        }
      ]
    },
    {
      "cell_type": "code",
      "source": [
        "#행에 만들수도 있음 \n",
        "dummy_rows(df) %>% head"
      ],
      "metadata": {
        "colab": {
          "base_uri": "https://localhost:8080/",
          "height": 286
        },
        "id": "kZhHdneP5Dlc",
        "outputId": "040b9d7a-d534-491a-d70e-fa7d99f7a38b"
      },
      "execution_count": 25,
      "outputs": [
        {
          "output_type": "display_data",
          "data": {
            "text/html": [
              "<table class=\"dataframe\">\n",
              "<caption>A data.frame: 6 × 6</caption>\n",
              "<thead>\n",
              "\t<tr><th></th><th scope=col>pclass</th><th scope=col>survived</th><th scope=col>sex</th><th scope=col>age</th><th scope=col>sibsp</th><th scope=col>parch</th></tr>\n",
              "\t<tr><th></th><th scope=col>&lt;fct&gt;</th><th scope=col>&lt;int&gt;</th><th scope=col>&lt;fct&gt;</th><th scope=col>&lt;dbl&gt;</th><th scope=col>&lt;int&gt;</th><th scope=col>&lt;int&gt;</th></tr>\n",
              "</thead>\n",
              "<tbody>\n",
              "\t<tr><th scope=row>1</th><td>1st</td><td>1</td><td>female</td><td>29.0000</td><td>0</td><td>0</td></tr>\n",
              "\t<tr><th scope=row>2</th><td>1st</td><td>1</td><td>male  </td><td> 0.9167</td><td>1</td><td>2</td></tr>\n",
              "\t<tr><th scope=row>3</th><td>1st</td><td>0</td><td>female</td><td> 2.0000</td><td>1</td><td>2</td></tr>\n",
              "\t<tr><th scope=row>4</th><td>1st</td><td>0</td><td>male  </td><td>30.0000</td><td>1</td><td>2</td></tr>\n",
              "\t<tr><th scope=row>5</th><td>1st</td><td>0</td><td>female</td><td>25.0000</td><td>1</td><td>2</td></tr>\n",
              "\t<tr><th scope=row>6</th><td>1st</td><td>1</td><td>male  </td><td>48.0000</td><td>0</td><td>0</td></tr>\n",
              "</tbody>\n",
              "</table>\n"
            ],
            "text/markdown": "\nA data.frame: 6 × 6\n\n| <!--/--> | pclass &lt;fct&gt; | survived &lt;int&gt; | sex &lt;fct&gt; | age &lt;dbl&gt; | sibsp &lt;int&gt; | parch &lt;int&gt; |\n|---|---|---|---|---|---|---|\n| 1 | 1st | 1 | female | 29.0000 | 0 | 0 |\n| 2 | 1st | 1 | male   |  0.9167 | 1 | 2 |\n| 3 | 1st | 0 | female |  2.0000 | 1 | 2 |\n| 4 | 1st | 0 | male   | 30.0000 | 1 | 2 |\n| 5 | 1st | 0 | female | 25.0000 | 1 | 2 |\n| 6 | 1st | 1 | male   | 48.0000 | 0 | 0 |\n\n",
            "text/latex": "A data.frame: 6 × 6\n\\begin{tabular}{r|llllll}\n  & pclass & survived & sex & age & sibsp & parch\\\\\n  & <fct> & <int> & <fct> & <dbl> & <int> & <int>\\\\\n\\hline\n\t1 & 1st & 1 & female & 29.0000 & 0 & 0\\\\\n\t2 & 1st & 1 & male   &  0.9167 & 1 & 2\\\\\n\t3 & 1st & 0 & female &  2.0000 & 1 & 2\\\\\n\t4 & 1st & 0 & male   & 30.0000 & 1 & 2\\\\\n\t5 & 1st & 0 & female & 25.0000 & 1 & 2\\\\\n\t6 & 1st & 1 & male   & 48.0000 & 0 & 0\\\\\n\\end{tabular}\n",
            "text/plain": [
              "  pclass survived sex    age     sibsp parch\n",
              "1 1st    1        female 29.0000 0     0    \n",
              "2 1st    1        male    0.9167 1     2    \n",
              "3 1st    0        female  2.0000 1     2    \n",
              "4 1st    0        male   30.0000 1     2    \n",
              "5 1st    0        female 25.0000 1     2    \n",
              "6 1st    1        male   48.0000 0     0    "
            ]
          },
          "metadata": {}
        }
      ]
    },
    {
      "cell_type": "code",
      "source": [
        "dummy_rows(.data=df,select_columns = c(\"pclass\", \"sex\") )   %>% tail  "
      ],
      "metadata": {
        "colab": {
          "base_uri": "https://localhost:8080/",
          "height": 286
        },
        "id": "ZycsqUr07wdm",
        "outputId": "060f1427-74a1-4ab2-d5e2-11e48e91e47c"
      },
      "execution_count": 35,
      "outputs": [
        {
          "output_type": "display_data",
          "data": {
            "text/html": [
              "<table class=\"dataframe\">\n",
              "<caption>A data.frame: 6 × 6</caption>\n",
              "<thead>\n",
              "\t<tr><th></th><th scope=col>pclass</th><th scope=col>survived</th><th scope=col>sex</th><th scope=col>age</th><th scope=col>sibsp</th><th scope=col>parch</th></tr>\n",
              "\t<tr><th></th><th scope=col>&lt;fct&gt;</th><th scope=col>&lt;int&gt;</th><th scope=col>&lt;fct&gt;</th><th scope=col>&lt;dbl&gt;</th><th scope=col>&lt;int&gt;</th><th scope=col>&lt;int&gt;</th></tr>\n",
              "</thead>\n",
              "<tbody>\n",
              "\t<tr><th scope=row>1041</th><td>3rd</td><td>1</td><td>female</td><td>15.0</td><td>1</td><td>0</td></tr>\n",
              "\t<tr><th scope=row>1042</th><td>3rd</td><td>0</td><td>male  </td><td>45.5</td><td>0</td><td>0</td></tr>\n",
              "\t<tr><th scope=row>1043</th><td>3rd</td><td>0</td><td>female</td><td>14.5</td><td>1</td><td>0</td></tr>\n",
              "\t<tr><th scope=row>1044</th><td>3rd</td><td>0</td><td>male  </td><td>26.5</td><td>0</td><td>0</td></tr>\n",
              "\t<tr><th scope=row>1045</th><td>3rd</td><td>0</td><td>male  </td><td>27.0</td><td>0</td><td>0</td></tr>\n",
              "\t<tr><th scope=row>1046</th><td>3rd</td><td>0</td><td>male  </td><td>29.0</td><td>0</td><td>0</td></tr>\n",
              "</tbody>\n",
              "</table>\n"
            ],
            "text/markdown": "\nA data.frame: 6 × 6\n\n| <!--/--> | pclass &lt;fct&gt; | survived &lt;int&gt; | sex &lt;fct&gt; | age &lt;dbl&gt; | sibsp &lt;int&gt; | parch &lt;int&gt; |\n|---|---|---|---|---|---|---|\n| 1041 | 3rd | 1 | female | 15.0 | 1 | 0 |\n| 1042 | 3rd | 0 | male   | 45.5 | 0 | 0 |\n| 1043 | 3rd | 0 | female | 14.5 | 1 | 0 |\n| 1044 | 3rd | 0 | male   | 26.5 | 0 | 0 |\n| 1045 | 3rd | 0 | male   | 27.0 | 0 | 0 |\n| 1046 | 3rd | 0 | male   | 29.0 | 0 | 0 |\n\n",
            "text/latex": "A data.frame: 6 × 6\n\\begin{tabular}{r|llllll}\n  & pclass & survived & sex & age & sibsp & parch\\\\\n  & <fct> & <int> & <fct> & <dbl> & <int> & <int>\\\\\n\\hline\n\t1041 & 3rd & 1 & female & 15.0 & 1 & 0\\\\\n\t1042 & 3rd & 0 & male   & 45.5 & 0 & 0\\\\\n\t1043 & 3rd & 0 & female & 14.5 & 1 & 0\\\\\n\t1044 & 3rd & 0 & male   & 26.5 & 0 & 0\\\\\n\t1045 & 3rd & 0 & male   & 27.0 & 0 & 0\\\\\n\t1046 & 3rd & 0 & male   & 29.0 & 0 & 0\\\\\n\\end{tabular}\n",
            "text/plain": [
              "     pclass survived sex    age  sibsp parch\n",
              "1041 3rd    1        female 15.0 1     0    \n",
              "1042 3rd    0        male   45.5 0     0    \n",
              "1043 3rd    0        female 14.5 1     0    \n",
              "1044 3rd    0        male   26.5 0     0    \n",
              "1045 3rd    0        male   27.0 0     0    \n",
              "1046 3rd    0        male   29.0 0     0    "
            ]
          },
          "metadata": {}
        }
      ]
    },
    {
      "cell_type": "code",
      "source": [
        "dummy_cols(.data= df, remove_first_dummy=  FALSE, remove_selected_columns=TRUE )    %>% head #원핫인코딩\n",
        "#지정 안하면 팩터 모두 변형\n",
        "#remove_first_dummy=  FALSE\n",
        "#remove_selected_columns=TRUE"
      ],
      "metadata": {
        "colab": {
          "base_uri": "https://localhost:8080/",
          "height": 286
        },
        "id": "OMEPvlZk8RXi",
        "outputId": "0f7ef7ec-7dd2-4b63-a69e-aab46bc130fa"
      },
      "execution_count": 46,
      "outputs": [
        {
          "output_type": "display_data",
          "data": {
            "text/html": [
              "<table class=\"dataframe\">\n",
              "<caption>A data.frame: 6 × 9</caption>\n",
              "<thead>\n",
              "\t<tr><th></th><th scope=col>survived</th><th scope=col>age</th><th scope=col>sibsp</th><th scope=col>parch</th><th scope=col>pclass_1st</th><th scope=col>pclass_2nd</th><th scope=col>pclass_3rd</th><th scope=col>sex_female</th><th scope=col>sex_male</th></tr>\n",
              "\t<tr><th></th><th scope=col>&lt;int&gt;</th><th scope=col>&lt;dbl&gt;</th><th scope=col>&lt;int&gt;</th><th scope=col>&lt;int&gt;</th><th scope=col>&lt;int&gt;</th><th scope=col>&lt;int&gt;</th><th scope=col>&lt;int&gt;</th><th scope=col>&lt;int&gt;</th><th scope=col>&lt;int&gt;</th></tr>\n",
              "</thead>\n",
              "<tbody>\n",
              "\t<tr><th scope=row>1</th><td>1</td><td>29.0000</td><td>0</td><td>0</td><td>1</td><td>0</td><td>0</td><td>1</td><td>0</td></tr>\n",
              "\t<tr><th scope=row>2</th><td>1</td><td> 0.9167</td><td>1</td><td>2</td><td>1</td><td>0</td><td>0</td><td>0</td><td>1</td></tr>\n",
              "\t<tr><th scope=row>3</th><td>0</td><td> 2.0000</td><td>1</td><td>2</td><td>1</td><td>0</td><td>0</td><td>1</td><td>0</td></tr>\n",
              "\t<tr><th scope=row>4</th><td>0</td><td>30.0000</td><td>1</td><td>2</td><td>1</td><td>0</td><td>0</td><td>0</td><td>1</td></tr>\n",
              "\t<tr><th scope=row>5</th><td>0</td><td>25.0000</td><td>1</td><td>2</td><td>1</td><td>0</td><td>0</td><td>1</td><td>0</td></tr>\n",
              "\t<tr><th scope=row>6</th><td>1</td><td>48.0000</td><td>0</td><td>0</td><td>1</td><td>0</td><td>0</td><td>0</td><td>1</td></tr>\n",
              "</tbody>\n",
              "</table>\n"
            ],
            "text/markdown": "\nA data.frame: 6 × 9\n\n| <!--/--> | survived &lt;int&gt; | age &lt;dbl&gt; | sibsp &lt;int&gt; | parch &lt;int&gt; | pclass_1st &lt;int&gt; | pclass_2nd &lt;int&gt; | pclass_3rd &lt;int&gt; | sex_female &lt;int&gt; | sex_male &lt;int&gt; |\n|---|---|---|---|---|---|---|---|---|---|\n| 1 | 1 | 29.0000 | 0 | 0 | 1 | 0 | 0 | 1 | 0 |\n| 2 | 1 |  0.9167 | 1 | 2 | 1 | 0 | 0 | 0 | 1 |\n| 3 | 0 |  2.0000 | 1 | 2 | 1 | 0 | 0 | 1 | 0 |\n| 4 | 0 | 30.0000 | 1 | 2 | 1 | 0 | 0 | 0 | 1 |\n| 5 | 0 | 25.0000 | 1 | 2 | 1 | 0 | 0 | 1 | 0 |\n| 6 | 1 | 48.0000 | 0 | 0 | 1 | 0 | 0 | 0 | 1 |\n\n",
            "text/latex": "A data.frame: 6 × 9\n\\begin{tabular}{r|lllllllll}\n  & survived & age & sibsp & parch & pclass\\_1st & pclass\\_2nd & pclass\\_3rd & sex\\_female & sex\\_male\\\\\n  & <int> & <dbl> & <int> & <int> & <int> & <int> & <int> & <int> & <int>\\\\\n\\hline\n\t1 & 1 & 29.0000 & 0 & 0 & 1 & 0 & 0 & 1 & 0\\\\\n\t2 & 1 &  0.9167 & 1 & 2 & 1 & 0 & 0 & 0 & 1\\\\\n\t3 & 0 &  2.0000 & 1 & 2 & 1 & 0 & 0 & 1 & 0\\\\\n\t4 & 0 & 30.0000 & 1 & 2 & 1 & 0 & 0 & 0 & 1\\\\\n\t5 & 0 & 25.0000 & 1 & 2 & 1 & 0 & 0 & 1 & 0\\\\\n\t6 & 1 & 48.0000 & 0 & 0 & 1 & 0 & 0 & 0 & 1\\\\\n\\end{tabular}\n",
            "text/plain": [
              "  survived age     sibsp parch pclass_1st pclass_2nd pclass_3rd sex_female\n",
              "1 1        29.0000 0     0     1          0          0          1         \n",
              "2 1         0.9167 1     2     1          0          0          0         \n",
              "3 0         2.0000 1     2     1          0          0          1         \n",
              "4 0        30.0000 1     2     1          0          0          0         \n",
              "5 0        25.0000 1     2     1          0          0          1         \n",
              "6 1        48.0000 0     0     1          0          0          0         \n",
              "  sex_male\n",
              "1 0       \n",
              "2 1       \n",
              "3 0       \n",
              "4 1       \n",
              "5 0       \n",
              "6 1       "
            ]
          },
          "metadata": {}
        }
      ]
    },
    {
      "cell_type": "code",
      "source": [
        "dummy_cols(.data= df, remove_first_dummy=  FALSE, remove_selected_columns=FALSE )  %>% head"
      ],
      "metadata": {
        "colab": {
          "base_uri": "https://localhost:8080/",
          "height": 286
        },
        "id": "4G9n28jS8pf_",
        "outputId": "ecc40d1f-0ff4-4db9-f7ad-9ff96d271fb7"
      },
      "execution_count": 40,
      "outputs": [
        {
          "output_type": "display_data",
          "data": {
            "text/html": [
              "<table class=\"dataframe\">\n",
              "<caption>A data.frame: 6 × 11</caption>\n",
              "<thead>\n",
              "\t<tr><th></th><th scope=col>pclass</th><th scope=col>survived</th><th scope=col>sex</th><th scope=col>age</th><th scope=col>sibsp</th><th scope=col>parch</th><th scope=col>pclass_1st</th><th scope=col>pclass_2nd</th><th scope=col>pclass_3rd</th><th scope=col>sex_female</th><th scope=col>sex_male</th></tr>\n",
              "\t<tr><th></th><th scope=col>&lt;fct&gt;</th><th scope=col>&lt;int&gt;</th><th scope=col>&lt;fct&gt;</th><th scope=col>&lt;dbl&gt;</th><th scope=col>&lt;int&gt;</th><th scope=col>&lt;int&gt;</th><th scope=col>&lt;int&gt;</th><th scope=col>&lt;int&gt;</th><th scope=col>&lt;int&gt;</th><th scope=col>&lt;int&gt;</th><th scope=col>&lt;int&gt;</th></tr>\n",
              "</thead>\n",
              "<tbody>\n",
              "\t<tr><th scope=row>1</th><td>1st</td><td>1</td><td>female</td><td>29.0000</td><td>0</td><td>0</td><td>1</td><td>0</td><td>0</td><td>1</td><td>0</td></tr>\n",
              "\t<tr><th scope=row>2</th><td>1st</td><td>1</td><td>male  </td><td> 0.9167</td><td>1</td><td>2</td><td>1</td><td>0</td><td>0</td><td>0</td><td>1</td></tr>\n",
              "\t<tr><th scope=row>3</th><td>1st</td><td>0</td><td>female</td><td> 2.0000</td><td>1</td><td>2</td><td>1</td><td>0</td><td>0</td><td>1</td><td>0</td></tr>\n",
              "\t<tr><th scope=row>4</th><td>1st</td><td>0</td><td>male  </td><td>30.0000</td><td>1</td><td>2</td><td>1</td><td>0</td><td>0</td><td>0</td><td>1</td></tr>\n",
              "\t<tr><th scope=row>5</th><td>1st</td><td>0</td><td>female</td><td>25.0000</td><td>1</td><td>2</td><td>1</td><td>0</td><td>0</td><td>1</td><td>0</td></tr>\n",
              "\t<tr><th scope=row>6</th><td>1st</td><td>1</td><td>male  </td><td>48.0000</td><td>0</td><td>0</td><td>1</td><td>0</td><td>0</td><td>0</td><td>1</td></tr>\n",
              "</tbody>\n",
              "</table>\n"
            ],
            "text/markdown": "\nA data.frame: 6 × 11\n\n| <!--/--> | pclass &lt;fct&gt; | survived &lt;int&gt; | sex &lt;fct&gt; | age &lt;dbl&gt; | sibsp &lt;int&gt; | parch &lt;int&gt; | pclass_1st &lt;int&gt; | pclass_2nd &lt;int&gt; | pclass_3rd &lt;int&gt; | sex_female &lt;int&gt; | sex_male &lt;int&gt; |\n|---|---|---|---|---|---|---|---|---|---|---|---|\n| 1 | 1st | 1 | female | 29.0000 | 0 | 0 | 1 | 0 | 0 | 1 | 0 |\n| 2 | 1st | 1 | male   |  0.9167 | 1 | 2 | 1 | 0 | 0 | 0 | 1 |\n| 3 | 1st | 0 | female |  2.0000 | 1 | 2 | 1 | 0 | 0 | 1 | 0 |\n| 4 | 1st | 0 | male   | 30.0000 | 1 | 2 | 1 | 0 | 0 | 0 | 1 |\n| 5 | 1st | 0 | female | 25.0000 | 1 | 2 | 1 | 0 | 0 | 1 | 0 |\n| 6 | 1st | 1 | male   | 48.0000 | 0 | 0 | 1 | 0 | 0 | 0 | 1 |\n\n",
            "text/latex": "A data.frame: 6 × 11\n\\begin{tabular}{r|lllllllllll}\n  & pclass & survived & sex & age & sibsp & parch & pclass\\_1st & pclass\\_2nd & pclass\\_3rd & sex\\_female & sex\\_male\\\\\n  & <fct> & <int> & <fct> & <dbl> & <int> & <int> & <int> & <int> & <int> & <int> & <int>\\\\\n\\hline\n\t1 & 1st & 1 & female & 29.0000 & 0 & 0 & 1 & 0 & 0 & 1 & 0\\\\\n\t2 & 1st & 1 & male   &  0.9167 & 1 & 2 & 1 & 0 & 0 & 0 & 1\\\\\n\t3 & 1st & 0 & female &  2.0000 & 1 & 2 & 1 & 0 & 0 & 1 & 0\\\\\n\t4 & 1st & 0 & male   & 30.0000 & 1 & 2 & 1 & 0 & 0 & 0 & 1\\\\\n\t5 & 1st & 0 & female & 25.0000 & 1 & 2 & 1 & 0 & 0 & 1 & 0\\\\\n\t6 & 1st & 1 & male   & 48.0000 & 0 & 0 & 1 & 0 & 0 & 0 & 1\\\\\n\\end{tabular}\n",
            "text/plain": [
              "  pclass survived sex    age     sibsp parch pclass_1st pclass_2nd pclass_3rd\n",
              "1 1st    1        female 29.0000 0     0     1          0          0         \n",
              "2 1st    1        male    0.9167 1     2     1          0          0         \n",
              "3 1st    0        female  2.0000 1     2     1          0          0         \n",
              "4 1st    0        male   30.0000 1     2     1          0          0         \n",
              "5 1st    0        female 25.0000 1     2     1          0          0         \n",
              "6 1st    1        male   48.0000 0     0     1          0          0         \n",
              "  sex_female sex_male\n",
              "1 1          0       \n",
              "2 0          1       \n",
              "3 1          0       \n",
              "4 0          1       \n",
              "5 1          0       \n",
              "6 0          1       "
            ]
          },
          "metadata": {}
        }
      ]
    },
    {
      "cell_type": "code",
      "source": [
        "dummy_cols(.data= df, remove_first_dummy=  TRUE, remove_selected_columns=TRUE )   %>% head  # 더미코딩"
      ],
      "metadata": {
        "colab": {
          "base_uri": "https://localhost:8080/",
          "height": 286
        },
        "id": "CDIXcz-z8xzr",
        "outputId": "2a31f4b8-c77d-4e51-c821-ce9941bd16a9"
      },
      "execution_count": 42,
      "outputs": [
        {
          "output_type": "display_data",
          "data": {
            "text/html": [
              "<table class=\"dataframe\">\n",
              "<caption>A data.frame: 6 × 7</caption>\n",
              "<thead>\n",
              "\t<tr><th></th><th scope=col>survived</th><th scope=col>age</th><th scope=col>sibsp</th><th scope=col>parch</th><th scope=col>pclass_2nd</th><th scope=col>pclass_3rd</th><th scope=col>sex_male</th></tr>\n",
              "\t<tr><th></th><th scope=col>&lt;int&gt;</th><th scope=col>&lt;dbl&gt;</th><th scope=col>&lt;int&gt;</th><th scope=col>&lt;int&gt;</th><th scope=col>&lt;int&gt;</th><th scope=col>&lt;int&gt;</th><th scope=col>&lt;int&gt;</th></tr>\n",
              "</thead>\n",
              "<tbody>\n",
              "\t<tr><th scope=row>1</th><td>1</td><td>29.0000</td><td>0</td><td>0</td><td>0</td><td>0</td><td>0</td></tr>\n",
              "\t<tr><th scope=row>2</th><td>1</td><td> 0.9167</td><td>1</td><td>2</td><td>0</td><td>0</td><td>1</td></tr>\n",
              "\t<tr><th scope=row>3</th><td>0</td><td> 2.0000</td><td>1</td><td>2</td><td>0</td><td>0</td><td>0</td></tr>\n",
              "\t<tr><th scope=row>4</th><td>0</td><td>30.0000</td><td>1</td><td>2</td><td>0</td><td>0</td><td>1</td></tr>\n",
              "\t<tr><th scope=row>5</th><td>0</td><td>25.0000</td><td>1</td><td>2</td><td>0</td><td>0</td><td>0</td></tr>\n",
              "\t<tr><th scope=row>6</th><td>1</td><td>48.0000</td><td>0</td><td>0</td><td>0</td><td>0</td><td>1</td></tr>\n",
              "</tbody>\n",
              "</table>\n"
            ],
            "text/markdown": "\nA data.frame: 6 × 7\n\n| <!--/--> | survived &lt;int&gt; | age &lt;dbl&gt; | sibsp &lt;int&gt; | parch &lt;int&gt; | pclass_2nd &lt;int&gt; | pclass_3rd &lt;int&gt; | sex_male &lt;int&gt; |\n|---|---|---|---|---|---|---|---|\n| 1 | 1 | 29.0000 | 0 | 0 | 0 | 0 | 0 |\n| 2 | 1 |  0.9167 | 1 | 2 | 0 | 0 | 1 |\n| 3 | 0 |  2.0000 | 1 | 2 | 0 | 0 | 0 |\n| 4 | 0 | 30.0000 | 1 | 2 | 0 | 0 | 1 |\n| 5 | 0 | 25.0000 | 1 | 2 | 0 | 0 | 0 |\n| 6 | 1 | 48.0000 | 0 | 0 | 0 | 0 | 1 |\n\n",
            "text/latex": "A data.frame: 6 × 7\n\\begin{tabular}{r|lllllll}\n  & survived & age & sibsp & parch & pclass\\_2nd & pclass\\_3rd & sex\\_male\\\\\n  & <int> & <dbl> & <int> & <int> & <int> & <int> & <int>\\\\\n\\hline\n\t1 & 1 & 29.0000 & 0 & 0 & 0 & 0 & 0\\\\\n\t2 & 1 &  0.9167 & 1 & 2 & 0 & 0 & 1\\\\\n\t3 & 0 &  2.0000 & 1 & 2 & 0 & 0 & 0\\\\\n\t4 & 0 & 30.0000 & 1 & 2 & 0 & 0 & 1\\\\\n\t5 & 0 & 25.0000 & 1 & 2 & 0 & 0 & 0\\\\\n\t6 & 1 & 48.0000 & 0 & 0 & 0 & 0 & 1\\\\\n\\end{tabular}\n",
            "text/plain": [
              "  survived age     sibsp parch pclass_2nd pclass_3rd sex_male\n",
              "1 1        29.0000 0     0     0          0          0       \n",
              "2 1         0.9167 1     2     0          0          1       \n",
              "3 0         2.0000 1     2     0          0          0       \n",
              "4 0        30.0000 1     2     0          0          1       \n",
              "5 0        25.0000 1     2     0          0          0       \n",
              "6 1        48.0000 0     0     0          0          1       "
            ]
          },
          "metadata": {}
        }
      ]
    },
    {
      "cell_type": "markdown",
      "source": [
        "[예제] https://github.com/min02yam/R-study/blob/main/%EC%97%B0%EC%8A%B5/fastDummies.ipynb"
      ],
      "metadata": {
        "id": "ekfFBQH_7eEE"
      }
    },
    {
      "cell_type": "code",
      "source": [
        "crime <- data.frame(city = c(\"SF\", \"SF\", \"NYC\"),\n",
        "year = c(1990, 2000, 1990),\n",
        "crime = 1:3); crime"
      ],
      "metadata": {
        "colab": {
          "base_uri": "https://localhost:8080/",
          "height": 192
        },
        "id": "nCrG7jMD0Tkj",
        "outputId": "d950a60c-52e5-462d-c075-677eafd9c53b"
      },
      "execution_count": 26,
      "outputs": [
        {
          "output_type": "display_data",
          "data": {
            "text/html": [
              "<table class=\"dataframe\">\n",
              "<caption>A data.frame: 3 × 3</caption>\n",
              "<thead>\n",
              "\t<tr><th scope=col>city</th><th scope=col>year</th><th scope=col>crime</th></tr>\n",
              "\t<tr><th scope=col>&lt;chr&gt;</th><th scope=col>&lt;dbl&gt;</th><th scope=col>&lt;int&gt;</th></tr>\n",
              "</thead>\n",
              "<tbody>\n",
              "\t<tr><td>SF </td><td>1990</td><td>1</td></tr>\n",
              "\t<tr><td>SF </td><td>2000</td><td>2</td></tr>\n",
              "\t<tr><td>NYC</td><td>1990</td><td>3</td></tr>\n",
              "</tbody>\n",
              "</table>\n"
            ],
            "text/markdown": "\nA data.frame: 3 × 3\n\n| city &lt;chr&gt; | year &lt;dbl&gt; | crime &lt;int&gt; |\n|---|---|---|\n| SF  | 1990 | 1 |\n| SF  | 2000 | 2 |\n| NYC | 1990 | 3 |\n\n",
            "text/latex": "A data.frame: 3 × 3\n\\begin{tabular}{lll}\n city & year & crime\\\\\n <chr> & <dbl> & <int>\\\\\n\\hline\n\t SF  & 1990 & 1\\\\\n\t SF  & 2000 & 2\\\\\n\t NYC & 1990 & 3\\\\\n\\end{tabular}\n",
            "text/plain": [
              "  city year crime\n",
              "1 SF   1990 1    \n",
              "2 SF   2000 2    \n",
              "3 NYC  1990 3    "
            ]
          },
          "metadata": {}
        }
      ]
    },
    {
      "cell_type": "code",
      "source": [
        "dummy_rows(crime)"
      ],
      "metadata": {
        "colab": {
          "base_uri": "https://localhost:8080/",
          "height": 192
        },
        "id": "RkSaNhGV7ikX",
        "outputId": "dadd46d6-acaf-485e-ab65-da01509b7fb3"
      },
      "execution_count": 27,
      "outputs": [
        {
          "output_type": "display_data",
          "data": {
            "text/html": [
              "<table class=\"dataframe\">\n",
              "<caption>A data.frame: 3 × 3</caption>\n",
              "<thead>\n",
              "\t<tr><th scope=col>city</th><th scope=col>year</th><th scope=col>crime</th></tr>\n",
              "\t<tr><th scope=col>&lt;chr&gt;</th><th scope=col>&lt;dbl&gt;</th><th scope=col>&lt;int&gt;</th></tr>\n",
              "</thead>\n",
              "<tbody>\n",
              "\t<tr><td>SF </td><td>1990</td><td>1</td></tr>\n",
              "\t<tr><td>SF </td><td>2000</td><td>2</td></tr>\n",
              "\t<tr><td>NYC</td><td>1990</td><td>3</td></tr>\n",
              "</tbody>\n",
              "</table>\n"
            ],
            "text/markdown": "\nA data.frame: 3 × 3\n\n| city &lt;chr&gt; | year &lt;dbl&gt; | crime &lt;int&gt; |\n|---|---|---|\n| SF  | 1990 | 1 |\n| SF  | 2000 | 2 |\n| NYC | 1990 | 3 |\n\n",
            "text/latex": "A data.frame: 3 × 3\n\\begin{tabular}{lll}\n city & year & crime\\\\\n <chr> & <dbl> & <int>\\\\\n\\hline\n\t SF  & 1990 & 1\\\\\n\t SF  & 2000 & 2\\\\\n\t NYC & 1990 & 3\\\\\n\\end{tabular}\n",
            "text/plain": [
              "  city year crime\n",
              "1 SF   1990 1    \n",
              "2 SF   2000 2    \n",
              "3 NYC  1990 3    "
            ]
          },
          "metadata": {}
        }
      ]
    },
    {
      "cell_type": "code",
      "source": [
        "# Include year column\n",
        "dummy_rows(crime, select_columns = c(\"city\", \"year\"))"
      ],
      "metadata": {
        "colab": {
          "base_uri": "https://localhost:8080/",
          "height": 224
        },
        "id": "9tKJB7_87nJh",
        "outputId": "39737e8c-b056-4f9b-baf3-1b982dc124db"
      },
      "execution_count": 28,
      "outputs": [
        {
          "output_type": "display_data",
          "data": {
            "text/html": [
              "<table class=\"dataframe\">\n",
              "<caption>A data.frame: 4 × 3</caption>\n",
              "<thead>\n",
              "\t<tr><th scope=col>city</th><th scope=col>year</th><th scope=col>crime</th></tr>\n",
              "\t<tr><th scope=col>&lt;chr&gt;</th><th scope=col>&lt;dbl&gt;</th><th scope=col>&lt;int&gt;</th></tr>\n",
              "</thead>\n",
              "<tbody>\n",
              "\t<tr><td>SF </td><td>1990</td><td> 1</td></tr>\n",
              "\t<tr><td>SF </td><td>2000</td><td> 2</td></tr>\n",
              "\t<tr><td>NYC</td><td>1990</td><td> 3</td></tr>\n",
              "\t<tr><td>NYC</td><td>2000</td><td>NA</td></tr>\n",
              "</tbody>\n",
              "</table>\n"
            ],
            "text/markdown": "\nA data.frame: 4 × 3\n\n| city &lt;chr&gt; | year &lt;dbl&gt; | crime &lt;int&gt; |\n|---|---|---|\n| SF  | 1990 |  1 |\n| SF  | 2000 |  2 |\n| NYC | 1990 |  3 |\n| NYC | 2000 | NA |\n\n",
            "text/latex": "A data.frame: 4 × 3\n\\begin{tabular}{lll}\n city & year & crime\\\\\n <chr> & <dbl> & <int>\\\\\n\\hline\n\t SF  & 1990 &  1\\\\\n\t SF  & 2000 &  2\\\\\n\t NYC & 1990 &  3\\\\\n\t NYC & 2000 & NA\\\\\n\\end{tabular}\n",
            "text/plain": [
              "  city year crime\n",
              "1 SF   1990  1   \n",
              "2 SF   2000  2   \n",
              "3 NYC  1990  3   \n",
              "4 NYC  2000 NA   "
            ]
          },
          "metadata": {}
        }
      ]
    },
    {
      "cell_type": "markdown",
      "source": [
        "#4. DataExplorer:: dummify"
      ],
      "metadata": {
        "id": "rgpcPFez9VvL"
      }
    },
    {
      "cell_type": "code",
      "source": [
        "dummify(df) %>% head"
      ],
      "metadata": {
        "colab": {
          "base_uri": "https://localhost:8080/",
          "height": 286
        },
        "id": "7kPTmxAp4m5X",
        "outputId": "f8b110de-ea38-4bc7-a1db-ed4d5dc45bfd"
      },
      "execution_count": 49,
      "outputs": [
        {
          "output_type": "display_data",
          "data": {
            "text/html": [
              "<table class=\"dataframe\">\n",
              "<caption>A data.frame: 6 × 9</caption>\n",
              "<thead>\n",
              "\t<tr><th></th><th scope=col>survived</th><th scope=col>age</th><th scope=col>sibsp</th><th scope=col>parch</th><th scope=col>pclass_1st</th><th scope=col>pclass_2nd</th><th scope=col>pclass_3rd</th><th scope=col>sex_female</th><th scope=col>sex_male</th></tr>\n",
              "\t<tr><th></th><th scope=col>&lt;int&gt;</th><th scope=col>&lt;dbl&gt;</th><th scope=col>&lt;int&gt;</th><th scope=col>&lt;int&gt;</th><th scope=col>&lt;int&gt;</th><th scope=col>&lt;int&gt;</th><th scope=col>&lt;int&gt;</th><th scope=col>&lt;int&gt;</th><th scope=col>&lt;int&gt;</th></tr>\n",
              "</thead>\n",
              "<tbody>\n",
              "\t<tr><th scope=row>1</th><td>1</td><td>29.0000</td><td>0</td><td>0</td><td>1</td><td>0</td><td>0</td><td>1</td><td>0</td></tr>\n",
              "\t<tr><th scope=row>2</th><td>1</td><td> 0.9167</td><td>1</td><td>2</td><td>1</td><td>0</td><td>0</td><td>0</td><td>1</td></tr>\n",
              "\t<tr><th scope=row>3</th><td>0</td><td> 2.0000</td><td>1</td><td>2</td><td>1</td><td>0</td><td>0</td><td>1</td><td>0</td></tr>\n",
              "\t<tr><th scope=row>4</th><td>0</td><td>30.0000</td><td>1</td><td>2</td><td>1</td><td>0</td><td>0</td><td>0</td><td>1</td></tr>\n",
              "\t<tr><th scope=row>5</th><td>0</td><td>25.0000</td><td>1</td><td>2</td><td>1</td><td>0</td><td>0</td><td>1</td><td>0</td></tr>\n",
              "\t<tr><th scope=row>6</th><td>1</td><td>48.0000</td><td>0</td><td>0</td><td>1</td><td>0</td><td>0</td><td>0</td><td>1</td></tr>\n",
              "</tbody>\n",
              "</table>\n"
            ],
            "text/markdown": "\nA data.frame: 6 × 9\n\n| <!--/--> | survived &lt;int&gt; | age &lt;dbl&gt; | sibsp &lt;int&gt; | parch &lt;int&gt; | pclass_1st &lt;int&gt; | pclass_2nd &lt;int&gt; | pclass_3rd &lt;int&gt; | sex_female &lt;int&gt; | sex_male &lt;int&gt; |\n|---|---|---|---|---|---|---|---|---|---|\n| 1 | 1 | 29.0000 | 0 | 0 | 1 | 0 | 0 | 1 | 0 |\n| 2 | 1 |  0.9167 | 1 | 2 | 1 | 0 | 0 | 0 | 1 |\n| 3 | 0 |  2.0000 | 1 | 2 | 1 | 0 | 0 | 1 | 0 |\n| 4 | 0 | 30.0000 | 1 | 2 | 1 | 0 | 0 | 0 | 1 |\n| 5 | 0 | 25.0000 | 1 | 2 | 1 | 0 | 0 | 1 | 0 |\n| 6 | 1 | 48.0000 | 0 | 0 | 1 | 0 | 0 | 0 | 1 |\n\n",
            "text/latex": "A data.frame: 6 × 9\n\\begin{tabular}{r|lllllllll}\n  & survived & age & sibsp & parch & pclass\\_1st & pclass\\_2nd & pclass\\_3rd & sex\\_female & sex\\_male\\\\\n  & <int> & <dbl> & <int> & <int> & <int> & <int> & <int> & <int> & <int>\\\\\n\\hline\n\t1 & 1 & 29.0000 & 0 & 0 & 1 & 0 & 0 & 1 & 0\\\\\n\t2 & 1 &  0.9167 & 1 & 2 & 1 & 0 & 0 & 0 & 1\\\\\n\t3 & 0 &  2.0000 & 1 & 2 & 1 & 0 & 0 & 1 & 0\\\\\n\t4 & 0 & 30.0000 & 1 & 2 & 1 & 0 & 0 & 0 & 1\\\\\n\t5 & 0 & 25.0000 & 1 & 2 & 1 & 0 & 0 & 1 & 0\\\\\n\t6 & 1 & 48.0000 & 0 & 0 & 1 & 0 & 0 & 0 & 1\\\\\n\\end{tabular}\n",
            "text/plain": [
              "  survived age     sibsp parch pclass_1st pclass_2nd pclass_3rd sex_female\n",
              "1 1        29.0000 0     0     1          0          0          1         \n",
              "2 1         0.9167 1     2     1          0          0          0         \n",
              "3 0         2.0000 1     2     1          0          0          1         \n",
              "4 0        30.0000 1     2     1          0          0          0         \n",
              "5 0        25.0000 1     2     1          0          0          1         \n",
              "6 1        48.0000 0     0     1          0          0          0         \n",
              "  sex_male\n",
              "1 0       \n",
              "2 1       \n",
              "3 0       \n",
              "4 1       \n",
              "5 0       \n",
              "6 1       "
            ]
          },
          "metadata": {}
        }
      ]
    },
    {
      "cell_type": "markdown",
      "source": [
        ""
      ],
      "metadata": {
        "id": "HuSPPRFE4neU"
      }
    }
  ]
}
