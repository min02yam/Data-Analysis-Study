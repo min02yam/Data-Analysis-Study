{
 "cells": [
  {
   "cell_type": "markdown",
   "metadata": {},
   "source": [
    "Last Checkpoint: 08/30/2021"
   ]
  },
  {
   "cell_type": "markdown",
   "metadata": {},
   "source": [
    "# neuralnet, knn, svm"
   ]
  },
  {
   "cell_type": "code",
   "execution_count": 1,
   "metadata": {
    "scrolled": true
   },
   "outputs": [
    {
     "name": "stderr",
     "output_type": "stream",
     "text": [
      "Warning message:\n",
      "\"package 'caret' was built under R version 3.6.3\"Loading required package: lattice\n",
      "Loading required package: ggplot2\n",
      "Warning message:\n",
      "\"package 'neuralnet' was built under R version 3.6.3\""
     ]
    },
    {
     "ename": "ERROR",
     "evalue": "Error in library(vcd): there is no package called 'vcd'\n",
     "output_type": "error",
     "traceback": [
      "Error in library(vcd): there is no package called 'vcd'\nTraceback:\n",
      "1. library(vcd)"
     ]
    }
   ],
   "source": [
    "library(caret)\n",
    "library(MASS)\n",
    "library(neuralnet)"
   ]
  },
  {
   "cell_type": "code",
   "execution_count": 5,
   "metadata": {},
   "outputs": [
    {
     "name": "stdout",
     "output_type": "stream",
     "text": [
      "package 'vcd' successfully unpacked and MD5 sums checked\n",
      "\n",
      "The downloaded binary packages are in\n",
      "\tC:\\Users\\alsdu\\AppData\\Local\\Temp\\Rtmpc5M5zu\\downloaded_packages\n"
     ]
    },
    {
     "name": "stderr",
     "output_type": "stream",
     "text": [
      "Warning message:\n",
      "\"package 'vcd' was built under R version 3.6.3\"Loading required package: grid\n"
     ]
    }
   ],
   "source": [
    "install.packages(\"vcd\")\n",
    "library(vcd)"
   ]
  },
  {
   "cell_type": "code",
   "execution_count": 6,
   "metadata": {},
   "outputs": [
    {
     "name": "stdout",
     "output_type": "stream",
     "text": [
      "'data.frame':\t256 obs. of  7 variables:\n",
      " $ stability: Factor w/ 2 levels \"stab\",\"xstab\": 2 2 2 2 2 2 2 2 2 2 ...\n",
      " $ error    : Factor w/ 4 levels \"LX\",\"MM\",\"SS\",..: 1 1 1 1 1 1 1 1 1 1 ...\n",
      " $ sign     : Factor w/ 2 levels \"nn\",\"pp\": 2 2 2 2 2 2 1 1 1 1 ...\n",
      " $ wind     : Factor w/ 2 levels \"head\",\"tail\": 1 1 1 2 2 2 1 1 1 2 ...\n",
      " $ magn     : Factor w/ 4 levels \"Light\",\"Medium\",..: 1 2 4 1 2 4 1 2 4 1 ...\n",
      " $ vis      : Factor w/ 2 levels \"no\",\"yes\": 1 1 1 1 1 1 1 1 1 1 ...\n",
      " $ use      : Factor w/ 2 levels \"auto\",\"noauto\": 1 1 1 1 1 1 1 1 1 1 ...\n"
     ]
    },
    {
     "data": {
      "text/plain": [
       "\n",
       "  auto noauto \n",
       "   145    111 "
      ]
     },
     "metadata": {},
     "output_type": "display_data"
    }
   ],
   "source": [
    "data(shuttle)\n",
    "str(shuttle)\n",
    "table(shuttle$use)"
   ]
  },
  {
   "cell_type": "code",
   "execution_count": 7,
   "metadata": {},
   "outputs": [
    {
     "data": {
      "text/plain": [
       "       wind  head                    tail                  \n",
       "       magn Light Medium Out Strong Light Medium Out Strong\n",
       "use                                                        \n",
       "auto           19     19  16     18    19     19  16     19\n",
       "noauto         13     13  16     14    13     13  16     13"
      ]
     },
     "metadata": {},
     "output_type": "display_data"
    }
   ],
   "source": [
    "table1 <- structable(wind + magn ~ use, shuttle)   #vcd\n",
    "table1"
   ]
  },
  {
   "cell_type": "code",
   "execution_count": 11,
   "metadata": {},
   "outputs": [
    {
     "data": {
      "image/png": "[encoded data removed]",
      "text/plain": [
       "plot without title"
      ]
     },
     "metadata": {},
     "output_type": "display_data"
    }
   ],
   "source": [
    "mosaic(table1, shade = T) # 피값 유의하지 않음 -> 기각x-> 독립임."
   ]
  },
  {
   "cell_type": "code",
   "execution_count": 12,
   "metadata": {},
   "outputs": [
    {
     "data": {
      "image/png": "[encoded data removed]",
      "text/plain": [
       "plot without title"
      ]
     },
     "metadata": {},
     "output_type": "display_data"
    }
   ],
   "source": [
    "mosaic(use ~ error + vis, shuttle) #귀무가설 기각-> 종속"
   ]
  },
  {
   "cell_type": "code",
   "execution_count": 16,
   "metadata": {},
   "outputs": [
    {
     "data": {
      "text/plain": [
       "        \n",
       "         stab xstab\n",
       "  auto     81    64\n",
       "  noauto   47    64"
      ]
     },
     "metadata": {},
     "output_type": "display_data"
    },
    {
     "data": {
      "text/plain": [
       "        \n",
       "              stab     xstab\n",
       "  auto   0.3164062 0.2500000\n",
       "  noauto 0.1835938 0.2500000"
      ]
     },
     "metadata": {},
     "output_type": "display_data"
    }
   ],
   "source": [
    "table(shuttle$use, shuttle$stability)\n",
    "prop.table( table(shuttle$use, shuttle$stability) ) "
   ]
  },
  {
   "cell_type": "code",
   "execution_count": 17,
   "metadata": {},
   "outputs": [
    {
     "data": {
      "text/plain": [
       "\n",
       "\tPearson's Chi-squared test with Yates' continuity correction\n",
       "\n",
       "data:  shuttle$use and shuttle$stability\n",
       "X-squared = 4.0718, df = 1, p-value = 0.0436\n"
      ]
     },
     "metadata": {},
     "output_type": "display_data"
    }
   ],
   "source": [
    "chisq.test(shuttle$use, shuttle$stability)"
   ]
  },
  {
   "cell_type": "code",
   "execution_count": 23,
   "metadata": {},
   "outputs": [
    {
     "data": {
      "text/plain": [
       "Dummy Variable Object\n",
       "\n",
       "Formula: use ~ .\n",
       "7 variables, 7 factors\n",
       "Variables and levels will be separated by '.'\n",
       "A full rank encoding is used"
      ]
     },
     "metadata": {},
     "output_type": "display_data"
    }
   ],
   "source": [
    "#신경망 모두 수치형이여야함 -> 더미로 변환\n",
    "dummies <- dummyVars (use ~. ,shuttle, fullRank = T)    #caret\n",
    "dummies"
   ]
  },
  {
   "cell_type": "code",
   "execution_count": 26,
   "metadata": {},
   "outputs": [
    {
     "name": "stderr",
     "output_type": "stream",
     "text": [
      "Warning message in model.frame.default(Terms, newdata, na.action = na.action, xlev = object$lvls):\n",
      "\"variable 'use' is not a factor\""
     ]
    },
    {
     "data": {
      "text/html": [
       "<table>\n",
       "<thead><tr><th scope=col>stability.xstab</th><th scope=col>error.MM</th><th scope=col>error.SS</th><th scope=col>error.XL</th><th scope=col>sign.pp</th><th scope=col>wind.tail</th><th scope=col>magn.Medium</th><th scope=col>magn.Out</th><th scope=col>magn.Strong</th><th scope=col>vis.yes</th></tr></thead>\n",
       "<tbody>\n",
       "\t<tr><td>1</td><td>0</td><td>0</td><td>0</td><td>1</td><td>0</td><td>0</td><td>0</td><td>0</td><td>0</td></tr>\n",
       "\t<tr><td>1</td><td>0</td><td>0</td><td>0</td><td>1</td><td>0</td><td>1</td><td>0</td><td>0</td><td>0</td></tr>\n",
       "\t<tr><td>1</td><td>0</td><td>0</td><td>0</td><td>1</td><td>0</td><td>0</td><td>0</td><td>1</td><td>0</td></tr>\n",
       "\t<tr><td>1</td><td>0</td><td>0</td><td>0</td><td>1</td><td>1</td><td>0</td><td>0</td><td>0</td><td>0</td></tr>\n",
       "\t<tr><td>1</td><td>0</td><td>0</td><td>0</td><td>1</td><td>1</td><td>1</td><td>0</td><td>0</td><td>0</td></tr>\n",
       "\t<tr><td>1</td><td>0</td><td>0</td><td>0</td><td>1</td><td>1</td><td>0</td><td>0</td><td>1</td><td>0</td></tr>\n",
       "</tbody>\n",
       "</table>\n"
      ],
      "text/latex": [
       "\\begin{tabular}{r|llllllllll}\n",
       " stability.xstab & error.MM & error.SS & error.XL & sign.pp & wind.tail & magn.Medium & magn.Out & magn.Strong & vis.yes\\\\\n",
       "\\hline\n",
       "\t 1 & 0 & 0 & 0 & 1 & 0 & 0 & 0 & 0 & 0\\\\\n",
       "\t 1 & 0 & 0 & 0 & 1 & 0 & 1 & 0 & 0 & 0\\\\\n",
       "\t 1 & 0 & 0 & 0 & 1 & 0 & 0 & 0 & 1 & 0\\\\\n",
       "\t 1 & 0 & 0 & 0 & 1 & 1 & 0 & 0 & 0 & 0\\\\\n",
       "\t 1 & 0 & 0 & 0 & 1 & 1 & 1 & 0 & 0 & 0\\\\\n",
       "\t 1 & 0 & 0 & 0 & 1 & 1 & 0 & 0 & 1 & 0\\\\\n",
       "\\end{tabular}\n"
      ],
      "text/markdown": [
       "\n",
       "| stability.xstab | error.MM | error.SS | error.XL | sign.pp | wind.tail | magn.Medium | magn.Out | magn.Strong | vis.yes |\n",
       "|---|---|---|---|---|---|---|---|---|---|\n",
       "| 1 | 0 | 0 | 0 | 1 | 0 | 0 | 0 | 0 | 0 |\n",
       "| 1 | 0 | 0 | 0 | 1 | 0 | 1 | 0 | 0 | 0 |\n",
       "| 1 | 0 | 0 | 0 | 1 | 0 | 0 | 0 | 1 | 0 |\n",
       "| 1 | 0 | 0 | 0 | 1 | 1 | 0 | 0 | 0 | 0 |\n",
       "| 1 | 0 | 0 | 0 | 1 | 1 | 1 | 0 | 0 | 0 |\n",
       "| 1 | 0 | 0 | 0 | 1 | 1 | 0 | 0 | 1 | 0 |\n",
       "\n"
      ],
      "text/plain": [
       "  stability.xstab error.MM error.SS error.XL sign.pp wind.tail magn.Medium\n",
       "1 1               0        0        0        1       0         0          \n",
       "2 1               0        0        0        1       0         1          \n",
       "3 1               0        0        0        1       0         0          \n",
       "4 1               0        0        0        1       1         0          \n",
       "5 1               0        0        0        1       1         1          \n",
       "6 1               0        0        0        1       1         0          \n",
       "  magn.Out magn.Strong vis.yes\n",
       "1 0        0           0      \n",
       "2 0        0           0      \n",
       "3 0        1           0      \n",
       "4 0        0           0      \n",
       "5 0        0           0      \n",
       "6 0        1           0      "
      ]
     },
     "metadata": {},
     "output_type": "display_data"
    },
    {
     "data": {
      "text/html": [
       "<ol class=list-inline>\n",
       "\t<li>'stability.xstab'</li>\n",
       "\t<li>'error.MM'</li>\n",
       "\t<li>'error.SS'</li>\n",
       "\t<li>'error.XL'</li>\n",
       "\t<li>'sign.pp'</li>\n",
       "\t<li>'wind.tail'</li>\n",
       "\t<li>'magn.Medium'</li>\n",
       "\t<li>'magn.Out'</li>\n",
       "\t<li>'magn.Strong'</li>\n",
       "\t<li>'vis.yes'</li>\n",
       "</ol>\n"
      ],
      "text/latex": [
       "\\begin{enumerate*}\n",
       "\\item 'stability.xstab'\n",
       "\\item 'error.MM'\n",
       "\\item 'error.SS'\n",
       "\\item 'error.XL'\n",
       "\\item 'sign.pp'\n",
       "\\item 'wind.tail'\n",
       "\\item 'magn.Medium'\n",
       "\\item 'magn.Out'\n",
       "\\item 'magn.Strong'\n",
       "\\item 'vis.yes'\n",
       "\\end{enumerate*}\n"
      ],
      "text/markdown": [
       "1. 'stability.xstab'\n",
       "2. 'error.MM'\n",
       "3. 'error.SS'\n",
       "4. 'error.XL'\n",
       "5. 'sign.pp'\n",
       "6. 'wind.tail'\n",
       "7. 'magn.Medium'\n",
       "8. 'magn.Out'\n",
       "9. 'magn.Strong'\n",
       "10. 'vis.yes'\n",
       "\n",
       "\n"
      ],
      "text/plain": [
       " [1] \"stability.xstab\" \"error.MM\"        \"error.SS\"        \"error.XL\"       \n",
       " [5] \"sign.pp\"         \"wind.tail\"       \"magn.Medium\"     \"magn.Out\"       \n",
       " [9] \"magn.Strong\"     \"vis.yes\"        "
      ]
     },
     "metadata": {},
     "output_type": "display_data"
    }
   ],
   "source": [
    "shuttle2<-data.frame(predict(dummies, newdata= shuttle))\n",
    "head(shuttle2)\n",
    "names(shuttle2)"
   ]
  },
  {
   "cell_type": "code",
   "execution_count": 28,
   "metadata": {},
   "outputs": [
    {
     "data": {
      "text/plain": [
       "\n",
       "  0   1 \n",
       "111 145 "
      ]
     },
     "metadata": {},
     "output_type": "display_data"
    }
   ],
   "source": [
    "shuttle2$use<- ifelse(shuttle$use==\"auto\", 1, 0)\n",
    "table(shuttle2$use)"
   ]
  },
  {
   "cell_type": "code",
   "execution_count": 31,
   "metadata": {},
   "outputs": [],
   "source": [
    "set.seed(123)\n",
    "idx<-createDataPartition(shuttle2$use, p=0.7, list=F)\n",
    "train<-shuttle2[idx,]\n",
    "test<-shuttle2[-idx,]"
   ]
  },
  {
   "cell_type": "code",
   "execution_count": 33,
   "metadata": {},
   "outputs": [
    {
     "data": {
      "text/plain": [
       "use ~ stability.xstab + error.MM + error.SS + error.XL + sign.pp + \n",
       "    wind.tail + magn.Medium + magn.Out + magn.Strong + vis.yes"
      ]
     },
     "metadata": {},
     "output_type": "display_data"
    }
   ],
   "source": [
    "n <- names(train)\n",
    "form <- as.formula(paste(\"use ~\", paste(n[!n %in% \"use\"], collapse = \" + \")))\n",
    "form"
   ]
  },
  {
   "cell_type": "code",
   "execution_count": 36,
   "metadata": {},
   "outputs": [
    {
     "data": {
      "text/html": [
       "<table>\n",
       "<tbody>\n",
       "\t<tr><th scope=row>error</th><td>  0.006745424</td></tr>\n",
       "\t<tr><th scope=row>reached.threshold</th><td>  0.008028217</td></tr>\n",
       "\t<tr><th scope=row>steps</th><td>251.000000000</td></tr>\n",
       "\t<tr><th scope=row>Intercept.to.1layhid1</th><td> -2.913396291</td></tr>\n",
       "\t<tr><th scope=row>stability.xstab.to.1layhid1</th><td>  1.061971240</td></tr>\n",
       "\t<tr><th scope=row>error.MM.to.1layhid1</th><td> -1.507105083</td></tr>\n",
       "\t<tr><th scope=row>error.SS.to.1layhid1</th><td> -1.960491707</td></tr>\n",
       "\t<tr><th scope=row>error.XL.to.1layhid1</th><td> -0.557518418</td></tr>\n",
       "\t<tr><th scope=row>sign.pp.to.1layhid1</th><td> -0.362270154</td></tr>\n",
       "\t<tr><th scope=row>wind.tail.to.1layhid1</th><td> -0.093003853</td></tr>\n",
       "\t<tr><th scope=row>magn.Medium.to.1layhid1</th><td>  0.012907060</td></tr>\n",
       "\t<tr><th scope=row>magn.Out.to.1layhid1</th><td>  1.118360425</td></tr>\n",
       "\t<tr><th scope=row>magn.Strong.to.1layhid1</th><td>  0.257518170</td></tr>\n",
       "\t<tr><th scope=row>vis.yes.to.1layhid1</th><td>  4.650735293</td></tr>\n",
       "\t<tr><th scope=row>Intercept.to.1layhid2</th><td>  1.560214842</td></tr>\n",
       "\t<tr><th scope=row>stability.xstab.to.1layhid2</th><td> -1.204509288</td></tr>\n",
       "\t<tr><th scope=row>error.MM.to.1layhid2</th><td> -0.000887696</td></tr>\n",
       "\t<tr><th scope=row>error.SS.to.1layhid2</th><td>  0.904825578</td></tr>\n",
       "\t<tr><th scope=row>error.XL.to.1layhid2</th><td> -0.231255788</td></tr>\n",
       "\t<tr><th scope=row>sign.pp.to.1layhid2</th><td>  0.382575500</td></tr>\n",
       "\t<tr><th scope=row>wind.tail.to.1layhid2</th><td>  0.592086158</td></tr>\n",
       "\t<tr><th scope=row>magn.Medium.to.1layhid2</th><td>  0.058625357</td></tr>\n",
       "\t<tr><th scope=row>magn.Out.to.1layhid2</th><td> -1.051535539</td></tr>\n",
       "\t<tr><th scope=row>magn.Strong.to.1layhid2</th><td>  0.179652043</td></tr>\n",
       "\t<tr><th scope=row>vis.yes.to.1layhid2</th><td> -2.693403633</td></tr>\n",
       "\t<tr><th scope=row>Intercept.to.2layhid1</th><td>  1.615079923</td></tr>\n",
       "\t<tr><th scope=row>1layhid1.to.2layhid1</th><td>-15.554046037</td></tr>\n",
       "\t<tr><th scope=row>1layhid2.to.2layhid1</th><td> 14.713278061</td></tr>\n",
       "\t<tr><th scope=row>Intercept.to.use</th><td>-12.182285372</td></tr>\n",
       "\t<tr><th scope=row>2layhid1.to.use</th><td> 24.844204493</td></tr>\n",
       "</tbody>\n",
       "</table>\n"
      ],
      "text/latex": [
       "\\begin{tabular}{r|l}\n",
       "\terror &   0.006745424\\\\\n",
       "\treached.threshold &   0.008028217\\\\\n",
       "\tsteps & 251.000000000\\\\\n",
       "\tIntercept.to.1layhid1 &  -2.913396291\\\\\n",
       "\tstability.xstab.to.1layhid1 &   1.061971240\\\\\n",
       "\terror.MM.to.1layhid1 &  -1.507105083\\\\\n",
       "\terror.SS.to.1layhid1 &  -1.960491707\\\\\n",
       "\terror.XL.to.1layhid1 &  -0.557518418\\\\\n",
       "\tsign.pp.to.1layhid1 &  -0.362270154\\\\\n",
       "\twind.tail.to.1layhid1 &  -0.093003853\\\\\n",
       "\tmagn.Medium.to.1layhid1 &   0.012907060\\\\\n",
       "\tmagn.Out.to.1layhid1 &   1.118360425\\\\\n",
       "\tmagn.Strong.to.1layhid1 &   0.257518170\\\\\n",
       "\tvis.yes.to.1layhid1 &   4.650735293\\\\\n",
       "\tIntercept.to.1layhid2 &   1.560214842\\\\\n",
       "\tstability.xstab.to.1layhid2 &  -1.204509288\\\\\n",
       "\terror.MM.to.1layhid2 &  -0.000887696\\\\\n",
       "\terror.SS.to.1layhid2 &   0.904825578\\\\\n",
       "\terror.XL.to.1layhid2 &  -0.231255788\\\\\n",
       "\tsign.pp.to.1layhid2 &   0.382575500\\\\\n",
       "\twind.tail.to.1layhid2 &   0.592086158\\\\\n",
       "\tmagn.Medium.to.1layhid2 &   0.058625357\\\\\n",
       "\tmagn.Out.to.1layhid2 &  -1.051535539\\\\\n",
       "\tmagn.Strong.to.1layhid2 &   0.179652043\\\\\n",
       "\tvis.yes.to.1layhid2 &  -2.693403633\\\\\n",
       "\tIntercept.to.2layhid1 &   1.615079923\\\\\n",
       "\t1layhid1.to.2layhid1 & -15.554046037\\\\\n",
       "\t1layhid2.to.2layhid1 &  14.713278061\\\\\n",
       "\tIntercept.to.use & -12.182285372\\\\\n",
       "\t2layhid1.to.use &  24.844204493\\\\\n",
       "\\end{tabular}\n"
      ],
      "text/markdown": [
       "\n",
       "| error |   0.006745424 |\n",
       "| reached.threshold |   0.008028217 |\n",
       "| steps | 251.000000000 |\n",
       "| Intercept.to.1layhid1 |  -2.913396291 |\n",
       "| stability.xstab.to.1layhid1 |   1.061971240 |\n",
       "| error.MM.to.1layhid1 |  -1.507105083 |\n",
       "| error.SS.to.1layhid1 |  -1.960491707 |\n",
       "| error.XL.to.1layhid1 |  -0.557518418 |\n",
       "| sign.pp.to.1layhid1 |  -0.362270154 |\n",
       "| wind.tail.to.1layhid1 |  -0.093003853 |\n",
       "| magn.Medium.to.1layhid1 |   0.012907060 |\n",
       "| magn.Out.to.1layhid1 |   1.118360425 |\n",
       "| magn.Strong.to.1layhid1 |   0.257518170 |\n",
       "| vis.yes.to.1layhid1 |   4.650735293 |\n",
       "| Intercept.to.1layhid2 |   1.560214842 |\n",
       "| stability.xstab.to.1layhid2 |  -1.204509288 |\n",
       "| error.MM.to.1layhid2 |  -0.000887696 |\n",
       "| error.SS.to.1layhid2 |   0.904825578 |\n",
       "| error.XL.to.1layhid2 |  -0.231255788 |\n",
       "| sign.pp.to.1layhid2 |   0.382575500 |\n",
       "| wind.tail.to.1layhid2 |   0.592086158 |\n",
       "| magn.Medium.to.1layhid2 |   0.058625357 |\n",
       "| magn.Out.to.1layhid2 |  -1.051535539 |\n",
       "| magn.Strong.to.1layhid2 |   0.179652043 |\n",
       "| vis.yes.to.1layhid2 |  -2.693403633 |\n",
       "| Intercept.to.2layhid1 |   1.615079923 |\n",
       "| 1layhid1.to.2layhid1 | -15.554046037 |\n",
       "| 1layhid2.to.2layhid1 |  14.713278061 |\n",
       "| Intercept.to.use | -12.182285372 |\n",
       "| 2layhid1.to.use |  24.844204493 |\n",
       "\n"
      ],
      "text/plain": [
       "                            [,1]         \n",
       "error                         0.006745424\n",
       "reached.threshold             0.008028217\n",
       "steps                       251.000000000\n",
       "Intercept.to.1layhid1        -2.913396291\n",
       "stability.xstab.to.1layhid1   1.061971240\n",
       "error.MM.to.1layhid1         -1.507105083\n",
       "error.SS.to.1layhid1         -1.960491707\n",
       "error.XL.to.1layhid1         -0.557518418\n",
       "sign.pp.to.1layhid1          -0.362270154\n",
       "wind.tail.to.1layhid1        -0.093003853\n",
       "magn.Medium.to.1layhid1       0.012907060\n",
       "magn.Out.to.1layhid1          1.118360425\n",
       "magn.Strong.to.1layhid1       0.257518170\n",
       "vis.yes.to.1layhid1           4.650735293\n",
       "Intercept.to.1layhid2         1.560214842\n",
       "stability.xstab.to.1layhid2  -1.204509288\n",
       "error.MM.to.1layhid2         -0.000887696\n",
       "error.SS.to.1layhid2          0.904825578\n",
       "error.XL.to.1layhid2         -0.231255788\n",
       "sign.pp.to.1layhid2           0.382575500\n",
       "wind.tail.to.1layhid2         0.592086158\n",
       "magn.Medium.to.1layhid2       0.058625357\n",
       "magn.Out.to.1layhid2         -1.051535539\n",
       "magn.Strong.to.1layhid2       0.179652043\n",
       "vis.yes.to.1layhid2          -2.693403633\n",
       "Intercept.to.2layhid1         1.615079923\n",
       "1layhid1.to.2layhid1        -15.554046037\n",
       "1layhid2.to.2layhid1         14.713278061\n",
       "Intercept.to.use            -12.182285372\n",
       "2layhid1.to.use              24.844204493"
      ]
     },
     "metadata": {},
     "output_type": "display_data"
    }
   ],
   "source": [
    "set.seed(1)\n",
    "fit<-neuralnet(use~. , train, hidden=c(2,1), err.fct=\"ce\", linear.output=F)\n",
    "fit$result.matrix"
   ]
  },
  {
   "cell_type": "code",
   "execution_count": 43,
   "metadata": {},
   "outputs": [
    {
     "data": {
      "text/html": [
       "<table>\n",
       "<tbody>\n",
       "\t<tr><th scope=row>1</th><td>-0.0058040120</td><td>0.0022578370 </td><td>0.0061042939 </td><td>2.793278e-05 </td><td>0.0018809227 </td><td>0.0022094031 </td><td>1.855860e-04 </td><td>-0.0053538239</td><td> 2.417218e-04</td><td>-0.016392872 </td></tr>\n",
       "\t<tr><th scope=row>4</th><td>-0.0007663366</td><td>0.0003444101 </td><td>0.0008416829 </td><td>2.706483e-05 </td><td>0.0002491154 </td><td>0.0002785484 </td><td>2.252078e-05 </td><td>-0.0007127678</td><td> 1.914664e-05</td><td>-0.002234323 </td></tr>\n",
       "\t<tr><th scope=row>5</th><td>-0.0006637593</td><td>0.0003076139 </td><td>0.0007361950 </td><td>2.814040e-05 </td><td>0.0002159244 </td><td>0.0002386163 </td><td>1.910769e-05 </td><td>-0.0006185411</td><td> 1.401738e-05</td><td>-0.001949295 </td></tr>\n",
       "\t<tr><th scope=row>6</th><td>-0.0007314225</td><td>0.0004031544 </td><td>0.0008607337 </td><td>6.341801e-05 </td><td>0.0002389983 </td><td>0.0002446797 </td><td>1.830607e-05 </td><td>-0.0006897356</td><td>-2.256756e-06</td><td>-0.002244884 </td></tr>\n",
       "\t<tr><th scope=row>7</th><td>-0.0444148565</td><td>0.0195765927 </td><td>0.0484852322 </td><td>1.374447e-03 </td><td>0.0144317093 </td><td>0.0162533313 </td><td>1.321717e-03 </td><td>-0.0412613771</td><td> 1.215746e-03</td><td>-0.128915111 </td></tr>\n",
       "\t<tr><th scope=row>8</th><td>-0.0367735469</td><td>0.0164391436 </td><td>0.0403214453 </td><td>1.254416e-03 </td><td>0.0119526383 </td><td>0.0133914379 </td><td>1.084446e-03 </td><td>-0.0341918523</td><td> 9.429830e-04</td><td>-0.107084095 </td></tr>\n",
       "</tbody>\n",
       "</table>\n"
      ],
      "text/latex": [
       "\\begin{tabular}{r|llllllllll}\n",
       "\t1 & -0.0058040120 & 0.0022578370  & 0.0061042939  & 2.793278e-05  & 0.0018809227  & 0.0022094031  & 1.855860e-04  & -0.0053538239 &  2.417218e-04 & -0.016392872 \\\\\n",
       "\t4 & -0.0007663366 & 0.0003444101  & 0.0008416829  & 2.706483e-05  & 0.0002491154  & 0.0002785484  & 2.252078e-05  & -0.0007127678 &  1.914664e-05 & -0.002234323 \\\\\n",
       "\t5 & -0.0006637593 & 0.0003076139  & 0.0007361950  & 2.814040e-05  & 0.0002159244  & 0.0002386163  & 1.910769e-05  & -0.0006185411 &  1.401738e-05 & -0.001949295 \\\\\n",
       "\t6 & -0.0007314225 & 0.0004031544  & 0.0008607337  & 6.341801e-05  & 0.0002389983  & 0.0002446797  & 1.830607e-05  & -0.0006897356 & -2.256756e-06 & -0.002244884 \\\\\n",
       "\t7 & -0.0444148565 & 0.0195765927  & 0.0484852322  & 1.374447e-03  & 0.0144317093  & 0.0162533313  & 1.321717e-03  & -0.0412613771 &  1.215746e-03 & -0.128915111 \\\\\n",
       "\t8 & -0.0367735469 & 0.0164391436  & 0.0403214453  & 1.254416e-03  & 0.0119526383  & 0.0133914379  & 1.084446e-03  & -0.0341918523 &  9.429830e-04 & -0.107084095 \\\\\n",
       "\\end{tabular}\n"
      ],
      "text/markdown": [
       "\n",
       "| 1 | -0.0058040120 | 0.0022578370  | 0.0061042939  | 2.793278e-05  | 0.0018809227  | 0.0022094031  | 1.855860e-04  | -0.0053538239 |  2.417218e-04 | -0.016392872  |\n",
       "| 4 | -0.0007663366 | 0.0003444101  | 0.0008416829  | 2.706483e-05  | 0.0002491154  | 0.0002785484  | 2.252078e-05  | -0.0007127678 |  1.914664e-05 | -0.002234323  |\n",
       "| 5 | -0.0006637593 | 0.0003076139  | 0.0007361950  | 2.814040e-05  | 0.0002159244  | 0.0002386163  | 1.910769e-05  | -0.0006185411 |  1.401738e-05 | -0.001949295  |\n",
       "| 6 | -0.0007314225 | 0.0004031544  | 0.0008607337  | 6.341801e-05  | 0.0002389983  | 0.0002446797  | 1.830607e-05  | -0.0006897356 | -2.256756e-06 | -0.002244884  |\n",
       "| 7 | -0.0444148565 | 0.0195765927  | 0.0484852322  | 1.374447e-03  | 0.0144317093  | 0.0162533313  | 1.321717e-03  | -0.0412613771 |  1.215746e-03 | -0.128915111  |\n",
       "| 8 | -0.0367735469 | 0.0164391436  | 0.0403214453  | 1.254416e-03  | 0.0119526383  | 0.0133914379  | 1.084446e-03  | -0.0341918523 |  9.429830e-04 | -0.107084095  |\n",
       "\n"
      ],
      "text/plain": [
       "  [,1]          [,2]         [,3]         [,4]         [,5]        \n",
       "1 -0.0058040120 0.0022578370 0.0061042939 2.793278e-05 0.0018809227\n",
       "4 -0.0007663366 0.0003444101 0.0008416829 2.706483e-05 0.0002491154\n",
       "5 -0.0006637593 0.0003076139 0.0007361950 2.814040e-05 0.0002159244\n",
       "6 -0.0007314225 0.0004031544 0.0008607337 6.341801e-05 0.0002389983\n",
       "7 -0.0444148565 0.0195765927 0.0484852322 1.374447e-03 0.0144317093\n",
       "8 -0.0367735469 0.0164391436 0.0403214453 1.254416e-03 0.0119526383\n",
       "  [,6]         [,7]         [,8]          [,9]          [,10]       \n",
       "1 0.0022094031 1.855860e-04 -0.0053538239  2.417218e-04 -0.016392872\n",
       "4 0.0002785484 2.252078e-05 -0.0007127678  1.914664e-05 -0.002234323\n",
       "5 0.0002386163 1.910769e-05 -0.0006185411  1.401738e-05 -0.001949295\n",
       "6 0.0002446797 1.830607e-05 -0.0006897356 -2.256756e-06 -0.002244884\n",
       "7 0.0162533313 1.321717e-03 -0.0412613771  1.215746e-03 -0.128915111\n",
       "8 0.0133914379 1.084446e-03 -0.0341918523  9.429830e-04 -0.107084095"
      ]
     },
     "metadata": {},
     "output_type": "display_data"
    }
   ],
   "source": [
    "head(  fit$ generalized.weights[[1]]  ) "
   ]
  },
  {
   "cell_type": "code",
   "execution_count": 37,
   "metadata": {},
   "outputs": [
    {
     "data": {
      "text/html": [
       "<table>\n",
       "<tbody>\n",
       "\t<tr><th scope=row>1</th><td>-0.0058040120</td><td>0.0022578370 </td><td>0.0061042939 </td><td>2.793278e-05 </td><td>0.0018809227 </td><td>0.0022094031 </td><td>1.855860e-04 </td><td>-0.0053538239</td><td> 2.417218e-04</td><td>-0.016392872 </td></tr>\n",
       "\t<tr><th scope=row>4</th><td>-0.0007663366</td><td>0.0003444101 </td><td>0.0008416829 </td><td>2.706483e-05 </td><td>0.0002491154 </td><td>0.0002785484 </td><td>2.252078e-05 </td><td>-0.0007127678</td><td> 1.914664e-05</td><td>-0.002234323 </td></tr>\n",
       "\t<tr><th scope=row>5</th><td>-0.0006637593</td><td>0.0003076139 </td><td>0.0007361950 </td><td>2.814040e-05 </td><td>0.0002159244 </td><td>0.0002386163 </td><td>1.910769e-05 </td><td>-0.0006185411</td><td> 1.401738e-05</td><td>-0.001949295 </td></tr>\n",
       "\t<tr><th scope=row>6</th><td>-0.0007314225</td><td>0.0004031544 </td><td>0.0008607337 </td><td>6.341801e-05 </td><td>0.0002389983 </td><td>0.0002446797 </td><td>1.830607e-05 </td><td>-0.0006897356</td><td>-2.256756e-06</td><td>-0.002244884 </td></tr>\n",
       "\t<tr><th scope=row>7</th><td>-0.0444148565</td><td>0.0195765927 </td><td>0.0484852322 </td><td>1.374447e-03 </td><td>0.0144317093 </td><td>0.0162533313 </td><td>1.321717e-03 </td><td>-0.0412613771</td><td> 1.215746e-03</td><td>-0.128915111 </td></tr>\n",
       "\t<tr><th scope=row>8</th><td>-0.0367735469</td><td>0.0164391436 </td><td>0.0403214453 </td><td>1.254416e-03 </td><td>0.0119526383 </td><td>0.0133914379 </td><td>1.084446e-03 </td><td>-0.0341918523</td><td> 9.429830e-04</td><td>-0.107084095 </td></tr>\n",
       "</tbody>\n",
       "</table>\n"
      ],
      "text/latex": [
       "\\begin{tabular}{r|llllllllll}\n",
       "\t1 & -0.0058040120 & 0.0022578370  & 0.0061042939  & 2.793278e-05  & 0.0018809227  & 0.0022094031  & 1.855860e-04  & -0.0053538239 &  2.417218e-04 & -0.016392872 \\\\\n",
       "\t4 & -0.0007663366 & 0.0003444101  & 0.0008416829  & 2.706483e-05  & 0.0002491154  & 0.0002785484  & 2.252078e-05  & -0.0007127678 &  1.914664e-05 & -0.002234323 \\\\\n",
       "\t5 & -0.0006637593 & 0.0003076139  & 0.0007361950  & 2.814040e-05  & 0.0002159244  & 0.0002386163  & 1.910769e-05  & -0.0006185411 &  1.401738e-05 & -0.001949295 \\\\\n",
       "\t6 & -0.0007314225 & 0.0004031544  & 0.0008607337  & 6.341801e-05  & 0.0002389983  & 0.0002446797  & 1.830607e-05  & -0.0006897356 & -2.256756e-06 & -0.002244884 \\\\\n",
       "\t7 & -0.0444148565 & 0.0195765927  & 0.0484852322  & 1.374447e-03  & 0.0144317093  & 0.0162533313  & 1.321717e-03  & -0.0412613771 &  1.215746e-03 & -0.128915111 \\\\\n",
       "\t8 & -0.0367735469 & 0.0164391436  & 0.0403214453  & 1.254416e-03  & 0.0119526383  & 0.0133914379  & 1.084446e-03  & -0.0341918523 &  9.429830e-04 & -0.107084095 \\\\\n",
       "\\end{tabular}\n"
      ],
      "text/markdown": [
       "\n",
       "| 1 | -0.0058040120 | 0.0022578370  | 0.0061042939  | 2.793278e-05  | 0.0018809227  | 0.0022094031  | 1.855860e-04  | -0.0053538239 |  2.417218e-04 | -0.016392872  |\n",
       "| 4 | -0.0007663366 | 0.0003444101  | 0.0008416829  | 2.706483e-05  | 0.0002491154  | 0.0002785484  | 2.252078e-05  | -0.0007127678 |  1.914664e-05 | -0.002234323  |\n",
       "| 5 | -0.0006637593 | 0.0003076139  | 0.0007361950  | 2.814040e-05  | 0.0002159244  | 0.0002386163  | 1.910769e-05  | -0.0006185411 |  1.401738e-05 | -0.001949295  |\n",
       "| 6 | -0.0007314225 | 0.0004031544  | 0.0008607337  | 6.341801e-05  | 0.0002389983  | 0.0002446797  | 1.830607e-05  | -0.0006897356 | -2.256756e-06 | -0.002244884  |\n",
       "| 7 | -0.0444148565 | 0.0195765927  | 0.0484852322  | 1.374447e-03  | 0.0144317093  | 0.0162533313  | 1.321717e-03  | -0.0412613771 |  1.215746e-03 | -0.128915111  |\n",
       "| 8 | -0.0367735469 | 0.0164391436  | 0.0403214453  | 1.254416e-03  | 0.0119526383  | 0.0133914379  | 1.084446e-03  | -0.0341918523 |  9.429830e-04 | -0.107084095  |\n",
       "\n"
      ],
      "text/plain": [
       "  [,1]          [,2]         [,3]         [,4]         [,5]        \n",
       "1 -0.0058040120 0.0022578370 0.0061042939 2.793278e-05 0.0018809227\n",
       "4 -0.0007663366 0.0003444101 0.0008416829 2.706483e-05 0.0002491154\n",
       "5 -0.0006637593 0.0003076139 0.0007361950 2.814040e-05 0.0002159244\n",
       "6 -0.0007314225 0.0004031544 0.0008607337 6.341801e-05 0.0002389983\n",
       "7 -0.0444148565 0.0195765927 0.0484852322 1.374447e-03 0.0144317093\n",
       "8 -0.0367735469 0.0164391436 0.0403214453 1.254416e-03 0.0119526383\n",
       "  [,6]         [,7]         [,8]          [,9]          [,10]       \n",
       "1 0.0022094031 1.855860e-04 -0.0053538239  2.417218e-04 -0.016392872\n",
       "4 0.0002785484 2.252078e-05 -0.0007127678  1.914664e-05 -0.002234323\n",
       "5 0.0002386163 1.910769e-05 -0.0006185411  1.401738e-05 -0.001949295\n",
       "6 0.0002446797 1.830607e-05 -0.0006897356 -2.256756e-06 -0.002244884\n",
       "7 0.0162533313 1.321717e-03 -0.0412613771  1.215746e-03 -0.128915111\n",
       "8 0.0133914379 1.084446e-03 -0.0341918523  9.429830e-04 -0.107084095"
      ]
     },
     "metadata": {},
     "output_type": "display_data"
    }
   ],
   "source": [
    "head(fit$generalized.weights[[1]])"
   ]
  },
  {
   "cell_type": "code",
   "execution_count": 44,
   "metadata": {},
   "outputs": [],
   "source": [
    "plot(fit)"
   ]
  },
  {
   "cell_type": "code",
   "execution_count": 46,
   "metadata": {},
   "outputs": [
    {
     "data": {
      "text/html": [
       "\n",
       "<table width=\"100%\" summary=\"page for gwplot {neuralnet}\"><tr><td>gwplot {neuralnet}</td><td style=\"text-align: right;\">R Documentation</td></tr></table>\n",
       "\n",
       "<h2>Plot method for generalized weights</h2>\n",
       "\n",
       "<h3>Description</h3>\n",
       "\n",
       "<p><code>gwplot</code>, a method for objects of class <code>nn</code>, typically produced\n",
       "by <code>neuralnet</code>.  Plots the generalized weights (Intrator and Intrator,\n",
       "1993) for one specific covariate and one response variable.\n",
       "</p>\n",
       "\n",
       "\n",
       "<h3>Usage</h3>\n",
       "\n",
       "<pre>\n",
       "gwplot(x, rep = NULL, max = NULL, min = NULL, file = NULL,\n",
       "  selected.covariate = 1, selected.response = 1, highlight = FALSE,\n",
       "  type = \"p\", col = \"black\", ...)\n",
       "</pre>\n",
       "\n",
       "\n",
       "<h3>Arguments</h3>\n",
       "\n",
       "<table summary=\"R argblock\">\n",
       "<tr valign=\"top\"><td><code>x</code></td>\n",
       "<td>\n",
       "<p>an object of class <code>nn</code></p>\n",
       "</td></tr>\n",
       "<tr valign=\"top\"><td><code>rep</code></td>\n",
       "<td>\n",
       "<p>an integer indicating the repetition to plot. If rep=&quot;best&quot;, the\n",
       "repetition with the smallest error will be plotted. If not stated all\n",
       "repetitions will be plotted.</p>\n",
       "</td></tr>\n",
       "<tr valign=\"top\"><td><code>max</code></td>\n",
       "<td>\n",
       "<p>maximum of the y axis. In default, max is set to the highest\n",
       "y-value.</p>\n",
       "</td></tr>\n",
       "<tr valign=\"top\"><td><code>min</code></td>\n",
       "<td>\n",
       "<p>minimum of the y axis. In default, min is set to the smallest\n",
       "y-value.</p>\n",
       "</td></tr>\n",
       "<tr valign=\"top\"><td><code>file</code></td>\n",
       "<td>\n",
       "<p>a character string naming the plot to write to. If not stated,\n",
       "the plot will not be saved.</p>\n",
       "</td></tr>\n",
       "<tr valign=\"top\"><td><code>selected.covariate</code></td>\n",
       "<td>\n",
       "<p>either a string of the covariate's name or an\n",
       "integer of the ordered covariates, indicating the reference covariate in the\n",
       "generalized weights plot. Defaulting to the first covariate.</p>\n",
       "</td></tr>\n",
       "<tr valign=\"top\"><td><code>selected.response</code></td>\n",
       "<td>\n",
       "<p>either a string of the response variable's name or\n",
       "an integer of the ordered response variables, indicating the reference\n",
       "response in the generalized weights plot. Defaulting to the first response\n",
       "variable.</p>\n",
       "</td></tr>\n",
       "<tr valign=\"top\"><td><code>highlight</code></td>\n",
       "<td>\n",
       "<p>a logical value, indicating whether to highlight (red\n",
       "color) the best repetition (smallest error). Only reasonable if rep=NULL.\n",
       "Default is FALSE</p>\n",
       "</td></tr>\n",
       "<tr valign=\"top\"><td><code>type</code></td>\n",
       "<td>\n",
       "<p>a character indicating the type of plotting; actually any of the\n",
       "types as in <code>plot.default</code>.</p>\n",
       "</td></tr>\n",
       "<tr valign=\"top\"><td><code>col</code></td>\n",
       "<td>\n",
       "<p>a color of the generalized weights.</p>\n",
       "</td></tr>\n",
       "<tr valign=\"top\"><td><code>...</code></td>\n",
       "<td>\n",
       "<p>Arguments to be passed to methods, such as graphical parameters\n",
       "(see <code>par</code>).</p>\n",
       "</td></tr>\n",
       "</table>\n",
       "\n",
       "\n",
       "<h3>Author(s)</h3>\n",
       "\n",
       "<p>Stefan Fritsch, Frauke Guenther <a href=\"mailto:guenther@leibniz-bips.de\">guenther@leibniz-bips.de</a>\n",
       "</p>\n",
       "\n",
       "\n",
       "<h3>References</h3>\n",
       "\n",
       "<p>Intrator O. and Intrator N. (1993) <em>Using Neural Nets for\n",
       "Interpretation of Nonlinear Models.</em> Proceedings of the Statistical\n",
       "Computing Section, 244-249 San Francisco: American Statistical Society\n",
       "(eds.)\n",
       "</p>\n",
       "\n",
       "\n",
       "<h3>See Also</h3>\n",
       "\n",
       "<p><code>neuralnet</code>\n",
       "</p>\n",
       "\n",
       "\n",
       "<h3>Examples</h3>\n",
       "\n",
       "<pre>\n",
       "\n",
       "data(infert, package=\"datasets\")\n",
       "print(net.infert &lt;- neuralnet(case~parity+induced+spontaneous, infert, \n",
       "\t\t                err.fct=\"ce\", linear.output=FALSE, likelihood=TRUE))\n",
       "gwplot(net.infert, selected.covariate=\"parity\")\n",
       "gwplot(net.infert, selected.covariate=\"induced\")\n",
       "gwplot(net.infert, selected.covariate=\"spontaneous\")\n",
       "\n",
       "</pre>\n",
       "\n",
       "<hr /><div style=\"text-align: center;\">[Package <em>neuralnet</em> version 1.44.2 ]</div>"
      ],
      "text/latex": [
       "\\inputencoding{utf8}\n",
       "\\HeaderA{gwplot}{Plot method for generalized weights}{gwplot}\n",
       "\\keyword{neural}{gwplot}\n",
       "%\n",
       "\\begin{Description}\\relax\n",
       "\\code{gwplot}, a method for objects of class \\code{nn}, typically produced\n",
       "by \\code{neuralnet}.  Plots the generalized weights (Intrator and Intrator,\n",
       "1993) for one specific covariate and one response variable.\n",
       "\\end{Description}\n",
       "%\n",
       "\\begin{Usage}\n",
       "\\begin{verbatim}\n",
       "gwplot(x, rep = NULL, max = NULL, min = NULL, file = NULL,\n",
       "  selected.covariate = 1, selected.response = 1, highlight = FALSE,\n",
       "  type = \"p\", col = \"black\", ...)\n",
       "\\end{verbatim}\n",
       "\\end{Usage}\n",
       "%\n",
       "\\begin{Arguments}\n",
       "\\begin{ldescription}\n",
       "\\item[\\code{x}] an object of class \\code{nn}\n",
       "\n",
       "\\item[\\code{rep}] an integer indicating the repetition to plot. If rep=\"best\", the\n",
       "repetition with the smallest error will be plotted. If not stated all\n",
       "repetitions will be plotted.\n",
       "\n",
       "\\item[\\code{max}] maximum of the y axis. In default, max is set to the highest\n",
       "y-value.\n",
       "\n",
       "\\item[\\code{min}] minimum of the y axis. In default, min is set to the smallest\n",
       "y-value.\n",
       "\n",
       "\\item[\\code{file}] a character string naming the plot to write to. If not stated,\n",
       "the plot will not be saved.\n",
       "\n",
       "\\item[\\code{selected.covariate}] either a string of the covariate's name or an\n",
       "integer of the ordered covariates, indicating the reference covariate in the\n",
       "generalized weights plot. Defaulting to the first covariate.\n",
       "\n",
       "\\item[\\code{selected.response}] either a string of the response variable's name or\n",
       "an integer of the ordered response variables, indicating the reference\n",
       "response in the generalized weights plot. Defaulting to the first response\n",
       "variable.\n",
       "\n",
       "\\item[\\code{highlight}] a logical value, indicating whether to highlight (red\n",
       "color) the best repetition (smallest error). Only reasonable if rep=NULL.\n",
       "Default is FALSE\n",
       "\n",
       "\\item[\\code{type}] a character indicating the type of plotting; actually any of the\n",
       "types as in \\code{\\LinkA{plot.default}{plot.default}}.\n",
       "\n",
       "\\item[\\code{col}] a color of the generalized weights.\n",
       "\n",
       "\\item[\\code{...}] Arguments to be passed to methods, such as graphical parameters\n",
       "(see \\code{\\LinkA{par}{par}}).\n",
       "\\end{ldescription}\n",
       "\\end{Arguments}\n",
       "%\n",
       "\\begin{Author}\\relax\n",
       "Stefan Fritsch, Frauke Guenther \\email{guenther@leibniz-bips.de}\n",
       "\\end{Author}\n",
       "%\n",
       "\\begin{References}\\relax\n",
       "Intrator O. and Intrator N. (1993) \\emph{Using Neural Nets for\n",
       "Interpretation of Nonlinear Models.} Proceedings of the Statistical\n",
       "Computing Section, 244-249 San Francisco: American Statistical Society\n",
       "(eds.)\n",
       "\\end{References}\n",
       "%\n",
       "\\begin{SeeAlso}\\relax\n",
       "\\code{\\LinkA{neuralnet}{neuralnet}}\n",
       "\\end{SeeAlso}\n",
       "%\n",
       "\\begin{Examples}\n",
       "\\begin{ExampleCode}\n",
       "\n",
       "data(infert, package=\"datasets\")\n",
       "print(net.infert <- neuralnet(case~parity+induced+spontaneous, infert, \n",
       "\t\t                err.fct=\"ce\", linear.output=FALSE, likelihood=TRUE))\n",
       "gwplot(net.infert, selected.covariate=\"parity\")\n",
       "gwplot(net.infert, selected.covariate=\"induced\")\n",
       "gwplot(net.infert, selected.covariate=\"spontaneous\")\n",
       "\n",
       "\\end{ExampleCode}\n",
       "\\end{Examples}"
      ],
      "text/plain": [
       "gwplot                package:neuralnet                R Documentation\n",
       "\n",
       "_\bP_\bl_\bo_\bt _\bm_\be_\bt_\bh_\bo_\bd _\bf_\bo_\br _\bg_\be_\bn_\be_\br_\ba_\bl_\bi_\bz_\be_\bd _\bw_\be_\bi_\bg_\bh_\bt_\bs\n",
       "\n",
       "_\bD_\be_\bs_\bc_\br_\bi_\bp_\bt_\bi_\bo_\bn:\n",
       "\n",
       "     'gwplot', a method for objects of class 'nn', typically produced\n",
       "     by 'neuralnet'.  Plots the generalized weights (Intrator and\n",
       "     Intrator, 1993) for one specific covariate and one response\n",
       "     variable.\n",
       "\n",
       "_\bU_\bs_\ba_\bg_\be:\n",
       "\n",
       "     gwplot(x, rep = NULL, max = NULL, min = NULL, file = NULL,\n",
       "       selected.covariate = 1, selected.response = 1, highlight = FALSE,\n",
       "       type = \"p\", col = \"black\", ...)\n",
       "     \n",
       "_\bA_\br_\bg_\bu_\bm_\be_\bn_\bt_\bs:\n",
       "\n",
       "       x: an object of class 'nn'\n",
       "\n",
       "     rep: an integer indicating the repetition to plot. If rep=\"best\",\n",
       "          the repetition with the smallest error will be plotted. If\n",
       "          not stated all repetitions will be plotted.\n",
       "\n",
       "     max: maximum of the y axis. In default, max is set to the highest\n",
       "          y-value.\n",
       "\n",
       "     min: minimum of the y axis. In default, min is set to the smallest\n",
       "          y-value.\n",
       "\n",
       "    file: a character string naming the plot to write to. If not\n",
       "          stated, the plot will not be saved.\n",
       "\n",
       "selected.covariate: either a string of the covariate's name or an\n",
       "          integer of the ordered covariates, indicating the reference\n",
       "          covariate in the generalized weights plot. Defaulting to the\n",
       "          first covariate.\n",
       "\n",
       "selected.response: either a string of the response variable's name or\n",
       "          an integer of the ordered response variables, indicating the\n",
       "          reference response in the generalized weights plot.\n",
       "          Defaulting to the first response variable.\n",
       "\n",
       "highlight: a logical value, indicating whether to highlight (red color)\n",
       "          the best repetition (smallest error). Only reasonable if\n",
       "          rep=NULL. Default is FALSE\n",
       "\n",
       "    type: a character indicating the type of plotting; actually any of\n",
       "          the types as in 'plot.default'.\n",
       "\n",
       "     col: a color of the generalized weights.\n",
       "\n",
       "     ...: Arguments to be passed to methods, such as graphical\n",
       "          parameters (see 'par').\n",
       "\n",
       "_\bA_\bu_\bt_\bh_\bo_\br(_\bs):\n",
       "\n",
       "     Stefan Fritsch, Frauke Guenther <email: guenther@leibniz-bips.de>\n",
       "\n",
       "_\bR_\be_\bf_\be_\br_\be_\bn_\bc_\be_\bs:\n",
       "\n",
       "     Intrator O. and Intrator N. (1993) _Using Neural Nets for\n",
       "     Interpretation of Nonlinear Models._ Proceedings of the\n",
       "     Statistical Computing Section, 244-249 San Francisco: American\n",
       "     Statistical Society (eds.)\n",
       "\n",
       "_\bS_\be_\be _\bA_\bl_\bs_\bo:\n",
       "\n",
       "     'neuralnet'\n",
       "\n",
       "_\bE_\bx_\ba_\bm_\bp_\bl_\be_\bs:\n",
       "\n",
       "     data(infert, package=\"datasets\")\n",
       "     print(net.infert <- neuralnet(case~parity+induced+spontaneous, infert, \n",
       "                                     err.fct=\"ce\", linear.output=FALSE, likelihood=TRUE))\n",
       "     gwplot(net.infert, selected.covariate=\"parity\")\n",
       "     gwplot(net.infert, selected.covariate=\"induced\")\n",
       "     gwplot(net.infert, selected.covariate=\"spontaneous\")\n",
       "     "
      ]
     },
     "metadata": {},
     "output_type": "display_data"
    }
   ],
   "source": [
    "?gwplot   "
   ]
  },
  {
   "cell_type": "code",
   "execution_count": 45,
   "metadata": {},
   "outputs": [
    {
     "data": {
      "image/png": "[encoded data removed]",
      "text/plain": [
       "Plot with title \"Response: use\""
      ]
     },
     "metadata": {},
     "output_type": "display_data"
    }
   ],
   "source": [
    "\n",
    "par(mfrow=c(1,2))\n",
    "gwplot(fit, selected.covariate = \"vis.yes\")   #neuralnet\n",
    "gwplot(fit, selected.covariate = \"wind.tail\")"
   ]
  },
  {
   "cell_type": "code",
   "execution_count": 49,
   "metadata": {},
   "outputs": [],
   "source": [
    "resultsTrain <- compute(fit, train[, 1:10])"
   ]
  },
  {
   "cell_type": "code",
   "execution_count": 50,
   "metadata": {},
   "outputs": [
    {
     "data": {
      "text/plain": [
       "         \n",
       "predTrain   0   1\n",
       "        0  73   0\n",
       "        1   0 107"
      ]
     },
     "metadata": {},
     "output_type": "display_data"
    }
   ],
   "source": [
    "predTrain <- resultsTrain$net.result\n",
    "predTrain <- ifelse(predTrain >= 0.5, 1, 0)\n",
    "table(predTrain, train$use)\n"
   ]
  },
  {
   "cell_type": "code",
   "execution_count": 53,
   "metadata": {},
   "outputs": [
    {
     "data": {
      "text/plain": [
       "        \n",
       "predTest  0  1\n",
       "       0 38  2\n",
       "       1  0 36"
      ]
     },
     "metadata": {},
     "output_type": "display_data"
    }
   ],
   "source": [
    "resultsTest <- compute(fit, test[,1:10])\n",
    "predTest <- resultsTest$net.result\n",
    "predTest <- ifelse(predTest >= 0.5, 1, 0)\n",
    "table(predTest, test$use)"
   ]
  },
  {
   "cell_type": "code",
   "execution_count": 54,
   "metadata": {},
   "outputs": [
    {
     "data": {
      "text/html": [
       "<ol class=list-inline>\n",
       "\t<li>58</li>\n",
       "\t<li>59</li>\n",
       "</ol>\n"
      ],
      "text/latex": [
       "\\begin{enumerate*}\n",
       "\\item 58\n",
       "\\item 59\n",
       "\\end{enumerate*}\n"
      ],
      "text/markdown": [
       "1. 58\n",
       "2. 59\n",
       "\n",
       "\n"
      ],
      "text/plain": [
       "[1] 58 59"
      ]
     },
     "metadata": {},
     "output_type": "display_data"
    }
   ],
   "source": [
    "which(predTest ==0 & test$use ==1)"
   ]
  },
  {
   "cell_type": "code",
   "execution_count": 55,
   "metadata": {},
   "outputs": [
    {
     "data": {
      "text/html": [
       "<table>\n",
       "<thead><tr><th></th><th scope=col>stability.xstab</th><th scope=col>error.MM</th><th scope=col>error.SS</th><th scope=col>error.XL</th><th scope=col>sign.pp</th><th scope=col>wind.tail</th><th scope=col>magn.Medium</th><th scope=col>magn.Out</th><th scope=col>magn.Strong</th><th scope=col>vis.yes</th><th scope=col>use</th></tr></thead>\n",
       "<tbody>\n",
       "\t<tr><th scope=row>201</th><td>0</td><td>1</td><td>0</td><td>0</td><td>1</td><td>0</td><td>0</td><td>0</td><td>0</td><td>1</td><td>1</td></tr>\n",
       "</tbody>\n",
       "</table>\n"
      ],
      "text/latex": [
       "\\begin{tabular}{r|lllllllllll}\n",
       "  & stability.xstab & error.MM & error.SS & error.XL & sign.pp & wind.tail & magn.Medium & magn.Out & magn.Strong & vis.yes & use\\\\\n",
       "\\hline\n",
       "\t201 & 0 & 1 & 0 & 0 & 1 & 0 & 0 & 0 & 0 & 1 & 1\\\\\n",
       "\\end{tabular}\n"
      ],
      "text/markdown": [
       "\n",
       "| <!--/--> | stability.xstab | error.MM | error.SS | error.XL | sign.pp | wind.tail | magn.Medium | magn.Out | magn.Strong | vis.yes | use |\n",
       "|---|---|---|---|---|---|---|---|---|---|---|---|\n",
       "| 201 | 0 | 1 | 0 | 0 | 1 | 0 | 0 | 0 | 0 | 1 | 1 |\n",
       "\n"
      ],
      "text/plain": [
       "    stability.xstab error.MM error.SS error.XL sign.pp wind.tail magn.Medium\n",
       "201 0               1        0        0        1       0         0          \n",
       "    magn.Out magn.Strong vis.yes use\n",
       "201 0        0           1       1  "
      ]
     },
     "metadata": {},
     "output_type": "display_data"
    }
   ],
   "source": [
    "test[58,]"
   ]
  },
  {
   "cell_type": "code",
   "execution_count": null,
   "metadata": {},
   "outputs": [],
   "source": [
    "which(predTest == 1 & shuttleTest$use == 0)\n",
    "shuttleTest[62,]\n"
   ]
  },
  {
   "cell_type": "code",
   "execution_count": 56,
   "metadata": {},
   "outputs": [],
   "source": [
    "if (\"package:h2o\" %in% search()) { detach(\"package:h2o\", unload=TRUE) }\n",
    "if (\"h2o\" %in% rownames(installed.packages())) { remove.packages(\"h2o\") }"
   ]
  },
  {
   "cell_type": "code",
   "execution_count": 57,
   "metadata": {},
   "outputs": [
    {
     "name": "stdout",
     "output_type": "stream",
     "text": [
      "package 'statmod' successfully unpacked and MD5 sums checked\n",
      "\n",
      "The downloaded binary packages are in\n",
      "\tC:\\Users\\alsdu\\AppData\\Local\\Temp\\Rtmpc5M5zu\\downloaded_packages\n",
      "\n",
      "  There is a binary version available but the source version is later:\n",
      "        binary   source needs_compilation\n",
      "RCurl 1.98-1.3 1.98-1.4              TRUE\n",
      "\n",
      "  Binaries will be installed\n",
      "package 'RCurl' successfully unpacked and MD5 sums checked\n",
      "\n",
      "The downloaded binary packages are in\n",
      "\tC:\\Users\\alsdu\\AppData\\Local\\Temp\\Rtmpc5M5zu\\downloaded_packages\n"
     ]
    }
   ],
   "source": [
    "# Next, we download packages that H2O depends on.\n",
    "if (! (\"methods\" %in% rownames(installed.packages()))) { install.packages(\"methods\") }\n",
    "if (! (\"statmod\" %in% rownames(installed.packages()))) { install.packages(\"statmod\") }\n",
    "if (! (\"stats\" %in% rownames(installed.packages()))) { install.packages(\"stats\") }\n",
    "if (! (\"graphics\" %in% rownames(installed.packages()))) { install.packages(\"graphics\") }\n",
    "if (! (\"RCurl\" %in% rownames(installed.packages()))) { install.packages(\"RCurl\") }\n",
    "if (! (\"jsonlite\" %in% rownames(installed.packages()))) { install.packages(\"jsonlite\") }\n",
    "if (! (\"tools\" %in% rownames(installed.packages()))) { install.packages(\"tools\") }\n",
    "if (! (\"utils\" %in% rownames(installed.packages()))) { install.packages(\"utils\") }"
   ]
  },
  {
   "cell_type": "code",
   "execution_count": 58,
   "metadata": {},
   "outputs": [
    {
     "name": "stderr",
     "output_type": "stream",
     "text": [
      "\n",
      "----------------------------------------------------------------------\n",
      "\n",
      "Your next step is to start H2O:\n",
      "    > h2o.init()\n",
      "\n",
      "For H2O package documentation, ask for help:\n",
      "    > ??h2o\n",
      "\n",
      "After starting H2O, you can use the Web UI at http://localhost:54321\n",
      "For more information visit http://docs.h2o.ai\n",
      "\n",
      "----------------------------------------------------------------------\n",
      "\n",
      "\n",
      "Attaching package: 'h2o'\n",
      "\n",
      "The following objects are masked from 'package:stats':\n",
      "\n",
      "    cor, sd, var\n",
      "\n",
      "The following objects are masked from 'package:base':\n",
      "\n",
      "    %*%, %in%, &&, ||, apply, as.factor, as.numeric, colnames,\n",
      "    colnames<-, ifelse, is.character, is.factor, is.numeric, log,\n",
      "    log10, log1p, log2, round, signif, trunc\n",
      "\n"
     ]
    }
   ],
   "source": [
    "install.packages(\"h2o\", type=\"source\", repos=(c(\"http://h2o-release.s3.amazonaws.com/h2o/rel-tverberg/5/R\")))\n",
    "library(h2o)"
   ]
  },
  {
   "cell_type": "code",
   "execution_count": 59,
   "metadata": {},
   "outputs": [],
   "source": [
    "setwd(\"C:/Users/alsdu/Downloads/MasteringMachineLearningwithRSecondEdition_Code/MasteringMachineLearningwithRSecondEdition_Code/data-master\")"
   ]
  },
  {
   "cell_type": "code",
   "execution_count": 60,
   "metadata": {},
   "outputs": [],
   "source": [
    "mydir<-getwd()\n",
    "path<-paste0(mydir, \"/bank_DL.csv\")"
   ]
  },
  {
   "cell_type": "code",
   "execution_count": 62,
   "metadata": {},
   "outputs": [
    {
     "name": "stdout",
     "output_type": "stream",
     "text": [
      "\n",
      "H2O is not running yet, starting it now...\n",
      "<simpleError in system2(command, \"-version\", stdout = TRUE, stderr = TRUE): '\"\"' not found>\n"
     ]
    },
    {
     "ename": "ERROR",
     "evalue": "Error in value[[3L]](cond): You have a 32-bit version of Java. H2O works best with 64-bit Java.\nPlease download the latest Java SE JDK 7 from the following URL:\nhttp://www.oracle.com/technetwork/java/javase/downloads/jdk7-downloads-1880260.html\n",
     "output_type": "error",
     "traceback": [
      "Error in value[[3L]](cond): You have a 32-bit version of Java. H2O works best with 64-bit Java.\nPlease download the latest Java SE JDK 7 from the following URL:\nhttp://www.oracle.com/technetwork/java/javase/downloads/jdk7-downloads-1880260.html\nTraceback:\n",
      "1. h2o.init(nthreads = -1)",
      "2. .h2o.startJar(ip = ip, port = port, nthreads = nthreads, max_memory = max_mem_size, \n .     min_memory = min_mem_size, enable_assertions = enable_assertions, \n .     forceDL = forceDL, license = license, ice_root = ice_root, \n .     stdout = stdout)",
      "3. tryCatch({\n .     system2(command, \"-version\", stdout = TRUE, stderr = TRUE)\n . }, error = function(err) {\n .     print(err)\n .     stop(\"You have a 32-bit version of Java. H2O works best with 64-bit Java.\\n\", \n .         \"Please download the latest Java SE JDK 7 from the following URL:\\n\", \n .         \"http://www.oracle.com/technetwork/java/javase/downloads/jdk7-downloads-1880260.html\")\n . })",
      "4. tryCatchList(expr, classes, parentenv, handlers)",
      "5. tryCatchOne(expr, names, parentenv, handlers[[1L]])",
      "6. value[[3L]](cond)",
      "7. stop(\"You have a 32-bit version of Java. H2O works best with 64-bit Java.\\n\", \n .     \"Please download the latest Java SE JDK 7 from the following URL:\\n\", \n .     \"http://www.oracle.com/technetwork/java/javase/downloads/jdk7-downloads-1880260.html\")"
     ]
    }
   ],
   "source": [
    "localLH20=h2o.init(nthreads=-1)"
   ]
  },
  {
   "cell_type": "code",
   "execution_count": 63,
   "metadata": {},
   "outputs": [
    {
     "ename": "ERROR",
     "evalue": "Error in h2o.getConnection(): No active connection to an H2O cluster. Did you run `h2o.init()` ?\n",
     "output_type": "error",
     "traceback": [
      "Error in h2o.getConnection(): No active connection to an H2O cluster. Did you run `h2o.init()` ?\nTraceback:\n",
      "1. h2o.uploadFile(path = path)",
      "2. .key.make(path)",
      "3. h2o.getConnection()",
      "4. stop(\"No active connection to an H2O cluster. Did you run `h2o.init()` ?\")"
     ]
    }
   ],
   "source": [
    "bank <- h2o.uploadFile(path=path)"
   ]
  },
  {
   "cell_type": "code",
   "execution_count": null,
   "metadata": {},
   "outputs": [],
   "source": [
    "\n",
    "\n",
    "\n",
    "\n",
    "class(bank)\n",
    "str(bank)\n",
    "head(bank)\n",
    "summary(bank)\n",
    "h2o.table(bank$y)\n",
    "\n",
    "rand <- h2o.runif(bank, seed = 123)\n",
    "\n",
    "train <- bank[rand <= 0.7, ]\n",
    "train <- h2o.assign(train, key = \"train\")\n",
    "test <- bank[rand  > 0.7, ]\n",
    "test <- h2o.assign(test, key = \"test\")\n",
    "\n",
    "h2o.table(train[, 64])\n",
    "h2o.table(test[, 64])\n",
    "\n",
    "hyper_params <- list(\n",
    "  activation = c(\"Tanh\", \"TanhWithDropout\"),\n",
    "  hidden = list(c(20,20),c(40, 40),c(30, 30, 30)),\n",
    "  input_dropout_ratio = c(0, 0.05),\n",
    "  rate = c(0.01, 0.25)\n",
    ")\n",
    "\n",
    "search_criteria = list(\n",
    "  strategy = \"RandomDiscrete\", max_runtime_secs = 420,     \n",
    "  max_models = 100, seed = 123, stopping_rounds = 5, \n",
    "  stopping_tolerance = 0.01\n",
    ")\n",
    "\n",
    "randomSearch <- h2o.grid(\n",
    "  algorithm = \"deeplearning\",\n",
    "  grid_id = \"randomSearch\",\n",
    "  training_frame = train,\n",
    "  validation_frame = test, \n",
    "  x = 1:63, \n",
    "  y = 64,\n",
    "  epochs = 1,\n",
    "  stopping_metric = \"misclassification\",\n",
    "  hyper_params = hyper_params,\n",
    "  search_criteria = search_criteria\n",
    ")                        \n",
    "\n",
    "grid <- h2o.getGrid(\"randomSearch\", sort_by = \"auc\", decreasing = T)\n",
    "grid\n",
    "\n",
    "best_model <- h2o.getModel(grid@model_ids[[1]])\n",
    "h2o.confusionMatrix(best_model, valid = T)\n",
    "\n",
    "dlmodel <- h2o.deeplearning(\n",
    "  x = 1:63,\n",
    "  y = 64, \n",
    "  training_frame = train,\n",
    "  validation_frame = \n",
    "  hidden = c(30, 30, 30),\n",
    "  epochs = 3,\n",
    "  nfolds = 5,\n",
    "  fold_assignment=\"Stratified\",\n",
    "  balance_classes = T,\n",
    "  activation = \"TanhWithDropout\",\n",
    "  seed = 123,\n",
    "  adaptive_rate = F, \n",
    "  input_dropout_ratio = 0.05,\n",
    "  stopping_metric = \"misclassification\",\n",
    "  variable_importances = T\n",
    ")\n",
    "\n",
    "dlmodel\n",
    "\n",
    "perf <- h2o.performance(dlmodel, test)\n",
    "perf\n",
    "\n",
    "dlmodel@model$variable_importances\n"
   ]
  },
  {
   "cell_type": "markdown",
   "metadata": {},
   "source": [
    "## 5. k최근접 이웃과 서포트벡터머신"
   ]
  },
  {
   "cell_type": "code",
   "execution_count": null,
   "metadata": {},
   "outputs": [],
   "source": [
    "library(e1071)  #SVM\n",
    "library(kernlab) #SVM피처 선택에 도움   ksvm \n",
    "library(pROC) # SVM 피처 선택에 도움"
   ]
  },
  {
   "cell_type": "code",
   "execution_count": 65,
   "metadata": {},
   "outputs": [
    {
     "name": "stderr",
     "output_type": "stream",
     "text": [
      "Warning message:\n",
      "\"package 'class' is in use and will not be installed\"also installing the dependency 'igraph'\n",
      "\n"
     ]
    },
    {
     "name": "stdout",
     "output_type": "stream",
     "text": [
      "package 'igraph' successfully unpacked and MD5 sums checked\n",
      "package 'kknn' successfully unpacked and MD5 sums checked\n",
      "\n",
      "The downloaded binary packages are in\n",
      "\tC:\\Users\\alsdu\\AppData\\Local\\Temp\\Rtmpc5M5zu\\downloaded_packages\n"
     ]
    },
    {
     "name": "stderr",
     "output_type": "stream",
     "text": [
      "Warning message:\n",
      "\"package 'MASS' is in use and will not be installed\""
     ]
    },
    {
     "name": "stdout",
     "output_type": "stream",
     "text": [
      "package 'reshape2' successfully unpacked and MD5 sums checked\n"
     ]
    },
    {
     "name": "stderr",
     "output_type": "stream",
     "text": [
      "Warning message:\n",
      "\"cannot remove prior installation of package 'reshape2'\"Warning message in file.copy(savedcopy, lib, recursive = TRUE):\n",
      "\"C:\\Users\\alsdu\\anaconda3\\Lib\\R\\library\\00LOCK\\reshape2\\libs\\x64\\reshape2.dll를 C:\\Users\\alsdu\\anaconda3\\Lib\\R\\library\\reshape2\\libs\\x64\\reshape2.dll로 복사하는데 문제가 발생했습니다: Permission denied\"Warning message:\n",
      "\"restored 'reshape2'\""
     ]
    },
    {
     "name": "stdout",
     "output_type": "stream",
     "text": [
      "\n",
      "The downloaded binary packages are in\n",
      "\tC:\\Users\\alsdu\\AppData\\Local\\Temp\\Rtmpc5M5zu\\downloaded_packages\n",
      "\n",
      "  There is a binary version available but the source version is later:\n",
      "        binary source needs_compilation\n",
      "ggplot2  3.3.3  3.3.5             FALSE\n",
      "\n"
     ]
    },
    {
     "name": "stderr",
     "output_type": "stream",
     "text": [
      "installing the source package 'ggplot2'\n",
      "\n"
     ]
    }
   ],
   "source": [
    "install.packages(\"class\")   ;  install.packages(\"kknn\")  ; install.packages(\"reshape2\") ; install.packages(\"ggplot2\")"
   ]
  },
  {
   "cell_type": "code",
   "execution_count": 66,
   "metadata": {},
   "outputs": [
    {
     "name": "stderr",
     "output_type": "stream",
     "text": [
      "Warning message:\n",
      "\"package 'MASS' is in use and will not be installed\""
     ]
    }
   ],
   "source": [
    "install.packages(\"MASS\")"
   ]
  },
  {
   "cell_type": "code",
   "execution_count": 67,
   "metadata": {},
   "outputs": [
    {
     "name": "stderr",
     "output_type": "stream",
     "text": [
      "Warning message:\n",
      "\"package 'kknn' was built under R version 3.6.3\"\n",
      "Attaching package: 'kknn'\n",
      "\n",
      "The following object is masked from 'package:caret':\n",
      "\n",
      "    contr.dummy\n",
      "\n"
     ]
    }
   ],
   "source": [
    "library(class)  #k-근접이웃법\n",
    "library(kknn)   #가중 k-근접이웃법\n",
    "library(caret) #인자 조정 선별\n",
    "library(MASS) #데이터 담고 있는 라이브러라\n",
    "library(reshape2) #박스플롯을 생성하는데 도움\n",
    "library(ggplot2) # 박스플롯 생성\n",
    "\n"
   ]
  },
  {
   "cell_type": "code",
   "execution_count": 71,
   "metadata": {},
   "outputs": [
    {
     "name": "stdout",
     "output_type": "stream",
     "text": [
      "'data.frame':\t200 obs. of  8 variables:\n",
      " $ npreg: int  5 7 5 0 0 5 3 1 3 2 ...\n",
      " $ glu  : int  86 195 77 165 107 97 83 193 142 128 ...\n",
      " $ bp   : int  68 70 82 76 60 76 58 50 80 78 ...\n",
      " $ skin : int  28 33 41 43 25 27 31 16 15 37 ...\n",
      " $ bmi  : num  30.2 25.1 35.8 47.9 26.4 35.6 34.3 25.9 32.4 43.3 ...\n",
      " $ ped  : num  0.364 0.163 0.156 0.259 0.133 ...\n",
      " $ age  : int  24 55 35 26 23 52 25 24 63 31 ...\n",
      " $ type : Factor w/ 2 levels \"No\",\"Yes\": 1 2 1 1 1 2 1 1 1 2 ...\n",
      "'data.frame':\t332 obs. of  8 variables:\n",
      " $ npreg: int  6 1 1 3 2 5 0 1 3 9 ...\n",
      " $ glu  : int  148 85 89 78 197 166 118 103 126 119 ...\n",
      " $ bp   : int  72 66 66 50 70 72 84 30 88 80 ...\n",
      " $ skin : int  35 29 23 32 45 19 47 38 41 35 ...\n",
      " $ bmi  : num  33.6 26.6 28.1 31 30.5 25.8 45.8 43.3 39.3 29 ...\n",
      " $ ped  : num  0.627 0.351 0.167 0.248 0.158 0.587 0.551 0.183 0.704 0.263 ...\n",
      " $ age  : int  50 31 21 26 53 51 31 33 27 29 ...\n",
      " $ type : Factor w/ 2 levels \"No\",\"Yes\": 2 1 1 2 2 2 2 1 1 2 ...\n"
     ]
    }
   ],
   "source": [
    "data(Pima.tr); str(Pima.tr)\n",
    "data(Pima.te); str(Pima.te)"
   ]
  },
  {
   "cell_type": "code",
   "execution_count": 72,
   "metadata": {},
   "outputs": [
    {
     "name": "stdout",
     "output_type": "stream",
     "text": [
      "'data.frame':\t532 obs. of  8 variables:\n",
      " $ npreg: int  5 7 5 0 0 5 3 1 3 2 ...\n",
      " $ glu  : int  86 195 77 165 107 97 83 193 142 128 ...\n",
      " $ bp   : int  68 70 82 76 60 76 58 50 80 78 ...\n",
      " $ skin : int  28 33 41 43 25 27 31 16 15 37 ...\n",
      " $ bmi  : num  30.2 25.1 35.8 47.9 26.4 35.6 34.3 25.9 32.4 43.3 ...\n",
      " $ ped  : num  0.364 0.163 0.156 0.259 0.133 ...\n",
      " $ age  : int  24 55 35 26 23 52 25 24 63 31 ...\n",
      " $ type : Factor w/ 2 levels \"No\",\"Yes\": 1 2 1 1 1 2 1 1 1 2 ...\n"
     ]
    }
   ],
   "source": [
    "pima<-rbind(Pima.tr, Pima.te)\n",
    "str(pima)"
   ]
  },
  {
   "cell_type": "code",
   "execution_count": 75,
   "metadata": {},
   "outputs": [
    {
     "data": {
      "text/html": [
       "<table>\n",
       "<thead><tr><th scope=col>type</th><th scope=col>variable</th><th scope=col>value</th></tr></thead>\n",
       "<tbody>\n",
       "\t<tr><td>No   </td><td>npreg</td><td> 5   </td></tr>\n",
       "\t<tr><td>Yes  </td><td>npreg</td><td> 7   </td></tr>\n",
       "\t<tr><td>No   </td><td>npreg</td><td> 5   </td></tr>\n",
       "\t<tr><td>No   </td><td>npreg</td><td> 0   </td></tr>\n",
       "\t<tr><td>No   </td><td>npreg</td><td> 0   </td></tr>\n",
       "\t<tr><td>Yes  </td><td>npreg</td><td> 5   </td></tr>\n",
       "\t<tr><td>No   </td><td>npreg</td><td> 3   </td></tr>\n",
       "\t<tr><td>No   </td><td>npreg</td><td> 1   </td></tr>\n",
       "\t<tr><td>No   </td><td>npreg</td><td> 3   </td></tr>\n",
       "\t<tr><td>Yes  </td><td>npreg</td><td> 2   </td></tr>\n",
       "\t<tr><td>Yes  </td><td>npreg</td><td> 0   </td></tr>\n",
       "\t<tr><td>No   </td><td>npreg</td><td> 9   </td></tr>\n",
       "\t<tr><td>Yes  </td><td>npreg</td><td> 1   </td></tr>\n",
       "\t<tr><td>Yes  </td><td>npreg</td><td>12   </td></tr>\n",
       "\t<tr><td>No   </td><td>npreg</td><td> 1   </td></tr>\n",
       "\t<tr><td>No   </td><td>npreg</td><td> 4   </td></tr>\n",
       "\t<tr><td>No   </td><td>npreg</td><td> 1   </td></tr>\n",
       "\t<tr><td>Yes  </td><td>npreg</td><td>11   </td></tr>\n",
       "\t<tr><td>Yes  </td><td>npreg</td><td> 1   </td></tr>\n",
       "\t<tr><td>No   </td><td>npreg</td><td> 0   </td></tr>\n",
       "\t<tr><td>No   </td><td>npreg</td><td> 2   </td></tr>\n",
       "\t<tr><td>No   </td><td>npreg</td><td> 1   </td></tr>\n",
       "\t<tr><td>No   </td><td>npreg</td><td> 4   </td></tr>\n",
       "\t<tr><td>No   </td><td>npreg</td><td> 0   </td></tr>\n",
       "\t<tr><td>No   </td><td>npreg</td><td> 1   </td></tr>\n",
       "\t<tr><td>Yes  </td><td>npreg</td><td> 9   </td></tr>\n",
       "\t<tr><td>No   </td><td>npreg</td><td> 1   </td></tr>\n",
       "\t<tr><td>Yes  </td><td>npreg</td><td> 0   </td></tr>\n",
       "\t<tr><td>No   </td><td>npreg</td><td> 5   </td></tr>\n",
       "\t<tr><td>No   </td><td>npreg</td><td> 2   </td></tr>\n",
       "\t<tr><td>...</td><td>...</td><td>...</td></tr>\n",
       "\t<tr><td>Yes</td><td>age</td><td>38 </td></tr>\n",
       "\t<tr><td>No </td><td>age</td><td>21 </td></tr>\n",
       "\t<tr><td>Yes</td><td>age</td><td>34 </td></tr>\n",
       "\t<tr><td>Yes</td><td>age</td><td>31 </td></tr>\n",
       "\t<tr><td>No </td><td>age</td><td>56 </td></tr>\n",
       "\t<tr><td>No </td><td>age</td><td>24 </td></tr>\n",
       "\t<tr><td>No </td><td>age</td><td>42 </td></tr>\n",
       "\t<tr><td>No </td><td>age</td><td>25 </td></tr>\n",
       "\t<tr><td>No </td><td>age</td><td>22 </td></tr>\n",
       "\t<tr><td>Yes</td><td>age</td><td>24 </td></tr>\n",
       "\t<tr><td>No </td><td>age</td><td>22 </td></tr>\n",
       "\t<tr><td>No </td><td>age</td><td>21 </td></tr>\n",
       "\t<tr><td>No </td><td>age</td><td>42 </td></tr>\n",
       "\t<tr><td>No </td><td>age</td><td>21 </td></tr>\n",
       "\t<tr><td>Yes</td><td>age</td><td>48 </td></tr>\n",
       "\t<tr><td>No </td><td>age</td><td>26 </td></tr>\n",
       "\t<tr><td>No </td><td>age</td><td>22 </td></tr>\n",
       "\t<tr><td>No </td><td>age</td><td>39 </td></tr>\n",
       "\t<tr><td>No </td><td>age</td><td>46 </td></tr>\n",
       "\t<tr><td>Yes</td><td>age</td><td>27 </td></tr>\n",
       "\t<tr><td>Yes</td><td>age</td><td>36 </td></tr>\n",
       "\t<tr><td>No </td><td>age</td><td>28 </td></tr>\n",
       "\t<tr><td>No </td><td>age</td><td>25 </td></tr>\n",
       "\t<tr><td>Yes</td><td>age</td><td>26 </td></tr>\n",
       "\t<tr><td>Yes</td><td>age</td><td>37 </td></tr>\n",
       "\t<tr><td>No </td><td>age</td><td>22 </td></tr>\n",
       "\t<tr><td>Yes</td><td>age</td><td>43 </td></tr>\n",
       "\t<tr><td>No </td><td>age</td><td>63 </td></tr>\n",
       "\t<tr><td>No </td><td>age</td><td>30 </td></tr>\n",
       "\t<tr><td>No </td><td>age</td><td>23 </td></tr>\n",
       "</tbody>\n",
       "</table>\n"
      ],
      "text/latex": [
       "\\begin{tabular}{r|lll}\n",
       " type & variable & value\\\\\n",
       "\\hline\n",
       "\t No    & npreg &  5   \\\\\n",
       "\t Yes   & npreg &  7   \\\\\n",
       "\t No    & npreg &  5   \\\\\n",
       "\t No    & npreg &  0   \\\\\n",
       "\t No    & npreg &  0   \\\\\n",
       "\t Yes   & npreg &  5   \\\\\n",
       "\t No    & npreg &  3   \\\\\n",
       "\t No    & npreg &  1   \\\\\n",
       "\t No    & npreg &  3   \\\\\n",
       "\t Yes   & npreg &  2   \\\\\n",
       "\t Yes   & npreg &  0   \\\\\n",
       "\t No    & npreg &  9   \\\\\n",
       "\t Yes   & npreg &  1   \\\\\n",
       "\t Yes   & npreg & 12   \\\\\n",
       "\t No    & npreg &  1   \\\\\n",
       "\t No    & npreg &  4   \\\\\n",
       "\t No    & npreg &  1   \\\\\n",
       "\t Yes   & npreg & 11   \\\\\n",
       "\t Yes   & npreg &  1   \\\\\n",
       "\t No    & npreg &  0   \\\\\n",
       "\t No    & npreg &  2   \\\\\n",
       "\t No    & npreg &  1   \\\\\n",
       "\t No    & npreg &  4   \\\\\n",
       "\t No    & npreg &  0   \\\\\n",
       "\t No    & npreg &  1   \\\\\n",
       "\t Yes   & npreg &  9   \\\\\n",
       "\t No    & npreg &  1   \\\\\n",
       "\t Yes   & npreg &  0   \\\\\n",
       "\t No    & npreg &  5   \\\\\n",
       "\t No    & npreg &  2   \\\\\n",
       "\t ... & ... & ...\\\\\n",
       "\t Yes & age & 38 \\\\\n",
       "\t No  & age & 21 \\\\\n",
       "\t Yes & age & 34 \\\\\n",
       "\t Yes & age & 31 \\\\\n",
       "\t No  & age & 56 \\\\\n",
       "\t No  & age & 24 \\\\\n",
       "\t No  & age & 42 \\\\\n",
       "\t No  & age & 25 \\\\\n",
       "\t No  & age & 22 \\\\\n",
       "\t Yes & age & 24 \\\\\n",
       "\t No  & age & 22 \\\\\n",
       "\t No  & age & 21 \\\\\n",
       "\t No  & age & 42 \\\\\n",
       "\t No  & age & 21 \\\\\n",
       "\t Yes & age & 48 \\\\\n",
       "\t No  & age & 26 \\\\\n",
       "\t No  & age & 22 \\\\\n",
       "\t No  & age & 39 \\\\\n",
       "\t No  & age & 46 \\\\\n",
       "\t Yes & age & 27 \\\\\n",
       "\t Yes & age & 36 \\\\\n",
       "\t No  & age & 28 \\\\\n",
       "\t No  & age & 25 \\\\\n",
       "\t Yes & age & 26 \\\\\n",
       "\t Yes & age & 37 \\\\\n",
       "\t No  & age & 22 \\\\\n",
       "\t Yes & age & 43 \\\\\n",
       "\t No  & age & 63 \\\\\n",
       "\t No  & age & 30 \\\\\n",
       "\t No  & age & 23 \\\\\n",
       "\\end{tabular}\n"
      ],
      "text/markdown": [
       "\n",
       "| type | variable | value |\n",
       "|---|---|---|\n",
       "| No    | npreg |  5    |\n",
       "| Yes   | npreg |  7    |\n",
       "| No    | npreg |  5    |\n",
       "| No    | npreg |  0    |\n",
       "| No    | npreg |  0    |\n",
       "| Yes   | npreg |  5    |\n",
       "| No    | npreg |  3    |\n",
       "| No    | npreg |  1    |\n",
       "| No    | npreg |  3    |\n",
       "| Yes   | npreg |  2    |\n",
       "| Yes   | npreg |  0    |\n",
       "| No    | npreg |  9    |\n",
       "| Yes   | npreg |  1    |\n",
       "| Yes   | npreg | 12    |\n",
       "| No    | npreg |  1    |\n",
       "| No    | npreg |  4    |\n",
       "| No    | npreg |  1    |\n",
       "| Yes   | npreg | 11    |\n",
       "| Yes   | npreg |  1    |\n",
       "| No    | npreg |  0    |\n",
       "| No    | npreg |  2    |\n",
       "| No    | npreg |  1    |\n",
       "| No    | npreg |  4    |\n",
       "| No    | npreg |  0    |\n",
       "| No    | npreg |  1    |\n",
       "| Yes   | npreg |  9    |\n",
       "| No    | npreg |  1    |\n",
       "| Yes   | npreg |  0    |\n",
       "| No    | npreg |  5    |\n",
       "| No    | npreg |  2    |\n",
       "| ... | ... | ... |\n",
       "| Yes | age | 38  |\n",
       "| No  | age | 21  |\n",
       "| Yes | age | 34  |\n",
       "| Yes | age | 31  |\n",
       "| No  | age | 56  |\n",
       "| No  | age | 24  |\n",
       "| No  | age | 42  |\n",
       "| No  | age | 25  |\n",
       "| No  | age | 22  |\n",
       "| Yes | age | 24  |\n",
       "| No  | age | 22  |\n",
       "| No  | age | 21  |\n",
       "| No  | age | 42  |\n",
       "| No  | age | 21  |\n",
       "| Yes | age | 48  |\n",
       "| No  | age | 26  |\n",
       "| No  | age | 22  |\n",
       "| No  | age | 39  |\n",
       "| No  | age | 46  |\n",
       "| Yes | age | 27  |\n",
       "| Yes | age | 36  |\n",
       "| No  | age | 28  |\n",
       "| No  | age | 25  |\n",
       "| Yes | age | 26  |\n",
       "| Yes | age | 37  |\n",
       "| No  | age | 22  |\n",
       "| Yes | age | 43  |\n",
       "| No  | age | 63  |\n",
       "| No  | age | 30  |\n",
       "| No  | age | 23  |\n",
       "\n"
      ],
      "text/plain": [
       "     type variable value\n",
       "1    No   npreg     5   \n",
       "2    Yes  npreg     7   \n",
       "3    No   npreg     5   \n",
       "4    No   npreg     0   \n",
       "5    No   npreg     0   \n",
       "6    Yes  npreg     5   \n",
       "7    No   npreg     3   \n",
       "8    No   npreg     1   \n",
       "9    No   npreg     3   \n",
       "10   Yes  npreg     2   \n",
       "11   Yes  npreg     0   \n",
       "12   No   npreg     9   \n",
       "13   Yes  npreg     1   \n",
       "14   Yes  npreg    12   \n",
       "15   No   npreg     1   \n",
       "16   No   npreg     4   \n",
       "17   No   npreg     1   \n",
       "18   Yes  npreg    11   \n",
       "19   Yes  npreg     1   \n",
       "20   No   npreg     0   \n",
       "21   No   npreg     2   \n",
       "22   No   npreg     1   \n",
       "23   No   npreg     4   \n",
       "24   No   npreg     0   \n",
       "25   No   npreg     1   \n",
       "26   Yes  npreg     9   \n",
       "27   No   npreg     1   \n",
       "28   Yes  npreg     0   \n",
       "29   No   npreg     5   \n",
       "30   No   npreg     2   \n",
       "...  ...  ...      ...  \n",
       "3695 Yes  age      38   \n",
       "3696 No   age      21   \n",
       "3697 Yes  age      34   \n",
       "3698 Yes  age      31   \n",
       "3699 No   age      56   \n",
       "3700 No   age      24   \n",
       "3701 No   age      42   \n",
       "3702 No   age      25   \n",
       "3703 No   age      22   \n",
       "3704 Yes  age      24   \n",
       "3705 No   age      22   \n",
       "3706 No   age      21   \n",
       "3707 No   age      42   \n",
       "3708 No   age      21   \n",
       "3709 Yes  age      48   \n",
       "3710 No   age      26   \n",
       "3711 No   age      22   \n",
       "3712 No   age      39   \n",
       "3713 No   age      46   \n",
       "3714 Yes  age      27   \n",
       "3715 Yes  age      36   \n",
       "3716 No   age      28   \n",
       "3717 No   age      25   \n",
       "3718 Yes  age      26   \n",
       "3719 Yes  age      37   \n",
       "3720 No   age      22   \n",
       "3721 Yes  age      43   \n",
       "3722 No   age      63   \n",
       "3723 No   age      30   \n",
       "3724 No   age      23   "
      ]
     },
     "metadata": {},
     "output_type": "display_data"
    }
   ],
   "source": [
    "pima.melt<-melt(pima, id.var=\"type\")\n",
    "pima.melt"
   ]
  },
  {
   "cell_type": "code",
   "execution_count": 79,
   "metadata": {},
   "outputs": [
    {
     "data": {
      "image/png": "[encoded data removed]",
      "text/plain": [
       "plot without title"
      ]
     },
     "metadata": {},
     "output_type": "display_data"
    }
   ],
   "source": [
    "ggplot (pima.melt, aes(x=type, y=value))+\n",
    "geom_boxplot()+ facet_wrap(~variable, ncol=2)"
   ]
  },
  {
   "cell_type": "code",
   "execution_count": 83,
   "metadata": {},
   "outputs": [
    {
     "name": "stdout",
     "output_type": "stream",
     "text": [
      "'data.frame':\t532 obs. of  7 variables:\n",
      " $ npreg: num  0.448 1.052 0.448 -1.062 -1.062 ...\n",
      " $ glu  : num  -1.13 2.386 -1.42 1.418 -0.453 ...\n",
      " $ bp   : num  -0.285 -0.122 0.852 0.365 -0.935 ...\n",
      " $ skin : num  -0.112 0.363 1.123 1.313 -0.397 ...\n",
      " $ bmi  : num  -0.391 -1.132 0.423 2.181 -0.943 ...\n",
      " $ ped  : num  -0.403 -0.987 -1.007 -0.708 -1.074 ...\n",
      " $ age  : num  -0.708 2.173 0.315 -0.522 -0.801 ...\n"
     ]
    }
   ],
   "source": [
    "pima.scale<-data.frame(scale(pima[,-8]))  ; str(pima.scale)  # target 빼고 스케일링 함   "
   ]
  },
  {
   "cell_type": "code",
   "execution_count": 85,
   "metadata": {},
   "outputs": [
    {
     "name": "stdout",
     "output_type": "stream",
     "text": [
      " Factor w/ 2 levels \"No\",\"Yes\": 1 2 1 1 1 2 1 1 1 2 ...\n"
     ]
    }
   ],
   "source": [
    "pima.scale$type <- pima$type\n",
    "str(pima$type)"
   ]
  },
  {
   "cell_type": "code",
   "execution_count": 87,
   "metadata": {},
   "outputs": [
    {
     "data": {
      "image/png": "[encoded data removed]",
      "text/plain": [
       "plot without title"
      ]
     },
     "metadata": {},
     "output_type": "display_data"
    }
   ],
   "source": [
    "pima.scale.melt<- melt(pima.scale, id.var=\"type\")\n",
    "ggplot(data=pima.scale.melt, aes(x=type, y=value))+ geom_boxplot() + facet_wrap(~variable, ncol=2)\n"
   ]
  },
  {
   "cell_type": "code",
   "execution_count": 88,
   "metadata": {},
   "outputs": [
    {
     "data": {
      "text/html": [
       "<table>\n",
       "<thead><tr><th></th><th scope=col>npreg</th><th scope=col>glu</th><th scope=col>bp</th><th scope=col>skin</th><th scope=col>bmi</th><th scope=col>ped</th><th scope=col>age</th></tr></thead>\n",
       "<tbody>\n",
       "\t<tr><th scope=row>npreg</th><td>1.000000000</td><td>0.1253296  </td><td>0.204663421</td><td>0.09508511 </td><td>0.008576282</td><td>0.007435104</td><td>0.64074687 </td></tr>\n",
       "\t<tr><th scope=row>glu</th><td>0.125329647</td><td>1.0000000  </td><td>0.219177950</td><td>0.22659042 </td><td>0.247079294</td><td>0.165817411</td><td>0.27890711 </td></tr>\n",
       "\t<tr><th scope=row>bp</th><td>0.204663421</td><td>0.2191779  </td><td>1.000000000</td><td>0.22607244 </td><td>0.307356904</td><td>0.008047249</td><td>0.34693872 </td></tr>\n",
       "\t<tr><th scope=row>skin</th><td>0.095085114</td><td>0.2265904  </td><td>0.226072440</td><td>1.00000000 </td><td>0.647422386</td><td>0.118635569</td><td>0.16133614 </td></tr>\n",
       "\t<tr><th scope=row>bmi</th><td>0.008576282</td><td>0.2470793  </td><td>0.307356904</td><td>0.64742239 </td><td>1.000000000</td><td>0.151107136</td><td>0.07343826 </td></tr>\n",
       "\t<tr><th scope=row>ped</th><td>0.007435104</td><td>0.1658174  </td><td>0.008047249</td><td>0.11863557 </td><td>0.151107136</td><td>1.000000000</td><td>0.07165413 </td></tr>\n",
       "\t<tr><th scope=row>age</th><td>0.640746866</td><td>0.2789071  </td><td>0.346938723</td><td>0.16133614 </td><td>0.073438257</td><td>0.071654133</td><td>1.00000000 </td></tr>\n",
       "</tbody>\n",
       "</table>\n"
      ],
      "text/latex": [
       "\\begin{tabular}{r|lllllll}\n",
       "  & npreg & glu & bp & skin & bmi & ped & age\\\\\n",
       "\\hline\n",
       "\tnpreg & 1.000000000 & 0.1253296   & 0.204663421 & 0.09508511  & 0.008576282 & 0.007435104 & 0.64074687 \\\\\n",
       "\tglu & 0.125329647 & 1.0000000   & 0.219177950 & 0.22659042  & 0.247079294 & 0.165817411 & 0.27890711 \\\\\n",
       "\tbp & 0.204663421 & 0.2191779   & 1.000000000 & 0.22607244  & 0.307356904 & 0.008047249 & 0.34693872 \\\\\n",
       "\tskin & 0.095085114 & 0.2265904   & 0.226072440 & 1.00000000  & 0.647422386 & 0.118635569 & 0.16133614 \\\\\n",
       "\tbmi & 0.008576282 & 0.2470793   & 0.307356904 & 0.64742239  & 1.000000000 & 0.151107136 & 0.07343826 \\\\\n",
       "\tped & 0.007435104 & 0.1658174   & 0.008047249 & 0.11863557  & 0.151107136 & 1.000000000 & 0.07165413 \\\\\n",
       "\tage & 0.640746866 & 0.2789071   & 0.346938723 & 0.16133614  & 0.073438257 & 0.071654133 & 1.00000000 \\\\\n",
       "\\end{tabular}\n"
      ],
      "text/markdown": [
       "\n",
       "| <!--/--> | npreg | glu | bp | skin | bmi | ped | age |\n",
       "|---|---|---|---|---|---|---|---|\n",
       "| npreg | 1.000000000 | 0.1253296   | 0.204663421 | 0.09508511  | 0.008576282 | 0.007435104 | 0.64074687  |\n",
       "| glu | 0.125329647 | 1.0000000   | 0.219177950 | 0.22659042  | 0.247079294 | 0.165817411 | 0.27890711  |\n",
       "| bp | 0.204663421 | 0.2191779   | 1.000000000 | 0.22607244  | 0.307356904 | 0.008047249 | 0.34693872  |\n",
       "| skin | 0.095085114 | 0.2265904   | 0.226072440 | 1.00000000  | 0.647422386 | 0.118635569 | 0.16133614  |\n",
       "| bmi | 0.008576282 | 0.2470793   | 0.307356904 | 0.64742239  | 1.000000000 | 0.151107136 | 0.07343826  |\n",
       "| ped | 0.007435104 | 0.1658174   | 0.008047249 | 0.11863557  | 0.151107136 | 1.000000000 | 0.07165413  |\n",
       "| age | 0.640746866 | 0.2789071   | 0.346938723 | 0.16133614  | 0.073438257 | 0.071654133 | 1.00000000  |\n",
       "\n"
      ],
      "text/plain": [
       "      npreg       glu       bp          skin       bmi         ped        \n",
       "npreg 1.000000000 0.1253296 0.204663421 0.09508511 0.008576282 0.007435104\n",
       "glu   0.125329647 1.0000000 0.219177950 0.22659042 0.247079294 0.165817411\n",
       "bp    0.204663421 0.2191779 1.000000000 0.22607244 0.307356904 0.008047249\n",
       "skin  0.095085114 0.2265904 0.226072440 1.00000000 0.647422386 0.118635569\n",
       "bmi   0.008576282 0.2470793 0.307356904 0.64742239 1.000000000 0.151107136\n",
       "ped   0.007435104 0.1658174 0.008047249 0.11863557 0.151107136 1.000000000\n",
       "age   0.640746866 0.2789071 0.346938723 0.16133614 0.073438257 0.071654133\n",
       "      age       \n",
       "npreg 0.64074687\n",
       "glu   0.27890711\n",
       "bp    0.34693872\n",
       "skin  0.16133614\n",
       "bmi   0.07343826\n",
       "ped   0.07165413\n",
       "age   1.00000000"
      ]
     },
     "metadata": {},
     "output_type": "display_data"
    }
   ],
   "source": [
    "cor(pima.scale[-8])   #파라미터가 제대로 조정됨->문제가 아님"
   ]
  },
  {
   "cell_type": "code",
   "execution_count": 89,
   "metadata": {},
   "outputs": [
    {
     "data": {
      "text/plain": [
       "\n",
       " No Yes \n",
       "355 177 "
      ]
     },
     "metadata": {},
     "output_type": "display_data"
    }
   ],
   "source": [
    "table(pima.scale$type)"
   ]
  },
  {
   "cell_type": "code",
   "execution_count": 92,
   "metadata": {},
   "outputs": [],
   "source": [
    "ind<-sample(1:nrow(pima.scale), nrow(pima.scale)*0.7, replace=FALSE)\n",
    "train<-pima.scale[ind,]\n",
    "test<-pima.scale[-ind,]"
   ]
  },
  {
   "cell_type": "code",
   "execution_count": 93,
   "metadata": {},
   "outputs": [
    {
     "name": "stdout",
     "output_type": "stream",
     "text": [
      "'data.frame':\t372 obs. of  8 variables:\n",
      " $ npreg: num  1.05 -0.76 0.75 -0.76 -0.76 ...\n",
      " $ glu  : num  1.87 -0.775 -1.324 0.225 -1.098 ...\n",
      " $ bp   : num  1.909 -0.285 -0.447 -1.909 0.528 ...\n",
      " $ skin : num  0.1727 -0.7775 0.0777 1.503 -0.2074 ...\n",
      " $ bmi  : num  0.19 -0.827 -0.972 1.106 0.248 ...\n",
      " $ ped  : num  -0.984 1.718 -0.551 0.319 -1.167 ...\n",
      " $ age  : num  2.638 -0.893 0.872 -0.708 -0.893 ...\n",
      " $ type : Factor w/ 2 levels \"No\",\"Yes\": 1 1 1 2 1 1 1 1 1 1 ...\n",
      "'data.frame':\t160 obs. of  8 variables:\n",
      " $ npreg: num  -1.062 -0.76 0.146 2.259 -1.062 ...\n",
      " $ glu  : num  -0.453 -1.13 -0.711 0.709 0.58 ...\n",
      " $ bp   : num  -0.935 -0.447 0.365 1.827 -0.772 ...\n",
      " $ skin : num  -0.397 2.168 -1.348 0.363 -1.158 ...\n",
      " $ bmi  : num  -0.943 1.222 -1.408 0.539 -1.568 ...\n",
      " $ ped  : num  -1.074 1.202 -0.813 -0.723 -0.859 ...\n",
      " $ age  : num  -0.801 -0.243 -0.986 1.801 -0.986 ...\n",
      " $ type : Factor w/ 2 levels \"No\",\"Yes\": 1 1 1 2 1 1 1 2 2 1 ...\n"
     ]
    }
   ],
   "source": [
    "str(train); str(test)"
   ]
  },
  {
   "cell_type": "code",
   "execution_count": 98,
   "metadata": {},
   "outputs": [
    {
     "name": "stdout",
     "output_type": "stream",
     "text": [
      "'data.frame':\t375 obs. of  8 variables:\n",
      " $ npreg: num  1.052 0.448 -1.062 -1.062 0.448 ...\n",
      " $ glu  : num  2.386 -1.42 1.418 -0.453 -0.775 ...\n",
      " $ bp   : num  -0.122 0.852 0.365 -0.935 0.365 ...\n",
      " $ skin : num  0.363 1.123 1.313 -0.397 -0.207 ...\n",
      " $ bmi  : num  -1.132 0.423 2.181 -0.943 0.394 ...\n",
      " $ ped  : num  -0.987 -1.007 -0.708 -1.074 -0.363 ...\n",
      " $ age  : num  2.173 0.315 -0.522 -0.801 1.894 ...\n",
      " $ type : Factor w/ 2 levels \"No\",\"Yes\": 2 1 1 1 2 1 1 2 2 1 ...\n",
      "'data.frame':\t157 obs. of  8 variables:\n",
      " $ npreg: num  0.448 -0.156 -0.76 2.561 2.259 ...\n",
      " $ glu  : num  -1.13 0.676 2.193 -0.936 0.709 ...\n",
      " $ bp   : num  -0.285 0.69 -0.935 -0.772 1.827 ...\n",
      " $ skin : num  -0.112 -1.348 -0.587 -2.108 0.363 ...\n",
      " $ bmi  : num  -0.391 -0.0712 -0.4055 -0.7688 0.5391 ...\n",
      " $ ped  : num  -0.403 -0.879 -0.305 1.228 -0.723 ...\n",
      " $ age  : num  -0.708 2.916 2.545 1.151 1.801 ...\n",
      " $ type : Factor w/ 2 levels \"No\",\"Yes\": 1 1 2 2 2 1 1 2 1 2 ...\n"
     ]
    }
   ],
   "source": [
    "idx<-sample(2, nrow(pima.scale), replace=TRUE, prob=c(0.7, 0.3))\n",
    "train2<-pima.scale[idx==1,]\n",
    "test2<-pima.scale[idx==2, ]\n",
    "str(train2) ; str(test2)\n"
   ]
  },
  {
   "cell_type": "code",
   "execution_count": 102,
   "metadata": {},
   "outputs": [
    {
     "data": {
      "text/html": [
       "<table>\n",
       "<thead><tr><th scope=col>.k</th></tr></thead>\n",
       "<tbody>\n",
       "\t<tr><td> 2</td></tr>\n",
       "\t<tr><td> 3</td></tr>\n",
       "\t<tr><td> 4</td></tr>\n",
       "\t<tr><td> 5</td></tr>\n",
       "\t<tr><td> 6</td></tr>\n",
       "\t<tr><td> 7</td></tr>\n",
       "\t<tr><td> 8</td></tr>\n",
       "\t<tr><td> 9</td></tr>\n",
       "\t<tr><td>10</td></tr>\n",
       "\t<tr><td>11</td></tr>\n",
       "\t<tr><td>12</td></tr>\n",
       "\t<tr><td>13</td></tr>\n",
       "\t<tr><td>14</td></tr>\n",
       "\t<tr><td>15</td></tr>\n",
       "\t<tr><td>16</td></tr>\n",
       "\t<tr><td>17</td></tr>\n",
       "\t<tr><td>18</td></tr>\n",
       "\t<tr><td>19</td></tr>\n",
       "\t<tr><td>20</td></tr>\n",
       "</tbody>\n",
       "</table>\n"
      ],
      "text/latex": [
       "\\begin{tabular}{r|l}\n",
       " .k\\\\\n",
       "\\hline\n",
       "\t  2\\\\\n",
       "\t  3\\\\\n",
       "\t  4\\\\\n",
       "\t  5\\\\\n",
       "\t  6\\\\\n",
       "\t  7\\\\\n",
       "\t  8\\\\\n",
       "\t  9\\\\\n",
       "\t 10\\\\\n",
       "\t 11\\\\\n",
       "\t 12\\\\\n",
       "\t 13\\\\\n",
       "\t 14\\\\\n",
       "\t 15\\\\\n",
       "\t 16\\\\\n",
       "\t 17\\\\\n",
       "\t 18\\\\\n",
       "\t 19\\\\\n",
       "\t 20\\\\\n",
       "\\end{tabular}\n"
      ],
      "text/markdown": [
       "\n",
       "| .k |\n",
       "|---|\n",
       "|  2 |\n",
       "|  3 |\n",
       "|  4 |\n",
       "|  5 |\n",
       "|  6 |\n",
       "|  7 |\n",
       "|  8 |\n",
       "|  9 |\n",
       "| 10 |\n",
       "| 11 |\n",
       "| 12 |\n",
       "| 13 |\n",
       "| 14 |\n",
       "| 15 |\n",
       "| 16 |\n",
       "| 17 |\n",
       "| 18 |\n",
       "| 19 |\n",
       "| 20 |\n",
       "\n"
      ],
      "text/plain": [
       "   .k\n",
       "1   2\n",
       "2   3\n",
       "3   4\n",
       "4   5\n",
       "5   6\n",
       "6   7\n",
       "7   8\n",
       "8   9\n",
       "9  10\n",
       "10 11\n",
       "11 12\n",
       "12 13\n",
       "13 14\n",
       "14 15\n",
       "15 16\n",
       "16 17\n",
       "17 18\n",
       "18 19\n",
       "19 20"
      ]
     },
     "metadata": {},
     "output_type": "display_data"
    }
   ],
   "source": [
    "grid1<-expand.grid(.k=seq(2,20,by=1))#k의 입력값을 위한 격자망\n",
    "grid1\n"
   ]
  },
  {
   "cell_type": "code",
   "execution_count": 104,
   "metadata": {},
   "outputs": [],
   "source": [
    "control= trainControl(method=\"cv\") #caret 매개변수 선택"
   ]
  },
  {
   "cell_type": "code",
   "execution_count": 106,
   "metadata": {},
   "outputs": [
    {
     "data": {
      "text/plain": [
       "k-Nearest Neighbors \n",
       "\n",
       "372 samples\n",
       "  7 predictor\n",
       "  2 classes: 'No', 'Yes' \n",
       "\n",
       "No pre-processing\n",
       "Resampling: Cross-Validated (10 fold) \n",
       "Summary of sample sizes: 335, 335, 334, 335, 334, 336, ... \n",
       "Resampling results across tuning parameters:\n",
       "\n",
       "  k   Accuracy   Kappa    \n",
       "   2  0.7209380  0.3680320\n",
       "   3  0.7049471  0.3207223\n",
       "   4  0.7237316  0.3552936\n",
       "   5  0.7077960  0.3255223\n",
       "   6  0.7398095  0.4013436\n",
       "   7  0.7344713  0.3864556\n",
       "   8  0.7321993  0.3787563\n",
       "   9  0.7482693  0.4076722\n",
       "  10  0.7425004  0.4043236\n",
       "  11  0.7506085  0.4202276\n",
       "  12  0.7481231  0.4098386\n",
       "  13  0.7639837  0.4473478\n",
       "  14  0.7584361  0.4283687\n",
       "  15  0.7530307  0.4153831\n",
       "  16  0.7503951  0.4097321\n",
       "  17  0.7557334  0.4190032\n",
       "  18  0.7529595  0.4057878\n",
       "  19  0.7531018  0.4070139\n",
       "  20  0.7635570  0.4308925\n",
       "\n",
       "Accuracy was used to select the optimal model using the largest value.\n",
       "The final value used for the model was k = 13."
      ]
     },
     "metadata": {},
     "output_type": "display_data"
    }
   ],
   "source": [
    "set.seed(123)\n",
    "knn.train<- train(type~., train, method=\"knn\", trControl=control, tuneGrid=grid1)   #caret 최적k 구하기\n",
    "knn.train"
   ]
  },
  {
   "cell_type": "code",
   "execution_count": 108,
   "metadata": {},
   "outputs": [
    {
     "data": {
      "text/plain": [
       "        \n",
       "knn.test No Yes\n",
       "     No  91  22\n",
       "     Yes 16  31"
      ]
     },
     "metadata": {},
     "output_type": "display_data"
    }
   ],
   "source": [
    "knn.test<- knn(train[,-8], test[, -8], train[,8], k=17)\n",
    "table(knn.test, test$type)"
   ]
  },
  {
   "cell_type": "code",
   "execution_count": 115,
   "metadata": {},
   "outputs": [
    {
     "data": {
      "text/html": [
       "\n",
       "<table width=\"100%\" summary=\"page for confusionMatrix {caret}\"><tr><td>confusionMatrix {caret}</td><td style=\"text-align: right;\">R Documentation</td></tr></table>\n",
       "\n",
       "<h2>Create a confusion matrix</h2>\n",
       "\n",
       "<h3>Description</h3>\n",
       "\n",
       "<p>Calculates a cross-tabulation of observed and predicted classes with\n",
       "associated statistics.\n",
       "</p>\n",
       "\n",
       "\n",
       "<h3>Usage</h3>\n",
       "\n",
       "<pre>\n",
       "confusionMatrix(data, ...)\n",
       "\n",
       "## Default S3 method:\n",
       "confusionMatrix(\n",
       "  data,\n",
       "  reference,\n",
       "  positive = NULL,\n",
       "  dnn = c(\"Prediction\", \"Reference\"),\n",
       "  prevalence = NULL,\n",
       "  mode = \"sens_spec\",\n",
       "  ...\n",
       ")\n",
       "\n",
       "## S3 method for class 'table'\n",
       "confusionMatrix(\n",
       "  data,\n",
       "  positive = NULL,\n",
       "  prevalence = NULL,\n",
       "  mode = \"sens_spec\",\n",
       "  ...\n",
       ")\n",
       "</pre>\n",
       "\n",
       "\n",
       "<h3>Arguments</h3>\n",
       "\n",
       "<table summary=\"R argblock\">\n",
       "<tr valign=\"top\"><td><code>data</code></td>\n",
       "<td>\n",
       "<p>a factor of predicted classes (for the default method) or an\n",
       "object of class <code>table</code>.</p>\n",
       "</td></tr>\n",
       "<tr valign=\"top\"><td><code>...</code></td>\n",
       "<td>\n",
       "<p>options to be passed to <code>table</code>. NOTE: do not include\n",
       "<code>dnn</code> here</p>\n",
       "</td></tr>\n",
       "<tr valign=\"top\"><td><code>reference</code></td>\n",
       "<td>\n",
       "<p>a factor of classes to be used as the true results</p>\n",
       "</td></tr>\n",
       "<tr valign=\"top\"><td><code>positive</code></td>\n",
       "<td>\n",
       "<p>an optional character string for the factor level that\n",
       "corresponds to a &quot;positive&quot; result (if that makes sense for your data). If\n",
       "there are only two factor levels, the first level will be used as the\n",
       "&quot;positive&quot; result. When <code>mode = \"prec_recall\"</code>, <code>positive</code> is the\n",
       "same value used for <code>relevant</code> for functions <code>precision</code>,\n",
       "<code>recall</code>, and <code>F_meas.table</code>.</p>\n",
       "</td></tr>\n",
       "<tr valign=\"top\"><td><code>dnn</code></td>\n",
       "<td>\n",
       "<p>a character vector of dimnames for the table</p>\n",
       "</td></tr>\n",
       "<tr valign=\"top\"><td><code>prevalence</code></td>\n",
       "<td>\n",
       "<p>a numeric value or matrix for the rate of the &quot;positive&quot;\n",
       "class of the data. When <code>data</code> has two levels, <code>prevalence</code> should\n",
       "be a single numeric value. Otherwise, it should be a vector of numeric\n",
       "values with elements for each class. The vector should have names\n",
       "corresponding to the classes.</p>\n",
       "</td></tr>\n",
       "<tr valign=\"top\"><td><code>mode</code></td>\n",
       "<td>\n",
       "<p>a single character string either &quot;sens_spec&quot;, &quot;prec_recall&quot;, or\n",
       "&quot;everything&quot;</p>\n",
       "</td></tr>\n",
       "</table>\n",
       "\n",
       "\n",
       "<h3>Details</h3>\n",
       "\n",
       "<p>The functions requires that the factors have exactly the same levels.\n",
       "</p>\n",
       "<p>For two class problems, the sensitivity, specificity, positive predictive\n",
       "value and negative predictive value is calculated using the <code>positive</code>\n",
       "argument. Also, the prevalence of the &quot;event&quot; is computed from the data\n",
       "(unless passed in as an argument), the detection rate (the rate of true\n",
       "events also predicted to be events) and the detection prevalence (the\n",
       "prevalence of predicted events).\n",
       "</p>\n",
       "<p>Suppose a 2x2 table with notation\n",
       "</p>\n",
       "\n",
       "<table summary=\"Rd table\">\n",
       "<tr>\n",
       " <td style=\"text-align: right;\"> </td><td style=\"text-align: center;\"> Reference </td><td style=\"text-align: center;\"> </td>\n",
       "</tr>\n",
       "<tr>\n",
       " <td style=\"text-align: right;\"> Predicted </td><td style=\"text-align: center;\"> Event </td><td style=\"text-align: center;\"> No Event\n",
       "</td>\n",
       "</tr>\n",
       "<tr>\n",
       " <td style=\"text-align: right;\"> Event </td><td style=\"text-align: center;\"> A </td><td style=\"text-align: center;\"> B </td>\n",
       "</tr>\n",
       "<tr>\n",
       " <td style=\"text-align: right;\"> No Event </td><td style=\"text-align: center;\"> C </td><td style=\"text-align: center;\"> D </td>\n",
       "</tr>\n",
       "<tr>\n",
       " <td style=\"text-align: right;\"> </td>\n",
       "</tr>\n",
       "\n",
       "</table>\n",
       "\n",
       "<p>The formulas used here are: </p>\n",
       "<p style=\"text-align: center;\"><i>Sensitivity = A/(A+C)</i></p>\n",
       " <p style=\"text-align: center;\"><i>Specificity =\n",
       "D/(B+D)</i></p>\n",
       " <p style=\"text-align: center;\"><i>Prevalence = (A+C)/(A+B+C+D)</i></p>\n",
       " <p style=\"text-align: center;\"><i>PPV = (sensitivity *\n",
       "prevalence)/((sensitivity*prevalence) + ((1-specificity)*(1-prevalence)))</i></p>\n",
       "\n",
       "<p style=\"text-align: center;\"><i>NPV = (specificity * (1-prevalence))/(((1-sensitivity)*prevalence) +\n",
       "((specificity)*(1-prevalence)))</i></p>\n",
       " <p style=\"text-align: center;\"><i>Detection Rate = A/(A+B+C+D)</i></p>\n",
       "\n",
       "<p style=\"text-align: center;\"><i>Detection Prevalence = (A+B)/(A+B+C+D)</i></p>\n",
       " <p style=\"text-align: center;\"><i>Balanced Accuracy =\n",
       "(sensitivity+specificity)/2</i></p>\n",
       "\n",
       "<p style=\"text-align: center;\"><i>Precision = A/(A+B)</i></p>\n",
       " <p style=\"text-align: center;\"><i>Recall = A/(A+C)</i></p>\n",
       " <p style=\"text-align: center;\"><i>F1 =\n",
       "(1+beta^2)*precision*recall/((beta^2 * precision)+recall)</i></p>\n",
       "\n",
       "<p>where <code>beta = 1</code> for this function.\n",
       "</p>\n",
       "<p>See the references for discussions of the first five formulas.\n",
       "</p>\n",
       "<p>For more than two classes, these results are calculated comparing each\n",
       "factor level to the remaining levels (i.e. a &quot;one versus all&quot; approach).\n",
       "</p>\n",
       "<p>The overall accuracy and unweighted Kappa statistic are calculated. A\n",
       "p-value from McNemar's test is also computed using\n",
       "<code>mcnemar.test</code> (which can produce <code>NA</code> values with\n",
       "sparse tables).\n",
       "</p>\n",
       "<p>The overall accuracy rate is computed along with a 95 percent confidence\n",
       "interval for this rate (using <code>binom.test</code>) and a\n",
       "one-sided test to see if the accuracy is better than the &quot;no information\n",
       "rate,&quot; which is taken to be the largest class percentage in the data.\n",
       "</p>\n",
       "\n",
       "\n",
       "<h3>Value</h3>\n",
       "\n",
       "<p>a list with elements </p>\n",
       "<table summary=\"R valueblock\">\n",
       "<tr valign=\"top\"><td><code>table</code></td>\n",
       "<td>\n",
       "<p>the results of <code>table</code> on\n",
       "<code>data</code> and <code>reference</code></p>\n",
       "</td></tr> <tr valign=\"top\"><td><code>positive</code></td>\n",
       "<td>\n",
       "<p>the positive result level</p>\n",
       "</td></tr>\n",
       "<tr valign=\"top\"><td><code>overall</code></td>\n",
       "<td>\n",
       "<p>a numeric vector with overall accuracy and Kappa statistic\n",
       "values</p>\n",
       "</td></tr> <tr valign=\"top\"><td><code>byClass</code></td>\n",
       "<td>\n",
       "<p>the sensitivity, specificity, positive predictive\n",
       "value, negative predictive value, precision, recall, F1, prevalence,\n",
       "detection rate, detection prevalence and balanced accuracy for each class.\n",
       "For two class systems, this is calculated once using the <code>positive</code>\n",
       "argument</p>\n",
       "</td></tr>\n",
       "</table>\n",
       "\n",
       "\n",
       "<h3>Note</h3>\n",
       "\n",
       "<p>If the reference and data factors have the same levels, but in the\n",
       "incorrect order, the function will reorder them to the order of the data and\n",
       "issue a warning.\n",
       "</p>\n",
       "\n",
       "\n",
       "<h3>Author(s)</h3>\n",
       "\n",
       "<p>Max Kuhn\n",
       "</p>\n",
       "\n",
       "\n",
       "<h3>References</h3>\n",
       "\n",
       "<p>Kuhn, M. (2008), &ldquo;Building predictive models in R using the\n",
       "caret package, &rdquo; <em>Journal of Statistical Software</em>,\n",
       "(<a href=\"http://www.jstatsoft.org/article/view/v028i05/v28i05.pdf\">http://www.jstatsoft.org/article/view/v028i05/v28i05.pdf</a>).\n",
       "</p>\n",
       "<p>Altman, D.G., Bland, J.M. (1994) &ldquo;Diagnostic tests 1: sensitivity and\n",
       "specificity,&rdquo; <em>British Medical Journal</em>, vol 308, 1552.\n",
       "</p>\n",
       "<p>Altman, D.G., Bland, J.M. (1994) &ldquo;Diagnostic tests 2: predictive values,&rdquo;\n",
       "<em>British Medical Journal</em>, vol 309, 102.\n",
       "</p>\n",
       "<p>Velez, D.R., et. al. (2008) &ldquo;A balanced accuracy function for epistasis\n",
       "modeling in imbalanced datasets using multifactor dimensionality\n",
       "reduction.,&rdquo; <em>Genetic Epidemiology</em>, vol 4, 306.\n",
       "</p>\n",
       "\n",
       "\n",
       "<h3>See Also</h3>\n",
       "\n",
       "<p><code>as.table.confusionMatrix</code>,\n",
       "<code>as.matrix.confusionMatrix</code>, <code>sensitivity</code>,\n",
       "<code>specificity</code>, <code>posPredValue</code>,\n",
       "<code>negPredValue</code>, <code>print.confusionMatrix</code>,\n",
       "<code>binom.test</code>\n",
       "</p>\n",
       "\n",
       "\n",
       "<h3>Examples</h3>\n",
       "\n",
       "<pre>\n",
       "\n",
       "###################\n",
       "## 2 class example\n",
       "\n",
       "lvs &lt;- c(\"normal\", \"abnormal\")\n",
       "truth &lt;- factor(rep(lvs, times = c(86, 258)),\n",
       "                levels = rev(lvs))\n",
       "pred &lt;- factor(\n",
       "               c(\n",
       "                 rep(lvs, times = c(54, 32)),\n",
       "                 rep(lvs, times = c(27, 231))),\n",
       "               levels = rev(lvs))\n",
       "\n",
       "xtab &lt;- table(pred, truth)\n",
       "\n",
       "confusionMatrix(xtab)\n",
       "confusionMatrix(pred, truth)\n",
       "confusionMatrix(xtab, prevalence = 0.25)\n",
       "\n",
       "###################\n",
       "## 3 class example\n",
       "\n",
       "confusionMatrix(iris$Species, sample(iris$Species))\n",
       "\n",
       "newPrior &lt;- c(.05, .8, .15)\n",
       "names(newPrior) &lt;- levels(iris$Species)\n",
       "\n",
       "confusionMatrix(iris$Species, sample(iris$Species))\n",
       "\n",
       "\n",
       "</pre>\n",
       "\n",
       "<hr /><div style=\"text-align: center;\">[Package <em>caret</em> version 6.0-86 ]</div>"
      ],
      "text/latex": [
       "\\inputencoding{utf8}\n",
       "\\HeaderA{confusionMatrix}{Create a confusion matrix}{confusionMatrix}\n",
       "\\methaliasA{confusionMatrix.default}{confusionMatrix}{confusionMatrix.default}\n",
       "\\methaliasA{confusionMatrix.table}{confusionMatrix}{confusionMatrix.table}\n",
       "\\keyword{utilities}{confusionMatrix}\n",
       "%\n",
       "\\begin{Description}\\relax\n",
       "Calculates a cross-tabulation of observed and predicted classes with\n",
       "associated statistics.\n",
       "\\end{Description}\n",
       "%\n",
       "\\begin{Usage}\n",
       "\\begin{verbatim}\n",
       "confusionMatrix(data, ...)\n",
       "\n",
       "## Default S3 method:\n",
       "confusionMatrix(\n",
       "  data,\n",
       "  reference,\n",
       "  positive = NULL,\n",
       "  dnn = c(\"Prediction\", \"Reference\"),\n",
       "  prevalence = NULL,\n",
       "  mode = \"sens_spec\",\n",
       "  ...\n",
       ")\n",
       "\n",
       "## S3 method for class 'table'\n",
       "confusionMatrix(\n",
       "  data,\n",
       "  positive = NULL,\n",
       "  prevalence = NULL,\n",
       "  mode = \"sens_spec\",\n",
       "  ...\n",
       ")\n",
       "\\end{verbatim}\n",
       "\\end{Usage}\n",
       "%\n",
       "\\begin{Arguments}\n",
       "\\begin{ldescription}\n",
       "\\item[\\code{data}] a factor of predicted classes (for the default method) or an\n",
       "object of class \\code{\\LinkA{table}{table}}.\n",
       "\n",
       "\\item[\\code{...}] options to be passed to \\code{table}. NOTE: do not include\n",
       "\\code{dnn} here\n",
       "\n",
       "\\item[\\code{reference}] a factor of classes to be used as the true results\n",
       "\n",
       "\\item[\\code{positive}] an optional character string for the factor level that\n",
       "corresponds to a \"positive\" result (if that makes sense for your data). If\n",
       "there are only two factor levels, the first level will be used as the\n",
       "\"positive\" result. When \\code{mode = \"prec\\_recall\"}, \\code{positive} is the\n",
       "same value used for \\code{relevant} for functions \\code{\\LinkA{precision}{precision}},\n",
       "\\code{\\LinkA{recall}{recall}}, and \\code{\\LinkA{F\\_meas.table}{F.Rul.meas.table}}.\n",
       "\n",
       "\\item[\\code{dnn}] a character vector of dimnames for the table\n",
       "\n",
       "\\item[\\code{prevalence}] a numeric value or matrix for the rate of the \"positive\"\n",
       "class of the data. When \\code{data} has two levels, \\code{prevalence} should\n",
       "be a single numeric value. Otherwise, it should be a vector of numeric\n",
       "values with elements for each class. The vector should have names\n",
       "corresponding to the classes.\n",
       "\n",
       "\\item[\\code{mode}] a single character string either \"sens\\_spec\", \"prec\\_recall\", or\n",
       "\"everything\"\n",
       "\\end{ldescription}\n",
       "\\end{Arguments}\n",
       "%\n",
       "\\begin{Details}\\relax\n",
       "The functions requires that the factors have exactly the same levels.\n",
       "\n",
       "For two class problems, the sensitivity, specificity, positive predictive\n",
       "value and negative predictive value is calculated using the \\code{positive}\n",
       "argument. Also, the prevalence of the \"event\" is computed from the data\n",
       "(unless passed in as an argument), the detection rate (the rate of true\n",
       "events also predicted to be events) and the detection prevalence (the\n",
       "prevalence of predicted events).\n",
       "\n",
       "Suppose a 2x2 table with notation\n",
       "\n",
       "\n",
       "\\Tabular{rcc}{ & Reference & \\\\{} Predicted & Event & No Event\n",
       "\\\\{} Event & A & B \\\\{} No Event & C & D \\\\{} }\n",
       "\n",
       "The formulas used here are: \\deqn{Sensitivity = A/(A+C)}{} \\deqn{Specificity =\n",
       "D/(B+D)}{} \\deqn{Prevalence = (A+C)/(A+B+C+D)}{} \\deqn{PPV = (sensitivity *\n",
       "prevalence)/((sensitivity*prevalence) + ((1-specificity)*(1-prevalence)))}{}\n",
       "\\deqn{NPV = (specificity * (1-prevalence))/(((1-sensitivity)*prevalence) +\n",
       "((specificity)*(1-prevalence)))}{} \\deqn{Detection Rate = A/(A+B+C+D)}{}\n",
       "\\deqn{Detection Prevalence = (A+B)/(A+B+C+D)}{} \\deqn{Balanced Accuracy =\n",
       "(sensitivity+specificity)/2}{}\n",
       "\n",
       "\\deqn{Precision = A/(A+B)}{} \\deqn{Recall = A/(A+C)}{} \\deqn{F1 =\n",
       "(1+beta^2)*precision*recall/((beta^2 * precision)+recall)}{}\n",
       "\n",
       "where \\code{beta = 1} for this function.\n",
       "\n",
       "See the references for discussions of the first five formulas.\n",
       "\n",
       "For more than two classes, these results are calculated comparing each\n",
       "factor level to the remaining levels (i.e. a \"one versus all\" approach).\n",
       "\n",
       "The overall accuracy and unweighted Kappa statistic are calculated. A\n",
       "p-value from McNemar's test is also computed using\n",
       "\\code{\\LinkA{mcnemar.test}{mcnemar.test}} (which can produce \\code{NA} values with\n",
       "sparse tables).\n",
       "\n",
       "The overall accuracy rate is computed along with a 95 percent confidence\n",
       "interval for this rate (using \\code{\\LinkA{binom.test}{binom.test}}) and a\n",
       "one-sided test to see if the accuracy is better than the \"no information\n",
       "rate,\" which is taken to be the largest class percentage in the data.\n",
       "\\end{Details}\n",
       "%\n",
       "\\begin{Value}\n",
       "a list with elements \\begin{ldescription}\n",
       "\\item[\\code{table}] the results of \\code{table} on\n",
       "\\code{data} and \\code{reference}\\item[\\code{positive}] the positive result level\n",
       "\\item[\\code{overall}] a numeric vector with overall accuracy and Kappa statistic\n",
       "values\\item[\\code{byClass}] the sensitivity, specificity, positive predictive\n",
       "value, negative predictive value, precision, recall, F1, prevalence,\n",
       "detection rate, detection prevalence and balanced accuracy for each class.\n",
       "For two class systems, this is calculated once using the \\code{positive}\n",
       "argument\n",
       "\\end{ldescription}\n",
       "\\end{Value}\n",
       "%\n",
       "\\begin{Note}\\relax\n",
       "If the reference and data factors have the same levels, but in the\n",
       "incorrect order, the function will reorder them to the order of the data and\n",
       "issue a warning.\n",
       "\\end{Note}\n",
       "%\n",
       "\\begin{Author}\\relax\n",
       "Max Kuhn\n",
       "\\end{Author}\n",
       "%\n",
       "\\begin{References}\\relax\n",
       "Kuhn, M. (2008), ``Building predictive models in R using the\n",
       "caret package, '' \\emph{Journal of Statistical Software},\n",
       "(\\url{http://www.jstatsoft.org/article/view/v028i05/v28i05.pdf}).\n",
       "\n",
       "Altman, D.G., Bland, J.M. (1994) ``Diagnostic tests 1: sensitivity and\n",
       "specificity,'' \\emph{British Medical Journal}, vol 308, 1552.\n",
       "\n",
       "Altman, D.G., Bland, J.M. (1994) ``Diagnostic tests 2: predictive values,''\n",
       "\\emph{British Medical Journal}, vol 309, 102.\n",
       "\n",
       "Velez, D.R., et. al. (2008) ``A balanced accuracy function for epistasis\n",
       "modeling in imbalanced datasets using multifactor dimensionality\n",
       "reduction.,'' \\emph{Genetic Epidemiology}, vol 4, 306.\n",
       "\\end{References}\n",
       "%\n",
       "\\begin{SeeAlso}\\relax\n",
       "\\code{\\LinkA{as.table.confusionMatrix}{as.table.confusionMatrix}},\n",
       "\\code{\\LinkA{as.matrix.confusionMatrix}{as.matrix.confusionMatrix}}, \\code{\\LinkA{sensitivity}{sensitivity}},\n",
       "\\code{\\LinkA{specificity}{specificity}}, \\code{\\LinkA{posPredValue}{posPredValue}},\n",
       "\\code{\\LinkA{negPredValue}{negPredValue}}, \\code{\\LinkA{print.confusionMatrix}{print.confusionMatrix}},\n",
       "\\code{\\LinkA{binom.test}{binom.test}}\n",
       "\\end{SeeAlso}\n",
       "%\n",
       "\\begin{Examples}\n",
       "\\begin{ExampleCode}\n",
       "\n",
       "###################\n",
       "## 2 class example\n",
       "\n",
       "lvs <- c(\"normal\", \"abnormal\")\n",
       "truth <- factor(rep(lvs, times = c(86, 258)),\n",
       "                levels = rev(lvs))\n",
       "pred <- factor(\n",
       "               c(\n",
       "                 rep(lvs, times = c(54, 32)),\n",
       "                 rep(lvs, times = c(27, 231))),\n",
       "               levels = rev(lvs))\n",
       "\n",
       "xtab <- table(pred, truth)\n",
       "\n",
       "confusionMatrix(xtab)\n",
       "confusionMatrix(pred, truth)\n",
       "confusionMatrix(xtab, prevalence = 0.25)\n",
       "\n",
       "###################\n",
       "## 3 class example\n",
       "\n",
       "confusionMatrix(iris$Species, sample(iris$Species))\n",
       "\n",
       "newPrior <- c(.05, .8, .15)\n",
       "names(newPrior) <- levels(iris$Species)\n",
       "\n",
       "confusionMatrix(iris$Species, sample(iris$Species))\n",
       "\n",
       "\n",
       "\\end{ExampleCode}\n",
       "\\end{Examples}"
      ],
      "text/plain": [
       "confusionMatrix             package:caret              R Documentation\n",
       "\n",
       "_\bC_\br_\be_\ba_\bt_\be _\ba _\bc_\bo_\bn_\bf_\bu_\bs_\bi_\bo_\bn _\bm_\ba_\bt_\br_\bi_\bx\n",
       "\n",
       "_\bD_\be_\bs_\bc_\br_\bi_\bp_\bt_\bi_\bo_\bn:\n",
       "\n",
       "     Calculates a cross-tabulation of observed and predicted classes\n",
       "     with associated statistics.\n",
       "\n",
       "_\bU_\bs_\ba_\bg_\be:\n",
       "\n",
       "     confusionMatrix(data, ...)\n",
       "     \n",
       "     ## Default S3 method:\n",
       "     confusionMatrix(\n",
       "       data,\n",
       "       reference,\n",
       "       positive = NULL,\n",
       "       dnn = c(\"Prediction\", \"Reference\"),\n",
       "       prevalence = NULL,\n",
       "       mode = \"sens_spec\",\n",
       "       ...\n",
       "     )\n",
       "     \n",
       "     ## S3 method for class 'table'\n",
       "     confusionMatrix(\n",
       "       data,\n",
       "       positive = NULL,\n",
       "       prevalence = NULL,\n",
       "       mode = \"sens_spec\",\n",
       "       ...\n",
       "     )\n",
       "     \n",
       "_\bA_\br_\bg_\bu_\bm_\be_\bn_\bt_\bs:\n",
       "\n",
       "    data: a factor of predicted classes (for the default method) or an\n",
       "          object of class 'table'.\n",
       "\n",
       "     ...: options to be passed to 'table'. NOTE: do not include 'dnn'\n",
       "          here\n",
       "\n",
       "reference: a factor of classes to be used as the true results\n",
       "\n",
       "positive: an optional character string for the factor level that\n",
       "          corresponds to a \"positive\" result (if that makes sense for\n",
       "          your data). If there are only two factor levels, the first\n",
       "          level will be used as the \"positive\" result. When 'mode =\n",
       "          \"prec_recall\"', 'positive' is the same value used for\n",
       "          'relevant' for functions 'precision', 'recall', and\n",
       "          'F_meas.table'.\n",
       "\n",
       "     dnn: a character vector of dimnames for the table\n",
       "\n",
       "prevalence: a numeric value or matrix for the rate of the \"positive\"\n",
       "          class of the data. When 'data' has two levels, 'prevalence'\n",
       "          should be a single numeric value. Otherwise, it should be a\n",
       "          vector of numeric values with elements for each class. The\n",
       "          vector should have names corresponding to the classes.\n",
       "\n",
       "    mode: a single character string either \"sens_spec\", \"prec_recall\",\n",
       "          or \"everything\"\n",
       "\n",
       "_\bD_\be_\bt_\ba_\bi_\bl_\bs:\n",
       "\n",
       "     The functions requires that the factors have exactly the same\n",
       "     levels.\n",
       "\n",
       "     For two class problems, the sensitivity, specificity, positive\n",
       "     predictive value and negative predictive value is calculated using\n",
       "     the 'positive' argument. Also, the prevalence of the \"event\" is\n",
       "     computed from the data (unless passed in as an argument), the\n",
       "     detection rate (the rate of true events also predicted to be\n",
       "     events) and the detection prevalence (the prevalence of predicted\n",
       "     events).\n",
       "\n",
       "     Suppose a 2x2 table with notation\n",
       "\n",
       "                  Reference           \n",
       "       Predicted    Event    No Event \n",
       "           Event      A         B     \n",
       "        No Event      C         D     \n",
       "      \n",
       "     The formulas used here are:\n",
       "\n",
       "                            Sensitivity = A/(A+C)                       \n",
       "     \n",
       "                            Specificity =D/(B+D)                        \n",
       "     \n",
       "                        Prevalence = (A+C)/(A+B+C+D)                    \n",
       "     \n",
       "     PPV = (sensitivity *\n",
       "     prevalence)/((sensitivity*prevalence) + ((1-specificity)*(1-prevalence)))\n",
       "     \n",
       "     NPV = (specificity * (1-prevalence))/(((1-sensitivity)*prevalence) +\n",
       "     ((specificity)*(1-prevalence)))\n",
       "     \n",
       "                        Detection Rate = A/(A+B+C+D)                    \n",
       "     \n",
       "                   Detection Prevalence = (A+B)/(A+B+C+D)               \n",
       "     \n",
       "               Balanced Accuracy =(sensitivity+specificity)/2           \n",
       "     \n",
       "                             Precision = A/(A+B)                        \n",
       "     \n",
       "                              Recall = A/(A+C)                          \n",
       "     \n",
       "        F1 =(1+beta^2)*precision*recall/((beta^2 * precision)+recall)   \n",
       "     \n",
       "     where 'beta = 1' for this function.\n",
       "\n",
       "     See the references for discussions of the first five formulas.\n",
       "\n",
       "     For more than two classes, these results are calculated comparing\n",
       "     each factor level to the remaining levels (i.e. a \"one versus all\"\n",
       "     approach).\n",
       "\n",
       "     The overall accuracy and unweighted Kappa statistic are\n",
       "     calculated. A p-value from McNemar's test is also computed using\n",
       "     'mcnemar.test' (which can produce 'NA' values with sparse tables).\n",
       "\n",
       "     The overall accuracy rate is computed along with a 95 percent\n",
       "     confidence interval for this rate (using 'binom.test') and a\n",
       "     one-sided test to see if the accuracy is better than the \"no\n",
       "     information rate,\" which is taken to be the largest class\n",
       "     percentage in the data.\n",
       "\n",
       "_\bV_\ba_\bl_\bu_\be:\n",
       "\n",
       "     a list with elements\n",
       "\n",
       "   table: the results of 'table' on 'data' and 'reference'\n",
       "\n",
       "positive: the positive result level\n",
       "\n",
       " overall: a numeric vector with overall accuracy and Kappa statistic\n",
       "          values\n",
       "\n",
       " byClass: the sensitivity, specificity, positive predictive value,\n",
       "          negative predictive value, precision, recall, F1, prevalence,\n",
       "          detection rate, detection prevalence and balanced accuracy\n",
       "          for each class. For two class systems, this is calculated\n",
       "          once using the 'positive' argument\n",
       "\n",
       "_\bN_\bo_\bt_\be:\n",
       "\n",
       "     If the reference and data factors have the same levels, but in the\n",
       "     incorrect order, the function will reorder them to the order of\n",
       "     the data and issue a warning.\n",
       "\n",
       "_\bA_\bu_\bt_\bh_\bo_\br(_\bs):\n",
       "\n",
       "     Max Kuhn\n",
       "\n",
       "_\bR_\be_\bf_\be_\br_\be_\bn_\bc_\be_\bs:\n",
       "\n",
       "     Kuhn, M. (2008), ``Building predictive models in R using the caret\n",
       "     package, '' _Journal of Statistical Software_, (<URL:\n",
       "     http://www.jstatsoft.org/article/view/v028i05/v28i05.pdf>).\n",
       "\n",
       "     Altman, D.G., Bland, J.M. (1994) ``Diagnostic tests 1: sensitivity\n",
       "     and specificity,'' _British Medical Journal_, vol 308, 1552.\n",
       "\n",
       "     Altman, D.G., Bland, J.M. (1994) ``Diagnostic tests 2: predictive\n",
       "     values,'' _British Medical Journal_, vol 309, 102.\n",
       "\n",
       "     Velez, D.R., et. al. (2008) ``A balanced accuracy function for\n",
       "     epistasis modeling in imbalanced datasets using multifactor\n",
       "     dimensionality reduction.,'' _Genetic Epidemiology_, vol 4, 306.\n",
       "\n",
       "_\bS_\be_\be _\bA_\bl_\bs_\bo:\n",
       "\n",
       "     'as.table.confusionMatrix', 'as.matrix.confusionMatrix',\n",
       "     'sensitivity', 'specificity', 'posPredValue', 'negPredValue',\n",
       "     'print.confusionMatrix', 'binom.test'\n",
       "\n",
       "_\bE_\bx_\ba_\bm_\bp_\bl_\be_\bs:\n",
       "\n",
       "     ###################\n",
       "     ## 2 class example\n",
       "     \n",
       "     lvs <- c(\"normal\", \"abnormal\")\n",
       "     truth <- factor(rep(lvs, times = c(86, 258)),\n",
       "                     levels = rev(lvs))\n",
       "     pred <- factor(\n",
       "                    c(\n",
       "                      rep(lvs, times = c(54, 32)),\n",
       "                      rep(lvs, times = c(27, 231))),\n",
       "                    levels = rev(lvs))\n",
       "     \n",
       "     xtab <- table(pred, truth)\n",
       "     \n",
       "     confusionMatrix(xtab)\n",
       "     confusionMatrix(pred, truth)\n",
       "     confusionMatrix(xtab, prevalence = 0.25)\n",
       "     \n",
       "     ###################\n",
       "     ## 3 class example\n",
       "     \n",
       "     confusionMatrix(iris$Species, sample(iris$Species))\n",
       "     \n",
       "     newPrior <- c(.05, .8, .15)\n",
       "     names(newPrior) <- levels(iris$Species)\n",
       "     \n",
       "     confusionMatrix(iris$Species, sample(iris$Species))\n",
       "     "
      ]
     },
     "metadata": {},
     "output_type": "display_data"
    }
   ],
   "source": [
    "?confusionMatrix"
   ]
  },
  {
   "cell_type": "code",
   "execution_count": 109,
   "metadata": {},
   "outputs": [
    {
     "data": {
      "text/plain": [
       "Confusion Matrix and Statistics\n",
       "\n",
       "          Reference\n",
       "Prediction No Yes\n",
       "       No  91  22\n",
       "       Yes 16  31\n",
       "                                          \n",
       "               Accuracy : 0.7625          \n",
       "                 95% CI : (0.6889, 0.8261)\n",
       "    No Information Rate : 0.6688          \n",
       "    P-Value [Acc > NIR] : 0.006336        \n",
       "                                          \n",
       "                  Kappa : 0.4482          \n",
       "                                          \n",
       " Mcnemar's Test P-Value : 0.417304        \n",
       "                                          \n",
       "            Sensitivity : 0.8505          \n",
       "            Specificity : 0.5849          \n",
       "         Pos Pred Value : 0.8053          \n",
       "         Neg Pred Value : 0.6596          \n",
       "             Prevalence : 0.6687          \n",
       "         Detection Rate : 0.5687          \n",
       "   Detection Prevalence : 0.7063          \n",
       "      Balanced Accuracy : 0.7177          \n",
       "                                          \n",
       "       'Positive' Class : No              \n",
       "                                          "
      ]
     },
     "metadata": {},
     "output_type": "display_data"
    }
   ],
   "source": [
    "confusionMatrix(  knn.test    , test[,8])"
   ]
  },
  {
   "cell_type": "code",
   "execution_count": 112,
   "metadata": {},
   "outputs": [
    {
     "data": {
      "image/png": "[encoded data removed]",
      "text/plain": [
       "plot without title"
      ]
     },
     "metadata": {},
     "output_type": "display_data"
    }
   ],
   "source": [
    "set.seed(123)\n",
    "kknn.train<-train.kknn(type~., train, kmax=25,distance=2, kernel=c(\"rectangular\", \"triangular\", \"epanechnikov\") )\n",
    "plot(kknn.train)"
   ]
  },
  {
   "cell_type": "code",
   "execution_count": 113,
   "metadata": {},
   "outputs": [
    {
     "data": {
      "text/plain": [
       "\n",
       "Call:\n",
       "train.kknn(formula = type ~ ., data = train, kmax = 25, distance = 2,     kernel = c(\"rectangular\", \"triangular\", \"epanechnikov\"))\n",
       "\n",
       "Type of response variable: nominal\n",
       "Minimal misclassification: 0.233871\n",
       "Best kernel: rectangular\n",
       "Best k: 15"
      ]
     },
     "metadata": {},
     "output_type": "display_data"
    }
   ],
   "source": [
    "kknn.train"
   ]
  },
  {
   "cell_type": "code",
   "execution_count": 114,
   "metadata": {},
   "outputs": [
    {
     "data": {
      "text/plain": [
       "Confusion Matrix and Statistics\n",
       "\n",
       "          Reference\n",
       "Prediction No Yes\n",
       "       No  92  22\n",
       "       Yes 15  31\n",
       "                                          \n",
       "               Accuracy : 0.7688          \n",
       "                 95% CI : (0.6956, 0.8317)\n",
       "    No Information Rate : 0.6688          \n",
       "    P-Value [Acc > NIR] : 0.003774        \n",
       "                                          \n",
       "                  Kappa : 0.4601          \n",
       "                                          \n",
       " Mcnemar's Test P-Value : 0.323940        \n",
       "                                          \n",
       "            Sensitivity : 0.8598          \n",
       "            Specificity : 0.5849          \n",
       "         Pos Pred Value : 0.8070          \n",
       "         Neg Pred Value : 0.6739          \n",
       "             Prevalence : 0.6687          \n",
       "         Detection Rate : 0.5750          \n",
       "   Detection Prevalence : 0.7125          \n",
       "      Balanced Accuracy : 0.7224          \n",
       "                                          \n",
       "       'Positive' Class : No              \n",
       "                                          "
      ]
     },
     "metadata": {},
     "output_type": "display_data"
    }
   ],
   "source": [
    "pred.kknn<-predict(kknn.train, test)\n",
    "confusionMatrix(pred.kknn, test[,8])"
   ]
  },
  {
   "cell_type": "code",
   "execution_count": null,
   "metadata": {},
   "outputs": [],
   "source": [
    "set.seed(123)\n",
    "kknn.train <- train.kknn(type ~ ., data = train, \n",
    "                         kmax = 25, distance = 2, \n",
    "                         kernel = c(\"rectangular\", \"triangular\", \"epanechnikov\")\n",
    "#k쵀대값, 거리=1(유클리드),2(절댓값합)\n",
    "plot(kknn.train)\n",
    "kknn.train\n",
    "kknn.pred <- predict(kknn.train, newdata = test)\n",
    "table(kknn.pred, test$type)\n"
   ]
  },
  {
   "cell_type": "markdown",
   "metadata": {},
   "source": [
    "## 서포트벡터머신 모형화 "
   ]
  },
  {
   "cell_type": "code",
   "execution_count": 116,
   "metadata": {},
   "outputs": [
    {
     "name": "stderr",
     "output_type": "stream",
     "text": [
      "Warning message:\n",
      "\"package 'e1071' was built under R version 3.6.3\"\n",
      "Attaching package: 'kernlab'\n",
      "\n",
      "The following object is masked from 'package:ggplot2':\n",
      "\n",
      "    alpha\n",
      "\n",
      "Warning message:\n",
      "\"package 'pROC' was built under R version 3.6.3\"Type 'citation(\"pROC\")' for a citation.\n",
      "\n",
      "Attaching package: 'pROC'\n",
      "\n",
      "The following object is masked from 'package:h2o':\n",
      "\n",
      "    var\n",
      "\n",
      "The following objects are masked from 'package:stats':\n",
      "\n",
      "    cov, smooth, var\n",
      "\n"
     ]
    }
   ],
   "source": [
    "library(e1071)  #SVM\n",
    "library(kernlab) #SVM피처 선택에 도움   ksvm \n",
    "library(pROC) # SVM 피처 선택에 도움"
   ]
  },
  {
   "cell_type": "code",
   "execution_count": 170,
   "metadata": {},
   "outputs": [
    {
     "data": {
      "text/plain": [
       "\n",
       "Parameter tuning of 'svm':\n",
       "\n",
       "- sampling method: 10-fold cross validation \n",
       "\n",
       "- best parameters:\n",
       " cost\n",
       " 0.01\n",
       "\n",
       "- best performance: 0.2253201 \n",
       "\n",
       "- Detailed performance results:\n",
       "   cost     error dispersion\n",
       "1 1e-03 0.3328592 0.07520531\n",
       "2 1e-02 0.2253201 0.05398517\n",
       "3 1e-01 0.2308677 0.05814214\n",
       "4 5e+00 0.2335704 0.05211775\n",
       "5 1e+01 0.2335704 0.05211775\n"
      ]
     },
     "metadata": {},
     "output_type": "display_data"
    }
   ],
   "source": [
    "set.seed(123)\n",
    "linear.tune<- tune.svm(type~., data=train, kernel=\"linear\", cost=c(0.001, 0.01, 0.1, 5, 10))\n",
    "summary(linear.tune)"
   ]
  },
  {
   "cell_type": "code",
   "execution_count": 118,
   "metadata": {},
   "outputs": [
    {
     "name": "stdout",
     "output_type": "stream",
     "text": [
      "List of 8\n",
      " $ best.parameters :'data.frame':\t1 obs. of  1 variable:\n",
      "  ..$ cost: num 0.01\n",
      "  ..- attr(*, \"out.attrs\")=List of 2\n",
      "  .. ..$ dim     : Named int 5\n",
      "  .. .. ..- attr(*, \"names\")= chr \"cost\"\n",
      "  .. ..$ dimnames:List of 1\n",
      "  .. .. ..$ cost: chr [1:5] \"cost=1e-03\" \"cost=1e-02\" \"cost=1e-01\" \"cost=5e+00\" ...\n",
      " $ best.performance: num 0.225\n",
      " $ method          : chr \"svm\"\n",
      " $ nparcomb        : int 5\n",
      " $ train.ind       :List of 10\n",
      "  ..$ (0.629,38.1]: int [1:334] 166 217 290 69 72 76 63 141 210 363 ...\n",
      "  ..$ (38.1,75.2] : int [1:335] 179 14 195 306 118 299 229 244 371 153 ...\n",
      "  ..$ (75.2,112]  : int [1:335] 179 14 195 306 118 299 229 244 371 153 ...\n",
      "  ..$ (112,149]   : int [1:335] 179 14 195 306 118 299 229 244 371 153 ...\n",
      "  ..$ (149,186]   : int [1:335] 179 14 195 306 118 299 229 244 371 153 ...\n",
      "  ..$ (186,224]   : int [1:335] 179 14 195 306 118 299 229 244 371 153 ...\n",
      "  ..$ (224,261]   : int [1:335] 179 14 195 306 118 299 229 244 371 153 ...\n",
      "  ..$ (261,298]   : int [1:335] 179 14 195 306 118 299 229 244 371 153 ...\n",
      "  ..$ (298,335]   : int [1:335] 179 14 195 306 118 299 229 244 371 153 ...\n",
      "  ..$ (335,372]   : int [1:334] 179 14 195 306 118 299 229 244 371 153 ...\n",
      "  ..- attr(*, \"dim\")= int 10\n",
      "  ..- attr(*, \"dimnames\")=List of 1\n",
      "  .. ..$ : chr [1:10] \"(0.629,38.1]\" \"(38.1,75.2]\" \"(75.2,112]\" \"(112,149]\" ...\n",
      " $ sampling        : chr \"10-fold cross validation\"\n",
      " $ performances    :'data.frame':\t5 obs. of  3 variables:\n",
      "  ..$ cost      : num [1:5] 1e-03 1e-02 1e-01 5e+00 1e+01\n",
      "  ..$ error     : num [1:5] 0.333 0.225 0.231 0.234 0.234\n",
      "  ..$ dispersion: num [1:5] 0.0752 0.054 0.0581 0.0521 0.0521\n",
      " $ best.model      :List of 30\n",
      "  ..$ call           : language best.svm(x = type ~ ., data = train, cost = c(0.001, 0.01, 0.1, 5, 10),      kernel = \"linear\")\n",
      "  ..$ type           : num 0\n",
      "  ..$ kernel         : num 0\n",
      "  ..$ cost           : num 0.01\n",
      "  ..$ degree         : num 3\n",
      "  ..$ gamma          : num 0.143\n",
      "  ..$ coef0          : num 0\n",
      "  ..$ nu             : num 0.5\n",
      "  ..$ epsilon        : num 0.1\n",
      "  ..$ sparse         : logi FALSE\n",
      "  ..$ scaled         : logi [1:7] TRUE TRUE TRUE TRUE TRUE TRUE ...\n",
      "  ..$ x.scale        :List of 2\n",
      "  .. ..$ scaled:center: Named num [1:7] -0.046501 0.000331 -0.090863 0.006685 0.025329 ...\n",
      "  .. .. ..- attr(*, \"names\")= chr [1:7] \"npreg\" \"glu\" \"bp\" \"skin\" ...\n",
      "  .. ..$ scaled:scale : Named num [1:7] 0.968 0.994 1.013 0.962 1.006 ...\n",
      "  .. .. ..- attr(*, \"names\")= chr [1:7] \"npreg\" \"glu\" \"bp\" \"skin\" ...\n",
      "  ..$ y.scale        : NULL\n",
      "  ..$ nclasses       : int 2\n",
      "  ..$ levels         : chr [1:2] \"No\" \"Yes\"\n",
      "  ..$ tot.nSV        : int 233\n",
      "  ..$ nSV            : int [1:2] 116 117\n",
      "  ..$ labels         : int [1:2] 1 2\n",
      "  ..$ SV             : num [1:233, 1:7] 1.134 0.199 0.511 3.006 -0.425 ...\n",
      "  .. ..- attr(*, \"dimnames\")=List of 2\n",
      "  .. .. ..$ : chr [1:233] \"132\" \"397\" \"264\" \"520\" ...\n",
      "  .. .. ..$ : chr [1:7] \"npreg\" \"glu\" \"bp\" \"skin\" ...\n",
      "  ..$ index          : int [1:233] 1 6 7 12 23 24 25 26 31 32 ...\n",
      "  ..$ rho            : num -0.599\n",
      "  ..$ compprob       : logi FALSE\n",
      "  ..$ probA          : NULL\n",
      "  ..$ probB          : NULL\n",
      "  ..$ sigma          : NULL\n",
      "  ..$ coefs          : num [1:233, 1] 0.01 0.01 0.01 0.01 0.01 0.01 0.01 0.01 0.01 0.01 ...\n",
      "  ..$ na.action      : NULL\n",
      "  ..$ fitted         : Factor w/ 2 levels \"No\",\"Yes\": 2 1 1 1 1 1 1 1 1 1 ...\n",
      "  .. ..- attr(*, \"names\")= chr [1:372] \"132\" \"42\" \"133\" \"193\" ...\n",
      "  ..$ decision.values: num [1:372, 1] -1.065 1.301 1.283 0.383 1.578 ...\n",
      "  .. ..- attr(*, \"dimnames\")=List of 2\n",
      "  .. .. ..$ : chr [1:372] \"132\" \"42\" \"133\" \"193\" ...\n",
      "  .. .. ..$ : chr \"No/Yes\"\n",
      "  ..$ terms          :Classes 'terms', 'formula'  language type ~ npreg + glu + bp + skin + bmi + ped + age\n",
      "  .. .. ..- attr(*, \"variables\")= language list(type, npreg, glu, bp, skin, bmi, ped, age)\n",
      "  .. .. ..- attr(*, \"factors\")= int [1:8, 1:7] 0 1 0 0 0 0 0 0 0 0 ...\n",
      "  .. .. .. ..- attr(*, \"dimnames\")=List of 2\n",
      "  .. .. .. .. ..$ : chr [1:8] \"type\" \"npreg\" \"glu\" \"bp\" ...\n",
      "  .. .. .. .. ..$ : chr [1:7] \"npreg\" \"glu\" \"bp\" \"skin\" ...\n",
      "  .. .. ..- attr(*, \"term.labels\")= chr [1:7] \"npreg\" \"glu\" \"bp\" \"skin\" ...\n",
      "  .. .. ..- attr(*, \"order\")= int [1:7] 1 1 1 1 1 1 1\n",
      "  .. .. ..- attr(*, \"intercept\")= num 0\n",
      "  .. .. ..- attr(*, \"response\")= int 1\n",
      "  .. .. ..- attr(*, \".Environment\")=<environment: R_GlobalEnv> \n",
      "  .. .. ..- attr(*, \"predvars\")= language list(type, npreg, glu, bp, skin, bmi, ped, age)\n",
      "  .. .. ..- attr(*, \"dataClasses\")= Named chr [1:8] \"factor\" \"numeric\" \"numeric\" \"numeric\" ...\n",
      "  .. .. .. ..- attr(*, \"names\")= chr [1:8] \"type\" \"npreg\" \"glu\" \"bp\" ...\n",
      "  ..- attr(*, \"class\")= chr [1:2] \"svm.formula\" \"svm\"\n",
      " - attr(*, \"class\")= chr \"tune\"\n"
     ]
    }
   ],
   "source": [
    "str(linear.tune)"
   ]
  },
  {
   "cell_type": "code",
   "execution_count": 171,
   "metadata": {},
   "outputs": [],
   "source": [
    "pred.linear<- predict( linear.tune$best.model , test)"
   ]
  },
  {
   "cell_type": "code",
   "execution_count": 120,
   "metadata": {},
   "outputs": [
    {
     "data": {
      "text/plain": [
       "Confusion Matrix and Statistics\n",
       "\n",
       "          Reference\n",
       "Prediction No Yes\n",
       "       No  99  22\n",
       "       Yes  8  31\n",
       "                                          \n",
       "               Accuracy : 0.8125          \n",
       "                 95% CI : (0.7433, 0.8698)\n",
       "    No Information Rate : 0.6688          \n",
       "    P-Value [Acc > NIR] : 3.856e-05       \n",
       "                                          \n",
       "                  Kappa : 0.5466          \n",
       "                                          \n",
       " Mcnemar's Test P-Value : 0.01762         \n",
       "                                          \n",
       "            Sensitivity : 0.9252          \n",
       "            Specificity : 0.5849          \n",
       "         Pos Pred Value : 0.8182          \n",
       "         Neg Pred Value : 0.7949          \n",
       "             Prevalence : 0.6687          \n",
       "         Detection Rate : 0.6188          \n",
       "   Detection Prevalence : 0.7562          \n",
       "      Balanced Accuracy : 0.7551          \n",
       "                                          \n",
       "       'Positive' Class : No              \n",
       "                                          "
      ]
     },
     "metadata": {},
     "output_type": "display_data"
    }
   ],
   "source": [
    "confusionMatrix(pred.linear, test$type)"
   ]
  },
  {
   "cell_type": "code",
   "execution_count": 123,
   "metadata": {},
   "outputs": [
    {
     "data": {
      "text/html": [
       "0.8125"
      ],
      "text/latex": [
       "0.8125"
      ],
      "text/markdown": [
       "0.8125"
      ],
      "text/plain": [
       "[1] 0.8125"
      ]
     },
     "metadata": {},
     "output_type": "display_data"
    }
   ],
   "source": [
    "(99+31)/( 99 + 22 + 8 +31)"
   ]
  },
  {
   "cell_type": "code",
   "execution_count": 124,
   "metadata": {},
   "outputs": [
    {
     "data": {
      "text/plain": [
       "\n",
       "Parameter tuning of 'svm':\n",
       "\n",
       "- sampling method: 10-fold cross validation \n",
       "\n",
       "- best parameters:\n",
       " degree coef0\n",
       "      4     1\n",
       "\n",
       "- best performance: 0.247155 \n",
       "\n",
       "- Detailed performance results:\n",
       "   degree coef0     error dispersion\n",
       "1       3   0.1 0.2551209 0.05112128\n",
       "2       4   0.1 0.2794452 0.04679591\n",
       "3       5   0.1 0.2580370 0.05095140\n",
       "4       3   0.5 0.2577525 0.05050198\n",
       "5       4   0.5 0.2578947 0.05291403\n",
       "6       5   0.5 0.2607397 0.04205493\n",
       "7       3   1.0 0.2497866 0.05241520\n",
       "8       4   1.0 0.2471550 0.07072851\n",
       "9       5   1.0 0.2738976 0.08062815\n",
       "10      3   2.0 0.2525605 0.04988188\n",
       "11      4   2.0 0.2498578 0.08857378\n",
       "12      5   2.0 0.2978663 0.08102477\n",
       "13      3   3.0 0.2551209 0.04933760\n",
       "14      4   3.0 0.2578236 0.08651490\n",
       "15      5   3.0 0.3272404 0.10012853\n",
       "16      3   4.0 0.2524182 0.04747560\n",
       "17      4   4.0 0.2578236 0.07761384\n",
       "18      5   4.0 0.3113798 0.09290467\n"
      ]
     },
     "metadata": {},
     "output_type": "display_data"
    }
   ],
   "source": [
    "#SVM with e1071; tune the poly only\n",
    "set.seed(123)\n",
    "poly.tune<-tune.svm(type~., data=train, kernel=\"polynomial\", degree=c(3,4,5), coef0=c(0.1, 0.5, 1, 2, 3, 4))\n",
    "summary(poly.tune)\n"
   ]
  },
  {
   "cell_type": "code",
   "execution_count": 139,
   "metadata": {},
   "outputs": [
    {
     "data": {
      "text/plain": [
       "Confusion Matrix and Statistics\n",
       "\n",
       "          Reference\n",
       "Prediction No Yes\n",
       "       No  91  25\n",
       "       Yes 16  28\n",
       "                                          \n",
       "               Accuracy : 0.7438          \n",
       "                 95% CI : (0.6688, 0.8094)\n",
       "    No Information Rate : 0.6688          \n",
       "    P-Value [Acc > NIR] : 0.02487         \n",
       "                                          \n",
       "                  Kappa : 0.3957          \n",
       "                                          \n",
       " Mcnemar's Test P-Value : 0.21152         \n",
       "                                          \n",
       "            Sensitivity : 0.5283          \n",
       "            Specificity : 0.8505          \n",
       "         Pos Pred Value : 0.6364          \n",
       "         Neg Pred Value : 0.7845          \n",
       "             Prevalence : 0.3312          \n",
       "         Detection Rate : 0.1750          \n",
       "   Detection Prevalence : 0.2750          \n",
       "      Balanced Accuracy : 0.6894          \n",
       "                                          \n",
       "       'Positive' Class : Yes             \n",
       "                                          "
      ]
     },
     "metadata": {},
     "output_type": "display_data"
    }
   ],
   "source": [
    "pred.poly<-predict(poly.tune$best.model, test)\n",
    "confusionMatrix(pred.poly, test[,8], positive='Yes')   # 성능 안좋아짐\n"
   ]
  },
  {
   "cell_type": "code",
   "execution_count": 141,
   "metadata": {},
   "outputs": [
    {
     "name": "stdout",
     "output_type": "stream",
     "text": [
      "'data.frame':\t160 obs. of  8 variables:\n",
      " $ npreg: num  -1.062 -0.76 0.146 2.259 -1.062 ...\n",
      " $ glu  : num  -0.453 -1.13 -0.711 0.709 0.58 ...\n",
      " $ bp   : num  -0.935 -0.447 0.365 1.827 -0.772 ...\n",
      " $ skin : num  -0.397 2.168 -1.348 0.363 -1.158 ...\n",
      " $ bmi  : num  -0.943 1.222 -1.408 0.539 -1.568 ...\n",
      " $ ped  : num  -1.074 1.202 -0.813 -0.723 -0.859 ...\n",
      " $ age  : num  -0.801 -0.243 -0.986 1.801 -0.986 ...\n",
      " $ type : Factor w/ 2 levels \"No\",\"Yes\": 1 1 1 2 1 1 1 2 2 1 ...\n"
     ]
    }
   ],
   "source": [
    "str(test)"
   ]
  },
  {
   "cell_type": "code",
   "execution_count": 143,
   "metadata": {},
   "outputs": [],
   "source": [
    "library(e1071)"
   ]
  },
  {
   "cell_type": "code",
   "execution_count": 158,
   "metadata": {
    "collapsed": true,
    "jupyter": {
     "outputs_hidden": true
    }
   },
   "outputs": [
    {
     "data": {
      "text/html": [
       "\n",
       "<table width=\"100%\" summary=\"page for tune.wrapper {e1071}\"><tr><td>tune.wrapper {e1071}</td><td style=\"text-align: right;\">R Documentation</td></tr></table>\n",
       "\n",
       "<h2>Convenience Tuning Wrapper Functions</h2>\n",
       "\n",
       "<h3>Description</h3>\n",
       "\n",
       "<p>Convenience tuning wrapper functions, using <code>tune</code>.\n",
       "</p>\n",
       "\n",
       "\n",
       "<h3>Usage</h3>\n",
       "\n",
       "<pre>\n",
       "tune.svm(x, y = NULL, data = NULL, degree = NULL, gamma = NULL, coef0 = NULL,\n",
       "         cost = NULL, nu = NULL, class.weights = NULL, epsilon = NULL, ...)\n",
       "best.svm(x, tunecontrol = tune.control(), ...)\n",
       " \n",
       "tune.nnet(x, y = NULL, data = NULL, size = NULL, decay = NULL,\n",
       "          trace = FALSE, tunecontrol = tune.control(nrepeat = 5), \n",
       "          ...)\n",
       "best.nnet(x, tunecontrol = tune.control(nrepeat = 5), ...)\n",
       "\n",
       "tune.rpart(formula, data, na.action = na.omit, minsplit = NULL,\n",
       "           minbucket = NULL, cp = NULL, maxcompete = NULL, maxsurrogate = NULL,\n",
       "           usesurrogate = NULL, xval = NULL, surrogatestyle = NULL, maxdepth =\n",
       "           NULL, predict.func = NULL, ...)\n",
       "best.rpart(formula, tunecontrol = tune.control(), ...)\n",
       "\n",
       "tune.randomForest(x, y = NULL, data = NULL, nodesize = NULL, \n",
       "                  mtry = NULL, ntree = NULL, ...)\n",
       "best.randomForest(x, tunecontrol = tune.control(), ...)\n",
       "\n",
       "tune.knn(x, y, k = NULL, l = NULL, ...) \n",
       "\n",
       "</pre>\n",
       "\n",
       "\n",
       "<h3>Arguments</h3>\n",
       "\n",
       "<table summary=\"R argblock\">\n",
       "<tr valign=\"top\"><td><code>formula, x, y, data</code></td>\n",
       "<td>\n",
       "<p>formula and data arguments of function to be tuned.</p>\n",
       "</td></tr>\n",
       "<tr valign=\"top\"><td><code>predict.func</code></td>\n",
       "<td>\n",
       "<p>predicting function.</p>\n",
       "</td></tr>\n",
       "<tr valign=\"top\"><td><code>na.action</code></td>\n",
       "<td>\n",
       "<p>function handling missingness.</p>\n",
       "</td></tr>\n",
       "<tr valign=\"top\"><td><code>minsplit, minbucket, cp, maxcompete,\n",
       "maxsurrogate, usesurrogate, xval,\n",
       "surrogatestyle, maxdepth</code></td>\n",
       "<td>\n",
       "<p><code>rpart</code> parameters.</p>\n",
       "</td></tr>\n",
       "<tr valign=\"top\"><td><code>degree, gamma, coef0, cost, nu, class.weights, epsilon</code></td>\n",
       "<td>\n",
       "<p><code>svm</code>\n",
       "parameters.</p>\n",
       "</td></tr>\n",
       "<tr valign=\"top\"><td><code>k, l</code></td>\n",
       "<td>\n",
       "<p><code>knn</code> parameters.</p>\n",
       "</td></tr>\n",
       "<tr valign=\"top\"><td><code>mtry, nodesize, ntree</code></td>\n",
       "<td>\n",
       "<p><code>randomForest</code> parameters.</p>\n",
       "</td></tr>\n",
       "<tr valign=\"top\"><td><code>size, decay, trace</code></td>\n",
       "<td>\n",
       "<p>parameters passed to\n",
       "<code>nnet</code>.</p>\n",
       "</td></tr>\n",
       "<tr valign=\"top\"><td><code>tunecontrol</code></td>\n",
       "<td>\n",
       "<p>object of class <code>\"tune.control\"</code> containing\n",
       "tuning parameters.</p>\n",
       "</td></tr>\n",
       "<tr valign=\"top\"><td><code>...</code></td>\n",
       "<td>\n",
       "<p>Further parameters passed to <code>tune</code>.</p>\n",
       "</td></tr>\n",
       "</table>\n",
       "\n",
       "\n",
       "<h3>Details</h3>\n",
       "\n",
       "<p>For examples, see the help page of <code>tune()</code>.</p>\n",
       "\n",
       "\n",
       "<h3>Value</h3>\n",
       "\n",
       "<p><code>tune.foo()</code> returns a tuning object including the best parameter set obtained\n",
       "by optimizing over the specified parameter vectors. <code>best.foo()</code>\n",
       "directly returns the best model, i.e. the fit of a new model using the\n",
       "optimal parameters found by <code>tune.foo</code>.\n",
       "</p>\n",
       "\n",
       "\n",
       "<h3>Author(s)</h3>\n",
       "\n",
       "<p>David Meyer<br />\n",
       "<a href=\"mailto:David.Meyer@R-project.org\">David.Meyer@R-project.org</a>\n",
       "</p>\n",
       "\n",
       "\n",
       "<h3>See Also</h3>\n",
       "\n",
       "<p><code>tune</code></p>\n",
       "\n",
       "<hr /><div style=\"text-align: center;\">[Package <em>e1071</em> version 1.7-6 ]</div>"
      ],
      "text/latex": [
       "\\inputencoding{utf8}\n",
       "\\HeaderA{tune.wrapper}{Convenience Tuning Wrapper Functions}{tune.wrapper}\n",
       "\\aliasA{best.nnet}{tune.wrapper}{best.nnet}\n",
       "\\aliasA{best.randomForest}{tune.wrapper}{best.randomForest}\n",
       "\\aliasA{best.rpart}{tune.wrapper}{best.rpart}\n",
       "\\aliasA{best.svm}{tune.wrapper}{best.svm}\n",
       "\\aliasA{tune.knn}{tune.wrapper}{tune.knn}\n",
       "\\aliasA{tune.nnet}{tune.wrapper}{tune.nnet}\n",
       "\\aliasA{tune.randomForest}{tune.wrapper}{tune.randomForest}\n",
       "\\aliasA{tune.rpart}{tune.wrapper}{tune.rpart}\n",
       "\\aliasA{tune.svm}{tune.wrapper}{tune.svm}\n",
       "\\keyword{models}{tune.wrapper}\n",
       "%\n",
       "\\begin{Description}\\relax\n",
       "Convenience tuning wrapper functions, using \\code{tune}.\n",
       "\\end{Description}\n",
       "%\n",
       "\\begin{Usage}\n",
       "\\begin{verbatim}\n",
       "tune.svm(x, y = NULL, data = NULL, degree = NULL, gamma = NULL, coef0 = NULL,\n",
       "         cost = NULL, nu = NULL, class.weights = NULL, epsilon = NULL, ...)\n",
       "best.svm(x, tunecontrol = tune.control(), ...)\n",
       " \n",
       "tune.nnet(x, y = NULL, data = NULL, size = NULL, decay = NULL,\n",
       "          trace = FALSE, tunecontrol = tune.control(nrepeat = 5), \n",
       "          ...)\n",
       "best.nnet(x, tunecontrol = tune.control(nrepeat = 5), ...)\n",
       "\n",
       "tune.rpart(formula, data, na.action = na.omit, minsplit = NULL,\n",
       "           minbucket = NULL, cp = NULL, maxcompete = NULL, maxsurrogate = NULL,\n",
       "           usesurrogate = NULL, xval = NULL, surrogatestyle = NULL, maxdepth =\n",
       "           NULL, predict.func = NULL, ...)\n",
       "best.rpart(formula, tunecontrol = tune.control(), ...)\n",
       "\n",
       "tune.randomForest(x, y = NULL, data = NULL, nodesize = NULL, \n",
       "                  mtry = NULL, ntree = NULL, ...)\n",
       "best.randomForest(x, tunecontrol = tune.control(), ...)\n",
       "\n",
       "tune.knn(x, y, k = NULL, l = NULL, ...) \n",
       "\n",
       "\\end{verbatim}\n",
       "\\end{Usage}\n",
       "%\n",
       "\\begin{Arguments}\n",
       "\\begin{ldescription}\n",
       "\\item[\\code{formula, x, y, data}] formula and data arguments of function to be tuned.\n",
       "\\item[\\code{predict.func}] predicting function.\n",
       "\\item[\\code{na.action}] function handling missingness.\n",
       "\\item[\\code{minsplit, minbucket, cp, maxcompete,\n",
       "maxsurrogate, usesurrogate, xval,\n",
       "surrogatestyle, maxdepth}] \\code{rpart} parameters.\n",
       "\\item[\\code{degree, gamma, coef0, cost, nu, class.weights, epsilon}] \\code{svm}\n",
       "parameters.\n",
       "\\item[\\code{k, l}] \\code{knn} parameters.\n",
       "\\item[\\code{mtry, nodesize, ntree}] \\code{randomForest} parameters.\n",
       "\\item[\\code{size, decay, trace}] parameters passed to\n",
       "\\code{nnet}.\n",
       "\\item[\\code{tunecontrol}] object of class \\code{\"tune.control\"} containing\n",
       "tuning parameters.\n",
       "\\item[\\code{...}] Further parameters passed to \\code{tune}.\n",
       "\\end{ldescription}\n",
       "\\end{Arguments}\n",
       "%\n",
       "\\begin{Details}\\relax\n",
       "For examples, see the help page of \\code{tune()}.\n",
       "\\end{Details}\n",
       "%\n",
       "\\begin{Value}\n",
       "\\code{tune.foo()} returns a tuning object including the best parameter set obtained\n",
       "by optimizing over the specified parameter vectors. \\code{best.foo()}\n",
       "directly returns the best model, i.e. the fit of a new model using the\n",
       "optimal parameters found by \\code{tune.foo}.\n",
       "\\end{Value}\n",
       "%\n",
       "\\begin{Author}\\relax\n",
       "David Meyer\\\\{}\n",
       "\\email{David.Meyer@R-project.org}\n",
       "\\end{Author}\n",
       "%\n",
       "\\begin{SeeAlso}\\relax\n",
       "\\code{\\LinkA{tune}{tune}}\n",
       "\\end{SeeAlso}"
      ],
      "text/plain": [
       "tune.wrapper               package:e1071               R Documentation\n",
       "\n",
       "_\bC_\bo_\bn_\bv_\be_\bn_\bi_\be_\bn_\bc_\be _\bT_\bu_\bn_\bi_\bn_\bg _\bW_\br_\ba_\bp_\bp_\be_\br _\bF_\bu_\bn_\bc_\bt_\bi_\bo_\bn_\bs\n",
       "\n",
       "_\bD_\be_\bs_\bc_\br_\bi_\bp_\bt_\bi_\bo_\bn:\n",
       "\n",
       "     Convenience tuning wrapper functions, using 'tune'.\n",
       "\n",
       "_\bU_\bs_\ba_\bg_\be:\n",
       "\n",
       "     tune.svm(x, y = NULL, data = NULL, degree = NULL, gamma = NULL, coef0 = NULL,\n",
       "              cost = NULL, nu = NULL, class.weights = NULL, epsilon = NULL, ...)\n",
       "     best.svm(x, tunecontrol = tune.control(), ...)\n",
       "      \n",
       "     tune.nnet(x, y = NULL, data = NULL, size = NULL, decay = NULL,\n",
       "               trace = FALSE, tunecontrol = tune.control(nrepeat = 5), \n",
       "               ...)\n",
       "     best.nnet(x, tunecontrol = tune.control(nrepeat = 5), ...)\n",
       "     \n",
       "     tune.rpart(formula, data, na.action = na.omit, minsplit = NULL,\n",
       "                minbucket = NULL, cp = NULL, maxcompete = NULL, maxsurrogate = NULL,\n",
       "                usesurrogate = NULL, xval = NULL, surrogatestyle = NULL, maxdepth =\n",
       "                NULL, predict.func = NULL, ...)\n",
       "     best.rpart(formula, tunecontrol = tune.control(), ...)\n",
       "     \n",
       "     tune.randomForest(x, y = NULL, data = NULL, nodesize = NULL, \n",
       "                       mtry = NULL, ntree = NULL, ...)\n",
       "     best.randomForest(x, tunecontrol = tune.control(), ...)\n",
       "     \n",
       "     tune.knn(x, y, k = NULL, l = NULL, ...) \n",
       "     \n",
       "_\bA_\br_\bg_\bu_\bm_\be_\bn_\bt_\bs:\n",
       "\n",
       "formula, x, y, data: formula and data arguments of function to be\n",
       "          tuned.\n",
       "\n",
       "predict.func: predicting function.\n",
       "\n",
       "na.action: function handling missingness.\n",
       "\n",
       "minsplit, minbucket, cp, maxcompete,: maxsurrogate, usesurrogate,\n",
       "          xval,: surrogatestyle, maxdepth: 'rpart' parameters.\n",
       "\n",
       "degree, gamma, coef0, cost, nu, class.weights, epsilon: 'svm'\n",
       "          parameters.\n",
       "\n",
       "    k, l: 'knn' parameters.\n",
       "\n",
       "mtry, nodesize, ntree: 'randomForest' parameters.\n",
       "\n",
       "size, decay, trace: parameters passed to 'nnet'.\n",
       "\n",
       "tunecontrol: object of class '\"tune.control\"' containing tuning\n",
       "          parameters.\n",
       "\n",
       "     ...: Further parameters passed to 'tune'.\n",
       "\n",
       "_\bD_\be_\bt_\ba_\bi_\bl_\bs:\n",
       "\n",
       "     For examples, see the help page of 'tune()'.\n",
       "\n",
       "_\bV_\ba_\bl_\bu_\be:\n",
       "\n",
       "     'tune.foo()' returns a tuning object including the best parameter\n",
       "     set obtained by optimizing over the specified parameter vectors.\n",
       "     'best.foo()' directly returns the best model, i.e. the fit of a\n",
       "     new model using the optimal parameters found by 'tune.foo'.\n",
       "\n",
       "_\bA_\bu_\bt_\bh_\bo_\br(_\bs):\n",
       "\n",
       "     David Meyer\n",
       "     <email: David.Meyer@R-project.org>\n",
       "\n",
       "_\bS_\be_\be _\bA_\bl_\bs_\bo:\n",
       "\n",
       "     'tune'\n"
      ]
     },
     "metadata": {},
     "output_type": "display_data"
    }
   ],
   "source": [
    "?tune.svm"
   ]
  },
  {
   "cell_type": "code",
   "execution_count": 159,
   "metadata": {},
   "outputs": [
    {
     "ename": "ERROR",
     "evalue": "Error in UseMethod(\"predict\"): 클래스 \"tune\"의 객체에 적용된 'predict'에 사용할수 있는 메소드가 없습니다\n",
     "output_type": "error",
     "traceback": [
      "Error in UseMethod(\"predict\"): 클래스 \"tune\"의 객체에 적용된 'predict'에 사용할수 있는 메소드가 없습니다\nTraceback:\n",
      "1. sapply(cost, function(x) {\n .     set.seed(123)\n .     m <- tune.svm(type ~ ., data = train, kernel = \"sigmoid\", \n .         coef0 = x)\n .     pred <- predict(m, test)\n .     agree <- ifelse(pred == test$type, 1, 0)\n .     accu <- sum(agree)/nrow(test$type)\n .     return(accu)\n . })",
      "2. lapply(X = X, FUN = FUN, ...)",
      "3. FUN(X[[i]], ...)",
      "4. predict(m, test)   # at line 6 of file <text>",
      "5. predict(m, test)"
     ]
    }
   ],
   "source": [
    "cost<- c(1, seq(from = 5, to = 40, by = 5))\n",
    "\n",
    "accu <- sapply(cost, function(x) {\n",
    "        set.seed(123)\n",
    "        m<-tune.svm(type~., data=train, kernel=\"sigmoid\", coef0=x    )\n",
    "        pred <- predict(m, test)\n",
    "        agree <- ifelse(pred == test$type, 1, 0)\n",
    "        accu <- sum(agree) / nrow(test$type)\n",
    "        return (accu)\n",
    "        })\n",
    "  "
   ]
  },
  {
   "cell_type": "code",
   "execution_count": null,
   "metadata": {},
   "outputs": [],
   "source": [
    "plot(cost, accu, type = \"b\")"
   ]
  },
  {
   "cell_type": "code",
   "execution_count": 134,
   "metadata": {},
   "outputs": [
    {
     "name": "stdout",
     "output_type": "stream",
     "text": [
      "'data.frame':\t372 obs. of  8 variables:\n",
      " $ npreg: num  1.05 -0.76 0.75 -0.76 -0.76 ...\n",
      " $ glu  : num  1.87 -0.775 -1.324 0.225 -1.098 ...\n",
      " $ bp   : num  1.909 -0.285 -0.447 -1.909 0.528 ...\n",
      " $ skin : num  0.1727 -0.7775 0.0777 1.503 -0.2074 ...\n",
      " $ bmi  : num  0.19 -0.827 -0.972 1.106 0.248 ...\n",
      " $ ped  : num  -0.984 1.718 -0.551 0.319 -1.167 ...\n",
      " $ age  : num  2.638 -0.893 0.872 -0.708 -0.893 ...\n",
      " $ type : Factor w/ 2 levels \"No\",\"Yes\": 1 1 1 2 1 1 1 1 1 1 ...\n"
     ]
    }
   ],
   "source": [
    "str(train)"
   ]
  },
  {
   "cell_type": "code",
   "execution_count": 154,
   "metadata": {},
   "outputs": [
    {
     "name": "stdout",
     "output_type": "stream",
     "text": [
      "'data.frame':\t372 obs. of  8 variables:\n",
      " $ npreg: num  1.05 -0.76 0.75 -0.76 -0.76 ...\n",
      " $ glu  : num  1.87 -0.775 -1.324 0.225 -1.098 ...\n",
      " $ bp   : num  1.909 -0.285 -0.447 -1.909 0.528 ...\n",
      " $ skin : num  0.1727 -0.7775 0.0777 1.503 -0.2074 ...\n",
      " $ bmi  : num  0.19 -0.827 -0.972 1.106 0.248 ...\n",
      " $ ped  : num  -0.984 1.718 -0.551 0.319 -1.167 ...\n",
      " $ age  : num  2.638 -0.893 0.872 -0.708 -0.893 ...\n",
      " $ type : Factor w/ 2 levels \"No\",\"Yes\": 1 1 1 2 1 1 1 1 1 1 ...\n"
     ]
    }
   ],
   "source": [
    "str(train)"
   ]
  },
  {
   "cell_type": "code",
   "execution_count": 155,
   "metadata": {},
   "outputs": [
    {
     "data": {
      "text/plain": [
       "\n",
       "Parameter tuning of 'svm':\n",
       "\n",
       "- sampling method: 10-fold cross validation \n",
       "\n",
       "- best parameters:\n",
       " gamma\n",
       "   0.1\n",
       "\n",
       "- best performance: 0.2523471 \n",
       "\n",
       "- Detailed performance results:\n",
       "  gamma     error dispersion\n",
       "1   0.1 0.2523471 0.06132776\n",
       "2   0.5 0.2658606 0.06709869\n",
       "3   1.0 0.2955192 0.09778431\n",
       "4   2.0 0.3435277 0.08293300\n",
       "5   3.0 0.3328592 0.07075692\n",
       "6   4.0 0.3328592 0.07520531\n"
      ]
     },
     "metadata": {},
     "output_type": "display_data"
    }
   ],
   "source": [
    "#tune the rbf\n",
    "set.seed(123)\n",
    "rbf.tune<-tune.svm(type~., data=train, kernel=\"radial\", gamma=c(0.1, 0.5, 1, 2, 3, 4))\n",
    "summary(rbf.tune)"
   ]
  },
  {
   "cell_type": "code",
   "execution_count": 156,
   "metadata": {},
   "outputs": [
    {
     "data": {
      "text/plain": [
       "\n",
       "Parameter tuning of 'svm':\n",
       "\n",
       "- sampling method: 10-fold cross validation \n",
       "\n",
       "- best parameters:\n",
       " gamma coef0\n",
       "   0.1   0.1\n",
       "\n",
       "- best performance: 0.2523471 \n",
       "\n",
       "- Detailed performance results:\n",
       "   gamma coef0     error dispersion\n",
       "1    0.1   0.1 0.2523471 0.06132776\n",
       "2    0.5   0.1 0.2658606 0.06709869\n",
       "3    1.0   0.1 0.2955192 0.09778431\n",
       "4    2.0   0.1 0.3435277 0.08293300\n",
       "5    3.0   0.1 0.3328592 0.07075692\n",
       "6    4.0   0.1 0.3328592 0.07520531\n",
       "7    0.1   0.5 0.2523471 0.06132776\n",
       "8    0.5   0.5 0.2658606 0.06709869\n",
       "9    1.0   0.5 0.2955192 0.09778431\n",
       "10   2.0   0.5 0.3435277 0.08293300\n",
       "11   3.0   0.5 0.3328592 0.07075692\n",
       "12   4.0   0.5 0.3328592 0.07520531\n",
       "13   0.1   1.0 0.2523471 0.06132776\n",
       "14   0.5   1.0 0.2658606 0.06709869\n",
       "15   1.0   1.0 0.2955192 0.09778431\n",
       "16   2.0   1.0 0.3435277 0.08293300\n",
       "17   3.0   1.0 0.3328592 0.07075692\n",
       "18   4.0   1.0 0.3328592 0.07520531\n",
       "19   0.1   2.0 0.2523471 0.06132776\n",
       "20   0.5   2.0 0.2658606 0.06709869\n",
       "21   1.0   2.0 0.2955192 0.09778431\n",
       "22   2.0   2.0 0.3435277 0.08293300\n",
       "23   3.0   2.0 0.3328592 0.07075692\n",
       "24   4.0   2.0 0.3328592 0.07520531\n",
       "25   0.1   3.0 0.2523471 0.06132776\n",
       "26   0.5   3.0 0.2658606 0.06709869\n",
       "27   1.0   3.0 0.2955192 0.09778431\n",
       "28   2.0   3.0 0.3435277 0.08293300\n",
       "29   3.0   3.0 0.3328592 0.07075692\n",
       "30   4.0   3.0 0.3328592 0.07520531\n",
       "31   0.1   4.0 0.2523471 0.06132776\n",
       "32   0.5   4.0 0.2658606 0.06709869\n",
       "33   1.0   4.0 0.2955192 0.09778431\n",
       "34   2.0   4.0 0.3435277 0.08293300\n",
       "35   3.0   4.0 0.3328592 0.07075692\n",
       "36   4.0   4.0 0.3328592 0.07520531\n"
      ]
     },
     "metadata": {},
     "output_type": "display_data"
    }
   ],
   "source": [
    "set.seed(123)\n",
    "rbf.tune2<-tune.svm(type~., data=train, kernel=\"radial\", gamma=c(0.1, 0.5, 1, 2, 3, 4), coef0=c(0.1, 0.5, 1, 2, 3, 4))\n",
    "summary(rbf.tune2)"
   ]
  },
  {
   "cell_type": "code",
   "execution_count": 161,
   "metadata": {},
   "outputs": [
    {
     "data": {
      "text/plain": [
       "Confusion Matrix and Statistics\n",
       "\n",
       "          Reference\n",
       "Prediction No Yes\n",
       "       No  92  18\n",
       "       Yes 15  35\n",
       "                                          \n",
       "               Accuracy : 0.7938          \n",
       "                 95% CI : (0.7227, 0.8536)\n",
       "    No Information Rate : 0.6688          \n",
       "    P-Value [Acc > NIR] : 0.0003407       \n",
       "                                          \n",
       "                  Kappa : 0.5277          \n",
       "                                          \n",
       " Mcnemar's Test P-Value : 0.7277235       \n",
       "                                          \n",
       "            Sensitivity : 0.8598          \n",
       "            Specificity : 0.6604          \n",
       "         Pos Pred Value : 0.8364          \n",
       "         Neg Pred Value : 0.7000          \n",
       "             Prevalence : 0.6687          \n",
       "         Detection Rate : 0.5750          \n",
       "   Detection Prevalence : 0.6875          \n",
       "      Balanced Accuracy : 0.7601          \n",
       "                                          \n",
       "       'Positive' Class : No              \n",
       "                                          "
      ]
     },
     "metadata": {},
     "output_type": "display_data"
    }
   ],
   "source": [
    "pred.rbf<-predict(rbf.tune$best.model, test)\n",
    "confusionMatrix(pred.rbf, test[,8])"
   ]
  },
  {
   "cell_type": "code",
   "execution_count": 172,
   "metadata": {},
   "outputs": [],
   "source": [
    "#tune the sigmoid\n",
    "set.seed(123)\n",
    "sigmoid.tune<-tune.svm(type~., data=train, kernel=\"sigmoid\", gamma=c(0.1, 0.5, 1,2,3,4), coef0 = c(0.1, 0.5, 1, 2, 3, 4))"
   ]
  },
  {
   "cell_type": "code",
   "execution_count": 164,
   "metadata": {},
   "outputs": [
    {
     "data": {
      "text/plain": [
       "\n",
       "Parameter tuning of 'svm':\n",
       "\n",
       "- sampling method: 10-fold cross validation \n",
       "\n",
       "- best parameters:\n",
       " gamma coef0\n",
       "   0.1   0.1\n",
       "\n",
       "- best performance: 0.2229018 \n",
       "\n",
       "- Detailed performance results:\n",
       "   gamma coef0     error dispersion\n",
       "1    0.1   0.1 0.2229018 0.05860528\n",
       "2    0.5   0.1 0.3169275 0.07454714\n",
       "3    1.0   0.1 0.3275960 0.06938948\n",
       "4    2.0   0.1 0.3384780 0.07628827\n",
       "5    3.0   0.1 0.3438122 0.07764059\n",
       "6    4.0   0.1 0.3493599 0.07571836\n",
       "7    0.1   0.5 0.2766714 0.04423798\n",
       "8    0.5   0.5 0.3062589 0.08172612\n",
       "9    1.0   0.5 0.3305121 0.05738301\n",
       "10   2.0   0.5 0.3492888 0.06724232\n",
       "11   3.0   0.5 0.3332148 0.06559450\n",
       "12   4.0   0.5 0.3546230 0.06306770\n",
       "13   0.1   1.0 0.2901849 0.05855424\n",
       "14   0.5   1.0 0.3359175 0.03742256\n",
       "15   1.0   1.0 0.3279516 0.05931762\n",
       "16   2.0   1.0 0.3522760 0.06486276\n",
       "17   3.0   1.0 0.3493599 0.06152541\n",
       "18   4.0   1.0 0.3628023 0.06569827\n",
       "19   0.1   2.0 0.2255334 0.03623273\n",
       "20   0.5   2.0 0.3816501 0.06252709\n",
       "21   1.0   2.0 0.3788051 0.03820463\n",
       "22   2.0   2.0 0.3225462 0.06948584\n",
       "23   3.0   2.0 0.3361309 0.06692624\n",
       "24   4.0   2.0 0.3414651 0.06651451\n",
       "25   0.1   3.0 0.3328592 0.07520531\n",
       "26   0.5   3.0 0.4057610 0.07469556\n",
       "27   1.0   3.0 0.3817923 0.05554113\n",
       "28   2.0   3.0 0.3251778 0.07305179\n",
       "29   3.0   3.0 0.3387624 0.06155121\n",
       "30   4.0   3.0 0.3441679 0.06105832\n",
       "31   0.1   4.0 0.3328592 0.07520531\n",
       "32   0.5   4.0 0.3977240 0.06481400\n",
       "33   1.0   4.0 0.3923898 0.06653783\n",
       "34   2.0   4.0 0.3760313 0.04928973\n",
       "35   3.0   4.0 0.3385491 0.03665462\n",
       "36   4.0   4.0 0.3438122 0.08055893\n"
      ]
     },
     "metadata": {},
     "output_type": "display_data"
    }
   ],
   "source": [
    "summary(sigmoid.tune)"
   ]
  },
  {
   "cell_type": "code",
   "execution_count": 173,
   "metadata": {},
   "outputs": [],
   "source": [
    "pred.sigmoid<-predict(sigmoid.tune$best.model, test)"
   ]
  },
  {
   "cell_type": "code",
   "execution_count": 175,
   "metadata": {},
   "outputs": [
    {
     "data": {
      "text/plain": [
       "Confusion Matrix and Statistics\n",
       "\n",
       "          Reference\n",
       "Prediction No Yes\n",
       "       No  95  20\n",
       "       Yes 12  33\n",
       "                                         \n",
       "               Accuracy : 0.8            \n",
       "                 95% CI : (0.7296, 0.859)\n",
       "    No Information Rate : 0.6688         \n",
       "    P-Value [Acc > NIR] : 0.0001711      \n",
       "                                         \n",
       "                  Kappa : 0.5307         \n",
       "                                         \n",
       " Mcnemar's Test P-Value : 0.2159249      \n",
       "                                         \n",
       "            Sensitivity : 0.6226         \n",
       "            Specificity : 0.8879         \n",
       "         Pos Pred Value : 0.7333         \n",
       "         Neg Pred Value : 0.8261         \n",
       "             Prevalence : 0.3312         \n",
       "         Detection Rate : 0.2062         \n",
       "   Detection Prevalence : 0.2812         \n",
       "      Balanced Accuracy : 0.7552         \n",
       "                                         \n",
       "       'Positive' Class : Yes            \n",
       "                                         "
      ]
     },
     "metadata": {},
     "output_type": "display_data"
    },
    {
     "data": {
      "text/plain": [
       "Confusion Matrix and Statistics\n",
       "\n",
       "          Reference\n",
       "Prediction No Yes\n",
       "       No  99  22\n",
       "       Yes  8  31\n",
       "                                          \n",
       "               Accuracy : 0.8125          \n",
       "                 95% CI : (0.7433, 0.8698)\n",
       "    No Information Rate : 0.6688          \n",
       "    P-Value [Acc > NIR] : 3.856e-05       \n",
       "                                          \n",
       "                  Kappa : 0.5466          \n",
       "                                          \n",
       " Mcnemar's Test P-Value : 0.01762         \n",
       "                                          \n",
       "            Sensitivity : 0.5849          \n",
       "            Specificity : 0.9252          \n",
       "         Pos Pred Value : 0.7949          \n",
       "         Neg Pred Value : 0.8182          \n",
       "             Prevalence : 0.3312          \n",
       "         Detection Rate : 0.1938          \n",
       "   Detection Prevalence : 0.2437          \n",
       "      Balanced Accuracy : 0.7551          \n",
       "                                          \n",
       "       'Positive' Class : Yes             \n",
       "                                          "
      ]
     },
     "metadata": {},
     "output_type": "display_data"
    }
   ],
   "source": [
    "\n",
    "confusionMatrix(pred.sigmoid, test[,8], positive=\"Yes\")\n",
    "confusionMatrix(pred.linear, test[,8], positive = \"Yes\")"
   ]
  },
  {
   "cell_type": "code",
   "execution_count": 180,
   "metadata": {},
   "outputs": [
    {
     "data": {
      "text/plain": [
       "\n",
       "Recursive feature selection\n",
       "\n",
       "Outer resampling method: Cross-Validated (10 fold) \n",
       "\n",
       "Resampling performance over subset size:\n",
       "\n",
       " Variables Accuracy  Kappa AccuracySD KappaSD Selected\n",
       "         4   0.7642 0.4406    0.07528  0.1766         \n",
       "         5   0.7667 0.4509    0.06124  0.1372        *\n",
       "         6   0.7586 0.4319    0.05546  0.1219         \n",
       "         7   0.7559 0.4246    0.05881  0.1307         \n",
       "\n",
       "The top 5 variables (out of 5):\n",
       "   glu, bmi, age, ped, npreg\n"
      ]
     },
     "metadata": {},
     "output_type": "display_data"
    }
   ],
   "source": [
    "set.seed(123)\n",
    "rfeCNTL<-rfeControl(functions=lrFuncs, method=\"cv\", number=10)   # caret, 교차 검증 방법 명시\n",
    "svm.features<-rfe(train[,1:7], train[,8], sizes=c(7,6,5,4), rfeControl=rfeCNTL, method=\"svmLinear\") #반복적 피처 선택 실행\n",
    "svm.features    # 변수 5개일때 accuracy 제일 높음 "
   ]
  },
  {
   "cell_type": "code",
   "execution_count": 182,
   "metadata": {},
   "outputs": [
    {
     "data": {
      "text/plain": [
       "Confusion Matrix and Statistics\n",
       "\n",
       "          Reference\n",
       "Prediction No Yes\n",
       "       No  95  20\n",
       "       Yes 12  33\n",
       "                                         \n",
       "               Accuracy : 0.8            \n",
       "                 95% CI : (0.7296, 0.859)\n",
       "    No Information Rate : 0.6688         \n",
       "    P-Value [Acc > NIR] : 0.0001711      \n",
       "                                         \n",
       "                  Kappa : 0.5307         \n",
       "                                         \n",
       " Mcnemar's Test P-Value : 0.2159249      \n",
       "                                         \n",
       "            Sensitivity : 0.6226         \n",
       "            Specificity : 0.8879         \n",
       "         Pos Pred Value : 0.7333         \n",
       "         Neg Pred Value : 0.8261         \n",
       "             Prevalence : 0.3312         \n",
       "         Detection Rate : 0.2062         \n",
       "   Detection Prevalence : 0.2812         \n",
       "      Balanced Accuracy : 0.7552         \n",
       "                                         \n",
       "       'Positive' Class : Yes            \n",
       "                                         "
      ]
     },
     "metadata": {},
     "output_type": "display_data"
    }
   ],
   "source": [
    "svm5<-svm(type~ glu+ped+ npreg + bmi + age, train, kernel=\"linear\")\n",
    "pred.svm5<-predict(svm5, test[c(1,2,5,6,7)])   # !!주의\n",
    "confusionMatrix(pred.svm5, test[,8], positive=\"Yes\")"
   ]
  },
  {
   "cell_type": "code",
   "execution_count": null,
   "metadata": {},
   "outputs": [],
   "source": [
    "\n",
    "svm.5 <- svm(type ~ glu + ped + npreg + bmi + age, \n",
    "             data = train, \n",
    "             kernel = \"linear\")\n",
    "svm.5.predict = predict(svm.5, newdata=test[c(1,2,5,6,7)])\n",
    "table(svm.5.predict, test$type)\n"
   ]
  },
  {
   "cell_type": "code",
   "execution_count": null,
   "metadata": {},
   "outputs": [],
   "source": []
  },
  {
   "cell_type": "markdown",
   "metadata": {},
   "source": [
    "## adp실기책 svm"
   ]
  },
  {
   "cell_type": "code",
   "execution_count": 185,
   "metadata": {},
   "outputs": [],
   "source": [
    "setwd(\"C:/Users/alsdu/Downloads/PART 05 실습용 데이터\")\n",
    "credit<-read.table(\"credit_final.csv\", header=T, sep=',')\n",
    "idx<-sample(3, nrow(credit), replace=T, prob=c(0.5, 0.3, 0.2))\n",
    "train<-credit[idx==1,]\n",
    "validation<-credit[idx==2,]\n",
    "test<-credit[idx==3,]"
   ]
  },
  {
   "cell_type": "code",
   "execution_count": 196,
   "metadata": {},
   "outputs": [],
   "source": [
    "tune.svm<-tune.svm(credit.rating~., data=credit, gamma = 10^(-6:-1), cost = 10^(1:2))"
   ]
  },
  {
   "cell_type": "code",
   "execution_count": 197,
   "metadata": {},
   "outputs": [
    {
     "data": {
      "text/plain": [
       "\n",
       "Parameter tuning of 'svm':\n",
       "\n",
       "- sampling method: 10-fold cross validation \n",
       "\n",
       "- best parameters:\n",
       " gamma cost\n",
       "  0.01   10\n",
       "\n",
       "- best performance: 0.1770652 \n",
       "\n",
       "- Detailed performance results:\n",
       "   gamma cost     error dispersion\n",
       "1  1e-06   10 0.2740612 0.03374569\n",
       "2  1e-05   10 0.2695580 0.03329187\n",
       "3  1e-04   10 0.2442154 0.03132812\n",
       "4  1e-03   10 0.2150317 0.02978270\n",
       "5  1e-02   10 0.1770652 0.03943902\n",
       "6  1e-01   10 0.1946432 0.03779258\n",
       "7  1e-06  100 0.2695661 0.03330019\n",
       "8  1e-05  100 0.2442731 0.03126381\n",
       "9  1e-04  100 0.2250110 0.03052894\n",
       "10 1e-03  100 0.1815764 0.03496832\n",
       "11 1e-02  100 0.2037425 0.04458852\n",
       "12 1e-01  100 0.2048385 0.03857783\n"
      ]
     },
     "metadata": {},
     "output_type": "display_data"
    }
   ],
   "source": [
    "summary(tune.svm)"
   ]
  },
  {
   "cell_type": "code",
   "execution_count": 233,
   "metadata": {},
   "outputs": [
    {
     "data": {
      "text/plain": [
       "\n",
       "Call:\n",
       "svm(formula = credit.rating ~ ., data = train, kernel = \"radial\", \n",
       "    gamma = 0.01, cost = 10)\n",
       "\n",
       "\n",
       "Parameters:\n",
       "   SVM-Type:  eps-regression \n",
       " SVM-Kernel:  radial \n",
       "       cost:  10 \n",
       "      gamma:  0.01 \n",
       "    epsilon:  0.1 \n",
       "\n",
       "\n",
       "Number of Support Vectors:  409\n",
       "\n",
       "\n",
       "\n",
       "\n"
      ]
     },
     "metadata": {},
     "output_type": "display_data"
    }
   ],
   "source": [
    "svm.model<-svm(credit.rating~., \n",
    "               data=train,\n",
    "               kernel=\"radial\",\n",
    "               gamma=0.01,\n",
    "               cost=10)\n",
    "\n",
    "summary(svm.model)\n",
    "\n",
    "pred.svm<-predict(svm.model,test,type=\"class\")                          #test 데이터로 예측값과 정확도를 확인."
   ]
  },
  {
   "cell_type": "code",
   "execution_count": 237,
   "metadata": {},
   "outputs": [
    {
     "data": {
      "text/plain": [
       "                      \n",
       "pred.svm               0 1\n",
       "  -0.496664140333123   1 0\n",
       "  -0.00790331889503049 1 0\n",
       "  0.0454917246252952   0 1\n",
       "  0.0549839814085035   1 0\n",
       "  0.0685752008271824   1 0\n",
       "  0.10242224566308     0 1\n",
       "  0.107964737421451    1 0\n",
       "  0.133519365252856    1 0\n",
       "  0.142193433038159    1 0\n",
       "  0.151775882185284    1 0\n",
       "  0.167941928635832    1 0\n",
       "  0.225779819560729    0 1\n",
       "  0.243924294886474    0 1\n",
       "  0.250937301480006    1 0\n",
       "  0.2753396969359      1 0\n",
       "  0.279727228094879    1 0\n",
       "  0.280070652787014    1 0\n",
       "  0.299860828974848    1 0\n",
       "  0.32005067879656     1 0\n",
       "  0.339002383378541    0 1\n",
       "  0.339431705029509    0 1\n",
       "  0.347643283108821    1 0\n",
       "  0.34791978130612     1 0\n",
       "  0.350028355129783    0 1\n",
       "  0.35078629907398     0 1\n",
       "  0.392549548707817    1 0\n",
       "  0.400077282948064    0 1\n",
       "  0.401759242466683    0 1\n",
       "  0.409730017999546    0 1\n",
       "  0.414657798474298    1 0\n",
       "  0.417676741267585    1 0\n",
       "  0.444864574650111    1 0\n",
       "  0.453925734099032    1 0\n",
       "  0.460035504567447    1 0\n",
       "  0.492091812032837    0 1\n",
       "  0.49306233628887     1 0\n",
       "  0.497930274982512    0 1\n",
       "  0.498708171239026    0 1\n",
       "  0.510199450820674    0 1\n",
       "  0.511096526386632    1 0\n",
       "  0.511894700223661    0 1\n",
       "  0.533248300755029    0 1\n",
       "  0.533759561435973    0 1\n",
       "  0.549435030244666    0 1\n",
       "  0.559877582574671    0 1\n",
       "  0.561673837428747    0 1\n",
       "  0.561749055879896    1 0\n",
       "  0.572843476143862    0 1\n",
       "  0.573665215526129    1 0\n",
       "  0.579261847615859    1 0\n",
       "  0.580472851369453    0 1\n",
       "  0.581271596841509    0 1\n",
       "  0.581898928534724    0 1\n",
       "  0.593169984694816    0 1\n",
       "  0.593216272261288    1 0\n",
       "  0.604173636205286    0 1\n",
       "  0.604333099357832    0 1\n",
       "  0.613159499199875    0 1\n",
       "  0.614116285043911    0 1\n",
       "  0.619945708166105    1 0\n",
       "  0.625523058954809    0 1\n",
       "  0.627128811697531    0 1\n",
       "  0.660645573484084    0 1\n",
       "  0.661659191341862    0 1\n",
       "  0.670030187604297    0 1\n",
       "  0.682596245631729    1 0\n",
       "  0.686719860555646    0 1\n",
       "  0.687672098398629    0 1\n",
       "  0.693215654255209    1 0\n",
       "  0.700070986475103    0 1\n",
       "  0.70552864001371     0 1\n",
       "  0.711112154140969    0 1\n",
       "  0.71721297279172     1 0\n",
       "  0.71855187316442     1 0\n",
       "  0.721791108126195    1 0\n",
       "  0.728819112964677    0 1\n",
       "  0.729195714969219    0 1\n",
       "  0.729921685078628    0 1\n",
       "  0.733261183314541    0 1\n",
       "  0.734057844247039    0 1\n",
       "  0.739453518790313    0 1\n",
       "  0.758576581808384    1 0\n",
       "  0.758969116701965    0 1\n",
       "  0.767874536701951    0 1\n",
       "  0.771694160348446    0 1\n",
       "  0.775484375478467    0 1\n",
       "  0.783291829095384    1 0\n",
       "  0.786356420354512    0 1\n",
       "  0.799032505286169    0 1\n",
       "  0.805590174907724    0 1\n",
       "  0.808896764516494    0 1\n",
       "  0.812682377925333    0 1\n",
       "  0.812772814885441    0 1\n",
       "  0.813474697312046    0 1\n",
       "  0.837835461701496    0 1\n",
       "  0.843055583590337    0 1\n",
       "  0.845011012052745    1 0\n",
       "  0.846369417717701    1 0\n",
       "  0.847852972350397    0 1\n",
       "  0.847861150906806    0 1\n",
       "  0.848474623244598    0 1\n",
       "  0.850389040601732    1 0\n",
       "  0.85052487433809     0 1\n",
       "  0.856689162561068    0 1\n",
       "  0.860501069751231    0 1\n",
       "  0.860575836740715    1 0\n",
       "  0.862605407802787    1 0\n",
       "  0.86398410165201     0 1\n",
       "  0.864157252243731    0 1\n",
       "  0.871139411994719    0 1\n",
       "  0.875815207454015    0 1\n",
       "  0.881109830112117    0 1\n",
       "  0.881490326243478    0 1\n",
       "  0.884597248589625    0 1\n",
       "  0.887665278723928    0 1\n",
       "  0.888414639940085    1 0\n",
       "  0.890299749268385    0 1\n",
       "  0.895955807734232    0 1\n",
       "  0.895959621521516    1 0\n",
       "  0.901653757294674    0 1\n",
       "  0.903182790007619    0 1\n",
       "  0.903857723340796    0 1\n",
       "  0.907777630933888    0 1\n",
       "  0.909903715853493    0 1\n",
       "  0.910358513951752    0 1\n",
       "  0.910656638152622    1 0\n",
       "  0.912937171453627    0 1\n",
       "  0.913849568576475    0 1\n",
       "  0.919940434089685    0 1\n",
       "  0.921558952228063    0 1\n",
       "  0.925455453484493    0 1\n",
       "  0.934095540874319    0 1\n",
       "  0.934597847172248    1 0\n",
       "  0.934798652780736    0 1\n",
       "  0.934953902959709    1 0\n",
       "  0.936462140091218    0 1\n",
       "  0.936583173106835    0 1\n",
       "  0.936786575046563    1 0\n",
       "  0.943876876253276    0 1\n",
       "  0.944687977109383    0 1\n",
       "  0.946388071208775    0 1\n",
       "  0.94744617185464     0 1\n",
       "  0.951928401135236    0 1\n",
       "  0.957067454571014    0 1\n",
       "  0.957251373514225    0 1\n",
       "  0.967529104861552    0 1\n",
       "  0.968073595217383    0 1\n",
       "  0.969320153773314    0 1\n",
       "  0.970335051271176    0 1\n",
       "  0.971902523069003    1 0\n",
       "  0.980565107133941    0 1\n",
       "  0.982686891158506    0 1\n",
       "  0.986194271448586    0 1\n",
       "  0.994200690079051    1 0\n",
       "  0.997214558533226    0 1\n",
       "  0.998218375660928    0 1\n",
       "  1.00410537383724     0 1\n",
       "  1.01397675706747     0 1\n",
       "  1.01400928680378     0 1\n",
       "  1.0144778693462      0 1\n",
       "  1.02474284125386     0 1\n",
       "  1.02590900088117     0 1\n",
       "  1.02596748736487     0 1\n",
       "  1.03168588178592     0 1\n",
       "  1.03286588035232     0 1\n",
       "  1.04418079683019     0 1\n",
       "  1.05038125344202     0 1\n",
       "  1.05179757434142     1 0\n",
       "  1.05337722507167     0 1\n",
       "  1.05643813282833     0 1\n",
       "  1.06308063279714     0 1\n",
       "  1.0686193827013      0 1\n",
       "  1.07405320805711     0 1\n",
       "  1.0743532293833      0 1\n",
       "  1.07613677448321     0 1\n",
       "  1.07945607509896     0 1\n",
       "  1.08033075654039     0 1\n",
       "  1.08464536511299     0 1\n",
       "  1.08471679815506     0 1\n",
       "  1.08544269603291     1 0\n",
       "  1.08856134122175     1 0\n",
       "  1.11163923479399     0 1\n",
       "  1.11332525315214     0 1\n",
       "  1.11739588240667     1 0\n",
       "  1.11788461472479     0 1\n",
       "  1.12142639891206     0 1\n",
       "  1.12537968703366     0 1\n",
       "  1.12998825160861     0 1\n",
       "  1.13253839417356     1 0\n",
       "  1.13379749866033     1 0\n",
       "  1.13758865943944     0 1\n",
       "  1.15478952038411     0 1\n",
       "  1.15494106395794     1 0\n",
       "  1.1704983167949      0 1\n",
       "  1.19335969362782     1 0\n",
       "  1.21131214501668     0 1"
      ]
     },
     "metadata": {},
     "output_type": "display_data"
    }
   ],
   "source": [
    "table(pred.svm,test[,1])        "
   ]
  },
  {
   "cell_type": "code",
   "execution_count": 239,
   "metadata": {},
   "outputs": [
    {
     "data": {
      "text/plain": [
       "\n",
       "  0   1 \n",
       " 58 138 "
      ]
     },
     "metadata": {},
     "output_type": "display_data"
    }
   ],
   "source": [
    "table( test[,1] ) "
   ]
  },
  {
   "cell_type": "code",
   "execution_count": 236,
   "metadata": {},
   "outputs": [
    {
     "ename": "ERROR",
     "evalue": "Error: `data` and `reference` should be factors with the same levels.\n",
     "output_type": "error",
     "traceback": [
      "Error: `data` and `reference` should be factors with the same levels.\nTraceback:\n",
      "1. confusionMatrix(data = pred.svm, test[, 1], positive = \"1\")",
      "2. confusionMatrix.default(data = pred.svm, test[, 1], positive = \"1\")",
      "3. stop(\"`data` and `reference` should be factors with the same levels.\", \n .     call. = FALSE)"
     ]
    }
   ],
   "source": [
    "confusionMatrix(data=pred.svm, test[,1], positive='1')\n"
   ]
  },
  {
   "cell_type": "code",
   "execution_count": null,
   "metadata": {},
   "outputs": [],
   "source": [
    "pred.svm<-predict(svm.model,test,type=\"class\")                          #test 데이터로 예측값과 정확도를 확인.\n",
    "table(pred.svm,test[,1])                      \n",
    "\n",
    "\n",
    "confusionMatrix(data=pred.svm, test[,1], positive='1')\n",
    "\n",
    "pred.svm.roc<-prediction(as.numeric(pred.svm),as.numeric(test[,1]))\n",
    "\n",
    "plot(performance(pred.svm.roc,\"tpr\",\"fpr\"))          #ROC Curve 작성.\n",
    "\n",
    "abline(a=0,b=1,lty=2,col=\"black\")"
   ]
  },
  {
   "cell_type": "code",
   "execution_count": null,
   "metadata": {},
   "outputs": [],
   "source": [
    "# 1) svm 모델 만들기\n",
    "#\n",
    "# svm(formula, \n",
    "#     data, \n",
    "#     kernel,        #훈련과 예측에 사용되는 커널로, \"radial\",\"linear\",\"polynomial\",\"sigmoid\"가 있음\n",
    "#                    #실제 문제에서 커널의 선택이 결과의 정확도에 큰 영향을 주지 않음\n",
    "#     gamma,         #초평면의 기울기, default=1/(데이터 차원)\n",
    "#     cost,          #과적합을 막는 정도, default=1\n",
    "#     ...)\n",
    "\n",
    "\n",
    "# 2) 파라미터 최적값 찾기 : svm에서는 gamma, cost 값을 가짐. cost는 과적합을 막는 정도를 지정하는 파라미터이며,\n",
    "#                           gamma는 초평면의 기울기를 의미.\n",
    "# tune.svm(formula, \n",
    "#          data, \n",
    "#          gamma,           #gamma값을 입력\n",
    "#          cost)            #cost값을 입력\n",
    "\n",
    "# ex) credit 데이터로 파라미터 최적값을 찾아 보자.\n",
    "\n",
    "setwd(\"C:/Users/alsdu/Downloads/PART 05 실습용 데이터\")\n",
    "credit<-read.table(\"credit_final.csv\", header=T, sep=',')\n",
    "idx<-sample(3, nrow(credit), replace=T, prob=c(0.5, 0.3, 0.2))\n",
    "train<-credit[idx==1,]\n",
    "validation<-credit[idx==2,]\n",
    "test<-credit[idx==3,]\n",
    "install.packages(\"e1071\")\n",
    "library(e1071)\n",
    "\n",
    "tune.svm(credit.rating~., \n",
    "         data=credit, \n",
    "         gamma = 10^(-6:-1),        \n",
    "         cost = 10^(1:2))          \n",
    "\n",
    "svm.model<-svm(credit.rating~., \n",
    "               data=train,\n",
    "               kernel=\"radial\",\n",
    "               gamma=0.01,\n",
    "               cost=10)\n",
    "\n",
    "summary(svm.model)\n",
    "\n",
    "pred.svm<-predict(svm.model,test,type=\"class\")                          #test 데이터로 예측값과 정확도를 확인.\n",
    "table(pred.svm,test[,1])                      \n",
    "\n",
    "confusionMatrix(data=pred.svm, reference=test[,1], positive='1')\n",
    "\n",
    "pred.svm.roc<-prediction(as.numeric(pred.svm),as.numeric(test[,1]))\n",
    "plot(performance(pred.svm.roc,\"tpr\",\"fpr\"))          #ROC Curve 작성.\n",
    "abline(a=0,b=1,lty=2,col=\"black\")                \n",
    "performance(pred.svm.roc,\"auc\")@y.values             #auc값이 50%로 성능이 좋지않음.\n"
   ]
  }
 ],
 "metadata": {
  "kernelspec": {
   "display_name": "R",
   "language": "R",
   "name": "ir"
  },
  "language_info": {
   "codemirror_mode": "r",
   "file_extension": ".r",
   "mimetype": "text/x-r-source",
   "name": "R",
   "pygments_lexer": "r",
   "version": "3.6.1"
  },
  "toc": {
   "base_numbering": 1,
   "nav_menu": {},
   "number_sections": true,
   "sideBar": true,
   "skip_h1_title": false,
   "title_cell": "Table of Contents",
   "title_sidebar": "Contents",
   "toc_cell": false,
   "toc_position": {},
   "toc_section_display": true,
   "toc_window_display": false
  }
 },
 "nbformat": 4,
 "nbformat_minor": 4
}
