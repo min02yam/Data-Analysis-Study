{
  "cells": [
    {
      "cell_type": "markdown",
      "metadata": {
        "id": "view-in-github",
        "colab_type": "text"
      },
      "source": [
        "<a href=\"https://colab.research.google.com/github/min02yam/R-study/blob/main/%EC%97%B0%EC%8A%B5/mlr%2Btidyverse.ipynb\" target=\"_parent\"><img src=\"https://colab.research.google.com/assets/colab-badge.svg\" alt=\"Open In Colab\"/></a>"
      ]
    },
    {
      "cell_type": "markdown",
      "metadata": {
        "id": "DBCzkkuezY3r"
      },
      "source": [
        "2022.05.18"
      ]
    },
    {
      "cell_type": "code",
      "source": [
        "#install.packages(c(\"mlr\",\"tidyverse\"))\n",
        "#install.packages(\"titanic\")\n",
        "library(mlr); library(tidyverse); library(titanic)"
      ],
      "metadata": {
        "colab": {
          "base_uri": "https://localhost:8080/"
        },
        "id": "u1qX7OzFJvNT",
        "outputId": "91e01e56-1937-4de2-c019-7a28d91fcb49"
      },
      "execution_count": 4,
      "outputs": [
        {
          "output_type": "stream",
          "name": "stderr",
          "text": [
            "Loading required package: ParamHelpers\n",
            "\n",
            "Warning message: 'mlr' is in 'maintenance-only' mode since July 2019.\n",
            "Future development will only happen in 'mlr3'\n",
            "(<https://mlr3.mlr-org.com>). Due to the focus on 'mlr3' there might be\n",
            "uncaught bugs meanwhile in {mlr} - please consider switching.\n",
            "\n",
            "Warning message in system(\"timedatectl\", intern = TRUE):\n",
            "“running command 'timedatectl' had status 1”\n",
            "── \u001b[1mAttaching packages\u001b[22m ─────────────────────────────────────── tidyverse 1.3.1 ──\n",
            "\n",
            "\u001b[32m✔\u001b[39m \u001b[34mggplot2\u001b[39m 3.3.6     \u001b[32m✔\u001b[39m \u001b[34mpurrr  \u001b[39m 0.3.4\n",
            "\u001b[32m✔\u001b[39m \u001b[34mtibble \u001b[39m 3.1.7     \u001b[32m✔\u001b[39m \u001b[34mdplyr  \u001b[39m 1.0.9\n",
            "\u001b[32m✔\u001b[39m \u001b[34mtidyr  \u001b[39m 1.2.0     \u001b[32m✔\u001b[39m \u001b[34mstringr\u001b[39m 1.4.0\n",
            "\u001b[32m✔\u001b[39m \u001b[34mreadr  \u001b[39m 2.1.2     \u001b[32m✔\u001b[39m \u001b[34mforcats\u001b[39m 0.5.1\n",
            "\n",
            "── \u001b[1mConflicts\u001b[22m ────────────────────────────────────────── tidyverse_conflicts() ──\n",
            "\u001b[31m✖\u001b[39m \u001b[34mdplyr\u001b[39m::\u001b[32mfilter()\u001b[39m masks \u001b[34mstats\u001b[39m::filter()\n",
            "\u001b[31m✖\u001b[39m \u001b[34mdplyr\u001b[39m::\u001b[32mlag()\u001b[39m    masks \u001b[34mstats\u001b[39m::lag()\n",
            "\n"
          ]
        }
      ]
    },
    {
      "cell_type": "code",
      "source": [
        "#티블로 변경\n",
        "tib<- as_tibble(titanic_train)"
      ],
      "metadata": {
        "id": "jP9qlxFEKhqa"
      },
      "execution_count": 8,
      "outputs": []
    },
    {
      "cell_type": "code",
      "source": [
        "#할당\n",
        "factors <- c(\"Survived\", \"Sex\", \"Pclass\")"
      ],
      "metadata": {
        "id": "3-cR8ec2LclU"
      },
      "execution_count": 11,
      "outputs": []
    },
    {
      "cell_type": "code",
      "source": [
        "#tib_clean\n",
        "tib_clean<- tib %>% mutate_at(.vars = factors, .funs = factor) %>% \n",
        "        mutate(FamSize = SibSp + Parch)  %>% \n",
        "       select(Survived, Pclass, Sex, Age, Fare, FamSize)\n",
        "\n",
        "tib_clean %>%head(5)\n"
      ],
      "metadata": {
        "colab": {
          "base_uri": "https://localhost:8080/",
          "height": 255
        },
        "id": "9R83W_9CLtzj",
        "outputId": "a498c97d-5d56-4604-c6da-a3758699ea00"
      },
      "execution_count": 22,
      "outputs": [
        {
          "output_type": "display_data",
          "data": {
            "text/html": [
              "<table class=\"dataframe\">\n",
              "<caption>A tibble: 5 × 6</caption>\n",
              "<thead>\n",
              "\t<tr><th scope=col>Survived</th><th scope=col>Pclass</th><th scope=col>Sex</th><th scope=col>Age</th><th scope=col>Fare</th><th scope=col>FamSize</th></tr>\n",
              "\t<tr><th scope=col>&lt;fct&gt;</th><th scope=col>&lt;fct&gt;</th><th scope=col>&lt;fct&gt;</th><th scope=col>&lt;dbl&gt;</th><th scope=col>&lt;dbl&gt;</th><th scope=col>&lt;int&gt;</th></tr>\n",
              "</thead>\n",
              "<tbody>\n",
              "\t<tr><td>0</td><td>3</td><td>male  </td><td>22</td><td> 7.2500</td><td>1</td></tr>\n",
              "\t<tr><td>1</td><td>1</td><td>female</td><td>38</td><td>71.2833</td><td>1</td></tr>\n",
              "\t<tr><td>1</td><td>3</td><td>female</td><td>26</td><td> 7.9250</td><td>0</td></tr>\n",
              "\t<tr><td>1</td><td>1</td><td>female</td><td>35</td><td>53.1000</td><td>1</td></tr>\n",
              "\t<tr><td>0</td><td>3</td><td>male  </td><td>35</td><td> 8.0500</td><td>0</td></tr>\n",
              "</tbody>\n",
              "</table>\n"
            ],
            "text/markdown": "\nA tibble: 5 × 6\n\n| Survived &lt;fct&gt; | Pclass &lt;fct&gt; | Sex &lt;fct&gt; | Age &lt;dbl&gt; | Fare &lt;dbl&gt; | FamSize &lt;int&gt; |\n|---|---|---|---|---|---|\n| 0 | 3 | male   | 22 |  7.2500 | 1 |\n| 1 | 1 | female | 38 | 71.2833 | 1 |\n| 1 | 3 | female | 26 |  7.9250 | 0 |\n| 1 | 1 | female | 35 | 53.1000 | 1 |\n| 0 | 3 | male   | 35 |  8.0500 | 0 |\n\n",
            "text/latex": "A tibble: 5 × 6\n\\begin{tabular}{llllll}\n Survived & Pclass & Sex & Age & Fare & FamSize\\\\\n <fct> & <fct> & <fct> & <dbl> & <dbl> & <int>\\\\\n\\hline\n\t 0 & 3 & male   & 22 &  7.2500 & 1\\\\\n\t 1 & 1 & female & 38 & 71.2833 & 1\\\\\n\t 1 & 3 & female & 26 &  7.9250 & 0\\\\\n\t 1 & 1 & female & 35 & 53.1000 & 1\\\\\n\t 0 & 3 & male   & 35 &  8.0500 & 0\\\\\n\\end{tabular}\n",
            "text/plain": [
              "  Survived Pclass Sex    Age Fare    FamSize\n",
              "1 0        3      male   22   7.2500 1      \n",
              "2 1        1      female 38  71.2833 1      \n",
              "3 1        3      female 26   7.9250 0      \n",
              "4 1        1      female 35  53.1000 1      \n",
              "5 0        3      male   35   8.0500 0      "
            ]
          },
          "metadata": {}
        }
      ]
    },
    {
      "cell_type": "markdown",
      "source": [
        "#[예제]"
      ],
      "metadata": {
        "id": "gP67sGQ6M9t2"
      }
    },
    {
      "cell_type": "code",
      "source": [
        "#티블 변형\n",
        "iris <- as_tibble(iris)"
      ],
      "metadata": {
        "id": "AsknFLQFNALF"
      },
      "execution_count": 26,
      "outputs": []
    },
    {
      "cell_type": "code",
      "source": [
        "#스케일(표준화)함수 생성 \n",
        "scale2 <- function(x, na.rm = FALSE) (x - mean(x, na.rm = na.rm)) / sd(x, na.rm)"
      ],
      "metadata": {
        "id": "7msmA5nINN0f"
      },
      "execution_count": 27,
      "outputs": []
    },
    {
      "cell_type": "code",
      "source": [
        "starwars %>% head(3)"
      ],
      "metadata": {
        "id": "c2nciCmANizA"
      },
      "execution_count": null,
      "outputs": []
    },
    {
      "cell_type": "code",
      "source": [
        "#NA로 반환 (당연)\n",
        "starwars %>% mutate_at(c(\"height\", \"mass\"), scale2) %>% head(3)"
      ],
      "metadata": {
        "id": "vsjC-xyhNha1"
      },
      "execution_count": null,
      "outputs": []
    },
    {
      "cell_type": "code",
      "source": [
        " #역시 NA (역시 당연)\n",
        " starwars %>% mutate(across(c(\"height\", \"mass\"), scale2)) %>% head(3)"
      ],
      "metadata": {
        "id": "wyNXvhBON54t"
      },
      "execution_count": null,
      "outputs": []
    },
    {
      "cell_type": "code",
      "source": [
        "# You can pass additional arguments to the function:\n",
        "# 표준화 성공 ! \n",
        "starwars %>% mutate_at(c(\"height\", \"mass\"), scale2, na.rm = TRUE) %>% head(1)"
      ],
      "metadata": {
        "colab": {
          "base_uri": "https://localhost:8080/",
          "height": 392
        },
        "id": "NS57KTsuOKFQ",
        "outputId": "2848d141-3e36-4ae3-c028-8c8708fef9d0"
      },
      "execution_count": 33,
      "outputs": [
        {
          "output_type": "display_data",
          "data": {
            "text/html": [
              "<table class=\"dataframe\">\n",
              "<caption>A tibble: 1 × 14</caption>\n",
              "<thead>\n",
              "\t<tr><th scope=col>name</th><th scope=col>height</th><th scope=col>mass</th><th scope=col>hair_color</th><th scope=col>skin_color</th><th scope=col>eye_color</th><th scope=col>birth_year</th><th scope=col>sex</th><th scope=col>gender</th><th scope=col>homeworld</th><th scope=col>species</th><th scope=col>films</th><th scope=col>vehicles</th><th scope=col>starships</th></tr>\n",
              "\t<tr><th scope=col>&lt;chr&gt;</th><th scope=col>&lt;dbl&gt;</th><th scope=col>&lt;dbl&gt;</th><th scope=col>&lt;chr&gt;</th><th scope=col>&lt;chr&gt;</th><th scope=col>&lt;chr&gt;</th><th scope=col>&lt;dbl&gt;</th><th scope=col>&lt;chr&gt;</th><th scope=col>&lt;chr&gt;</th><th scope=col>&lt;chr&gt;</th><th scope=col>&lt;chr&gt;</th><th scope=col>&lt;list&gt;</th><th scope=col>&lt;list&gt;</th><th scope=col>&lt;list&gt;</th></tr>\n",
              "</thead>\n",
              "<tbody>\n",
              "\t<tr><td>Luke Skywalker</td><td>-0.06781696</td><td>-0.1198643</td><td>blond</td><td>fair</td><td>blue</td><td>19</td><td>male</td><td>masculine</td><td>Tatooine</td><td>Human</td><td>The Empire Strikes Back, Revenge of the Sith    , Return of the Jedi     , A New Hope             , The Force Awakens      </td><td>Snowspeeder          , Imperial Speeder Bike</td><td>X-wing          , Imperial shuttle</td></tr>\n",
              "</tbody>\n",
              "</table>\n"
            ],
            "text/markdown": "\nA tibble: 1 × 14\n\n| name &lt;chr&gt; | height &lt;dbl&gt; | mass &lt;dbl&gt; | hair_color &lt;chr&gt; | skin_color &lt;chr&gt; | eye_color &lt;chr&gt; | birth_year &lt;dbl&gt; | sex &lt;chr&gt; | gender &lt;chr&gt; | homeworld &lt;chr&gt; | species &lt;chr&gt; | films &lt;list&gt; | vehicles &lt;list&gt; | starships &lt;list&gt; |\n|---|---|---|---|---|---|---|---|---|---|---|---|---|---|\n| Luke Skywalker | -0.06781696 | -0.1198643 | blond | fair | blue | 19 | male | masculine | Tatooine | Human | The Empire Strikes Back, Revenge of the Sith    , Return of the Jedi     , A New Hope             , The Force Awakens       | Snowspeeder          , Imperial Speeder Bike | X-wing          , Imperial shuttle |\n\n",
            "text/latex": "A tibble: 1 × 14\n\\begin{tabular}{llllllllllllll}\n name & height & mass & hair\\_color & skin\\_color & eye\\_color & birth\\_year & sex & gender & homeworld & species & films & vehicles & starships\\\\\n <chr> & <dbl> & <dbl> & <chr> & <chr> & <chr> & <dbl> & <chr> & <chr> & <chr> & <chr> & <list> & <list> & <list>\\\\\n\\hline\n\t Luke Skywalker & -0.06781696 & -0.1198643 & blond & fair & blue & 19 & male & masculine & Tatooine & Human & The Empire Strikes Back, Revenge of the Sith    , Return of the Jedi     , A New Hope             , The Force Awakens       & Snowspeeder          , Imperial Speeder Bike & X-wing          , Imperial shuttle\\\\\n\\end{tabular}\n",
            "text/plain": [
              "  name           height      mass       hair_color skin_color eye_color\n",
              "1 Luke Skywalker -0.06781696 -0.1198643 blond      fair       blue     \n",
              "  birth_year sex  gender    homeworld species\n",
              "1 19         male masculine Tatooine  Human  \n",
              "  films                                                                                                                      \n",
              "1 The Empire Strikes Back, Revenge of the Sith    , Return of the Jedi     , A New Hope             , The Force Awakens      \n",
              "  vehicles                                    \n",
              "1 Snowspeeder          , Imperial Speeder Bike\n",
              "  starships                         \n",
              "1 X-wing          , Imperial shuttle"
            ]
          },
          "metadata": {}
        }
      ]
    },
    {
      "cell_type": "code",
      "source": [
        " starwars %>% mutate(across(c(\"height\", \"mass\"), ~ scale2(.x, na.rm = TRUE))) %>% head(1)"
      ],
      "metadata": {
        "colab": {
          "base_uri": "https://localhost:8080/",
          "height": 392
        },
        "id": "a2r8vYfsOiX3",
        "outputId": "430d3978-8e7d-4690-b5ae-aeb5531a3ec2"
      },
      "execution_count": 35,
      "outputs": [
        {
          "output_type": "display_data",
          "data": {
            "text/html": [
              "<table class=\"dataframe\">\n",
              "<caption>A tibble: 1 × 14</caption>\n",
              "<thead>\n",
              "\t<tr><th scope=col>name</th><th scope=col>height</th><th scope=col>mass</th><th scope=col>hair_color</th><th scope=col>skin_color</th><th scope=col>eye_color</th><th scope=col>birth_year</th><th scope=col>sex</th><th scope=col>gender</th><th scope=col>homeworld</th><th scope=col>species</th><th scope=col>films</th><th scope=col>vehicles</th><th scope=col>starships</th></tr>\n",
              "\t<tr><th scope=col>&lt;chr&gt;</th><th scope=col>&lt;dbl&gt;</th><th scope=col>&lt;dbl&gt;</th><th scope=col>&lt;chr&gt;</th><th scope=col>&lt;chr&gt;</th><th scope=col>&lt;chr&gt;</th><th scope=col>&lt;dbl&gt;</th><th scope=col>&lt;chr&gt;</th><th scope=col>&lt;chr&gt;</th><th scope=col>&lt;chr&gt;</th><th scope=col>&lt;chr&gt;</th><th scope=col>&lt;list&gt;</th><th scope=col>&lt;list&gt;</th><th scope=col>&lt;list&gt;</th></tr>\n",
              "</thead>\n",
              "<tbody>\n",
              "\t<tr><td>Luke Skywalker</td><td>-0.06781696</td><td>-0.1198643</td><td>blond</td><td>fair</td><td>blue</td><td>19</td><td>male</td><td>masculine</td><td>Tatooine</td><td>Human</td><td>The Empire Strikes Back, Revenge of the Sith    , Return of the Jedi     , A New Hope             , The Force Awakens      </td><td>Snowspeeder          , Imperial Speeder Bike</td><td>X-wing          , Imperial shuttle</td></tr>\n",
              "</tbody>\n",
              "</table>\n"
            ],
            "text/markdown": "\nA tibble: 1 × 14\n\n| name &lt;chr&gt; | height &lt;dbl&gt; | mass &lt;dbl&gt; | hair_color &lt;chr&gt; | skin_color &lt;chr&gt; | eye_color &lt;chr&gt; | birth_year &lt;dbl&gt; | sex &lt;chr&gt; | gender &lt;chr&gt; | homeworld &lt;chr&gt; | species &lt;chr&gt; | films &lt;list&gt; | vehicles &lt;list&gt; | starships &lt;list&gt; |\n|---|---|---|---|---|---|---|---|---|---|---|---|---|---|\n| Luke Skywalker | -0.06781696 | -0.1198643 | blond | fair | blue | 19 | male | masculine | Tatooine | Human | The Empire Strikes Back, Revenge of the Sith    , Return of the Jedi     , A New Hope             , The Force Awakens       | Snowspeeder          , Imperial Speeder Bike | X-wing          , Imperial shuttle |\n\n",
            "text/latex": "A tibble: 1 × 14\n\\begin{tabular}{llllllllllllll}\n name & height & mass & hair\\_color & skin\\_color & eye\\_color & birth\\_year & sex & gender & homeworld & species & films & vehicles & starships\\\\\n <chr> & <dbl> & <dbl> & <chr> & <chr> & <chr> & <dbl> & <chr> & <chr> & <chr> & <chr> & <list> & <list> & <list>\\\\\n\\hline\n\t Luke Skywalker & -0.06781696 & -0.1198643 & blond & fair & blue & 19 & male & masculine & Tatooine & Human & The Empire Strikes Back, Revenge of the Sith    , Return of the Jedi     , A New Hope             , The Force Awakens       & Snowspeeder          , Imperial Speeder Bike & X-wing          , Imperial shuttle\\\\\n\\end{tabular}\n",
            "text/plain": [
              "  name           height      mass       hair_color skin_color eye_color\n",
              "1 Luke Skywalker -0.06781696 -0.1198643 blond      fair       blue     \n",
              "  birth_year sex  gender    homeworld species\n",
              "1 19         male masculine Tatooine  Human  \n",
              "  films                                                                                                                      \n",
              "1 The Empire Strikes Back, Revenge of the Sith    , Return of the Jedi     , A New Hope             , The Force Awakens      \n",
              "  vehicles                                    \n",
              "1 Snowspeeder          , Imperial Speeder Bike\n",
              "  starships                         \n",
              "1 X-wing          , Imperial shuttle"
            ]
          },
          "metadata": {}
        }
      ]
    },
    {
      "cell_type": "code",
      "source": [
        "starwars %>% mutate_at(c(\"height\", \"mass\"), ~scale2(., na.rm = TRUE)) %>%head(1)"
      ],
      "metadata": {
        "id": "5tISUp3oOcdB"
      },
      "execution_count": null,
      "outputs": []
    },
    {
      "cell_type": "code",
      "source": [
        ""
      ],
      "metadata": {
        "id": "sPG6JqKDOpQD"
      },
      "execution_count": null,
      "outputs": []
    },
    {
      "cell_type": "code",
      "source": [
        "\n",
        "     \n",
        "     # You can also supply selection helpers to _at() functions but you have\n",
        "     # to quote them with vars():\n",
        "     iris %>% mutate_at(vars(matches(\"Sepal\")), log)\n",
        "     iris %>% mutate(across(matches(\"Sepal\"), log))\n",
        "     \n",
        "     # The _if() variants apply a predicate function (a function that\n",
        "     # returns TRUE or FALSE) to determine the relevant subset of\n",
        "     # columns. Here we divide all the numeric columns by 100:\n",
        "     starwars %>% mutate_if(is.numeric, scale2, na.rm = TRUE)\n",
        "     starwars %>% mutate(across(where(is.numeric), ~ scale2(.x, na.rm = TRUE)))\n",
        "     \n",
        "     # mutate_if() is particularly useful for transforming variables from\n",
        "     # one type to another\n",
        "     iris %>% mutate_if(is.factor, as.character)\n",
        "     iris %>% mutate_if(is.double, as.integer)\n",
        "     # ->\n",
        "     iris %>% mutate(across(where(is.factor), as.character))\n",
        "     iris %>% mutate(across(where(is.double), as.integer))"
      ],
      "metadata": {
        "id": "rQI7drbPJ_5K"
      },
      "execution_count": null,
      "outputs": []
    }
  ],
  "metadata": {
    "colab": {
      "name": "20220522_hotel_하는중.ipynb",
      "provenance": [],
      "authorship_tag": "ABX9TyPS5810aXltBG/sgW4wGcDG",
      "include_colab_link": true
    },
    "kernelspec": {
      "display_name": "R",
      "name": "ir"
    },
    "language_info": {
      "name": "R"
    }
  },
  "nbformat": 4,
  "nbformat_minor": 0
}
