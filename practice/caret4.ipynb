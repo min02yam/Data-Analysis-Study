{
  "nbformat": 4,
  "nbformat_minor": 0,
  "metadata": {
    "colab": {
      "name": "Untitled26.ipynb",
      "provenance": [],
      "authorship_tag": "ABX9TyNMP8alI8aNX+FgMgfRRTZY",
      "include_colab_link": true
    },
    "kernelspec": {
      "name": "ir",
      "display_name": "R"
    },
    "language_info": {
      "name": "R"
    }
  },
  "cells": [
    {
      "cell_type": "markdown",
      "metadata": {
        "id": "view-in-github",
        "colab_type": "text"
      },
      "source": [
        "<a href=\"https://colab.research.google.com/github/min02yam/R-study/blob/main/%EC%97%B0%EC%8A%B5/caret_4.ipynb\" target=\"_parent\"><img src=\"https://colab.research.google.com/assets/colab-badge.svg\" alt=\"Open In Colab\"/></a>"
      ]
    },
    {
      "cell_type": "markdown",
      "source": [
        "2022.06.14\n",
        "# caret\n",
        "Data splitting\n",
        "1. outcome에 기반한 단순 분할:: createDataPartition\n",
        "2. Predictors에 기반한 분할:: maxDissim\n",
        "-----------------------------------------------------------"
      ],
      "metadata": {
        "id": "iUg5k3STKfAV"
      }
    },
    {
      "cell_type": "code",
      "source": [
        "install.packages(c(\"dplyr\",\"tidyverse\",\"caret\",\"skimr\",\"DataExplorer\",\"pacman\"))\n",
        "pacman::p_load( \"dplyr\",\"tidyverse\",\"caret\",\"skimr\",\"DataExplorer\")"
      ],
      "metadata": {
        "colab": {
          "base_uri": "https://localhost:8080/"
        },
        "id": "vBiQA11DLn32",
        "outputId": "5ca8aa59-46bc-4f7a-d7b5-2ef2377d097a"
      },
      "execution_count": 2,
      "outputs": [
        {
          "output_type": "stream",
          "name": "stderr",
          "text": [
            "Installing packages into ‘/usr/local/lib/R/site-library’\n",
            "(as ‘lib’ is unspecified)\n",
            "\n",
            "also installing the dependencies ‘listenv’, ‘parallelly’, ‘future’, ‘globals’, ‘future.apply’, ‘progressr’, ‘numDeriv’, ‘SQUAREM’, ‘lava’, ‘prodlim’, ‘proxy’, ‘iterators’, ‘Rcpp’, ‘gower’, ‘hardhat’, ‘ipred’, ‘timeDate’, ‘htmlwidgets’, ‘igraph’, ‘e1071’, ‘foreach’, ‘ModelMetrics’, ‘plyr’, ‘pROC’, ‘recipes’, ‘reshape2’, ‘gridExtra’, ‘networkD3’\n",
            "\n",
            "\n"
          ]
        }
      ]
    },
    {
      "cell_type": "markdown",
      "source": [
        "# 1.outcome에 기반한 단순 분할:: createDataPartition"
      ],
      "metadata": {
        "id": "D0NmR6uQLT6_"
      }
    },
    {
      "cell_type": "code",
      "source": [
        "set.seed(2022)\n",
        "ind= createDataPartition(iris$Species, p=.8, list=FALSE, times=1)"
      ],
      "metadata": {
        "id": "QfutYiF1OiON"
      },
      "execution_count": 11,
      "outputs": []
    },
    {
      "cell_type": "code",
      "source": [
        "train = iris[ind,]\n",
        "test = iris[-ind,]"
      ],
      "metadata": {
        "id": "TptQHgiVRiW3"
      },
      "execution_count": 56,
      "outputs": []
    },
    {
      "cell_type": "code",
      "source": [
        "(iris[ind,])"
      ],
      "metadata": {
        "id": "32n8ct1qMlzX"
      },
      "execution_count": null,
      "outputs": []
    },
    {
      "cell_type": "code",
      "execution_count": 47,
      "metadata": {
        "colab": {
          "base_uri": "https://localhost:8080/",
          "height": 437
        },
        "id": "OWvHe3NxKef6",
        "outputId": "1ead6bd0-81b3-47af-808f-77971acb3566"
      },
      "outputs": [
        {
          "output_type": "display_data",
          "data": {
            "text/plain": [
              "Plot with title “density.default(x = .)”"
            ],
            "image/png": "[encoded data removed]"
          },
          "metadata": {
            "image/png": {
              "width": 420,
              "height": 420
            }
          }
        }
      ],
      "source": [
        "iris[ind] %>% as.numeric %>% density %>% plot\n",
        "iris[ind]%>% as.numeric %>% rug\n",
        "\n",
        "\n",
        "#points(, type = \"l\", col = 4)\n",
        "#rug(x[-inA], col = 4)"
      ]
    },
    {
      "cell_type": "code",
      "source": [
        "points(density(x[-inA]), type = \"l\", col = 4)"
      ],
      "metadata": {
        "id": "lMA9bNe7ROOL"
      },
      "execution_count": null,
      "outputs": []
    },
    {
      "cell_type": "code",
      "source": [
        "#iris[-ind] \n",
        "iris[ind]"
      ],
      "metadata": {
        "colab": {
          "base_uri": "https://localhost:8080/",
          "height": 104
        },
        "id": "F17uI9emRQ6J",
        "outputId": "2e0db6a9-aa51-4fdd-c2fc-62227ad2fe1b"
      },
      "execution_count": 53,
      "outputs": [
        {
          "output_type": "display_data",
          "data": {
            "text/html": [
              "<style>\n",
              ".list-inline {list-style: none; margin:0; padding: 0}\n",
              ".list-inline>li {display: inline-block}\n",
              ".list-inline>li:not(:last-child)::after {content: \"\\00b7\"; padding: 0 .5ex}\n",
              "</style>\n",
              "<ol class=list-inline><li>'5.1'</li><li>'4.9'</li><li>'4.7'</li><li>'4.6'</li><li>'5.0'</li><li>'5.4'</li><li>'4.6'</li><li>'5.0'</li><li>'4.9'</li><li>'5.4'</li><li>'4.8'</li><li>'4.8'</li><li>'4.3'</li><li>'5.8'</li><li>'5.1'</li><li>'5.1'</li><li>'5.4'</li><li>'5.1'</li><li>'5.1'</li><li>'5.0'</li><li>'5.0'</li><li>'5.2'</li><li>'5.2'</li><li>'5.4'</li><li>'5.5'</li><li>'4.9'</li><li>'5.0'</li><li>'5.5'</li><li>'4.9'</li><li>'4.4'</li><li>'5.1'</li><li>'5.0'</li><li>'4.4'</li><li>'5.0'</li><li>'5.1'</li><li>'4.8'</li><li>'5.1'</li><li>'4.6'</li><li>'5.3'</li><li>'5.0'</li><li>'7.0'</li><li>'6.4'</li><li>'6.9'</li><li>'6.5'</li><li>'5.7'</li><li>'6.3'</li><li>'4.9'</li><li>'6.6'</li><li>'5.2'</li><li>'5.0'</li><li>'5.9'</li><li>'6.0'</li><li>'6.1'</li><li>'5.6'</li><li>'6.7'</li><li>'5.6'</li><li>'5.8'</li><li>'6.2'</li><li>'5.6'</li><li>'5.9'</li><li>'6.3'</li><li>'6.1'</li><li>'6.6'</li><li>'6.7'</li><li>'6.0'</li><li>'5.7'</li><li>'5.5'</li><li>'5.5'</li><li>'5.8'</li><li>'5.4'</li><li>'6.3'</li><li>'5.6'</li><li>'5.5'</li><li>'6.1'</li><li>'5.0'</li><li>'5.6'</li><li>'5.7'</li><li>'6.2'</li><li>'5.1'</li><li>'5.7'</li><li>'6.3'</li><li>'5.8'</li><li>'7.1'</li><li>'6.3'</li><li>'6.5'</li><li>'7.6'</li><li>'4.9'</li><li>'7.3'</li><li>'6.7'</li><li>'7.2'</li><li>'6.5'</li><li>'6.8'</li><li>'5.7'</li><li>'5.8'</li><li>'6.4'</li><li>'6.5'</li><li>'7.7'</li><li>'7.7'</li><li>'6.0'</li><li>'5.6'</li><li>'7.7'</li><li>'6.7'</li><li>'7.2'</li><li>'6.2'</li><li>'6.1'</li><li>'6.4'</li><li>'7.9'</li><li>'6.4'</li><li>'6.1'</li><li>'6.3'</li><li>'6.4'</li><li>'6.9'</li><li>'6.7'</li><li>'6.9'</li><li>'5.8'</li><li>'6.8'</li><li>'6.7'</li><li>'6.5'</li><li>'6.2'</li><li>'5.9'</li></ol>\n"
            ],
            "text/markdown": "1. '5.1'\n2. '4.9'\n3. '4.7'\n4. '4.6'\n5. '5.0'\n6. '5.4'\n7. '4.6'\n8. '5.0'\n9. '4.9'\n10. '5.4'\n11. '4.8'\n12. '4.8'\n13. '4.3'\n14. '5.8'\n15. '5.1'\n16. '5.1'\n17. '5.4'\n18. '5.1'\n19. '5.1'\n20. '5.0'\n21. '5.0'\n22. '5.2'\n23. '5.2'\n24. '5.4'\n25. '5.5'\n26. '4.9'\n27. '5.0'\n28. '5.5'\n29. '4.9'\n30. '4.4'\n31. '5.1'\n32. '5.0'\n33. '4.4'\n34. '5.0'\n35. '5.1'\n36. '4.8'\n37. '5.1'\n38. '4.6'\n39. '5.3'\n40. '5.0'\n41. '7.0'\n42. '6.4'\n43. '6.9'\n44. '6.5'\n45. '5.7'\n46. '6.3'\n47. '4.9'\n48. '6.6'\n49. '5.2'\n50. '5.0'\n51. '5.9'\n52. '6.0'\n53. '6.1'\n54. '5.6'\n55. '6.7'\n56. '5.6'\n57. '5.8'\n58. '6.2'\n59. '5.6'\n60. '5.9'\n61. '6.3'\n62. '6.1'\n63. '6.6'\n64. '6.7'\n65. '6.0'\n66. '5.7'\n67. '5.5'\n68. '5.5'\n69. '5.8'\n70. '5.4'\n71. '6.3'\n72. '5.6'\n73. '5.5'\n74. '6.1'\n75. '5.0'\n76. '5.6'\n77. '5.7'\n78. '6.2'\n79. '5.1'\n80. '5.7'\n81. '6.3'\n82. '5.8'\n83. '7.1'\n84. '6.3'\n85. '6.5'\n86. '7.6'\n87. '4.9'\n88. '7.3'\n89. '6.7'\n90. '7.2'\n91. '6.5'\n92. '6.8'\n93. '5.7'\n94. '5.8'\n95. '6.4'\n96. '6.5'\n97. '7.7'\n98. '7.7'\n99. '6.0'\n100. '5.6'\n101. '7.7'\n102. '6.7'\n103. '7.2'\n104. '6.2'\n105. '6.1'\n106. '6.4'\n107. '7.9'\n108. '6.4'\n109. '6.1'\n110. '6.3'\n111. '6.4'\n112. '6.9'\n113. '6.7'\n114. '6.9'\n115. '5.8'\n116. '6.8'\n117. '6.7'\n118. '6.5'\n119. '6.2'\n120. '5.9'\n\n\n",
            "text/latex": "\\begin{enumerate*}\n\\item '5.1'\n\\item '4.9'\n\\item '4.7'\n\\item '4.6'\n\\item '5.0'\n\\item '5.4'\n\\item '4.6'\n\\item '5.0'\n\\item '4.9'\n\\item '5.4'\n\\item '4.8'\n\\item '4.8'\n\\item '4.3'\n\\item '5.8'\n\\item '5.1'\n\\item '5.1'\n\\item '5.4'\n\\item '5.1'\n\\item '5.1'\n\\item '5.0'\n\\item '5.0'\n\\item '5.2'\n\\item '5.2'\n\\item '5.4'\n\\item '5.5'\n\\item '4.9'\n\\item '5.0'\n\\item '5.5'\n\\item '4.9'\n\\item '4.4'\n\\item '5.1'\n\\item '5.0'\n\\item '4.4'\n\\item '5.0'\n\\item '5.1'\n\\item '4.8'\n\\item '5.1'\n\\item '4.6'\n\\item '5.3'\n\\item '5.0'\n\\item '7.0'\n\\item '6.4'\n\\item '6.9'\n\\item '6.5'\n\\item '5.7'\n\\item '6.3'\n\\item '4.9'\n\\item '6.6'\n\\item '5.2'\n\\item '5.0'\n\\item '5.9'\n\\item '6.0'\n\\item '6.1'\n\\item '5.6'\n\\item '6.7'\n\\item '5.6'\n\\item '5.8'\n\\item '6.2'\n\\item '5.6'\n\\item '5.9'\n\\item '6.3'\n\\item '6.1'\n\\item '6.6'\n\\item '6.7'\n\\item '6.0'\n\\item '5.7'\n\\item '5.5'\n\\item '5.5'\n\\item '5.8'\n\\item '5.4'\n\\item '6.3'\n\\item '5.6'\n\\item '5.5'\n\\item '6.1'\n\\item '5.0'\n\\item '5.6'\n\\item '5.7'\n\\item '6.2'\n\\item '5.1'\n\\item '5.7'\n\\item '6.3'\n\\item '5.8'\n\\item '7.1'\n\\item '6.3'\n\\item '6.5'\n\\item '7.6'\n\\item '4.9'\n\\item '7.3'\n\\item '6.7'\n\\item '7.2'\n\\item '6.5'\n\\item '6.8'\n\\item '5.7'\n\\item '5.8'\n\\item '6.4'\n\\item '6.5'\n\\item '7.7'\n\\item '7.7'\n\\item '6.0'\n\\item '5.6'\n\\item '7.7'\n\\item '6.7'\n\\item '7.2'\n\\item '6.2'\n\\item '6.1'\n\\item '6.4'\n\\item '7.9'\n\\item '6.4'\n\\item '6.1'\n\\item '6.3'\n\\item '6.4'\n\\item '6.9'\n\\item '6.7'\n\\item '6.9'\n\\item '5.8'\n\\item '6.8'\n\\item '6.7'\n\\item '6.5'\n\\item '6.2'\n\\item '5.9'\n\\end{enumerate*}\n",
            "text/plain": [
              "  [1] \"5.1\" \"4.9\" \"4.7\" \"4.6\" \"5.0\" \"5.4\" \"4.6\" \"5.0\" \"4.9\" \"5.4\" \"4.8\" \"4.8\"\n",
              " [13] \"4.3\" \"5.8\" \"5.1\" \"5.1\" \"5.4\" \"5.1\" \"5.1\" \"5.0\" \"5.0\" \"5.2\" \"5.2\" \"5.4\"\n",
              " [25] \"5.5\" \"4.9\" \"5.0\" \"5.5\" \"4.9\" \"4.4\" \"5.1\" \"5.0\" \"4.4\" \"5.0\" \"5.1\" \"4.8\"\n",
              " [37] \"5.1\" \"4.6\" \"5.3\" \"5.0\" \"7.0\" \"6.4\" \"6.9\" \"6.5\" \"5.7\" \"6.3\" \"4.9\" \"6.6\"\n",
              " [49] \"5.2\" \"5.0\" \"5.9\" \"6.0\" \"6.1\" \"5.6\" \"6.7\" \"5.6\" \"5.8\" \"6.2\" \"5.6\" \"5.9\"\n",
              " [61] \"6.3\" \"6.1\" \"6.6\" \"6.7\" \"6.0\" \"5.7\" \"5.5\" \"5.5\" \"5.8\" \"5.4\" \"6.3\" \"5.6\"\n",
              " [73] \"5.5\" \"6.1\" \"5.0\" \"5.6\" \"5.7\" \"6.2\" \"5.1\" \"5.7\" \"6.3\" \"5.8\" \"7.1\" \"6.3\"\n",
              " [85] \"6.5\" \"7.6\" \"4.9\" \"7.3\" \"6.7\" \"7.2\" \"6.5\" \"6.8\" \"5.7\" \"5.8\" \"6.4\" \"6.5\"\n",
              " [97] \"7.7\" \"7.7\" \"6.0\" \"5.6\" \"7.7\" \"6.7\" \"7.2\" \"6.2\" \"6.1\" \"6.4\" \"7.9\" \"6.4\"\n",
              "[109] \"6.1\" \"6.3\" \"6.4\" \"6.9\" \"6.7\" \"6.9\" \"5.8\" \"6.8\" \"6.7\" \"6.5\" \"6.2\" \"5.9\""
            ]
          },
          "metadata": {}
        }
      ]
    },
    {
      "cell_type": "markdown",
      "source": [
        "[예제]"
      ],
      "metadata": {
        "id": "v2AfM00AQFcH"
      }
    },
    {
      "cell_type": "code",
      "source": [
        "#data(oil)\n",
        "createDataPartition(oilType,2)"
      ],
      "metadata": {
        "colab": {
          "base_uri": "https://localhost:8080/",
          "height": 149
        },
        "id": "wsp-gUn_PDaA",
        "outputId": "1d7fa0b6-3a22-46fb-c197-57a6d18a3a9e"
      },
      "execution_count": 18,
      "outputs": [
        {
          "output_type": "display_data",
          "data": {
            "text/html": [
              "<dl>\n",
              "\t<dt>$Resample1</dt>\n",
              "\t\t<dd><style>\n",
              ".list-inline {list-style: none; margin:0; padding: 0}\n",
              ".list-inline>li {display: inline-block}\n",
              ".list-inline>li:not(:last-child)::after {content: \"\\00b7\"; padding: 0 .5ex}\n",
              "</style>\n",
              "<ol class=list-inline><li>1</li><li>3</li><li>4</li><li>5</li><li>7</li><li>9</li><li>10</li><li>13</li><li>16</li><li>17</li><li>18</li><li>19</li><li>24</li><li>25</li><li>31</li><li>33</li><li>34</li><li>39</li><li>43</li><li>44</li><li>46</li><li>47</li><li>48</li><li>52</li><li>54</li><li>55</li><li>57</li><li>60</li><li>61</li><li>62</li><li>64</li><li>69</li><li>70</li><li>71</li><li>72</li><li>73</li><li>75</li><li>76</li><li>77</li><li>78</li><li>80</li><li>83</li><li>84</li><li>86</li><li>89</li><li>91</li><li>92</li><li>93</li><li>94</li><li>96</li></ol>\n",
              "</dd>\n",
              "\t<dt>$Resample2</dt>\n",
              "\t\t<dd><style>\n",
              ".list-inline {list-style: none; margin:0; padding: 0}\n",
              ".list-inline>li {display: inline-block}\n",
              ".list-inline>li:not(:last-child)::after {content: \"\\00b7\"; padding: 0 .5ex}\n",
              "</style>\n",
              "<ol class=list-inline><li>1</li><li>2</li><li>3</li><li>7</li><li>8</li><li>12</li><li>14</li><li>15</li><li>17</li><li>18</li><li>24</li><li>25</li><li>29</li><li>32</li><li>33</li><li>34</li><li>36</li><li>37</li><li>45</li><li>47</li><li>49</li><li>51</li><li>52</li><li>53</li><li>54</li><li>56</li><li>57</li><li>60</li><li>62</li><li>64</li><li>68</li><li>69</li><li>70</li><li>71</li><li>72</li><li>73</li><li>76</li><li>78</li><li>79</li><li>81</li><li>82</li><li>84</li><li>85</li><li>88</li><li>89</li><li>90</li><li>92</li><li>93</li><li>94</li><li>96</li></ol>\n",
              "</dd>\n",
              "</dl>\n"
            ],
            "text/markdown": "$Resample1\n:   1. 1\n2. 3\n3. 4\n4. 5\n5. 7\n6. 9\n7. 10\n8. 13\n9. 16\n10. 17\n11. 18\n12. 19\n13. 24\n14. 25\n15. 31\n16. 33\n17. 34\n18. 39\n19. 43\n20. 44\n21. 46\n22. 47\n23. 48\n24. 52\n25. 54\n26. 55\n27. 57\n28. 60\n29. 61\n30. 62\n31. 64\n32. 69\n33. 70\n34. 71\n35. 72\n36. 73\n37. 75\n38. 76\n39. 77\n40. 78\n41. 80\n42. 83\n43. 84\n44. 86\n45. 89\n46. 91\n47. 92\n48. 93\n49. 94\n50. 96\n\n\n\n$Resample2\n:   1. 1\n2. 2\n3. 3\n4. 7\n5. 8\n6. 12\n7. 14\n8. 15\n9. 17\n10. 18\n11. 24\n12. 25\n13. 29\n14. 32\n15. 33\n16. 34\n17. 36\n18. 37\n19. 45\n20. 47\n21. 49\n22. 51\n23. 52\n24. 53\n25. 54\n26. 56\n27. 57\n28. 60\n29. 62\n30. 64\n31. 68\n32. 69\n33. 70\n34. 71\n35. 72\n36. 73\n37. 76\n38. 78\n39. 79\n40. 81\n41. 82\n42. 84\n43. 85\n44. 88\n45. 89\n46. 90\n47. 92\n48. 93\n49. 94\n50. 96\n\n\n\n\n\n",
            "text/latex": "\\begin{description}\n\\item[\\$Resample1] \\begin{enumerate*}\n\\item 1\n\\item 3\n\\item 4\n\\item 5\n\\item 7\n\\item 9\n\\item 10\n\\item 13\n\\item 16\n\\item 17\n\\item 18\n\\item 19\n\\item 24\n\\item 25\n\\item 31\n\\item 33\n\\item 34\n\\item 39\n\\item 43\n\\item 44\n\\item 46\n\\item 47\n\\item 48\n\\item 52\n\\item 54\n\\item 55\n\\item 57\n\\item 60\n\\item 61\n\\item 62\n\\item 64\n\\item 69\n\\item 70\n\\item 71\n\\item 72\n\\item 73\n\\item 75\n\\item 76\n\\item 77\n\\item 78\n\\item 80\n\\item 83\n\\item 84\n\\item 86\n\\item 89\n\\item 91\n\\item 92\n\\item 93\n\\item 94\n\\item 96\n\\end{enumerate*}\n\n\\item[\\$Resample2] \\begin{enumerate*}\n\\item 1\n\\item 2\n\\item 3\n\\item 7\n\\item 8\n\\item 12\n\\item 14\n\\item 15\n\\item 17\n\\item 18\n\\item 24\n\\item 25\n\\item 29\n\\item 32\n\\item 33\n\\item 34\n\\item 36\n\\item 37\n\\item 45\n\\item 47\n\\item 49\n\\item 51\n\\item 52\n\\item 53\n\\item 54\n\\item 56\n\\item 57\n\\item 60\n\\item 62\n\\item 64\n\\item 68\n\\item 69\n\\item 70\n\\item 71\n\\item 72\n\\item 73\n\\item 76\n\\item 78\n\\item 79\n\\item 81\n\\item 82\n\\item 84\n\\item 85\n\\item 88\n\\item 89\n\\item 90\n\\item 92\n\\item 93\n\\item 94\n\\item 96\n\\end{enumerate*}\n\n\\end{description}\n",
            "text/plain": [
              "$Resample1\n",
              " [1]  1  3  4  5  7  9 10 13 16 17 18 19 24 25 31 33 34 39 43 44 46 47 48 52 54\n",
              "[26] 55 57 60 61 62 64 69 70 71 72 73 75 76 77 78 80 83 84 86 89 91 92 93 94 96\n",
              "\n",
              "$Resample2\n",
              " [1]  1  2  3  7  8 12 14 15 17 18 24 25 29 32 33 34 36 37 45 47 49 51 52 53 54\n",
              "[26] 56 57 60 62 64 68 69 70 71 72 73 76 78 79 81 82 84 85 88 89 90 92 93 94 96\n"
            ]
          },
          "metadata": {}
        }
      ]
    },
    {
      "cell_type": "code",
      "source": [
        "x  <- rgamma(50, 3, .5)\n",
        "inA <- createDataPartition(x, list = FALSE)"
      ],
      "metadata": {
        "id": "W5-eIQhFPWfv"
      },
      "execution_count": 22,
      "outputs": []
    },
    {
      "cell_type": "code",
      "source": [
        "x[inA]\n",
        "\n",
        "\n",
        "#rug(x[inA])\n",
        "#points(density(x[-inA]), type = \"l\", col = 4)\n",
        "#rug(x[-inA], col = 4)"
      ],
      "metadata": {
        "colab": {
          "base_uri": "https://localhost:8080/",
          "height": 86
        },
        "id": "B94EpnZtPayT",
        "outputId": "2ba580f1-c385-4e33-d0dd-f99890813222"
      },
      "execution_count": 28,
      "outputs": [
        {
          "output_type": "display_data",
          "data": {
            "text/html": [
              "<style>\n",
              ".list-inline {list-style: none; margin:0; padding: 0}\n",
              ".list-inline>li {display: inline-block}\n",
              ".list-inline>li:not(:last-child)::after {content: \"\\00b7\"; padding: 0 .5ex}\n",
              "</style>\n",
              "<ol class=list-inline><li>1.36120237695683</li><li>4.11345486530522</li><li>4.88242684612404</li><li>1.59799856162013</li><li>8.58222686150375</li><li>6.94056332717326</li><li>6.47316306410078</li><li>7.53232733634934</li><li>7.42354735412806</li><li>2.89219877361576</li><li>3.1349819085213</li><li>1.73224408046797</li><li>3.50100348897204</li><li>3.15040374948504</li><li>11.0501929049293</li><li>3.99218390839534</li><li>8.69779511850179</li><li>7.78689674885858</li><li>10.2394432468203</li><li>1.6223350718782</li><li>6.91695431525313</li><li>8.61523512692749</li><li>8.74208972862047</li><li>7.77597090124805</li><li>2.81739715126343</li><li>1.01632328039204</li></ol>\n"
            ],
            "text/markdown": "1. 1.36120237695683\n2. 4.11345486530522\n3. 4.88242684612404\n4. 1.59799856162013\n5. 8.58222686150375\n6. 6.94056332717326\n7. 6.47316306410078\n8. 7.53232733634934\n9. 7.42354735412806\n10. 2.89219877361576\n11. 3.1349819085213\n12. 1.73224408046797\n13. 3.50100348897204\n14. 3.15040374948504\n15. 11.0501929049293\n16. 3.99218390839534\n17. 8.69779511850179\n18. 7.78689674885858\n19. 10.2394432468203\n20. 1.6223350718782\n21. 6.91695431525313\n22. 8.61523512692749\n23. 8.74208972862047\n24. 7.77597090124805\n25. 2.81739715126343\n26. 1.01632328039204\n\n\n",
            "text/latex": "\\begin{enumerate*}\n\\item 1.36120237695683\n\\item 4.11345486530522\n\\item 4.88242684612404\n\\item 1.59799856162013\n\\item 8.58222686150375\n\\item 6.94056332717326\n\\item 6.47316306410078\n\\item 7.53232733634934\n\\item 7.42354735412806\n\\item 2.89219877361576\n\\item 3.1349819085213\n\\item 1.73224408046797\n\\item 3.50100348897204\n\\item 3.15040374948504\n\\item 11.0501929049293\n\\item 3.99218390839534\n\\item 8.69779511850179\n\\item 7.78689674885858\n\\item 10.2394432468203\n\\item 1.6223350718782\n\\item 6.91695431525313\n\\item 8.61523512692749\n\\item 8.74208972862047\n\\item 7.77597090124805\n\\item 2.81739715126343\n\\item 1.01632328039204\n\\end{enumerate*}\n",
            "text/plain": [
              " [1]  1.361202  4.113455  4.882427  1.597999  8.582227  6.940563  6.473163\n",
              " [8]  7.532327  7.423547  2.892199  3.134982  1.732244  3.501003  3.150404\n",
              "[15] 11.050193  3.992184  8.697795  7.786897 10.239443  1.622335  6.916954\n",
              "[22]  8.615235  8.742090  7.775971  2.817397  1.016323"
            ]
          },
          "metadata": {}
        }
      ]
    },
    {
      "cell_type": "markdown",
      "source": [
        "# 2. Predictors에 기반한 분할:: maxDissim\n",
        "using a maximum dissimilarity"
      ],
      "metadata": {
        "id": "IXILW2nbSAg9"
      }
    },
    {
      "cell_type": "code",
      "source": [
        ""
      ],
      "metadata": {
        "id": "THZCbePrSADL"
      },
      "execution_count": null,
      "outputs": []
    }
  ]
}
