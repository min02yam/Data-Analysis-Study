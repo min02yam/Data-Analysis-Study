{
  "cells": [
    {
      "cell_type": "markdown",
      "metadata": {
        "id": "view-in-github",
        "colab_type": "text"
      },
      "source": [
        "<a href=\"https://colab.research.google.com/github/min02yam/R/blob/main/practice/dplyr.ipynb\" target=\"_parent\"><img src=\"https://colab.research.google.com/assets/colab-badge.svg\" alt=\"Open In Colab\"/></a>"
      ]
    },
    {
      "cell_type": "markdown",
      "source": [
        "@장연훈 선생님"
      ],
      "metadata": {
        "id": "buqWol5k9PzT"
      }
    },
    {
      "cell_type": "code",
      "execution_count": null,
      "metadata": {
        "id": "Eywc5VHsltRD"
      },
      "outputs": [],
      "source": [
        "library(magrittr)"
      ]
    },
    {
      "cell_type": "code",
      "execution_count": null,
      "metadata": {
        "scrolled": true,
        "id": "nBAtjzBUltRI",
        "outputId": "94f4ca7d-6c20-448f-d7bd-3f763374c37c",
        "colab": {
          "base_uri": "https://localhost:8080/"
        }
      },
      "outputs": [
        {
          "output_type": "stream",
          "name": "stderr",
          "text": [
            "\n",
            "Attaching package: ‘dplyr’\n",
            "\n",
            "\n",
            "The following objects are masked from ‘package:stats’:\n",
            "\n",
            "    filter, lag\n",
            "\n",
            "\n",
            "The following objects are masked from ‘package:base’:\n",
            "\n",
            "    intersect, setdiff, setequal, union\n",
            "\n",
            "\n"
          ]
        }
      ],
      "source": [
        "library(dplyr)"
      ]
    },
    {
      "cell_type": "markdown",
      "metadata": {
        "id": "JJX_jfiMltRL"
      },
      "source": [
        "#### 1. order() ➡️ `arrange()`\n",
        "#### 2. %<>% 파이프 연산자\n",
        "#### 3. min-max norm 장점 및 단점 정리\n",
        "#### 4. lapply() ➡️ `mutate_at()`\n",
        "#### 5. ifelse() ➡️ `case_when()`\n",
        "#### 6. `rowSums( across(target) )`"
      ]
    },
    {
      "cell_type": "code",
      "execution_count": null,
      "metadata": {
        "id": "39XFoHj0ltRO"
      },
      "outputs": [],
      "source": [
        "df<-airquality"
      ]
    },
    {
      "cell_type": "code",
      "execution_count": null,
      "metadata": {
        "scrolled": true,
        "id": "fg-AMS5EltRQ",
        "outputId": "8332c03e-90db-40ae-ed87-d704f9c8b0e4",
        "colab": {
          "base_uri": "https://localhost:8080/",
          "height": 412
        }
      },
      "outputs": [
        {
          "output_type": "display_data",
          "data": {
            "text/html": [
              "<table class=\"dataframe\">\n",
              "<caption>A data.frame: 10 × 6</caption>\n",
              "<thead>\n",
              "\t<tr><th></th><th scope=col>Ozone</th><th scope=col>Solar.R</th><th scope=col>Wind</th><th scope=col>Temp</th><th scope=col>Month</th><th scope=col>Day</th></tr>\n",
              "\t<tr><th></th><th scope=col>&lt;int&gt;</th><th scope=col>&lt;int&gt;</th><th scope=col>&lt;dbl&gt;</th><th scope=col>&lt;int&gt;</th><th scope=col>&lt;int&gt;</th><th scope=col>&lt;int&gt;</th></tr>\n",
              "</thead>\n",
              "<tbody>\n",
              "\t<tr><th scope=row>1</th><td>168</td><td>238</td><td>3.4</td><td>81</td><td>8</td><td>25</td></tr>\n",
              "\t<tr><th scope=row>2</th><td>135</td><td>269</td><td>4.1</td><td>84</td><td>7</td><td> 1</td></tr>\n",
              "\t<tr><th scope=row>3</th><td>122</td><td>255</td><td>4.0</td><td>89</td><td>8</td><td> 7</td></tr>\n",
              "\t<tr><th scope=row>4</th><td>118</td><td>225</td><td>2.3</td><td>94</td><td>8</td><td>29</td></tr>\n",
              "\t<tr><th scope=row>5</th><td>115</td><td>223</td><td>5.7</td><td>79</td><td>5</td><td>30</td></tr>\n",
              "\t<tr><th scope=row>6</th><td>110</td><td>207</td><td>8.0</td><td>90</td><td>8</td><td> 9</td></tr>\n",
              "\t<tr><th scope=row>7</th><td>108</td><td>223</td><td>8.0</td><td>85</td><td>7</td><td>25</td></tr>\n",
              "\t<tr><th scope=row>8</th><td> 97</td><td>267</td><td>6.3</td><td>92</td><td>7</td><td> 8</td></tr>\n",
              "\t<tr><th scope=row>9</th><td> 97</td><td>272</td><td>5.7</td><td>92</td><td>7</td><td> 9</td></tr>\n",
              "\t<tr><th scope=row>10</th><td> 96</td><td>167</td><td>6.9</td><td>91</td><td>9</td><td> 1</td></tr>\n",
              "</tbody>\n",
              "</table>\n"
            ],
            "text/markdown": "\nA data.frame: 10 × 6\n\n| <!--/--> | Ozone &lt;int&gt; | Solar.R &lt;int&gt; | Wind &lt;dbl&gt; | Temp &lt;int&gt; | Month &lt;int&gt; | Day &lt;int&gt; |\n|---|---|---|---|---|---|---|\n| 1 | 168 | 238 | 3.4 | 81 | 8 | 25 |\n| 2 | 135 | 269 | 4.1 | 84 | 7 |  1 |\n| 3 | 122 | 255 | 4.0 | 89 | 8 |  7 |\n| 4 | 118 | 225 | 2.3 | 94 | 8 | 29 |\n| 5 | 115 | 223 | 5.7 | 79 | 5 | 30 |\n| 6 | 110 | 207 | 8.0 | 90 | 8 |  9 |\n| 7 | 108 | 223 | 8.0 | 85 | 7 | 25 |\n| 8 |  97 | 267 | 6.3 | 92 | 7 |  8 |\n| 9 |  97 | 272 | 5.7 | 92 | 7 |  9 |\n| 10 |  96 | 167 | 6.9 | 91 | 9 |  1 |\n\n",
            "text/latex": "A data.frame: 10 × 6\n\\begin{tabular}{r|llllll}\n  & Ozone & Solar.R & Wind & Temp & Month & Day\\\\\n  & <int> & <int> & <dbl> & <int> & <int> & <int>\\\\\n\\hline\n\t1 & 168 & 238 & 3.4 & 81 & 8 & 25\\\\\n\t2 & 135 & 269 & 4.1 & 84 & 7 &  1\\\\\n\t3 & 122 & 255 & 4.0 & 89 & 8 &  7\\\\\n\t4 & 118 & 225 & 2.3 & 94 & 8 & 29\\\\\n\t5 & 115 & 223 & 5.7 & 79 & 5 & 30\\\\\n\t6 & 110 & 207 & 8.0 & 90 & 8 &  9\\\\\n\t7 & 108 & 223 & 8.0 & 85 & 7 & 25\\\\\n\t8 &  97 & 267 & 6.3 & 92 & 7 &  8\\\\\n\t9 &  97 & 272 & 5.7 & 92 & 7 &  9\\\\\n\t10 &  96 & 167 & 6.9 & 91 & 9 &  1\\\\\n\\end{tabular}\n",
            "text/plain": [
              "   Ozone Solar.R Wind Temp Month Day\n",
              "1  168   238     3.4  81   8     25 \n",
              "2  135   269     4.1  84   7      1 \n",
              "3  122   255     4.0  89   8      7 \n",
              "4  118   225     2.3  94   8     29 \n",
              "5  115   223     5.7  79   5     30 \n",
              "6  110   207     8.0  90   8      9 \n",
              "7  108   223     8.0  85   7     25 \n",
              "8   97   267     6.3  92   7      8 \n",
              "9   97   272     5.7  92   7      9 \n",
              "10  96   167     6.9  91   9      1 "
            ]
          },
          "metadata": {}
        }
      ],
      "source": [
        "df %>% arrange(desc(Ozone)) %>% head(10)"
      ]
    },
    {
      "cell_type": "code",
      "execution_count": null,
      "metadata": {
        "id": "oJux2_17ltRR"
      },
      "outputs": [],
      "source": [
        "df %<>% mutate(Ozone= ifelse(is.na(Ozone), 96, Ozone))"
      ]
    },
    {
      "cell_type": "code",
      "execution_count": null,
      "metadata": {
        "id": "BZ5756MMltRS"
      },
      "outputs": [],
      "source": [
        "before <- mean (airquality$Ozone , na.rm=TRUE)\n",
        "after <- mean(df$Ozone)"
      ]
    },
    {
      "cell_type": "code",
      "execution_count": null,
      "metadata": {
        "id": "3TCp4xfTltRT",
        "outputId": "6dcab8b9-9c17-483b-ed58-749fbdd5e2a7",
        "colab": {
          "base_uri": "https://localhost:8080/",
          "height": 34
        }
      },
      "outputs": [
        {
          "output_type": "display_data",
          "data": {
            "text/html": [
              "13.0275524002705"
            ],
            "text/markdown": "13.0275524002705",
            "text/latex": "13.0275524002705",
            "text/plain": [
              "[1] 13.02755"
            ]
          },
          "metadata": {}
        }
      ],
      "source": [
        "ans<- abs(before-after); ans"
      ]
    },
    {
      "cell_type": "code",
      "execution_count": null,
      "metadata": {
        "id": "yYlCBdU0ltRU"
      },
      "outputs": [],
      "source": [
        "df %<>% mutate( Solar.R = ifelse (is.na(df[,2]), mean(df[,2], na.rm=TRUE), df[,2] ) )  "
      ]
    },
    {
      "cell_type": "code",
      "execution_count": null,
      "metadata": {
        "scrolled": true,
        "id": "l4QvCw9zltRW",
        "outputId": "a0bb8094-902b-44a0-a1f4-855a103b0a47",
        "colab": {
          "base_uri": "https://localhost:8080/",
          "height": 272
        }
      },
      "outputs": [
        {
          "output_type": "display_data",
          "data": {
            "text/plain": [
              "     Ozone           Solar.R           Wind             Temp      \n",
              " Min.   :  1.00   Min.   :  7.0   Min.   : 1.700   Min.   :56.00  \n",
              " 1st Qu.: 21.00   1st Qu.:120.0   1st Qu.: 7.400   1st Qu.:72.00  \n",
              " Median : 45.00   Median :194.0   Median : 9.700   Median :79.00  \n",
              " Mean   : 55.16   Mean   :185.9   Mean   : 9.958   Mean   :77.88  \n",
              " 3rd Qu.: 96.00   3rd Qu.:256.0   3rd Qu.:11.500   3rd Qu.:85.00  \n",
              " Max.   :168.00   Max.   :334.0   Max.   :20.700   Max.   :97.00  \n",
              "     Month            Day      \n",
              " Min.   :5.000   Min.   : 1.0  \n",
              " 1st Qu.:6.000   1st Qu.: 8.0  \n",
              " Median :7.000   Median :16.0  \n",
              " Mean   :6.993   Mean   :15.8  \n",
              " 3rd Qu.:8.000   3rd Qu.:23.0  \n",
              " Max.   :9.000   Max.   :31.0  "
            ]
          },
          "metadata": {}
        }
      ],
      "source": [
        "summary(df)"
      ]
    },
    {
      "cell_type": "code",
      "execution_count": null,
      "metadata": {
        "id": "sJF9qCMzltRX"
      },
      "outputs": [],
      "source": [
        "#민맥스스케일링 함수 만들고 2개 변수에 적용하기 \n",
        "min_max_norm <- function(x){\n",
        "    (x-min(x)) / (max(x)- min(x))\n",
        "}\n",
        "\n",
        "df_n<-as.data.frame(lapply(df[1:2], min_max_norm))"
      ]
    },
    {
      "cell_type": "code",
      "execution_count": null,
      "metadata": {
        "scrolled": true,
        "id": "I2SvGB5wltRX",
        "outputId": "b1cd6acb-1190-4e79-f5a0-268293ccf9fd",
        "colab": {
          "base_uri": "https://localhost:8080/",
          "height": 286
        }
      },
      "outputs": [
        {
          "output_type": "display_data",
          "data": {
            "text/html": [
              "<table class=\"dataframe\">\n",
              "<caption>A data.frame: 6 × 2</caption>\n",
              "<thead>\n",
              "\t<tr><th></th><th scope=col>Ozone</th><th scope=col>Solar.R</th></tr>\n",
              "\t<tr><th></th><th scope=col>&lt;dbl&gt;</th><th scope=col>&lt;dbl&gt;</th></tr>\n",
              "</thead>\n",
              "<tbody>\n",
              "\t<tr><th scope=row>1</th><td>0.23952096</td><td>0.5596330</td></tr>\n",
              "\t<tr><th scope=row>2</th><td>0.20958084</td><td>0.3394495</td></tr>\n",
              "\t<tr><th scope=row>3</th><td>0.06586826</td><td>0.4342508</td></tr>\n",
              "\t<tr><th scope=row>4</th><td>0.10179641</td><td>0.9357798</td></tr>\n",
              "\t<tr><th scope=row>5</th><td>0.56886228</td><td>0.5471912</td></tr>\n",
              "\t<tr><th scope=row>6</th><td>0.16167665</td><td>0.5471912</td></tr>\n",
              "</tbody>\n",
              "</table>\n"
            ],
            "text/markdown": "\nA data.frame: 6 × 2\n\n| <!--/--> | Ozone &lt;dbl&gt; | Solar.R &lt;dbl&gt; |\n|---|---|---|\n| 1 | 0.23952096 | 0.5596330 |\n| 2 | 0.20958084 | 0.3394495 |\n| 3 | 0.06586826 | 0.4342508 |\n| 4 | 0.10179641 | 0.9357798 |\n| 5 | 0.56886228 | 0.5471912 |\n| 6 | 0.16167665 | 0.5471912 |\n\n",
            "text/latex": "A data.frame: 6 × 2\n\\begin{tabular}{r|ll}\n  & Ozone & Solar.R\\\\\n  & <dbl> & <dbl>\\\\\n\\hline\n\t1 & 0.23952096 & 0.5596330\\\\\n\t2 & 0.20958084 & 0.3394495\\\\\n\t3 & 0.06586826 & 0.4342508\\\\\n\t4 & 0.10179641 & 0.9357798\\\\\n\t5 & 0.56886228 & 0.5471912\\\\\n\t6 & 0.16167665 & 0.5471912\\\\\n\\end{tabular}\n",
            "text/plain": [
              "  Ozone      Solar.R  \n",
              "1 0.23952096 0.5596330\n",
              "2 0.20958084 0.3394495\n",
              "3 0.06586826 0.4342508\n",
              "4 0.10179641 0.9357798\n",
              "5 0.56886228 0.5471912\n",
              "6 0.16167665 0.5471912"
            ]
          },
          "metadata": {}
        }
      ],
      "source": [
        "head(df_n)"
      ]
    },
    {
      "cell_type": "code",
      "execution_count": null,
      "metadata": {
        "id": "MuAMEPKTltRY"
      },
      "outputs": [],
      "source": [
        "df %<>% mutate_at (       vars(Ozone, Solar.R ) , \n",
        "                   .funs=   min_max_norm    ) %>% head(5)"
      ]
    },
    {
      "cell_type": "code",
      "execution_count": null,
      "metadata": {
        "id": "XmpU4FFqltRY"
      },
      "outputs": [],
      "source": [
        "##case_when"
      ]
    },
    {
      "cell_type": "code",
      "execution_count": null,
      "metadata": {
        "id": "Ta60YwT5ltRZ",
        "outputId": "8ddd6471-cc2e-4d42-f3fc-d42c250759f3",
        "colab": {
          "base_uri": "https://localhost:8080/",
          "height": 136
        }
      },
      "outputs": [
        {
          "output_type": "error",
          "ename": "ERROR",
          "evalue": "ignored",
          "traceback": [
            "Error in setwd(\"C:/Users/alsdu/OneDrive/문서/카카오톡 받은 파일/20220424_데이터분석 스터디/20220424_데이터분석 스터디\"): cannot change working directory\nTraceback:\n",
            "1. setwd(\"C:/Users/alsdu/OneDrive/문서/카카오톡 받은 파일/20220424_데이터분석 스터디/20220424_데이터분석 스터디\")"
          ]
        }
      ],
      "source": [
        "#setwd(\"C:/Users/alsdu/OneDrive/문서/카카오톡 받은 파일/20220424_데이터분석 스터디/20220424_데이터분석 스터디\")"
      ]
    },
    {
      "cell_type": "code",
      "execution_count": null,
      "metadata": {
        "id": "Lp0n6tuvltRZ"
      },
      "outputs": [],
      "source": [
        "ht<-read.csv(\"/content/health.csv\")"
      ]
    },
    {
      "cell_type": "code",
      "execution_count": null,
      "metadata": {
        "id": "Ui2jhonZltRa",
        "outputId": "15e234af-022d-4b48-8608-8dfb614214ca"
      },
      "outputs": [
        {
          "name": "stdout",
          "output_type": "stream",
          "text": [
            "'data.frame':\t319795 obs. of  18 variables:\n",
            " $ HeartDisease    : Factor w/ 2 levels \"No\",\"Yes\": 1 1 1 1 1 2 1 1 1 1 ...\n",
            " $ BMI             : num  16.6 20.3 26.6 24.2 23.7 ...\n",
            " $ Smoking         : Factor w/ 2 levels \"No\",\"Yes\": 2 1 2 1 1 2 1 2 1 1 ...\n",
            " $ AlcoholDrinking : Factor w/ 2 levels \"No\",\"Yes\": 1 1 1 1 1 1 1 1 1 1 ...\n",
            " $ Stroke          : Factor w/ 2 levels \"No\",\"Yes\": 1 2 1 1 1 1 1 1 1 1 ...\n",
            " $ PhysicalHealth  : num  3 0 20 0 28 6 15 5 0 0 ...\n",
            " $ MentalHealth    : num  30 0 30 0 0 0 0 0 0 0 ...\n",
            " $ DiffWalking     : Factor w/ 2 levels \"No\",\"Yes\": 1 1 1 1 2 2 1 2 1 2 ...\n",
            " $ Sex             : Factor w/ 2 levels \"Female\",\"Male\": 1 1 2 1 1 1 1 1 1 2 ...\n",
            " $ AgeCategory     : Factor w/ 13 levels \"18-24\",\"25-29\",..: 8 13 10 12 5 12 11 13 13 10 ...\n",
            " $ Race            : Factor w/ 6 levels \"American Indian/Alaskan Native\",..: 6 6 6 6 6 3 6 6 6 6 ...\n",
            " $ Diabetic        : Factor w/ 4 levels \"No\",\"No, borderline diabetes\",..: 3 1 3 1 1 1 1 3 2 1 ...\n",
            " $ PhysicalActivity: Factor w/ 2 levels \"No\",\"Yes\": 2 2 2 1 2 1 2 1 1 2 ...\n",
            " $ GenHealth       : Factor w/ 5 levels \"Excellent\",\"Fair\",..: 5 5 2 3 5 2 2 3 2 3 ...\n",
            " $ SleepTime       : num  5 7 8 6 8 12 4 9 5 10 ...\n",
            " $ Asthma          : Factor w/ 2 levels \"No\",\"Yes\": 2 1 2 1 1 1 2 2 1 1 ...\n",
            " $ KidneyDisease   : Factor w/ 2 levels \"No\",\"Yes\": 1 1 1 1 1 1 1 1 2 1 ...\n",
            " $ SkinCancer      : Factor w/ 2 levels \"No\",\"Yes\": 2 1 1 2 1 1 2 1 1 1 ...\n"
          ]
        }
      ],
      "source": [
        "str(ht)"
      ]
    },
    {
      "cell_type": "code",
      "execution_count": null,
      "metadata": {
        "id": "gCnQic2ZltRa"
      },
      "outputs": [],
      "source": [
        "target <- c('HeartDisease', 'Diabetic', 'Stroke', 'KidneyDisease','SkinCancer', 'Asthma')"
      ]
    },
    {
      "cell_type": "code",
      "execution_count": null,
      "metadata": {
        "id": "NciZpV2vltRa",
        "outputId": "8eb4d8b6-b2ab-4418-b7ea-47363e3fe9aa",
        "colab": {
          "base_uri": "https://localhost:8080/",
          "height": 34
        }
      },
      "outputs": [
        {
          "output_type": "display_data",
          "data": {
            "text/html": [
              "<style>\n",
              ".list-inline {list-style: none; margin:0; padding: 0}\n",
              ".list-inline>li {display: inline-block}\n",
              ".list-inline>li:not(:last-child)::after {content: \"\\00b7\"; padding: 0 .5ex}\n",
              "</style>\n",
              "<ol class=list-inline><li>'HeartDisease'</li><li>'Diabetic'</li><li>'Stroke'</li><li>'KidneyDisease'</li><li>'SkinCancer'</li><li>'Asthma'</li></ol>\n"
            ],
            "text/markdown": "1. 'HeartDisease'\n2. 'Diabetic'\n3. 'Stroke'\n4. 'KidneyDisease'\n5. 'SkinCancer'\n6. 'Asthma'\n\n\n",
            "text/latex": "\\begin{enumerate*}\n\\item 'HeartDisease'\n\\item 'Diabetic'\n\\item 'Stroke'\n\\item 'KidneyDisease'\n\\item 'SkinCancer'\n\\item 'Asthma'\n\\end{enumerate*}\n",
            "text/plain": [
              "[1] \"HeartDisease\"  \"Diabetic\"      \"Stroke\"        \"KidneyDisease\"\n",
              "[5] \"SkinCancer\"    \"Asthma\"       "
            ]
          },
          "metadata": {}
        }
      ],
      "source": [
        "target"
      ]
    },
    {
      "cell_type": "code",
      "execution_count": null,
      "metadata": {
        "id": "wtfADu9gltRb",
        "outputId": "623e2982-b8ff-47ed-b7bd-36fbfd5037d3",
        "colab": {
          "base_uri": "https://localhost:8080/",
          "height": 565
        }
      },
      "outputs": [
        {
          "output_type": "stream",
          "name": "stderr",
          "text": [
            "Note: Using an external vector in selections is ambiguous.\n",
            "\u001b[34mℹ\u001b[39m Use `all_of(target)` instead of `target` to silence this message.\n",
            "\u001b[34mℹ\u001b[39m See <https://tidyselect.r-lib.org/reference/faq-external-vector.html>.\n",
            "\u001b[90mThis message is displayed once per session.\u001b[39m\n"
          ]
        },
        {
          "output_type": "display_data",
          "data": {
            "text/html": [
              "<table class=\"dataframe\">\n",
              "<caption>A data.frame: 5 × 6</caption>\n",
              "<thead>\n",
              "\t<tr><th></th><th scope=col>HeartDisease</th><th scope=col>Diabetic</th><th scope=col>Stroke</th><th scope=col>KidneyDisease</th><th scope=col>SkinCancer</th><th scope=col>Asthma</th></tr>\n",
              "\t<tr><th></th><th scope=col>&lt;chr&gt;</th><th scope=col>&lt;chr&gt;</th><th scope=col>&lt;chr&gt;</th><th scope=col>&lt;chr&gt;</th><th scope=col>&lt;chr&gt;</th><th scope=col>&lt;chr&gt;</th></tr>\n",
              "</thead>\n",
              "<tbody>\n",
              "\t<tr><th scope=row>1</th><td>No</td><td>Yes</td><td>No </td><td>No</td><td>Yes</td><td>Yes</td></tr>\n",
              "\t<tr><th scope=row>2</th><td>No</td><td>No </td><td>Yes</td><td>No</td><td>No </td><td>No </td></tr>\n",
              "\t<tr><th scope=row>3</th><td>No</td><td>Yes</td><td>No </td><td>No</td><td>No </td><td>Yes</td></tr>\n",
              "\t<tr><th scope=row>4</th><td>No</td><td>No </td><td>No </td><td>No</td><td>Yes</td><td>No </td></tr>\n",
              "\t<tr><th scope=row>5</th><td>No</td><td>No </td><td>No </td><td>No</td><td>No </td><td>No </td></tr>\n",
              "</tbody>\n",
              "</table>\n"
            ],
            "text/markdown": "\nA data.frame: 5 × 6\n\n| <!--/--> | HeartDisease &lt;chr&gt; | Diabetic &lt;chr&gt; | Stroke &lt;chr&gt; | KidneyDisease &lt;chr&gt; | SkinCancer &lt;chr&gt; | Asthma &lt;chr&gt; |\n|---|---|---|---|---|---|---|\n| 1 | No | Yes | No  | No | Yes | Yes |\n| 2 | No | No  | Yes | No | No  | No  |\n| 3 | No | Yes | No  | No | No  | Yes |\n| 4 | No | No  | No  | No | Yes | No  |\n| 5 | No | No  | No  | No | No  | No  |\n\n",
            "text/latex": "A data.frame: 5 × 6\n\\begin{tabular}{r|llllll}\n  & HeartDisease & Diabetic & Stroke & KidneyDisease & SkinCancer & Asthma\\\\\n  & <chr> & <chr> & <chr> & <chr> & <chr> & <chr>\\\\\n\\hline\n\t1 & No & Yes & No  & No & Yes & Yes\\\\\n\t2 & No & No  & Yes & No & No  & No \\\\\n\t3 & No & Yes & No  & No & No  & Yes\\\\\n\t4 & No & No  & No  & No & Yes & No \\\\\n\t5 & No & No  & No  & No & No  & No \\\\\n\\end{tabular}\n",
            "text/plain": [
              "  HeartDisease Diabetic Stroke KidneyDisease SkinCancer Asthma\n",
              "1 No           Yes      No     No            Yes        Yes   \n",
              "2 No           No       Yes    No            No         No    \n",
              "3 No           Yes      No     No            No         Yes   \n",
              "4 No           No       No     No            Yes        No    \n",
              "5 No           No       No     No            No         No    "
            ]
          },
          "metadata": {}
        },
        {
          "output_type": "display_data",
          "data": {
            "text/html": [
              "<table class=\"dataframe\">\n",
              "<caption>A data.frame: 5 × 6</caption>\n",
              "<thead>\n",
              "\t<tr><th></th><th scope=col>HeartDisease</th><th scope=col>Diabetic</th><th scope=col>Stroke</th><th scope=col>KidneyDisease</th><th scope=col>SkinCancer</th><th scope=col>Asthma</th></tr>\n",
              "\t<tr><th></th><th scope=col>&lt;dbl&gt;</th><th scope=col>&lt;dbl&gt;</th><th scope=col>&lt;dbl&gt;</th><th scope=col>&lt;dbl&gt;</th><th scope=col>&lt;dbl&gt;</th><th scope=col>&lt;dbl&gt;</th></tr>\n",
              "</thead>\n",
              "<tbody>\n",
              "\t<tr><th scope=row>1</th><td>0</td><td>1</td><td>0</td><td>0</td><td>1</td><td>1</td></tr>\n",
              "\t<tr><th scope=row>2</th><td>0</td><td>0</td><td>1</td><td>0</td><td>0</td><td>0</td></tr>\n",
              "\t<tr><th scope=row>3</th><td>0</td><td>1</td><td>0</td><td>0</td><td>0</td><td>1</td></tr>\n",
              "\t<tr><th scope=row>4</th><td>0</td><td>0</td><td>0</td><td>0</td><td>1</td><td>0</td></tr>\n",
              "\t<tr><th scope=row>5</th><td>0</td><td>0</td><td>0</td><td>0</td><td>0</td><td>0</td></tr>\n",
              "</tbody>\n",
              "</table>\n"
            ],
            "text/markdown": "\nA data.frame: 5 × 6\n\n| <!--/--> | HeartDisease &lt;dbl&gt; | Diabetic &lt;dbl&gt; | Stroke &lt;dbl&gt; | KidneyDisease &lt;dbl&gt; | SkinCancer &lt;dbl&gt; | Asthma &lt;dbl&gt; |\n|---|---|---|---|---|---|---|\n| 1 | 0 | 1 | 0 | 0 | 1 | 1 |\n| 2 | 0 | 0 | 1 | 0 | 0 | 0 |\n| 3 | 0 | 1 | 0 | 0 | 0 | 1 |\n| 4 | 0 | 0 | 0 | 0 | 1 | 0 |\n| 5 | 0 | 0 | 0 | 0 | 0 | 0 |\n\n",
            "text/latex": "A data.frame: 5 × 6\n\\begin{tabular}{r|llllll}\n  & HeartDisease & Diabetic & Stroke & KidneyDisease & SkinCancer & Asthma\\\\\n  & <dbl> & <dbl> & <dbl> & <dbl> & <dbl> & <dbl>\\\\\n\\hline\n\t1 & 0 & 1 & 0 & 0 & 1 & 1\\\\\n\t2 & 0 & 0 & 1 & 0 & 0 & 0\\\\\n\t3 & 0 & 1 & 0 & 0 & 0 & 1\\\\\n\t4 & 0 & 0 & 0 & 0 & 1 & 0\\\\\n\t5 & 0 & 0 & 0 & 0 & 0 & 0\\\\\n\\end{tabular}\n",
            "text/plain": [
              "  HeartDisease Diabetic Stroke KidneyDisease SkinCancer Asthma\n",
              "1 0            1        0      0             1          1     \n",
              "2 0            0        1      0             0          0     \n",
              "3 0            1        0      0             0          1     \n",
              "4 0            0        0      0             1          0     \n",
              "5 0            0        0      0             0          0     "
            ]
          },
          "metadata": {}
        }
      ],
      "source": [
        "ht %>% select(target) %>% head(5)\n",
        "ht %<>%  mutate(across(.cols = target, function(x)ifelse(x=='No',0,1)))\n",
        "ht %>% select(target) %>% head(5)"
      ]
    },
    {
      "cell_type": "code",
      "execution_count": null,
      "metadata": {
        "id": "dQvtW8erltRc",
        "outputId": "47e44319-b7df-4b3b-e4d9-23cbd4693098",
        "colab": {
          "base_uri": "https://localhost:8080/",
          "height": 72
        }
      },
      "outputs": [
        {
          "output_type": "display_data",
          "data": {
            "text/plain": [
              "\n",
              "          Excellent      Fair      Good      Poor Very good \n",
              "        1     35835     18593     50425      6216     62113 "
            ]
          },
          "metadata": {}
        }
      ],
      "source": [
        "table(ht$GenHealth)\n",
        "ht %<>% mutate(GenHealth = case_when(GenHealth=='Poor' ~ 5,\n",
        "                                    GenHealth=='Fair' ~ 4,\n",
        "                                    GenHealth=='Good' ~ 3,\n",
        "                                    GenHealth=='Very good' ~ 2,\n",
        "                                    GenHealth=='Excellent' ~ 1))\n"
      ]
    },
    {
      "cell_type": "code",
      "execution_count": null,
      "metadata": {
        "id": "CVUw5p7DltRd",
        "outputId": "bb9eee27-8b19-47bc-b2ff-ad3b59c80f16",
        "colab": {
          "base_uri": "https://localhost:8080/",
          "height": 72
        }
      },
      "outputs": [
        {
          "output_type": "display_data",
          "data": {
            "text/plain": [
              "\n",
              "    1     2     3     4     5 \n",
              "35835 62113 50425 18593  6216 "
            ]
          },
          "metadata": {}
        }
      ],
      "source": [
        "table(ht$GenHealth)  # 확인"
      ]
    },
    {
      "cell_type": "code",
      "execution_count": null,
      "metadata": {
        "id": "GCTKRWGaltRe"
      },
      "outputs": [],
      "source": [
        "ht %<>% mutate(DiseaseCount = rowSums(across(target)))"
      ]
    },
    {
      "cell_type": "code",
      "execution_count": null,
      "metadata": {
        "id": "_bVfRoLZltRf",
        "outputId": "d78cf9c7-671e-42e7-d9a7-893c98946f9f",
        "colab": {
          "base_uri": "https://localhost:8080/",
          "height": 275
        }
      },
      "outputs": [
        {
          "output_type": "display_data",
          "data": {
            "text/html": [
              "<table class=\"dataframe\">\n",
              "<caption>A data.frame: 5 × 19</caption>\n",
              "<thead>\n",
              "\t<tr><th></th><th scope=col>HeartDisease</th><th scope=col>BMI</th><th scope=col>Smoking</th><th scope=col>AlcoholDrinking</th><th scope=col>Stroke</th><th scope=col>PhysicalHealth</th><th scope=col>MentalHealth</th><th scope=col>DiffWalking</th><th scope=col>Sex</th><th scope=col>AgeCategory</th><th scope=col>Race</th><th scope=col>Diabetic</th><th scope=col>PhysicalActivity</th><th scope=col>GenHealth</th><th scope=col>SleepTime</th><th scope=col>Asthma</th><th scope=col>KidneyDisease</th><th scope=col>SkinCancer</th><th scope=col>DiseaseCount</th></tr>\n",
              "\t<tr><th></th><th scope=col>&lt;dbl&gt;</th><th scope=col>&lt;dbl&gt;</th><th scope=col>&lt;chr&gt;</th><th scope=col>&lt;chr&gt;</th><th scope=col>&lt;dbl&gt;</th><th scope=col>&lt;dbl&gt;</th><th scope=col>&lt;dbl&gt;</th><th scope=col>&lt;chr&gt;</th><th scope=col>&lt;chr&gt;</th><th scope=col>&lt;chr&gt;</th><th scope=col>&lt;chr&gt;</th><th scope=col>&lt;dbl&gt;</th><th scope=col>&lt;chr&gt;</th><th scope=col>&lt;dbl&gt;</th><th scope=col>&lt;dbl&gt;</th><th scope=col>&lt;dbl&gt;</th><th scope=col>&lt;dbl&gt;</th><th scope=col>&lt;dbl&gt;</th><th scope=col>&lt;dbl&gt;</th></tr>\n",
              "</thead>\n",
              "<tbody>\n",
              "\t<tr><th scope=row>1</th><td>0</td><td>16.60</td><td>Yes</td><td>No</td><td>0</td><td> 3</td><td>30</td><td>No </td><td>Female</td><td>55-59      </td><td>White</td><td>1</td><td>Yes</td><td>2</td><td>5</td><td>1</td><td>0</td><td>1</td><td>3</td></tr>\n",
              "\t<tr><th scope=row>2</th><td>0</td><td>20.34</td><td>No </td><td>No</td><td>1</td><td> 0</td><td> 0</td><td>No </td><td>Female</td><td>80 or older</td><td>White</td><td>0</td><td>Yes</td><td>2</td><td>7</td><td>0</td><td>0</td><td>0</td><td>1</td></tr>\n",
              "\t<tr><th scope=row>3</th><td>0</td><td>26.58</td><td>Yes</td><td>No</td><td>0</td><td>20</td><td>30</td><td>No </td><td>Male  </td><td>65-69      </td><td>White</td><td>1</td><td>Yes</td><td>4</td><td>8</td><td>1</td><td>0</td><td>0</td><td>2</td></tr>\n",
              "\t<tr><th scope=row>4</th><td>0</td><td>24.21</td><td>No </td><td>No</td><td>0</td><td> 0</td><td> 0</td><td>No </td><td>Female</td><td>75-79      </td><td>White</td><td>0</td><td>No </td><td>3</td><td>6</td><td>0</td><td>0</td><td>1</td><td>1</td></tr>\n",
              "\t<tr><th scope=row>5</th><td>0</td><td>23.71</td><td>No </td><td>No</td><td>0</td><td>28</td><td> 0</td><td>Yes</td><td>Female</td><td>40-44      </td><td>White</td><td>0</td><td>Yes</td><td>2</td><td>8</td><td>0</td><td>0</td><td>0</td><td>0</td></tr>\n",
              "</tbody>\n",
              "</table>\n"
            ],
            "text/markdown": "\nA data.frame: 5 × 19\n\n| <!--/--> | HeartDisease &lt;dbl&gt; | BMI &lt;dbl&gt; | Smoking &lt;chr&gt; | AlcoholDrinking &lt;chr&gt; | Stroke &lt;dbl&gt; | PhysicalHealth &lt;dbl&gt; | MentalHealth &lt;dbl&gt; | DiffWalking &lt;chr&gt; | Sex &lt;chr&gt; | AgeCategory &lt;chr&gt; | Race &lt;chr&gt; | Diabetic &lt;dbl&gt; | PhysicalActivity &lt;chr&gt; | GenHealth &lt;dbl&gt; | SleepTime &lt;dbl&gt; | Asthma &lt;dbl&gt; | KidneyDisease &lt;dbl&gt; | SkinCancer &lt;dbl&gt; | DiseaseCount &lt;dbl&gt; |\n|---|---|---|---|---|---|---|---|---|---|---|---|---|---|---|---|---|---|---|---|\n| 1 | 0 | 16.60 | Yes | No | 0 |  3 | 30 | No  | Female | 55-59       | White | 1 | Yes | 2 | 5 | 1 | 0 | 1 | 3 |\n| 2 | 0 | 20.34 | No  | No | 1 |  0 |  0 | No  | Female | 80 or older | White | 0 | Yes | 2 | 7 | 0 | 0 | 0 | 1 |\n| 3 | 0 | 26.58 | Yes | No | 0 | 20 | 30 | No  | Male   | 65-69       | White | 1 | Yes | 4 | 8 | 1 | 0 | 0 | 2 |\n| 4 | 0 | 24.21 | No  | No | 0 |  0 |  0 | No  | Female | 75-79       | White | 0 | No  | 3 | 6 | 0 | 0 | 1 | 1 |\n| 5 | 0 | 23.71 | No  | No | 0 | 28 |  0 | Yes | Female | 40-44       | White | 0 | Yes | 2 | 8 | 0 | 0 | 0 | 0 |\n\n",
            "text/latex": "A data.frame: 5 × 19\n\\begin{tabular}{r|lllllllllllllllllll}\n  & HeartDisease & BMI & Smoking & AlcoholDrinking & Stroke & PhysicalHealth & MentalHealth & DiffWalking & Sex & AgeCategory & Race & Diabetic & PhysicalActivity & GenHealth & SleepTime & Asthma & KidneyDisease & SkinCancer & DiseaseCount\\\\\n  & <dbl> & <dbl> & <chr> & <chr> & <dbl> & <dbl> & <dbl> & <chr> & <chr> & <chr> & <chr> & <dbl> & <chr> & <dbl> & <dbl> & <dbl> & <dbl> & <dbl> & <dbl>\\\\\n\\hline\n\t1 & 0 & 16.60 & Yes & No & 0 &  3 & 30 & No  & Female & 55-59       & White & 1 & Yes & 2 & 5 & 1 & 0 & 1 & 3\\\\\n\t2 & 0 & 20.34 & No  & No & 1 &  0 &  0 & No  & Female & 80 or older & White & 0 & Yes & 2 & 7 & 0 & 0 & 0 & 1\\\\\n\t3 & 0 & 26.58 & Yes & No & 0 & 20 & 30 & No  & Male   & 65-69       & White & 1 & Yes & 4 & 8 & 1 & 0 & 0 & 2\\\\\n\t4 & 0 & 24.21 & No  & No & 0 &  0 &  0 & No  & Female & 75-79       & White & 0 & No  & 3 & 6 & 0 & 0 & 1 & 1\\\\\n\t5 & 0 & 23.71 & No  & No & 0 & 28 &  0 & Yes & Female & 40-44       & White & 0 & Yes & 2 & 8 & 0 & 0 & 0 & 0\\\\\n\\end{tabular}\n",
            "text/plain": [
              "  HeartDisease BMI   Smoking AlcoholDrinking Stroke PhysicalHealth MentalHealth\n",
              "1 0            16.60 Yes     No              0       3             30          \n",
              "2 0            20.34 No      No              1       0              0          \n",
              "3 0            26.58 Yes     No              0      20             30          \n",
              "4 0            24.21 No      No              0       0              0          \n",
              "5 0            23.71 No      No              0      28              0          \n",
              "  DiffWalking Sex    AgeCategory Race  Diabetic PhysicalActivity GenHealth\n",
              "1 No          Female 55-59       White 1        Yes              2        \n",
              "2 No          Female 80 or older White 0        Yes              2        \n",
              "3 No          Male   65-69       White 1        Yes              4        \n",
              "4 No          Female 75-79       White 0        No               3        \n",
              "5 Yes         Female 40-44       White 0        Yes              2        \n",
              "  SleepTime Asthma KidneyDisease SkinCancer DiseaseCount\n",
              "1 5         1      0             1          3           \n",
              "2 7         0      0             0          1           \n",
              "3 8         1      0             0          2           \n",
              "4 6         0      0             1          1           \n",
              "5 8         0      0             0          0           "
            ]
          },
          "metadata": {}
        }
      ],
      "source": [
        "ht %>% head(5)"
      ]
    },
    {
      "cell_type": "code",
      "execution_count": null,
      "metadata": {
        "id": "B5IO3FR-ltRf",
        "outputId": "d828ce55-0985-4afb-ef18-9bde6a7ea360",
        "colab": {
          "base_uri": "https://localhost:8080/",
          "height": 317
        }
      },
      "outputs": [
        {
          "output_type": "display_data",
          "data": {
            "text/html": [
              "<table class=\"dataframe\">\n",
              "<caption>A tibble: 7 × 2</caption>\n",
              "<thead>\n",
              "\t<tr><th scope=col>Race</th><th scope=col>corr_spearman</th></tr>\n",
              "\t<tr><th scope=col>&lt;chr&gt;</th><th scope=col>&lt;dbl&gt;</th></tr>\n",
              "</thead>\n",
              "<tbody>\n",
              "\t<tr><td>Black                         </td><td>0.3604979</td></tr>\n",
              "\t<tr><td>Other                         </td><td>0.3502796</td></tr>\n",
              "\t<tr><td>American Indian/Alaskan Native</td><td>0.3375399</td></tr>\n",
              "\t<tr><td>White                         </td><td>0.3307961</td></tr>\n",
              "\t<tr><td>Hispanic                      </td><td>0.2971377</td></tr>\n",
              "\t<tr><td>Asian                         </td><td>0.2585929</td></tr>\n",
              "\t<tr><td>                              </td><td>       NA</td></tr>\n",
              "</tbody>\n",
              "</table>\n"
            ],
            "text/markdown": "\nA tibble: 7 × 2\n\n| Race &lt;chr&gt; | corr_spearman &lt;dbl&gt; |\n|---|---|\n| Black                          | 0.3604979 |\n| Other                          | 0.3502796 |\n| American Indian/Alaskan Native | 0.3375399 |\n| White                          | 0.3307961 |\n| Hispanic                       | 0.2971377 |\n| Asian                          | 0.2585929 |\n| <!----> |        NA |\n\n",
            "text/latex": "A tibble: 7 × 2\n\\begin{tabular}{ll}\n Race & corr\\_spearman\\\\\n <chr> & <dbl>\\\\\n\\hline\n\t Black                          & 0.3604979\\\\\n\t Other                          & 0.3502796\\\\\n\t American Indian/Alaskan Native & 0.3375399\\\\\n\t White                          & 0.3307961\\\\\n\t Hispanic                       & 0.2971377\\\\\n\t Asian                          & 0.2585929\\\\\n\t                                &        NA\\\\\n\\end{tabular}\n",
            "text/plain": [
              "  Race                           corr_spearman\n",
              "1 Black                          0.3604979    \n",
              "2 Other                          0.3502796    \n",
              "3 American Indian/Alaskan Native 0.3375399    \n",
              "4 White                          0.3307961    \n",
              "5 Hispanic                       0.2971377    \n",
              "6 Asian                          0.2585929    \n",
              "7                                       NA    "
            ]
          },
          "metadata": {}
        }
      ],
      "source": [
        "ht %>% group_by(Race) %>% summarise(corr_spearman = cor(GenHealth, DiseaseCount, method = 'spearman')) %>% arrange(desc(corr_spearman))"
      ]
    }
  ],
  "metadata": {
    "kernelspec": {
      "display_name": "R",
      "language": "R",
      "name": "ir"
    },
    "language_info": {
      "codemirror_mode": "r",
      "file_extension": ".r",
      "mimetype": "text/x-r-source",
      "name": "R",
      "pygments_lexer": "r",
      "version": "3.6.1"
    },
    "toc": {
      "base_numbering": 1,
      "nav_menu": {},
      "number_sections": true,
      "sideBar": true,
      "skip_h1_title": false,
      "title_cell": "Table of Contents",
      "title_sidebar": "Contents",
      "toc_cell": false,
      "toc_position": {},
      "toc_section_display": true,
      "toc_window_display": false
    },
    "colab": {
      "name": "연습_dplyr_.ipynb의 사본의 사본",
      "provenance": [],
      "include_colab_link": true
    }
  },
  "nbformat": 4,
  "nbformat_minor": 0
}