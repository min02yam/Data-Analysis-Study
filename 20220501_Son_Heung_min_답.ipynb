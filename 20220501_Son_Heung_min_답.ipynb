{
  "cells": [
    {
      "cell_type": "code",
      "execution_count": 2,
      "metadata": {
        "id": "-Xm5s58lIVKZ"
      },
      "outputs": [],
      "source": [
        "#setwd(\"C:/Users/alsdu/Downloads/20220501_데이터분석 스터디\") "
      ]
    },
    {
      "cell_type": "code",
      "execution_count": 3,
      "metadata": {
        "scrolled": false,
        "colab": {
          "base_uri": "https://localhost:8080/"
        },
        "id": "wyPZic-nIVKe",
        "outputId": "7c250db4-aaff-4e07-850a-e1fa3abc6b54"
      },
      "outputs": [
        {
          "output_type": "stream",
          "name": "stderr",
          "text": [
            "\n",
            "Attaching package: ‘dplyr’\n",
            "\n",
            "\n",
            "The following objects are masked from ‘package:stats’:\n",
            "\n",
            "    filter, lag\n",
            "\n",
            "\n",
            "The following objects are masked from ‘package:base’:\n",
            "\n",
            "    intersect, setdiff, setequal, union\n",
            "\n",
            "\n"
          ]
        }
      ],
      "source": [
        "library(dplyr); library(magrittr)"
      ]
    },
    {
      "cell_type": "code",
      "execution_count": 4,
      "metadata": {
        "id": "7W_ESQ8hIVKg"
      },
      "outputs": [],
      "source": [
        "library(readxl)"
      ]
    },
    {
      "cell_type": "code",
      "execution_count": 5,
      "metadata": {
        "scrolled": true,
        "id": "4Cml8rEvIVKg"
      },
      "outputs": [],
      "source": [
        "df<-read_xlsx(\"Son Heung-min's goals for TOT.xlsx\")"
      ]
    },
    {
      "cell_type": "code",
      "execution_count": 6,
      "metadata": {
        "scrolled": true,
        "colab": {
          "base_uri": "https://localhost:8080/"
        },
        "id": "m42xwGSWIVKh",
        "outputId": "3e3e3eaf-3d9d-47c0-82b6-bab856a4d50e"
      },
      "outputs": [
        {
          "output_type": "stream",
          "name": "stdout",
          "text": [
            "tibble [122 × 14] (S3: tbl_df/tbl/data.frame)\n",
            " $ Index       : num [1:122] 1 2 3 4 5 6 7 8 9 10 ...\n",
            " $ Season      : chr [1:122] \"Season 15/16\" \"Season 15/16\" \"Season 15/16\" \"Season 15/16\" ...\n",
            " $ competition : chr [1:122] \"Europa League\" \"Europa League\" \"Premier League\" \"Premier League\" ...\n",
            " $ Matchday    : chr [1:122] \"group stage\" \"group stage\" \"6\" \"19\" ...\n",
            " $ Date        : POSIXct[1:122], format: \"2015-09-17\" \"2015-09-17\" ...\n",
            " $ Venue       : chr [1:122] \"H\" \"H\" \"H\" \"A\" ...\n",
            " $ For         : chr [1:122] \"Tottenham Hotspur\" \"Tottenham Hotspur\" \"Tottenham Hotspur\" \"Tottenham Hotspur\" ...\n",
            " $ Opponent    : chr [1:122] \"Qarabağ Ağdam\" \"Qarabağ Ağdam\" \"Crystal Palace\" \"Watford FC\" ...\n",
            " $ Result      : POSIXct[1:122], format: \"1899-12-31 03:01:00\" \"1899-12-31 03:01:00\" ...\n",
            " $ Pos.        : chr [1:122] \"CF\" \"CF\" \"AM\" \"CF\" ...\n",
            " $ Minute      : chr [1:122] \"28'\" \"30'\" \"68'\" \"89'\" ...\n",
            " $ At score    : POSIXct[1:122], format: \"1899-12-31 01:01:00\" \"1899-12-31 02:01:00\" ...\n",
            " $ Type of goal: chr [1:122] NA NA \"Left-footed shot\" \"Right-footed shot\" ...\n",
            " $ Goal assist : chr [1:122] \"Andros Townsend\" \"Dele Alli\" \"Christian Eriksen\" \"Kieran Trippier\" ...\n"
          ]
        }
      ],
      "source": [
        "str(df)"
      ]
    },
    {
      "cell_type": "code",
      "execution_count": 7,
      "metadata": {
        "colab": {
          "base_uri": "https://localhost:8080/",
          "height": 653
        },
        "id": "uwQSvGCRIVKh",
        "outputId": "f31ec16d-04dd-476c-b444-818943fdaf2b"
      },
      "outputs": [
        {
          "output_type": "display_data",
          "data": {
            "text/plain": [
              "     Index           Season          competition          Matchday        \n",
              " Min.   :  1.00   Length:122         Length:122         Length:122        \n",
              " 1st Qu.: 31.25   Class :character   Class :character   Class :character  \n",
              " Median : 61.50   Mode  :character   Mode  :character   Mode  :character  \n",
              " Mean   : 61.50                                                           \n",
              " 3rd Qu.: 91.75                                                           \n",
              " Max.   :122.00                                                           \n",
              "      Date                        Venue               For           \n",
              " Min.   :2004-03-22 00:00:00   Length:122         Length:122        \n",
              " 1st Qu.:2017-09-22 18:00:00   Class :character   Class :character  \n",
              " Median :2019-01-31 12:00:00   Mode  :character   Mode  :character  \n",
              " Mean   :2019-01-17 06:53:06                                        \n",
              " 3rd Qu.:2020-10-01 12:00:00                                        \n",
              " Max.   :2022-03-20 00:00:00                                        \n",
              "   Opponent             Result                        Pos.          \n",
              " Length:122         Min.   :1899-12-31 00:01:00   Length:122        \n",
              " Class :character   1st Qu.:1899-12-31 01:03:00   Class :character  \n",
              " Mode  :character   Median :1899-12-31 02:02:00   Mode  :character  \n",
              "                    Mean   :1899-12-31 02:20:00                     \n",
              "                    3rd Qu.:1899-12-31 03:01:45                     \n",
              "                    Max.   :1899-12-31 06:01:00                     \n",
              "    Minute             At score                   Type of goal      \n",
              " Length:122         Min.   :1899-12-31 00:01:00   Length:122        \n",
              " Class :character   1st Qu.:1899-12-31 01:00:00   Class :character  \n",
              " Mode  :character   Median :1899-12-31 01:02:00   Mode  :character  \n",
              "                    Mean   :1899-12-31 01:29:32                     \n",
              "                    3rd Qu.:1899-12-31 02:00:00                     \n",
              "                    Max.   :1899-12-31 06:00:00                     \n",
              " Goal assist       \n",
              " Length:122        \n",
              " Class :character  \n",
              " Mode  :character  \n",
              "                   \n",
              "                   \n",
              "                   "
            ]
          },
          "metadata": {}
        }
      ],
      "source": [
        "summary(df)"
      ]
    },
    {
      "cell_type": "markdown",
      "metadata": {
        "id": "oFxWDVofIVKi"
      },
      "source": [
        "## ⚽ 2. Son Heung-min's goals for TOT\n",
        "\n",
        "   첨부된 'Son Heung-min's goals for TOT' 데이터셋은 손흥민 선수의 Season 15/16 - 21/22 골 획득 관련 데이터 입니다.\n",
        "\n",
        "1) 시즌별 획득한 골의 개수를 내림차순으로 정렬하세요.\n",
        "\n",
        "2) Goal을 가장 많이 넣은 시즌과 가장 적게 넣은 시즌의 Goal 개수 차이를 구하세요."
      ]
    },
    {
      "cell_type": "markdown",
      "metadata": {
        "id": "3vcjukJMIVKk"
      },
      "source": [
        "## 2-1. 시즌별 획득한 골의 개수를 내림차순으로 정렬하세요."
      ]
    },
    {
      "cell_type": "markdown",
      "metadata": {
        "id": "DyItD62JIVKl"
      },
      "source": [
        "- `step1` goal_count 변수 생성 "
      ]
    },
    {
      "cell_type": "code",
      "execution_count": 8,
      "metadata": {
        "scrolled": true,
        "colab": {
          "base_uri": "https://localhost:8080/",
          "height": 477
        },
        "id": "aVuGpEoSIVKm",
        "outputId": "4f2ad304-bc73-427f-ba00-a622fa70a968"
      },
      "outputs": [
        {
          "output_type": "display_data",
          "data": {
            "text/html": [
              "<table class=\"dataframe\">\n",
              "<caption>A tibble: 6 × 15</caption>\n",
              "<thead>\n",
              "\t<tr><th scope=col>Index</th><th scope=col>Season</th><th scope=col>competition</th><th scope=col>Matchday</th><th scope=col>Date</th><th scope=col>Venue</th><th scope=col>For</th><th scope=col>Opponent</th><th scope=col>Result</th><th scope=col>Pos.</th><th scope=col>Minute</th><th scope=col>At score</th><th scope=col>Type of goal</th><th scope=col>Goal assist</th><th scope=col>count</th></tr>\n",
              "\t<tr><th scope=col>&lt;dbl&gt;</th><th scope=col>&lt;chr&gt;</th><th scope=col>&lt;chr&gt;</th><th scope=col>&lt;chr&gt;</th><th scope=col>&lt;dttm&gt;</th><th scope=col>&lt;chr&gt;</th><th scope=col>&lt;chr&gt;</th><th scope=col>&lt;chr&gt;</th><th scope=col>&lt;dttm&gt;</th><th scope=col>&lt;chr&gt;</th><th scope=col>&lt;chr&gt;</th><th scope=col>&lt;dttm&gt;</th><th scope=col>&lt;chr&gt;</th><th scope=col>&lt;chr&gt;</th><th scope=col>&lt;dbl&gt;</th></tr>\n",
              "</thead>\n",
              "<tbody>\n",
              "\t<tr><td>1</td><td>Season 15/16</td><td>Europa League </td><td>group stage</td><td>2015-09-17</td><td>H</td><td>Tottenham Hotspur</td><td>Qarabağ Ağdam    </td><td>1899-12-31 03:01:00</td><td>CF</td><td>28'</td><td>1899-12-31 01:01:00</td><td>NA               </td><td>Andros Townsend  </td><td>1</td></tr>\n",
              "\t<tr><td>2</td><td>Season 15/16</td><td>Europa League </td><td>group stage</td><td>2015-09-17</td><td>H</td><td>Tottenham Hotspur</td><td>Qarabağ Ağdam    </td><td>1899-12-31 03:01:00</td><td>CF</td><td>30'</td><td>1899-12-31 02:01:00</td><td>NA               </td><td>Dele Alli        </td><td>1</td></tr>\n",
              "\t<tr><td>3</td><td>Season 15/16</td><td>Premier League</td><td>6          </td><td>2015-09-20</td><td>H</td><td>Tottenham Hotspur</td><td>Crystal Palace   </td><td>1899-12-31 01:00:00</td><td>AM</td><td>68'</td><td>1899-12-31 01:00:00</td><td>Left-footed shot </td><td>Christian Eriksen</td><td>1</td></tr>\n",
              "\t<tr><td>4</td><td>Season 15/16</td><td>Premier League</td><td>19         </td><td>2015-12-28</td><td>A</td><td>Tottenham Hotspur</td><td>Watford FC       </td><td>1899-12-31 01:02:00</td><td>CF</td><td>89'</td><td>1899-12-31 01:02:00</td><td>Right-footed shot</td><td>Kieran Trippier  </td><td>1</td></tr>\n",
              "\t<tr><td>5</td><td>Season 15/16</td><td>FA Cup        </td><td>Third Round</td><td>2016-01-20</td><td>A</td><td>Tottenham Hotspur</td><td>Leicester City   </td><td>1899-12-31 00:02:00</td><td>CF</td><td>39'</td><td>1899-12-31 00:01:00</td><td>Right-footed shot</td><td>Tom Carroll      </td><td>1</td></tr>\n",
              "\t<tr><td>6</td><td>Season 15/16</td><td>Europa League </td><td>last 16    </td><td>2016-03-17</td><td>H</td><td>Tottenham Hotspur</td><td>Borussia Dortmund</td><td>1899-12-31 01:02:00</td><td>CF</td><td>74'</td><td>1899-12-31 01:02:00</td><td>Right-footed shot</td><td>NA               </td><td>1</td></tr>\n",
              "</tbody>\n",
              "</table>\n"
            ],
            "text/markdown": "\nA tibble: 6 × 15\n\n| Index &lt;dbl&gt; | Season &lt;chr&gt; | competition &lt;chr&gt; | Matchday &lt;chr&gt; | Date &lt;dttm&gt; | Venue &lt;chr&gt; | For &lt;chr&gt; | Opponent &lt;chr&gt; | Result &lt;dttm&gt; | Pos. &lt;chr&gt; | Minute &lt;chr&gt; | At score &lt;dttm&gt; | Type of goal &lt;chr&gt; | Goal assist &lt;chr&gt; | count &lt;dbl&gt; |\n|---|---|---|---|---|---|---|---|---|---|---|---|---|---|---|\n| 1 | Season 15/16 | Europa League  | group stage | 2015-09-17 | H | Tottenham Hotspur | Qarabağ Ağdam     | 1899-12-31 03:01:00 | CF | 28' | 1899-12-31 01:01:00 | NA                | Andros Townsend   | 1 |\n| 2 | Season 15/16 | Europa League  | group stage | 2015-09-17 | H | Tottenham Hotspur | Qarabağ Ağdam     | 1899-12-31 03:01:00 | CF | 30' | 1899-12-31 02:01:00 | NA                | Dele Alli         | 1 |\n| 3 | Season 15/16 | Premier League | 6           | 2015-09-20 | H | Tottenham Hotspur | Crystal Palace    | 1899-12-31 01:00:00 | AM | 68' | 1899-12-31 01:00:00 | Left-footed shot  | Christian Eriksen | 1 |\n| 4 | Season 15/16 | Premier League | 19          | 2015-12-28 | A | Tottenham Hotspur | Watford FC        | 1899-12-31 01:02:00 | CF | 89' | 1899-12-31 01:02:00 | Right-footed shot | Kieran Trippier   | 1 |\n| 5 | Season 15/16 | FA Cup         | Third Round | 2016-01-20 | A | Tottenham Hotspur | Leicester City    | 1899-12-31 00:02:00 | CF | 39' | 1899-12-31 00:01:00 | Right-footed shot | Tom Carroll       | 1 |\n| 6 | Season 15/16 | Europa League  | last 16     | 2016-03-17 | H | Tottenham Hotspur | Borussia Dortmund | 1899-12-31 01:02:00 | CF | 74' | 1899-12-31 01:02:00 | Right-footed shot | NA                | 1 |\n\n",
            "text/latex": "A tibble: 6 × 15\n\\begin{tabular}{lllllllllllllll}\n Index & Season & competition & Matchday & Date & Venue & For & Opponent & Result & Pos. & Minute & At score & Type of goal & Goal assist & count\\\\\n <dbl> & <chr> & <chr> & <chr> & <dttm> & <chr> & <chr> & <chr> & <dttm> & <chr> & <chr> & <dttm> & <chr> & <chr> & <dbl>\\\\\n\\hline\n\t 1 & Season 15/16 & Europa League  & group stage & 2015-09-17 & H & Tottenham Hotspur & Qarabağ Ağdam     & 1899-12-31 03:01:00 & CF & 28' & 1899-12-31 01:01:00 & NA                & Andros Townsend   & 1\\\\\n\t 2 & Season 15/16 & Europa League  & group stage & 2015-09-17 & H & Tottenham Hotspur & Qarabağ Ağdam     & 1899-12-31 03:01:00 & CF & 30' & 1899-12-31 02:01:00 & NA                & Dele Alli         & 1\\\\\n\t 3 & Season 15/16 & Premier League & 6           & 2015-09-20 & H & Tottenham Hotspur & Crystal Palace    & 1899-12-31 01:00:00 & AM & 68' & 1899-12-31 01:00:00 & Left-footed shot  & Christian Eriksen & 1\\\\\n\t 4 & Season 15/16 & Premier League & 19          & 2015-12-28 & A & Tottenham Hotspur & Watford FC        & 1899-12-31 01:02:00 & CF & 89' & 1899-12-31 01:02:00 & Right-footed shot & Kieran Trippier   & 1\\\\\n\t 5 & Season 15/16 & FA Cup         & Third Round & 2016-01-20 & A & Tottenham Hotspur & Leicester City    & 1899-12-31 00:02:00 & CF & 39' & 1899-12-31 00:01:00 & Right-footed shot & Tom Carroll       & 1\\\\\n\t 6 & Season 15/16 & Europa League  & last 16     & 2016-03-17 & H & Tottenham Hotspur & Borussia Dortmund & 1899-12-31 01:02:00 & CF & 74' & 1899-12-31 01:02:00 & Right-footed shot & NA                & 1\\\\\n\\end{tabular}\n",
            "text/plain": [
              "  Index Season       competition    Matchday    Date       Venue\n",
              "1 1     Season 15/16 Europa League  group stage 2015-09-17 H    \n",
              "2 2     Season 15/16 Europa League  group stage 2015-09-17 H    \n",
              "3 3     Season 15/16 Premier League 6           2015-09-20 H    \n",
              "4 4     Season 15/16 Premier League 19          2015-12-28 A    \n",
              "5 5     Season 15/16 FA Cup         Third Round 2016-01-20 A    \n",
              "6 6     Season 15/16 Europa League  last 16     2016-03-17 H    \n",
              "  For               Opponent          Result              Pos. Minute\n",
              "1 Tottenham Hotspur Qarabağ Ağdam     1899-12-31 03:01:00 CF   28'   \n",
              "2 Tottenham Hotspur Qarabağ Ağdam     1899-12-31 03:01:00 CF   30'   \n",
              "3 Tottenham Hotspur Crystal Palace    1899-12-31 01:00:00 AM   68'   \n",
              "4 Tottenham Hotspur Watford FC        1899-12-31 01:02:00 CF   89'   \n",
              "5 Tottenham Hotspur Leicester City    1899-12-31 00:02:00 CF   39'   \n",
              "6 Tottenham Hotspur Borussia Dortmund 1899-12-31 01:02:00 CF   74'   \n",
              "  At score            Type of goal      Goal assist       count\n",
              "1 1899-12-31 01:01:00 NA                Andros Townsend   1    \n",
              "2 1899-12-31 02:01:00 NA                Dele Alli         1    \n",
              "3 1899-12-31 01:00:00 Left-footed shot  Christian Eriksen 1    \n",
              "4 1899-12-31 01:02:00 Right-footed shot Kieran Trippier   1    \n",
              "5 1899-12-31 00:01:00 Right-footed shot Tom Carroll       1    \n",
              "6 1899-12-31 01:02:00 Right-footed shot NA                1    "
            ]
          },
          "metadata": {}
        }
      ],
      "source": [
        "df$count<- rep(1, each=nrow(df)); head(df) "
      ]
    },
    {
      "cell_type": "markdown",
      "metadata": {
        "id": "HyQ2FqN_IVKn"
      },
      "source": [
        "- `step2` Season별 그룹화한 뒤 Goal_count 변수 생성"
      ]
    },
    {
      "cell_type": "code",
      "execution_count": 9,
      "metadata": {
        "id": "XsbTLxQ_IVKo"
      },
      "outputs": [],
      "source": [
        "df_n<-df %>% group_by(Season) %>% summarise (Goal_count=sum(count)) %>%arrange(desc(Goal_count)) "
      ]
    },
    {
      "cell_type": "code",
      "execution_count": 10,
      "metadata": {
        "colab": {
          "base_uri": "https://localhost:8080/",
          "height": 317
        },
        "id": "SfhwSxHjIVKo",
        "outputId": "8cc0fd56-ba44-4eb5-93bf-c5b6cd1c40b5"
      },
      "outputs": [
        {
          "output_type": "display_data",
          "data": {
            "text/html": [
              "<table class=\"dataframe\">\n",
              "<caption>A tibble: 7 × 2</caption>\n",
              "<thead>\n",
              "\t<tr><th scope=col>Season</th><th scope=col>Goal_count</th></tr>\n",
              "\t<tr><th scope=col>&lt;chr&gt;</th><th scope=col>&lt;dbl&gt;</th></tr>\n",
              "</thead>\n",
              "<tbody>\n",
              "\t<tr><td>Season 20/21</td><td>22</td></tr>\n",
              "\t<tr><td>Season 16/17</td><td>21</td></tr>\n",
              "\t<tr><td>Season 18/19</td><td>20</td></tr>\n",
              "\t<tr><td>Season 17/18</td><td>18</td></tr>\n",
              "\t<tr><td>Season 19/20</td><td>18</td></tr>\n",
              "\t<tr><td>Season 21/22</td><td>15</td></tr>\n",
              "\t<tr><td>Season 15/16</td><td> 8</td></tr>\n",
              "</tbody>\n",
              "</table>\n"
            ],
            "text/markdown": "\nA tibble: 7 × 2\n\n| Season &lt;chr&gt; | Goal_count &lt;dbl&gt; |\n|---|---|\n| Season 20/21 | 22 |\n| Season 16/17 | 21 |\n| Season 18/19 | 20 |\n| Season 17/18 | 18 |\n| Season 19/20 | 18 |\n| Season 21/22 | 15 |\n| Season 15/16 |  8 |\n\n",
            "text/latex": "A tibble: 7 × 2\n\\begin{tabular}{ll}\n Season & Goal\\_count\\\\\n <chr> & <dbl>\\\\\n\\hline\n\t Season 20/21 & 22\\\\\n\t Season 16/17 & 21\\\\\n\t Season 18/19 & 20\\\\\n\t Season 17/18 & 18\\\\\n\t Season 19/20 & 18\\\\\n\t Season 21/22 & 15\\\\\n\t Season 15/16 &  8\\\\\n\\end{tabular}\n",
            "text/plain": [
              "  Season       Goal_count\n",
              "1 Season 20/21 22        \n",
              "2 Season 16/17 21        \n",
              "3 Season 18/19 20        \n",
              "4 Season 17/18 18        \n",
              "5 Season 19/20 18        \n",
              "6 Season 21/22 15        \n",
              "7 Season 15/16  8        "
            ]
          },
          "metadata": {}
        }
      ],
      "source": [
        "df_n"
      ]
    },
    {
      "cell_type": "markdown",
      "metadata": {
        "id": "Y3Han9nLIVKp"
      },
      "source": [
        "## 2-2. Goal을 가장 많이 넣은 시즌과 가장 적게 넣은 시즌의 Goal 개수 차이를 구하세요."
      ]
    },
    {
      "cell_type": "code",
      "execution_count": 11,
      "metadata": {
        "colab": {
          "base_uri": "https://localhost:8080/",
          "height": 34
        },
        "id": "MT-E7FggIVKp",
        "outputId": "9da61846-724d-4bce-f529-030bc79db663"
      },
      "outputs": [
        {
          "output_type": "display_data",
          "data": {
            "text/html": [
              "14"
            ],
            "text/markdown": "14",
            "text/latex": "14",
            "text/plain": [
              "[1] 14"
            ]
          },
          "metadata": {}
        }
      ],
      "source": [
        "max(df_n[,2])- min(df_n[,2])    #22-8"
      ]
    }
  ],
  "metadata": {
    "kernelspec": {
      "display_name": "R",
      "language": "R",
      "name": "ir"
    },
    "language_info": {
      "codemirror_mode": "r",
      "file_extension": ".r",
      "mimetype": "text/x-r-source",
      "name": "R",
      "pygments_lexer": "r",
      "version": "3.6.1"
    },
    "toc": {
      "base_numbering": 1,
      "nav_menu": {},
      "number_sections": true,
      "sideBar": true,
      "skip_h1_title": false,
      "title_cell": "Table of Contents",
      "title_sidebar": "Contents",
      "toc_cell": false,
      "toc_position": {},
      "toc_section_display": true,
      "toc_window_display": false
    },
    "colab": {
      "name": "20220501_Son-Heung-min_답.ipynb",
      "provenance": []
    }
  },
  "nbformat": 4,
  "nbformat_minor": 0
}