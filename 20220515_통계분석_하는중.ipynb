{
  "nbformat": 4,
  "nbformat_minor": 0,
  "metadata": {
    "colab": {
      "name": "20220515_분류분석_weatherAUS_하는중.ipynb",
      "provenance": [],
      "authorship_tag": "ABX9TyO7bhpR8bK0L/KwKaiHLF1c",
      "include_colab_link": true
    },
    "kernelspec": {
      "name": "ir",
      "display_name": "R"
    },
    "language_info": {
      "name": "R"
    }
  },
  "cells": [
    {
      "cell_type": "markdown",
      "metadata": {
        "id": "view-in-github",
        "colab_type": "text"
      },
      "source": [
        "<a href=\"https://colab.research.google.com/github/min02yam/R-study/blob/main/20220515_%ED%86%B5%EA%B3%84%EB%B6%84%EC%84%9D_%ED%95%98%EB%8A%94%EC%A4%91.ipynb\" target=\"_parent\"><img src=\"https://colab.research.google.com/assets/colab-badge.svg\" alt=\"Open In Colab\"/></a>"
      ]
    },
    {
      "cell_type": "code",
      "source": [
        "다중비교만남음"
      ],
      "metadata": {
        "id": "pgKA-g-AoR2Q"
      },
      "execution_count": null,
      "outputs": []
    },
    {
      "cell_type": "markdown",
      "source": [
        "--------------------------------------------------------------------------\n",
        "### **1. 통계분석**\n",
        "#### 1-1. ISLR패키지의 Carseats 데이터를 이용하여 Urban 변수에 따른 Sales의 차이가 있는지를 통계적으로 검증하고 결과를 해석하시오 (데이터는 정규성을 만족한다고 가정하고, 유의수준 0.05임)\n",
        "#### 1-2. iris 데이터에 이용하여 Species에 따른 Sepal.Width 의 차이이가 있는지를 통계적으로 검증하고 해석 하시오 (데이터는 정규성을 만족한다고 가정하고, 유의수준 0.05임)\n",
        "--------------------------------------------------------------------------\n"
      ],
      "metadata": {
        "id": "DBCzkkuezY3r"
      }
    },
    {
      "cell_type": "markdown",
      "source": [
        "---------------------------**목차**---------------------------\n",
        "1. **독립표본 t검정**<br>\n",
        "  1-1. 등분산 검정( Test of Equality of Variance)<br>\n",
        "  step1. 가설설정<br>\n",
        "  step2. F 검정통계량 값과 유의확률 계산<br>\n",
        "  step3. 결론<br>\n",
        "  step4. 해석<br>\n",
        "  1-2. 독립표본 t검정<br>\n",
        "  step1. 가설설정<br>\n",
        "  step2. T 검정통계량 값과 유의확률 계산<br>\n",
        "  step3. 결론<br>\n",
        "  step4. 해석\n",
        "2.  **일원배치 분산분석** (One-way ANOVA)<br>\n",
        "2-1. 일원배치 분산분석<br>\n",
        "  step0. 요인 수준의 밸런스 확인 (범주형 변수 클래스 확인)<br>\n",
        "  step1. 가설설정<br>\n",
        "  step2. F 검정통계량 값과 유의확률 계산<br>\n",
        "  step3. 결론<br>\n",
        "  step4. 해석<br>\n",
        "2-2. 다중비교(ducan방법 사용)<br>\n"
      ],
      "metadata": {
        "id": "kqM1zOKlQSsg"
      }
    },
    {
      "cell_type": "markdown",
      "source": [
        "- 데이터 로드 및 간단 구조 확인"
      ],
      "metadata": {
        "id": "BBn9Dhi0iZW8"
      }
    },
    {
      "cell_type": "code",
      "source": [
        "install.packages(\"ISLR\") ; library(ISLR)"
      ],
      "metadata": {
        "id": "ObY6LRJUzznH",
        "outputId": "fd964275-c497-42dc-ea0d-53ad1c50f138",
        "colab": {
          "base_uri": "https://localhost:8080/"
        }
      },
      "execution_count": 1,
      "outputs": [
        {
          "output_type": "stream",
          "name": "stderr",
          "text": [
            "Installing package into ‘/usr/local/lib/R/site-library’\n",
            "(as ‘lib’ is unspecified)\n",
            "\n"
          ]
        }
      ]
    },
    {
      "cell_type": "code",
      "source": [
        "df<-Carseats "
      ],
      "metadata": {
        "id": "JaHKeeiUzi0u"
      },
      "execution_count": 4,
      "outputs": []
    },
    {
      "cell_type": "code",
      "source": [
        "str(df); summary(df)"
      ],
      "metadata": {
        "id": "xvxGvBE65AiB",
        "outputId": "1e7dedb4-33bd-4c34-8866-1e3324b751b0",
        "colab": {
          "base_uri": "https://localhost:8080/",
          "height": 619
        }
      },
      "execution_count": 5,
      "outputs": [
        {
          "output_type": "stream",
          "name": "stdout",
          "text": [
            "'data.frame':\t400 obs. of  11 variables:\n",
            " $ Sales      : num  9.5 11.22 10.06 7.4 4.15 ...\n",
            " $ CompPrice  : num  138 111 113 117 141 124 115 136 132 132 ...\n",
            " $ Income     : num  73 48 35 100 64 113 105 81 110 113 ...\n",
            " $ Advertising: num  11 16 10 4 3 13 0 15 0 0 ...\n",
            " $ Population : num  276 260 269 466 340 501 45 425 108 131 ...\n",
            " $ Price      : num  120 83 80 97 128 72 108 120 124 124 ...\n",
            " $ ShelveLoc  : Factor w/ 3 levels \"Bad\",\"Good\",\"Medium\": 1 2 3 3 1 1 3 2 3 3 ...\n",
            " $ Age        : num  42 65 59 55 38 78 71 67 76 76 ...\n",
            " $ Education  : num  17 10 12 14 13 16 15 10 10 17 ...\n",
            " $ Urban      : Factor w/ 2 levels \"No\",\"Yes\": 2 2 2 2 2 1 2 2 1 1 ...\n",
            " $ US         : Factor w/ 2 levels \"No\",\"Yes\": 2 2 2 2 1 2 1 2 1 2 ...\n"
          ]
        },
        {
          "output_type": "display_data",
          "data": {
            "text/plain": [
              "     Sales          CompPrice       Income        Advertising    \n",
              " Min.   : 0.000   Min.   : 77   Min.   : 21.00   Min.   : 0.000  \n",
              " 1st Qu.: 5.390   1st Qu.:115   1st Qu.: 42.75   1st Qu.: 0.000  \n",
              " Median : 7.490   Median :125   Median : 69.00   Median : 5.000  \n",
              " Mean   : 7.496   Mean   :125   Mean   : 68.66   Mean   : 6.635  \n",
              " 3rd Qu.: 9.320   3rd Qu.:135   3rd Qu.: 91.00   3rd Qu.:12.000  \n",
              " Max.   :16.270   Max.   :175   Max.   :120.00   Max.   :29.000  \n",
              "   Population        Price        ShelveLoc        Age          Education   \n",
              " Min.   : 10.0   Min.   : 24.0   Bad   : 96   Min.   :25.00   Min.   :10.0  \n",
              " 1st Qu.:139.0   1st Qu.:100.0   Good  : 85   1st Qu.:39.75   1st Qu.:12.0  \n",
              " Median :272.0   Median :117.0   Medium:219   Median :54.50   Median :14.0  \n",
              " Mean   :264.8   Mean   :115.8                Mean   :53.32   Mean   :13.9  \n",
              " 3rd Qu.:398.5   3rd Qu.:131.0                3rd Qu.:66.00   3rd Qu.:16.0  \n",
              " Max.   :509.0   Max.   :191.0                Max.   :80.00   Max.   :18.0  \n",
              " Urban       US     \n",
              " No :118   No :142  \n",
              " Yes:282   Yes:258  \n",
              "                    \n",
              "                    \n",
              "                    \n",
              "                    "
            ]
          },
          "metadata": {}
        }
      ]
    },
    {
      "cell_type": "markdown",
      "source": [
        "#1. 가설검정(독립표본 t검정)\n",
        "- 이때, class=Urban\n",
        "- var=Sales<br>"
      ],
      "metadata": {
        "id": "RNtEB9ozagsk"
      }
    },
    {
      "cell_type": "markdown",
      "source": [
        "## 1-1. 등분산검정\n",
        "1) 가설설정\n",
        "- 귀무가설(H_0): 도시가 아닌 집단과 도시 집단의 모분산은 동일하다.\n",
        "- 대립가설(H_A): 두 집단의 모분산은 동일하지 않다.\n",
        "\n",
        "2) 검정통계량 F값과 유의확률 도출<br>\n",
        "아래의 결과로부터, 유의수준 0.05하에서 모분산의 동일성 검정을 위한 F 검정통계량 값이 0.9787이고 <br>이때의 피밸루값(유의확률)이 0.91이므로 유의확률=0.05보다 크다. \n",
        "\n",
        "3) 결론<br>\n",
        "그러므로 귀무가설을 기각할 수 없다. \n",
        "\n",
        "4)해석<br>\n",
        "즉, 유의수준 0.05 하에서는 두 집단의 모분산이 동일하다고 할 근거가 충분하다. "
      ],
      "metadata": {
        "id": "eka1Dr3Tcx4H"
      }
    },
    {
      "cell_type": "code",
      "source": [
        "var.test(Sales~Urban, data = Carseats, alternative='two.sided')"
      ],
      "metadata": {
        "id": "XqN6wO-v5D3a",
        "outputId": "6c998ba9-e91a-4cde-b420-f94cfb8e6c03",
        "colab": {
          "base_uri": "https://localhost:8080/",
          "height": 218
        }
      },
      "execution_count": 6,
      "outputs": [
        {
          "output_type": "display_data",
          "data": {
            "text/plain": [
              "\n",
              "\tF test to compare two variances\n",
              "\n",
              "data:  Sales by Urban\n",
              "F = 0.9787, num df = 117, denom df = 281, p-value = 0.9072\n",
              "alternative hypothesis: true ratio of variances is not equal to 1\n",
              "95 percent confidence interval:\n",
              " 0.7276615 1.3423111\n",
              "sample estimates:\n",
              "ratio of variances \n",
              "         0.9786966 \n"
            ]
          },
          "metadata": {}
        }
      ]
    },
    {
      "cell_type": "markdown",
      "source": [
        "## 1-2. 독립표본 T검정\n",
        "1) 가설설정\n",
        "- 귀무가설(H_0): 도시가 아닌 집단과 도시 집단의 평균 판매량은 동일하다.\n",
        "- 대립가설(H_A): 두 집단의 평균 판매량은 차이가 있다.\n",
        "\n",
        "2) 검정통계량 T값과 유의확률 도출<br>\n",
        "아래의 결과로부터, 유의수준 0.05하에서 T 검정통계량 값이 0.3077이고  <br>이때의 피밸루값(유의확률)이 0.7585이므로 유의수준=0.05보다 크다. \n",
        "\n",
        "3) 결론<br>\n",
        "그러므로 귀무가설을 기각할 수 없다. \n",
        "\n",
        "4)해석<br>\n",
        "즉, 유의수준 0.05 하에서는 도시가 아닌 집단과 도시인 집단의 평균 판매량은 통계적으로 유의한 차이가 있다고 할 수 없다. "
      ],
      "metadata": {
        "id": "m53UPBAKef3v"
      }
    },
    {
      "cell_type": "code",
      "source": [
        "t.test(Sales~Urban, data = Carseats, alternative='two.sided', var.equal=T)"
      ],
      "metadata": {
        "id": "uQEHo5wge_Wp",
        "outputId": "acb5f397-2c7e-49f0-ab77-6bbe3e5a008f",
        "colab": {
          "base_uri": "https://localhost:8080/",
          "height": 218
        }
      },
      "execution_count": 7,
      "outputs": [
        {
          "output_type": "display_data",
          "data": {
            "text/plain": [
              "\n",
              "\tTwo Sample t-test\n",
              "\n",
              "data:  Sales by Urban\n",
              "t = 0.30765, df = 398, p-value = 0.7585\n",
              "alternative hypothesis: true difference in means between group No and group Yes is not equal to 0\n",
              "95 percent confidence interval:\n",
              " -0.5140440  0.7047797\n",
              "sample estimates:\n",
              " mean in group No mean in group Yes \n",
              "         7.563559          7.468191 \n"
            ]
          },
          "metadata": {}
        }
      ]
    },
    {
      "cell_type": "markdown",
      "source": [
        "# 2. 가설검정"
      ],
      "metadata": {
        "id": "BdaG-HJif9Ic"
      }
    },
    {
      "cell_type": "markdown",
      "source": [
        "- 데이터 로드 및 요인 수준 밸런스 확인"
      ],
      "metadata": {
        "id": "-YgCjfGEjYqd"
      }
    },
    {
      "cell_type": "code",
      "source": [
        "str(iris); summary(iris)"
      ],
      "metadata": {
        "id": "Ari9Pky-f8eT",
        "outputId": "e5a35a5d-4888-4e8a-e8a0-cdbfb0450214",
        "colab": {
          "base_uri": "https://localhost:8080/",
          "height": 382
        }
      },
      "execution_count": 9,
      "outputs": [
        {
          "output_type": "stream",
          "name": "stdout",
          "text": [
            "'data.frame':\t150 obs. of  5 variables:\n",
            " $ Sepal.Length: num  5.1 4.9 4.7 4.6 5 5.4 4.6 5 4.4 4.9 ...\n",
            " $ Sepal.Width : num  3.5 3 3.2 3.1 3.6 3.9 3.4 3.4 2.9 3.1 ...\n",
            " $ Petal.Length: num  1.4 1.4 1.3 1.5 1.4 1.7 1.4 1.5 1.4 1.5 ...\n",
            " $ Petal.Width : num  0.2 0.2 0.2 0.2 0.2 0.4 0.3 0.2 0.2 0.1 ...\n",
            " $ Species     : Factor w/ 3 levels \"setosa\",\"versicolor\",..: 1 1 1 1 1 1 1 1 1 1 ...\n"
          ]
        },
        {
          "output_type": "display_data",
          "data": {
            "text/plain": [
              "  Sepal.Length    Sepal.Width     Petal.Length    Petal.Width   \n",
              " Min.   :4.300   Min.   :2.000   Min.   :1.000   Min.   :0.100  \n",
              " 1st Qu.:5.100   1st Qu.:2.800   1st Qu.:1.600   1st Qu.:0.300  \n",
              " Median :5.800   Median :3.000   Median :4.350   Median :1.300  \n",
              " Mean   :5.843   Mean   :3.057   Mean   :3.758   Mean   :1.199  \n",
              " 3rd Qu.:6.400   3rd Qu.:3.300   3rd Qu.:5.100   3rd Qu.:1.800  \n",
              " Max.   :7.900   Max.   :4.400   Max.   :6.900   Max.   :2.500  \n",
              "       Species  \n",
              " setosa    :50  \n",
              " versicolor:50  \n",
              " virginica :50  \n",
              "                \n",
              "                \n",
              "                "
            ]
          },
          "metadata": {}
        }
      ]
    },
    {
      "cell_type": "markdown",
      "source": [
        "- `Class`: Species -> 세개-> 원웨이아노바\n",
        "- `Var`: Sepal.Width\n",
        "- 아주 균등함"
      ],
      "metadata": {
        "id": "ONYGamPvgRRY"
      }
    },
    {
      "cell_type": "markdown",
      "source": [
        "## 2-1. 일원배치 분산분석\n",
        "1) 가설설정\n",
        "- 귀무가설(H_0): 세 종류의 종의 꽃받임 너비의 평균은 모두 같다. (종 별로 꽃받임 평균에는 차이가 없다.) \n",
        "- 대립가설(H_A): not H_0 즉 모두 같지는 않다.<br>\n",
        "\n",
        "2) 검정통계량 F값과 유의확률 도출<br>\n",
        "아래의 F검정 결과로부터, 유의수준 0.05하에서 F검정통계량 값이 49.16이고  <br>이때의 피밸루값(유의확률)은  2e-16보다 작다. \n",
        "\n",
        "3) 결론<br>\n",
        "유의수준=0.05보다 작으므로, 유의수준=0.05하에서는 귀무가설을 기각할 수 있다. \n",
        "\n",
        "4)해석<br>\n",
        "즉, 유의수준 0.05 하에서는 종의 종류에 따라 꽃받임의 너비가 통계적으로 매우 유의한 차이가 있다고 결론지을 근거가 충분하다. <br>어느 집단 사이에 실제로 꽃받임의 모평균에 차이가 있는지 검정하기 위해 다중비교를 해야한다."
      ],
      "metadata": {
        "id": "guC6dPEVjlPA"
      }
    },
    {
      "cell_type": "code",
      "source": [
        "summary(aov(Sepal.Width~Species , iris))"
      ],
      "metadata": {
        "id": "MnZSTfVYktYg",
        "outputId": "72a0c899-98f5-4fa2-a93e-1e933e15b18c",
        "colab": {
          "base_uri": "https://localhost:8080/",
          "height": 108
        }
      },
      "execution_count": 16,
      "outputs": [
        {
          "output_type": "display_data",
          "data": {
            "text/plain": [
              "             Df Sum Sq Mean Sq F value Pr(>F)    \n",
              "Species       2  11.35   5.672   49.16 <2e-16 ***\n",
              "Residuals   147  16.96   0.115                   \n",
              "---\n",
              "Signif. codes:  0 ‘***’ 0.001 ‘**’ 0.01 ‘*’ 0.05 ‘.’ 0.1 ‘ ’ 1"
            ]
          },
          "metadata": {}
        }
      ]
    },
    {
      "cell_type": "markdown",
      "source": [
        "##2-2. 일원배치 분산분석- 다중비교"
      ],
      "metadata": {
        "id": "kf5KZW56nKTz"
      }
    }
  ]
}