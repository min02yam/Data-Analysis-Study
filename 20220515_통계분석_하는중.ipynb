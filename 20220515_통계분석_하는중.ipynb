{
  "nbformat": 4,
  "nbformat_minor": 0,
  "metadata": {
    "colab": {
      "name": "20220515_분류분석_weatherAUS_하는중.ipynb",
      "provenance": [],
      "authorship_tag": "ABX9TyOEpfg8kLKsf+YQj0vtWeWm",
      "include_colab_link": true
    },
    "kernelspec": {
      "name": "ir",
      "display_name": "R"
    },
    "language_info": {
      "name": "R"
    }
  },
  "cells": [
    {
      "cell_type": "markdown",
      "metadata": {
        "id": "view-in-github",
        "colab_type": "text"
      },
      "source": [
        "<a href=\"https://colab.research.google.com/github/min02yam/R-study/blob/main/20220515_%ED%86%B5%EA%B3%84%EB%B6%84%EC%84%9D_%ED%95%98%EB%8A%94%EC%A4%91.ipynb\" target=\"_parent\"><img src=\"https://colab.research.google.com/assets/colab-badge.svg\" alt=\"Open In Colab\"/></a>"
      ]
    },
    {
      "cell_type": "markdown",
      "source": [
        "--------------------------------------------------------------------------\n",
        "### **1. 통계분석**\n",
        "#### 1-1. ISLR패키지의 Carseats 데이터를 이용하여 Urban 변수에 따른 Sales의 차이가 있는지를 통계적으로 검증하고 결과를 해석하시오 (데이터는 정규성을 만족한다고 가정하고, 유의수준 0.05임)\n",
        "#### iris 데이터에 이용하여 Species에 따른 Sepal.Width 의 차이이가 있는지를 통계적으로 검증하고 해석 하시오 (데이터는 정규성을 만족한다고 가정하고, 유의수준 0.05임)\n",
        "--------------------------------------------------------------------------\n"
      ],
      "metadata": {
        "id": "DBCzkkuezY3r"
      }
    },
    {
      "cell_type": "markdown",
      "source": [
        "---------------------------**목차**---------------------------\n",
        "1. 데이터 로드\n",
        "2. 데이터 전처리 (2-1), (2-2)\n",
        "3. 모델링\n",
        "SVM OR LOGISTIC 예정\n"
      ],
      "metadata": {
        "id": "kqM1zOKlQSsg"
      }
    },
    {
      "cell_type": "markdown",
      "source": [
        "## 2-1."
      ],
      "metadata": {
        "id": "UfqBDvtsQI9j"
      }
    },
    {
      "cell_type": "code",
      "source": [
        ""
      ],
      "metadata": {
        "id": "ObY6LRJUzznH"
      },
      "execution_count": null,
      "outputs": []
    },
    {
      "cell_type": "code",
      "source": [
        "\n"
      ],
      "metadata": {
        "id": "JaHKeeiUzi0u"
      },
      "execution_count": null,
      "outputs": []
    },
    {
      "cell_type": "code",
      "source": [
        ""
      ],
      "metadata": {
        "id": "xvxGvBE65AiB"
      },
      "execution_count": null,
      "outputs": []
    },
    {
      "cell_type": "code",
      "source": [
        ""
      ],
      "metadata": {
        "id": "XqN6wO-v5D3a"
      },
      "execution_count": null,
      "outputs": []
    }
  ]
}