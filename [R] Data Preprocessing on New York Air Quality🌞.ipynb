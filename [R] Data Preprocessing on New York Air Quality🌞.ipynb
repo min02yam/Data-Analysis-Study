{
 "cells": [
  {
   "cell_type": "code",
   "execution_count": 6,
   "metadata": {},
   "outputs": [],
   "source": [
    "?airquality"
   ]
  },
  {
   "cell_type": "markdown",
   "metadata": {},
   "source": [
    "- `Ozone`: Mean ozone in parts per billion from 1300 to 1500 hours at Roosevelt Island\n",
    "- `Solar.R`: Solar radiation in Langleys in the frequency band 4000–7700 Angstroms from 0800 to 1200 hours at Central Park\n",
    "- `Wind`: Average wind speed in miles per hour at 0700 and 1000 hours at LaGuardia Airport\n",
    "- `Temp`: Maximum daily temperature in degrees Fahrenheit at La Guardia Airport."
   ]
  },
  {
   "cell_type": "code",
   "execution_count": 2,
   "metadata": {
    "scrolled": true
   },
   "outputs": [
    {
     "name": "stdout",
     "output_type": "stream",
     "text": [
      "'data.frame':\t153 obs. of  6 variables:\n",
      " $ Ozone  : int  41 36 12 18 NA 28 23 19 8 NA ...\n",
      " $ Solar.R: int  190 118 149 313 NA NA 299 99 19 194 ...\n",
      " $ Wind   : num  7.4 8 12.6 11.5 14.3 14.9 8.6 13.8 20.1 8.6 ...\n",
      " $ Temp   : int  67 72 74 62 56 66 65 59 61 69 ...\n",
      " $ Month  : int  5 5 5 5 5 5 5 5 5 5 ...\n",
      " $ Day    : int  1 2 3 4 5 6 7 8 9 10 ...\n"
     ]
    }
   ],
   "source": [
    "str(airquality)"
   ]
  },
  {
   "cell_type": "code",
   "execution_count": 8,
   "metadata": {
    "scrolled": false
   },
   "outputs": [
    {
     "data": {
      "text/plain": [
       "     Ozone           Solar.R           Wind             Temp      \n",
       " Min.   :  1.00   Min.   :  7.0   Min.   : 1.700   Min.   :56.00  \n",
       " 1st Qu.: 18.00   1st Qu.:115.8   1st Qu.: 7.400   1st Qu.:72.00  \n",
       " Median : 31.50   Median :205.0   Median : 9.700   Median :79.00  \n",
       " Mean   : 42.13   Mean   :185.9   Mean   : 9.958   Mean   :77.88  \n",
       " 3rd Qu.: 63.25   3rd Qu.:258.8   3rd Qu.:11.500   3rd Qu.:85.00  \n",
       " Max.   :168.00   Max.   :334.0   Max.   :20.700   Max.   :97.00  \n",
       " NA's   :37       NA's   :7                                       \n",
       "     Month            Day      \n",
       " Min.   :5.000   Min.   : 1.0  \n",
       " 1st Qu.:6.000   1st Qu.: 8.0  \n",
       " Median :7.000   Median :16.0  \n",
       " Mean   :6.993   Mean   :15.8  \n",
       " 3rd Qu.:8.000   3rd Qu.:23.0  \n",
       " Max.   :9.000   Max.   :31.0  \n",
       "                               "
      ]
     },
     "metadata": {},
     "output_type": "display_data"
    }
   ],
   "source": [
    "summary(airquality)"
   ]
  },
  {
   "cell_type": "markdown",
   "metadata": {},
   "source": [
    "- `NA`\n",
    "    - **Ozone** 37, **Solar.R**  7 "
   ]
  },
  {
   "cell_type": "code",
   "execution_count": 10,
   "metadata": {},
   "outputs": [],
   "source": [
    "df <-airquality"
   ]
  },
  {
   "cell_type": "markdown",
   "metadata": {},
   "source": [
    "## 1. Checking Missing Values's Patterns"
   ]
  },
  {
   "cell_type": "code",
   "execution_count": 11,
   "metadata": {},
   "outputs": [
    {
     "data": {
      "text/html": [
       "44"
      ],
      "text/latex": [
       "44"
      ],
      "text/markdown": [
       "44"
      ],
      "text/plain": [
       "[1] 44"
      ]
     },
     "metadata": {},
     "output_type": "display_data"
    }
   ],
   "source": [
    "sum(is.na(df))"
   ]
  },
  {
   "cell_type": "code",
   "execution_count": 12,
   "metadata": {},
   "outputs": [],
   "source": [
    "library(ggplot2)"
   ]
  },
  {
   "cell_type": "code",
   "execution_count": 13,
   "metadata": {},
   "outputs": [],
   "source": [
    "plot_Missing <- function(data_in, title = NULL){\n",
    "  temp_df <- as.data.frame(ifelse(is.na(data_in), 0, 1))\n",
    "  temp_df <- temp_df[,order(colSums(temp_df))]\n",
    "  data_temp <- expand.grid(list(x = 1:nrow(temp_df), y = colnames(temp_df)))\n",
    "  data_temp$m <- as.vector(as.matrix(temp_df))\n",
    "  data_temp <- data.frame(x = unlist(data_temp$x), y = unlist(data_temp$y), m = unlist(data_temp$m))\n",
    "  ggplot(data_temp) + geom_tile(aes(x=x, y=y, fill=factor(m))) + scale_fill_manual(values=c(\"white\", \"black\"), name=\"Missing\\n(0=Yes, 1=No)\") + theme_light() + ylab(\"\") + xlab(\"\") + ggtitle(title)\n",
    "}"
   ]
  },
  {
   "cell_type": "code",
   "execution_count": 15,
   "metadata": {},
   "outputs": [
    {
     "data": {
      "image/png": "[encoded data removed]",
      "text/plain": [
       "plot without title"
      ]
     },
     "metadata": {},
     "output_type": "display_data"
    }
   ],
   "source": [
    "plot_Missing(df[,colSums(is.na(df))>0])"
   ]
  },
  {
   "cell_type": "markdown",
   "metadata": {},
   "source": [
    "## 2. Imputation"
   ]
  },
  {
   "cell_type": "markdown",
   "metadata": {},
   "source": [
    "### 2.1. Ozone의 결측치를 Ozone의 10번째로 큰 값으로 대체할 것."
   ]
  },
  {
   "cell_type": "code",
   "execution_count": 16,
   "metadata": {},
   "outputs": [
    {
     "data": {
      "text/html": [
       "<table>\n",
       "<thead><tr><th></th><th scope=col>Ozone</th><th scope=col>Solar.R</th><th scope=col>Wind</th><th scope=col>Temp</th><th scope=col>Month</th><th scope=col>Day</th></tr></thead>\n",
       "<tbody>\n",
       "\t<tr><th scope=row>117</th><td>168</td><td>238</td><td>3.4</td><td>81 </td><td>8  </td><td>25 </td></tr>\n",
       "\t<tr><th scope=row>62</th><td>135</td><td>269</td><td>4.1</td><td>84 </td><td>7  </td><td> 1 </td></tr>\n",
       "\t<tr><th scope=row>99</th><td>122</td><td>255</td><td>4.0</td><td>89 </td><td>8  </td><td> 7 </td></tr>\n",
       "\t<tr><th scope=row>121</th><td>118</td><td>225</td><td>2.3</td><td>94 </td><td>8  </td><td>29 </td></tr>\n",
       "\t<tr><th scope=row>30</th><td>115</td><td>223</td><td>5.7</td><td>79 </td><td>5  </td><td>30 </td></tr>\n",
       "\t<tr><th scope=row>101</th><td>110</td><td>207</td><td>8.0</td><td>90 </td><td>8  </td><td> 9 </td></tr>\n",
       "\t<tr><th scope=row>86</th><td>108</td><td>223</td><td>8.0</td><td>85 </td><td>7  </td><td>25 </td></tr>\n",
       "\t<tr><th scope=row>69</th><td> 97</td><td>267</td><td>6.3</td><td>92 </td><td>7  </td><td> 8 </td></tr>\n",
       "\t<tr><th scope=row>70</th><td> 97</td><td>272</td><td>5.7</td><td>92 </td><td>7  </td><td> 9 </td></tr>\n",
       "\t<tr><th scope=row>124</th><td> 96</td><td>167</td><td>6.9</td><td>91 </td><td>9  </td><td> 1 </td></tr>\n",
       "</tbody>\n",
       "</table>\n"
      ],
      "text/latex": [
       "\\begin{tabular}{r|llllll}\n",
       "  & Ozone & Solar.R & Wind & Temp & Month & Day\\\\\n",
       "\\hline\n",
       "\t117 & 168 & 238 & 3.4 & 81  & 8   & 25 \\\\\n",
       "\t62 & 135 & 269 & 4.1 & 84  & 7   &  1 \\\\\n",
       "\t99 & 122 & 255 & 4.0 & 89  & 8   &  7 \\\\\n",
       "\t121 & 118 & 225 & 2.3 & 94  & 8   & 29 \\\\\n",
       "\t30 & 115 & 223 & 5.7 & 79  & 5   & 30 \\\\\n",
       "\t101 & 110 & 207 & 8.0 & 90  & 8   &  9 \\\\\n",
       "\t86 & 108 & 223 & 8.0 & 85  & 7   & 25 \\\\\n",
       "\t69 &  97 & 267 & 6.3 & 92  & 7   &  8 \\\\\n",
       "\t70 &  97 & 272 & 5.7 & 92  & 7   &  9 \\\\\n",
       "\t124 &  96 & 167 & 6.9 & 91  & 9   &  1 \\\\\n",
       "\\end{tabular}\n"
      ],
      "text/markdown": [
       "\n",
       "| <!--/--> | Ozone | Solar.R | Wind | Temp | Month | Day |\n",
       "|---|---|---|---|---|---|---|\n",
       "| 117 | 168 | 238 | 3.4 | 81  | 8   | 25  |\n",
       "| 62 | 135 | 269 | 4.1 | 84  | 7   |  1  |\n",
       "| 99 | 122 | 255 | 4.0 | 89  | 8   |  7  |\n",
       "| 121 | 118 | 225 | 2.3 | 94  | 8   | 29  |\n",
       "| 30 | 115 | 223 | 5.7 | 79  | 5   | 30  |\n",
       "| 101 | 110 | 207 | 8.0 | 90  | 8   |  9  |\n",
       "| 86 | 108 | 223 | 8.0 | 85  | 7   | 25  |\n",
       "| 69 |  97 | 267 | 6.3 | 92  | 7   |  8  |\n",
       "| 70 |  97 | 272 | 5.7 | 92  | 7   |  9  |\n",
       "| 124 |  96 | 167 | 6.9 | 91  | 9   |  1  |\n",
       "\n"
      ],
      "text/plain": [
       "    Ozone Solar.R Wind Temp Month Day\n",
       "117 168   238     3.4  81   8     25 \n",
       "62  135   269     4.1  84   7      1 \n",
       "99  122   255     4.0  89   8      7 \n",
       "121 118   225     2.3  94   8     29 \n",
       "30  115   223     5.7  79   5     30 \n",
       "101 110   207     8.0  90   8      9 \n",
       "86  108   223     8.0  85   7     25 \n",
       "69   97   267     6.3  92   7      8 \n",
       "70   97   272     5.7  92   7      9 \n",
       "124  96   167     6.9  91   9      1 "
      ]
     },
     "metadata": {},
     "output_type": "display_data"
    }
   ],
   "source": [
    "o<-order(df$Ozone, decreasing=TRUE)\n",
    "head(df[o,],10)"
   ]
  },
  {
   "cell_type": "code",
   "execution_count": 18,
   "metadata": {},
   "outputs": [],
   "source": [
    "df<-df[o,]"
   ]
  },
  {
   "cell_type": "code",
   "execution_count": 22,
   "metadata": {},
   "outputs": [],
   "source": [
    "df$Ozone<-ifelse(is.na(df$Ozone),df$Ozone[10], df$Ozone)"
   ]
  },
  {
   "cell_type": "code",
   "execution_count": 25,
   "metadata": {},
   "outputs": [
    {
     "data": {
      "text/html": [
       "<table>\n",
       "<thead><tr><th></th><th scope=col>Ozone</th><th scope=col>Solar.R</th><th scope=col>Wind</th><th scope=col>Temp</th><th scope=col>Month</th><th scope=col>Day</th></tr></thead>\n",
       "<tbody>\n",
       "\t<tr><th scope=row>102</th><td>96  </td><td>222 </td><td> 8.6</td><td>92  </td><td>8   </td><td>10  </td></tr>\n",
       "\t<tr><th scope=row>103</th><td>96  </td><td>137 </td><td>11.5</td><td>86  </td><td>8   </td><td>11  </td></tr>\n",
       "\t<tr><th scope=row>107</th><td>96  </td><td> 64 </td><td>11.5</td><td>79  </td><td>8   </td><td>15  </td></tr>\n",
       "\t<tr><th scope=row>115</th><td>96  </td><td>255 </td><td>12.6</td><td>75  </td><td>8   </td><td>23  </td></tr>\n",
       "\t<tr><th scope=row>119</th><td>96  </td><td>153 </td><td> 5.7</td><td>88  </td><td>8   </td><td>27  </td></tr>\n",
       "\t<tr><th scope=row>150</th><td>96  </td><td>145 </td><td>13.2</td><td>77  </td><td>9   </td><td>27  </td></tr>\n",
       "</tbody>\n",
       "</table>\n"
      ],
      "text/latex": [
       "\\begin{tabular}{r|llllll}\n",
       "  & Ozone & Solar.R & Wind & Temp & Month & Day\\\\\n",
       "\\hline\n",
       "\t102 & 96   & 222  &  8.6 & 92   & 8    & 10  \\\\\n",
       "\t103 & 96   & 137  & 11.5 & 86   & 8    & 11  \\\\\n",
       "\t107 & 96   &  64  & 11.5 & 79   & 8    & 15  \\\\\n",
       "\t115 & 96   & 255  & 12.6 & 75   & 8    & 23  \\\\\n",
       "\t119 & 96   & 153  &  5.7 & 88   & 8    & 27  \\\\\n",
       "\t150 & 96   & 145  & 13.2 & 77   & 9    & 27  \\\\\n",
       "\\end{tabular}\n"
      ],
      "text/markdown": [
       "\n",
       "| <!--/--> | Ozone | Solar.R | Wind | Temp | Month | Day |\n",
       "|---|---|---|---|---|---|---|\n",
       "| 102 | 96   | 222  |  8.6 | 92   | 8    | 10   |\n",
       "| 103 | 96   | 137  | 11.5 | 86   | 8    | 11   |\n",
       "| 107 | 96   |  64  | 11.5 | 79   | 8    | 15   |\n",
       "| 115 | 96   | 255  | 12.6 | 75   | 8    | 23   |\n",
       "| 119 | 96   | 153  |  5.7 | 88   | 8    | 27   |\n",
       "| 150 | 96   | 145  | 13.2 | 77   | 9    | 27   |\n",
       "\n"
      ],
      "text/plain": [
       "    Ozone Solar.R Wind Temp Month Day\n",
       "102 96    222      8.6 92   8     10 \n",
       "103 96    137     11.5 86   8     11 \n",
       "107 96     64     11.5 79   8     15 \n",
       "115 96    255     12.6 75   8     23 \n",
       "119 96    153      5.7 88   8     27 \n",
       "150 96    145     13.2 77   9     27 "
      ]
     },
     "metadata": {},
     "output_type": "display_data"
    }
   ],
   "source": [
    "tail(df)"
   ]
  },
  {
   "cell_type": "code",
   "execution_count": 27,
   "metadata": {},
   "outputs": [
    {
     "data": {
      "image/png": "[encoded data removed]",
      "text/plain": [
       "plot without title"
      ]
     },
     "metadata": {},
     "output_type": "display_data"
    }
   ],
   "source": [
    "boxplot(df$Ozone)"
   ]
  },
  {
   "cell_type": "markdown",
   "metadata": {},
   "source": [
    "- 이후 대체하기 이전의 Ozone의 평균값과 대체한 이후의 Ozone의 평균값의 차이 (절대값)를 구할 것."
   ]
  },
  {
   "cell_type": "code",
   "execution_count": 29,
   "metadata": {
    "scrolled": true
   },
   "outputs": [
    {
     "data": {
      "text/html": [
       "42.1293103448276"
      ],
      "text/latex": [
       "42.1293103448276"
      ],
      "text/markdown": [
       "42.1293103448276"
      ],
      "text/plain": [
       "[1] 42.12931"
      ]
     },
     "metadata": {},
     "output_type": "display_data"
    }
   ],
   "source": [
    "#raw데이터 ozone 평균\n",
    "m1<-mean(airquality$Ozone, na.rm=T) ; m1"
   ]
  },
  {
   "cell_type": "code",
   "execution_count": 30,
   "metadata": {},
   "outputs": [
    {
     "data": {
      "text/html": [
       "55.156862745098"
      ],
      "text/latex": [
       "55.156862745098"
      ],
      "text/markdown": [
       "55.156862745098"
      ],
      "text/plain": [
       "[1] 55.15686"
      ]
     },
     "metadata": {},
     "output_type": "display_data"
    }
   ],
   "source": [
    "#imputation 이후 평균\n",
    "m2<-mean(df$Ozone) ; m2"
   ]
  },
  {
   "cell_type": "code",
   "execution_count": 33,
   "metadata": {
    "scrolled": true
   },
   "outputs": [
    {
     "data": {
      "text/html": [
       "13.03"
      ],
      "text/latex": [
       "13.03"
      ],
      "text/markdown": [
       "13.03"
      ],
      "text/plain": [
       "[1] 13.03"
      ]
     },
     "metadata": {},
     "output_type": "display_data"
    }
   ],
   "source": [
    "abs(round(m1-m2,2))"
   ]
  },
  {
   "cell_type": "markdown",
   "metadata": {},
   "source": [
    "### 2.2. Solar.R 의 결측치를 평균값으로 대체할 것."
   ]
  },
  {
   "cell_type": "code",
   "execution_count": 35,
   "metadata": {},
   "outputs": [],
   "source": [
    "df$Solar.R<-ifelse(is.na(df$Solar.R),mean(df$Solar.R, na.rm=T), df$Solar.R)"
   ]
  },
  {
   "cell_type": "markdown",
   "metadata": {},
   "source": [
    "## 3. Scaling"
   ]
  },
  {
   "cell_type": "markdown",
   "metadata": {},
   "source": [
    "### 3.1 Min-Max scaling\n",
    "- 이후 Solar.R 변수와 Ozone 변수에 대해 min-max scaling을 진행할 것. (Min max scaling = normalization)"
   ]
  },
  {
   "cell_type": "code",
   "execution_count": 42,
   "metadata": {},
   "outputs": [],
   "source": [
    "min_max_norm <- function(x) {\n",
    "    (x - min(x)) / (max(x) - min(x))\n",
    "  }"
   ]
  },
  {
   "cell_type": "code",
   "execution_count": 43,
   "metadata": {},
   "outputs": [],
   "source": [
    "df_norm <- as.data.frame(lapply(df[1:2], min_max_norm))"
   ]
  },
  {
   "cell_type": "code",
   "execution_count": 44,
   "metadata": {},
   "outputs": [
    {
     "data": {
      "text/html": [
       "<table>\n",
       "<thead><tr><th scope=col>Ozone</th><th scope=col>Solar.R</th></tr></thead>\n",
       "<tbody>\n",
       "\t<tr><td>1.0000000</td><td>0.7064220</td></tr>\n",
       "\t<tr><td>0.8023952</td><td>0.8012232</td></tr>\n",
       "\t<tr><td>0.7245509</td><td>0.7584098</td></tr>\n",
       "\t<tr><td>0.7005988</td><td>0.6666667</td></tr>\n",
       "\t<tr><td>0.6826347</td><td>0.6605505</td></tr>\n",
       "\t<tr><td>0.6526946</td><td>0.6116208</td></tr>\n",
       "</tbody>\n",
       "</table>\n"
      ],
      "text/latex": [
       "\\begin{tabular}{r|ll}\n",
       " Ozone & Solar.R\\\\\n",
       "\\hline\n",
       "\t 1.0000000 & 0.7064220\\\\\n",
       "\t 0.8023952 & 0.8012232\\\\\n",
       "\t 0.7245509 & 0.7584098\\\\\n",
       "\t 0.7005988 & 0.6666667\\\\\n",
       "\t 0.6826347 & 0.6605505\\\\\n",
       "\t 0.6526946 & 0.6116208\\\\\n",
       "\\end{tabular}\n"
      ],
      "text/markdown": [
       "\n",
       "| Ozone | Solar.R |\n",
       "|---|---|\n",
       "| 1.0000000 | 0.7064220 |\n",
       "| 0.8023952 | 0.8012232 |\n",
       "| 0.7245509 | 0.7584098 |\n",
       "| 0.7005988 | 0.6666667 |\n",
       "| 0.6826347 | 0.6605505 |\n",
       "| 0.6526946 | 0.6116208 |\n",
       "\n"
      ],
      "text/plain": [
       "  Ozone     Solar.R  \n",
       "1 1.0000000 0.7064220\n",
       "2 0.8023952 0.8012232\n",
       "3 0.7245509 0.7584098\n",
       "4 0.7005988 0.6666667\n",
       "5 0.6826347 0.6605505\n",
       "6 0.6526946 0.6116208"
      ]
     },
     "metadata": {},
     "output_type": "display_data"
    }
   ],
   "source": [
    "head(df_norm)"
   ]
  },
  {
   "cell_type": "markdown",
   "metadata": {},
   "source": [
    "- 이후 Solar.R 변수의 최댓값과 Ozone.R 변수의 최솟값의 차이를 구할 것."
   ]
  },
  {
   "cell_type": "code",
   "execution_count": 46,
   "metadata": {},
   "outputs": [
    {
     "data": {
      "text/html": [
       "1"
      ],
      "text/latex": [
       "1"
      ],
      "text/markdown": [
       "1"
      ],
      "text/plain": [
       "[1] 1"
      ]
     },
     "metadata": {},
     "output_type": "display_data"
    }
   ],
   "source": [
    "max(df_norm[1])-min(df_norm[2])"
   ]
  }
 ],
 "metadata": {
  "kernelspec": {
   "display_name": "R",
   "language": "R",
   "name": "ir"
  },
  "language_info": {
   "codemirror_mode": "r",
   "file_extension": ".r",
   "mimetype": "text/x-r-source",
   "name": "R",
   "pygments_lexer": "r",
   "version": "3.6.1"
  },
  "toc": {
   "base_numbering": 1,
   "nav_menu": {},
   "number_sections": true,
   "sideBar": true,
   "skip_h1_title": false,
   "title_cell": "Table of Contents",
   "title_sidebar": "Contents",
   "toc_cell": false,
   "toc_position": {},
   "toc_section_display": true,
   "toc_window_display": false
  }
 },
 "nbformat": 4,
 "nbformat_minor": 4
}
