{
 "cells": [
  {
   "cell_type": "markdown",
   "metadata": {},
   "source": [
    "## Preprocessing"
   ]
  },
  {
   "cell_type": "markdown",
   "metadata": {},
   "source": [
    "###  Label Encoding : Converting Strings into Numbers"
   ]
  },
  {
   "cell_type": "code",
   "execution_count": 127,
   "metadata": {},
   "outputs": [],
   "source": [
    "df$cut<-as.numeric(df$cut) \n",
    "df$color<-as.numeric(df$color)\n",
    "df$clarity<-as.numeric(df$clarity)"
   ]
  },
  {
   "cell_type": "markdown",
   "metadata": {},
   "source": [
    "### Scaling"
   ]
  },
  {
   "cell_type": "code",
   "execution_count": 129,
   "metadata": {},
   "outputs": [],
   "source": [
    "df.scl<-data.frame(scale(df[,-7]))"
   ]
  },
  {
   "cell_type": "code",
   "execution_count": 131,
   "metadata": {},
   "outputs": [],
   "source": [
    "df.scl$price<-df$price #타겟 포함"
   ]
  },
  {
   "cell_type": "code",
   "execution_count": 132,
   "metadata": {},
   "outputs": [
    {
     "name": "stdout",
     "output_type": "stream",
     "text": [
      "'data.frame':\t53940 obs. of  10 variables:\n",
      " $ carat  : num  -1.2 -1.24 -1.2 -1.07 -1.03 ...\n",
      " $ cut    : num  0.9815 0.0859 -1.7053 0.0859 -1.7053 ...\n",
      " $ color  : num  -0.937 -0.937 -0.937 1.414 2.002 ...\n",
      " $ clarity: num  -1.245 -0.638 0.576 -0.031 -1.245 ...\n",
      " $ totdep : num  -0.174 -1.361 -3.385 0.454 1.082 ...\n",
      " $ table  : num  -1.1 1.586 3.376 0.243 0.243 ...\n",
      " $ length : num  -1.59 -1.64 -1.5 -1.36 -1.24 ...\n",
      " $ width  : num  -1.54 -1.66 -1.46 -1.32 -1.21 ...\n",
      " $ depth  : num  -1.57 -1.74 -1.74 -1.29 -1.12 ...\n",
      " $ price  : int  326 326 327 334 335 336 336 337 337 338 ...\n"
     ]
    }
   ],
   "source": [
    "str(df.scl)"
   ]
  },
  {
   "cell_type": "markdown",
   "metadata": {},
   "source": [
    "### PCA\n",
    "- At the previous EDA, `length(8)`, `width(9)`, `depth(10)` All three vars were highly correlated."
   ]
  },
  {
   "cell_type": "code",
   "execution_count": null,
   "metadata": {},
   "outputs": [],
   "source": [
    "library(psych)"
   ]
  },
  {
   "cell_type": "code",
   "execution_count": 137,
   "metadata": {
    "scrolled": true
   },
   "outputs": [
    {
     "data": {
      "text/plain": [
       "Principal Components Analysis\n",
       "Call: principal(r = df.scl[, 7:9], nfactors = 3, rotate = \"varimax\")\n",
       "Standardized loadings (pattern matrix) based upon correlation matrix\n",
       "        RC2  RC3  RC1 h2      u2 com\n",
       "length 0.60 0.61 0.52  1 1.1e-16 3.0\n",
       "width  0.55 0.76 0.36  1 3.3e-16 2.3\n",
       "depth  0.76 0.53 0.36  1 2.2e-16 2.3\n",
       "\n",
       "                       RC2  RC3  RC1\n",
       "SS loadings           1.24 1.22 0.54\n",
       "Proportion Var        0.41 0.41 0.18\n",
       "Cumulative Var        0.41 0.82 1.00\n",
       "Proportion Explained  0.41 0.41 0.18\n",
       "Cumulative Proportion 0.41 0.82 1.00\n",
       "\n",
       "Mean item complexity =  2.5\n",
       "Test of the hypothesis that 3 components are sufficient.\n",
       "\n",
       "The root mean square of the residuals (RMSR) is  0 \n",
       " with the empirical chi square  0  with prob <  NA \n",
       "\n",
       "Fit based upon off diagonal values = 1"
      ]
     },
     "metadata": {},
     "output_type": "display_data"
    }
   ],
   "source": [
    "pca<-principal(df.scl[,7:9], nfactors=3,rotate=\"varimax\"); pca"
   ]
  },
  {
   "cell_type": "markdown",
   "metadata": {},
   "source": [
    "- Use only RC2 + RC3 (Becuase Cumulative Var is 0.82 )"
   ]
  },
  {
   "cell_type": "code",
   "execution_count": 139,
   "metadata": {},
   "outputs": [
    {
     "data": {
      "text/html": [
       "<table>\n",
       "<thead><tr><th scope=col>RC2</th><th scope=col>RC3</th></tr></thead>\n",
       "<tbody>\n",
       "\t<tr><td>-1.0593010</td><td>-0.8860740</td></tr>\n",
       "\t<tr><td>-1.4009072</td><td>-1.0073271</td></tr>\n",
       "\t<tr><td>-1.8408313</td><td>-0.5281591</td></tr>\n",
       "\t<tr><td>-0.7074556</td><td>-0.8317483</td></tr>\n",
       "\t<tr><td>-0.4535444</td><td>-0.8759844</td></tr>\n",
       "\t<tr><td>-0.7932781</td><td>-1.0244476</td></tr>\n",
       "</tbody>\n",
       "</table>\n"
      ],
      "text/latex": [
       "\\begin{tabular}{r|ll}\n",
       " RC2 & RC3\\\\\n",
       "\\hline\n",
       "\t -1.0593010 & -0.8860740\\\\\n",
       "\t -1.4009072 & -1.0073271\\\\\n",
       "\t -1.8408313 & -0.5281591\\\\\n",
       "\t -0.7074556 & -0.8317483\\\\\n",
       "\t -0.4535444 & -0.8759844\\\\\n",
       "\t -0.7932781 & -1.0244476\\\\\n",
       "\\end{tabular}\n"
      ],
      "text/markdown": [
       "\n",
       "| RC2 | RC3 |\n",
       "|---|---|\n",
       "| -1.0593010 | -0.8860740 |\n",
       "| -1.4009072 | -1.0073271 |\n",
       "| -1.8408313 | -0.5281591 |\n",
       "| -0.7074556 | -0.8317483 |\n",
       "| -0.4535444 | -0.8759844 |\n",
       "| -0.7932781 | -1.0244476 |\n",
       "\n"
      ],
      "text/plain": [
       "  RC2        RC3       \n",
       "1 -1.0593010 -0.8860740\n",
       "2 -1.4009072 -1.0073271\n",
       "3 -1.8408313 -0.5281591\n",
       "4 -0.7074556 -0.8317483\n",
       "5 -0.4535444 -0.8759844\n",
       "6 -0.7932781 -1.0244476"
      ]
     },
     "metadata": {},
     "output_type": "display_data"
    }
   ],
   "source": [
    "pca.scr<-data.frame(pca$scores[,1:2]) ; head(pca.scr)"
   ]
  },
  {
   "cell_type": "code",
   "execution_count": 145,
   "metadata": {},
   "outputs": [],
   "source": [
    "#  Remove the col before.\n",
    "df.scl<-df.scl[,-c(7:10)]   "
   ]
  },
  {
   "cell_type": "code",
   "execution_count": 148,
   "metadata": {},
   "outputs": [],
   "source": [
    "# Bind the col about pca scores.\n",
    "df.pca<-cbind(df.scl,pca.scr)"
   ]
  },
  {
   "cell_type": "code",
   "execution_count": 151,
   "metadata": {},
   "outputs": [],
   "source": [
    "# Add a target\n",
    "df.pca$price<- df$price"
   ]
  },
  {
   "cell_type": "code",
   "execution_count": 152,
   "metadata": {},
   "outputs": [
    {
     "data": {
      "text/html": [
       "<table>\n",
       "<thead><tr><th scope=col>carat</th><th scope=col>cut</th><th scope=col>color</th><th scope=col>clarity</th><th scope=col>totdep</th><th scope=col>table</th><th scope=col>RC2</th><th scope=col>RC3</th><th scope=col>price</th></tr></thead>\n",
       "<tbody>\n",
       "\t<tr><td>-1.198157  </td><td> 0.98146422</td><td>-0.9371541 </td><td>-1.24520353</td><td>-0.1740899 </td><td>-1.0996618 </td><td>-1.0593010 </td><td>-0.8860740 </td><td>326        </td></tr>\n",
       "\t<tr><td>-1.240350  </td><td> 0.08588829</td><td>-0.9371541 </td><td>-0.63808915</td><td>-1.3607259 </td><td> 1.5855140 </td><td>-1.4009072 </td><td>-1.0073271 </td><td>326        </td></tr>\n",
       "\t<tr><td>-1.198157  </td><td>-1.70526357</td><td>-0.9371541 </td><td> 0.57613962</td><td>-3.3849872 </td><td> 3.3756312 </td><td>-1.8408313 </td><td>-0.5281591 </td><td>327        </td></tr>\n",
       "\t<tr><td>-1.071577  </td><td> 0.08588829</td><td> 1.4142590 </td><td>-0.03097476</td><td> 0.4541292 </td><td> 0.2429261 </td><td>-0.7074556 </td><td>-0.8317483 </td><td>334        </td></tr>\n",
       "\t<tr><td>-1.029384  </td><td>-1.70526357</td><td> 2.0021123 </td><td>-1.24520353</td><td> 1.0823482 </td><td> 0.2429261 </td><td>-0.4535444 </td><td>-0.8759844 </td><td>335        </td></tr>\n",
       "\t<tr><td>-1.177060  </td><td>-0.80968764</td><td> 2.0021123 </td><td> 1.18325400</td><td> 0.7333376 </td><td>-0.2046032 </td><td>-0.7932781 </td><td>-1.0244476 </td><td>336        </td></tr>\n",
       "</tbody>\n",
       "</table>\n"
      ],
      "text/latex": [
       "\\begin{tabular}{r|lllllllll}\n",
       " carat & cut & color & clarity & totdep & table & RC2 & RC3 & price\\\\\n",
       "\\hline\n",
       "\t -1.198157   &  0.98146422 & -0.9371541  & -1.24520353 & -0.1740899  & -1.0996618  & -1.0593010  & -0.8860740  & 326        \\\\\n",
       "\t -1.240350   &  0.08588829 & -0.9371541  & -0.63808915 & -1.3607259  &  1.5855140  & -1.4009072  & -1.0073271  & 326        \\\\\n",
       "\t -1.198157   & -1.70526357 & -0.9371541  &  0.57613962 & -3.3849872  &  3.3756312  & -1.8408313  & -0.5281591  & 327        \\\\\n",
       "\t -1.071577   &  0.08588829 &  1.4142590  & -0.03097476 &  0.4541292  &  0.2429261  & -0.7074556  & -0.8317483  & 334        \\\\\n",
       "\t -1.029384   & -1.70526357 &  2.0021123  & -1.24520353 &  1.0823482  &  0.2429261  & -0.4535444  & -0.8759844  & 335        \\\\\n",
       "\t -1.177060   & -0.80968764 &  2.0021123  &  1.18325400 &  0.7333376  & -0.2046032  & -0.7932781  & -1.0244476  & 336        \\\\\n",
       "\\end{tabular}\n"
      ],
      "text/markdown": [
       "\n",
       "| carat | cut | color | clarity | totdep | table | RC2 | RC3 | price |\n",
       "|---|---|---|---|---|---|---|---|---|\n",
       "| -1.198157   |  0.98146422 | -0.9371541  | -1.24520353 | -0.1740899  | -1.0996618  | -1.0593010  | -0.8860740  | 326         |\n",
       "| -1.240350   |  0.08588829 | -0.9371541  | -0.63808915 | -1.3607259  |  1.5855140  | -1.4009072  | -1.0073271  | 326         |\n",
       "| -1.198157   | -1.70526357 | -0.9371541  |  0.57613962 | -3.3849872  |  3.3756312  | -1.8408313  | -0.5281591  | 327         |\n",
       "| -1.071577   |  0.08588829 |  1.4142590  | -0.03097476 |  0.4541292  |  0.2429261  | -0.7074556  | -0.8317483  | 334         |\n",
       "| -1.029384   | -1.70526357 |  2.0021123  | -1.24520353 |  1.0823482  |  0.2429261  | -0.4535444  | -0.8759844  | 335         |\n",
       "| -1.177060   | -0.80968764 |  2.0021123  |  1.18325400 |  0.7333376  | -0.2046032  | -0.7932781  | -1.0244476  | 336         |\n",
       "\n"
      ],
      "text/plain": [
       "  carat     cut         color      clarity     totdep     table      RC2       \n",
       "1 -1.198157  0.98146422 -0.9371541 -1.24520353 -0.1740899 -1.0996618 -1.0593010\n",
       "2 -1.240350  0.08588829 -0.9371541 -0.63808915 -1.3607259  1.5855140 -1.4009072\n",
       "3 -1.198157 -1.70526357 -0.9371541  0.57613962 -3.3849872  3.3756312 -1.8408313\n",
       "4 -1.071577  0.08588829  1.4142590 -0.03097476  0.4541292  0.2429261 -0.7074556\n",
       "5 -1.029384 -1.70526357  2.0021123 -1.24520353  1.0823482  0.2429261 -0.4535444\n",
       "6 -1.177060 -0.80968764  2.0021123  1.18325400  0.7333376 -0.2046032 -0.7932781\n",
       "  RC3        price\n",
       "1 -0.8860740 326  \n",
       "2 -1.0073271 326  \n",
       "3 -0.5281591 327  \n",
       "4 -0.8317483 334  \n",
       "5 -0.8759844 335  \n",
       "6 -1.0244476 336  "
      ]
     },
     "metadata": {},
     "output_type": "display_data"
    }
   ],
   "source": [
    "head(df.pca) "
   ]
  },
  {
   "cell_type": "markdown",
   "metadata": {},
   "source": [
    "### Splitting the Dataset"
   ]
  },
  {
   "cell_type": "code",
   "execution_count": 153,
   "metadata": {},
   "outputs": [],
   "source": [
    "set.seed(2022)"
   ]
  },
  {
   "cell_type": "code",
   "execution_count": 156,
   "metadata": {},
   "outputs": [],
   "source": [
    "idx<-sample(2, nrow(df.pca), replace=TRUE, prob=c(0.7,0.3))"
   ]
  },
  {
   "cell_type": "code",
   "execution_count": 157,
   "metadata": {},
   "outputs": [],
   "source": [
    "train<-df.pca[idx==1,]\n",
    "test<-df.pca[idx==2,]"
   ]
  },
  {
   "cell_type": "code",
   "execution_count": 158,
   "metadata": {
    "scrolled": true
   },
   "outputs": [
    {
     "name": "stdout",
     "output_type": "stream",
     "text": [
      "'data.frame':\t37592 obs. of  9 variables:\n",
      " $ carat  : num  -1.24 -1.2 -1.07 -1.03 -1.18 ...\n",
      " $ cut    : num  0.0859 -1.7053 0.0859 -1.7053 -0.8097 ...\n",
      " $ color  : num  -0.937 -0.937 1.414 2.002 1.414 ...\n",
      " $ clarity: num  -0.638 0.576 -0.031 -1.245 1.79 ...\n",
      " $ totdep : num  -1.361 -3.385 0.454 1.082 0.384 ...\n",
      " $ table  : num  1.586 3.376 0.243 0.243 -0.205 ...\n",
      " $ RC2    : num  -1.401 -1.841 -0.707 -0.454 -0.873 ...\n",
      " $ RC3    : num  -1.007 -0.528 -0.832 -0.876 -0.959 ...\n",
      " $ price  : int  326 327 334 335 336 337 337 340 342 345 ...\n"
     ]
    }
   ],
   "source": [
    "str(train)"
   ]
  },
  {
   "cell_type": "code",
   "execution_count": 159,
   "metadata": {},
   "outputs": [
    {
     "name": "stdout",
     "output_type": "stream",
     "text": [
      "'data.frame':\t16348 obs. of  9 variables:\n",
      " $ carat  : num  -1.2 -1.18 -1.2 -1.05 -1.03 ...\n",
      " $ cut    : num  0.981 -0.81 -0.81 -1.705 0.981 ...\n",
      " $ color  : num  -0.937 2.002 0.826 2.002 2.002 ...\n",
      " $ clarity: num  -1.245 1.183 0.576 -0.638 -1.245 ...\n",
      " $ totdep : num  -0.174 0.733 -1.64 1.571 0.315 ...\n",
      " $ table  : num  -1.1 -0.205 1.586 -1.1 -1.547 ...\n",
      " $ RC2    : num  -1.059 -0.793 -1.381 -0.357 -0.673 ...\n",
      " $ RC3    : num  -0.886 -1.024 -0.669 -0.931 -0.756 ...\n",
      " $ price  : int  326 336 338 339 344 348 351 352 354 403 ...\n"
     ]
    }
   ],
   "source": [
    "str(test)"
   ]
  }
 ],
 "metadata": {
  "kernelspec": {
   "display_name": "R",
   "language": "R",
   "name": "ir"
  },
  "language_info": {
   "codemirror_mode": "r",
   "file_extension": ".r",
   "mimetype": "text/x-r-source",
   "name": "R",
   "pygments_lexer": "r",
   "version": "3.6.1"
  },
  "toc": {
   "base_numbering": 1,
   "nav_menu": {},
   "number_sections": true,
   "sideBar": true,
   "skip_h1_title": false,
   "title_cell": "Table of Contents",
   "title_sidebar": "Contents",
   "toc_cell": false,
   "toc_position": {},
   "toc_section_display": true,
   "toc_window_display": false
  }
 },
 "nbformat": 4,
 "nbformat_minor": 4
}
