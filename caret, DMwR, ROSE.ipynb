{
  "nbformat": 4,
  "nbformat_minor": 0,
  "metadata": {
    "colab": {
      "name": "Untitled25.ipynb",
      "provenance": [],
      "authorship_tag": "ABX9TyOUF4JwA5rhsn65LBB9MBfw",
      "include_colab_link": true
    },
    "kernelspec": {
      "name": "ir",
      "display_name": "R"
    },
    "language_info": {
      "name": "R"
    }
  },
  "cells": [
    {
      "cell_type": "markdown",
      "metadata": {
        "id": "view-in-github",
        "colab_type": "text"
      },
      "source": [
        "<a href=\"https://colab.research.google.com/github/min02yam/R-study/blob/main/caret%2C%20DMwR%2C%20ROSE.ipynb\" target=\"_parent\"><img src=\"https://colab.research.google.com/assets/colab-badge.svg\" alt=\"Open In Colab\"/></a>"
      ]
    },
    {
      "cell_type": "markdown",
      "source": [
        "https://thebook.io/006723/ch10/06/02/\n",
        "<br>\n",
        "http://topepo.github.io/caret/subsampling-for-class-imbalances.html\n",
        "<br>\n",
        "https://cran.r-project.org/web/packages/ROSE/ROSE.pdf\n",
        "<BR>\n",
        "https://www.rdocumentation.org/packages/ROSE/versions/0.0-4/topics/ROSE"
      ],
      "metadata": {
        "id": "Qmg21j0uHf--"
      }
    },
    {
      "cell_type": "code",
      "execution_count": null,
      "metadata": {
        "id": "7X4RSdQtHfKM"
      },
      "outputs": [],
      "source": [
        ""
      ]
    }
  ]
}