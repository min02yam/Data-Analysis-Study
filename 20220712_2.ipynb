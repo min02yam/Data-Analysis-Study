{
  "nbformat": 4,
  "nbformat_minor": 0,
  "metadata": {
    "colab": {
      "name": "Untitled24.ipynb",
      "provenance": [],
      "authorship_tag": "ABX9TyOdAssR0yJu1YeXQxz43BaO",
      "include_colab_link": true
    },
    "kernelspec": {
      "name": "ir",
      "display_name": "R"
    },
    "language_info": {
      "name": "R"
    }
  },
  "cells": [
    {
      "cell_type": "markdown",
      "metadata": {
        "id": "view-in-github",
        "colab_type": "text"
      },
      "source": [
        "<a href=\"https://colab.research.google.com/github/min02yam/R-study/blob/main/220712_%EB%AC%B8%EC%9E%90%EC%97%B4(2).ipynb\" target=\"_parent\"><img src=\"https://colab.research.google.com/assets/colab-badge.svg\" alt=\"Open In Colab\"/></a>"
      ]
    },
    {
      "cell_type": "markdown",
      "source": [
        "strsplit ->factor안됨 char변환"
      ],
      "metadata": {
        "id": "Yd0NBlOIfGKL"
      }
    },
    {
      "cell_type": "code",
      "source": [
        "system(\"gdown --id 1VKMr75H3Bu3px_rJXd9Y3KQikxKtJadN\")"
      ],
      "metadata": {
        "id": "p7m7MebNfFUr"
      },
      "execution_count": 1,
      "outputs": []
    },
    {
      "cell_type": "code",
      "source": [
        "require(data.table)\n",
        "require(dplyr)\n",
        "require(lubridate)\n",
        "require(magrittr)\n",
        "#require(purrr) #안씀"
      ],
      "metadata": {
        "colab": {
          "base_uri": "https://localhost:8080/"
        },
        "id": "djXTdPayfWYl",
        "outputId": "332e3baf-1198-472a-fb70-998f1487b970"
      },
      "execution_count": 2,
      "outputs": [
        {
          "output_type": "stream",
          "name": "stderr",
          "text": [
            "Loading required package: dplyr\n",
            "\n",
            "\n",
            "Attaching package: ‘dplyr’\n",
            "\n",
            "\n",
            "The following objects are masked from ‘package:stats’:\n",
            "\n",
            "    filter, lag\n",
            "\n",
            "\n",
            "The following objects are masked from ‘package:base’:\n",
            "\n",
            "    intersect, setdiff, setequal, union\n",
            "\n",
            "\n",
            "Loading required package: lubridate\n",
            "\n",
            "Warning message in system(\"timedatectl\", intern = TRUE):\n",
            "“running command 'timedatectl' had status 1”\n",
            "\n",
            "Attaching package: ‘lubridate’\n",
            "\n",
            "\n",
            "The following objects are masked from ‘package:base’:\n",
            "\n",
            "    date, intersect, setdiff, union\n",
            "\n",
            "\n",
            "Loading required package: magrittr\n",
            "\n"
          ]
        }
      ]
    },
    {
      "cell_type": "code",
      "source": [
        "df=read.csv(\"Worldcupgoals.csv\")"
      ],
      "metadata": {
        "id": "4z_5U8APfESZ"
      },
      "execution_count": 18,
      "outputs": []
    },
    {
      "cell_type": "code",
      "source": [
        "#df %>% class"
      ],
      "metadata": {
        "colab": {
          "base_uri": "https://localhost:8080/",
          "height": 34
        },
        "id": "gLugupvMovOp",
        "outputId": "737e3df1-cda5-43a1-8f31-19c5a515ad01"
      },
      "execution_count": null,
      "outputs": [
        {
          "output_type": "display_data",
          "data": {
            "text/html": [
              "'data.frame'"
            ],
            "text/markdown": "'data.frame'",
            "text/latex": "'data.frame'",
            "text/plain": [
              "[1] \"data.frame\""
            ]
          },
          "metadata": {}
        }
      ]
    },
    {
      "cell_type": "code",
      "source": [
        "df %>% head"
      ],
      "metadata": {
        "colab": {
          "base_uri": "https://localhost:8080/",
          "height": 286
        },
        "id": "MD20iHDRfiyd",
        "outputId": "54477023-0e51-4af0-f68a-f2251e8b98ab"
      },
      "execution_count": 6,
      "outputs": [
        {
          "output_type": "display_data",
          "data": {
            "text/html": [
              "<table class=\"dataframe\">\n",
              "<caption>A data.frame: 6 × 4</caption>\n",
              "<thead>\n",
              "\t<tr><th></th><th scope=col>Player</th><th scope=col>Goals</th><th scope=col>Years</th><th scope=col>Country</th></tr>\n",
              "\t<tr><th></th><th scope=col>&lt;fct&gt;</th><th scope=col>&lt;int&gt;</th><th scope=col>&lt;fct&gt;</th><th scope=col>&lt;fct&gt;</th></tr>\n",
              "</thead>\n",
              "<tbody>\n",
              "\t<tr><th scope=row>1</th><td>Miroslav Klose  </td><td>16</td><td>2002-2006-2010-2014</td><td>Germany</td></tr>\n",
              "\t<tr><th scope=row>2</th><td>Ronaldo         </td><td>15</td><td>1998-2002-2006     </td><td>Brazil </td></tr>\n",
              "\t<tr><th scope=row>3</th><td>Gerd Muller     </td><td>14</td><td>1970-1974          </td><td>Germany</td></tr>\n",
              "\t<tr><th scope=row>4</th><td>Just Fontaine   </td><td>13</td><td>1958               </td><td>France </td></tr>\n",
              "\t<tr><th scope=row>5</th><td>Pele            </td><td>12</td><td>1958-1962-1966-1970</td><td>Brazil </td></tr>\n",
              "\t<tr><th scope=row>6</th><td>Jurgen Klinsmann</td><td>11</td><td>1990-1994-1998     </td><td>Germany</td></tr>\n",
              "</tbody>\n",
              "</table>\n"
            ],
            "text/markdown": "\nA data.frame: 6 × 4\n\n| <!--/--> | Player &lt;fct&gt; | Goals &lt;int&gt; | Years &lt;fct&gt; | Country &lt;fct&gt; |\n|---|---|---|---|---|\n| 1 | Miroslav Klose   | 16 | 2002-2006-2010-2014 | Germany |\n| 2 | Ronaldo          | 15 | 1998-2002-2006      | Brazil  |\n| 3 | Gerd Muller      | 14 | 1970-1974           | Germany |\n| 4 | Just Fontaine    | 13 | 1958                | France  |\n| 5 | Pele             | 12 | 1958-1962-1966-1970 | Brazil  |\n| 6 | Jurgen Klinsmann | 11 | 1990-1994-1998      | Germany |\n\n",
            "text/latex": "A data.frame: 6 × 4\n\\begin{tabular}{r|llll}\n  & Player & Goals & Years & Country\\\\\n  & <fct> & <int> & <fct> & <fct>\\\\\n\\hline\n\t1 & Miroslav Klose   & 16 & 2002-2006-2010-2014 & Germany\\\\\n\t2 & Ronaldo          & 15 & 1998-2002-2006      & Brazil \\\\\n\t3 & Gerd Muller      & 14 & 1970-1974           & Germany\\\\\n\t4 & Just Fontaine    & 13 & 1958                & France \\\\\n\t5 & Pele             & 12 & 1958-1962-1966-1970 & Brazil \\\\\n\t6 & Jurgen Klinsmann & 11 & 1990-1994-1998      & Germany\\\\\n\\end{tabular}\n",
            "text/plain": [
              "  Player           Goals Years               Country\n",
              "1 Miroslav Klose   16    2002-2006-2010-2014 Germany\n",
              "2 Ronaldo          15    1998-2002-2006      Brazil \n",
              "3 Gerd Muller      14    1970-1974           Germany\n",
              "4 Just Fontaine    13    1958                France \n",
              "5 Pele             12    1958-1962-1966-1970 Brazil \n",
              "6 Jurgen Klinsmann 11    1990-1994-1998      Germany"
            ]
          },
          "metadata": {}
        }
      ]
    },
    {
      "cell_type": "code",
      "source": [
        "names(df)=tolower(names(df))"
      ],
      "metadata": {
        "id": "jMOxkjJQmW4l"
      },
      "execution_count": 20,
      "outputs": []
    },
    {
      "cell_type": "code",
      "source": [
        "df %>% head"
      ],
      "metadata": {
        "colab": {
          "base_uri": "https://localhost:8080/",
          "height": 286
        },
        "id": "EHF-a-n0f_lU",
        "outputId": "8486c077-3f01-4717-ef84-d3104426b8cd"
      },
      "execution_count": 8,
      "outputs": [
        {
          "output_type": "display_data",
          "data": {
            "text/html": [
              "<table class=\"dataframe\">\n",
              "<caption>A data.frame: 6 × 4</caption>\n",
              "<thead>\n",
              "\t<tr><th></th><th scope=col>player</th><th scope=col>goals</th><th scope=col>years</th><th scope=col>country</th></tr>\n",
              "\t<tr><th></th><th scope=col>&lt;fct&gt;</th><th scope=col>&lt;int&gt;</th><th scope=col>&lt;fct&gt;</th><th scope=col>&lt;fct&gt;</th></tr>\n",
              "</thead>\n",
              "<tbody>\n",
              "\t<tr><th scope=row>1</th><td>Miroslav Klose  </td><td>16</td><td>2002-2006-2010-2014</td><td>Germany</td></tr>\n",
              "\t<tr><th scope=row>2</th><td>Ronaldo         </td><td>15</td><td>1998-2002-2006     </td><td>Brazil </td></tr>\n",
              "\t<tr><th scope=row>3</th><td>Gerd Muller     </td><td>14</td><td>1970-1974          </td><td>Germany</td></tr>\n",
              "\t<tr><th scope=row>4</th><td>Just Fontaine   </td><td>13</td><td>1958               </td><td>France </td></tr>\n",
              "\t<tr><th scope=row>5</th><td>Pele            </td><td>12</td><td>1958-1962-1966-1970</td><td>Brazil </td></tr>\n",
              "\t<tr><th scope=row>6</th><td>Jurgen Klinsmann</td><td>11</td><td>1990-1994-1998     </td><td>Germany</td></tr>\n",
              "</tbody>\n",
              "</table>\n"
            ],
            "text/markdown": "\nA data.frame: 6 × 4\n\n| <!--/--> | player &lt;fct&gt; | goals &lt;int&gt; | years &lt;fct&gt; | country &lt;fct&gt; |\n|---|---|---|---|---|\n| 1 | Miroslav Klose   | 16 | 2002-2006-2010-2014 | Germany |\n| 2 | Ronaldo          | 15 | 1998-2002-2006      | Brazil  |\n| 3 | Gerd Muller      | 14 | 1970-1974           | Germany |\n| 4 | Just Fontaine    | 13 | 1958                | France  |\n| 5 | Pele             | 12 | 1958-1962-1966-1970 | Brazil  |\n| 6 | Jurgen Klinsmann | 11 | 1990-1994-1998      | Germany |\n\n",
            "text/latex": "A data.frame: 6 × 4\n\\begin{tabular}{r|llll}\n  & player & goals & years & country\\\\\n  & <fct> & <int> & <fct> & <fct>\\\\\n\\hline\n\t1 & Miroslav Klose   & 16 & 2002-2006-2010-2014 & Germany\\\\\n\t2 & Ronaldo          & 15 & 1998-2002-2006      & Brazil \\\\\n\t3 & Gerd Muller      & 14 & 1970-1974           & Germany\\\\\n\t4 & Just Fontaine    & 13 & 1958                & France \\\\\n\t5 & Pele             & 12 & 1958-1962-1966-1970 & Brazil \\\\\n\t6 & Jurgen Klinsmann & 11 & 1990-1994-1998      & Germany\\\\\n\\end{tabular}\n",
            "text/plain": [
              "  player           goals years               country\n",
              "1 Miroslav Klose   16    2002-2006-2010-2014 Germany\n",
              "2 Ronaldo          15    1998-2002-2006      Brazil \n",
              "3 Gerd Muller      14    1970-1974           Germany\n",
              "4 Just Fontaine    13    1958                France \n",
              "5 Pele             12    1958-1962-1966-1970 Brazil \n",
              "6 Jurgen Klinsmann 11    1990-1994-1998      Germany"
            ]
          },
          "metadata": {}
        }
      ]
    },
    {
      "cell_type": "markdown",
      "source": [
        "# 날짜 파싱"
      ],
      "metadata": {
        "id": "ZtFgapU3ga0n"
      }
    },
    {
      "cell_type": "code",
      "source": [
        "parse_date_time(df$years, orders=(\"0y\")) %>% head"
      ],
      "metadata": {
        "colab": {
          "base_uri": "https://localhost:8080/",
          "height": 92
        },
        "id": "rT_2T501gb8p",
        "outputId": "df969e64-188b-4de0-f64f-f4f2c03dabb4"
      },
      "execution_count": 9,
      "outputs": [
        {
          "output_type": "stream",
          "name": "stderr",
          "text": [
            "Warning message:\n",
            "“ 516 failed to parse.”\n"
          ]
        },
        {
          "output_type": "display_data",
          "data": {
            "text/plain": [
              "[1] NA               NA               NA               \"1958-01-01 UTC\"\n",
              "[5] NA               NA              "
            ]
          },
          "metadata": {}
        }
      ]
    },
    {
      "cell_type": "markdown",
      "source": [
        "- 일단 먼저 특수문자('-') 제거해서 나눠야함 "
      ],
      "metadata": {
        "id": "b-SMOIA5ibsh"
      }
    },
    {
      "cell_type": "code",
      "source": [
        "     strsplit(x, \"\", fixed=TRUE)\n",
        "    # tstrsplit(x, \"\", fixed=TRUE)\n",
        "    # tstrsplit(x, \"\", fixed=TRUE, fill=\"<NA>\")"
      ],
      "metadata": {
        "id": "MUrnhxB1i-Xm"
      },
      "execution_count": null,
      "outputs": []
    },
    {
      "cell_type": "code",
      "source": [
        "df %>% select(years)  %>% head"
      ],
      "metadata": {
        "colab": {
          "base_uri": "https://localhost:8080/",
          "height": 286
        },
        "id": "7VG6Fb9UjDz-",
        "outputId": "b77126fd-47ed-4957-dab7-2181aef9629a"
      },
      "execution_count": 10,
      "outputs": [
        {
          "output_type": "display_data",
          "data": {
            "text/html": [
              "<table class=\"dataframe\">\n",
              "<caption>A data.frame: 6 × 1</caption>\n",
              "<thead>\n",
              "\t<tr><th></th><th scope=col>years</th></tr>\n",
              "\t<tr><th></th><th scope=col>&lt;fct&gt;</th></tr>\n",
              "</thead>\n",
              "<tbody>\n",
              "\t<tr><th scope=row>1</th><td>2002-2006-2010-2014</td></tr>\n",
              "\t<tr><th scope=row>2</th><td>1998-2002-2006     </td></tr>\n",
              "\t<tr><th scope=row>3</th><td>1970-1974          </td></tr>\n",
              "\t<tr><th scope=row>4</th><td>1958               </td></tr>\n",
              "\t<tr><th scope=row>5</th><td>1958-1962-1966-1970</td></tr>\n",
              "\t<tr><th scope=row>6</th><td>1990-1994-1998     </td></tr>\n",
              "</tbody>\n",
              "</table>\n"
            ],
            "text/markdown": "\nA data.frame: 6 × 1\n\n| <!--/--> | years &lt;fct&gt; |\n|---|---|\n| 1 | 2002-2006-2010-2014 |\n| 2 | 1998-2002-2006      |\n| 3 | 1970-1974           |\n| 4 | 1958                |\n| 5 | 1958-1962-1966-1970 |\n| 6 | 1990-1994-1998      |\n\n",
            "text/latex": "A data.frame: 6 × 1\n\\begin{tabular}{r|l}\n  & years\\\\\n  & <fct>\\\\\n\\hline\n\t1 & 2002-2006-2010-2014\\\\\n\t2 & 1998-2002-2006     \\\\\n\t3 & 1970-1974          \\\\\n\t4 & 1958               \\\\\n\t5 & 1958-1962-1966-1970\\\\\n\t6 & 1990-1994-1998     \\\\\n\\end{tabular}\n",
            "text/plain": [
              "  years              \n",
              "1 2002-2006-2010-2014\n",
              "2 1998-2002-2006     \n",
              "3 1970-1974          \n",
              "4 1958               \n",
              "5 1958-1962-1966-1970\n",
              "6 1990-1994-1998     "
            ]
          },
          "metadata": {}
        }
      ]
    },
    {
      "cell_type": "code",
      "source": [
        "#?transpose"
      ],
      "metadata": {
        "id": "p3awfixjnkm1"
      },
      "execution_count": 29,
      "outputs": []
    },
    {
      "cell_type": "code",
      "source": [
        "strsplit(df$years , \"-\", fixed=TRUE) %>% transpose(fill=\"\") -> t_str_split"
      ],
      "metadata": {
        "id": "V0N-If9qmMmm"
      },
      "execution_count": 40,
      "outputs": []
    },
    {
      "cell_type": "code",
      "source": [
        "df['year_1st']=str_split_trans[[1]] \n",
        "df['year_2nd']=str_split_trans[[2]] \n",
        "df['year_3rd']=str_split_trans[[3]] \n",
        "df['year_4th']=str_split_trans[[4]] "
      ],
      "metadata": {
        "id": "eJNf_eiHoSVO"
      },
      "execution_count": 46,
      "outputs": []
    },
    {
      "cell_type": "code",
      "source": [
        "head(df) # 확인 완료 "
      ],
      "metadata": {
        "colab": {
          "base_uri": "https://localhost:8080/",
          "height": 514
        },
        "id": "Dird82MYoYKa",
        "outputId": "053f22ce-131a-4351-fb74-30786ee020b1"
      },
      "execution_count": 47,
      "outputs": [
        {
          "output_type": "display_data",
          "data": {
            "text/html": [
              "<table class=\"dataframe\">\n",
              "<caption>A data.frame: 6 × 9</caption>\n",
              "<thead>\n",
              "\t<tr><th></th><th scope=col>player</th><th scope=col>goals</th><th scope=col>years</th><th scope=col>country</th><th scope=col>year_first</th><th scope=col>year_1st</th><th scope=col>year_2nd</th><th scope=col>year_3rd</th><th scope=col>year_4th</th></tr>\n",
              "\t<tr><th></th><th scope=col>&lt;chr&gt;</th><th scope=col>&lt;int&gt;</th><th scope=col>&lt;chr&gt;</th><th scope=col>&lt;chr&gt;</th><th scope=col>&lt;chr&gt;</th><th scope=col>&lt;chr&gt;</th><th scope=col>&lt;chr&gt;</th><th scope=col>&lt;chr&gt;</th><th scope=col>&lt;chr&gt;</th></tr>\n",
              "</thead>\n",
              "<tbody>\n",
              "\t<tr><th scope=row>1</th><td>Miroslav Klose  </td><td>16</td><td>2002-2006-2010-2014</td><td>Germany</td><td>2002</td><td>2002</td><td>2006</td><td>2010</td><td>2014</td></tr>\n",
              "\t<tr><th scope=row>2</th><td>Ronaldo         </td><td>15</td><td>1998-2002-2006     </td><td>Brazil </td><td>1998</td><td>1998</td><td>2002</td><td>2006</td><td>    </td></tr>\n",
              "\t<tr><th scope=row>3</th><td>Gerd Muller     </td><td>14</td><td>1970-1974          </td><td>Germany</td><td>1970</td><td>1970</td><td>1974</td><td>    </td><td>    </td></tr>\n",
              "\t<tr><th scope=row>4</th><td>Just Fontaine   </td><td>13</td><td>1958               </td><td>France </td><td>1958</td><td>1958</td><td>    </td><td>    </td><td>    </td></tr>\n",
              "\t<tr><th scope=row>5</th><td>Pele            </td><td>12</td><td>1958-1962-1966-1970</td><td>Brazil </td><td>1958</td><td>1958</td><td>1962</td><td>1966</td><td>1970</td></tr>\n",
              "\t<tr><th scope=row>6</th><td>Jurgen Klinsmann</td><td>11</td><td>1990-1994-1998     </td><td>Germany</td><td>1990</td><td>1990</td><td>1994</td><td>1998</td><td>    </td></tr>\n",
              "</tbody>\n",
              "</table>\n"
            ],
            "text/markdown": "\nA data.frame: 6 × 9\n\n| <!--/--> | player &lt;chr&gt; | goals &lt;int&gt; | years &lt;chr&gt; | country &lt;chr&gt; | year_first &lt;chr&gt; | year_1st &lt;chr&gt; | year_2nd &lt;chr&gt; | year_3rd &lt;chr&gt; | year_4th &lt;chr&gt; |\n|---|---|---|---|---|---|---|---|---|---|\n| 1 | Miroslav Klose   | 16 | 2002-2006-2010-2014 | Germany | 2002 | 2002 | 2006 | 2010 | 2014 |\n| 2 | Ronaldo          | 15 | 1998-2002-2006      | Brazil  | 1998 | 1998 | 2002 | 2006 | <!----> |\n| 3 | Gerd Muller      | 14 | 1970-1974           | Germany | 1970 | 1970 | 1974 | <!----> | <!----> |\n| 4 | Just Fontaine    | 13 | 1958                | France  | 1958 | 1958 | <!----> | <!----> | <!----> |\n| 5 | Pele             | 12 | 1958-1962-1966-1970 | Brazil  | 1958 | 1958 | 1962 | 1966 | 1970 |\n| 6 | Jurgen Klinsmann | 11 | 1990-1994-1998      | Germany | 1990 | 1990 | 1994 | 1998 | <!----> |\n\n",
            "text/latex": "A data.frame: 6 × 9\n\\begin{tabular}{r|lllllllll}\n  & player & goals & years & country & year\\_first & year\\_1st & year\\_2nd & year\\_3rd & year\\_4th\\\\\n  & <chr> & <int> & <chr> & <chr> & <chr> & <chr> & <chr> & <chr> & <chr>\\\\\n\\hline\n\t1 & Miroslav Klose   & 16 & 2002-2006-2010-2014 & Germany & 2002 & 2002 & 2006 & 2010 & 2014\\\\\n\t2 & Ronaldo          & 15 & 1998-2002-2006      & Brazil  & 1998 & 1998 & 2002 & 2006 &     \\\\\n\t3 & Gerd Muller      & 14 & 1970-1974           & Germany & 1970 & 1970 & 1974 &      &     \\\\\n\t4 & Just Fontaine    & 13 & 1958                & France  & 1958 & 1958 &      &      &     \\\\\n\t5 & Pele             & 12 & 1958-1962-1966-1970 & Brazil  & 1958 & 1958 & 1962 & 1966 & 1970\\\\\n\t6 & Jurgen Klinsmann & 11 & 1990-1994-1998      & Germany & 1990 & 1990 & 1994 & 1998 &     \\\\\n\\end{tabular}\n",
            "text/plain": [
              "  player           goals years               country year_first year_1st\n",
              "1 Miroslav Klose   16    2002-2006-2010-2014 Germany 2002       2002    \n",
              "2 Ronaldo          15    1998-2002-2006      Brazil  1998       1998    \n",
              "3 Gerd Muller      14    1970-1974           Germany 1970       1970    \n",
              "4 Just Fontaine    13    1958                France  1958       1958    \n",
              "5 Pele             12    1958-1962-1966-1970 Brazil  1958       1958    \n",
              "6 Jurgen Klinsmann 11    1990-1994-1998      Germany 1990       1990    \n",
              "  year_2nd year_3rd year_4th\n",
              "1 2006     2010     2014    \n",
              "2 2002     2006             \n",
              "3 1974                      \n",
              "4                           \n",
              "5 1962     1966     1970    \n",
              "6 1994     1998             "
            ]
          },
          "metadata": {}
        }
      ]
    },
    {
      "cell_type": "markdown",
      "source": [
        "# 아래는 data.table"
      ],
      "metadata": {
        "id": "YHWsIwtYpXAu"
      }
    },
    {
      "cell_type": "code",
      "source": [
        "#df['years_1st']=tstrsplit(df$years, \"-\", fixed=TRUE)[[1]]\n",
        "#df['years_2nd']=tstrsplit(df$years, \"-\", fixed=TRUE)[[2]]\n",
        "#df['years_3rd']=tstrsplit(df$years, \"-\", fixed=TRUE)[[3]]\n",
        "#df['years_4th']=tstrsplit(df$years, \"-\", fixed=TRUE)[[4]]"
      ],
      "metadata": {
        "id": "9h35rFw6kvtT"
      },
      "execution_count": null,
      "outputs": []
    },
    {
      "cell_type": "code",
      "source": [
        "df [tstrsplit(df$years, \"-\", fixed=TRUE)[[1]], on = .(years), ]"
      ],
      "metadata": {
        "colab": {
          "base_uri": "https://localhost:8080/",
          "height": 381
        },
        "id": "TneeiRCImrIy",
        "outputId": "af621ab5-e82a-470a-d5f5-041b3a07f219"
      },
      "execution_count": null,
      "outputs": [
        {
          "output_type": "error",
          "ename": "ERROR",
          "evalue": "ignored",
          "traceback": [
            "Error in vecseq(f__, len__, if (allow.cartesian || notjoin || !anyDuplicated(f__, : Join results in 51704 rows; more than 2590 = nrow(x)+nrow(i). Check for duplicate key values in i each of which join to the same group in x over and over again. If that's ok, try by=.EACHI to run j for each group to avoid the large allocation. If you are sure you wish to proceed, rerun with allow.cartesian=TRUE. Otherwise, please search for this error message in the FAQ, Wiki, Stack Overflow and data.table issue tracker for advice.\nTraceback:\n",
            "1. df[tstrsplit(df$years, \"-\", fixed = TRUE)[[1]], on = .(years), \n .     ]",
            "2. `[.data.table`(df, tstrsplit(df$years, \"-\", fixed = TRUE)[[1]], \n .     on = .(years), )",
            "3. vecseq(f__, len__, if (allow.cartesian || notjoin || !anyDuplicated(f__, \n .     incomparables = c(0L, NA_integer_))) {\n .     NULL\n . } else as.double(nrow(x) + nrow(i)))"
          ]
        }
      ]
    },
    {
      "cell_type": "code",
      "source": [
        "tstrsplit(df$years, \"-\", fixed=TRUE)[[1]] %>% as.vector = df['years_1st']"
      ],
      "metadata": {
        "colab": {
          "base_uri": "https://localhost:8080/",
          "height": 307
        },
        "id": "1vbFSL4MkEMo",
        "outputId": "fcd43e8f-732f-4c76-8dab-f9538f367c14"
      },
      "execution_count": null,
      "outputs": [
        {
          "output_type": "error",
          "ename": "ERROR",
          "evalue": "ignored",
          "traceback": [
            "Error in `[.data.table`(df, \"years_1st\"): When i is a data.table (or character vector), the columns to join by must be specified using 'on=' argument (see ?data.table), by keying x (i.e. sorted, and, marked as sorted, see ?setkey), or by sharing column names between x and i (i.e., a natural join). Keyed joins might have further speed benefits on very large data due to x being sorted in RAM.\nTraceback:\n",
            "1. df[\"years_1st\"]",
            "2. `[.data.table`(df, \"years_1st\")",
            "3. stop(\"When i is a data.table (or character vector), the columns to join by must be specified using 'on=' argument (see ?data.table), by keying x (i.e. sorted, and, marked as sorted, see ?setkey), or by sharing column names between x and i (i.e., a natural join). Keyed joins might have further speed benefits on very large data due to x being sorted in RAM.\")"
          ]
        }
      ]
    }
  ]
}
