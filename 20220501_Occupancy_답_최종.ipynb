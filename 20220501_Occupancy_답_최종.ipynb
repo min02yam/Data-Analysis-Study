{
 "cells": [
  {
   "cell_type": "markdown",
   "metadata": {},
   "source": [
    "## 3. Occupancy Detection\n",
    "\n",
    "첨부된 'Occupancy Detection' 데이터를 활용하여 사람의 재실 여부를 예측하는 모델을 만드세요.\n",
    "\n",
    "- `Imputation`\n",
    "    1. 결측치가 있는 변수를 확인한 뒤\n",
    "    2. 결측치 변수를 첫 행부터 80%까지의 값의 중위수로 대체하세요.\n",
    "  - **-> 빅기사 기출 입니다.**\n",
    "- `Feature Engineering`\n",
    "    1. 'date'변수를 제외한 모든 피처에 min-max scaling을 시행하세요.\n",
    "    - **-> 장연훈 선생님 문제 참고했습니다.**\n",
    "- `Sampling`\n",
    "    1. 타겟(Occupancy)에 불균형이 있는지 확인한 뒤\n",
    "    2. 언더 샘플링 기법 중 단순 임의 추출법(Simple Random sampling)을 사용하여 불균형을 완화하세요.\n",
    "   - **-> ADP실기 1과목 기출 변형입니다. 원래는 샘플링 방법 3가지 쓰고 논리도 서술한 뒤 합당한 샘플링 방법 사용**\n",
    "- `Modeling`\n",
    "    1. 나이브 베이즈 모델을 만드세요.\n",
    "      - **-> ADP실기 2과목 기출 변형입니다. 원래는 베이지안 검정시행**\n",
    "    - Test set: 30%\n",
    "    - Target: `Occupancy`\n",
    "    - Feature: 'date'를 제외한 모든 변수 활용\n",
    "    - seed 번호: 2022\n",
    "    - 변수설명 (ref. [https://elapser.github.io/projects/2019/02/21/Projects-Naver.html](https://elapser.github.io/projects/2019/02/21/Projects-Naver.html))"
   ]
  },
  {
   "cell_type": "code",
   "execution_count": 29,
   "metadata": {
    "scrolled": true
   },
   "outputs": [],
   "source": [
    "library(dplyr) ; library(magrittr)"
   ]
  },
  {
   "cell_type": "markdown",
   "metadata": {},
   "source": [
    "### 3-1. Imputation"
   ]
  },
  {
   "cell_type": "markdown",
   "metadata": {},
   "source": [
    "- `step1)` 데이터 불러오기 및 간단한 구조 확인"
   ]
  },
  {
   "cell_type": "code",
   "execution_count": 38,
   "metadata": {},
   "outputs": [],
   "source": [
    "setwd(\"C:/Users/alsdu/Downloads/20220501_데이터분석 스터디\")\n",
    "df<-read.csv(\"Occupancy Detection.csv\")"
   ]
  },
  {
   "cell_type": "code",
   "execution_count": 16,
   "metadata": {},
   "outputs": [
    {
     "name": "stdout",
     "output_type": "stream",
     "text": [
      "'data.frame':\t17910 obs. of  7 variables:\n",
      " $ date         : Factor w/ 14573 levels \"2015-02-02 14:19\",..: 1 2 3 3 4 5 6 7 8 8 ...\n",
      " $ Temperature  : num  23.7 23.7 23.8 23.8 23.8 ...\n",
      " $ Humidity     : num  26.3 26.1 26.2 26.3 26.3 ...\n",
      " $ Light        : num  578 494 489 569 509 ...\n",
      " $ CO2          : num  760 775 779 790 797 ...\n",
      " $ HumidityRatio: num  0.00477 0.00474 0.00477 0.00478 0.00478 ...\n",
      " $ Occupancy    : int  1 1 1 1 1 1 1 1 1 1 ...\n"
     ]
    }
   ],
   "source": [
    "str(df)"
   ]
  },
  {
   "cell_type": "code",
   "execution_count": 17,
   "metadata": {
    "scrolled": true
   },
   "outputs": [
    {
     "data": {
      "text/plain": [
       "               date        Temperature       Humidity         Light        \n",
       " 2015-02-02 14:23:    2   Min.   :19.00   Min.   :16.75   Min.   : -99.00  \n",
       " 2015-02-02 14:31:    2   1st Qu.:20.10   1st Qu.:24.39   1st Qu.:   0.00  \n",
       " 2015-02-02 14:38:    2   Median :20.60   Median :27.20   Median :   0.00  \n",
       " 2015-02-02 14:51:    2   Mean   :20.75   Mean   :27.59   Mean   :  78.16  \n",
       " 2015-02-02 14:55:    2   3rd Qu.:21.20   3rd Qu.:31.29   3rd Qu.:  22.00  \n",
       " 2015-02-02 15:08:    2   Max.   :24.41   Max.   :39.50   Max.   :1581.00  \n",
       " (Other)         :17898                                                    \n",
       "      CO2         HumidityRatio        Occupancy     \n",
       " Min.   : 412.8   Min.   :0.002674   Min.   :0.0000  \n",
       " 1st Qu.: 453.0   1st Qu.:0.003702   1st Qu.:0.0000  \n",
       " Median : 532.7   Median :0.004222   Median :0.0000  \n",
       " Mean   : 647.7   Mean   :0.004175   Mean   :0.1173  \n",
       " 3rd Qu.: 722.0   3rd Qu.:0.004790   3rd Qu.:0.0000  \n",
       " Max.   :2076.5   Max.   :0.006461   Max.   :1.0000  \n",
       " NA's   :21                                          "
      ]
     },
     "metadata": {},
     "output_type": "display_data"
    }
   ],
   "source": [
    "summary(df)  #CO2변수에서 결측치 확인"
   ]
  },
  {
   "cell_type": "markdown",
   "metadata": {},
   "source": [
    "- `step2)` 데이터프레임 80% 추출"
   ]
  },
  {
   "cell_type": "code",
   "execution_count": 39,
   "metadata": {},
   "outputs": [
    {
     "name": "stdout",
     "output_type": "stream",
     "text": [
      "'data.frame':\t14328 obs. of  7 variables:\n",
      " $ date         : Factor w/ 14573 levels \"2015-02-02 14:19\",..: 1 2 3 3 4 5 6 7 8 8 ...\n",
      " $ Temperature  : num  23.7 23.7 23.8 23.8 23.8 ...\n",
      " $ Humidity     : num  26.3 26.1 26.2 26.3 26.3 ...\n",
      " $ Light        : num  578 494 489 569 509 ...\n",
      " $ CO2          : num  760 775 779 790 797 ...\n",
      " $ HumidityRatio: num  0.00477 0.00474 0.00477 0.00478 0.00478 ...\n",
      " $ Occupancy    : int  1 1 1 1 1 1 1 1 1 1 ...\n"
     ]
    }
   ],
   "source": [
    "n<-nrow(df)*0.8\n",
    "df2<-df[c(1:n),] ;str(df2)"
   ]
  },
  {
   "cell_type": "markdown",
   "metadata": {},
   "source": [
    "- `step3)` 추출한 데이터에서 결측 제외 후 중앙값 산출"
   ]
  },
  {
   "cell_type": "code",
   "execution_count": 22,
   "metadata": {},
   "outputs": [
    {
     "data": {
      "text/html": [
       "503.5"
      ],
      "text/latex": [
       "503.5"
      ],
      "text/markdown": [
       "503.5"
      ],
      "text/plain": [
       "[1] 503.5"
      ]
     },
     "metadata": {},
     "output_type": "display_data"
    }
   ],
   "source": [
    "M<-median(df2[,5], na.rm=T) ; M"
   ]
  },
  {
   "cell_type": "markdown",
   "metadata": {},
   "source": [
    "- `step 4)` 원래 데이터셋에서 결측값을 중앙값으로 imputation"
   ]
  },
  {
   "cell_type": "code",
   "execution_count": 40,
   "metadata": {},
   "outputs": [],
   "source": [
    "df[,5]<-ifelse(is.na(df[,5]), M,  df[,5])"
   ]
  },
  {
   "cell_type": "code",
   "execution_count": 35,
   "metadata": {
    "scrolled": true
   },
   "outputs": [
    {
     "data": {
      "text/plain": [
       "               date        Temperature       Humidity         Light        \n",
       " 2015-02-02 14:23:    2   Min.   :19.00   Min.   :16.75   Min.   : -99.00  \n",
       " 2015-02-02 14:31:    2   1st Qu.:20.10   1st Qu.:24.39   1st Qu.:   0.00  \n",
       " 2015-02-02 14:38:    2   Median :20.60   Median :27.20   Median :   0.00  \n",
       " 2015-02-02 14:51:    2   Mean   :20.75   Mean   :27.59   Mean   :  78.16  \n",
       " 2015-02-02 14:55:    2   3rd Qu.:21.20   3rd Qu.:31.29   3rd Qu.:  22.00  \n",
       " 2015-02-02 15:08:    2   Max.   :24.41   Max.   :39.50   Max.   :1581.00  \n",
       " (Other)         :17898                                                    \n",
       "      CO2         HumidityRatio        Occupancy     \n",
       " Min.   : 412.8   Min.   :0.002674   Min.   :0.0000  \n",
       " 1st Qu.: 453.0   1st Qu.:0.003702   1st Qu.:0.0000  \n",
       " Median : 532.5   Median :0.004222   Median :0.0000  \n",
       " Mean   : 647.5   Mean   :0.004175   Mean   :0.1173  \n",
       " 3rd Qu.: 722.0   3rd Qu.:0.004790   3rd Qu.:0.0000  \n",
       " Max.   :2076.5   Max.   :0.006461   Max.   :1.0000  \n",
       "                                                     "
      ]
     },
     "metadata": {},
     "output_type": "display_data"
    }
   ],
   "source": [
    "summary(df) # 확인"
   ]
  },
  {
   "cell_type": "markdown",
   "metadata": {},
   "source": [
    "### 3-2. Feature Engineering\n",
    "- min-max scaling"
   ]
  },
  {
   "cell_type": "code",
   "execution_count": 36,
   "metadata": {},
   "outputs": [],
   "source": [
    "min_max_norm <- function(x) { (x-min(x))/ (max(x)- min(x))}\n",
    "#df_norm <- as.data.frame(lapply(df[2:6], min_max_norm))"
   ]
  },
  {
   "cell_type": "code",
   "execution_count": 41,
   "metadata": {
    "scrolled": true
   },
   "outputs": [],
   "source": [
    "df %<>% mutate_at (       vars(Temperature,Humidity,Light,CO2,HumidityRatio ) , \n",
    "                   .funs=   min_max_norm    )"
   ]
  },
  {
   "cell_type": "markdown",
   "metadata": {},
   "source": [
    "### 3-3. Sampling"
   ]
  },
  {
   "cell_type": "markdown",
   "metadata": {},
   "source": [
    "- `Step1)` 타겟 불균형 확인"
   ]
  },
  {
   "cell_type": "code",
   "execution_count": 58,
   "metadata": {},
   "outputs": [
    {
     "data": {
      "text/plain": [
       "\n",
       "    0     1 \n",
       "15810  2100 "
      ]
     },
     "metadata": {},
     "output_type": "display_data"
    },
    {
     "data": {
      "image/png": "[encoded data removed]",
      "text/plain": [
       "plot without title"
      ]
     },
     "metadata": {},
     "output_type": "display_data"
    }
   ],
   "source": [
    "table(df[,7]) ;  barplot(table(df[,7]))"
   ]
  },
  {
   "cell_type": "code",
   "execution_count": 67,
   "metadata": {},
   "outputs": [
    {
     "data": {
      "text/plain": [
       "\n",
       "       0        1 \n",
       "88.27471 11.72529 "
      ]
     },
     "metadata": {},
     "output_type": "display_data"
    }
   ],
   "source": [
    "prop.table( table(df[7]) )*100   "
   ]
  },
  {
   "cell_type": "markdown",
   "metadata": {},
   "source": [
    "- 1) 액티브그룹이 전체에 대해서 약12%\n",
    "- 2) 위 문제의 경우는 확인해보니 괜찮은 밸런스였고 오히려 샘플이 부족하다고 할 수 있었습니다ㅠㅠ\n",
    "- 3) 원래 의도는 액티브 그룹을 모두 추출하고, 인액티브 그룹에서 임의추출 후 가중치 두기 -> 층화임의...??\n",
    "- ref.Data Mining Cookbook Robert Elliot (2001)"
   ]
  },
  {
   "cell_type": "markdown",
   "metadata": {},
   "source": [
    "- ~~`Step2)` simple random samling~~"
   ]
  },
  {
   "cell_type": "markdown",
   "metadata": {},
   "source": [
    "### 3-4. Modeling\n",
    "- 결과에 대한 전체 확률 추정, 여러 속성 정보 고려 \n",
    "- 독립을 가정(다른 사건의 정보가 한 사건의 결과에 대한 정보를 제공하지 못함)하기 때문에 본 데이터에서는 사실상 적절한 모델은 아니었음 (그러나 잘못된 가정에서도 잘 작동하는 이유, ref. On the optimality of the simple Bayesian classifier under zero-one loss)\n",
    "- 텍스트 분류에 많이 씀\n",
    "- 베이지안 기본 개념\n",
    ": 사건(결과)에 대한 가능도는(likelihood)는 시행(사건이 발생할 기회)에서 즉시 사용할 수 있는 증거를 기반으로 해서 추정해야 한다. (ref. R을 활용한 머신러닝, 브레트란츠)\n",
    "-나이브 베이즈 분류기를 사용하기 위해서 베이즈확률이나 그 외의 베이즈 기법을 사용할 필요는 없다.(ref. https://kugistory.tistory.com/72)\n",
    "- 본 데이터에서 사건:재실, 시행:date 라고 할 수 있음\n",
    "- 사전확률: P(Occupancy==1)    \n",
    "- 가능도: P(피처|Occupancy==1)\n",
    "- 주변가능도: P(피처)\n",
    "- 사후확률: 앞으로의 데이터에서의 P( Occupancy==1 |피처) "
   ]
  },
  {
   "cell_type": "markdown",
   "metadata": {},
   "source": [
    "-`step1)` split"
   ]
  },
  {
   "cell_type": "code",
   "execution_count": 71,
   "metadata": {},
   "outputs": [],
   "source": [
    "idx<-sample(1:nrow(df), nrow(df)*0.7, replace=FALSE )\n",
    "train<-df[idx,];test<-df[-idx,]"
   ]
  },
  {
   "cell_type": "code",
   "execution_count": 74,
   "metadata": {},
   "outputs": [
    {
     "name": "stdout",
     "output_type": "stream",
     "text": [
      "'data.frame':\t12537 obs. of  7 variables:\n",
      " $ date         : Factor w/ 14573 levels \"2015-02-02 14:19\",..: 3105 8319 13957 7533 8625 950 13145 726 12712 10981 ...\n",
      " $ Temperature  : num  0.423 0.608 0.222 0.239 0.37 ...\n",
      " $ Humidity     : num  0.2 0.439 0.609 0.718 0.468 ...\n",
      " $ Light        : num  0.331 0.3202 0.0589 0.0589 0.0589 ...\n",
      " $ CO2          : num  0.2538 0.0855 0.2027 0.0233 0.0879 ...\n",
      " $ HumidityRatio: num  0.172 0.469 0.477 0.581 0.406 ...\n",
      " $ Occupancy    : int  1 1 0 0 0 0 0 0 0 0 ...\n"
     ]
    }
   ],
   "source": [
    "str(train)"
   ]
  },
  {
   "cell_type": "markdown",
   "metadata": {},
   "source": [
    "- `step2)` Modeling"
   ]
  },
  {
   "cell_type": "code",
   "execution_count": 72,
   "metadata": {},
   "outputs": [
    {
     "name": "stderr",
     "output_type": "stream",
     "text": [
      "Warning message:\n",
      "\"package 'e1071' was built under R version 3.6.3\""
     ]
    }
   ],
   "source": [
    "library(e1071)"
   ]
  },
  {
   "cell_type": "code",
   "execution_count": 83,
   "metadata": {},
   "outputs": [],
   "source": [
    "nb<-naiveBayes(train[,-c(1,7)], train$Occupancy)"
   ]
  },
  {
   "cell_type": "code",
   "execution_count": 84,
   "metadata": {},
   "outputs": [],
   "source": [
    "pred<-predict(nb, test[,-c(1,7)])"
   ]
  },
  {
   "cell_type": "markdown",
   "metadata": {},
   "source": [
    "-`Step3)` 평가"
   ]
  },
  {
   "cell_type": "code",
   "execution_count": 86,
   "metadata": {
    "scrolled": false
   },
   "outputs": [
    {
     "name": "stderr",
     "output_type": "stream",
     "text": [
      "Warning message:\n",
      "\"package 'caret' was built under R version 3.6.3\"Loading required package: lattice\n",
      "Loading required package: ggplot2\n"
     ]
    }
   ],
   "source": [
    "library(caret)"
   ]
  },
  {
   "cell_type": "code",
   "execution_count": 88,
   "metadata": {
    "scrolled": true
   },
   "outputs": [
    {
     "data": {
      "text/plain": [
       "Confusion Matrix and Statistics\n",
       "\n",
       "          Reference\n",
       "Prediction    0    1\n",
       "         0 4529    5\n",
       "         1  187  652\n",
       "                                         \n",
       "               Accuracy : 0.9643         \n",
       "                 95% CI : (0.959, 0.9691)\n",
       "    No Information Rate : 0.8777         \n",
       "    P-Value [Acc > NIR] : < 2.2e-16      \n",
       "                                         \n",
       "                  Kappa : 0.8513         \n",
       "                                         \n",
       " Mcnemar's Test P-Value : < 2.2e-16      \n",
       "                                         \n",
       "            Sensitivity : 0.9924         \n",
       "            Specificity : 0.9603         \n",
       "         Pos Pred Value : 0.7771         \n",
       "         Neg Pred Value : 0.9989         \n",
       "             Prevalence : 0.1223         \n",
       "         Detection Rate : 0.1213         \n",
       "   Detection Prevalence : 0.1562         \n",
       "      Balanced Accuracy : 0.9764         \n",
       "                                         \n",
       "       'Positive' Class : 1              \n",
       "                                         "
      ]
     },
     "metadata": {},
     "output_type": "display_data"
    }
   ],
   "source": [
    "confusionMatrix(pred, as.factor(test[,7]), positive=\"1\")  #  Accuracy : 0.9643"
   ]
  },
  {
   "cell_type": "code",
   "execution_count": 89,
   "metadata": {},
   "outputs": [
    {
     "name": "stderr",
     "output_type": "stream",
     "text": [
      "Warning message:\n",
      "\"package 'pROC' was built under R version 3.6.3\"Type 'citation(\"pROC\")' for a citation.\n",
      "\n",
      "Attaching package: 'pROC'\n",
      "\n",
      "The following objects are masked from 'package:stats':\n",
      "\n",
      "    cov, smooth, var\n",
      "\n"
     ]
    }
   ],
   "source": [
    "library(pROC)"
   ]
  },
  {
   "cell_type": "code",
   "execution_count": 90,
   "metadata": {},
   "outputs": [
    {
     "name": "stderr",
     "output_type": "stream",
     "text": [
      "Setting levels: control = 0, case = 1\n",
      "Setting direction: controls < cases\n"
     ]
    },
    {
     "data": {
      "text/html": [
       "0.888006417411448"
      ],
      "text/latex": [
       "0.888006417411448"
      ],
      "text/markdown": [
       "0.888006417411448"
      ],
      "text/plain": [
       "Area under the curve: 0.888"
      ]
     },
     "metadata": {},
     "output_type": "display_data"
    },
    {
     "data": {
      "image/png": "[encoded data removed]",
      "text/plain": [
       "Plot with title \"ROC curve for test\""
      ]
     },
     "metadata": {},
     "output_type": "display_data"
    }
   ],
   "source": [
    "roc_test<-roc(  pred, test[,7]    ); auc(roc_test)    # 0.89\n",
    "plot.roc(roc_test, main=\"ROC curve for test\", col=\"blue\", legacy.axes=T)"
   ]
  }
 ],
 "metadata": {
  "kernelspec": {
   "display_name": "R",
   "language": "R",
   "name": "ir"
  },
  "language_info": {
   "codemirror_mode": "r",
   "file_extension": ".r",
   "mimetype": "text/x-r-source",
   "name": "R",
   "pygments_lexer": "r",
   "version": "3.6.1"
  },
  "toc": {
   "base_numbering": 1,
   "nav_menu": {},
   "number_sections": true,
   "sideBar": true,
   "skip_h1_title": false,
   "title_cell": "Table of Contents",
   "title_sidebar": "Contents",
   "toc_cell": false,
   "toc_position": {},
   "toc_section_display": true,
   "toc_window_display": false
  }
 },
 "nbformat": 4,
 "nbformat_minor": 4
}
