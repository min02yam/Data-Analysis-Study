{
  "cells": [
    {
      "cell_type": "markdown",
      "metadata": {
        "id": "view-in-github",
        "colab_type": "text"
      },
      "source": [
        "<a href=\"https://colab.research.google.com/github/min02yam/R-study/blob/main/23%ED%9A%8C_%ED%86%B5%EA%B3%84%EB%B6%84%EC%84%9D.ipynb\" target=\"_parent\"><img src=\"https://colab.research.google.com/assets/colab-badge.svg\" alt=\"Open In Colab\"/></a>"
      ]
    },
    {
      "cell_type": "markdown",
      "metadata": {
        "id": "XJNzkBGFjfsL"
      },
      "source": [
        "통계분석"
      ]
    },
    {
      "cell_type": "code",
      "source": [
        "require(data.table)"
      ],
      "metadata": {
        "colab": {
          "base_uri": "https://localhost:8080/"
        },
        "id": "mc3Cws6SQe6l",
        "outputId": "feeb1215-9924-4a94-b925-dc4ae43a73af"
      },
      "execution_count": 2,
      "outputs": [
        {
          "output_type": "stream",
          "name": "stderr",
          "text": [
            "Loading required package: data.table\n",
            "\n"
          ]
        }
      ]
    },
    {
      "cell_type": "markdown",
      "source": [
        "#2. \n",
        "진공관 수명이 10,000시간이라고 주장하여 12개의 표본을 추출하여 성능을 측정하였다. 5% 유의수준에서 부호검정으로 가설을 검정하시오. (15점)"
      ],
      "metadata": {
        "id": "yO-PaKCNJ3Wa"
      }
    },
    {
      "cell_type": "code",
      "source": [
        "#install.packages(\"BSDA\")\n",
        "library(BSDA)"
      ],
      "metadata": {
        "colab": {
          "base_uri": "https://localhost:8080/"
        },
        "id": "AeaCJCP-SGWC",
        "outputId": "45864886-dcea-4952-c60b-39d2d693c807"
      },
      "execution_count": 8,
      "outputs": [
        {
          "output_type": "stream",
          "name": "stderr",
          "text": [
            "Loading required package: lattice\n",
            "\n",
            "\n",
            "Attaching package: ‘BSDA’\n",
            "\n",
            "\n",
            "The following object is masked from ‘package:datasets’:\n",
            "\n",
            "    Orange\n",
            "\n",
            "\n"
          ]
        }
      ]
    },
    {
      "cell_type": "code",
      "source": [
        "#system(\"gdown --id 1W-hQcfUL0c_YCPbQqH0PL7OtYDtHt08l\")\n",
        "dt = fread(\"tube.csv\")"
      ],
      "metadata": {
        "id": "oPcRWJh5J2zA"
      },
      "execution_count": 17,
      "outputs": []
    },
    {
      "cell_type": "code",
      "source": [
        "head(dt)\n",
        "str(dt)"
      ],
      "metadata": {
        "colab": {
          "base_uri": "https://localhost:8080/",
          "height": 629
        },
        "id": "moK8ZWxVQmFR",
        "outputId": "dba797b5-de59-4904-f6f8-c5a9d5a42945"
      },
      "execution_count": 11,
      "outputs": [
        {
          "output_type": "display_data",
          "data": {
            "text/html": [
              "<table class=\"dataframe\">\n",
              "<caption>A data.frame: 6 × 1</caption>\n",
              "<thead>\n",
              "\t<tr><th></th><th scope=col>V1</th></tr>\n",
              "\t<tr><th></th><th scope=col>&lt;int&gt;</th></tr>\n",
              "</thead>\n",
              "<tbody>\n",
              "\t<tr><th scope=row>1</th><td> 9800</td></tr>\n",
              "\t<tr><th scope=row>2</th><td> 9900</td></tr>\n",
              "\t<tr><th scope=row>3</th><td>11000</td></tr>\n",
              "\t<tr><th scope=row>4</th><td>10000</td></tr>\n",
              "\t<tr><th scope=row>5</th><td> 8900</td></tr>\n",
              "\t<tr><th scope=row>6</th><td> 9100</td></tr>\n",
              "</tbody>\n",
              "</table>\n"
            ],
            "text/markdown": "\nA data.frame: 6 × 1\n\n| <!--/--> | V1 &lt;int&gt; |\n|---|---|\n| 1 |  9800 |\n| 2 |  9900 |\n| 3 | 11000 |\n| 4 | 10000 |\n| 5 |  8900 |\n| 6 |  9100 |\n\n",
            "text/latex": "A data.frame: 6 × 1\n\\begin{tabular}{r|l}\n  & V1\\\\\n  & <int>\\\\\n\\hline\n\t1 &  9800\\\\\n\t2 &  9900\\\\\n\t3 & 11000\\\\\n\t4 & 10000\\\\\n\t5 &  8900\\\\\n\t6 &  9100\\\\\n\\end{tabular}\n",
            "text/plain": [
              "  V1   \n",
              "1  9800\n",
              "2  9900\n",
              "3 11000\n",
              "4 10000\n",
              "5  8900\n",
              "6  9100"
            ]
          },
          "metadata": {}
        },
        {
          "output_type": "stream",
          "name": "stdout",
          "text": [
            "'data.frame':\t12 obs. of  1 variable:\n",
            " $ V1: int  9800 9900 11000 10000 8900 9100 10000 10005 9700 9500 ...\n"
          ]
        },
        {
          "output_type": "stream",
          "name": "stderr",
          "text": [
            "Warning message in xtfrm.data.frame(x):\n",
            "“cannot xtfrm data frames”\n"
          ]
        },
        {
          "output_type": "error",
          "ename": "ERROR",
          "evalue": "ignored",
          "traceback": [
            "Error in `[.data.frame`(x, order(x, na.last = na.last, decreasing = decreasing)): undefined columns selected\nTraceback:\n",
            "1. SIGN.test(dt, m = 10000)",
            "2. SIGN.test.default(dt, m = 10000)",
            "3. sort(x)",
            "4. sort.default(x)",
            "5. x[order(x, na.last = na.last, decreasing = decreasing)]",
            "6. `[.data.frame`(x, order(x, na.last = na.last, decreasing = decreasing))",
            "7. stop(\"undefined columns selected\")"
          ]
        }
      ]
    },
    {
      "cell_type": "code",
      "source": [
        "SIGN.test(dt[,1], m = 10000)"
      ],
      "metadata": {
        "colab": {
          "base_uri": "https://localhost:8080/",
          "height": 353
        },
        "id": "VOTyrciZSnmP",
        "outputId": "e4ce10b5-9780-4c33-cef0-420e0a709db3"
      },
      "execution_count": 15,
      "outputs": [
        {
          "output_type": "display_data",
          "data": {
            "text/plain": [
              "\n",
              "\tOne-sample Sign-Test\n",
              "\n",
              "data:  dt[, 1]\n",
              "s = 2, p-value = 0.1094\n",
              "alternative hypothesis: true median is not equal to 10000\n",
              "95 percent confidence interval:\n",
              "  9142.545 10000.000\n",
              "sample estimates:\n",
              "median of x \n",
              "       9850 \n",
              "\n",
              "Achieved and Interpolated Confidence Intervals: \n",
              "\n",
              "                  Conf.Level   L.E.pt U.E.pt\n",
              "Lower Achieved CI     0.8540 9500.000  10000\n",
              "Interpolated CI       0.9500 9142.546  10000\n",
              "Upper Achieved CI     0.9614 9100.000  10000\n"
            ]
          },
          "metadata": {}
        }
      ]
    },
    {
      "cell_type": "markdown",
      "source": [
        "## 2-1.\t\n",
        "연구가설과 귀무가설을 설정하시오. (5점)\n",
        "- `H_0`: 진공관 수명이 10,000시간 아님 <BR>\n",
        "- `H_A`: 진공관 수명 10,000시간임\n",
        "## 2-2.\t\n",
        "유효한 관측치의 수를 계산하시오. (5점)\n",
        "- 모르겠음\n",
        "## 2-3.\t\n",
        "검정통계량을 산출하고, 연구가설 채택여부를 결정하시오. (5점)\n",
        "- 검정통계량 2, 귀무가설 채택 연구가설 기각"
      ],
      "metadata": {
        "id": "MxstGOHjT2C7"
      }
    },
    {
      "cell_type": "markdown",
      "source": [
        "# 3. \n",
        "Covid-19 데이터 셋으로 시계열 군집분석을 5% 유의수준에서 실행하시오. (20점)\n",
        "\n"
      ],
      "metadata": {
        "id": "3jZoMxW3TjGx"
      }
    },
    {
      "cell_type": "code",
      "source": [
        "system(\"gdown --id 1bxhdQothv4_KL0iglTtTnYRHvb895-OP\")\n",
        "DT = fread(\"covid19.csv\")"
      ],
      "metadata": {
        "id": "t7z55VrmUlSF"
      },
      "execution_count": 3,
      "outputs": []
    },
    {
      "cell_type": "code",
      "source": [
        "require(dplyr)"
      ],
      "metadata": {
        "colab": {
          "base_uri": "https://localhost:8080/"
        },
        "id": "IZMopH_3myuL",
        "outputId": "ce1e1f3e-193a-4d93-e480-173e115d9220"
      },
      "execution_count": 18,
      "outputs": [
        {
          "output_type": "stream",
          "name": "stderr",
          "text": [
            "Loading required package: dplyr\n",
            "\n",
            "\n",
            "Attaching package: ‘dplyr’\n",
            "\n",
            "\n",
            "The following objects are masked from ‘package:data.table’:\n",
            "\n",
            "    between, first, last\n",
            "\n",
            "\n",
            "The following objects are masked from ‘package:stats’:\n",
            "\n",
            "    filter, lag\n",
            "\n",
            "\n",
            "The following objects are masked from ‘package:base’:\n",
            "\n",
            "    intersect, setdiff, setequal, union\n",
            "\n",
            "\n"
          ]
        }
      ]
    },
    {
      "cell_type": "markdown",
      "source": [
        "## 3-1.\t\n",
        "자기상관함수(ACF)를 이용하여 거리를 계산하시오. (10점)"
      ],
      "metadata": {
        "id": "VDWtKyfBVALD"
      }
    },
    {
      "cell_type": "code",
      "source": [
        "#install.packages(\"forecast\")\n",
        "library(forecast)"
      ],
      "metadata": {
        "colab": {
          "base_uri": "https://localhost:8080/"
        },
        "id": "1LIASNk1U9lz",
        "outputId": "a5cc6209-6721-41f8-aee8-933a8f1bbeb4"
      },
      "execution_count": 8,
      "outputs": [
        {
          "output_type": "stream",
          "name": "stderr",
          "text": [
            "Registered S3 method overwritten by 'quantmod':\n",
            "  method            from\n",
            "  as.zoo.data.frame zoo \n",
            "\n"
          ]
        }
      ]
    },
    {
      "cell_type": "code",
      "source": [
        "#.....????\n",
        "DT %>% select(Confirmed) %>% Acf(plot=F)\n",
        "??????\n",
        "이거 아닌 것 같음"
      ],
      "metadata": {
        "colab": {
          "base_uri": "https://localhost:8080/",
          "height": 185
        },
        "id": "jk7wPH3fl9jr",
        "outputId": "905ce0b8-26df-479e-8d03-cc89cd420cfe"
      },
      "execution_count": 20,
      "outputs": [
        {
          "output_type": "display_data",
          "data": {
            "text/plain": [
              "\n",
              "Autocorrelations of series ‘.’, by lag\n",
              "\n",
              "    0     1     2     3     4     5     6     7     8     9    10    11    12 \n",
              "1.000 0.995 0.991 0.986 0.981 0.977 0.972 0.967 0.963 0.958 0.953 0.949 0.944 \n",
              "   13    14    15    16    17    18    19    20    21    22    23    24    25 \n",
              "0.939 0.934 0.930 0.925 0.920 0.915 0.911 0.906 0.901 0.897 0.892 0.887 0.882 \n",
              "   26    27    28    29    30    31    32    33 \n",
              "0.878 0.873 0.868 0.863 0.859 0.854 0.849 0.844 "
            ]
          },
          "metadata": {}
        }
      ]
    },
    {
      "cell_type": "markdown",
      "source": [
        "## 3-2.\t\n",
        "앞의 [3-1] 문항의 결과를 이용하여 계층적 군집분석을 위한 덴드로그램을 작성하시오. (10점)\n"
      ],
      "metadata": {
        "id": "sdLwUdbrVC9f"
      }
    },
    {
      "cell_type": "code",
      "source": [
        "<공부중>\n",
        "acf를 이용한다는걸 잘 모르곘음 "
      ],
      "metadata": {
        "id": "snWgSyz2pkDQ"
      },
      "execution_count": null,
      "outputs": []
    },
    {
      "cell_type": "markdown",
      "source": [
        "# 4\n",
        "대학원생 130명을 대상으로 성적과 전공을 조사한 표이다. 학부 성적과 전공간에 관련이 있는지 5% 유의수준에서 검정하시오. (15점)"
      ],
      "metadata": {
        "id": "usGWbWImpyVc"
      }
    },
    {
      "cell_type": "code",
      "source": [
        "require(reshape2)"
      ],
      "metadata": {
        "colab": {
          "base_uri": "https://localhost:8080/"
        },
        "id": "MxyzjSFdthcm",
        "outputId": "102f1ce0-f2c4-4440-e9a0-afc59e6effc3"
      },
      "execution_count": 24,
      "outputs": [
        {
          "output_type": "stream",
          "name": "stderr",
          "text": [
            "Loading required package: reshape2\n",
            "\n",
            "\n",
            "Attaching package: ‘reshape2’\n",
            "\n",
            "\n",
            "The following objects are masked from ‘package:data.table’:\n",
            "\n",
            "    dcast, melt\n",
            "\n",
            "\n"
          ]
        }
      ]
    },
    {
      "cell_type": "code",
      "source": [
        "df = data.frame( 사회과학 = c(30, 8,12),\n",
        "  자연과학 = c(13, 16, 11),\n",
        "  공학 = c(16, 7, 17),\n",
        "  성적 = c(\"A\",\"B\",\"C\"))\n",
        "\n",
        "f=melt(id=\"성적\", df)\n",
        "xt = xtabs(value~ 성적+ variable, f)"
      ],
      "metadata": {
        "id": "IBehwPuZsIOh"
      },
      "execution_count": 31,
      "outputs": []
    },
    {
      "cell_type": "code",
      "source": [
        "chisq.test(xt)"
      ],
      "metadata": {
        "colab": {
          "base_uri": "https://localhost:8080/",
          "height": 110
        },
        "id": "z30zwD1ktq9b",
        "outputId": "999cbd83-88e6-49ac-96d6-54d5c6ef5c7d"
      },
      "execution_count": 33,
      "outputs": [
        {
          "output_type": "display_data",
          "data": {
            "text/plain": [
              "\n",
              "\tPearson's Chi-squared test\n",
              "\n",
              "data:  xt\n",
              "X-squared = 13.088, df = 4, p-value = 0.01085\n"
            ]
          },
          "metadata": {}
        }
      ]
    },
    {
      "cell_type": "markdown",
      "source": [
        "## 4-1.\t\n",
        "연구가설과 귀무가설을 설정하시오. (5점) <BR>\n",
        "-`H0`: 독립이다\n",
        "-`H_A`: 독립이아니다"
      ],
      "metadata": {
        "id": "SRDfbBuvuX8-"
      }
    },
    {
      "cell_type": "markdown",
      "source": [
        "## 4-2.\t\n",
        "학부 성적과 대학원 전공이 독립인 경우 기댓값을 구하시오. (5점)\n"
      ],
      "metadata": {
        "id": "NLkvvXeQujM2"
      }
    },
    {
      "cell_type": "code",
      "source": [
        "xt\n",
        "30+13+16\n",
        "8+16+7\n",
        "12+11+17\n",
        "\n",
        "30+8+12\n",
        "12+16+11\n",
        "16+7+17"
      ],
      "metadata": {
        "colab": {
          "base_uri": "https://localhost:8080/",
          "height": 110
        },
        "id": "tQ3ki8Vbu0wM",
        "outputId": "f56efee7-ca9b-4283-e812-87b2bda5086a"
      },
      "execution_count": 38,
      "outputs": [
        {
          "output_type": "display_data",
          "data": {
            "text/plain": [
              "    variable\n",
              "성적 사회과학 자연과학 공학\n",
              "   A       30       13   16\n",
              "   B        8       16    7\n",
              "   C       12       11   17"
            ]
          },
          "metadata": {}
        }
      ]
    },
    {
      "cell_type": "markdown",
      "source": [
        "## 4-3.\t\n",
        "검정통계량을 산출하고, 연구가설 채택여부를 결정하시오. (5점)\n"
      ],
      "metadata": {
        "id": "8HM-5se0u1rB"
      }
    }
  ],
  "metadata": {
    "accelerator": "GPU",
    "colab": {
      "collapsed_sections": [],
      "machine_shape": "hm",
      "provenance": [],
      "authorship_tag": "ABX9TyOaWZRtnOXtl+K9jHbZYDmx",
      "include_colab_link": true
    },
    "gpuClass": "standard",
    "kernelspec": {
      "display_name": "R",
      "name": "ir"
    },
    "language_info": {
      "name": "R"
    }
  },
  "nbformat": 4,
  "nbformat_minor": 0
}