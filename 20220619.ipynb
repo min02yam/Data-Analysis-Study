{
  "nbformat": 4,
  "nbformat_minor": 0,
  "metadata": {
    "colab": {
      "name": "20220619.ipynb",
      "provenance": [],
      "authorship_tag": "ABX9TyMdbMlgF6n2Y/i7dFgVccxt",
      "include_colab_link": true
    },
    "kernelspec": {
      "name": "ir",
      "display_name": "R"
    },
    "language_info": {
      "name": "R"
    },
    "accelerator": "GPU",
    "gpuClass": "standard"
  },
  "cells": [
    {
      "cell_type": "markdown",
      "metadata": {
        "id": "view-in-github",
        "colab_type": "text"
      },
      "source": [
        "<a href=\"https://colab.research.google.com/github/min02yam/R-study/blob/main/20220619.ipynb\" target=\"_parent\"><img src=\"https://colab.research.google.com/assets/colab-badge.svg\" alt=\"Open In Colab\"/></a>"
      ]
    },
    {
      "cell_type": "markdown",
      "source": [
        "2022.06.19 일"
      ],
      "metadata": {
        "id": "tbnyMR7Y28ar"
      }
    },
    {
      "cell_type": "code",
      "execution_count": 6,
      "metadata": {
        "id": "zO1GvEA-07oZ"
      },
      "outputs": [],
      "source": [
        "#install.packages(c(\"skimr\",\"dplyr\",\"DataExplorer\", \"pacman\"))\n",
        "pacman::p_load(\"skimr\",\"dplyr\",\"DataExplorer\")"
      ]
    },
    {
      "cell_type": "code",
      "source": [
        "system(\"gdown --id 1HzCy8hFuSZ2uQHMkssx8HxcrM6enAd_6\")"
      ],
      "metadata": {
        "id": "NqROcfJi2h6r"
      },
      "execution_count": 16,
      "outputs": []
    },
    {
      "cell_type": "markdown",
      "source": [
        ""
      ],
      "metadata": {
        "id": "EmzFGf3x3ACu"
      }
    },
    {
      "cell_type": "code",
      "source": [
        "train=read.csv(\"train.csv\" ,stringsAsFactors=TRUE)\n",
        "test=read.csv(\"test_x.csv\", stringsAsFactors=TRUE)"
      ],
      "metadata": {
        "id": "MPqs88to3ch2"
      },
      "execution_count": 120,
      "outputs": []
    },
    {
      "cell_type": "code",
      "source": [
        "skim(train)"
      ],
      "metadata": {
        "colab": {
          "base_uri": "https://localhost:8080/"
        },
        "id": "bEdBBhrT7XKs",
        "outputId": "0949861b-f810-4913-a6d7-cecf15f85a17"
      },
      "execution_count": 19,
      "outputs": [
        {
          "output_type": "stream",
          "name": "stdout",
          "text": [
            "── Data Summary ────────────────────────\n",
            "                           Values\n",
            "Name                       train \n",
            "Number of rows             35515 \n",
            "Number of columns          22    \n",
            "_______________________          \n",
            "Column type frequency:           \n",
            "  numeric                  22    \n",
            "________________________         \n",
            "Group variables            None  \n",
            "\n",
            "── Variable type: numeric ──────────────────────────────────────────────────────\n",
            "   skim_variable        n_missing complete_rate    mean    sd p0 p25 p50 p75\n",
            "\u001b[90m 1\u001b[39m Diabetes_binary              0             1  0.140  0.347  0   0   0   0\n",
            "\u001b[90m 2\u001b[39m HighBP                       0             1  0.429  0.495  0   0   0   1\n",
            "\u001b[90m 3\u001b[39m HighChol                     0             1  0.426  0.494  0   0   0   1\n",
            "\u001b[90m 4\u001b[39m CholCheck                    0             1  0.962  0.191  0   1   1   1\n",
            "\u001b[90m 5\u001b[39m BMI                          0             1 28.5    6.72  13  24  27  31\n",
            "\u001b[90m 6\u001b[39m Smoker                       0             1  0.446  0.497  0   0   0   1\n",
            "\u001b[90m 7\u001b[39m Stroke                       0             1  0.041\u001b[4m3\u001b[24m 0.199  0   0   0   0\n",
            "\u001b[90m 8\u001b[39m HeartDiseaseorAttack         0             1  0.094\u001b[4m9\u001b[24m 0.293  0   0   0   0\n",
            "\u001b[90m 9\u001b[39m PhysActivity                 0             1  0.757  0.429  0   1   1   1\n",
            "\u001b[90m10\u001b[39m Fruits                       0             1  0.630  0.483  0   0   1   1\n",
            "\u001b[90m11\u001b[39m Veggies                      0             1  0.811  0.391  0   1   1   1\n",
            "\u001b[90m12\u001b[39m HvyAlcoholConsump            0             1  0.057\u001b[4m1\u001b[24m 0.232  0   0   0   0\n",
            "\u001b[90m13\u001b[39m AnyHealthcare                0             1  0.950  0.218  0   1   1   1\n",
            "\u001b[90m14\u001b[39m NoDocbcCost                  0             1  0.087\u001b[4m3\u001b[24m 0.282  0   0   0   0\n",
            "\u001b[90m15\u001b[39m GenHlth                      0             1  2.52   1.07   1   2   2   3\n",
            "\u001b[90m16\u001b[39m MentHlth                     0             1  3.28   7.56   0   0   0   2\n",
            "\u001b[90m17\u001b[39m PhysHlth                     0             1  4.33   8.79   0   0   0   3\n",
            "\u001b[90m18\u001b[39m DiffWalk                     0             1  0.171  0.376  0   0   0   0\n",
            "\u001b[90m19\u001b[39m Sex                          0             1  0.439  0.496  0   0   0   1\n",
            "\u001b[90m20\u001b[39m Age                          0             1  8.01   3.06   1   6   8  10\n",
            "\u001b[90m21\u001b[39m Education                    0             1  5.05   0.983  1   4   5   6\n",
            "\u001b[90m22\u001b[39m Income                       0             1  6.05   2.08   1   5   7   8\n",
            "   p100 hist \n",
            "\u001b[90m 1\u001b[39m    1 ▇▁▁▁▁\n",
            "\u001b[90m 2\u001b[39m    1 ▇▁▁▁▆\n",
            "\u001b[90m 3\u001b[39m    1 ▇▁▁▁▆\n",
            "\u001b[90m 4\u001b[39m    1 ▁▁▁▁▇\n",
            "\u001b[90m 5\u001b[39m   98 ▇▃▁▁▁\n",
            "\u001b[90m 6\u001b[39m    1 ▇▁▁▁▆\n",
            "\u001b[90m 7\u001b[39m    1 ▇▁▁▁▁\n",
            "\u001b[90m 8\u001b[39m    1 ▇▁▁▁▁\n",
            "\u001b[90m 9\u001b[39m    1 ▂▁▁▁▇\n",
            "\u001b[90m10\u001b[39m    1 ▅▁▁▁▇\n",
            "\u001b[90m11\u001b[39m    1 ▂▁▁▁▇\n",
            "\u001b[90m12\u001b[39m    1 ▇▁▁▁▁\n",
            "\u001b[90m13\u001b[39m    1 ▁▁▁▁▇\n",
            "\u001b[90m14\u001b[39m    1 ▇▁▁▁▁\n",
            "\u001b[90m15\u001b[39m    5 ▃▇▇▃▁\n",
            "\u001b[90m16\u001b[39m   30 ▇▁▁▁▁\n",
            "\u001b[90m17\u001b[39m   30 ▇▁▁▁▁\n",
            "\u001b[90m18\u001b[39m    1 ▇▁▁▁▂\n",
            "\u001b[90m19\u001b[39m    1 ▇▁▁▁▆\n",
            "\u001b[90m20\u001b[39m   13 ▂▃▇▇▆\n",
            "\u001b[90m21\u001b[39m    6 ▁▁▅▅▇\n",
            "\u001b[90m22\u001b[39m    8 ▁▁▃▂▇\n"
          ]
        }
      ]
    },
    {
      "cell_type": "code",
      "source": [
        "skim(test)"
      ],
      "metadata": {
        "id": "-hUkANrK7e5e"
      },
      "execution_count": null,
      "outputs": []
    },
    {
      "cell_type": "code",
      "source": [
        "#plot_intro(train)\n",
        "#컬럼명 변경 \n",
        "names(train) <- tolower(names(train))\n",
        "#names(train)"
      ],
      "metadata": {
        "id": "LwAyOlL87nGS"
      },
      "execution_count": 122,
      "outputs": []
    },
    {
      "cell_type": "markdown",
      "source": [
        "주관적 건강인식 평균값과 BMI의 평균의 합을 각 성별에 따라 구한 뒤, 그 차이 구히걸"
      ],
      "metadata": {
        "id": "i78VmV-A5J_A"
      }
    },
    {
      "cell_type": "code",
      "source": [
        "train %>% group_by(sex) %>% mutate(genhlth_mean=mean(genhlth),\n",
        "                                   bmi_mean=mean(bmi) ) %>%\n",
        "                            summarise(genhlth_meanofsum=sum(genhlth_mean) , \n",
        "                                     bmi_meanofsum=sum(bmi_mean),\n",
        "                                     ANSWER=    abs(genhlth_meanofsum- bmi_meanofsum)\n",
        "                                    ) \n",
        "                            "
      ],
      "metadata": {
        "colab": {
          "base_uri": "https://localhost:8080/",
          "height": 161
        },
        "id": "FrrIwDT57tTZ",
        "outputId": "cd3a0205-9285-4d3b-e7b3-9417552b98cd"
      },
      "execution_count": 63,
      "outputs": [
        {
          "output_type": "display_data",
          "data": {
            "text/html": [
              "<table class=\"dataframe\">\n",
              "<caption>A tibble: 2 × 4</caption>\n",
              "<thead>\n",
              "\t<tr><th scope=col>sex</th><th scope=col>genhlth_meanofsum</th><th scope=col>bmi_meanofsum</th><th scope=col>ANSWER</th></tr>\n",
              "\t<tr><th scope=col>&lt;int&gt;</th><th scope=col>&lt;dbl&gt;</th><th scope=col>&lt;dbl&gt;</th><th scope=col>&lt;dbl&gt;</th></tr>\n",
              "</thead>\n",
              "<tbody>\n",
              "\t<tr><td>0</td><td>50439</td><td>563142</td><td>512703</td></tr>\n",
              "\t<tr><td>1</td><td>39104</td><td>447470</td><td>408366</td></tr>\n",
              "</tbody>\n",
              "</table>\n"
            ],
            "text/markdown": "\nA tibble: 2 × 4\n\n| sex &lt;int&gt; | genhlth_meanofsum &lt;dbl&gt; | bmi_meanofsum &lt;dbl&gt; | ANSWER &lt;dbl&gt; |\n|---|---|---|---|\n| 0 | 50439 | 563142 | 512703 |\n| 1 | 39104 | 447470 | 408366 |\n\n",
            "text/latex": "A tibble: 2 × 4\n\\begin{tabular}{llll}\n sex & genhlth\\_meanofsum & bmi\\_meanofsum & ANSWER\\\\\n <int> & <dbl> & <dbl> & <dbl>\\\\\n\\hline\n\t 0 & 50439 & 563142 & 512703\\\\\n\t 1 & 39104 & 447470 & 408366\\\\\n\\end{tabular}\n",
            "text/plain": [
              "  sex genhlth_meanofsum bmi_meanofsum ANSWER\n",
              "1 0   50439             563142        512703\n",
              "2 1   39104             447470        408366"
            ]
          },
          "metadata": {}
        }
      ]
    },
    {
      "cell_type": "markdown",
      "source": [
        "BMI 이상치가 있을 때의 값의 평균값과 이상치를 제거하여 결측치로 바꿨을 때의 평균값의 차이를 구할 것 (결측치는 그대로 두기)\n"
      ],
      "metadata": {
        "id": "4Md6zKMpBXIN"
      }
    },
    {
      "cell_type": "code",
      "source": [
        "quantile(train$BMI, probs = c( 0.25, 0.75 ))"
      ],
      "metadata": {
        "colab": {
          "base_uri": "https://localhost:8080/",
          "height": 34
        },
        "id": "FVkicFwr9e9s",
        "outputId": "8cba72d0-ad25-4f5c-8b2b-613e22a008c6"
      },
      "execution_count": 40,
      "outputs": [
        {
          "output_type": "display_data",
          "data": {
            "text/html": [
              "<style>\n",
              ".dl-inline {width: auto; margin:0; padding: 0}\n",
              ".dl-inline>dt, .dl-inline>dd {float: none; width: auto; display: inline-block}\n",
              ".dl-inline>dt::after {content: \":\\0020\"; padding-right: .5ex}\n",
              ".dl-inline>dt:not(:first-of-type) {padding-left: .5ex}\n",
              "</style><dl class=dl-inline><dt>25%</dt><dd>24</dd><dt>75%</dt><dd>31</dd></dl>\n"
            ],
            "text/markdown": "25%\n:   2475%\n:   31\n\n",
            "text/latex": "\\begin{description*}\n\\item[25\\textbackslash{}\\%] 24\n\\item[75\\textbackslash{}\\%] 31\n\\end{description*}\n",
            "text/plain": [
              "25% 75% \n",
              " 24  31 "
            ]
          },
          "metadata": {}
        }
      ]
    },
    {
      "cell_type": "code",
      "source": [
        "train$BMI_new = ifelse(train$BMI<24,NA, \n",
        "                                        ifelse(train$BMI>31, NA,  train$BMI ))"
      ],
      "metadata": {
        "id": "tsMhvlhLC_jW"
      },
      "execution_count": 47,
      "outputs": []
    },
    {
      "cell_type": "code",
      "source": [
        "train %>% summarise(mean(BMI)- mean(BMI_new, na.rm=TRUE ))"
      ],
      "metadata": {
        "colab": {
          "base_uri": "https://localhost:8080/",
          "height": 129
        },
        "id": "TQMOQEV0C-0r",
        "outputId": "3f1a3e35-c7c5-4a23-a862-106a84aace9c"
      },
      "execution_count": 53,
      "outputs": [
        {
          "output_type": "display_data",
          "data": {
            "text/html": [
              "<table class=\"dataframe\">\n",
              "<caption>A data.frame: 1 × 1</caption>\n",
              "<thead>\n",
              "\t<tr><th scope=col>mean(BMI) - mean(BMI_new, na.rm = TRUE)</th></tr>\n",
              "\t<tr><th scope=col>&lt;dbl&gt;</th></tr>\n",
              "</thead>\n",
              "<tbody>\n",
              "\t<tr><td>1.256426</td></tr>\n",
              "</tbody>\n",
              "</table>\n"
            ],
            "text/markdown": "\nA data.frame: 1 × 1\n\n| mean(BMI) - mean(BMI_new, na.rm = TRUE) &lt;dbl&gt; |\n|---|\n| 1.256426 |\n\n",
            "text/latex": "A data.frame: 1 × 1\n\\begin{tabular}{l}\n mean(BMI) - mean(BMI\\_new, na.rm = TRUE)\\\\\n <dbl>\\\\\n\\hline\n\t 1.256426\\\\\n\\end{tabular}\n",
            "text/plain": [
              "  mean(BMI) - mean(BMI_new, na.rm = TRUE)\n",
              "1 1.256426                               "
            ]
          },
          "metadata": {}
        }
      ]
    },
    {
      "cell_type": "markdown",
      "source": [
        "정신건강 안좋았던 일수와 신체건강 안좋았던 일수의 합을 구한 뒤 연 소득수준에 따라 가장 높은 소득구간과 가장 낮은 소득 구간을 구할 것<br>\n",
        "소득 구간별로 정신 + 신체건강 안좋았던 일수의 합의 평균을 구한 뒤, 이 값이 가장 높은 소득 구간과 가장 낮은 소득구간을 구하시면 됩니다\n"
      ],
      "metadata": {
        "id": "WY1a3-arCTtj"
      }
    },
    {
      "cell_type": "code",
      "source": [
        "'menthlth''physhlth'"
      ],
      "metadata": {
        "id": "nAyerWwEAweX"
      },
      "execution_count": 57,
      "outputs": []
    },
    {
      "cell_type": "code",
      "source": [
        "train %>% group_by(income) %>% \n",
        "         # mutate_at(vars(menthlth,physhlth), sum) %>%\n",
        "          summarise(sumofmean= sum( menthlth,physhlth )%>%mean ) %>%\n",
        "          arrange(-sumofmean)"
      ],
      "metadata": {
        "colab": {
          "base_uri": "https://localhost:8080/",
          "height": 349
        },
        "id": "HXMWtgZpFy_v",
        "outputId": "40270d10-f789-41e3-cd37-518f8f13651f"
      },
      "execution_count": 72,
      "outputs": [
        {
          "output_type": "display_data",
          "data": {
            "text/html": [
              "<table class=\"dataframe\">\n",
              "<caption>A tibble: 8 × 2</caption>\n",
              "<thead>\n",
              "\t<tr><th scope=col>income</th><th scope=col>sumofmean</th></tr>\n",
              "\t<tr><th scope=col>&lt;int&gt;</th><th scope=col>&lt;dbl&gt;</th></tr>\n",
              "</thead>\n",
              "<tbody>\n",
              "\t<tr><td>8</td><td>54087</td></tr>\n",
              "\t<tr><td>6</td><td>35778</td></tr>\n",
              "\t<tr><td>7</td><td>34655</td></tr>\n",
              "\t<tr><td>4</td><td>31877</td></tr>\n",
              "\t<tr><td>5</td><td>30338</td></tr>\n",
              "\t<tr><td>3</td><td>29047</td></tr>\n",
              "\t<tr><td>1</td><td>27637</td></tr>\n",
              "\t<tr><td>2</td><td>26686</td></tr>\n",
              "</tbody>\n",
              "</table>\n"
            ],
            "text/markdown": "\nA tibble: 8 × 2\n\n| income &lt;int&gt; | sumofmean &lt;dbl&gt; |\n|---|---|\n| 8 | 54087 |\n| 6 | 35778 |\n| 7 | 34655 |\n| 4 | 31877 |\n| 5 | 30338 |\n| 3 | 29047 |\n| 1 | 27637 |\n| 2 | 26686 |\n\n",
            "text/latex": "A tibble: 8 × 2\n\\begin{tabular}{ll}\n income & sumofmean\\\\\n <int> & <dbl>\\\\\n\\hline\n\t 8 & 54087\\\\\n\t 6 & 35778\\\\\n\t 7 & 34655\\\\\n\t 4 & 31877\\\\\n\t 5 & 30338\\\\\n\t 3 & 29047\\\\\n\t 1 & 27637\\\\\n\t 2 & 26686\\\\\n\\end{tabular}\n",
            "text/plain": [
              "  income sumofmean\n",
              "1 8      54087    \n",
              "2 6      35778    \n",
              "3 7      34655    \n",
              "4 4      31877    \n",
              "5 5      30338    \n",
              "6 3      29047    \n",
              "7 1      27637    \n",
              "8 2      26686    "
            ]
          },
          "metadata": {}
        }
      ]
    },
    {
      "cell_type": "markdown",
      "source": [
        "1. 이상치 제거: 연속형 변수들의 이상치를 NA로 처리\n",
        "2. 결측치 대체: NA를 적절한 값으로 대체하기 (e.g., mean, median)\n",
        "3. 범주형 변수, 연속형 변수는 변수형태에 알맞게 처리\n",
        "4. 로지스틱, randomforest 등 자신이 자신있는 알고리즘 사용하여 모델링\n",
        "train데이터 제공. train 후 모델링하여 predict 했을 때 당뇨라고 예측할 확률 제출"
      ],
      "metadata": {
        "id": "hPS6zmUFKbX9"
      }
    },
    {
      "cell_type": "code",
      "source": [
        "#범주형 변수 확인 \n",
        "plot_bar(train)"
      ],
      "metadata": {
        "colab": {
          "base_uri": "https://localhost:8080/",
          "height": 857
        },
        "id": "HiaM1lRmLa3l",
        "outputId": "35197cef-7c69-4c53-980d-5ec9fa027c74"
      },
      "execution_count": 75,
      "outputs": [
        {
          "output_type": "display_data",
          "data": {
            "text/plain": [
              "plot without title"
            ],
            "image/png": "[encoded data removed]"
          },
          "metadata": {
            "image/png": {
              "width": 420,
              "height": 420
            }
          }
        },
        {
          "output_type": "display_data",
          "data": {
            "text/plain": [
              "plot without title"
            ],
            "image/png": "[encoded data removed]"
          },
          "metadata": {
            "image/png": {
              "width": 420,
              "height": 420
            }
          }
        }
      ]
    },
    {
      "cell_type": "code",
      "source": [
        "plot_histogram(train)"
      ],
      "metadata": {
        "colab": {
          "base_uri": "https://localhost:8080/",
          "height": 437
        },
        "id": "29oxHf1qLNa_",
        "outputId": "b821f073-0d6d-4805-91f2-41e56d2f301b"
      },
      "execution_count": 74,
      "outputs": [
        {
          "output_type": "display_data",
          "data": {
            "text/plain": [
              "plot without title"
            ],
            "image/png": "[encoded data removed]"
          },
          "metadata": {
            "image/png": {
              "width": 420,
              "height": 420
            }
          }
        }
      ]
    },
    {
      "cell_type": "code",
      "source": [
        "#colnames(train)\n",
        "#plot_boxplot(train, by=\"diabetes_binary\")"
      ],
      "metadata": {
        "id": "8rsE-W0mNGzO"
      },
      "execution_count": null,
      "outputs": []
    },
    {
      "cell_type": "code",
      "source": [
        "table(train$menthlth)"
      ],
      "metadata": {
        "colab": {
          "base_uri": "https://localhost:8080/",
          "height": 145
        },
        "id": "TBSVH4TGLq5v",
        "outputId": "3543a708-211c-4cd7-9342-c290bba3a7a9"
      },
      "execution_count": 80,
      "outputs": [
        {
          "output_type": "display_data",
          "data": {
            "text/plain": [
              "\n",
              "    0     1     2     3     4     5     6     7     8     9    10    11    12 \n",
              "24539  1194  1743  1062   527  1269   139   417    83    18   914     4    57 \n",
              "   13    14    15    16    17    18    19    20    21    22    23    24    25 \n",
              "    6   149   764    11     3     7     3   500    31    14     7     5   171 \n",
              "   26    27    28    29    30 \n",
              "    3    15    47    25  1788 "
            ]
          },
          "metadata": {}
        }
      ]
    },
    {
      "cell_type": "code",
      "source": [
        "quantile(train$menthlth)"
      ],
      "metadata": {
        "colab": {
          "base_uri": "https://localhost:8080/",
          "height": 34
        },
        "id": "1MxnX12_Mnms",
        "outputId": "172518b1-da98-44e1-fd1a-a3ebfef8965c"
      },
      "execution_count": 81,
      "outputs": [
        {
          "output_type": "display_data",
          "data": {
            "text/html": [
              "<style>\n",
              ".dl-inline {width: auto; margin:0; padding: 0}\n",
              ".dl-inline>dt, .dl-inline>dd {float: none; width: auto; display: inline-block}\n",
              ".dl-inline>dt::after {content: \":\\0020\"; padding-right: .5ex}\n",
              ".dl-inline>dt:not(:first-of-type) {padding-left: .5ex}\n",
              "</style><dl class=dl-inline><dt>0%</dt><dd>0</dd><dt>25%</dt><dd>0</dd><dt>50%</dt><dd>0</dd><dt>75%</dt><dd>2</dd><dt>100%</dt><dd>30</dd></dl>\n"
            ],
            "text/markdown": "0%\n:   025%\n:   050%\n:   075%\n:   2100%\n:   30\n\n",
            "text/latex": "\\begin{description*}\n\\item[0\\textbackslash{}\\%] 0\n\\item[25\\textbackslash{}\\%] 0\n\\item[50\\textbackslash{}\\%] 0\n\\item[75\\textbackslash{}\\%] 2\n\\item[100\\textbackslash{}\\%] 30\n\\end{description*}\n",
            "text/plain": [
              "  0%  25%  50%  75% 100% \n",
              "   0    0    0    2   30 "
            ]
          },
          "metadata": {}
        }
      ]
    },
    {
      "cell_type": "code",
      "source": [
        "table(train$physhlth)\n",
        "quantile(train$physhlth)"
      ],
      "metadata": {
        "colab": {
          "base_uri": "https://localhost:8080/",
          "height": 162
        },
        "id": "QPFwWEIaNBe3",
        "outputId": "386aac1b-123f-48d7-916b-08089cb0a224"
      },
      "execution_count": 93,
      "outputs": [
        {
          "output_type": "display_data",
          "data": {
            "text/plain": [
              "\n",
              "    0     1     2     3     4     5     6     7     8     9    10    11    12 \n",
              "22249  1590  2146  1169   622  1020   165   672   102    22   845     8    82 \n",
              "   13    14    15    16    17    18    19    20    21    22    23    24    25 \n",
              "   10   354   720    21    16    20     2   446   111     8     9    14   194 \n",
              "   26    27    28    29    30 \n",
              "    8    11    71    26  2782 "
            ]
          },
          "metadata": {}
        },
        {
          "output_type": "display_data",
          "data": {
            "text/html": [
              "<style>\n",
              ".dl-inline {width: auto; margin:0; padding: 0}\n",
              ".dl-inline>dt, .dl-inline>dd {float: none; width: auto; display: inline-block}\n",
              ".dl-inline>dt::after {content: \":\\0020\"; padding-right: .5ex}\n",
              ".dl-inline>dt:not(:first-of-type) {padding-left: .5ex}\n",
              "</style><dl class=dl-inline><dt>0%</dt><dd>0</dd><dt>25%</dt><dd>0</dd><dt>50%</dt><dd>0</dd><dt>75%</dt><dd>3</dd><dt>100%</dt><dd>30</dd></dl>\n"
            ],
            "text/markdown": "0%\n:   025%\n:   050%\n:   075%\n:   3100%\n:   30\n\n",
            "text/latex": "\\begin{description*}\n\\item[0\\textbackslash{}\\%] 0\n\\item[25\\textbackslash{}\\%] 0\n\\item[50\\textbackslash{}\\%] 0\n\\item[75\\textbackslash{}\\%] 3\n\\item[100\\textbackslash{}\\%] 30\n\\end{description*}\n",
            "text/plain": [
              "  0%  25%  50%  75% 100% \n",
              "   0    0    0    3   30 "
            ]
          },
          "metadata": {}
        }
      ]
    },
    {
      "cell_type": "markdown",
      "source": [
        "#정리 \n",
        "1. `physhlth`, `menthlth` : 0, 1-5, 6-10, 11-15, 16-20, 21-25, 26-30 -> 7개로 범주 재조정\n",
        "2. bmi만 conti로 간주\n",
        "3. 민맥스놈\n",
        "4. 타켓 불균형 -> SMOTE 샘플링\n",
        "5. 랜포\n"
      ],
      "metadata": {
        "id": "RqtLHGN7OufJ"
      }
    },
    {
      "cell_type": "markdown",
      "source": [
        "## 1. 범주형 "
      ],
      "metadata": {
        "id": "UWUIL7QbRkQG"
      }
    },
    {
      "cell_type": "code",
      "source": [
        "# 함수생성\n",
        "cat= function(x){\n",
        "  x=case_when(x==0 ~ 0,\n",
        "              x>=1 & x<=5 ~ 1,\n",
        "              x>=6 & x<=10 ~ 2,\n",
        "              x>=11 & x<=15 ~ 3,\n",
        "              x>=16 & x<=20 ~ 4,\n",
        "              x>=21 & x<=25 ~ 5,\n",
        "              x>=26 & x<=30 ~ 6\n",
        "              )\n",
        "}"
      ],
      "metadata": {
        "id": "wMWuDaLVOuMJ"
      },
      "execution_count": 94,
      "outputs": []
    },
    {
      "cell_type": "code",
      "source": [
        "#install.packages(\"magrittr\") ; library(magrittr )\n",
        "#train %>% mutate_at(vars(physhlth, menthlth), funs(cat)  )  %>% select (physhlth, menthlth) %>% table \n",
        "train %<>% mutate_at(vars(physhlth, menthlth), funs(cat)  )"
      ],
      "metadata": {
        "id": "lYdOa1TVQGQJ"
      },
      "execution_count": 123,
      "outputs": []
    },
    {
      "cell_type": "code",
      "source": [
        ""
      ],
      "metadata": {
        "id": "5F9GNbmaRpgu"
      },
      "execution_count": null,
      "outputs": []
    },
    {
      "cell_type": "markdown",
      "source": [
        "## 연속형"
      ],
      "metadata": {
        "id": "0z7HfoFKRqKd"
      }
    },
    {
      "cell_type": "code",
      "source": [
        "# 이상치 제거\n",
        "#1. 함수 생성(테스트에도 적용하려고)\n",
        "outliers=function(x){\n",
        "                x= ifelse(x<24, NA,\n",
        "                                   ifelse(x>31, NA, x )\n",
        "                          )\n",
        "                          }"
      ],
      "metadata": {
        "id": "wkOpzIsFHJTQ"
      },
      "execution_count": 107,
      "outputs": []
    },
    {
      "cell_type": "code",
      "source": [
        "train %<>% mutate_at(vars(bmi), funs(outliers))"
      ],
      "metadata": {
        "id": "mrLsMmVrSDUp"
      },
      "execution_count": 109,
      "outputs": []
    },
    {
      "cell_type": "code",
      "source": [
        "#write.csv(train, \"train_colab.csv\", row.names=FALSE)"
      ],
      "metadata": {
        "id": "jKrNzIK_VjXv"
      },
      "execution_count": 114,
      "outputs": []
    },
    {
      "cell_type": "code",
      "source": [
        "#임퓨테이션\n",
        "#install.packages(\"mice\"); library(mice)\n",
        "#m=5\n",
        "#result = mice(train, m=m, method=\"cart\", seed=2022, print=FALSE)\n",
        "#densityplot(result)\n",
        "#느려서 pass\n",
        "#함수 다시 생성\n",
        "#1.\n",
        "outliers=function(x){\n",
        "                x= ifelse(x<24, 24,\n",
        "                                   ifelse(x>31, 31, x )\n",
        "                          )\n",
        "                          }\n"
      ],
      "metadata": {
        "id": "MdnrPBHaST14"
      },
      "execution_count": 124,
      "outputs": []
    },
    {
      "cell_type": "code",
      "source": [
        "train %<>% mutate_at(vars(bmi), funs(outliers))"
      ],
      "metadata": {
        "id": "MJLcioFEXRE7"
      },
      "execution_count": null,
      "outputs": []
    },
    {
      "cell_type": "markdown",
      "source": [
        "민맥스놈"
      ],
      "metadata": {
        "id": "v97Gj96GYffr"
      }
    },
    {
      "cell_type": "code",
      "source": [
        "install.packages(\"caret\"); library(caret)\n",
        "#min_max_norm=preProcess(train, method=c(\"range\"))\n",
        "#train=predict(min_max_norm, train)"
      ],
      "metadata": {
        "id": "SAyt6DrlYe4i"
      },
      "execution_count": null,
      "outputs": []
    },
    {
      "cell_type": "markdown",
      "source": [
        "샘플링"
      ],
      "metadata": {
        "id": "aVPdJAVTXNf4"
      }
    },
    {
      "cell_type": "code",
      "source": [
        "#install.packages(\"ROSE\"); library(ROSE)\n",
        "train_rose <- ROSE(diabetes_binary~., data=train, seed=2022)$data\n"
      ],
      "metadata": {
        "id": "niOgdgWDTgK0"
      },
      "execution_count": 126,
      "outputs": []
    },
    {
      "cell_type": "code",
      "source": [
        "table(train_rose$diabetes_binary)"
      ],
      "metadata": {
        "colab": {
          "base_uri": "https://localhost:8080/",
          "height": 72
        },
        "id": "Jau0rLI2WNFe",
        "outputId": "088a4baf-8927-4d64-f1f5-d62db30c3678"
      },
      "execution_count": 128,
      "outputs": [
        {
          "output_type": "display_data",
          "data": {
            "text/plain": [
              "\n",
              "    0     1 \n",
              "17643 17872 "
            ]
          },
          "metadata": {}
        }
      ]
    },
    {
      "cell_type": "markdown",
      "source": [
        ""
      ],
      "metadata": {
        "id": "kxg57QeUYdB-"
      }
    },
    {
      "cell_type": "code",
      "source": [
        "str(train_rose)"
      ],
      "metadata": {
        "id": "HCCnp-uLYaYC"
      },
      "execution_count": null,
      "outputs": []
    },
    {
      "cell_type": "markdown",
      "source": [
        "모델링"
      ],
      "metadata": {
        "id": "BHmduuuHX44h"
      }
    },
    {
      "cell_type": "code",
      "source": [
        "#install.packages(\"randomForest\"); library(randomForest)\n",
        "rf= randomForest(diabetes_binary ~. ,  data=train_rose)"
      ],
      "metadata": {
        "colab": {
          "base_uri": "https://localhost:8080/"
        },
        "id": "ma8Qkrm5YO4K",
        "outputId": "6933b2e8-1100-4151-9975-8b791476da8f"
      },
      "execution_count": null,
      "outputs": [
        {
          "output_type": "stream",
          "name": "stderr",
          "text": [
            "Warning message in randomForest.default(m, y, ...):\n",
            "“The response has five or fewer unique values.  Are you sure you want to do regression?”\n"
          ]
        }
      ]
    }
  ]
}