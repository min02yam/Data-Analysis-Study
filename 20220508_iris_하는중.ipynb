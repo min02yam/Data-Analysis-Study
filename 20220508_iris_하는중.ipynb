{
  "nbformat": 4,
  "nbformat_minor": 0,
  "metadata": {
    "colab": {
      "name": "20220508_iris_하는중",
      "provenance": [],
      "authorship_tag": "ABX9TyMFR0AuLRPr0beBG04k34Ga",
      "include_colab_link": true
    },
    "kernelspec": {
      "name": "ir",
      "display_name": "R"
    },
    "language_info": {
      "name": "R"
    }
  },
  "cells": [
    {
      "cell_type": "markdown",
      "metadata": {
        "id": "view-in-github",
        "colab_type": "text"
      },
      "source": [
        "<a href=\"https://colab.research.google.com/github/min02yam/Data-study/blob/main/20220508_iris_%ED%95%98%EB%8A%94%EC%A4%91.ipynb\" target=\"_parent\"><img src=\"https://colab.research.google.com/assets/colab-badge.svg\" alt=\"Open In Colab\"/></a>"
      ]
    },
    {
      "cell_type": "markdown",
      "source": [
        "# 3. Data analysis & Evaluation\n",
        "\n",
        "\n",
        "## 3-1. iris 데이터셋에서 Species rpart, svm예측 모형을 만든 후 높은 Accuracy값을 가지는 모델의 예측값을 csv 파일로 제출하시오.\n",
        "\n",
        "## 3-2. 그 모델의 ROC곡선을 그리고, AUC값도 구하시오.\n",
        "\n",
        "> SVM 정리: [링크 텍스트](https://)\n",
        "\n",
        "> 디시전트리 정리: [링크 텍스트](https://)"
      ],
      "metadata": {
        "id": "glH2Xjg7kgtN"
      }
    },
    {
      "cell_type": "code",
      "source": [
        ""
      ],
      "metadata": {
        "id": "RBt3H1Gvk3DP"
      },
      "execution_count": null,
      "outputs": []
    }
  ]
}