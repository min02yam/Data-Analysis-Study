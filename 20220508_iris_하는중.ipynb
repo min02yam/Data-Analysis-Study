{
  "nbformat": 4,
  "nbformat_minor": 0,
  "metadata": {
    "colab": {
      "name": "20220508_iris_하는중",
      "provenance": [],
      "authorship_tag": "ABX9TyMxo2qgD5t6xv69eb06UPER",
      "include_colab_link": true
    },
    "kernelspec": {
      "name": "ir",
      "display_name": "R"
    },
    "language_info": {
      "name": "R"
    }
  },
  "cells": [
    {
      "cell_type": "markdown",
      "metadata": {
        "id": "view-in-github",
        "colab_type": "text"
      },
      "source": [
        "<a href=\"https://colab.research.google.com/github/min02yam/Data-study/blob/main/20220508_iris_%ED%95%98%EB%8A%94%EC%A4%91.ipynb\" target=\"_parent\"><img src=\"https://colab.research.google.com/assets/colab-badge.svg\" alt=\"Open In Colab\"/></a>"
      ]
    },
    {
      "cell_type": "markdown",
      "source": [
        "# 3. Data analysis & Evaluation\n",
        "\n",
        "\n",
        "## 3-1. iris 데이터셋에서 Species rpart, svm예측 모형을 만든 후 높은 Accuracy값을 가지는 모델의 예측값을 csv 파일로 제출하시오.\n",
        "\n",
        "## 3-2. 그 모델의 ROC곡선을 그리고, AUC값도 구하시오.\n",
        "\n",
        "> 1. SVM 정리: [링크 텍스트](https://) \n",
        "- e1071:: svm, tune.svm  #SVM\n",
        "- kernlab:: ksvm, #SVM 피처 선택\n",
        "- (+ caret:: rfeControl #교차 검증)\n",
        "\n",
        "\n",
        "> 2. 디시전트리 정리: [노션에 정리_하는 중](https://sapphire-sumac-7af.notion.site/b6c10c54c1d04a5096c6644a07f2240f)\n",
        "\n",
        "> 3. predict에러 https://stackoverflow.com/questions/23085096/type-parameter-of-the-predict-function\n",
        "> 4. ~~roc에러 \n",
        "Error: ‘list’ object cannot be coerced to type ‘double’\n",
        "https://finnstats.com/index.php/2022/02/01/error-list-object-cannot-be-coerced-to-type-double/\n",
        "멀티클래스에 뉴메릭 못씀~~\n",
        "~~as.numeric(unlist(List))~~\n",
        "\n",
        "> 5. multi-label 분류 성능지표\n",
        "- Balanced data ➡️ Accuracy\n",
        "- Imbalanced ➡️ f1-score(Recall과 Precisiond의 매크로 애버리지를 이용한 이용한 Harmonic mean, 큰 값에 패널티) \n",
        "  - precision= TP/(TP+FP) y , recall= TP/ (TP+FN) x\n",
        "  * ref1. https://nittaku.tistory.com/295\n",
        "  * ref2. https://www.youtube.com/watch?v=8DbC39cvvis\n",
        "  * ref3. https://github.com/woosa7/R_DataAnalytics/blob/master/R_DataMining/Lec/2016_2_DM_MBA_07.pdf\n"
      ],
      "metadata": {
        "id": "glH2Xjg7kgtN"
      }
    },
    {
      "cell_type": "code",
      "source": [
        "install.packages(c(\"e1071\",\"kernlab\",\"caret\"))"
      ],
      "metadata": {
        "colab": {
          "base_uri": "https://localhost:8080/"
        },
        "id": "GmIjc28e7sgm",
        "outputId": "33e1e9f1-f133-4c38-e92e-8b724ef1d2e5"
      },
      "execution_count": 1,
      "outputs": [
        {
          "output_type": "stream",
          "name": "stderr",
          "text": [
            "Installing packages into ‘/usr/local/lib/R/site-library’\n",
            "(as ‘lib’ is unspecified)\n",
            "\n",
            "also installing the dependencies ‘listenv’, ‘parallelly’, ‘future’, ‘globals’, ‘future.apply’, ‘progressr’, ‘numDeriv’, ‘SQUAREM’, ‘lava’, ‘prodlim’, ‘iterators’, ‘Rcpp’, ‘gower’, ‘hardhat’, ‘ipred’, ‘timeDate’, ‘proxy’, ‘foreach’, ‘ModelMetrics’, ‘plyr’, ‘pROC’, ‘recipes’, ‘reshape2’\n",
            "\n",
            "\n"
          ]
        }
      ]
    },
    {
      "cell_type": "code",
      "source": [
        "library(e1071); library(kernlab); library(caret)"
      ],
      "metadata": {
        "id": "-JA-YHBLPX2S",
        "colab": {
          "base_uri": "https://localhost:8080/"
        },
        "outputId": "4873a5dd-180d-4f31-f75c-6741cf5d8897"
      },
      "execution_count": 2,
      "outputs": [
        {
          "output_type": "stream",
          "name": "stderr",
          "text": [
            "Loading required package: ggplot2\n",
            "\n",
            "\n",
            "Attaching package: ‘ggplot2’\n",
            "\n",
            "\n",
            "The following object is masked from ‘package:kernlab’:\n",
            "\n",
            "    alpha\n",
            "\n",
            "\n",
            "Loading required package: lattice\n",
            "\n",
            "Warning message in system(\"timedatectl\", intern = TRUE):\n",
            "“running command 'timedatectl' had status 1”\n"
          ]
        }
      ]
    },
    {
      "cell_type": "code",
      "source": [
        "#rm(list=ls())\n",
        "str(iris)"
      ],
      "metadata": {
        "id": "RBt3H1Gvk3DP",
        "colab": {
          "base_uri": "https://localhost:8080/"
        },
        "outputId": "6f05b772-8cad-4a25-836a-747bfea75e02"
      },
      "execution_count": 3,
      "outputs": [
        {
          "output_type": "stream",
          "name": "stdout",
          "text": [
            "'data.frame':\t150 obs. of  5 variables:\n",
            " $ Sepal.Length: num  5.1 4.9 4.7 4.6 5 5.4 4.6 5 4.4 4.9 ...\n",
            " $ Sepal.Width : num  3.5 3 3.2 3.1 3.6 3.9 3.4 3.4 2.9 3.1 ...\n",
            " $ Petal.Length: num  1.4 1.4 1.3 1.5 1.4 1.7 1.4 1.5 1.4 1.5 ...\n",
            " $ Petal.Width : num  0.2 0.2 0.2 0.2 0.2 0.4 0.3 0.2 0.2 0.1 ...\n",
            " $ Species     : Factor w/ 3 levels \"setosa\",\"versicolor\",..: 1 1 1 1 1 1 1 1 1 1 ...\n"
          ]
        }
      ]
    },
    {
      "cell_type": "code",
      "source": [
        "#클래스 밸런스 확인\n",
        "prop.table(table(iris[,5]))"
      ],
      "metadata": {
        "colab": {
          "base_uri": "https://localhost:8080/",
          "height": 72
        },
        "id": "4hmCOZIgk4lc",
        "outputId": "5b097c5e-4453-4f7f-cfc0-d5da8212f089"
      },
      "execution_count": 48,
      "outputs": [
        {
          "output_type": "display_data",
          "data": {
            "text/plain": [
              "\n",
              "    setosa versicolor  virginica \n",
              " 0.3333333  0.3333333  0.3333333 "
            ]
          },
          "metadata": {}
        }
      ]
    },
    {
      "cell_type": "markdown",
      "source": [
        "** 매우 균등함 -> 평가지표는 Acc"
      ],
      "metadata": {
        "id": "Tb1zS5uFlIPS"
      }
    },
    {
      "cell_type": "code",
      "source": [
        "#시드설정 및 데이터 분할\n",
        "set.seed(2022)\n",
        "inx<-sample(1:nrow(iris), nrow(iris)*0.7, replace=FALSE)\n",
        "train<-iris[inx,]\n",
        "test<-iris[-inx,]"
      ],
      "metadata": {
        "id": "eMnRFIfc8KIa"
      },
      "execution_count": 4,
      "outputs": []
    },
    {
      "cell_type": "markdown",
      "source": [
        "### STEP1. SVM- e1071 패키지이용 모델링"
      ],
      "metadata": {
        "id": "ZZvJfzaAVSs2"
      }
    },
    {
      "cell_type": "code",
      "source": [
        "#e1071\n",
        "esvm<-tune.svm(Species~., data=train, gamma=10^(-6:-1), cost=10^(-2:2))$best.model "
      ],
      "metadata": {
        "id": "y2cibuh27qtB"
      },
      "execution_count": 31,
      "outputs": []
    },
    {
      "cell_type": "markdown",
      "source": [
        "-  `HMH기울기(gamma)` 0.01 \n",
        "- `비용값(cost)` 10\n",
        "- `best performance` 0.01~대로 계속 나옴."
      ],
      "metadata": {
        "id": "DgPDqFMJT11z"
      }
    },
    {
      "cell_type": "code",
      "source": [
        "#summary( tune.svm(Species~., data=train, gamma=2^(-2:1), cost=2^(2:4)) )  # best performance: 0.02 "
      ],
      "metadata": {
        "id": "EQF6g5ORRZ70"
      },
      "execution_count": 32,
      "outputs": []
    },
    {
      "cell_type": "markdown",
      "source": [
        "### STEP2. SVM- kernlab+caret 패키지 이용 모델링"
      ],
      "metadata": {
        "id": "Uthf3B79VkFD"
      }
    },
    {
      "cell_type": "code",
      "source": [
        "ksvm(Species~., data= train, kernel=\"rbfdot\") # 디폴트 가우시안 래디컬 0.009524 \n",
        "# ksvm(Species~., data= train, kernel=\"vanilladot\") # 성능비슷함"
      ],
      "metadata": {
        "colab": {
          "base_uri": "https://localhost:8080/",
          "height": 236
        },
        "id": "_9_nA06kVQay",
        "outputId": "9d6eb819-ad3c-4d63-d102-c05aac955cfb"
      },
      "execution_count": 7,
      "outputs": [
        {
          "output_type": "display_data",
          "data": {
            "text/plain": [
              "Support Vector Machine object of class \"ksvm\" \n",
              "\n",
              "SV type: C-svc  (classification) \n",
              " parameter : cost C = 1 \n",
              "\n",
              "Gaussian Radial Basis kernel function. \n",
              " Hyperparameter : sigma =  0.917538361866533 \n",
              "\n",
              "Number of Support Vectors : 50 \n",
              "\n",
              "Objective Function Value : -4.553 -5.078 -14.5891 \n",
              "Training error : 0.009524 "
            ]
          },
          "metadata": {}
        }
      ]
    },
    {
      "cell_type": "code",
      "source": [
        "c(10^(-1:1),5)"
      ],
      "metadata": {
        "colab": {
          "base_uri": "https://localhost:8080/",
          "height": 35
        },
        "id": "MFO02mwFYYCn",
        "outputId": "e9752659-ac38-47f8-a880-f294177d6d6e"
      },
      "execution_count": 8,
      "outputs": [
        {
          "output_type": "display_data",
          "data": {
            "text/html": [
              "<style>\n",
              ".list-inline {list-style: none; margin:0; padding: 0}\n",
              ".list-inline>li {display: inline-block}\n",
              ".list-inline>li:not(:last-child)::after {content: \"\\00b7\"; padding: 0 .5ex}\n",
              "</style>\n",
              "<ol class=list-inline><li>0.1</li><li>1</li><li>10</li><li>5</li></ol>\n"
            ],
            "text/markdown": "1. 0.1\n2. 1\n3. 10\n4. 5\n\n\n",
            "text/latex": "\\begin{enumerate*}\n\\item 0.1\n\\item 1\n\\item 10\n\\item 5\n\\end{enumerate*}\n",
            "text/plain": [
              "[1]  0.1  1.0 10.0  5.0"
            ]
          },
          "metadata": {}
        }
      ]
    },
    {
      "cell_type": "markdown",
      "source": [
        "- 파라미터 튜닝"
      ],
      "metadata": {
        "id": "gA68BVrRRI07"
      }
    },
    {
      "cell_type": "code",
      "source": [
        "cost<-c(10^(-1:1),5)\n",
        "\n",
        "acc<-sapply(cost, function(x){ \n",
        "  set.seed(2022)\n",
        "fit<-ksvm(Species~. , train, kernel=\"rbfdot\", C=x)    \n",
        "  pred<-predict(fit, test)\n",
        "  agr<-ifelse(pred==test[,5], 1, 0)\n",
        "  acc<-sum(agr)/nrow(test)\n",
        "  \n",
        "  return(acc)\n",
        "})"
      ],
      "metadata": {
        "id": "eDxcCXwjYBLA"
      },
      "execution_count": 9,
      "outputs": []
    },
    {
      "cell_type": "code",
      "source": [
        "install.packages(\"ROCR\"); library(ROCR)"
      ],
      "metadata": {
        "colab": {
          "base_uri": "https://localhost:8080/"
        },
        "id": "8e1I7kvZZixD",
        "outputId": "77e86555-b017-4cd5-f35f-2090c7947a1c"
      },
      "execution_count": 10,
      "outputs": [
        {
          "output_type": "stream",
          "name": "stderr",
          "text": [
            "Installing package into ‘/usr/local/lib/R/site-library’\n",
            "(as ‘lib’ is unspecified)\n",
            "\n",
            "also installing the dependencies ‘bitops’, ‘gtools’, ‘caTools’, ‘gplots’\n",
            "\n",
            "\n"
          ]
        }
      ]
    },
    {
      "cell_type": "code",
      "source": [
        "plot(cost, acc, type=\"b\")"
      ],
      "metadata": {
        "colab": {
          "base_uri": "https://localhost:8080/",
          "height": 437
        },
        "id": "3bYLFbWCZcVK",
        "outputId": "75226812-db1d-4fdc-cefc-d19a6465087d"
      },
      "execution_count": 11,
      "outputs": [
        {
          "output_type": "display_data",
          "data": {
            "text/plain": [
              "plot without title"
            ],
            "image/png": "[encoded data removed]"
          },
          "metadata": {
            "image/png": {
              "width": 420,
              "height": 420
            }
          }
        }
      ]
    },
    {
      "cell_type": "markdown",
      "source": [
        "- 코스트 범위 다시 줘보기"
      ],
      "metadata": {
        "id": "1WichnfvZ4T_"
      }
    },
    {
      "cell_type": "code",
      "source": [
        "cost2<-c(10^(-3:-1))\n",
        "\n",
        "acc2<-sapply(cost2, function(x){ \n",
        "  set.seed(2022)\n",
        "fit<-ksvm(Species~. , train, kernel=\"rbfdot\", C=x)    \n",
        "  pred<-predict(fit, test)\n",
        "  agr<-ifelse(pred==test[,5], 1, 0)\n",
        "  acc2<-sum(agr)/nrow(test)\n",
        "  \n",
        "  return(acc2)\n",
        "})\n",
        "\n",
        "plot(cost2, acc2, type=\"b\")"
      ],
      "metadata": {
        "colab": {
          "base_uri": "https://localhost:8080/",
          "height": 437
        },
        "id": "BMcwXoCxZ3YU",
        "outputId": "9151ae23-acd8-4f8e-cd30-b8828eba658d"
      },
      "execution_count": 12,
      "outputs": [
        {
          "output_type": "display_data",
          "data": {
            "text/plain": [
              "plot without title"
            ],
            "image/png": "[encoded data removed]"
          },
          "metadata": {
            "image/png": {
              "width": 420,
              "height": 420
            }
          }
        }
      ]
    },
    {
      "cell_type": "markdown",
      "source": [
        "** `비용값(cost)` 0.1이 제일 좋고, 앞서 시행했던 기본파라미터 C=1은 성능 비교적 별로임"
      ],
      "metadata": {
        "id": "oYs3q4xxax9v"
      }
    },
    {
      "cell_type": "code",
      "source": [
        "ksvm<-ksvm(Species~., data= train, kernel=\"rbfdot\", C=0.1 ) #파라미터 수정"
      ],
      "metadata": {
        "id": "wHq8EBaFa-SG"
      },
      "execution_count": 36,
      "outputs": []
    },
    {
      "cell_type": "code",
      "source": [
        "#시각화\n",
        "plot(cmdscale(dist(train[,1:4])), col=train$Species, pch=c(\"o\",\"+\")[1:nrow(train) %in% esvm$index+1])"
      ],
      "metadata": {
        "colab": {
          "base_uri": "https://localhost:8080/",
          "height": 437
        },
        "id": "bTlZBqgbKzHs",
        "outputId": "147f5d3c-36f7-42ec-9845-6c1ed2f68b33"
      },
      "execution_count": 24,
      "outputs": [
        {
          "output_type": "display_data",
          "data": {
            "text/plain": [
              "plot without title"
            ],
            "image/png": "[encoded data removed]"
          },
          "metadata": {
            "image/png": {
              "width": 420,
              "height": 420
            }
          }
        }
      ]
    },
    {
      "cell_type": "markdown",
      "source": [
        "** +는 서포트 벡터"
      ],
      "metadata": {
        "id": "RnC3jEPHQUDl"
      }
    },
    {
      "cell_type": "code",
      "source": [
        "#str(esvm) #  $ index          : int [1:25] 1 10 46 62 64 72 74 76 83 84 ...\n",
        "#esvm$index+1\n",
        "#?cmdscale"
      ],
      "metadata": {
        "id": "wibqFndzMd5w"
      },
      "execution_count": 30,
      "outputs": []
    },
    {
      "cell_type": "code",
      "source": [
        "#str(ksvm)\n",
        "#ksvm"
      ],
      "metadata": {
        "colab": {
          "base_uri": "https://localhost:8080/",
          "height": 236
        },
        "id": "mROT51izJnr9",
        "outputId": "1ab1898f-5d24-4596-de83-fcfb4991d97c"
      },
      "execution_count": 34,
      "outputs": [
        {
          "output_type": "display_data",
          "data": {
            "text/plain": [
              "Support Vector Machine object of class \"ksvm\" \n",
              "\n",
              "SV type: C-svc  (classification) \n",
              " parameter : cost C = 0.1 \n",
              "\n",
              "Gaussian Radial Basis kernel function. \n",
              " Hyperparameter : sigma =  0.55742068864948 \n",
              "\n",
              "Number of Support Vectors : 89 \n",
              "\n",
              "Objective Function Value : -2.5822 -2.6354 -4.5388 \n",
              "Training error : 0.047619 "
            ]
          },
          "metadata": {}
        }
      ]
    },
    {
      "cell_type": "markdown",
      "source": [
        "### STEP3. 디시전트리- rpart"
      ],
      "metadata": {
        "id": "HAczgoFxRjm_"
      }
    },
    {
      "cell_type": "code",
      "source": [
        ""
      ],
      "metadata": {
        "id": "3phGcHRARi-a"
      },
      "execution_count": 44,
      "outputs": []
    },
    {
      "cell_type": "code",
      "source": [
        ""
      ],
      "metadata": {
        "id": "rjg_amSoR5s7"
      },
      "execution_count": 45,
      "outputs": []
    },
    {
      "cell_type": "markdown",
      "source": [
        "### STEP4. 최종모형 도출 및 성능 평가"
      ],
      "metadata": {
        "id": "gMDTmaYvV3oZ"
      }
    },
    {
      "cell_type": "code",
      "source": [
        "pred_esvm<-predict(esvm, test) \n",
        "pred_ksvm<-predict(ksvm, test)\n",
        "confusionMatrix(pred_esvm, test[,5], positive = \"1\") #  Accuracy : 0.9333  \n",
        "confusionMatrix(pred_ksvm, test[,5], positive = \"1\") # Accuracy : 0.9778 "
      ],
      "metadata": {
        "colab": {
          "base_uri": "https://localhost:8080/",
          "height": 1000
        },
        "id": "vxVvti9gbPiZ",
        "outputId": "f2ce690a-6620-4502-c935-c730c61d79d2"
      },
      "execution_count": 16,
      "outputs": [
        {
          "output_type": "display_data",
          "data": {
            "text/plain": [
              "Confusion Matrix and Statistics\n",
              "\n",
              "            Reference\n",
              "Prediction   setosa versicolor virginica\n",
              "  setosa         15          0         0\n",
              "  versicolor      0         10         0\n",
              "  virginica       0          3        17\n",
              "\n",
              "Overall Statistics\n",
              "                                         \n",
              "               Accuracy : 0.9333         \n",
              "                 95% CI : (0.8173, 0.986)\n",
              "    No Information Rate : 0.3778         \n",
              "    P-Value [Acc > NIR] : 6.255e-15      \n",
              "                                         \n",
              "                  Kappa : 0.8985         \n",
              "                                         \n",
              " Mcnemar's Test P-Value : NA             \n",
              "\n",
              "Statistics by Class:\n",
              "\n",
              "                     Class: setosa Class: versicolor Class: virginica\n",
              "Sensitivity                 1.0000            0.7692           1.0000\n",
              "Specificity                 1.0000            1.0000           0.8929\n",
              "Pos Pred Value              1.0000            1.0000           0.8500\n",
              "Neg Pred Value              1.0000            0.9143           1.0000\n",
              "Prevalence                  0.3333            0.2889           0.3778\n",
              "Detection Rate              0.3333            0.2222           0.3778\n",
              "Detection Prevalence        0.3333            0.2222           0.4444\n",
              "Balanced Accuracy           1.0000            0.8846           0.9464"
            ]
          },
          "metadata": {}
        },
        {
          "output_type": "display_data",
          "data": {
            "text/plain": [
              "Confusion Matrix and Statistics\n",
              "\n",
              "            Reference\n",
              "Prediction   setosa versicolor virginica\n",
              "  setosa         15          0         0\n",
              "  versicolor      0         12         0\n",
              "  virginica       0          1        17\n",
              "\n",
              "Overall Statistics\n",
              "                                          \n",
              "               Accuracy : 0.9778          \n",
              "                 95% CI : (0.8823, 0.9994)\n",
              "    No Information Rate : 0.3778          \n",
              "    P-Value [Acc > NIR] : < 2.2e-16       \n",
              "                                          \n",
              "                  Kappa : 0.9664          \n",
              "                                          \n",
              " Mcnemar's Test P-Value : NA              \n",
              "\n",
              "Statistics by Class:\n",
              "\n",
              "                     Class: setosa Class: versicolor Class: virginica\n",
              "Sensitivity                 1.0000            0.9231           1.0000\n",
              "Specificity                 1.0000            1.0000           0.9643\n",
              "Pos Pred Value              1.0000            1.0000           0.9444\n",
              "Neg Pred Value              1.0000            0.9697           1.0000\n",
              "Prevalence                  0.3333            0.2889           0.3778\n",
              "Detection Rate              0.3333            0.2667           0.3778\n",
              "Detection Prevalence        0.3333            0.2667           0.4000\n",
              "Balanced Accuracy           1.0000            0.9615           0.9821"
            ]
          },
          "metadata": {}
        }
      ]
    },
    {
      "cell_type": "code",
      "source": [
        "#library(pROC)\n",
        "#class(pred_esvm) ; #class(test[,5])\n",
        "#roc_esvm<-roc(  as.numeric(pred_esvm), as.numeric(test[,5])    )\n",
        "#?roc"
      ],
      "metadata": {
        "id": "yyC-jkODiTkN"
      },
      "execution_count": 17,
      "outputs": []
    },
    {
      "cell_type": "code",
      "source": [
        "#roc_esvm <- multiclass.roc( as.numeric(pred_esvm) , as.numeric(test[,5]) ) ; auc(roc_esvm) # 0.975\n",
        "#roc_ksvm <- multiclass.roc( as.numeric(pred_ksvm) , as.numeric(test[,5]) ) ; auc(roc_ksvm) # 0.991"
      ],
      "metadata": {
        "id": "9xm2_IRIjvFg"
      },
      "execution_count": 18,
      "outputs": []
    }
  ]
}