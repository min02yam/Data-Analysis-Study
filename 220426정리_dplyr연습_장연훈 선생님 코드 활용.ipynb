{
 "cells": [
  {
   "cell_type": "code",
   "execution_count": 6,
   "metadata": {},
   "outputs": [],
   "source": [
    "library(magrittr)"
   ]
  },
  {
   "cell_type": "code",
   "execution_count": 2,
   "metadata": {
    "scrolled": true
   },
   "outputs": [
    {
     "name": "stderr",
     "output_type": "stream",
     "text": [
      "Warning message:\n",
      "\"package 'dplyr' was built under R version 3.6.3\"\n",
      "Attaching package: 'dplyr'\n",
      "\n",
      "The following objects are masked from 'package:stats':\n",
      "\n",
      "    filter, lag\n",
      "\n",
      "The following objects are masked from 'package:base':\n",
      "\n",
      "    intersect, setdiff, setequal, union\n",
      "\n"
     ]
    }
   ],
   "source": [
    "library(dplyr)"
   ]
  },
  {
   "cell_type": "markdown",
   "metadata": {},
   "source": [
    "#### 1. order() ➡️ `arrange()`\n",
    "#### 2. %<>% 파이프 연산자\n",
    "#### 3. min-max norm 장점 및 단점 정리\n",
    "#### 4. lapply() ➡️ `mutate_at()`\n",
    "#### 5. ifelse() ➡️ `case_when()`\n",
    "#### 6. `rowSums( across(target) )`"
   ]
  },
  {
   "cell_type": "code",
   "execution_count": 1,
   "metadata": {},
   "outputs": [],
   "source": [
    "df<-airquality"
   ]
  },
  {
   "cell_type": "code",
   "execution_count": 3,
   "metadata": {
    "scrolled": true
   },
   "outputs": [
    {
     "data": {
      "text/html": [
       "<table>\n",
       "<thead><tr><th scope=col>Ozone</th><th scope=col>Solar.R</th><th scope=col>Wind</th><th scope=col>Temp</th><th scope=col>Month</th><th scope=col>Day</th></tr></thead>\n",
       "<tbody>\n",
       "\t<tr><td>168</td><td>238</td><td>3.4</td><td>81 </td><td>8  </td><td>25 </td></tr>\n",
       "\t<tr><td>135</td><td>269</td><td>4.1</td><td>84 </td><td>7  </td><td> 1 </td></tr>\n",
       "\t<tr><td>122</td><td>255</td><td>4.0</td><td>89 </td><td>8  </td><td> 7 </td></tr>\n",
       "\t<tr><td>118</td><td>225</td><td>2.3</td><td>94 </td><td>8  </td><td>29 </td></tr>\n",
       "\t<tr><td>115</td><td>223</td><td>5.7</td><td>79 </td><td>5  </td><td>30 </td></tr>\n",
       "\t<tr><td>110</td><td>207</td><td>8.0</td><td>90 </td><td>8  </td><td> 9 </td></tr>\n",
       "\t<tr><td>108</td><td>223</td><td>8.0</td><td>85 </td><td>7  </td><td>25 </td></tr>\n",
       "\t<tr><td> 97</td><td>267</td><td>6.3</td><td>92 </td><td>7  </td><td> 8 </td></tr>\n",
       "\t<tr><td> 97</td><td>272</td><td>5.7</td><td>92 </td><td>7  </td><td> 9 </td></tr>\n",
       "\t<tr><td> 96</td><td>167</td><td>6.9</td><td>91 </td><td>9  </td><td> 1 </td></tr>\n",
       "</tbody>\n",
       "</table>\n"
      ],
      "text/latex": [
       "\\begin{tabular}{r|llllll}\n",
       " Ozone & Solar.R & Wind & Temp & Month & Day\\\\\n",
       "\\hline\n",
       "\t 168 & 238 & 3.4 & 81  & 8   & 25 \\\\\n",
       "\t 135 & 269 & 4.1 & 84  & 7   &  1 \\\\\n",
       "\t 122 & 255 & 4.0 & 89  & 8   &  7 \\\\\n",
       "\t 118 & 225 & 2.3 & 94  & 8   & 29 \\\\\n",
       "\t 115 & 223 & 5.7 & 79  & 5   & 30 \\\\\n",
       "\t 110 & 207 & 8.0 & 90  & 8   &  9 \\\\\n",
       "\t 108 & 223 & 8.0 & 85  & 7   & 25 \\\\\n",
       "\t  97 & 267 & 6.3 & 92  & 7   &  8 \\\\\n",
       "\t  97 & 272 & 5.7 & 92  & 7   &  9 \\\\\n",
       "\t  96 & 167 & 6.9 & 91  & 9   &  1 \\\\\n",
       "\\end{tabular}\n"
      ],
      "text/markdown": [
       "\n",
       "| Ozone | Solar.R | Wind | Temp | Month | Day |\n",
       "|---|---|---|---|---|---|\n",
       "| 168 | 238 | 3.4 | 81  | 8   | 25  |\n",
       "| 135 | 269 | 4.1 | 84  | 7   |  1  |\n",
       "| 122 | 255 | 4.0 | 89  | 8   |  7  |\n",
       "| 118 | 225 | 2.3 | 94  | 8   | 29  |\n",
       "| 115 | 223 | 5.7 | 79  | 5   | 30  |\n",
       "| 110 | 207 | 8.0 | 90  | 8   |  9  |\n",
       "| 108 | 223 | 8.0 | 85  | 7   | 25  |\n",
       "|  97 | 267 | 6.3 | 92  | 7   |  8  |\n",
       "|  97 | 272 | 5.7 | 92  | 7   |  9  |\n",
       "|  96 | 167 | 6.9 | 91  | 9   |  1  |\n",
       "\n"
      ],
      "text/plain": [
       "   Ozone Solar.R Wind Temp Month Day\n",
       "1  168   238     3.4  81   8     25 \n",
       "2  135   269     4.1  84   7      1 \n",
       "3  122   255     4.0  89   8      7 \n",
       "4  118   225     2.3  94   8     29 \n",
       "5  115   223     5.7  79   5     30 \n",
       "6  110   207     8.0  90   8      9 \n",
       "7  108   223     8.0  85   7     25 \n",
       "8   97   267     6.3  92   7      8 \n",
       "9   97   272     5.7  92   7      9 \n",
       "10  96   167     6.9  91   9      1 "
      ]
     },
     "metadata": {},
     "output_type": "display_data"
    }
   ],
   "source": [
    "df %>% arrange(desc(Ozone)) %>% head(10)"
   ]
  },
  {
   "cell_type": "code",
   "execution_count": 9,
   "metadata": {},
   "outputs": [],
   "source": [
    "df %<>% mutate(Ozone= ifelse(is.na(Ozone), 96, Ozone))"
   ]
  },
  {
   "cell_type": "code",
   "execution_count": 14,
   "metadata": {},
   "outputs": [],
   "source": [
    "before <- mean (airquality$Ozone , na.rm=TRUE)\n",
    "after <- mean(df$Ozone)"
   ]
  },
  {
   "cell_type": "code",
   "execution_count": 15,
   "metadata": {},
   "outputs": [
    {
     "data": {
      "text/html": [
       "13.0275524002705"
      ],
      "text/latex": [
       "13.0275524002705"
      ],
      "text/markdown": [
       "13.0275524002705"
      ],
      "text/plain": [
       "[1] 13.02755"
      ]
     },
     "metadata": {},
     "output_type": "display_data"
    }
   ],
   "source": [
    "ans<- abs(before-after); ans"
   ]
  },
  {
   "cell_type": "code",
   "execution_count": 20,
   "metadata": {},
   "outputs": [],
   "source": [
    "df %<>% mutate( Solar.R = ifelse (is.na(df[,2]), mean(df[,2], na.rm=TRUE), df[,2] ) )  "
   ]
  },
  {
   "cell_type": "code",
   "execution_count": 23,
   "metadata": {
    "scrolled": true
   },
   "outputs": [
    {
     "data": {
      "text/plain": [
       "     Ozone         Solar.R           Wind            Temp          Month  \n",
       " Min.   :12.0   Min.   :118.0   Min.   : 7.40   Min.   :56.0   Min.   :5  \n",
       " 1st Qu.:18.0   1st Qu.:149.0   1st Qu.: 8.00   1st Qu.:62.0   1st Qu.:5  \n",
       " Median :36.0   Median :185.9   Median :11.50   Median :67.0   Median :5  \n",
       " Mean   :40.6   Mean   :191.2   Mean   :10.76   Mean   :66.2   Mean   :5  \n",
       " 3rd Qu.:41.0   3rd Qu.:190.0   3rd Qu.:12.60   3rd Qu.:72.0   3rd Qu.:5  \n",
       " Max.   :96.0   Max.   :313.0   Max.   :14.30   Max.   :74.0   Max.   :5  \n",
       "      Day   \n",
       " Min.   :1  \n",
       " 1st Qu.:2  \n",
       " Median :3  \n",
       " Mean   :3  \n",
       " 3rd Qu.:4  \n",
       " Max.   :5  "
      ]
     },
     "metadata": {},
     "output_type": "display_data"
    }
   ],
   "source": [
    "summary(df)"
   ]
  },
  {
   "cell_type": "code",
   "execution_count": 27,
   "metadata": {},
   "outputs": [],
   "source": [
    "#민맥스스케일링 함수 만들고 2개 변수에 적용하기 \n",
    "min_max_norm <- function(x){\n",
    "    (x-min(x)) / (max(x)- min(x))\n",
    "}\n",
    "\n",
    "df_n<-as.data.frame(lapply(df[1:2], min_max_norm))"
   ]
  },
  {
   "cell_type": "code",
   "execution_count": 28,
   "metadata": {
    "scrolled": true
   },
   "outputs": [
    {
     "data": {
      "text/html": [
       "<table>\n",
       "<thead><tr><th scope=col>Ozone</th><th scope=col>Solar.R</th></tr></thead>\n",
       "<tbody>\n",
       "\t<tr><td>0.34523810</td><td>0.3692308 </td></tr>\n",
       "\t<tr><td>0.28571429</td><td>0.0000000 </td></tr>\n",
       "\t<tr><td>0.00000000</td><td>0.1589744 </td></tr>\n",
       "\t<tr><td>0.07142857</td><td>1.0000000 </td></tr>\n",
       "\t<tr><td>1.00000000</td><td>0.3483667 </td></tr>\n",
       "</tbody>\n",
       "</table>\n"
      ],
      "text/latex": [
       "\\begin{tabular}{r|ll}\n",
       " Ozone & Solar.R\\\\\n",
       "\\hline\n",
       "\t 0.34523810 & 0.3692308 \\\\\n",
       "\t 0.28571429 & 0.0000000 \\\\\n",
       "\t 0.00000000 & 0.1589744 \\\\\n",
       "\t 0.07142857 & 1.0000000 \\\\\n",
       "\t 1.00000000 & 0.3483667 \\\\\n",
       "\\end{tabular}\n"
      ],
      "text/markdown": [
       "\n",
       "| Ozone | Solar.R |\n",
       "|---|---|\n",
       "| 0.34523810 | 0.3692308  |\n",
       "| 0.28571429 | 0.0000000  |\n",
       "| 0.00000000 | 0.1589744  |\n",
       "| 0.07142857 | 1.0000000  |\n",
       "| 1.00000000 | 0.3483667  |\n",
       "\n"
      ],
      "text/plain": [
       "  Ozone      Solar.R  \n",
       "1 0.34523810 0.3692308\n",
       "2 0.28571429 0.0000000\n",
       "3 0.00000000 0.1589744\n",
       "4 0.07142857 1.0000000\n",
       "5 1.00000000 0.3483667"
      ]
     },
     "metadata": {},
     "output_type": "display_data"
    }
   ],
   "source": [
    "head(df_n)"
   ]
  },
  {
   "cell_type": "code",
   "execution_count": 40,
   "metadata": {},
   "outputs": [],
   "source": [
    "df %<>% mutate_at (       vars(Ozone, Solar.R ) , \n",
    "                   .funs=   min_max_norm    ) %>% head(5)"
   ]
  },
  {
   "cell_type": "code",
   "execution_count": null,
   "metadata": {},
   "outputs": [],
   "source": [
    "##case_when"
   ]
  },
  {
   "cell_type": "code",
   "execution_count": 41,
   "metadata": {},
   "outputs": [],
   "source": [
    "setwd(\"C:/Users/alsdu/OneDrive/문서/카카오톡 받은 파일/20220424_데이터분석 스터디/20220424_데이터분석 스터디\")"
   ]
  },
  {
   "cell_type": "code",
   "execution_count": 44,
   "metadata": {},
   "outputs": [],
   "source": [
    "ht<-read.csv(\"health.csv\")"
   ]
  },
  {
   "cell_type": "code",
   "execution_count": 45,
   "metadata": {},
   "outputs": [
    {
     "name": "stdout",
     "output_type": "stream",
     "text": [
      "'data.frame':\t319795 obs. of  18 variables:\n",
      " $ HeartDisease    : Factor w/ 2 levels \"No\",\"Yes\": 1 1 1 1 1 2 1 1 1 1 ...\n",
      " $ BMI             : num  16.6 20.3 26.6 24.2 23.7 ...\n",
      " $ Smoking         : Factor w/ 2 levels \"No\",\"Yes\": 2 1 2 1 1 2 1 2 1 1 ...\n",
      " $ AlcoholDrinking : Factor w/ 2 levels \"No\",\"Yes\": 1 1 1 1 1 1 1 1 1 1 ...\n",
      " $ Stroke          : Factor w/ 2 levels \"No\",\"Yes\": 1 2 1 1 1 1 1 1 1 1 ...\n",
      " $ PhysicalHealth  : num  3 0 20 0 28 6 15 5 0 0 ...\n",
      " $ MentalHealth    : num  30 0 30 0 0 0 0 0 0 0 ...\n",
      " $ DiffWalking     : Factor w/ 2 levels \"No\",\"Yes\": 1 1 1 1 2 2 1 2 1 2 ...\n",
      " $ Sex             : Factor w/ 2 levels \"Female\",\"Male\": 1 1 2 1 1 1 1 1 1 2 ...\n",
      " $ AgeCategory     : Factor w/ 13 levels \"18-24\",\"25-29\",..: 8 13 10 12 5 12 11 13 13 10 ...\n",
      " $ Race            : Factor w/ 6 levels \"American Indian/Alaskan Native\",..: 6 6 6 6 6 3 6 6 6 6 ...\n",
      " $ Diabetic        : Factor w/ 4 levels \"No\",\"No, borderline diabetes\",..: 3 1 3 1 1 1 1 3 2 1 ...\n",
      " $ PhysicalActivity: Factor w/ 2 levels \"No\",\"Yes\": 2 2 2 1 2 1 2 1 1 2 ...\n",
      " $ GenHealth       : Factor w/ 5 levels \"Excellent\",\"Fair\",..: 5 5 2 3 5 2 2 3 2 3 ...\n",
      " $ SleepTime       : num  5 7 8 6 8 12 4 9 5 10 ...\n",
      " $ Asthma          : Factor w/ 2 levels \"No\",\"Yes\": 2 1 2 1 1 1 2 2 1 1 ...\n",
      " $ KidneyDisease   : Factor w/ 2 levels \"No\",\"Yes\": 1 1 1 1 1 1 1 1 2 1 ...\n",
      " $ SkinCancer      : Factor w/ 2 levels \"No\",\"Yes\": 2 1 1 2 1 1 2 1 1 1 ...\n"
     ]
    }
   ],
   "source": [
    "str(ht)"
   ]
  },
  {
   "cell_type": "code",
   "execution_count": 46,
   "metadata": {},
   "outputs": [],
   "source": [
    "target <- c('HeartDisease', 'Diabetic', 'Stroke', 'KidneyDisease','SkinCancer', 'Asthma')"
   ]
  },
  {
   "cell_type": "code",
   "execution_count": 47,
   "metadata": {},
   "outputs": [
    {
     "data": {
      "text/html": [
       "<ol class=list-inline>\n",
       "\t<li>'HeartDisease'</li>\n",
       "\t<li>'Diabetic'</li>\n",
       "\t<li>'Stroke'</li>\n",
       "\t<li>'KidneyDisease'</li>\n",
       "\t<li>'SkinCancer'</li>\n",
       "\t<li>'Asthma'</li>\n",
       "</ol>\n"
      ],
      "text/latex": [
       "\\begin{enumerate*}\n",
       "\\item 'HeartDisease'\n",
       "\\item 'Diabetic'\n",
       "\\item 'Stroke'\n",
       "\\item 'KidneyDisease'\n",
       "\\item 'SkinCancer'\n",
       "\\item 'Asthma'\n",
       "\\end{enumerate*}\n"
      ],
      "text/markdown": [
       "1. 'HeartDisease'\n",
       "2. 'Diabetic'\n",
       "3. 'Stroke'\n",
       "4. 'KidneyDisease'\n",
       "5. 'SkinCancer'\n",
       "6. 'Asthma'\n",
       "\n",
       "\n"
      ],
      "text/plain": [
       "[1] \"HeartDisease\"  \"Diabetic\"      \"Stroke\"        \"KidneyDisease\"\n",
       "[5] \"SkinCancer\"    \"Asthma\"       "
      ]
     },
     "metadata": {},
     "output_type": "display_data"
    }
   ],
   "source": [
    "target"
   ]
  },
  {
   "cell_type": "code",
   "execution_count": 48,
   "metadata": {},
   "outputs": [
    {
     "name": "stderr",
     "output_type": "stream",
     "text": [
      "Note: Using an external vector in selections is ambiguous.\n",
      "i Use `all_of(target)` instead of `target` to silence this message.\n",
      "i See <https://tidyselect.r-lib.org/reference/faq-external-vector.html>.\n",
      "This message is displayed once per session.\n"
     ]
    },
    {
     "data": {
      "text/html": [
       "<table>\n",
       "<thead><tr><th scope=col>HeartDisease</th><th scope=col>Diabetic</th><th scope=col>Stroke</th><th scope=col>KidneyDisease</th><th scope=col>SkinCancer</th><th scope=col>Asthma</th></tr></thead>\n",
       "<tbody>\n",
       "\t<tr><td>No </td><td>Yes</td><td>No </td><td>No </td><td>Yes</td><td>Yes</td></tr>\n",
       "\t<tr><td>No </td><td>No </td><td>Yes</td><td>No </td><td>No </td><td>No </td></tr>\n",
       "\t<tr><td>No </td><td>Yes</td><td>No </td><td>No </td><td>No </td><td>Yes</td></tr>\n",
       "\t<tr><td>No </td><td>No </td><td>No </td><td>No </td><td>Yes</td><td>No </td></tr>\n",
       "\t<tr><td>No </td><td>No </td><td>No </td><td>No </td><td>No </td><td>No </td></tr>\n",
       "</tbody>\n",
       "</table>\n"
      ],
      "text/latex": [
       "\\begin{tabular}{r|llllll}\n",
       " HeartDisease & Diabetic & Stroke & KidneyDisease & SkinCancer & Asthma\\\\\n",
       "\\hline\n",
       "\t No  & Yes & No  & No  & Yes & Yes\\\\\n",
       "\t No  & No  & Yes & No  & No  & No \\\\\n",
       "\t No  & Yes & No  & No  & No  & Yes\\\\\n",
       "\t No  & No  & No  & No  & Yes & No \\\\\n",
       "\t No  & No  & No  & No  & No  & No \\\\\n",
       "\\end{tabular}\n"
      ],
      "text/markdown": [
       "\n",
       "| HeartDisease | Diabetic | Stroke | KidneyDisease | SkinCancer | Asthma |\n",
       "|---|---|---|---|---|---|\n",
       "| No  | Yes | No  | No  | Yes | Yes |\n",
       "| No  | No  | Yes | No  | No  | No  |\n",
       "| No  | Yes | No  | No  | No  | Yes |\n",
       "| No  | No  | No  | No  | Yes | No  |\n",
       "| No  | No  | No  | No  | No  | No  |\n",
       "\n"
      ],
      "text/plain": [
       "  HeartDisease Diabetic Stroke KidneyDisease SkinCancer Asthma\n",
       "1 No           Yes      No     No            Yes        Yes   \n",
       "2 No           No       Yes    No            No         No    \n",
       "3 No           Yes      No     No            No         Yes   \n",
       "4 No           No       No     No            Yes        No    \n",
       "5 No           No       No     No            No         No    "
      ]
     },
     "metadata": {},
     "output_type": "display_data"
    },
    {
     "data": {
      "text/html": [
       "<table>\n",
       "<thead><tr><th scope=col>HeartDisease</th><th scope=col>Diabetic</th><th scope=col>Stroke</th><th scope=col>KidneyDisease</th><th scope=col>SkinCancer</th><th scope=col>Asthma</th></tr></thead>\n",
       "<tbody>\n",
       "\t<tr><td>0</td><td>1</td><td>0</td><td>0</td><td>1</td><td>1</td></tr>\n",
       "\t<tr><td>0</td><td>0</td><td>1</td><td>0</td><td>0</td><td>0</td></tr>\n",
       "\t<tr><td>0</td><td>1</td><td>0</td><td>0</td><td>0</td><td>1</td></tr>\n",
       "\t<tr><td>0</td><td>0</td><td>0</td><td>0</td><td>1</td><td>0</td></tr>\n",
       "\t<tr><td>0</td><td>0</td><td>0</td><td>0</td><td>0</td><td>0</td></tr>\n",
       "</tbody>\n",
       "</table>\n"
      ],
      "text/latex": [
       "\\begin{tabular}{r|llllll}\n",
       " HeartDisease & Diabetic & Stroke & KidneyDisease & SkinCancer & Asthma\\\\\n",
       "\\hline\n",
       "\t 0 & 1 & 0 & 0 & 1 & 1\\\\\n",
       "\t 0 & 0 & 1 & 0 & 0 & 0\\\\\n",
       "\t 0 & 1 & 0 & 0 & 0 & 1\\\\\n",
       "\t 0 & 0 & 0 & 0 & 1 & 0\\\\\n",
       "\t 0 & 0 & 0 & 0 & 0 & 0\\\\\n",
       "\\end{tabular}\n"
      ],
      "text/markdown": [
       "\n",
       "| HeartDisease | Diabetic | Stroke | KidneyDisease | SkinCancer | Asthma |\n",
       "|---|---|---|---|---|---|\n",
       "| 0 | 1 | 0 | 0 | 1 | 1 |\n",
       "| 0 | 0 | 1 | 0 | 0 | 0 |\n",
       "| 0 | 1 | 0 | 0 | 0 | 1 |\n",
       "| 0 | 0 | 0 | 0 | 1 | 0 |\n",
       "| 0 | 0 | 0 | 0 | 0 | 0 |\n",
       "\n"
      ],
      "text/plain": [
       "  HeartDisease Diabetic Stroke KidneyDisease SkinCancer Asthma\n",
       "1 0            1        0      0             1          1     \n",
       "2 0            0        1      0             0          0     \n",
       "3 0            1        0      0             0          1     \n",
       "4 0            0        0      0             1          0     \n",
       "5 0            0        0      0             0          0     "
      ]
     },
     "metadata": {},
     "output_type": "display_data"
    }
   ],
   "source": [
    "ht %>% select(target) %>% head(5)\n",
    "ht %<>%  mutate(across(.cols = target, function(x)ifelse(x=='No',0,1)))\n",
    "ht %>% select(target) %>% head(5)"
   ]
  },
  {
   "cell_type": "code",
   "execution_count": 49,
   "metadata": {},
   "outputs": [
    {
     "data": {
      "text/plain": [
       "\n",
       "Excellent      Fair      Good      Poor Very good \n",
       "    66842     34677     93129     11289    113858 "
      ]
     },
     "metadata": {},
     "output_type": "display_data"
    }
   ],
   "source": [
    "table(ht$GenHealth)\n",
    "ht %<>% mutate(GenHealth = case_when(GenHealth=='Poor' ~ 5,\n",
    "                                    GenHealth=='Fair' ~ 4,\n",
    "                                    GenHealth=='Good' ~ 3,\n",
    "                                    GenHealth=='Very good' ~ 2,\n",
    "                                    GenHealth=='Excellent' ~ 1))\n"
   ]
  },
  {
   "cell_type": "code",
   "execution_count": 50,
   "metadata": {},
   "outputs": [
    {
     "data": {
      "text/plain": [
       "\n",
       "     1      2      3      4      5 \n",
       " 66842 113858  93129  34677  11289 "
      ]
     },
     "metadata": {},
     "output_type": "display_data"
    }
   ],
   "source": [
    "table(ht$GenHealth)  # 확인"
   ]
  },
  {
   "cell_type": "code",
   "execution_count": 53,
   "metadata": {},
   "outputs": [],
   "source": [
    "ht %<>% mutate(DiseaseCount = rowSums(across(target)))"
   ]
  },
  {
   "cell_type": "code",
   "execution_count": 54,
   "metadata": {},
   "outputs": [
    {
     "data": {
      "text/html": [
       "<table>\n",
       "<thead><tr><th scope=col>HeartDisease</th><th scope=col>BMI</th><th scope=col>Smoking</th><th scope=col>AlcoholDrinking</th><th scope=col>Stroke</th><th scope=col>PhysicalHealth</th><th scope=col>MentalHealth</th><th scope=col>DiffWalking</th><th scope=col>Sex</th><th scope=col>AgeCategory</th><th scope=col>Race</th><th scope=col>Diabetic</th><th scope=col>PhysicalActivity</th><th scope=col>GenHealth</th><th scope=col>SleepTime</th><th scope=col>Asthma</th><th scope=col>KidneyDisease</th><th scope=col>SkinCancer</th><th scope=col>DiseaseCount</th></tr></thead>\n",
       "<tbody>\n",
       "\t<tr><td>0          </td><td>16.60      </td><td>Yes        </td><td>No         </td><td>0          </td><td> 3         </td><td>30         </td><td>No         </td><td>Female     </td><td>55-59      </td><td>White      </td><td>1          </td><td>Yes        </td><td>2          </td><td>5          </td><td>1          </td><td>0          </td><td>1          </td><td>3          </td></tr>\n",
       "\t<tr><td>0          </td><td>20.34      </td><td>No         </td><td>No         </td><td>1          </td><td> 0         </td><td> 0         </td><td>No         </td><td>Female     </td><td>80 or older</td><td>White      </td><td>0          </td><td>Yes        </td><td>2          </td><td>7          </td><td>0          </td><td>0          </td><td>0          </td><td>1          </td></tr>\n",
       "\t<tr><td>0          </td><td>26.58      </td><td>Yes        </td><td>No         </td><td>0          </td><td>20         </td><td>30         </td><td>No         </td><td>Male       </td><td>65-69      </td><td>White      </td><td>1          </td><td>Yes        </td><td>4          </td><td>8          </td><td>1          </td><td>0          </td><td>0          </td><td>2          </td></tr>\n",
       "\t<tr><td>0          </td><td>24.21      </td><td>No         </td><td>No         </td><td>0          </td><td> 0         </td><td> 0         </td><td>No         </td><td>Female     </td><td>75-79      </td><td>White      </td><td>0          </td><td>No         </td><td>3          </td><td>6          </td><td>0          </td><td>0          </td><td>1          </td><td>1          </td></tr>\n",
       "\t<tr><td>0          </td><td>23.71      </td><td>No         </td><td>No         </td><td>0          </td><td>28         </td><td> 0         </td><td>Yes        </td><td>Female     </td><td>40-44      </td><td>White      </td><td>0          </td><td>Yes        </td><td>2          </td><td>8          </td><td>0          </td><td>0          </td><td>0          </td><td>0          </td></tr>\n",
       "</tbody>\n",
       "</table>\n"
      ],
      "text/latex": [
       "\\begin{tabular}{r|lllllllllllllllllll}\n",
       " HeartDisease & BMI & Smoking & AlcoholDrinking & Stroke & PhysicalHealth & MentalHealth & DiffWalking & Sex & AgeCategory & Race & Diabetic & PhysicalActivity & GenHealth & SleepTime & Asthma & KidneyDisease & SkinCancer & DiseaseCount\\\\\n",
       "\\hline\n",
       "\t 0           & 16.60       & Yes         & No          & 0           &  3          & 30          & No          & Female      & 55-59       & White       & 1           & Yes         & 2           & 5           & 1           & 0           & 1           & 3          \\\\\n",
       "\t 0           & 20.34       & No          & No          & 1           &  0          &  0          & No          & Female      & 80 or older & White       & 0           & Yes         & 2           & 7           & 0           & 0           & 0           & 1          \\\\\n",
       "\t 0           & 26.58       & Yes         & No          & 0           & 20          & 30          & No          & Male        & 65-69       & White       & 1           & Yes         & 4           & 8           & 1           & 0           & 0           & 2          \\\\\n",
       "\t 0           & 24.21       & No          & No          & 0           &  0          &  0          & No          & Female      & 75-79       & White       & 0           & No          & 3           & 6           & 0           & 0           & 1           & 1          \\\\\n",
       "\t 0           & 23.71       & No          & No          & 0           & 28          &  0          & Yes         & Female      & 40-44       & White       & 0           & Yes         & 2           & 8           & 0           & 0           & 0           & 0          \\\\\n",
       "\\end{tabular}\n"
      ],
      "text/markdown": [
       "\n",
       "| HeartDisease | BMI | Smoking | AlcoholDrinking | Stroke | PhysicalHealth | MentalHealth | DiffWalking | Sex | AgeCategory | Race | Diabetic | PhysicalActivity | GenHealth | SleepTime | Asthma | KidneyDisease | SkinCancer | DiseaseCount |\n",
       "|---|---|---|---|---|---|---|---|---|---|---|---|---|---|---|---|---|---|---|\n",
       "| 0           | 16.60       | Yes         | No          | 0           |  3          | 30          | No          | Female      | 55-59       | White       | 1           | Yes         | 2           | 5           | 1           | 0           | 1           | 3           |\n",
       "| 0           | 20.34       | No          | No          | 1           |  0          |  0          | No          | Female      | 80 or older | White       | 0           | Yes         | 2           | 7           | 0           | 0           | 0           | 1           |\n",
       "| 0           | 26.58       | Yes         | No          | 0           | 20          | 30          | No          | Male        | 65-69       | White       | 1           | Yes         | 4           | 8           | 1           | 0           | 0           | 2           |\n",
       "| 0           | 24.21       | No          | No          | 0           |  0          |  0          | No          | Female      | 75-79       | White       | 0           | No          | 3           | 6           | 0           | 0           | 1           | 1           |\n",
       "| 0           | 23.71       | No          | No          | 0           | 28          |  0          | Yes         | Female      | 40-44       | White       | 0           | Yes         | 2           | 8           | 0           | 0           | 0           | 0           |\n",
       "\n"
      ],
      "text/plain": [
       "  HeartDisease BMI   Smoking AlcoholDrinking Stroke PhysicalHealth MentalHealth\n",
       "1 0            16.60 Yes     No              0       3             30          \n",
       "2 0            20.34 No      No              1       0              0          \n",
       "3 0            26.58 Yes     No              0      20             30          \n",
       "4 0            24.21 No      No              0       0              0          \n",
       "5 0            23.71 No      No              0      28              0          \n",
       "  DiffWalking Sex    AgeCategory Race  Diabetic PhysicalActivity GenHealth\n",
       "1 No          Female 55-59       White 1        Yes              2        \n",
       "2 No          Female 80 or older White 0        Yes              2        \n",
       "3 No          Male   65-69       White 1        Yes              4        \n",
       "4 No          Female 75-79       White 0        No               3        \n",
       "5 Yes         Female 40-44       White 0        Yes              2        \n",
       "  SleepTime Asthma KidneyDisease SkinCancer DiseaseCount\n",
       "1 5         1      0             1          3           \n",
       "2 7         0      0             0          1           \n",
       "3 8         1      0             0          2           \n",
       "4 6         0      0             1          1           \n",
       "5 8         0      0             0          0           "
      ]
     },
     "metadata": {},
     "output_type": "display_data"
    }
   ],
   "source": [
    "ht %>% head(5)"
   ]
  },
  {
   "cell_type": "code",
   "execution_count": 65,
   "metadata": {},
   "outputs": [
    {
     "data": {
      "text/html": [
       "<table>\n",
       "<thead><tr><th scope=col>Race</th><th scope=col>corr_spearman</th></tr></thead>\n",
       "<tbody>\n",
       "\t<tr><td>Black                         </td><td>0.3616086                     </td></tr>\n",
       "\t<tr><td>Other                         </td><td>0.3463610                     </td></tr>\n",
       "\t<tr><td>American Indian/Alaskan Native</td><td>0.3434454                     </td></tr>\n",
       "\t<tr><td>White                         </td><td>0.3308877                     </td></tr>\n",
       "\t<tr><td>Hispanic                      </td><td>0.3127379                     </td></tr>\n",
       "\t<tr><td>Asian                         </td><td>0.2589447                     </td></tr>\n",
       "</tbody>\n",
       "</table>\n"
      ],
      "text/latex": [
       "\\begin{tabular}{r|ll}\n",
       " Race & corr\\_spearman\\\\\n",
       "\\hline\n",
       "\t Black                          & 0.3616086                     \\\\\n",
       "\t Other                          & 0.3463610                     \\\\\n",
       "\t American Indian/Alaskan Native & 0.3434454                     \\\\\n",
       "\t White                          & 0.3308877                     \\\\\n",
       "\t Hispanic                       & 0.3127379                     \\\\\n",
       "\t Asian                          & 0.2589447                     \\\\\n",
       "\\end{tabular}\n"
      ],
      "text/markdown": [
       "\n",
       "| Race | corr_spearman |\n",
       "|---|---|\n",
       "| Black                          | 0.3616086                      |\n",
       "| Other                          | 0.3463610                      |\n",
       "| American Indian/Alaskan Native | 0.3434454                      |\n",
       "| White                          | 0.3308877                      |\n",
       "| Hispanic                       | 0.3127379                      |\n",
       "| Asian                          | 0.2589447                      |\n",
       "\n"
      ],
      "text/plain": [
       "  Race                           corr_spearman\n",
       "1 Black                          0.3616086    \n",
       "2 Other                          0.3463610    \n",
       "3 American Indian/Alaskan Native 0.3434454    \n",
       "4 White                          0.3308877    \n",
       "5 Hispanic                       0.3127379    \n",
       "6 Asian                          0.2589447    "
      ]
     },
     "metadata": {},
     "output_type": "display_data"
    }
   ],
   "source": [
    "ht %>% group_by(Race) %>% summarise(corr_spearman = cor(GenHealth, DiseaseCount, method = 'spearman')) %>% arrange(desc(corr_spearman))"
   ]
  }
 ],
 "metadata": {
  "kernelspec": {
   "display_name": "R",
   "language": "R",
   "name": "ir"
  },
  "language_info": {
   "codemirror_mode": "r",
   "file_extension": ".r",
   "mimetype": "text/x-r-source",
   "name": "R",
   "pygments_lexer": "r",
   "version": "3.6.1"
  },
  "toc": {
   "base_numbering": 1,
   "nav_menu": {},
   "number_sections": true,
   "sideBar": true,
   "skip_h1_title": false,
   "title_cell": "Table of Contents",
   "title_sidebar": "Contents",
   "toc_cell": false,
   "toc_position": {},
   "toc_section_display": true,
   "toc_window_display": false
  }
 },
 "nbformat": 4,
 "nbformat_minor": 4
}
