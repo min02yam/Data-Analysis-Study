{
  "nbformat": 4,
  "nbformat_minor": 0,
  "metadata": {
    "colab": {
      "name": "20220515_분류분석_weatherAUS_하는중.ipynb",
      "provenance": [],
      "authorship_tag": "ABX9TyNBBlUMyrGKeoY1LRVGjb0B",
      "include_colab_link": true
    },
    "kernelspec": {
      "name": "ir",
      "display_name": "R"
    },
    "language_info": {
      "name": "R"
    }
  },
  "cells": [
    {
      "cell_type": "markdown",
      "metadata": {
        "id": "view-in-github",
        "colab_type": "text"
      },
      "source": [
        "<a href=\"https://colab.research.google.com/github/min02yam/R-study/blob/main/20220515_%EB%B6%84%EB%A5%98%EB%B6%84%EC%84%9D_weatherAUS_%EB%8B%B5.ipynb\" target=\"_parent\"><img src=\"https://colab.research.google.com/assets/colab-badge.svg\" alt=\"Open In Colab\"/></a>"
      ]
    },
    {
      "cell_type": "markdown",
      "source": [
        "--------------------------------------------------------------------------\n",
        "### **2. (분류분석) weatherAUS 데이터 셋을 활용하여**\n",
        "#### 2-1 데이터 요약 값을 보고 NA값이 10,000개 이상인 열을 제외하고 남은 변수중 NA값이 있는 행을 제거하시오\n",
        "#### 2-2 그리고 AUS 데이터의 Date변수를 Date형으로 변환하고, 전처리가 된 weatherAUS 데이터를 train(70%), test(30%)로 분할하시오 (set.seed(6789))\n",
        "####2-3 train 데이터로 RainTomorrow를 예측하는 분류모델을 1개 생성하고, test데이터에 대한 예측값을 csv 파일로 제출 하시오\n",
        "--------------------------------------------------------------------------"
      ],
      "metadata": {
        "id": "DBCzkkuezY3r"
      }
    },
    {
      "cell_type": "markdown",
      "source": [
        "---------------------------**목차**---------------------------\n",
        "1. 패키지 및 데이터 로드\n",
        "2. 데이터 전처리 (2-1), (2-2)\n",
        "3. 모델링<br>\n",
        "4. 파라미터 튜닝<br>\n",
        "5. 평가(2-3) \n"
      ],
      "metadata": {
        "id": "kqM1zOKlQSsg"
      }
    },
    {
      "cell_type": "markdown",
      "source": [
        "## 1. 패키지 및 데이터 로드"
      ],
      "metadata": {
        "id": "UfqBDvtsQI9j"
      }
    },
    {
      "cell_type": "code",
      "source": [
        "install.packages(c(\"randomForest\",\"caret\"))"
      ],
      "metadata": {
        "colab": {
          "base_uri": "https://localhost:8080/"
        },
        "id": "pyw6bphXt65C",
        "outputId": "86da4dab-a893-4938-cea8-2cd81980297c"
      },
      "execution_count": 3,
      "outputs": [
        {
          "output_type": "stream",
          "name": "stderr",
          "text": [
            "Installing packages into ‘/usr/local/lib/R/site-library’\n",
            "(as ‘lib’ is unspecified)\n",
            "\n",
            "also installing the dependencies ‘listenv’, ‘parallelly’, ‘future’, ‘globals’, ‘future.apply’, ‘progressr’, ‘numDeriv’, ‘SQUAREM’, ‘lava’, ‘prodlim’, ‘proxy’, ‘iterators’, ‘gower’, ‘hardhat’, ‘ipred’, ‘timeDate’, ‘e1071’, ‘foreach’, ‘ModelMetrics’, ‘pROC’, ‘recipes’\n",
            "\n",
            "\n"
          ]
        }
      ]
    },
    {
      "cell_type": "code",
      "source": [
        "library(dplyr)\n",
        "library(randomForest) #rf\n",
        "library(caret) #parameter tuning"
      ],
      "metadata": {
        "colab": {
          "base_uri": "https://localhost:8080/"
        },
        "id": "JjotiZo3tg3Q",
        "outputId": "f90f8b87-434b-4379-e7ee-aa8f0e8aaaef"
      },
      "execution_count": 4,
      "outputs": [
        {
          "output_type": "stream",
          "name": "stderr",
          "text": [
            "randomForest 4.7-1\n",
            "\n",
            "Type rfNews() to see new features/changes/bug fixes.\n",
            "\n",
            "\n",
            "Attaching package: ‘randomForest’\n",
            "\n",
            "\n",
            "The following object is masked from ‘package:dplyr’:\n",
            "\n",
            "    combine\n",
            "\n",
            "\n",
            "Loading required package: ggplot2\n",
            "\n",
            "\n",
            "Attaching package: ‘ggplot2’\n",
            "\n",
            "\n",
            "The following object is masked from ‘package:randomForest’:\n",
            "\n",
            "    margin\n",
            "\n",
            "\n",
            "Loading required package: lattice\n",
            "\n",
            "Warning message in system(\"timedatectl\", intern = TRUE):\n",
            "“running command 'timedatectl' had status 1”\n"
          ]
        }
      ]
    },
    {
      "cell_type": "code",
      "source": [
        "install.packages(\"DataExplorer\"); library(DataExplorer)"
      ],
      "metadata": {
        "id": "tqajsSU3Iy9g",
        "outputId": "bdba5df0-7242-46e3-f046-94eb161ae9bb",
        "colab": {
          "base_uri": "https://localhost:8080/"
        }
      },
      "execution_count": 1,
      "outputs": [
        {
          "output_type": "stream",
          "name": "stderr",
          "text": [
            "Installing package into ‘/usr/local/lib/R/site-library’\n",
            "(as ‘lib’ is unspecified)\n",
            "\n",
            "also installing the dependencies ‘plyr’, ‘Rcpp’, ‘htmlwidgets’, ‘igraph’, ‘reshape2’, ‘gridExtra’, ‘networkD3’\n",
            "\n",
            "\n"
          ]
        }
      ]
    },
    {
      "cell_type": "code",
      "source": [
        "df<-read.csv(\"/content/weatherAUS.csv\")"
      ],
      "metadata": {
        "id": "ObY6LRJUzznH"
      },
      "execution_count": 5,
      "outputs": []
    },
    {
      "cell_type": "code",
      "source": [
        "#간단 구조 확인\n",
        "str(df)\n",
        "summary(df)"
      ],
      "metadata": {
        "id": "JaHKeeiUzi0u",
        "colab": {
          "base_uri": "https://localhost:8080/",
          "height": 1000
        },
        "outputId": "248274a8-852e-431b-8dae-1890477ada2d"
      },
      "execution_count": 6,
      "outputs": [
        {
          "output_type": "stream",
          "name": "stdout",
          "text": [
            "'data.frame':\t142193 obs. of  21 variables:\n",
            " $ Date         : chr  \"2008-12-01\" \"2008-12-02\" \"2008-12-03\" \"2008-12-04\" ...\n",
            " $ Location     : chr  \"Albury\" \"Albury\" \"Albury\" \"Albury\" ...\n",
            " $ MinTemp      : num  13.4 7.4 12.9 9.2 17.5 14.6 14.3 7.7 9.7 13.1 ...\n",
            " $ MaxTemp      : num  22.9 25.1 25.7 28 32.3 29.7 25 26.7 31.9 30.1 ...\n",
            " $ Rainfall     : num  0.6 0 0 0 1 0.2 0 0 0 1.4 ...\n",
            " $ WindGustDir  : chr  \"W\" \"WNW\" \"WSW\" \"NE\" ...\n",
            " $ WindGustSpeed: int  44 44 46 24 41 56 50 35 80 28 ...\n",
            " $ WindDir9am   : chr  \"W\" \"NNW\" \"W\" \"SE\" ...\n",
            " $ WindDir3pm   : chr  \"WNW\" \"WSW\" \"WSW\" \"E\" ...\n",
            " $ WindSpeed9am : int  20 4 19 11 7 19 20 6 7 15 ...\n",
            " $ WindSpeed3pm : int  24 22 26 9 20 24 24 17 28 11 ...\n",
            " $ Humidity9am  : int  71 44 38 45 82 55 49 48 42 58 ...\n",
            " $ Humidity3pm  : int  22 25 30 16 33 23 19 19 9 27 ...\n",
            " $ Pressure9am  : num  1008 1011 1008 1018 1011 ...\n",
            " $ Pressure3pm  : num  1007 1008 1009 1013 1006 ...\n",
            " $ Cloud9am     : int  8 NA NA NA 7 NA 1 NA NA NA ...\n",
            " $ Cloud3pm     : int  NA NA 2 NA 8 NA NA NA NA NA ...\n",
            " $ Temp9am      : num  16.9 17.2 21 18.1 17.8 20.6 18.1 16.3 18.3 20.1 ...\n",
            " $ Temp3pm      : num  21.8 24.3 23.2 26.5 29.7 28.9 24.6 25.5 30.2 28.2 ...\n",
            " $ RainToday    : chr  \"No\" \"No\" \"No\" \"No\" ...\n",
            " $ RainTomorrow : chr  \"No\" \"No\" \"No\" \"No\" ...\n"
          ]
        },
        {
          "output_type": "display_data",
          "data": {
            "text/plain": [
              "     Date             Location            MinTemp         MaxTemp     \n",
              " Length:142193      Length:142193      Min.   :-8.50   Min.   :-4.80  \n",
              " Class :character   Class :character   1st Qu.: 7.60   1st Qu.:17.90  \n",
              " Mode  :character   Mode  :character   Median :12.00   Median :22.60  \n",
              "                                       Mean   :12.19   Mean   :23.23  \n",
              "                                       3rd Qu.:16.80   3rd Qu.:28.20  \n",
              "                                       Max.   :33.90   Max.   :48.10  \n",
              "                                       NA's   :637     NA's   :322    \n",
              "    Rainfall      WindGustDir        WindGustSpeed     WindDir9am       \n",
              " Min.   :  0.00   Length:142193      Min.   :  6.00   Length:142193     \n",
              " 1st Qu.:  0.00   Class :character   1st Qu.: 31.00   Class :character  \n",
              " Median :  0.00   Mode  :character   Median : 39.00   Mode  :character  \n",
              " Mean   :  2.35                      Mean   : 39.98                     \n",
              " 3rd Qu.:  0.80                      3rd Qu.: 48.00                     \n",
              " Max.   :371.00                      Max.   :135.00                     \n",
              " NA's   :1406                        NA's   :9270                       \n",
              "  WindDir3pm         WindSpeed9am   WindSpeed3pm    Humidity9am    \n",
              " Length:142193      Min.   :  0    Min.   : 0.00   Min.   :  0.00  \n",
              " Class :character   1st Qu.:  7    1st Qu.:13.00   1st Qu.: 57.00  \n",
              " Mode  :character   Median : 13    Median :19.00   Median : 70.00  \n",
              "                    Mean   : 14    Mean   :18.64   Mean   : 68.84  \n",
              "                    3rd Qu.: 19    3rd Qu.:24.00   3rd Qu.: 83.00  \n",
              "                    Max.   :130    Max.   :87.00   Max.   :100.00  \n",
              "                    NA's   :1348   NA's   :2630    NA's   :1774    \n",
              "  Humidity3pm      Pressure9am      Pressure3pm        Cloud9am    \n",
              " Min.   :  0.00   Min.   : 980.5   Min.   : 977.1   Min.   :0.00   \n",
              " 1st Qu.: 37.00   1st Qu.:1012.9   1st Qu.:1010.4   1st Qu.:1.00   \n",
              " Median : 52.00   Median :1017.6   Median :1015.2   Median :5.00   \n",
              " Mean   : 51.48   Mean   :1017.7   Mean   :1015.3   Mean   :4.44   \n",
              " 3rd Qu.: 66.00   3rd Qu.:1022.4   3rd Qu.:1020.0   3rd Qu.:7.00   \n",
              " Max.   :100.00   Max.   :1041.0   Max.   :1039.6   Max.   :9.00   \n",
              " NA's   :3610     NA's   :14014    NA's   :13981    NA's   :53657  \n",
              "    Cloud3pm        Temp9am         Temp3pm       RainToday        \n",
              " Min.   :0.0     Min.   :-7.20   Min.   :-5.40   Length:142193     \n",
              " 1st Qu.:2.0     1st Qu.:12.30   1st Qu.:16.60   Class :character  \n",
              " Median :5.0     Median :16.70   Median :21.10   Mode  :character  \n",
              " Mean   :4.5     Mean   :16.99   Mean   :21.69                     \n",
              " 3rd Qu.:7.0     3rd Qu.:21.60   3rd Qu.:26.40                     \n",
              " Max.   :9.0     Max.   :40.20   Max.   :46.70                     \n",
              " NA's   :57094   NA's   :904     NA's   :2726                      \n",
              " RainTomorrow      \n",
              " Length:142193     \n",
              " Class :character  \n",
              " Mode  :character  \n",
              "                   \n",
              "                   \n",
              "                   \n",
              "                   "
            ]
          },
          "metadata": {}
        }
      ]
    },
    {
      "cell_type": "markdown",
      "source": [
        "1. 총 142193 관측치와 21차원\n",
        "2. 이때, 입력피처는 20개이고 타겟은 \"RainTomorrow\"이다\n",
        "3. 이진분류\n",
        "4. 연속형 피처 14개, 범주형 피처6개\n",
        "5. NA 다수 존재 "
      ],
      "metadata": {
        "id": "lWvQXgRHrDSb"
      }
    },
    {
      "cell_type": "markdown",
      "source": [
        "## 2. 데이터 전처리 "
      ],
      "metadata": {
        "id": "CZZGM2Mdrll6"
      }
    },
    {
      "cell_type": "markdown",
      "source": [
        "2-1 데이터 요약 값을 보고 NA값이 10,000개 이상인 열을 제외하고 남은 변수중 NA값이 있는 행을 제거하시오"
      ],
      "metadata": {
        "id": "WgaUCJWcsD8x"
      }
    },
    {
      "cell_type": "code",
      "source": [
        "#which(colSums(is.na(df))>=10000)\n",
        "df<-df[,-which(colSums(is.na(df))>=10000) ]"
      ],
      "metadata": {
        "id": "oaMb-B4ksJ7v"
      },
      "execution_count": 7,
      "outputs": []
    },
    {
      "cell_type": "code",
      "source": [
        "str(df);summary(df) # 확인"
      ],
      "metadata": {
        "colab": {
          "base_uri": "https://localhost:8080/",
          "height": 933
        },
        "id": "hqZY1Z2SsJxY",
        "outputId": "709ef459-a869-4d2f-c053-ae844e33e1be"
      },
      "execution_count": 8,
      "outputs": [
        {
          "output_type": "stream",
          "name": "stdout",
          "text": [
            "'data.frame':\t142193 obs. of  16 variables:\n",
            " $ Date         : chr  \"2008-12-01\" \"2008-12-02\" \"2008-12-03\" \"2008-12-04\" ...\n",
            " $ Location     : chr  \"Albury\" \"Albury\" \"Albury\" \"Albury\" ...\n",
            " $ MinTemp      : num  13.4 7.4 12.9 9.2 17.5 14.6 14.3 7.7 9.7 13.1 ...\n",
            " $ MaxTemp      : num  22.9 25.1 25.7 28 32.3 29.7 25 26.7 31.9 30.1 ...\n",
            " $ Rainfall     : num  0.6 0 0 0 1 0.2 0 0 0 1.4 ...\n",
            " $ WindGustDir  : chr  \"W\" \"WNW\" \"WSW\" \"NE\" ...\n",
            " $ WindGustSpeed: int  44 44 46 24 41 56 50 35 80 28 ...\n",
            " $ WindDir3pm   : chr  \"WNW\" \"WSW\" \"WSW\" \"E\" ...\n",
            " $ WindSpeed9am : int  20 4 19 11 7 19 20 6 7 15 ...\n",
            " $ WindSpeed3pm : int  24 22 26 9 20 24 24 17 28 11 ...\n",
            " $ Humidity9am  : int  71 44 38 45 82 55 49 48 42 58 ...\n",
            " $ Humidity3pm  : int  22 25 30 16 33 23 19 19 9 27 ...\n",
            " $ Temp9am      : num  16.9 17.2 21 18.1 17.8 20.6 18.1 16.3 18.3 20.1 ...\n",
            " $ Temp3pm      : num  21.8 24.3 23.2 26.5 29.7 28.9 24.6 25.5 30.2 28.2 ...\n",
            " $ RainToday    : chr  \"No\" \"No\" \"No\" \"No\" ...\n",
            " $ RainTomorrow : chr  \"No\" \"No\" \"No\" \"No\" ...\n"
          ]
        },
        {
          "output_type": "display_data",
          "data": {
            "text/plain": [
              "     Date             Location            MinTemp         MaxTemp     \n",
              " Length:142193      Length:142193      Min.   :-8.50   Min.   :-4.80  \n",
              " Class :character   Class :character   1st Qu.: 7.60   1st Qu.:17.90  \n",
              " Mode  :character   Mode  :character   Median :12.00   Median :22.60  \n",
              "                                       Mean   :12.19   Mean   :23.23  \n",
              "                                       3rd Qu.:16.80   3rd Qu.:28.20  \n",
              "                                       Max.   :33.90   Max.   :48.10  \n",
              "                                       NA's   :637     NA's   :322    \n",
              "    Rainfall      WindGustDir        WindGustSpeed     WindDir3pm       \n",
              " Min.   :  0.00   Length:142193      Min.   :  6.00   Length:142193     \n",
              " 1st Qu.:  0.00   Class :character   1st Qu.: 31.00   Class :character  \n",
              " Median :  0.00   Mode  :character   Median : 39.00   Mode  :character  \n",
              " Mean   :  2.35                      Mean   : 39.98                     \n",
              " 3rd Qu.:  0.80                      3rd Qu.: 48.00                     \n",
              " Max.   :371.00                      Max.   :135.00                     \n",
              " NA's   :1406                        NA's   :9270                       \n",
              "  WindSpeed9am   WindSpeed3pm    Humidity9am      Humidity3pm    \n",
              " Min.   :  0    Min.   : 0.00   Min.   :  0.00   Min.   :  0.00  \n",
              " 1st Qu.:  7    1st Qu.:13.00   1st Qu.: 57.00   1st Qu.: 37.00  \n",
              " Median : 13    Median :19.00   Median : 70.00   Median : 52.00  \n",
              " Mean   : 14    Mean   :18.64   Mean   : 68.84   Mean   : 51.48  \n",
              " 3rd Qu.: 19    3rd Qu.:24.00   3rd Qu.: 83.00   3rd Qu.: 66.00  \n",
              " Max.   :130    Max.   :87.00   Max.   :100.00   Max.   :100.00  \n",
              " NA's   :1348   NA's   :2630    NA's   :1774     NA's   :3610    \n",
              "    Temp9am         Temp3pm       RainToday         RainTomorrow      \n",
              " Min.   :-7.20   Min.   :-5.40   Length:142193      Length:142193     \n",
              " 1st Qu.:12.30   1st Qu.:16.60   Class :character   Class :character  \n",
              " Median :16.70   Median :21.10   Mode  :character   Mode  :character  \n",
              " Mean   :16.99   Mean   :21.69                                        \n",
              " 3rd Qu.:21.60   3rd Qu.:26.40                                        \n",
              " Max.   :40.20   Max.   :46.70                                        \n",
              " NA's   :904     NA's   :2726                                         "
            ]
          },
          "metadata": {}
        }
      ]
    },
    {
      "cell_type": "code",
      "source": [
        "df<-na.omit(df); summary(df)"
      ],
      "metadata": {
        "colab": {
          "base_uri": "https://localhost:8080/",
          "height": 540
        },
        "id": "TxFVNI_wsJhA",
        "outputId": "a71b5258-446b-4de8-c361-82515d242e59"
      },
      "execution_count": 9,
      "outputs": [
        {
          "output_type": "display_data",
          "data": {
            "text/plain": [
              "     Date             Location            MinTemp         MaxTemp     \n",
              " Length:128576      Length:128576      Min.   :-8.50   Min.   :-4.80  \n",
              " Class :character   Class :character   1st Qu.: 7.50   1st Qu.:17.90  \n",
              " Mode  :character   Mode  :character   Median :11.90   Median :22.80  \n",
              "                                       Mean   :12.14   Mean   :23.31  \n",
              "                                       3rd Qu.:16.80   3rd Qu.:28.40  \n",
              "                                       Max.   :33.90   Max.   :48.10  \n",
              "    Rainfall       WindGustDir        WindGustSpeed     WindDir3pm       \n",
              " Min.   :  0.000   Length:128576      Min.   :  6.00   Length:128576     \n",
              " 1st Qu.:  0.000   Class :character   1st Qu.: 31.00   Class :character  \n",
              " Median :  0.000   Mode  :character   Median : 39.00   Mode  :character  \n",
              " Mean   :  2.299                      Mean   : 40.06                     \n",
              " 3rd Qu.:  0.600                      3rd Qu.: 48.00                     \n",
              " Max.   :367.600                      Max.   :135.00                     \n",
              "  WindSpeed9am    WindSpeed3pm    Humidity9am      Humidity3pm    \n",
              " Min.   : 0.00   Min.   : 2.00   Min.   :  0.00   Min.   :  0.00  \n",
              " 1st Qu.: 7.00   1st Qu.:13.00   1st Qu.: 56.00   1st Qu.: 36.00  \n",
              " Median :13.00   Median :19.00   Median : 69.00   Median : 51.00  \n",
              " Mean   :14.24   Mean   :18.87   Mean   : 68.52   Mean   : 50.92  \n",
              " 3rd Qu.:20.00   3rd Qu.:24.00   3rd Qu.: 83.00   3rd Qu.: 65.00  \n",
              " Max.   :87.00   Max.   :87.00   Max.   :100.00   Max.   :100.00  \n",
              "    Temp9am         Temp3pm      RainToday         RainTomorrow      \n",
              " Min.   :-7.20   Min.   :-5.4   Length:128576      Length:128576     \n",
              " 1st Qu.:12.20   1st Qu.:16.6   Class :character   Class :character  \n",
              " Median :16.70   Median :21.3   Mode  :character   Mode  :character  \n",
              " Mean   :16.97   Mean   :21.8                                        \n",
              " 3rd Qu.:21.60   3rd Qu.:26.6                                        \n",
              " Max.   :40.20   Max.   :46.7                                        "
            ]
          },
          "metadata": {}
        }
      ]
    },
    {
      "cell_type": "markdown",
      "source": [
        "2-2. AUS 데이터의 Date변수를 Date형으로 변환하고"
      ],
      "metadata": {
        "id": "95AAE2x0rsQr"
      }
    },
    {
      "cell_type": "code",
      "source": [
        "library(magrittr) #파이프활성화"
      ],
      "metadata": {
        "id": "L5vZWzJ8FM2R"
      },
      "execution_count": 10,
      "outputs": []
    },
    {
      "cell_type": "code",
      "source": [
        "colnames(df)<-tolower(colnames(df)) #먼저 소문자로 바꿔주고\n",
        "names(df)"
      ],
      "metadata": {
        "colab": {
          "base_uri": "https://localhost:8080/",
          "height": 69
        },
        "id": "ZkC0h0B0z6YA",
        "outputId": "133ec220-3d27-43c9-96c4-eb767998fad9"
      },
      "execution_count": 11,
      "outputs": [
        {
          "output_type": "display_data",
          "data": {
            "text/html": [
              "<style>\n",
              ".list-inline {list-style: none; margin:0; padding: 0}\n",
              ".list-inline>li {display: inline-block}\n",
              ".list-inline>li:not(:last-child)::after {content: \"\\00b7\"; padding: 0 .5ex}\n",
              "</style>\n",
              "<ol class=list-inline><li>'date'</li><li>'location'</li><li>'mintemp'</li><li>'maxtemp'</li><li>'rainfall'</li><li>'windgustdir'</li><li>'windgustspeed'</li><li>'winddir3pm'</li><li>'windspeed9am'</li><li>'windspeed3pm'</li><li>'humidity9am'</li><li>'humidity3pm'</li><li>'temp9am'</li><li>'temp3pm'</li><li>'raintoday'</li><li>'raintomorrow'</li></ol>\n"
            ],
            "text/markdown": "1. 'date'\n2. 'location'\n3. 'mintemp'\n4. 'maxtemp'\n5. 'rainfall'\n6. 'windgustdir'\n7. 'windgustspeed'\n8. 'winddir3pm'\n9. 'windspeed9am'\n10. 'windspeed3pm'\n11. 'humidity9am'\n12. 'humidity3pm'\n13. 'temp9am'\n14. 'temp3pm'\n15. 'raintoday'\n16. 'raintomorrow'\n\n\n",
            "text/latex": "\\begin{enumerate*}\n\\item 'date'\n\\item 'location'\n\\item 'mintemp'\n\\item 'maxtemp'\n\\item 'rainfall'\n\\item 'windgustdir'\n\\item 'windgustspeed'\n\\item 'winddir3pm'\n\\item 'windspeed9am'\n\\item 'windspeed3pm'\n\\item 'humidity9am'\n\\item 'humidity3pm'\n\\item 'temp9am'\n\\item 'temp3pm'\n\\item 'raintoday'\n\\item 'raintomorrow'\n\\end{enumerate*}\n",
            "text/plain": [
              " [1] \"date\"          \"location\"      \"mintemp\"       \"maxtemp\"      \n",
              " [5] \"rainfall\"      \"windgustdir\"   \"windgustspeed\" \"winddir3pm\"   \n",
              " [9] \"windspeed9am\"  \"windspeed3pm\"  \"humidity9am\"   \"humidity3pm\"  \n",
              "[13] \"temp9am\"       \"temp3pm\"       \"raintoday\"     \"raintomorrow\" "
            ]
          },
          "metadata": {}
        }
      ]
    },
    {
      "cell_type": "code",
      "source": [
        "df$date<- as.Date(df$date, tryFormats=\"%Y-%m-%d\") #연도는 대문자\n",
        "str(df)\n",
        "#?as.Date # %Y-%m-%d"
      ],
      "metadata": {
        "colab": {
          "base_uri": "https://localhost:8080/"
        },
        "id": "tLfPLwIZzVTe",
        "outputId": "e6c627e2-0fdb-4ab7-a259-a76e7c0d51d8"
      },
      "execution_count": 12,
      "outputs": [
        {
          "output_type": "stream",
          "name": "stdout",
          "text": [
            "'data.frame':\t128576 obs. of  16 variables:\n",
            " $ date         : Date, format: \"2008-12-01\" \"2008-12-02\" ...\n",
            " $ location     : chr  \"Albury\" \"Albury\" \"Albury\" \"Albury\" ...\n",
            " $ mintemp      : num  13.4 7.4 12.9 9.2 17.5 14.6 14.3 7.7 9.7 13.1 ...\n",
            " $ maxtemp      : num  22.9 25.1 25.7 28 32.3 29.7 25 26.7 31.9 30.1 ...\n",
            " $ rainfall     : num  0.6 0 0 0 1 0.2 0 0 0 1.4 ...\n",
            " $ windgustdir  : chr  \"W\" \"WNW\" \"WSW\" \"NE\" ...\n",
            " $ windgustspeed: int  44 44 46 24 41 56 50 35 80 28 ...\n",
            " $ winddir3pm   : chr  \"WNW\" \"WSW\" \"WSW\" \"E\" ...\n",
            " $ windspeed9am : int  20 4 19 11 7 19 20 6 7 15 ...\n",
            " $ windspeed3pm : int  24 22 26 9 20 24 24 17 28 11 ...\n",
            " $ humidity9am  : int  71 44 38 45 82 55 49 48 42 58 ...\n",
            " $ humidity3pm  : int  22 25 30 16 33 23 19 19 9 27 ...\n",
            " $ temp9am      : num  16.9 17.2 21 18.1 17.8 20.6 18.1 16.3 18.3 20.1 ...\n",
            " $ temp3pm      : num  21.8 24.3 23.2 26.5 29.7 28.9 24.6 25.5 30.2 28.2 ...\n",
            " $ raintoday    : chr  \"No\" \"No\" \"No\" \"No\" ...\n",
            " $ raintomorrow : chr  \"No\" \"No\" \"No\" \"No\" ...\n",
            " - attr(*, \"na.action\")= 'omit' Named int [1:13617] 15 64 65 75 89 182 187 196 199 226 ...\n",
            "  ..- attr(*, \"names\")= chr [1:13617] \"15\" \"64\" \"65\" \"75\" ...\n"
          ]
        }
      ]
    },
    {
      "cell_type": "markdown",
      "source": [
        "2-3. 전처리가 된 weatherAUS 데이터를 train(70%), test(30%)로 분할하시오<br> set.seed(6789)"
      ],
      "metadata": {
        "id": "kEbWXc7Zr0-Z"
      }
    },
    {
      "cell_type": "code",
      "source": [
        "set.seed(6789)\n",
        "ind<-sample(1:nrow(df), nrow(df)*0.7, replace=FALSE)\n",
        "train<-df[ind,]\n",
        "test<-df[-ind,]\n",
        "summary(train) # 확인"
      ],
      "metadata": {
        "id": "9s9Co3ScHH2U",
        "outputId": "10c6d956-a25a-4ade-90f4-44b03e9ab99f",
        "colab": {
          "base_uri": "https://localhost:8080/",
          "height": 540
        }
      },
      "execution_count": 13,
      "outputs": [
        {
          "output_type": "display_data",
          "data": {
            "text/plain": [
              "      date              location            mintemp         maxtemp     \n",
              " Min.   :2007-11-02   Length:90003       Min.   :-8.20   Min.   :-4.80  \n",
              " 1st Qu.:2011-01-21   Class :character   1st Qu.: 7.50   1st Qu.:17.90  \n",
              " Median :2013-06-11   Mode  :character   Median :11.90   Median :22.80  \n",
              " Mean   :2013-04-10                      Mean   :12.15   Mean   :23.31  \n",
              " 3rd Qu.:2015-06-15                      3rd Qu.:16.80   3rd Qu.:28.40  \n",
              " Max.   :2017-06-25                      Max.   :33.90   Max.   :48.10  \n",
              "    rainfall       windgustdir        windgustspeed     winddir3pm       \n",
              " Min.   :  0.000   Length:90003       Min.   :  6.00   Length:90003      \n",
              " 1st Qu.:  0.000   Class :character   1st Qu.: 31.00   Class :character  \n",
              " Median :  0.000   Mode  :character   Median : 39.00   Mode  :character  \n",
              " Mean   :  2.304                      Mean   : 40.02                     \n",
              " 3rd Qu.:  0.600                      3rd Qu.: 48.00                     \n",
              " Max.   :367.600                      Max.   :130.00                     \n",
              "  windspeed9am    windspeed3pm    humidity9am      humidity3pm    \n",
              " Min.   : 0.00   Min.   : 2.00   Min.   :  0.00   Min.   :  0.00  \n",
              " 1st Qu.: 7.00   1st Qu.:13.00   1st Qu.: 56.00   1st Qu.: 36.00  \n",
              " Median :13.00   Median :19.00   Median : 69.00   Median : 51.00  \n",
              " Mean   :14.25   Mean   :18.87   Mean   : 68.51   Mean   : 50.92  \n",
              " 3rd Qu.:20.00   3rd Qu.:24.00   3rd Qu.: 83.00   3rd Qu.: 65.00  \n",
              " Max.   :87.00   Max.   :76.00   Max.   :100.00   Max.   :100.00  \n",
              "    temp9am         temp3pm      raintoday         raintomorrow      \n",
              " Min.   :-7.20   Min.   :-5.4   Length:90003       Length:90003      \n",
              " 1st Qu.:12.20   1st Qu.:16.6   Class :character   Class :character  \n",
              " Median :16.70   Median :21.3   Mode  :character   Mode  :character  \n",
              " Mean   :16.98   Mean   :21.8                                        \n",
              " 3rd Qu.:21.60   3rd Qu.:26.6                                        \n",
              " Max.   :39.40   Max.   :46.7                                        "
            ]
          },
          "metadata": {}
        }
      ]
    },
    {
      "cell_type": "markdown",
      "source": [
        "## 3. 모델링\n",
        "train 데이터로 RainTomorrow를 예측하는 분류모델을 1개 생성하고, test데이터에 대한 예측값을 csv 파일로 제출 하시오"
      ],
      "metadata": {
        "id": "Syu3tYaXHsLn"
      }
    },
    {
      "cell_type": "code",
      "source": [
        "#먼저 범주형 클래스 확인\n",
        "plot_bar(train)"
      ],
      "metadata": {
        "id": "ungmy_HkIgaN",
        "outputId": "52af6ad1-5964-4928-a778-ab0ddfb22b20",
        "colab": {
          "base_uri": "https://localhost:8080/",
          "height": 512
        }
      },
      "execution_count": 14,
      "outputs": [
        {
          "output_type": "stream",
          "name": "stderr",
          "text": [
            "1 columns ignored with more than 50 categories.\n",
            "date: 3358 categories\n",
            "\n",
            "\n"
          ]
        },
        {
          "output_type": "display_data",
          "data": {
            "text/plain": [
              "plot without title"
            ],
            "image/png": "[encoded data removed]"
          },
          "metadata": {
            "image/png": {
              "width": 420,
              "height": 420
            }
          }
        }
      ]
    },
    {
      "cell_type": "code",
      "source": [
        "nrow(table(df$location))  #최대 47클래스있음 date는 어떻게할까 ? "
      ],
      "metadata": {
        "id": "M5Tz4lmzKXw3",
        "outputId": "27826071-99d2-477e-af15-8d0c47bfe95f",
        "colab": {
          "base_uri": "https://localhost:8080/",
          "height": 34
        }
      },
      "execution_count": 15,
      "outputs": [
        {
          "output_type": "display_data",
          "data": {
            "text/html": [
              "47"
            ],
            "text/markdown": "47",
            "text/latex": "47",
            "text/plain": [
              "[1] 47"
            ]
          },
          "metadata": {}
        }
      ]
    },
    {
      "cell_type": "code",
      "source": [
        "str(train)"
      ],
      "metadata": {
        "colab": {
          "base_uri": "https://localhost:8080/"
        },
        "id": "IyehY4eVnLiI",
        "outputId": "a17c24e7-9ff4-41cf-ef9f-307a8eeaa447"
      },
      "execution_count": 17,
      "outputs": [
        {
          "output_type": "stream",
          "name": "stdout",
          "text": [
            "'data.frame':\t90003 obs. of  16 variables:\n",
            " $ date         : Date, format: \"2015-08-29\" \"2010-02-27\" ...\n",
            " $ location     : chr  \"MountGinini\" \"Perth\" \"Cairns\" \"Portland\" ...\n",
            " $ mintemp      : num  -2.7 21.5 24.4 7 12.9 7.1 12.6 16.3 17.4 3.2 ...\n",
            " $ maxtemp      : num  4.3 37.9 30.5 12.5 23.2 19.4 21.9 32.6 34.3 17.6 ...\n",
            " $ rainfall     : num  0 0 48.4 4.2 0 0 11.4 0 0 0 ...\n",
            " $ windgustdir  : chr  \"WSW\" \"ENE\" \"SSE\" \"SSE\" ...\n",
            " $ windgustspeed: int  41 41 35 35 35 39 19 26 72 28 ...\n",
            " $ winddir3pm   : chr  \"WSW\" \"E\" \"NNE\" \"SW\" ...\n",
            " $ windspeed9am : int  19 19 9 13 2 20 15 13 17 6 ...\n",
            " $ windspeed3pm : int  17 19 13 19 20 22 13 11 17 7 ...\n",
            " $ humidity9am  : int  98 47 89 63 76 62 90 53 42 80 ...\n",
            " $ humidity3pm  : int  58 20 82 69 52 26 61 19 19 47 ...\n",
            " $ temp9am      : num  -1.3 26.6 25.9 10 16.5 11.1 15.6 22 24 9.9 ...\n",
            " $ temp3pm      : num  3.9 37.4 28.3 11.8 22.6 18.6 20.1 31.2 32.9 16.6 ...\n",
            " $ raintoday    : chr  \"No\" \"No\" \"Yes\" \"Yes\" ...\n",
            " $ raintomorrow : chr  \"No\" \"No\" \"Yes\" \"No\" ...\n",
            " - attr(*, \"na.action\")= 'omit' Named int [1:13617] 15 64 65 75 89 182 187 196 199 226 ...\n",
            "  ..- attr(*, \"names\")= chr [1:13617] \"15\" \"64\" \"65\" \"75\" ...\n"
          ]
        }
      ]
    },
    {
      "cell_type": "code",
      "source": [
        "#캐릭터->팩터 변경 \n",
        "for (j in c(2,6,8,15:16)){\n",
        "  train[,j]<-as.factor(train[,j])\n",
        "}\n",
        "str(train)"
      ],
      "metadata": {
        "colab": {
          "base_uri": "https://localhost:8080/"
        },
        "id": "W4iJzYfPn0OD",
        "outputId": "258e8079-dcfd-42cf-b7ba-68e9177b2d6d"
      },
      "execution_count": 18,
      "outputs": [
        {
          "output_type": "stream",
          "name": "stdout",
          "text": [
            "'data.frame':\t90003 obs. of  16 variables:\n",
            " $ date         : Date, format: \"2015-08-29\" \"2010-02-27\" ...\n",
            " $ location     : Factor w/ 47 levels \"Adelaide\",\"Albury\",..: 23 30 8 32 17 40 44 41 24 4 ...\n",
            " $ mintemp      : num  -2.7 21.5 24.4 7 12.9 7.1 12.6 16.3 17.4 3.2 ...\n",
            " $ maxtemp      : num  4.3 37.9 30.5 12.5 23.2 19.4 21.9 32.6 34.3 17.6 ...\n",
            " $ rainfall     : num  0 0 48.4 4.2 0 0 11.4 0 0 0 ...\n",
            " $ windgustdir  : Factor w/ 16 levels \"E\",\"ENE\",\"ESE\",..: 16 2 11 11 8 10 8 6 13 13 ...\n",
            " $ windgustspeed: int  41 41 35 35 35 39 19 26 72 28 ...\n",
            " $ winddir3pm   : Factor w/ 16 levels \"E\",\"ENE\",\"ESE\",..: 16 1 6 13 8 3 3 1 6 9 ...\n",
            " $ windspeed9am : int  19 19 9 13 2 20 15 13 17 6 ...\n",
            " $ windspeed3pm : int  17 19 13 19 20 22 13 11 17 7 ...\n",
            " $ humidity9am  : int  98 47 89 63 76 62 90 53 42 80 ...\n",
            " $ humidity3pm  : int  58 20 82 69 52 26 61 19 19 47 ...\n",
            " $ temp9am      : num  -1.3 26.6 25.9 10 16.5 11.1 15.6 22 24 9.9 ...\n",
            " $ temp3pm      : num  3.9 37.4 28.3 11.8 22.6 18.6 20.1 31.2 32.9 16.6 ...\n",
            " $ raintoday    : Factor w/ 2 levels \"No\",\"Yes\": 1 1 2 2 1 1 2 1 1 1 ...\n",
            " $ raintomorrow : Factor w/ 2 levels \"No\",\"Yes\": 1 1 2 1 1 1 1 1 2 1 ...\n",
            " - attr(*, \"na.action\")= 'omit' Named int [1:13617] 15 64 65 75 89 182 187 196 199 226 ...\n",
            "  ..- attr(*, \"names\")= chr [1:13617] \"15\" \"64\" \"65\" \"75\" ...\n"
          ]
        }
      ]
    },
    {
      "cell_type": "code",
      "source": [
        "#TEST적용\n",
        "for (j in c(2,6,8,15:16)){\n",
        "  test[,j]<-as.factor(test[,j])\n",
        "}"
      ],
      "metadata": {
        "id": "4Ii3ysL5pIKx"
      },
      "execution_count": 20,
      "outputs": []
    },
    {
      "cell_type": "code",
      "source": [
        "#그냥 하기\n",
        "rf<-randomForest(raintomorrow ~. ,  train) ; rf"
      ],
      "metadata": {
        "colab": {
          "base_uri": "https://localhost:8080/",
          "height": 241
        },
        "id": "Oq8awUMPlsN2",
        "outputId": "4b17140b-e3ca-4897-86e3-c8b787783490"
      },
      "execution_count": 19,
      "outputs": [
        {
          "output_type": "display_data",
          "data": {
            "text/plain": [
              "\n",
              "Call:\n",
              " randomForest(formula = raintomorrow ~ ., data = train) \n",
              "               Type of random forest: classification\n",
              "                     Number of trees: 500\n",
              "No. of variables tried at each split: 3\n",
              "\n",
              "        OOB estimate of  error rate: 14.05%\n",
              "Confusion matrix:\n",
              "       No   Yes class.error\n",
              "No  66463  4007  0.05686108\n",
              "Yes  8638 10895  0.44222598"
            ]
          },
          "metadata": {}
        }
      ]
    },
    {
      "cell_type": "markdown",
      "source": [
        "1. 기본 500개 트리 생성\n",
        "2.oob(out of bag) 오차율 14.05%"
      ],
      "metadata": {
        "id": "OjJY0TfSpT90"
      }
    },
    {
      "cell_type": "markdown",
      "source": [
        "## 4. 파라미터 튜닝"
      ],
      "metadata": {
        "id": "a1ZZDLySrAFK"
      }
    },
    {
      "cell_type": "code",
      "source": [
        "##트리 수에 따른 오차 보기\n",
        "plot(rf) "
      ],
      "metadata": {
        "colab": {
          "base_uri": "https://localhost:8080/",
          "height": 437
        },
        "id": "b6TwEdQDlr85",
        "outputId": "0d5ddde8-4e27-4fc6-f349-b03b24bfb8b5"
      },
      "execution_count": 21,
      "outputs": [
        {
          "output_type": "display_data",
          "data": {
            "text/plain": [
              "Plot with title “rf”"
            ],
            "image/png": "[encoded data removed]"
          },
          "metadata": {
            "image/png": {
              "width": 420,
              "height": 420
            }
          }
        }
      ]
    },
    {
      "cell_type": "code",
      "source": [
        "#최소 오차율 위치로 최적 트리수 찾기\n",
        "which.min(rf$err.rate[,1]) "
      ],
      "metadata": {
        "colab": {
          "base_uri": "https://localhost:8080/",
          "height": 34
        },
        "id": "pLa92Ee2pgYc",
        "outputId": "68d03223-f938-45be-852c-20dc835113b4"
      },
      "execution_count": 23,
      "outputs": [
        {
          "output_type": "display_data",
          "data": {
            "text/html": [
              "391"
            ],
            "text/markdown": "391",
            "text/latex": "391",
            "text/plain": [
              "[1] 391"
            ]
          },
          "metadata": {}
        }
      ]
    },
    {
      "cell_type": "markdown",
      "source": [
        "- 정확도 최적화에 필요한 트리수는 391이면 됨"
      ],
      "metadata": {
        "id": "2nurn4SIqKRa"
      }
    },
    {
      "cell_type": "code",
      "source": [
        "#파라미터 최적화\n",
        "rf2<-randomForest(raintomorrow ~. ,  train , ntree=391)\n",
        "print(rf2)"
      ],
      "metadata": {
        "colab": {
          "base_uri": "https://localhost:8080/"
        },
        "id": "fU-yidWqqZqq",
        "outputId": "3b2b1917-7df7-4fca-c198-d093e2a30e01"
      },
      "execution_count": 24,
      "outputs": [
        {
          "output_type": "stream",
          "name": "stdout",
          "text": [
            "\n",
            "Call:\n",
            " randomForest(formula = raintomorrow ~ ., data = train, ntree = 391) \n",
            "               Type of random forest: classification\n",
            "                     Number of trees: 391\n",
            "No. of variables tried at each split: 3\n",
            "\n",
            "        OOB estimate of  error rate: 14.06%\n",
            "Confusion matrix:\n",
            "       No   Yes class.error\n",
            "No  66454  4016  0.05698879\n",
            "Yes  8634 10899  0.44202119\n"
          ]
        }
      ]
    },
    {
      "cell_type": "code",
      "source": [
        "#변수 중요도\n",
        "varImpPlot(rf2)"
      ],
      "metadata": {
        "colab": {
          "base_uri": "https://localhost:8080/",
          "height": 437
        },
        "id": "a5-8dpH1qmRf",
        "outputId": "12b63e40-283c-480d-b327-1ccf37167f21"
      },
      "execution_count": 27,
      "outputs": [
        {
          "output_type": "display_data",
          "data": {
            "text/plain": [
              "Plot with title “rf2”"
            ],
            "image/png": "[encoded data removed]"
          },
          "metadata": {
            "image/png": {
              "width": 420,
              "height": 420
            }
          }
        }
      ]
    },
    {
      "cell_type": "markdown",
      "source": [
        "1. 각 변수의 지니 인덱스 평균 감소에 대한 기여도\n",
        "2. 가장 중요한 변수는 `humidity3pm`"
      ],
      "metadata": {
        "id": "-qr59HtOrcr3"
      }
    },
    {
      "cell_type": "markdown",
      "source": [
        "## 5. 평가"
      ],
      "metadata": {
        "id": "8mdyPreor05j"
      }
    },
    {
      "cell_type": "code",
      "source": [
        "#1. 트레인 모형 평가\n",
        "pred_rf2<-predict(rf2, train[,-16])"
      ],
      "metadata": {
        "id": "eRw_SpRrr0gQ"
      },
      "execution_count": 50,
      "outputs": []
    },
    {
      "cell_type": "code",
      "source": [
        "str(pred_rf2)       # 라벨이 붙음\n",
        "\n",
        "#test[,16]%>%head(5)"
      ],
      "metadata": {
        "colab": {
          "base_uri": "https://localhost:8080/"
        },
        "id": "MjfOIJndsXbk",
        "outputId": "232ea331-f5b4-4a2b-d714-5d897ba95103"
      },
      "execution_count": 51,
      "outputs": [
        {
          "output_type": "stream",
          "name": "stdout",
          "text": [
            " Factor w/ 2 levels \"No\",\"Yes\": 1 1 1 2 2 1 1 2 1 1 ...\n",
            " - attr(*, \"names\")= chr [1:38573] \"8\" \"10\" \"11\" \"16\" ...\n"
          ]
        }
      ]
    },
    {
      "cell_type": "code",
      "source": [
        "as.data.frame(  pred_rf2) %>%head(5)  # 확인해보니 트레인 데이터 인덱스인것같음"
      ],
      "metadata": {
        "colab": {
          "base_uri": "https://localhost:8080/",
          "height": 272
        },
        "id": "087XLpdZuSF9",
        "outputId": "bd860894-0585-4fe5-818f-bfa19a9c1a95"
      },
      "execution_count": 53,
      "outputs": [
        {
          "output_type": "display_data",
          "data": {
            "text/html": [
              "<table class=\"dataframe\">\n",
              "<caption>A data.frame: 5 × 1</caption>\n",
              "<thead>\n",
              "\t<tr><th></th><th scope=col>pred_rf2</th></tr>\n",
              "\t<tr><th></th><th scope=col>&lt;fct&gt;</th></tr>\n",
              "</thead>\n",
              "<tbody>\n",
              "\t<tr><th scope=row>8</th><td>No </td></tr>\n",
              "\t<tr><th scope=row>10</th><td>No </td></tr>\n",
              "\t<tr><th scope=row>11</th><td>No </td></tr>\n",
              "\t<tr><th scope=row>16</th><td>Yes</td></tr>\n",
              "\t<tr><th scope=row>17</th><td>Yes</td></tr>\n",
              "</tbody>\n",
              "</table>\n"
            ],
            "text/markdown": "\nA data.frame: 5 × 1\n\n| <!--/--> | pred_rf2 &lt;fct&gt; |\n|---|---|\n| 8 | No  |\n| 10 | No  |\n| 11 | No  |\n| 16 | Yes |\n| 17 | Yes |\n\n",
            "text/latex": "A data.frame: 5 × 1\n\\begin{tabular}{r|l}\n  & pred\\_rf2\\\\\n  & <fct>\\\\\n\\hline\n\t8 & No \\\\\n\t10 & No \\\\\n\t11 & No \\\\\n\t16 & Yes\\\\\n\t17 & Yes\\\\\n\\end{tabular}\n",
            "text/plain": [
              "   pred_rf2\n",
              "8  No      \n",
              "10 No      \n",
              "11 No      \n",
              "16 Yes     \n",
              "17 Yes     "
            ]
          },
          "metadata": {}
        }
      ]
    },
    {
      "cell_type": "code",
      "source": [
        "#그래서 그냥 모형평가를 위해 타겟 뺸 새로운 데이터프레임 만듦\n",
        "train_new<-train[,-16]\n",
        "test_new<-test[,-16]"
      ],
      "metadata": {
        "id": "Pv2q5B5YuoHf"
      },
      "execution_count": 72,
      "outputs": []
    },
    {
      "cell_type": "code",
      "source": [
        "#다시 트레인 모형평가\n",
        "pred_train<-predict(rf2, train_new, type=\"response\")"
      ],
      "metadata": {
        "id": "LvD-6HjLu0NY"
      },
      "execution_count": 73,
      "outputs": []
    },
    {
      "cell_type": "code",
      "source": [
        "pred_train %>% head(5)"
      ],
      "metadata": {
        "colab": {
          "base_uri": "https://localhost:8080/",
          "height": 52
        },
        "id": "HBZSzsBz03CW",
        "outputId": "26acb09a-a4e6-4567-f6a3-ec40311a270d"
      },
      "execution_count": 74,
      "outputs": [
        {
          "output_type": "display_data",
          "data": {
            "text/html": [
              "<style>\n",
              ".dl-inline {width: auto; margin:0; padding: 0}\n",
              ".dl-inline>dt, .dl-inline>dd {float: none; width: auto; display: inline-block}\n",
              ".dl-inline>dt::after {content: \":\\0020\"; padding-right: .5ex}\n",
              ".dl-inline>dt:not(:first-of-type) {padding-left: .5ex}\n",
              "</style><dl class=dl-inline><dt>53009</dt><dd>No</dd><dt>118314</dt><dd>No</dd><dt>84923</dt><dd>Yes</dd><dt>75450</dt><dd>No</dd><dt>132374</dt><dd>No</dd></dl>\n",
              "\n",
              "<details>\n",
              "\t<summary style=display:list-item;cursor:pointer>\n",
              "\t\t<strong>Levels</strong>:\n",
              "\t</summary>\n",
              "\t<style>\n",
              "\t.list-inline {list-style: none; margin:0; padding: 0}\n",
              "\t.list-inline>li {display: inline-block}\n",
              "\t.list-inline>li:not(:last-child)::after {content: \"\\00b7\"; padding: 0 .5ex}\n",
              "\t</style>\n",
              "\t<ol class=list-inline><li>'No'</li><li>'Yes'</li></ol>\n",
              "</details>"
            ],
            "text/markdown": "53009\n:   No118314\n:   No84923\n:   Yes75450\n:   No132374\n:   No\n\n\n**Levels**: 1. 'No'\n2. 'Yes'\n\n\n",
            "text/latex": "\\begin{description*}\n\\item[53009] No\n\\item[118314] No\n\\item[84923] Yes\n\\item[75450] No\n\\item[132374] No\n\\end{description*}\n\n\\emph{Levels}: \\begin{enumerate*}\n\\item 'No'\n\\item 'Yes'\n\\end{enumerate*}\n",
            "text/plain": [
              " 53009 118314  84923  75450 132374 \n",
              "    No     No    Yes     No     No \n",
              "Levels: No Yes"
            ]
          },
          "metadata": {}
        }
      ]
    },
    {
      "cell_type": "code",
      "source": [
        "#pred_train<-as.vector( pred_train )    # 1. 벡터로로 바꾸고\n",
        "pred_train<-as.factor(pred_train)        # 2. 다시 팩터 변환  "
      ],
      "metadata": {
        "colab": {
          "base_uri": "https://localhost:8080/",
          "height": 34
        },
        "id": "xZfTxMUxzaLh",
        "outputId": "e90e2f56-0209-4448-9d20-21eaa28faebc"
      },
      "execution_count": 78,
      "outputs": [
        {
          "output_type": "display_data",
          "data": {
            "text/html": [
              "'factor'"
            ],
            "text/markdown": "'factor'",
            "text/latex": "'factor'",
            "text/plain": [
              "[1] \"factor\""
            ]
          },
          "metadata": {}
        }
      ]
    },
    {
      "cell_type": "code",
      "source": [
        "#head(pred_train)\n",
        "train[,16] %>% head(5) %>% class()"
      ],
      "metadata": {
        "colab": {
          "base_uri": "https://localhost:8080/",
          "height": 34
        },
        "id": "tVk62CJr1N7C",
        "outputId": "82ca57ea-2b46-49c2-e588-5c51dc0e0ae2"
      },
      "execution_count": 83,
      "outputs": [
        {
          "output_type": "display_data",
          "data": {
            "text/html": [
              "'factor'"
            ],
            "text/markdown": "'factor'",
            "text/latex": "'factor'",
            "text/plain": [
              "[1] \"factor\""
            ]
          },
          "metadata": {}
        }
      ]
    },
    {
      "cell_type": "code",
      "source": [
        "#library(caret)\n",
        "\n",
        "str(pred_train)\n",
        "str(train[,16])"
      ],
      "metadata": {
        "colab": {
          "base_uri": "https://localhost:8080/"
        },
        "id": "MMmOgM951dtd",
        "outputId": "a696fe8a-4c90-46f8-fe95-80b7e0f8d521"
      },
      "execution_count": 87,
      "outputs": [
        {
          "output_type": "stream",
          "name": "stdout",
          "text": [
            " Factor w/ 2 levels \"No\",\"Yes\": 1 1 2 1 1 1 1 1 2 1 ...\n",
            " Factor w/ 2 levels \"No\",\"Yes\": 1 1 2 1 1 1 1 1 2 1 ...\n"
          ]
        }
      ]
    },
    {
      "cell_type": "code",
      "source": [
        "confusionMatrix(pred_train, train[,16])"
      ],
      "metadata": {
        "colab": {
          "base_uri": "https://localhost:8080/",
          "height": 522
        },
        "id": "fHwFq_KM0vTm",
        "outputId": "c0a085ec-2920-4dd6-89c3-7ced056950e6"
      },
      "execution_count": 90,
      "outputs": [
        {
          "output_type": "display_data",
          "data": {
            "text/plain": [
              "Confusion Matrix and Statistics\n",
              "\n",
              "          Reference\n",
              "Prediction    No   Yes\n",
              "       No  70470     0\n",
              "       Yes     0 19533\n",
              "                                   \n",
              "               Accuracy : 1        \n",
              "                 95% CI : (1, 1)   \n",
              "    No Information Rate : 0.783    \n",
              "    P-Value [Acc > NIR] : < 2.2e-16\n",
              "                                   \n",
              "                  Kappa : 1        \n",
              "                                   \n",
              " Mcnemar's Test P-Value : NA       \n",
              "                                   \n",
              "            Sensitivity : 1.000    \n",
              "            Specificity : 1.000    \n",
              "         Pos Pred Value : 1.000    \n",
              "         Neg Pred Value : 1.000    \n",
              "             Prevalence : 0.783    \n",
              "         Detection Rate : 0.783    \n",
              "   Detection Prevalence : 0.783    \n",
              "      Balanced Accuracy : 1.000    \n",
              "                                   \n",
              "       'Positive' Class : No       \n",
              "                                   "
            ]
          },
          "metadata": {}
        }
      ]
    },
    {
      "cell_type": "code",
      "source": [
        "#테스트 모형 적합\n",
        "pred_test<-predict(rf2, test_new, type=\"response\")\n",
        "pred_test %>% head(5)"
      ],
      "metadata": {
        "colab": {
          "base_uri": "https://localhost:8080/",
          "height": 52
        },
        "id": "IBwyUAVS2OJU",
        "outputId": "40c394f3-f7b6-4dd6-bd31-d6928da573e9"
      },
      "execution_count": 91,
      "outputs": [
        {
          "output_type": "display_data",
          "data": {
            "text/html": [
              "<style>\n",
              ".dl-inline {width: auto; margin:0; padding: 0}\n",
              ".dl-inline>dt, .dl-inline>dd {float: none; width: auto; display: inline-block}\n",
              ".dl-inline>dt::after {content: \":\\0020\"; padding-right: .5ex}\n",
              ".dl-inline>dt:not(:first-of-type) {padding-left: .5ex}\n",
              "</style><dl class=dl-inline><dt>8</dt><dd>No</dd><dt>10</dt><dd>No</dd><dt>11</dt><dd>No</dd><dt>16</dt><dd>Yes</dd><dt>17</dt><dd>Yes</dd></dl>\n",
              "\n",
              "<details>\n",
              "\t<summary style=display:list-item;cursor:pointer>\n",
              "\t\t<strong>Levels</strong>:\n",
              "\t</summary>\n",
              "\t<style>\n",
              "\t.list-inline {list-style: none; margin:0; padding: 0}\n",
              "\t.list-inline>li {display: inline-block}\n",
              "\t.list-inline>li:not(:last-child)::after {content: \"\\00b7\"; padding: 0 .5ex}\n",
              "\t</style>\n",
              "\t<ol class=list-inline><li>'No'</li><li>'Yes'</li></ol>\n",
              "</details>"
            ],
            "text/markdown": "8\n:   No10\n:   No11\n:   No16\n:   Yes17\n:   Yes\n\n\n**Levels**: 1. 'No'\n2. 'Yes'\n\n\n",
            "text/latex": "\\begin{description*}\n\\item[8] No\n\\item[10] No\n\\item[11] No\n\\item[16] Yes\n\\item[17] Yes\n\\end{description*}\n\n\\emph{Levels}: \\begin{enumerate*}\n\\item 'No'\n\\item 'Yes'\n\\end{enumerate*}\n",
            "text/plain": [
              "  8  10  11  16  17 \n",
              " No  No  No Yes Yes \n",
              "Levels: No Yes"
            ]
          },
          "metadata": {}
        }
      ]
    },
    {
      "cell_type": "code",
      "source": [
        "pred_test<-as.vector( pred_test )    # 1. 벡터로로 바꾸고\n",
        "pred_test<-as.factor(pred_test)        # 2. 다시 팩터 변환  "
      ],
      "metadata": {
        "id": "HhoAbNfY2cYZ"
      },
      "execution_count": 92,
      "outputs": []
    },
    {
      "cell_type": "code",
      "source": [
        "confusionMatrix(pred_test, test[,16])   # Accuracy : 0.8587"
      ],
      "metadata": {
        "colab": {
          "base_uri": "https://localhost:8080/",
          "height": 522
        },
        "id": "f0qnvE092j1v",
        "outputId": "f0f931e7-53d0-44d2-9511-f4f5b0638020"
      },
      "execution_count": 93,
      "outputs": [
        {
          "output_type": "display_data",
          "data": {
            "text/plain": [
              "Confusion Matrix and Statistics\n",
              "\n",
              "          Reference\n",
              "Prediction    No   Yes\n",
              "       No  28396  3715\n",
              "       Yes  1736  4726\n",
              "                                          \n",
              "               Accuracy : 0.8587          \n",
              "                 95% CI : (0.8552, 0.8621)\n",
              "    No Information Rate : 0.7812          \n",
              "    P-Value [Acc > NIR] : < 2.2e-16       \n",
              "                                          \n",
              "                  Kappa : 0.5486          \n",
              "                                          \n",
              " Mcnemar's Test P-Value : < 2.2e-16       \n",
              "                                          \n",
              "            Sensitivity : 0.9424          \n",
              "            Specificity : 0.5599          \n",
              "         Pos Pred Value : 0.8843          \n",
              "         Neg Pred Value : 0.7314          \n",
              "             Prevalence : 0.7812          \n",
              "         Detection Rate : 0.7362          \n",
              "   Detection Prevalence : 0.8325          \n",
              "      Balanced Accuracy : 0.7511          \n",
              "                                          \n",
              "       'Positive' Class : No              \n",
              "                                          "
            ]
          },
          "metadata": {}
        }
      ]
    },
    {
      "cell_type": "markdown",
      "source": [
        "- Accuracy : 0.8587"
      ],
      "metadata": {
        "id": "ne6iQMfH2p9D"
      }
    },
    {
      "cell_type": "code",
      "source": [
        "library(pROC)"
      ],
      "metadata": {
        "colab": {
          "base_uri": "https://localhost:8080/"
        },
        "id": "KtI8mPEC3Dp_",
        "outputId": "cff896a7-03da-4ca7-815b-e42c185bff01"
      },
      "execution_count": 96,
      "outputs": [
        {
          "output_type": "stream",
          "name": "stderr",
          "text": [
            "Type 'citation(\"pROC\")' for a citation.\n",
            "\n",
            "\n",
            "Attaching package: ‘pROC’\n",
            "\n",
            "\n",
            "The following objects are masked from ‘package:stats’:\n",
            "\n",
            "    cov, smooth, var\n",
            "\n",
            "\n"
          ]
        }
      ]
    },
    {
      "cell_type": "code",
      "source": [
        "#roc\n",
        "roc_test<-roc( as.numeric(pred_test), test[,16] %>%as.numeric()    )\n",
        "auc(roc_test) # 0.8078"
      ],
      "metadata": {
        "colab": {
          "base_uri": "https://localhost:8080/",
          "height": 109
        },
        "id": "ANkvhvnj2pU-",
        "outputId": "088e22a9-258c-4595-9883-4823a93cca61"
      },
      "execution_count": 98,
      "outputs": [
        {
          "output_type": "stream",
          "name": "stderr",
          "text": [
            "Setting levels: control = 1, case = 2\n",
            "\n",
            "Setting direction: controls < cases\n",
            "\n"
          ]
        },
        {
          "output_type": "display_data",
          "data": {
            "text/html": [
              "0.807830040298257"
            ],
            "text/markdown": "0.807830040298257",
            "text/latex": "0.807830040298257",
            "text/plain": [
              "Area under the curve: 0.8078"
            ]
          },
          "metadata": {}
        }
      ]
    },
    {
      "cell_type": "code",
      "source": [
        "plot.roc(roc_test, main=\"ROC curve for Test set\", col=\"red\", legacy.axes=T)"
      ],
      "metadata": {
        "colab": {
          "base_uri": "https://localhost:8080/",
          "height": 437
        },
        "id": "uo69gYIc2-8P",
        "outputId": "325d6e4a-946b-420e-f552-9c0feeedafc1"
      },
      "execution_count": 99,
      "outputs": [
        {
          "output_type": "display_data",
          "data": {
            "text/plain": [
              "Plot with title “ROC curve for Test set”"
            ],
            "image/png": "[encoded data removed]"
          },
          "metadata": {
            "image/png": {
              "width": 420,
              "height": 420
            }
          }
        }
      ]
    },
    {
      "cell_type": "code",
      "source": [
        "#저장\n",
        "write.csv(pred_test, \"pred_test.csv\", row.names=FALSE )"
      ],
      "metadata": {
        "id": "3gNH-OzC3aVN"
      },
      "execution_count": 100,
      "outputs": []
    }
  ]
}
