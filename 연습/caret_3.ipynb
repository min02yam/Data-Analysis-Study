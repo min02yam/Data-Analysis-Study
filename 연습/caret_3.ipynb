{
  "nbformat": 4,
  "nbformat_minor": 0,
  "metadata": {
    "colab": {
      "name": "Untitled24.ipynb",
      "provenance": [],
      "authorship_tag": "ABX9TyPI/Mwwn8cS9XA2m4ya+HsD",
      "include_colab_link": true
    },
    "kernelspec": {
      "name": "ir",
      "display_name": "R"
    },
    "language_info": {
      "name": "R"
    }
  },
  "cells": [
    {
      "cell_type": "markdown",
      "metadata": {
        "id": "view-in-github",
        "colab_type": "text"
      },
      "source": [
        "<a href=\"https://colab.research.google.com/github/min02yam/R-study/blob/main/%EC%97%B0%EC%8A%B5/caret_3.ipynb\" target=\"_parent\"><img src=\"https://colab.research.google.com/assets/colab-badge.svg\" alt=\"Open In Colab\"/></a>"
      ]
    },
    {
      "cell_type": "markdown",
      "source": [
        "\n",
        "2022.06.13\n",
        "# caret\n",
        "**3 Pre-Processing** <br> \n",
        "1. 더미 코딩\n",
        "2. \n"
      ],
      "metadata": {
        "id": "py0vNQ1OB3Xr"
      }
    },
    {
      "cell_type": "code",
      "execution_count": null,
      "metadata": {
        "id": "L-J-SHHyBw_x"
      },
      "outputs": [],
      "source": [
        ""
      ]
    },
    {
      "cell_type": "markdown",
      "source": [
        "http://topepo.github.io/caret/pre-processing.html"
      ],
      "metadata": {
        "id": "9_tHtH_7Gi6B"
      }
    }
  ]
}