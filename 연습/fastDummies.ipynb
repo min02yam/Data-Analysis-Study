{
  "cells": [
    {
      "cell_type": "markdown",
      "metadata": {
        "id": "view-in-github",
        "colab_type": "text"
      },
      "source": [
        "<a href=\"https://colab.research.google.com/github/min02yam/R-study/blob/main/%EC%97%B0%EC%8A%B5/fastDummies.ipynb\" target=\"_parent\"><img src=\"https://colab.research.google.com/assets/colab-badge.svg\" alt=\"Open In Colab\"/></a>"
      ]
    },
    {
      "cell_type": "markdown",
      "metadata": {
        "id": "DBCzkkuezY3r"
      },
      "source": [
        "2022.05.18<br>\n",
        "# Package ‘fastDummies’<br>\n",
        "https://cran.r-project.org/web/packages/fastDummies/fastDummies.pdf\n",
        "\n"
      ]
    },
    {
      "cell_type": "code",
      "source": [
        "install.packages(\"fastDummies\"); library(fastDummies)"
      ],
      "metadata": {
        "colab": {
          "base_uri": "https://localhost:8080/"
        },
        "id": "GR2eq5X6f0ee",
        "outputId": "223447eb-fc61-4903-d2a7-2df6bb079e49"
      },
      "execution_count": 2,
      "outputs": [
        {
          "output_type": "stream",
          "name": "stderr",
          "text": [
            "Installing package into ‘/usr/local/lib/R/site-library’\n",
            "(as ‘lib’ is unspecified)\n",
            "\n"
          ]
        }
      ]
    },
    {
      "cell_type": "code",
      "source": [
        "#데이터 프레임 생성\n",
        "crime <- data.frame(city = c(\"SF\", \"SF\", \"NYC\"),\n",
        "year = c(1990, 2000, 1990),\n",
        "crime = 1:3); crime"
      ],
      "metadata": {
        "id": "5tISUp3oOcdB",
        "colab": {
          "base_uri": "https://localhost:8080/",
          "height": 192
        },
        "outputId": "3f3aab7a-db71-4d42-87eb-11dd0606e466"
      },
      "execution_count": 1,
      "outputs": [
        {
          "output_type": "display_data",
          "data": {
            "text/html": [
              "<table class=\"dataframe\">\n",
              "<caption>A data.frame: 3 × 3</caption>\n",
              "<thead>\n",
              "\t<tr><th scope=col>city</th><th scope=col>year</th><th scope=col>crime</th></tr>\n",
              "\t<tr><th scope=col>&lt;chr&gt;</th><th scope=col>&lt;dbl&gt;</th><th scope=col>&lt;int&gt;</th></tr>\n",
              "</thead>\n",
              "<tbody>\n",
              "\t<tr><td>SF </td><td>1990</td><td>1</td></tr>\n",
              "\t<tr><td>SF </td><td>2000</td><td>2</td></tr>\n",
              "\t<tr><td>NYC</td><td>1990</td><td>3</td></tr>\n",
              "</tbody>\n",
              "</table>\n"
            ],
            "text/markdown": "\nA data.frame: 3 × 3\n\n| city &lt;chr&gt; | year &lt;dbl&gt; | crime &lt;int&gt; |\n|---|---|---|\n| SF  | 1990 | 1 |\n| SF  | 2000 | 2 |\n| NYC | 1990 | 3 |\n\n",
            "text/latex": "A data.frame: 3 × 3\n\\begin{tabular}{lll}\n city & year & crime\\\\\n <chr> & <dbl> & <int>\\\\\n\\hline\n\t SF  & 1990 & 1\\\\\n\t SF  & 2000 & 2\\\\\n\t NYC & 1990 & 3\\\\\n\\end{tabular}\n",
            "text/plain": [
              "  city year crime\n",
              "1 SF   1990 1    \n",
              "2 SF   2000 2    \n",
              "3 NYC  1990 3    "
            ]
          },
          "metadata": {}
        }
      ]
    },
    {
      "cell_type": "code",
      "source": [
        "dummy_rows(crime) # row에 만듦"
      ],
      "metadata": {
        "id": "sPG6JqKDOpQD",
        "colab": {
          "base_uri": "https://localhost:8080/",
          "height": 192
        },
        "outputId": "d0fd15fe-2dac-4876-bc23-ea106aa60502"
      },
      "execution_count": 3,
      "outputs": [
        {
          "output_type": "display_data",
          "data": {
            "text/html": [
              "<table class=\"dataframe\">\n",
              "<caption>A data.frame: 3 × 3</caption>\n",
              "<thead>\n",
              "\t<tr><th scope=col>city</th><th scope=col>year</th><th scope=col>crime</th></tr>\n",
              "\t<tr><th scope=col>&lt;chr&gt;</th><th scope=col>&lt;dbl&gt;</th><th scope=col>&lt;int&gt;</th></tr>\n",
              "</thead>\n",
              "<tbody>\n",
              "\t<tr><td>SF </td><td>1990</td><td>1</td></tr>\n",
              "\t<tr><td>SF </td><td>2000</td><td>2</td></tr>\n",
              "\t<tr><td>NYC</td><td>1990</td><td>3</td></tr>\n",
              "</tbody>\n",
              "</table>\n"
            ],
            "text/markdown": "\nA data.frame: 3 × 3\n\n| city &lt;chr&gt; | year &lt;dbl&gt; | crime &lt;int&gt; |\n|---|---|---|\n| SF  | 1990 | 1 |\n| SF  | 2000 | 2 |\n| NYC | 1990 | 3 |\n\n",
            "text/latex": "A data.frame: 3 × 3\n\\begin{tabular}{lll}\n city & year & crime\\\\\n <chr> & <dbl> & <int>\\\\\n\\hline\n\t SF  & 1990 & 1\\\\\n\t SF  & 2000 & 2\\\\\n\t NYC & 1990 & 3\\\\\n\\end{tabular}\n",
            "text/plain": [
              "  city year crime\n",
              "1 SF   1990 1    \n",
              "2 SF   2000 2    \n",
              "3 NYC  1990 3    "
            ]
          },
          "metadata": {}
        }
      ]
    },
    {
      "cell_type": "code",
      "source": [
        "# Include year column\n",
        "dummy_rows(crime, select_columns = c(\"city\", \"year\")) # 먼말인지모르곘음 "
      ],
      "metadata": {
        "colab": {
          "base_uri": "https://localhost:8080/",
          "height": 223
        },
        "id": "U7TBrsP9gBcb",
        "outputId": "6bc113fe-37fd-41fc-a156-a548cbd70d93"
      },
      "execution_count": 4,
      "outputs": [
        {
          "output_type": "display_data",
          "data": {
            "text/html": [
              "<table class=\"dataframe\">\n",
              "<caption>A data.frame: 4 × 3</caption>\n",
              "<thead>\n",
              "\t<tr><th scope=col>city</th><th scope=col>year</th><th scope=col>crime</th></tr>\n",
              "\t<tr><th scope=col>&lt;chr&gt;</th><th scope=col>&lt;dbl&gt;</th><th scope=col>&lt;int&gt;</th></tr>\n",
              "</thead>\n",
              "<tbody>\n",
              "\t<tr><td>SF </td><td>1990</td><td> 1</td></tr>\n",
              "\t<tr><td>SF </td><td>2000</td><td> 2</td></tr>\n",
              "\t<tr><td>NYC</td><td>1990</td><td> 3</td></tr>\n",
              "\t<tr><td>NYC</td><td>2000</td><td>NA</td></tr>\n",
              "</tbody>\n",
              "</table>\n"
            ],
            "text/markdown": "\nA data.frame: 4 × 3\n\n| city &lt;chr&gt; | year &lt;dbl&gt; | crime &lt;int&gt; |\n|---|---|---|\n| SF  | 1990 |  1 |\n| SF  | 2000 |  2 |\n| NYC | 1990 |  3 |\n| NYC | 2000 | NA |\n\n",
            "text/latex": "A data.frame: 4 × 3\n\\begin{tabular}{lll}\n city & year & crime\\\\\n <chr> & <dbl> & <int>\\\\\n\\hline\n\t SF  & 1990 &  1\\\\\n\t SF  & 2000 &  2\\\\\n\t NYC & 1990 &  3\\\\\n\t NYC & 2000 & NA\\\\\n\\end{tabular}\n",
            "text/plain": [
              "  city year crime\n",
              "1 SF   1990  1   \n",
              "2 SF   2000  2   \n",
              "3 NYC  1990  3   \n",
              "4 NYC  2000 NA   "
            ]
          },
          "metadata": {}
        }
      ]
    },
    {
      "cell_type": "code",
      "source": [
        "# m=Make dummy value 0\n",
        "dummy_rows(crime, select_columns = c(\"city\", \"year\"), dummy_value = 0)  # row에 생성한 더미에 0 할당"
      ],
      "metadata": {
        "colab": {
          "base_uri": "https://localhost:8080/",
          "height": 223
        },
        "id": "7vmDiqbdgE5C",
        "outputId": "a015f502-d8f2-45ab-f518-69685e8cd307"
      },
      "execution_count": 5,
      "outputs": [
        {
          "output_type": "display_data",
          "data": {
            "text/html": [
              "<table class=\"dataframe\">\n",
              "<caption>A data.frame: 4 × 3</caption>\n",
              "<thead>\n",
              "\t<tr><th scope=col>city</th><th scope=col>year</th><th scope=col>crime</th></tr>\n",
              "\t<tr><th scope=col>&lt;chr&gt;</th><th scope=col>&lt;dbl&gt;</th><th scope=col>&lt;dbl&gt;</th></tr>\n",
              "</thead>\n",
              "<tbody>\n",
              "\t<tr><td>SF </td><td>1990</td><td>1</td></tr>\n",
              "\t<tr><td>SF </td><td>2000</td><td>2</td></tr>\n",
              "\t<tr><td>NYC</td><td>1990</td><td>3</td></tr>\n",
              "\t<tr><td>NYC</td><td>2000</td><td>0</td></tr>\n",
              "</tbody>\n",
              "</table>\n"
            ],
            "text/markdown": "\nA data.frame: 4 × 3\n\n| city &lt;chr&gt; | year &lt;dbl&gt; | crime &lt;dbl&gt; |\n|---|---|---|\n| SF  | 1990 | 1 |\n| SF  | 2000 | 2 |\n| NYC | 1990 | 3 |\n| NYC | 2000 | 0 |\n\n",
            "text/latex": "A data.frame: 4 × 3\n\\begin{tabular}{lll}\n city & year & crime\\\\\n <chr> & <dbl> & <dbl>\\\\\n\\hline\n\t SF  & 1990 & 1\\\\\n\t SF  & 2000 & 2\\\\\n\t NYC & 1990 & 3\\\\\n\t NYC & 2000 & 0\\\\\n\\end{tabular}\n",
            "text/plain": [
              "  city year crime\n",
              "1 SF   1990 1    \n",
              "2 SF   2000 2    \n",
              "3 NYC  1990 3    \n",
              "4 NYC  2000 0    "
            ]
          },
          "metadata": {}
        }
      ]
    },
    {
      "cell_type": "code",
      "source": [
        "dummy_cols( .data= crime   , select_columns=c(\"city\",\"year\") , remove_first_dummy=  FALSE, remove_selected_columns=TRUE )\n",
        "#지정 안하면 팩터 모두 변형"
      ],
      "metadata": {
        "colab": {
          "base_uri": "https://localhost:8080/",
          "height": 192
        },
        "id": "ns9SztY0gKTP",
        "outputId": "a0399a85-487a-4d0f-de30-afd660384878"
      },
      "execution_count": 6,
      "outputs": [
        {
          "output_type": "display_data",
          "data": {
            "text/html": [
              "<table class=\"dataframe\">\n",
              "<caption>A data.frame: 3 × 5</caption>\n",
              "<thead>\n",
              "\t<tr><th scope=col>crime</th><th scope=col>city_NYC</th><th scope=col>city_SF</th><th scope=col>year_1990</th><th scope=col>year_2000</th></tr>\n",
              "\t<tr><th scope=col>&lt;int&gt;</th><th scope=col>&lt;int&gt;</th><th scope=col>&lt;int&gt;</th><th scope=col>&lt;int&gt;</th><th scope=col>&lt;int&gt;</th></tr>\n",
              "</thead>\n",
              "<tbody>\n",
              "\t<tr><td>1</td><td>0</td><td>1</td><td>1</td><td>0</td></tr>\n",
              "\t<tr><td>2</td><td>0</td><td>1</td><td>0</td><td>1</td></tr>\n",
              "\t<tr><td>3</td><td>1</td><td>0</td><td>1</td><td>0</td></tr>\n",
              "</tbody>\n",
              "</table>\n"
            ],
            "text/markdown": "\nA data.frame: 3 × 5\n\n| crime &lt;int&gt; | city_NYC &lt;int&gt; | city_SF &lt;int&gt; | year_1990 &lt;int&gt; | year_2000 &lt;int&gt; |\n|---|---|---|---|---|\n| 1 | 0 | 1 | 1 | 0 |\n| 2 | 0 | 1 | 0 | 1 |\n| 3 | 1 | 0 | 1 | 0 |\n\n",
            "text/latex": "A data.frame: 3 × 5\n\\begin{tabular}{lllll}\n crime & city\\_NYC & city\\_SF & year\\_1990 & year\\_2000\\\\\n <int> & <int> & <int> & <int> & <int>\\\\\n\\hline\n\t 1 & 0 & 1 & 1 & 0\\\\\n\t 2 & 0 & 1 & 0 & 1\\\\\n\t 3 & 1 & 0 & 1 & 0\\\\\n\\end{tabular}\n",
            "text/plain": [
              "  crime city_NYC city_SF year_1990 year_2000\n",
              "1 1     0        1       1         0        \n",
              "2 2     0        1       0         1        \n",
              "3 3     1        0       1         0        "
            ]
          },
          "metadata": {}
        }
      ]
    }
  ],
  "metadata": {
    "colab": {
      "name": "20220522_hotel_하는중.ipynb",
      "provenance": [],
      "authorship_tag": "ABX9TyPmjYhVRaABaF/VzKOe3k/8",
      "include_colab_link": true
    },
    "kernelspec": {
      "display_name": "R",
      "name": "ir"
    },
    "language_info": {
      "name": "R"
    }
  },
  "nbformat": 4,
  "nbformat_minor": 0
}