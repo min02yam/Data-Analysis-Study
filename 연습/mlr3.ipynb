{
  "nbformat": 4,
  "nbformat_minor": 0,
  "metadata": {
    "colab": {
      "name": "svm_,,,,,,ipynb",
      "provenance": [],
      "authorship_tag": "ABX9TyOdp1JYuKX9YDVM7lpJrIja",
      "include_colab_link": true
    },
    "kernelspec": {
      "name": "ir",
      "display_name": "R"
    },
    "language_info": {
      "name": "R"
    }
  },
  "cells": [
    {
      "cell_type": "markdown",
      "metadata": {
        "id": "view-in-github",
        "colab_type": "text"
      },
      "source": [
        "<a href=\"https://colab.research.google.com/github/min02yam/R-study/blob/main/%EC%97%B0%EC%8A%B5/mlr3.ipynb\" target=\"_parent\"><img src=\"https://colab.research.google.com/assets/colab-badge.svg\" alt=\"Open In Colab\"/></a>"
      ]
    },
    {
      "cell_type": "markdown",
      "source": [
        "ref. https://mlr3.mlr-org.com/"
      ],
      "metadata": {
        "id": "DBCzkkuezY3r"
      }
    },
    {
      "cell_type": "code",
      "source": [
        "install.packages(\"mlr3\")"
      ],
      "metadata": {
        "id": "GTGGro6tpU4_",
        "colab": {
          "base_uri": "https://localhost:8080/"
        },
        "outputId": "1d2e675a-8939-4aa6-b63d-7a2b25c255be"
      },
      "execution_count": 1,
      "outputs": [
        {
          "output_type": "stream",
          "name": "stderr",
          "text": [
            "Installing package into ‘/usr/local/lib/R/site-library’\n",
            "(as ‘lib’ is unspecified)\n",
            "\n",
            "also installing the dependencies ‘globals’, ‘listenv’, ‘PRROC’, ‘checkmate’, ‘future’, ‘future.apply’, ‘lgr’, ‘mlbench’, ‘mlr3measures’, ‘mlr3misc’, ‘parallelly’, ‘palmerpenguins’, ‘paradox’\n",
            "\n",
            "\n"
          ]
        }
      ]
    },
    {
      "cell_type": "code",
      "source": [
        "library(mlr3)"
      ],
      "metadata": {
        "id": "Wvjj5oYLpYrx"
      },
      "execution_count": 2,
      "outputs": []
    },
    {
      "cell_type": "code",
      "source": [
        ""
      ],
      "metadata": {
        "id": "ObY6LRJUzznH"
      },
      "execution_count": null,
      "outputs": []
    },
    {
      "cell_type": "code",
      "source": [
        "\n"
      ],
      "metadata": {
        "id": "JaHKeeiUzi0u"
      },
      "execution_count": null,
      "outputs": []
    },
    {
      "cell_type": "code",
      "source": [
        ""
      ],
      "metadata": {
        "id": "xvxGvBE65AiB"
      },
      "execution_count": null,
      "outputs": []
    },
    {
      "cell_type": "code",
      "source": [
        ""
      ],
      "metadata": {
        "id": "XqN6wO-v5D3a"
      },
      "execution_count": null,
      "outputs": []
    }
  ]
}