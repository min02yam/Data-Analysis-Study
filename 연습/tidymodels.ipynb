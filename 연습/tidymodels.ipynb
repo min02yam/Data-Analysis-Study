{
  "cells": [
    {
      "cell_type": "markdown",
      "metadata": {
        "id": "view-in-github",
        "colab_type": "text"
      },
      "source": [
        "<a href=\"https://colab.research.google.com/github/min02yam/R-study/blob/main/%EC%97%B0%EC%8A%B5/tidymodels.ipynb\" target=\"_parent\"><img src=\"https://colab.research.google.com/assets/colab-badge.svg\" alt=\"Open In Colab\"/></a>"
      ]
    },
    {
      "cell_type": "markdown",
      "metadata": {
        "id": "DBCzkkuezY3r"
      },
      "source": [
        "2022.05.25~<br>\n",
        "# Package ‘tidymodels’ + 'tidyverse'<br>\n",
        "\n",
        "- hotel데이터 전처리 완료한거 다시 불러오기 \n",
        "- https://stackoverflow.com/questions/62189885/what-is-the-difference-among-prep-bake-juice-in-the-r-package-recipes"
      ]
    },
    {
      "cell_type": "markdown",
      "source": [
        "[예제]"
      ],
      "metadata": {
        "id": "9DlQxh1QIgyI"
      }
    },
    {
      "cell_type": "code",
      "source": [
        "library(recipes)\n",
        "\n",
        "cars_train <- mtcars[1:20,]\n",
        "cars_test <- mtcars[21:32,]\n",
        "\n",
        "cars_rec <- recipe(mpg ~ ., data = cars_train) %>%\n",
        "  step_log(disp) %>%\n",
        "  step_center(all_predictors())\n",
        "cars_rec\n",
        "#> Data Recipe\n",
        "#> \n",
        "#> Inputs:\n",
        "#> \n",
        "#>       role #variables\n",
        "#>    outcome          1\n",
        "#>  predictor         10\n",
        "#> \n",
        "#> Operations:\n",
        "#> \n",
        "#> Log transformation on disp\n",
        "#> Centering for all_predictors"
      ],
      "metadata": {
        "id": "9UX30zs1IfhZ"
      },
      "execution_count": null,
      "outputs": []
    },
    {
      "cell_type": "code",
      "source": [
        "cars_prep <- prep(cars_rec)\n",
        "cars_prep\n",
        "#> Data Recipe\n",
        "#> \n",
        "#> Inputs:\n",
        "#> \n",
        "#>       role #variables\n",
        "#>    outcome          1\n",
        "#>  predictor         10\n",
        "#> \n",
        "#> Training data contained 20 data points and no missing data.\n",
        "#> \n",
        "#> Operations:\n",
        "#> \n",
        "#> Log transformation on disp [trained]\n",
        "#> Centering for cyl, disp, hp, drat, wt, qsec, vs, am, ... [trained]"
      ],
      "metadata": {
        "id": "UqZBo6i0IjEk"
      },
      "execution_count": null,
      "outputs": []
    },
    {
      "cell_type": "code",
      "source": [
        "bake(cars_prep, new_data = cars_train)"
      ],
      "metadata": {
        "id": "ELszmFbBIoln"
      },
      "execution_count": null,
      "outputs": []
    },
    {
      "cell_type": "code",
      "source": [
        "bake(cars_prep, new_data = cars_test)"
      ],
      "metadata": {
        "id": "8omb8uVkIrxI"
      },
      "execution_count": null,
      "outputs": []
    },
    {
      "cell_type": "code",
      "source": [
        "juice(cars_prep)"
      ],
      "metadata": {
        "id": "FgMeqnYUIx5m"
      },
      "execution_count": null,
      "outputs": []
    },
    {
      "cell_type": "markdown",
      "source": [
        "# 1. 라이브러리 및 데이터 로드"
      ],
      "metadata": {
        "id": "t_6rzaQRrkWr"
      }
    },
    {
      "cell_type": "code",
      "source": [
        "install.packages(c(\"tidymodels\",\"tidyverse\",\"lubridate\",\"skimr\",\"magrittr\",\"data.table\",\"gridExtra\",\"pacman\"))\n",
        "pacman::p_load(\"tidymodels\",\"tidyverse\",\"lubridate\",\"skimr\",\"magrittr\",\"data.table\",\"gridExtra\",\"pacman\")"
      ],
      "metadata": {
        "id": "_2d7ZiBAvePP",
        "colab": {
          "base_uri": "https://localhost:8080/"
        },
        "outputId": "428c003f-168b-4ac9-c866-b1fbf9256d76"
      },
      "execution_count": 5,
      "outputs": [
        {
          "output_type": "stream",
          "name": "stderr",
          "text": [
            "Installing packages into ‘/usr/local/lib/R/site-library’\n",
            "(as ‘lib’ is unspecified)\n",
            "\n"
          ]
        }
      ]
    },
    {
      "cell_type": "code",
      "source": [
        "install.packages(\"GGally\") ; library(GGally)"
      ],
      "metadata": {
        "id": "SD2q-JF_Gz2e"
      },
      "execution_count": null,
      "outputs": []
    },
    {
      "cell_type": "code",
      "source": [
        "theme_set(theme_bw())"
      ],
      "metadata": {
        "id": "TyN-nhApsO1l"
      },
      "execution_count": 6,
      "outputs": []
    },
    {
      "cell_type": "code",
      "source": [
        "system(\"gdown --id 17bke1KhCQFDjVToiNybtczlKqkWmWlvg\")"
      ],
      "metadata": {
        "id": "LQ_D4FAGCPka"
      },
      "execution_count": 12,
      "outputs": []
    },
    {
      "cell_type": "code",
      "source": [
        "df=read_csv(\"hotel.csv\")"
      ],
      "metadata": {
        "colab": {
          "base_uri": "https://localhost:8080/"
        },
        "id": "5Zdph6M-B46h",
        "outputId": "3a177423-8135-4ac2-c4cc-744f1e6d74c7"
      },
      "execution_count": 13,
      "outputs": [
        {
          "output_type": "stream",
          "name": "stderr",
          "text": [
            "\u001b[1mRows: \u001b[22m\u001b[34m119390\u001b[39m \u001b[1mColumns: \u001b[22m\u001b[34m17\u001b[39m\n",
            "\u001b[36m──\u001b[39m \u001b[1mColumn specification\u001b[22m \u001b[36m────────────────────────────────────────────────────────\u001b[39m\n",
            "\u001b[1mDelimiter:\u001b[22m \",\"\n",
            "\u001b[31mchr\u001b[39m  (4): hotel_type, meal, reserved_room_type, assigned_room_type\n",
            "\u001b[32mdbl\u001b[39m (13): is_canceled, lead_time, stays_in_weekend_nights, stays_in_week_nig...\n",
            "\n",
            "\u001b[36mℹ\u001b[39m Use `spec()` to retrieve the full column specification for this data.\n",
            "\u001b[36mℹ\u001b[39m Specify the column types or set `show_col_types = FALSE` to quiet this message.\n"
          ]
        }
      ]
    },
    {
      "cell_type": "code",
      "source": [
        "#티블로 변경\n",
        "tib<-as_tibble(df)"
      ],
      "metadata": {
        "id": "_t839WFIDECx"
      },
      "execution_count": 14,
      "outputs": []
    },
    {
      "cell_type": "markdown",
      "source": [
        "# 2. 데이터 기본정보"
      ],
      "metadata": {
        "id": "L4ibBg0VEFsn"
      }
    },
    {
      "cell_type": "code",
      "source": [
        "head(tib)"
      ],
      "metadata": {
        "colab": {
          "base_uri": "https://localhost:8080/",
          "height": 306
        },
        "id": "38TP3rn5DwMn",
        "outputId": "d11fa444-3d12-4d30-f2c3-da281a33efd4"
      },
      "execution_count": 17,
      "outputs": [
        {
          "output_type": "display_data",
          "data": {
            "text/html": [
              "<table class=\"dataframe\">\n",
              "<caption>A tibble: 6 × 17</caption>\n",
              "<thead>\n",
              "\t<tr><th scope=col>hotel_type</th><th scope=col>is_canceled</th><th scope=col>lead_time</th><th scope=col>stays_in_weekend_nights</th><th scope=col>stays_in_week_nights</th><th scope=col>adults</th><th scope=col>children</th><th scope=col>babies</th><th scope=col>meal</th><th scope=col>is_repeated_guest</th><th scope=col>previous_cancellations</th><th scope=col>previous_bookings_not_canceled</th><th scope=col>reserved_room_type</th><th scope=col>assigned_room_type</th><th scope=col>booking_changes</th><th scope=col>days_in_waiting_list</th><th scope=col>adr</th></tr>\n",
              "\t<tr><th scope=col>&lt;chr&gt;</th><th scope=col>&lt;dbl&gt;</th><th scope=col>&lt;dbl&gt;</th><th scope=col>&lt;dbl&gt;</th><th scope=col>&lt;dbl&gt;</th><th scope=col>&lt;dbl&gt;</th><th scope=col>&lt;dbl&gt;</th><th scope=col>&lt;dbl&gt;</th><th scope=col>&lt;chr&gt;</th><th scope=col>&lt;dbl&gt;</th><th scope=col>&lt;dbl&gt;</th><th scope=col>&lt;dbl&gt;</th><th scope=col>&lt;chr&gt;</th><th scope=col>&lt;chr&gt;</th><th scope=col>&lt;dbl&gt;</th><th scope=col>&lt;dbl&gt;</th><th scope=col>&lt;dbl&gt;</th></tr>\n",
              "</thead>\n",
              "<tbody>\n",
              "\t<tr><td>City Hotel  </td><td>0</td><td>150</td><td>1</td><td>2</td><td>2</td><td>0</td><td>0</td><td>BB       </td><td>0</td><td>0</td><td>0</td><td>A</td><td>A</td><td>0</td><td> 0</td><td> 77.00</td></tr>\n",
              "\t<tr><td>City Hotel  </td><td>0</td><td>126</td><td>1</td><td>4</td><td>2</td><td>0</td><td>0</td><td>BB       </td><td>0</td><td>0</td><td>0</td><td>A</td><td>A</td><td>0</td><td> 0</td><td> 74.80</td></tr>\n",
              "\t<tr><td>City Hotel  </td><td>0</td><td>  4</td><td>0</td><td>2</td><td>2</td><td>0</td><td>0</td><td>BB       </td><td>0</td><td>0</td><td>0</td><td>A</td><td>A</td><td>0</td><td> 0</td><td>106.00</td></tr>\n",
              "\t<tr><td>City Hotel  </td><td>1</td><td> 47</td><td>1</td><td>2</td><td>2</td><td>0</td><td>0</td><td>BB       </td><td>0</td><td>0</td><td>0</td><td>A</td><td>A</td><td>0</td><td> 0</td><td>125.00</td></tr>\n",
              "\t<tr><td>City Hotel  </td><td>0</td><td>124</td><td>0</td><td>4</td><td>2</td><td>0</td><td>0</td><td>BB       </td><td>0</td><td>0</td><td>0</td><td>A</td><td>A</td><td>0</td><td> 0</td><td> 96.53</td></tr>\n",
              "\t<tr><td>Resort Hotel</td><td>1</td><td>146</td><td>0</td><td>3</td><td>2</td><td>0</td><td>0</td><td>Undefined</td><td>0</td><td>0</td><td>0</td><td>A</td><td>A</td><td>0</td><td>60</td><td> 46.00</td></tr>\n",
              "</tbody>\n",
              "</table>\n"
            ],
            "text/markdown": "\nA tibble: 6 × 17\n\n| hotel_type &lt;chr&gt; | is_canceled &lt;dbl&gt; | lead_time &lt;dbl&gt; | stays_in_weekend_nights &lt;dbl&gt; | stays_in_week_nights &lt;dbl&gt; | adults &lt;dbl&gt; | children &lt;dbl&gt; | babies &lt;dbl&gt; | meal &lt;chr&gt; | is_repeated_guest &lt;dbl&gt; | previous_cancellations &lt;dbl&gt; | previous_bookings_not_canceled &lt;dbl&gt; | reserved_room_type &lt;chr&gt; | assigned_room_type &lt;chr&gt; | booking_changes &lt;dbl&gt; | days_in_waiting_list &lt;dbl&gt; | adr &lt;dbl&gt; |\n|---|---|---|---|---|---|---|---|---|---|---|---|---|---|---|---|---|\n| City Hotel   | 0 | 150 | 1 | 2 | 2 | 0 | 0 | BB        | 0 | 0 | 0 | A | A | 0 |  0 |  77.00 |\n| City Hotel   | 0 | 126 | 1 | 4 | 2 | 0 | 0 | BB        | 0 | 0 | 0 | A | A | 0 |  0 |  74.80 |\n| City Hotel   | 0 |   4 | 0 | 2 | 2 | 0 | 0 | BB        | 0 | 0 | 0 | A | A | 0 |  0 | 106.00 |\n| City Hotel   | 1 |  47 | 1 | 2 | 2 | 0 | 0 | BB        | 0 | 0 | 0 | A | A | 0 |  0 | 125.00 |\n| City Hotel   | 0 | 124 | 0 | 4 | 2 | 0 | 0 | BB        | 0 | 0 | 0 | A | A | 0 |  0 |  96.53 |\n| Resort Hotel | 1 | 146 | 0 | 3 | 2 | 0 | 0 | Undefined | 0 | 0 | 0 | A | A | 0 | 60 |  46.00 |\n\n",
            "text/latex": "A tibble: 6 × 17\n\\begin{tabular}{lllllllllllllllll}\n hotel\\_type & is\\_canceled & lead\\_time & stays\\_in\\_weekend\\_nights & stays\\_in\\_week\\_nights & adults & children & babies & meal & is\\_repeated\\_guest & previous\\_cancellations & previous\\_bookings\\_not\\_canceled & reserved\\_room\\_type & assigned\\_room\\_type & booking\\_changes & days\\_in\\_waiting\\_list & adr\\\\\n <chr> & <dbl> & <dbl> & <dbl> & <dbl> & <dbl> & <dbl> & <dbl> & <chr> & <dbl> & <dbl> & <dbl> & <chr> & <chr> & <dbl> & <dbl> & <dbl>\\\\\n\\hline\n\t City Hotel   & 0 & 150 & 1 & 2 & 2 & 0 & 0 & BB        & 0 & 0 & 0 & A & A & 0 &  0 &  77.00\\\\\n\t City Hotel   & 0 & 126 & 1 & 4 & 2 & 0 & 0 & BB        & 0 & 0 & 0 & A & A & 0 &  0 &  74.80\\\\\n\t City Hotel   & 0 &   4 & 0 & 2 & 2 & 0 & 0 & BB        & 0 & 0 & 0 & A & A & 0 &  0 & 106.00\\\\\n\t City Hotel   & 1 &  47 & 1 & 2 & 2 & 0 & 0 & BB        & 0 & 0 & 0 & A & A & 0 &  0 & 125.00\\\\\n\t City Hotel   & 0 & 124 & 0 & 4 & 2 & 0 & 0 & BB        & 0 & 0 & 0 & A & A & 0 &  0 &  96.53\\\\\n\t Resort Hotel & 1 & 146 & 0 & 3 & 2 & 0 & 0 & Undefined & 0 & 0 & 0 & A & A & 0 & 60 &  46.00\\\\\n\\end{tabular}\n",
            "text/plain": [
              "  hotel_type   is_canceled lead_time stays_in_weekend_nights\n",
              "1 City Hotel   0           150       1                      \n",
              "2 City Hotel   0           126       1                      \n",
              "3 City Hotel   0             4       0                      \n",
              "4 City Hotel   1            47       1                      \n",
              "5 City Hotel   0           124       0                      \n",
              "6 Resort Hotel 1           146       0                      \n",
              "  stays_in_week_nights adults children babies meal      is_repeated_guest\n",
              "1 2                    2      0        0      BB        0                \n",
              "2 4                    2      0        0      BB        0                \n",
              "3 2                    2      0        0      BB        0                \n",
              "4 2                    2      0        0      BB        0                \n",
              "5 4                    2      0        0      BB        0                \n",
              "6 3                    2      0        0      Undefined 0                \n",
              "  previous_cancellations previous_bookings_not_canceled reserved_room_type\n",
              "1 0                      0                              A                 \n",
              "2 0                      0                              A                 \n",
              "3 0                      0                              A                 \n",
              "4 0                      0                              A                 \n",
              "5 0                      0                              A                 \n",
              "6 0                      0                              A                 \n",
              "  assigned_room_type booking_changes days_in_waiting_list adr   \n",
              "1 A                  0                0                    77.00\n",
              "2 A                  0                0                    74.80\n",
              "3 A                  0                0                   106.00\n",
              "4 A                  0                0                   125.00\n",
              "5 A                  0                0                    96.53\n",
              "6 A                  0               60                    46.00"
            ]
          },
          "metadata": {}
        }
      ]
    },
    {
      "cell_type": "code",
      "source": [
        "skim(tib)"
      ],
      "metadata": {
        "colab": {
          "base_uri": "https://localhost:8080/"
        },
        "id": "qDQEHkHxDyWc",
        "outputId": "7909d662-7676-44f6-a778-1464a3cabd59"
      },
      "execution_count": 18,
      "outputs": [
        {
          "output_type": "stream",
          "name": "stdout",
          "text": [
            "── Data Summary ────────────────────────\n",
            "                           Values\n",
            "Name                       train \n",
            "Number of rows             83573 \n",
            "Number of columns          17    \n",
            "_______________________          \n",
            "Column type frequency:           \n",
            "  character                4     \n",
            "  numeric                  13    \n",
            "________________________         \n",
            "Group variables            None  \n",
            "\n",
            "── Variable type: character ────────────────────────────────────────────────────\n",
            "  skim_variable      n_missing complete_rate min max empty n_unique whitespace\n",
            "\u001b[90m1\u001b[39m hotel_type                 0             1  10  12     0        2          0\n",
            "\u001b[90m2\u001b[39m meal                       0             1   2   9     0        5          0\n",
            "\u001b[90m3\u001b[39m reserved_room_type         0             1   1   4     0        5          0\n",
            "\u001b[90m4\u001b[39m assigned_room_type         0             1   1   4     0        5          0\n",
            "\n",
            "── Variable type: numeric ──────────────────────────────────────────────────────\n",
            "   skim_variable                  n_missing complete_rate      mean       sd\n",
            "\u001b[90m 1\u001b[39m is_canceled                            0          1      0.370     0.483 \n",
            "\u001b[90m 2\u001b[39m lead_time                              0          1    104.      107.    \n",
            "\u001b[90m 3\u001b[39m stays_in_weekend_nights                0          1      0.930     0.998 \n",
            "\u001b[90m 4\u001b[39m stays_in_week_nights                   0          1      2.51      1.91  \n",
            "\u001b[90m 5\u001b[39m adults                                 0          1      1.86      0.581 \n",
            "\u001b[90m 6\u001b[39m children                               2          1.00   0.106     0.404 \n",
            "\u001b[90m 7\u001b[39m babies                                 0          1      0.007\u001b[4m8\u001b[24m\u001b[4m1\u001b[24m   0.099\u001b[4m5\u001b[24m\n",
            "\u001b[90m 8\u001b[39m is_repeated_guest                      0          1      0.031\u001b[4m4\u001b[24m    0.174 \n",
            "\u001b[90m 9\u001b[39m previous_cancellations                 0          1      0.089\u001b[4m0\u001b[24m    0.870 \n",
            "\u001b[90m10\u001b[39m previous_bookings_not_canceled         0          1      0.134     1.47  \n",
            "\u001b[90m11\u001b[39m booking_changes                        0          1      0.221     0.659 \n",
            "\u001b[90m12\u001b[39m days_in_waiting_list                   0          1      2.33     17.6   \n",
            "\u001b[90m13\u001b[39m adr                                    0          1    102.       51.7   \n",
            "      p0  p25  p50 p75 p100 hist \n",
            "\u001b[90m 1\u001b[39m  0     0    0     1    1 ▇▁▁▁▅\n",
            "\u001b[90m 2\u001b[39m  0    18   69   160  737 ▇▂▁▁▁\n",
            "\u001b[90m 3\u001b[39m  0     0    1     2   18 ▇▁▁▁▁\n",
            "\u001b[90m 4\u001b[39m  0     1    2     3   42 ▇▁▁▁▁\n",
            "\u001b[90m 5\u001b[39m  0     2    2     2   55 ▇▁▁▁▁\n",
            "\u001b[90m 6\u001b[39m  0     0    0     0   10 ▇▁▁▁▁\n",
            "\u001b[90m 7\u001b[39m  0     0    0     0   10 ▇▁▁▁▁\n",
            "\u001b[90m 8\u001b[39m  0     0    0     0    1 ▇▁▁▁▁\n",
            "\u001b[90m 9\u001b[39m  0     0    0     0   26 ▇▁▁▁▁\n",
            "\u001b[90m10\u001b[39m  0     0    0     0   72 ▇▁▁▁▁\n",
            "\u001b[90m11\u001b[39m  0     0    0     0   21 ▇▁▁▁▁\n",
            "\u001b[90m12\u001b[39m  0     0    0     0  391 ▇▁▁▁▁\n",
            "\u001b[90m13\u001b[39m -\u001b[31m6\u001b[39m\u001b[31m.\u001b[39m\u001b[31m38\u001b[39m 69.1 94.7 126 \u001b[4m5\u001b[24m400 ▇▁▁▁▁\n"
          ]
        },
        {
          "output_type": "stream",
          "name": "stderr",
          "text": [
            "Warning message in is.null(text_repr) || nchar(text_repr) == 0L:\n",
            "“'length(x) = 2 > 1' in coercion to 'logical(1)'”\n"
          ]
        }
      ]
    },
    {
      "cell_type": "markdown",
      "source": [
        "전처리 완료한거 불러와서 다시 시작 "
      ],
      "metadata": {
        "id": "A1m-M5IOGoCX"
      }
    },
    {
      "cell_type": "code",
      "source": [
        "df<-"
      ],
      "metadata": {
        "colab": {
          "base_uri": "https://localhost:8080/"
        },
        "id": "O3LL4aIHD6hZ",
        "outputId": "4a1484c0-1d3d-40e2-931a-5d557798ba0a"
      },
      "execution_count": 19,
      "outputs": [
        {
          "output_type": "stream",
          "name": "stdout",
          "text": [
            "── Data Summary ────────────────────────\n",
            "                           Values\n",
            "Name                       test  \n",
            "Number of rows             35817 \n",
            "Number of columns          17    \n",
            "_______________________          \n",
            "Column type frequency:           \n",
            "  character                4     \n",
            "  numeric                  13    \n",
            "________________________         \n",
            "Group variables            None  \n",
            "\n",
            "── Variable type: character ────────────────────────────────────────────────────\n",
            "  skim_variable      n_missing complete_rate min max empty n_unique whitespace\n",
            "\u001b[90m1\u001b[39m hotel_type                 0             1  10  12     0        2          0\n",
            "\u001b[90m2\u001b[39m meal                       0             1   2   9     0        5          0\n",
            "\u001b[90m3\u001b[39m reserved_room_type         0             1   1   4     0        5          0\n",
            "\u001b[90m4\u001b[39m assigned_room_type         0             1   1   4     0        5          0\n",
            "\n",
            "── Variable type: numeric ──────────────────────────────────────────────────────\n",
            "   skim_variable                  n_missing complete_rate      mean       sd p0\n",
            "\u001b[90m 1\u001b[39m is_canceled                            0          1      0.372     0.483   0\n",
            "\u001b[90m 2\u001b[39m lead_time                              0          1    104.      106.      0\n",
            "\u001b[90m 3\u001b[39m stays_in_weekend_nights                0          1      0.921     1.00    0\n",
            "\u001b[90m 4\u001b[39m stays_in_week_nights                   0          1      2.49      1.90    0\n",
            "\u001b[90m 5\u001b[39m adults                                 0          1      1.86      0.576   0\n",
            "\u001b[90m 6\u001b[39m children                               2          1.00   0.099\u001b[4m3\u001b[24m    0.386   0\n",
            "\u001b[90m 7\u001b[39m babies                                 0          1      0.008\u001b[4m2\u001b[24m\u001b[4m6\u001b[24m   0.092\u001b[4m4\u001b[24m  0\n",
            "\u001b[90m 8\u001b[39m is_repeated_guest                      0          1      0.033\u001b[4m1\u001b[24m    0.179   0\n",
            "\u001b[90m 9\u001b[39m previous_cancellations                 0          1      0.082\u001b[4m8\u001b[24m    0.781   0\n",
            "\u001b[90m10\u001b[39m previous_bookings_not_canceled         0          1      0.143     1.56    0\n",
            "\u001b[90m11\u001b[39m booking_changes                        0          1      0.221     0.636   0\n",
            "\u001b[90m12\u001b[39m days_in_waiting_list                   0          1      2.30     17.6     0\n",
            "\u001b[90m13\u001b[39m adr                                    0          1    102.       47.8     0\n",
            "    p25  p50  p75 p100 hist \n",
            "\u001b[90m 1\u001b[39m  0    0     1     1 ▇▁▁▁▅\n",
            "\u001b[90m 2\u001b[39m 18   69   160   629 ▇▂▁▁▁\n",
            "\u001b[90m 3\u001b[39m  0    1     2    19 ▇▁▁▁▁\n",
            "\u001b[90m 4\u001b[39m  1    2     3    50 ▇▁▁▁▁\n",
            "\u001b[90m 5\u001b[39m  2    2     2    40 ▇▁▁▁▁\n",
            "\u001b[90m 6\u001b[39m  0    0     0     3 ▇▁▁▁▁\n",
            "\u001b[90m 7\u001b[39m  0    0     0     2 ▇▁▁▁▁\n",
            "\u001b[90m 8\u001b[39m  0    0     0     1 ▇▁▁▁▁\n",
            "\u001b[90m 9\u001b[39m  0    0     0    26 ▇▁▁▁▁\n",
            "\u001b[90m10\u001b[39m  0    0     0    70 ▇▁▁▁▁\n",
            "\u001b[90m11\u001b[39m  0    0     0    15 ▇▁▁▁▁\n",
            "\u001b[90m12\u001b[39m  0    0     0   391 ▇▁▁▁▁\n",
            "\u001b[90m13\u001b[39m 69.3 94.5 126.  508 ▇▅▁▁▁\n"
          ]
        },
        {
          "output_type": "stream",
          "name": "stderr",
          "text": [
            "Warning message in is.null(text_repr) || nchar(text_repr) == 0L:\n",
            "“'length(x) = 2 > 1' in coercion to 'logical(1)'”\n"
          ]
        }
      ]
    },
    {
      "cell_type": "markdown",
      "source": [
        "# 3. 일변량 데이터 분포"
      ],
      "metadata": {
        "id": "jTywj24nEXRm"
      }
    },
    {
      "cell_type": "code",
      "source": [
        "#lead_time\n",
        "tib %>%  ggplot(aes(x = lead_time)) + geom_histogram()"
      ],
      "metadata": {
        "colab": {
          "base_uri": "https://localhost:8080/",
          "height": 474
        },
        "id": "urByjkieD_5r",
        "outputId": "6d83a536-608f-4fe0-8ad2-5fca86125c93"
      },
      "execution_count": 24,
      "outputs": [
        {
          "output_type": "stream",
          "name": "stderr",
          "text": [
            "`stat_bin()` using `bins = 30`. Pick better value with `binwidth`.\n",
            "\n"
          ]
        },
        {
          "output_type": "display_data",
          "data": {
            "text/plain": [
              "plot without title"
            ],
            "image/png": "[encoded data removed]"
          },
          "metadata": {
            "image/png": {
              "width": 420,
              "height": 420
            }
          }
        }
      ]
    },
    {
      "cell_type": "code",
      "source": [
        ""
      ],
      "metadata": {
        "colab": {
          "base_uri": "https://localhost:8080/"
        },
        "id": "3BfZMHayFVEB",
        "outputId": "05b4c2ad-567b-42d1-fc35-8e99676994c8"
      },
      "execution_count": 26,
      "outputs": [
        {
          "output_type": "stream",
          "name": "stderr",
          "text": [
            "Installing package into ‘/usr/local/lib/R/site-library’\n",
            "(as ‘lib’ is unspecified)\n",
            "\n",
            "also installing the dependency ‘reshape’\n",
            "\n",
            "\n",
            "Registered S3 method overwritten by 'GGally':\n",
            "  method from   \n",
            "  +.gg   ggplot2\n",
            "\n"
          ]
        }
      ]
    },
    {
      "cell_type": "code",
      "source": [
        ""
      ],
      "metadata": {
        "id": "OKlgYGAzHN99"
      },
      "execution_count": null,
      "outputs": []
    },
    {
      "cell_type": "markdown",
      "source": [
        "# 4. 변수별 상관관계 및 분포 시각화"
      ],
      "metadata": {
        "id": "ZASYRuCiHOfb"
      }
    }
  ],
  "metadata": {
    "colab": {
      "name": "20220522_hotel_하는중.ipynb",
      "provenance": [],
      "authorship_tag": "ABX9TyO9fXrOjU/OLBscBNr9NyQw",
      "include_colab_link": true
    },
    "kernelspec": {
      "display_name": "R",
      "name": "ir"
    },
    "language_info": {
      "name": "R"
    }
  },
  "nbformat": 4,
  "nbformat_minor": 0
}