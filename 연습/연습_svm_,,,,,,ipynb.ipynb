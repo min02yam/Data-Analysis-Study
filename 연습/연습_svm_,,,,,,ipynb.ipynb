{
  "nbformat": 4,
  "nbformat_minor": 0,
  "metadata": {
    "colab": {
      "name": "svm_,,,,,,ipynb",
      "provenance": [],
      "authorship_tag": "ABX9TyNUpu2NgKTAMx38AdCG7gId",
      "include_colab_link": true
    },
    "kernelspec": {
      "name": "ir",
      "display_name": "R"
    },
    "language_info": {
      "name": "R"
    }
  },
  "cells": [
    {
      "cell_type": "markdown",
      "metadata": {
        "id": "view-in-github",
        "colab_type": "text"
      },
      "source": [
        "<a href=\"https://colab.research.google.com/github/min02yam/Data-study/blob/main/%EC%97%B0%EC%8A%B5_svm_%2C%2C%2C%2C%2C%2Cipynb.ipynb\" target=\"_parent\"><img src=\"https://colab.research.google.com/assets/colab-badge.svg\" alt=\"Open In Colab\"/></a>"
      ]
    },
    {
      "cell_type": "code",
      "source": [
        "install.packages(\"e1071\");  library(e1071)"
      ],
      "metadata": {
        "colab": {
          "base_uri": "https://localhost:8080/"
        },
        "id": "NUvQqan4qqWP",
        "outputId": "968bb36c-0ec4-4def-da20-4b0ae5462b4f"
      },
      "execution_count": 9,
      "outputs": [
        {
          "output_type": "stream",
          "name": "stderr",
          "text": [
            "Installing package into ‘/usr/local/lib/R/site-library’\n",
            "(as ‘lib’ is unspecified)\n",
            "\n",
            "also installing the dependency ‘proxy’\n",
            "\n",
            "\n"
          ]
        }
      ]
    },
    {
      "cell_type": "code",
      "source": [
        "install.packages(c(\"kernlab\",\"caret\")) ; library(kernlab); library(caret)"
      ],
      "metadata": {
        "colab": {
          "base_uri": "https://localhost:8080/"
        },
        "id": "rw59YUlgt3dS",
        "outputId": "7fa7c3c4-daf5-460c-a541-7e4d19e124f5"
      },
      "execution_count": 28,
      "outputs": [
        {
          "output_type": "stream",
          "name": "stderr",
          "text": [
            "Installing packages into ‘/usr/local/lib/R/site-library’\n",
            "(as ‘lib’ is unspecified)\n",
            "\n",
            "also installing the dependencies ‘listenv’, ‘parallelly’, ‘future’, ‘globals’, ‘future.apply’, ‘progressr’, ‘numDeriv’, ‘SQUAREM’, ‘lava’, ‘prodlim’, ‘iterators’, ‘Rcpp’, ‘gower’, ‘hardhat’, ‘ipred’, ‘timeDate’, ‘foreach’, ‘ModelMetrics’, ‘plyr’, ‘pROC’, ‘recipes’, ‘reshape2’\n",
            "\n",
            "\n",
            "Loading required package: ggplot2\n",
            "\n",
            "\n",
            "Attaching package: ‘ggplot2’\n",
            "\n",
            "\n",
            "The following object is masked from ‘package:kernlab’:\n",
            "\n",
            "    alpha\n",
            "\n",
            "\n",
            "Loading required package: lattice\n",
            "\n",
            "Warning message in system(\"timedatectl\", intern = TRUE):\n",
            "“running command 'timedatectl' had status 1”\n"
          ]
        }
      ]
    },
    {
      "cell_type": "code",
      "source": [
        "df<-read.csv(\"/content/credit_final.csv\")"
      ],
      "metadata": {
        "id": "GTGGro6tpU4_"
      },
      "execution_count": 1,
      "outputs": []
    },
    {
      "cell_type": "code",
      "source": [
        "str(df)"
      ],
      "metadata": {
        "colab": {
          "base_uri": "https://localhost:8080/"
        },
        "id": "XVVmHTwXqQvU",
        "outputId": "e7d6da7b-f8fd-4a8e-96cd-0f42cf9a36d0"
      },
      "execution_count": 5,
      "outputs": [
        {
          "output_type": "stream",
          "name": "stdout",
          "text": [
            "'data.frame':\t1000 obs. of  21 variables:\n",
            " $ credit.rating                 : int  1 1 1 1 1 1 1 1 1 1 ...\n",
            " $ account.balance               : int  1 1 2 1 1 1 1 1 3 2 ...\n",
            " $ credit.duration.months        : int  18 9 12 12 12 10 8 6 18 24 ...\n",
            " $ previous.credit.payment.status: int  3 3 2 3 3 3 3 3 3 2 ...\n",
            " $ credit.purpose                : int  2 4 4 4 4 4 4 4 3 3 ...\n",
            " $ credit.amount                 : int  1049 2799 841 2122 2171 2241 3398 1361 1098 3758 ...\n",
            " $ savings                       : int  1 1 2 1 1 1 1 1 1 3 ...\n",
            " $ employment.duration           : int  1 2 3 2 2 1 3 1 1 1 ...\n",
            " $ installment.rate              : int  4 2 2 3 4 1 1 2 4 1 ...\n",
            " $ marital.status                : int  1 3 1 3 3 3 3 3 1 1 ...\n",
            " $ guarantor                     : int  1 1 1 1 1 1 1 1 1 1 ...\n",
            " $ residence.duration            : int  4 2 4 2 4 3 4 4 4 4 ...\n",
            " $ current.assets                : int  2 1 1 1 2 1 1 1 3 4 ...\n",
            " $ age                           : int  21 36 23 39 38 48 39 40 65 23 ...\n",
            " $ other.credits                 : int  2 2 2 2 1 2 2 2 2 2 ...\n",
            " $ apartment.type                : int  1 1 1 1 2 1 2 2 2 1 ...\n",
            " $ bank.credits                  : int  1 2 1 2 2 2 2 1 2 1 ...\n",
            " $ occupation                    : int  3 3 2 2 2 2 2 2 1 1 ...\n",
            " $ dependents                    : int  1 2 1 2 1 2 1 2 1 1 ...\n",
            " $ telephone                     : int  1 1 1 1 1 1 1 1 1 1 ...\n",
            " $ foreign.worker                : int  1 1 1 2 2 2 2 2 1 1 ...\n"
          ]
        }
      ]
    },
    {
      "cell_type": "code",
      "source": [
        "set.seed(2022)"
      ],
      "metadata": {
        "id": "Wvjj5oYLpYrx"
      },
      "execution_count": 2,
      "outputs": []
    },
    {
      "cell_type": "code",
      "source": [
        "idx<-sample(1:nrow(df), nrow(df)*0.7, replace=FALSE)\n",
        "train<-df[idx,]\n",
        "test<-df[-idx,]"
      ],
      "metadata": {
        "id": "0tiwIO0QpfO3"
      },
      "execution_count": 4,
      "outputs": []
    },
    {
      "cell_type": "code",
      "source": [
        "tune1<-tune.svm(credit.rating~. , data=train ,gamma=10^(-5:-1) , cost=10^(1:2)) "
      ],
      "metadata": {
        "id": "EutbLVesqLXP"
      },
      "execution_count": 38,
      "outputs": []
    },
    {
      "cell_type": "code",
      "source": [
        " summary(tune1) #디폴트 가우시안 "
      ],
      "metadata": {
        "colab": {
          "base_uri": "https://localhost:8080/",
          "height": 436
        },
        "id": "XbfnN6hoym87",
        "outputId": "f47667a6-1450-4f9e-ea80-3e6098cb0d47"
      },
      "execution_count": 39,
      "outputs": [
        {
          "output_type": "display_data",
          "data": {
            "text/plain": [
              "\n",
              "Parameter tuning of ‘svm’:\n",
              "\n",
              "- sampling method: 10-fold cross validation \n",
              "\n",
              "- best parameters:\n",
              " gamma cost\n",
              "  0.01   10\n",
              "\n",
              "- best performance: 0.1752139 \n",
              "\n",
              "- Detailed performance results:\n",
              "   gamma cost     error dispersion\n",
              "1  1e-05   10 0.2622767 0.04876121\n",
              "2  1e-04   10 0.2414600 0.04550337\n",
              "3  1e-03   10 0.2173651 0.04343214\n",
              "4  1e-02   10 0.1752139 0.03135293\n",
              "5  1e-01   10 0.1940782 0.04830641\n",
              "6  1e-05  100 0.2414921 0.04550188\n",
              "7  1e-04  100 0.2249929 0.04501968\n",
              "8  1e-03  100 0.1790516 0.03291931\n",
              "9  1e-02  100 0.2227792 0.04391526\n",
              "10 1e-01  100 0.2010684 0.05250274\n"
            ]
          },
          "metadata": {}
        }
      ]
    },
    {
      "cell_type": "code",
      "source": [
        "tune.svm(credit.rating~. , data=train ,kernel=\"linear\",gamma=10^(-5:-1) , cost=10^(1:2))"
      ],
      "metadata": {
        "colab": {
          "base_uri": "https://localhost:8080/",
          "height": 199
        },
        "id": "WbXIBHpdwBMK",
        "outputId": "ced08ade-2172-4a2b-8c59-2bef2c3eda16"
      },
      "execution_count": 37,
      "outputs": [
        {
          "output_type": "display_data",
          "data": {
            "text/plain": [
              "\n",
              "Parameter tuning of ‘svm’:\n",
              "\n",
              "- sampling method: 10-fold cross validation \n",
              "\n",
              "- best parameters:\n",
              " gamma cost\n",
              " 1e-05   10\n",
              "\n",
              "- best performance: 0.221376 \n"
            ]
          },
          "metadata": {}
        }
      ]
    },
    {
      "cell_type": "code",
      "source": [
        "#tune.svm(credit.rating~. , data=train , ranges=list(gamma=10^(-5:-1)) , cost=10^(1:2))"
      ],
      "metadata": {
        "colab": {
          "base_uri": "https://localhost:8080/",
          "height": 155
        },
        "id": "0QJ2oMqpsqYi",
        "outputId": "eeec4f22-4af8-4956-d615-3ba8a81f8c48"
      },
      "execution_count": 26,
      "outputs": [
        {
          "output_type": "error",
          "ename": "ERROR",
          "evalue": "ignored",
          "traceback": [
            "Error in tune(\"svm\", train.x = x, data = data, ranges = ranges, ...): formal argument \"ranges\" matched by multiple actual arguments\nTraceback:\n",
            "1. tune.svm(credit.rating ~ ., data = train, ranges = list(gamma = 10^(-5:-1)), \n .     cost = 10^(1:2))"
          ]
        }
      ]
    },
    {
      "cell_type": "code",
      "source": [
        "#교차검증,,, 멍멍 멍멍멍 멍멍멍멍\n",
        "cntl<-rfeControl(lrFuncs, method=\"cv\", number=10)"
      ],
      "metadata": {
        "id": "2TpsvxMcrQkO"
      },
      "execution_count": 41,
      "outputs": []
    },
    {
      "cell_type": "code",
      "source": [
        "svm_ft<-rfe(train[,-1], train[,1], sizes=2^(2:4), rfeContol=rfeControl(lrFuncs, method=\"cv\", number=10))"
      ],
      "metadata": {
        "colab": {
          "base_uri": "https://localhost:8080/",
          "height": 209
        },
        "id": "IkuhMrEVxdZl",
        "outputId": "79a994f5-7134-4c53-a1d9-5c9402b848ba"
      },
      "execution_count": 52,
      "outputs": [
        {
          "output_type": "error",
          "ename": "ERROR",
          "evalue": "ignored",
          "traceback": [
            "Error in rfe.default(train[, -1], train[, 1], sizes = 2^(2:4), rfeContol = rfeControl(lrFuncs, : promise already under evaluation: recursive default argument reference or earlier problems?\nTraceback:\n",
            "1. rfe(train[, -1], train[, 1], sizes = 2^(2:4), rfeContol = rfeControl(lrFuncs, \n .     method = \"cv\", number = 10))",
            "2. rfe.default(train[, -1], train[, 1], sizes = 2^(2:4), rfeContol = rfeControl(lrFuncs, \n .     method = \"cv\", number = 10))"
          ]
        }
      ]
    },
    {
      "cell_type": "code",
      "source": [
        "?rfe"
      ],
      "metadata": {
        "id": "ObY6LRJUzznH"
      },
      "execution_count": 46,
      "outputs": []
    },
    {
      "cell_type": "code",
      "source": [
        "cntl\n"
      ],
      "metadata": {
        "id": "JaHKeeiUzi0u"
      },
      "execution_count": null,
      "outputs": []
    },
    {
      "cell_type": "code",
      "source": [
        "cost<-c(1, seq(5,40,5))\n",
        "\n",
        "acc<-sapply(cost, function(x){ \n",
        "  set.seed(2022)\n",
        "fit<-ksvm(train[,1]~., train, kernel=\"rbfdot\", C=x)    # 리니어 왜 안됨  ~ \n",
        "  pred<-predict(fit, test)\n",
        "  agr<-ifelse(pred==test[,1], 1, 0)\n",
        "  acc<-sum(agr)/nrow(test)\n",
        "  \n",
        "  return(acc)\n",
        "})"
      ],
      "metadata": {
        "id": "-5ZWUY0k1SmG"
      },
      "execution_count": 89,
      "outputs": []
    },
    {
      "cell_type": "code",
      "source": [
        "#train[,1]<-as.factor(train[,1])\n",
        "#test[,1]<-as.factor(test[,1])\n",
        "#str(test)\n",
        "str(train)"
      ],
      "metadata": {
        "colab": {
          "base_uri": "https://localhost:8080/"
        },
        "id": "Pbu2IHnH5a7Q",
        "outputId": "9a5737e3-1885-4735-b280-8ff11decc75a"
      },
      "execution_count": 88,
      "outputs": [
        {
          "output_type": "stream",
          "name": "stdout",
          "text": [
            "'data.frame':\t700 obs. of  21 variables:\n",
            " $ credit.rating                 : Factor w/ 2 levels \"0\",\"1\": 1 2 1 1 1 1 2 2 2 2 ...\n",
            " $ account.balance               : int  3 3 1 2 1 1 2 3 3 3 ...\n",
            " $ credit.duration.months        : int  30 6 24 18 24 36 24 30 24 21 ...\n",
            " $ previous.credit.payment.status: int  3 2 2 2 1 1 2 3 3 3 ...\n",
            " $ credit.purpose                : int  4 2 3 4 2 2 3 3 2 2 ...\n",
            " $ credit.amount                 : int  1908 1543 1987 1042 6872 2746 5084 3077 2028 1591 ...\n",
            " $ savings                       : int  1 3 1 4 1 1 4 4 1 2 ...\n",
            " $ employment.duration           : int  4 2 2 2 1 4 4 4 3 3 ...\n",
            " $ installment.rate              : int  4 4 2 4 2 4 2 3 2 4 ...\n",
            " $ marital.status                : int  3 1 3 1 1 3 1 3 3 3 ...\n",
            " $ guarantor                     : int  1 1 1 1 1 1 1 1 1 1 ...\n",
            " $ residence.duration            : int  4 2 4 2 1 4 4 2 2 3 ...\n",
            " $ current.assets                : int  1 1 1 2 2 3 3 3 2 1 ...\n",
            " $ age                           : int  66 33 21 33 55 31 42 40 30 34 ...\n",
            " $ other.credits                 : int  2 2 2 2 1 1 2 2 2 2 ...\n",
            " $ apartment.type                : int  2 2 1 2 2 2 2 2 2 2 ...\n",
            " $ bank.credits                  : int  1 1 1 1 1 1 1 2 2 2 ...\n",
            " $ occupation                    : int  4 3 2 3 3 3 3 3 2 4 ...\n",
            " $ dependents                    : int  1 1 2 1 1 1 1 2 1 1 ...\n",
            " $ telephone                     : int  2 1 1 1 2 1 2 2 1 1 ...\n",
            " $ foreign.worker                : int  1 1 1 1 1 1 1 1 1 1 ...\n"
          ]
        }
      ]
    },
    {
      "cell_type": "code",
      "source": [
        "#fit<-ksvm(train[,1]~., train, kernel=\"rbfdot\", C=10) ; fit\n",
        "#pred<-predict(fit, test, type=\"response\") ; pred\n",
        "#agr<-ifelse(pred==test[,1], 1, 0); agr"
      ],
      "metadata": {
        "colab": {
          "base_uri": "https://localhost:8080/",
          "height": 52
        },
        "id": "CWDgaie52-AP",
        "outputId": "5396b553-ed5a-4e39-f00f-b01f89d980a8"
      },
      "execution_count": 97,
      "outputs": [
        {
          "output_type": "display_data",
          "data": {
            "text/html": [
              "<style>\n",
              ".list-inline {list-style: none; margin:0; padding: 0}\n",
              ".list-inline>li {display: inline-block}\n",
              ".list-inline>li:not(:last-child)::after {content: \"\\00b7\"; padding: 0 .5ex}\n",
              "</style>\n",
              "<ol class=list-inline><li>1</li><li>1</li><li>1</li><li>1</li><li>1</li><li>0</li></ol>\n",
              "\n",
              "<details>\n",
              "\t<summary style=display:list-item;cursor:pointer>\n",
              "\t\t<strong>Levels</strong>:\n",
              "\t</summary>\n",
              "\t<style>\n",
              "\t.list-inline {list-style: none; margin:0; padding: 0}\n",
              "\t.list-inline>li {display: inline-block}\n",
              "\t.list-inline>li:not(:last-child)::after {content: \"\\00b7\"; padding: 0 .5ex}\n",
              "\t</style>\n",
              "\t<ol class=list-inline><li>'0'</li><li>'1'</li></ol>\n",
              "</details>"
            ],
            "text/markdown": "1. 1\n2. 1\n3. 1\n4. 1\n5. 1\n6. 0\n\n\n\n**Levels**: 1. '0'\n2. '1'\n\n\n",
            "text/latex": "\\begin{enumerate*}\n\\item 1\n\\item 1\n\\item 1\n\\item 1\n\\item 1\n\\item 0\n\\end{enumerate*}\n\n\\emph{Levels}: \\begin{enumerate*}\n\\item '0'\n\\item '1'\n\\end{enumerate*}\n",
            "text/plain": [
              "[1] 1 1 1 1 1 0\n",
              "Levels: 0 1"
            ]
          },
          "metadata": {}
        }
      ]
    },
    {
      "cell_type": "code",
      "source": [
        "install.packages(\"ROCR\") "
      ],
      "metadata": {
        "colab": {
          "base_uri": "https://localhost:8080/"
        },
        "id": "1hUmdiUQ2VOp",
        "outputId": "0ab42e87-6b32-4369-d696-88e972e1c432"
      },
      "execution_count": 57,
      "outputs": [
        {
          "output_type": "stream",
          "name": "stderr",
          "text": [
            "Installing package into ‘/usr/local/lib/R/site-library’\n",
            "(as ‘lib’ is unspecified)\n",
            "\n",
            "also installing the dependencies ‘bitops’, ‘gtools’, ‘caTools’, ‘gplots’\n",
            "\n",
            "\n"
          ]
        }
      ]
    },
    {
      "cell_type": "code",
      "source": [
        "library(ROCR)\n",
        "plot(cost, acc, type=\"b\") # 가능한가, ? ,, ? ,,,  ;; "
      ],
      "metadata": {
        "colab": {
          "base_uri": "https://localhost:8080/",
          "height": 437
        },
        "id": "DUX9An3v2jic",
        "outputId": "acf23b75-527f-41a6-f93b-90c752adb969"
      },
      "execution_count": 90,
      "outputs": [
        {
          "output_type": "display_data",
          "data": {
            "text/plain": [
              "plot without title"
            ],
            "image/png": "[encoded data removed]"
          },
          "metadata": {
            "image/png": {
              "width": 420,
              "height": 420
            }
          }
        }
      ]
    },
    {
      "cell_type": "code",
      "source": [
        ""
      ],
      "metadata": {
        "id": "xvxGvBE65AiB"
      },
      "execution_count": null,
      "outputs": []
    },
    {
      "cell_type": "code",
      "source": [
        "?predict"
      ],
      "metadata": {
        "id": "xLiIo2ng5ECW"
      },
      "execution_count": 75,
      "outputs": []
    },
    {
      "cell_type": "code",
      "source": [
        ""
      ],
      "metadata": {
        "id": "XqN6wO-v5D3a"
      },
      "execution_count": null,
      "outputs": []
    }
  ]
}
