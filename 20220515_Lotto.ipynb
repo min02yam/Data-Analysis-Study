{
  "nbformat": 4,
  "nbformat_minor": 0,
  "metadata": {
    "colab": {
      "name": "20220515_연관성분석_Lotto_하는중",
      "provenance": [],
      "authorship_tag": "ABX9TyOwCdf4VEVOY1cb9qN9ENT/",
      "include_colab_link": true
    },
    "kernelspec": {
      "name": "ir",
      "display_name": "R"
    },
    "language_info": {
      "name": "R"
    }
  },
  "cells": [
    {
      "cell_type": "markdown",
      "metadata": {
        "id": "view-in-github",
        "colab_type": "text"
      },
      "source": [
        "<a href=\"https://colab.research.google.com/github/min02yam/R-study/blob/main/20220515_%EC%97%B0%EA%B4%80%EC%84%B1%EB%B6%84%EC%84%9D_Lotto_%EB%8B%B5.ipynb\" target=\"_parent\"><img src=\"https://colab.research.google.com/assets/colab-badge.svg\" alt=\"Open In Colab\"/></a>"
      ]
    },
    {
      "cell_type": "markdown",
      "source": [
        "-----------------------------------------------------------"
      ],
      "metadata": {
        "id": "ekFmNS7RIVyg"
      }
    },
    {
      "cell_type": "markdown",
      "source": [
        "### 4. lotto 데이터를 활용하여 아래를 해결하시오\n",
        "#### 4-1. 연관규칙분석을 수행하기 위해 데이터셋을 transaction 데이터로 변환하시오 그리고, 변환된 데이터에서 가장 많이 등장한 상위 10개의 로또번호를 막대그래프로 출력하시오\n",
        "\n",
        "#### 4-2. 변환 데이테에 대해 apriori 함수를 사용하여 연관규칙을 생성하시오. (최소지지도 ; 0.002, 최소신뢰도 : 0.8, 초대조합 항목 수 :6개)\n",
        "\n",
        "#### 4-3. 도출된 연관규칙들을 향상도 기준으로 내림차순하여 상위 30개의 규칙을 확인하고, 이를 데이터프레임으로 변환하여 CSV파일로 출력하시오"
      ],
      "metadata": {
        "id": "DBCzkkuezY3r"
      }
    },
    {
      "cell_type": "markdown",
      "source": [
        "-----------------------------------------------------------"
      ],
      "metadata": {
        "id": "GjRUfwJQGz-N"
      }
    },
    {
      "cell_type": "markdown",
      "source": [
        "# **😎목차**\n",
        "    1. 데이터 로드 (4-1)\n",
        "    2. 모델링 (4-2)\n",
        "    3. 시각화\n",
        "    4. 결론(4-3)"
      ],
      "metadata": {
        "id": "TGYz9mTWDO4M"
      }
    },
    {
      "cell_type": "markdown",
      "source": [
        "# **1. 데이터 로드 (4-1)**"
      ],
      "metadata": {
        "id": "EHzSolQyjA-_"
      }
    },
    {
      "cell_type": "code",
      "source": [
        "#패키지설치\n",
        "install.packages(\"arules\"); install.packages(\"arulesViz\")\n",
        "library(arules); library(arulesViz)"
      ],
      "metadata": {
        "colab": {
          "base_uri": "https://localhost:8080/"
        },
        "id": "sy1cpUxEJIdC",
        "outputId": "07366c5b-bf9f-46b3-ae1f-e4f5861716be"
      },
      "execution_count": 1,
      "outputs": [
        {
          "output_type": "stream",
          "name": "stderr",
          "text": [
            "Installing package into ‘/usr/local/lib/R/site-library’\n",
            "(as ‘lib’ is unspecified)\n",
            "\n",
            "Installing package into ‘/usr/local/lib/R/site-library’\n",
            "(as ‘lib’ is unspecified)\n",
            "\n",
            "also installing the dependencies ‘iterators’, ‘foreach’, ‘zoo’, ‘tweenr’, ‘polyclip’, ‘RcppEigen’, ‘gridExtra’, ‘RcppArmadillo’, ‘later’, ‘TSP’, ‘qap’, ‘gclus’, ‘registry’, ‘lmtest’, ‘Rcpp’, ‘ggforce’, ‘ggrepel’, ‘viridis’, ‘tidygraph’, ‘graphlayouts’, ‘htmlwidgets’, ‘crosstalk’, ‘promises’, ‘lazyeval’, ‘seriation’, ‘vcd’, ‘igraph’, ‘scatterplot3d’, ‘ggraph’, ‘DT’, ‘plotly’, ‘visNetwork’\n",
            "\n",
            "\n",
            "Loading required package: Matrix\n",
            "\n",
            "\n",
            "Attaching package: ‘arules’\n",
            "\n",
            "\n",
            "The following objects are masked from ‘package:base’:\n",
            "\n",
            "    abbreviate, write\n",
            "\n",
            "\n"
          ]
        }
      ]
    },
    {
      "cell_type": "code",
      "source": [
        "library(dplyr)"
      ],
      "metadata": {
        "id": "NY_Tv-xlZbAD",
        "outputId": "528573fd-200f-4434-ccd6-c108f0742e77",
        "colab": {
          "base_uri": "https://localhost:8080/"
        }
      },
      "execution_count": 12,
      "outputs": [
        {
          "output_type": "stream",
          "name": "stderr",
          "text": [
            "\n",
            "Attaching package: ‘dplyr’\n",
            "\n",
            "\n",
            "The following objects are masked from ‘package:arules’:\n",
            "\n",
            "    intersect, recode, setdiff, setequal, union\n",
            "\n",
            "\n",
            "The following objects are masked from ‘package:stats’:\n",
            "\n",
            "    filter, lag\n",
            "\n",
            "\n",
            "The following objects are masked from ‘package:base’:\n",
            "\n",
            "    intersect, setdiff, setequal, union\n",
            "\n",
            "\n"
          ]
        }
      ]
    },
    {
      "cell_type": "code",
      "source": [
        "#데이터 로드\n",
        "df<-read.csv(\"/content/lotto.csv\")\n",
        "head(df)\n",
        "str(df); summary(df)"
      ],
      "metadata": {
        "colab": {
          "base_uri": "https://localhost:8080/",
          "height": 687
        },
        "id": "n9PKgpyJJs4N",
        "outputId": "29c2b3a5-7a67-4253-8033-3495faa4a851"
      },
      "execution_count": 35,
      "outputs": [
        {
          "output_type": "display_data",
          "data": {
            "text/html": [
              "<table class=\"dataframe\">\n",
              "<caption>A data.frame: 6 × 7</caption>\n",
              "<thead>\n",
              "\t<tr><th></th><th scope=col>time_id</th><th scope=col>num1</th><th scope=col>num2</th><th scope=col>num3</th><th scope=col>num4</th><th scope=col>num5</th><th scope=col>num6</th></tr>\n",
              "\t<tr><th></th><th scope=col>&lt;int&gt;</th><th scope=col>&lt;int&gt;</th><th scope=col>&lt;int&gt;</th><th scope=col>&lt;int&gt;</th><th scope=col>&lt;int&gt;</th><th scope=col>&lt;int&gt;</th><th scope=col>&lt;int&gt;</th></tr>\n",
              "</thead>\n",
              "<tbody>\n",
              "\t<tr><th scope=row>1</th><td>859</td><td> 8</td><td>22</td><td>35</td><td>38</td><td>39</td><td>41</td></tr>\n",
              "\t<tr><th scope=row>2</th><td>858</td><td> 9</td><td>13</td><td>32</td><td>38</td><td>39</td><td>43</td></tr>\n",
              "\t<tr><th scope=row>3</th><td>857</td><td> 6</td><td>10</td><td>16</td><td>28</td><td>34</td><td>38</td></tr>\n",
              "\t<tr><th scope=row>4</th><td>856</td><td>10</td><td>24</td><td>40</td><td>41</td><td>43</td><td>44</td></tr>\n",
              "\t<tr><th scope=row>5</th><td>855</td><td> 8</td><td>15</td><td>17</td><td>19</td><td>43</td><td>44</td></tr>\n",
              "\t<tr><th scope=row>6</th><td>854</td><td>20</td><td>25</td><td>31</td><td>32</td><td>36</td><td>43</td></tr>\n",
              "</tbody>\n",
              "</table>\n"
            ],
            "text/markdown": "\nA data.frame: 6 × 7\n\n| <!--/--> | time_id &lt;int&gt; | num1 &lt;int&gt; | num2 &lt;int&gt; | num3 &lt;int&gt; | num4 &lt;int&gt; | num5 &lt;int&gt; | num6 &lt;int&gt; |\n|---|---|---|---|---|---|---|---|\n| 1 | 859 |  8 | 22 | 35 | 38 | 39 | 41 |\n| 2 | 858 |  9 | 13 | 32 | 38 | 39 | 43 |\n| 3 | 857 |  6 | 10 | 16 | 28 | 34 | 38 |\n| 4 | 856 | 10 | 24 | 40 | 41 | 43 | 44 |\n| 5 | 855 |  8 | 15 | 17 | 19 | 43 | 44 |\n| 6 | 854 | 20 | 25 | 31 | 32 | 36 | 43 |\n\n",
            "text/latex": "A data.frame: 6 × 7\n\\begin{tabular}{r|lllllll}\n  & time\\_id & num1 & num2 & num3 & num4 & num5 & num6\\\\\n  & <int> & <int> & <int> & <int> & <int> & <int> & <int>\\\\\n\\hline\n\t1 & 859 &  8 & 22 & 35 & 38 & 39 & 41\\\\\n\t2 & 858 &  9 & 13 & 32 & 38 & 39 & 43\\\\\n\t3 & 857 &  6 & 10 & 16 & 28 & 34 & 38\\\\\n\t4 & 856 & 10 & 24 & 40 & 41 & 43 & 44\\\\\n\t5 & 855 &  8 & 15 & 17 & 19 & 43 & 44\\\\\n\t6 & 854 & 20 & 25 & 31 & 32 & 36 & 43\\\\\n\\end{tabular}\n",
            "text/plain": [
              "  time_id num1 num2 num3 num4 num5 num6\n",
              "1 859      8   22   35   38   39   41  \n",
              "2 858      9   13   32   38   39   43  \n",
              "3 857      6   10   16   28   34   38  \n",
              "4 856     10   24   40   41   43   44  \n",
              "5 855      8   15   17   19   43   44  \n",
              "6 854     20   25   31   32   36   43  "
            ]
          },
          "metadata": {}
        },
        {
          "output_type": "stream",
          "name": "stdout",
          "text": [
            "'data.frame':\t859 obs. of  7 variables:\n",
            " $ time_id: int  859 858 857 856 855 854 853 852 851 850 ...\n",
            " $ num1   : int  8 9 6 10 8 20 2 11 14 16 ...\n",
            " $ num2   : int  22 13 10 24 15 25 8 17 18 20 ...\n",
            " $ num3   : int  35 32 16 40 17 31 23 28 22 24 ...\n",
            " $ num4   : int  38 38 28 41 19 32 26 30 26 28 ...\n",
            " $ num5   : int  39 39 34 43 43 36 27 33 31 36 ...\n",
            " $ num6   : int  41 43 38 44 44 43 44 35 44 39 ...\n"
          ]
        },
        {
          "output_type": "display_data",
          "data": {
            "text/plain": [
              "    time_id           num1             num2            num3      \n",
              " Min.   :  1.0   Min.   : 1.000   Min.   : 2.00   Min.   : 3.00  \n",
              " 1st Qu.:215.5   1st Qu.: 2.500   1st Qu.: 8.00   1st Qu.:14.00  \n",
              " Median :430.0   Median : 5.000   Median :12.00   Median :19.00  \n",
              " Mean   :430.0   Mean   : 6.641   Mean   :13.01   Mean   :19.86  \n",
              " 3rd Qu.:644.5   3rd Qu.:10.000   3rd Qu.:17.00   3rd Qu.:25.00  \n",
              " Max.   :859.0   Max.   :35.000   Max.   :37.00   Max.   :40.00  \n",
              "      num4            num5            num6      \n",
              " Min.   : 5.00   Min.   : 9.00   Min.   :19.00  \n",
              " 1st Qu.:21.00   1st Qu.:28.00   1st Qu.:37.00  \n",
              " Median :27.00   Median :34.00   Median :41.00  \n",
              " Mean   :26.18   Mean   :32.84   Mean   :39.48  \n",
              " 3rd Qu.:32.00   3rd Qu.:38.00   3rd Qu.:44.00  \n",
              " Max.   :43.00   Max.   :44.00   Max.   :45.00  "
            ]
          },
          "metadata": {}
        }
      ]
    },
    {
      "cell_type": "code",
      "source": [
        "#데이터 변환\n",
        "df<-df[,-1] #id빼고"
      ],
      "metadata": {
        "id": "9O6oPVeDZOLN"
      },
      "execution_count": 36,
      "outputs": []
    },
    {
      "cell_type": "code",
      "source": [
        "ltt<-as(df,\"transactions\"); class(ltt)\n",
        "inspect(ltt[1:5])   # 변환된 결과 확인 \n",
        "#? discretizeDF"
      ],
      "metadata": {
        "colab": {
          "base_uri": "https://localhost:8080/",
          "height": 636
        },
        "id": "w873flMCK7Ua",
        "outputId": "477cb453-c593-4eeb-90b3-ac35944ddeaf"
      },
      "execution_count": 37,
      "outputs": [
        {
          "output_type": "stream",
          "name": "stderr",
          "text": [
            "Warning message:\n",
            "“Column(s) 1, 2, 3, 4, 5, 6 not logical or factor. Applying default discretization (see '? discretizeDF').”\n"
          ]
        },
        {
          "output_type": "display_data",
          "data": {
            "text/html": [
              "'transactions'"
            ],
            "text/markdown": "'transactions'",
            "text/latex": "'transactions'",
            "text/plain": [
              "[1] \"transactions\"\n",
              "attr(,\"package\")\n",
              "[1] \"arules\""
            ]
          },
          "metadata": {}
        },
        {
          "output_type": "stream",
          "name": "stdout",
          "text": [
            "    items           transactionID\n",
            "[1] {num1=[8,35],                \n",
            "     num2=[15,37],               \n",
            "     num3=[23,40],               \n",
            "     num4=[30,43],               \n",
            "     num5=[37,44],               \n",
            "     num6=[38,43)}              1\n",
            "[2] {num1=[8,35],                \n",
            "     num2=[9,15),                \n",
            "     num3=[23,40],               \n",
            "     num4=[30,43],               \n",
            "     num5=[37,44],               \n",
            "     num6=[43,45]}              2\n",
            "[3] {num1=[3,8),                 \n",
            "     num2=[9,15),                \n",
            "     num3=[16,23),               \n",
            "     num4=[23,30),               \n",
            "     num5=[30,37),               \n",
            "     num6=[38,43)}              3\n",
            "[4] {num1=[8,35],                \n",
            "     num2=[15,37],               \n",
            "     num3=[23,40],               \n",
            "     num4=[30,43],               \n",
            "     num5=[37,44],               \n",
            "     num6=[43,45]}              4\n",
            "[5] {num1=[8,35],                \n",
            "     num2=[15,37],               \n",
            "     num3=[16,23),               \n",
            "     num4=[5,23),                \n",
            "     num5=[37,44],               \n",
            "     num6=[43,45]}              5\n"
          ]
        }
      ]
    },
    {
      "cell_type": "markdown",
      "source": [
        "❌Warning message❌<br>\n",
        "“Column(s) 1, 2, 3, 4, 5, 6 not logical or factor. Applying default discretization (see '? discretizeDF').”\n",
        "- 뉴메릭이라서 discretizeDF 함수로 임의로 구간 나눈 것 같음\n",
        "- `discretizeDF` -> 예제 살펴보니 분리하는 알고리즘임\n",
        "- 근데 예제에서는 경고 떠도 잘 분리 됨 -> 확인해보니 팩터로 저장함 "
      ],
      "metadata": {
        "id": "hxuuaG3zafMj"
      }
    },
    {
      "cell_type": "code",
      "source": [
        "#팩터로 변경\n",
        "for (j in 1:6) {\n",
        "df[,j]<-as.character(df[,j])\n",
        "}\n",
        "str(df)"
      ],
      "metadata": {
        "id": "tROg7mvAdhwi",
        "outputId": "889f84e5-9cda-4649-fca1-3e7da89b428b",
        "colab": {
          "base_uri": "https://localhost:8080/"
        }
      },
      "execution_count": 38,
      "outputs": [
        {
          "output_type": "stream",
          "name": "stdout",
          "text": [
            "'data.frame':\t859 obs. of  6 variables:\n",
            " $ num1: chr  \"8\" \"9\" \"6\" \"10\" ...\n",
            " $ num2: chr  \"22\" \"13\" \"10\" \"24\" ...\n",
            " $ num3: chr  \"35\" \"32\" \"16\" \"40\" ...\n",
            " $ num4: chr  \"38\" \"38\" \"28\" \"41\" ...\n",
            " $ num5: chr  \"39\" \"39\" \"34\" \"43\" ...\n",
            " $ num6: chr  \"41\" \"43\" \"38\" \"44\" ...\n"
          ]
        }
      ]
    },
    {
      "cell_type": "code",
      "source": [
        "#다시 트랜잭션 변환\n",
        "ltt<-as(df,\"transactions\")\n",
        "inspect(ltt[1:5]) "
      ],
      "metadata": {
        "id": "PVWkNT1ye0dw",
        "outputId": "dc32e838-bd2f-46de-d239-ea4a2603d1b2",
        "colab": {
          "base_uri": "https://localhost:8080/"
        }
      },
      "execution_count": 39,
      "outputs": [
        {
          "output_type": "stream",
          "name": "stderr",
          "text": [
            "Warning message:\n",
            "“Column(s) 1, 2, 3, 4, 5, 6 not logical or factor. Applying default discretization (see '? discretizeDF').”\n"
          ]
        },
        {
          "output_type": "stream",
          "name": "stdout",
          "text": [
            "    items      transactionID\n",
            "[1] {num1=8,                \n",
            "     num2=22,               \n",
            "     num3=35,               \n",
            "     num4=38,               \n",
            "     num5=39,               \n",
            "     num6=41}              1\n",
            "[2] {num1=9,                \n",
            "     num2=13,               \n",
            "     num3=32,               \n",
            "     num4=38,               \n",
            "     num5=39,               \n",
            "     num6=43}              2\n",
            "[3] {num1=6,                \n",
            "     num2=10,               \n",
            "     num3=16,               \n",
            "     num4=28,               \n",
            "     num5=34,               \n",
            "     num6=38}              3\n",
            "[4] {num1=10,               \n",
            "     num2=24,               \n",
            "     num3=40,               \n",
            "     num4=41,               \n",
            "     num5=43,               \n",
            "     num6=44}              4\n",
            "[5] {num1=8,                \n",
            "     num2=15,               \n",
            "     num3=17,               \n",
            "     num4=19,               \n",
            "     num5=43,               \n",
            "     num6=44}              5\n"
          ]
        }
      ]
    },
    {
      "cell_type": "code",
      "source": [
        "#간단 구조 확인\n",
        "head(ltt); str(ltt); summary(ltt)"
      ],
      "metadata": {
        "colab": {
          "base_uri": "https://localhost:8080/",
          "height": 838
        },
        "id": "YJLkDLSyLoc4",
        "outputId": "d909c0c5-4f8b-4dbc-d467-143f81f6908f"
      },
      "execution_count": 40,
      "outputs": [
        {
          "output_type": "display_data",
          "data": {
            "text/plain": [
              "transactions in sparse format with\n",
              " 6 transactions (rows) and\n",
              " 201 items (columns)"
            ]
          },
          "metadata": {}
        },
        {
          "output_type": "stream",
          "name": "stdout",
          "text": [
            "Formal class 'transactions' [package \"arules\"] with 3 slots\n",
            "  ..@ data       :Formal class 'ngCMatrix' [package \"Matrix\"] with 5 slots\n",
            "  .. .. ..@ i       : int [1:5154] 26 41 89 129 167 196 27 31 86 129 ...\n",
            "  .. .. ..@ p       : int [1:860] 0 6 12 18 24 30 36 42 48 54 ...\n",
            "  .. .. ..@ Dim     : int [1:2] 201 859\n",
            "  .. .. ..@ Dimnames:List of 2\n",
            "  .. .. .. ..$ : NULL\n",
            "  .. .. .. ..$ : NULL\n",
            "  .. .. ..@ factors : list()\n",
            "  ..@ itemInfo   :'data.frame':\t201 obs. of  3 variables:\n",
            "  .. ..$ labels   : chr [1:201] \"num1=1\" \"num1=10\" \"num1=11\" \"num1=12\" ...\n",
            "  .. ..$ variables: Factor w/ 6 levels \"num1\",\"num2\",..: 1 1 1 1 1 1 1 1 1 1 ...\n",
            "  .. ..$ levels   : Factor w/ 45 levels \"1\",\"10\",\"11\",..: 1 2 3 4 5 6 7 8 9 10 ...\n",
            "  ..@ itemsetInfo:'data.frame':\t859 obs. of  1 variable:\n",
            "  .. ..$ transactionID: chr [1:859] \"1\" \"2\" \"3\" \"4\" ...\n"
          ]
        },
        {
          "output_type": "display_data",
          "data": {
            "text/plain": [
              "transactions as itemMatrix in sparse format with\n",
              " 859 rows (elements/itemsets/transactions) and\n",
              " 201 columns (items) and a density of 0.02985075 \n",
              "\n",
              "most frequent items:\n",
              " num1=1 num6=45 num6=44 num6=43  num1=2 (Other) \n",
              "    122     121     105      99      93    4614 \n",
              "\n",
              "element (itemset/transaction) length distribution:\n",
              "sizes\n",
              "  6 \n",
              "859 \n",
              "\n",
              "   Min. 1st Qu.  Median    Mean 3rd Qu.    Max. \n",
              "      6       6       6       6       6       6 \n",
              "\n",
              "includes extended item information - examples:\n",
              "   labels variables levels\n",
              "1  num1=1      num1      1\n",
              "2 num1=10      num1     10\n",
              "3 num1=11      num1     11\n",
              "\n",
              "includes extended transaction information - examples:\n",
              "  transactionID\n",
              "1             1\n",
              "2             2\n",
              "3             3"
            ]
          },
          "metadata": {}
        }
      ]
    },
    {
      "cell_type": "markdown",
      "source": [
        "- most frequent items:<br>\n",
        " num1=1 /num6=45/ num6=44/ num6=43 / num1=2 /(Other) <br>\n",
        "    122  /   121    / 105      /99     / 93  /  4614 "
      ],
      "metadata": {
        "id": "vdP2k8i0f030"
      }
    },
    {
      "cell_type": "code",
      "source": [
        "#상위 10개의 로또번호 막대그래프로 출력\n",
        "itemFrequencyPlot(ltt, topN=10, type=\"absolute\")"
      ],
      "metadata": {
        "colab": {
          "base_uri": "https://localhost:8080/",
          "height": 437
        },
        "id": "920u5lJDQORj",
        "outputId": "19cae6db-51b8-4186-d844-681661176af6"
      },
      "execution_count": 41,
      "outputs": [
        {
          "output_type": "display_data",
          "data": {
            "text/plain": [
              "plot without title"
            ],
            "image/png": "[encoded data removed]"
          },
          "metadata": {
            "image/png": {
              "width": 420,
              "height": 420
            }
          }
        }
      ]
    },
    {
      "cell_type": "markdown",
      "source": [
        "1. 가장 많이 나온 번호는 num1에서 1 : 122  회\n",
        "2. 그 다음 num6에서 45: 121회"
      ],
      "metadata": {
        "id": "tFflVD0DRrTI"
      }
    },
    {
      "cell_type": "code",
      "source": [
        "#상대빈도\n",
        "itemFrequencyPlot(ltt, topN=10)"
      ],
      "metadata": {
        "colab": {
          "base_uri": "https://localhost:8080/",
          "height": 437
        },
        "id": "anXcRCeDQc15",
        "outputId": "21f6952b-fdd5-47fb-fd11-baa1b8ebaeb2"
      },
      "execution_count": 42,
      "outputs": [
        {
          "output_type": "display_data",
          "data": {
            "text/plain": [
              "plot without title"
            ],
            "image/png": "[encoded data removed]"
          },
          "metadata": {
            "image/png": {
              "width": 420,
              "height": 420
            }
          }
        }
      ]
    },
    {
      "cell_type": "markdown",
      "source": [
        "# **2. 모델링 (4-2)**"
      ],
      "metadata": {
        "id": "2aEkDZF6IF27"
      }
    },
    {
      "cell_type": "markdown",
      "source": [
        "- 최소지지도 ; 0.002, 최소신뢰도 : 0.8, 초대조합 항목 수 :6개"
      ],
      "metadata": {
        "id": "wZK-_U9pRVP5"
      }
    },
    {
      "cell_type": "code",
      "source": [
        "rules<-apriori(ltt, parameter=list( supp=0.002, conf=0.8, maxlen=6 ))\n",
        "rules"
      ],
      "metadata": {
        "id": "TBcwzLFBRTV7",
        "outputId": "40f46c74-31ef-4e0c-f05f-9bd655604cd5",
        "colab": {
          "base_uri": "https://localhost:8080/",
          "height": 418
        }
      },
      "execution_count": 45,
      "outputs": [
        {
          "output_type": "stream",
          "name": "stdout",
          "text": [
            "Apriori\n",
            "\n",
            "Parameter specification:\n",
            " confidence minval smax arem  aval originalSupport maxtime support minlen\n",
            "        0.8    0.1    1 none FALSE            TRUE       5   0.002      1\n",
            " maxlen target  ext\n",
            "      6  rules TRUE\n",
            "\n",
            "Algorithmic control:\n",
            " filter tree heap memopt load sort verbose\n",
            "    0.1 TRUE TRUE  FALSE TRUE    2    TRUE\n",
            "\n",
            "Absolute minimum support count: 1 \n",
            "\n",
            "set item appearances ...[0 item(s)] done [0.00s].\n",
            "set transactions ...[201 item(s), 859 transaction(s)] done [0.00s].\n",
            "sorting and recoding items ... [187 item(s)] done [0.00s].\n",
            "creating transaction tree ... done [0.00s].\n",
            "checking subsets of size 1 2 3 4 5 done [0.00s].\n",
            "writing ... [868 rule(s)] done [0.00s].\n",
            "creating S4 object  ... done [0.00s].\n"
          ]
        },
        {
          "output_type": "display_data",
          "data": {
            "text/plain": [
              "set of 868 rules "
            ]
          },
          "metadata": {}
        }
      ]
    },
    {
      "cell_type": "markdown",
      "source": [
        "- 총 set of 868 rules 발견"
      ],
      "metadata": {
        "id": "P4LfVoSahNVq"
      }
    },
    {
      "cell_type": "markdown",
      "source": [
        "4-3. 도출된 연관규칙들을 향상도 기준으로 내림차순하여 상위 30개의 규칙을 확인하고, 이를 데이터프레임으로 변환하여 CSV파일로 출력하시오"
      ],
      "metadata": {
        "id": "ZqzovGO2hXtY"
      }
    },
    {
      "cell_type": "code",
      "source": [
        "#규칙확인\n",
        "options(digits = 2)\n",
        "rules<-sort(rules, by=\"confidence\", decreasing = TRUE) \n",
        "inspect(rules[1:30,])"
      ],
      "metadata": {
        "id": "pikxEhtKgrMA",
        "outputId": "afa8a645-269f-4e17-e4b9-92738ef94386",
        "colab": {
          "base_uri": "https://localhost:8080/"
        }
      },
      "execution_count": 49,
      "outputs": [
        {
          "output_type": "stream",
          "name": "stdout",
          "text": [
            "     lhs                   rhs       support confidence coverage lift  count\n",
            "[1]  {num5=13}          => {num4=12} 0.0023  1          0.0023    66.1  2   \n",
            "[2]  {num5=13}          => {num3=11} 0.0023  1          0.0023    31.8  2   \n",
            "[3]  {num5=13}          => {num1=3}  0.0023  1          0.0023    10.6  2   \n",
            "[4]  {num1=24}          => {num6=39} 0.0023  1          0.0023    16.5  2   \n",
            "[5]  {num3=38}          => {num4=39} 0.0023  1          0.0023    71.6  2   \n",
            "[6]  {num3=38}          => {num5=40} 0.0023  1          0.0023    19.5  2   \n",
            "[7]  {num2=31}          => {num3=35} 0.0023  1          0.0023    85.9  2   \n",
            "[8]  {num2=31}          => {num4=38} 0.0023  1          0.0023    53.7  2   \n",
            "[9]  {num2=31}          => {num6=44} 0.0023  1          0.0023     8.2  2   \n",
            "[10] {num2=33}          => {num4=40} 0.0023  1          0.0023    85.9  2   \n",
            "[11] {num6=24}          => {num2=3}  0.0023  1          0.0023    31.8  2   \n",
            "[12] {num6=24}          => {num1=2}  0.0023  1          0.0023     9.2  2   \n",
            "[13] {num3=3}           => {num2=2}  0.0035  1          0.0035    45.2  3   \n",
            "[14] {num3=3}           => {num1=1}  0.0035  1          0.0035     7.0  3   \n",
            "[15] {num4=42}          => {num6=45} 0.0035  1          0.0035     7.1  3   \n",
            "[16] {num5=44}          => {num6=45} 0.0093  1          0.0093     7.1  8   \n",
            "[17] {num2=2}           => {num1=1}  0.0221  1          0.0221     7.0 19   \n",
            "[18] {num4=12, num5=13} => {num3=11} 0.0023  1          0.0023    31.8  2   \n",
            "[19] {num3=11, num5=13} => {num4=12} 0.0023  1          0.0023    66.1  2   \n",
            "[20] {num4=12, num5=13} => {num1=3}  0.0023  1          0.0023    10.6  2   \n",
            "[21] {num1=3, num5=13}  => {num4=12} 0.0023  1          0.0023    66.1  2   \n",
            "[22] {num1=3, num4=12}  => {num5=13} 0.0023  1          0.0023   429.5  2   \n",
            "[23] {num3=11, num5=13} => {num1=3}  0.0023  1          0.0023    10.6  2   \n",
            "[24] {num1=3, num5=13}  => {num3=11} 0.0023  1          0.0023    31.8  2   \n",
            "[25] {num3=38, num4=39} => {num5=40} 0.0023  1          0.0023    19.5  2   \n",
            "[26] {num3=38, num5=40} => {num4=39} 0.0023  1          0.0023    71.6  2   \n",
            "[27] {num2=31, num3=35} => {num4=38} 0.0023  1          0.0023    53.7  2   \n",
            "[28] {num2=31, num4=38} => {num3=35} 0.0023  1          0.0023    85.9  2   \n",
            "[29] {num2=31, num3=35} => {num6=44} 0.0023  1          0.0023     8.2  2   \n",
            "[30] {num2=31, num6=44} => {num3=35} 0.0023  1          0.0023    85.9  2   \n"
          ]
        }
      ]
    },
    {
      "cell_type": "markdown",
      "source": [
        "1. 상위 30개의 규칙은 confidence값이 1로 같음 "
      ],
      "metadata": {
        "id": "hG7m3U_2jrBz"
      }
    },
    {
      "cell_type": "code",
      "source": [
        "#그래서 리프트 값으로 재정렬 \n",
        "rules<-sort(rules, by=\"lift\", decreasing = TRUE) \n",
        "inspect(rules[1:30,])"
      ],
      "metadata": {
        "id": "wbd7LIpYkDL7",
        "outputId": "ce5cee47-8d22-4a20-d667-a6650e0b01cb",
        "colab": {
          "base_uri": "https://localhost:8080/"
        }
      },
      "execution_count": 65,
      "outputs": [
        {
          "output_type": "stream",
          "name": "stdout",
          "text": [
            "     lhs                            rhs       support confidence coverage lift\n",
            "[1]  {num1=3, num4=12}           => {num5=13} 0.0023  1          0.0023   430 \n",
            "[2]  {num1=3, num3=11, num4=12}  => {num5=13} 0.0023  1          0.0023   430 \n",
            "[3]  {num3=35, num4=38, num6=44} => {num2=31} 0.0023  1          0.0023   430 \n",
            "[4]  {num4=16, num5=21}          => {num6=29} 0.0023  1          0.0023   143 \n",
            "[5]  {num3=9, num4=16}           => {num5=17} 0.0023  1          0.0023   123 \n",
            "[6]  {num1=9, num4=35}           => {num3=34} 0.0023  1          0.0023    95 \n",
            "[7]  {num2=9, num4=14}           => {num6=28} 0.0023  1          0.0023    95 \n",
            "[8]  {num1=4, num3=11, num4=12}  => {num6=27} 0.0023  1          0.0023    95 \n",
            "[9]  {num2=31}                   => {num3=35} 0.0023  1          0.0023    86 \n",
            "[10] {num2=33}                   => {num4=40} 0.0023  1          0.0023    86 \n",
            "[11] {num2=31, num4=38}          => {num3=35} 0.0023  1          0.0023    86 \n",
            "[12] {num2=31, num6=44}          => {num3=35} 0.0023  1          0.0023    86 \n",
            "[13] {num3=36, num5=42}          => {num4=40} 0.0023  1          0.0023    86 \n",
            "[14] {num1=17, num4=36}          => {num3=35} 0.0023  1          0.0023    86 \n",
            "[15] {num2=31, num4=38, num6=44} => {num3=35} 0.0023  1          0.0023    86 \n",
            "[16] {num2=2, num4=16}           => {num3=6}  0.0023  1          0.0023    78 \n",
            "[17] {num2=20, num3=23, num5=39} => {num1=15} 0.0023  1          0.0023    78 \n",
            "[18] {num1=1, num2=2, num4=16}   => {num3=6}  0.0023  1          0.0023    78 \n",
            "[19] {num3=38}                   => {num4=39} 0.0023  1          0.0023    72 \n",
            "[20] {num3=38, num5=40}          => {num4=39} 0.0023  1          0.0023    72 \n",
            "[21] {num1=5, num3=9}            => {num4=11} 0.0023  1          0.0023    72 \n",
            "[22] {num3=26, num4=29, num6=38} => {num2=24} 0.0023  1          0.0023    72 \n",
            "[23] {num5=13}                   => {num4=12} 0.0023  1          0.0023    66 \n",
            "[24] {num3=11, num5=13}          => {num4=12} 0.0023  1          0.0023    66 \n",
            "[25] {num1=3, num5=13}           => {num4=12} 0.0023  1          0.0023    66 \n",
            "[26] {num4=16, num5=17}          => {num3=9}  0.0023  1          0.0023    66 \n",
            "[27] {num2=5, num3=11}           => {num4=12} 0.0023  1          0.0023    66 \n",
            "[28] {num1=3, num3=11, num5=13}  => {num4=12} 0.0023  1          0.0023    66 \n",
            "[29] {num1=4, num3=11, num6=27}  => {num4=12} 0.0023  1          0.0023    66 \n",
            "[30] {num1=14, num3=30, num4=31} => {num2=27} 0.0023  1          0.0023    66 \n",
            "     count\n",
            "[1]  2    \n",
            "[2]  2    \n",
            "[3]  2    \n",
            "[4]  2    \n",
            "[5]  2    \n",
            "[6]  2    \n",
            "[7]  2    \n",
            "[8]  2    \n",
            "[9]  2    \n",
            "[10] 2    \n",
            "[11] 2    \n",
            "[12] 2    \n",
            "[13] 2    \n",
            "[14] 2    \n",
            "[15] 2    \n",
            "[16] 2    \n",
            "[17] 2    \n",
            "[18] 2    \n",
            "[19] 2    \n",
            "[20] 2    \n",
            "[21] 2    \n",
            "[22] 2    \n",
            "[23] 2    \n",
            "[24] 2    \n",
            "[25] 2    \n",
            "[26] 2    \n",
            "[27] 2    \n",
            "[28] 2    \n",
            "[29] 2    \n",
            "[30] 2    \n"
          ]
        }
      ]
    },
    {
      "cell_type": "markdown",
      "source": [
        "1. ***IF*** {num1=3, num4=12}       ***THEN*** {num5=13}\n",
        "2. ***IF*** {num1=3, num3=11, num4=12}       ***THEN*** {num5=13}\n",
        "3. ***IF*** {num3=35, num4=38, num6=44}       ***THEN*** {num2=31}<br>\n",
        "4. 위의 세 규칙은 모두 리프트값이 430으로 \n",
        "5. 좌측의 숫자 세트가 나오지 않았을 때 우측의 숫자가 나올 확률에 비해\n",
        "좌측이 나왔을 때 우측이 나올 확률의 증가비가 430으로 제일 크다.\n"
      ],
      "metadata": {
        "id": "lTpNyrNnkPWS"
      }
    },
    {
      "cell_type": "code",
      "source": [
        "#숫자 6개 조합 궁금해서 해봄\n",
        "#rules_6<-apriori(ltt, parameter=list( supp=0.002, conf=0.8, minlen=6 ))\n",
        "#rules_6<-sort(rules_6, by=\"confidence\", decreasing = TRUE) \n",
        "#rules_6 # 하나도 없음\n",
        "#헬프문을 보니 최소개수는 지정할 수 없음 "
      ],
      "metadata": {
        "id": "7td5wn0hiMpc",
        "outputId": "cde95b59-33f3-44d3-c7e9-eb220846ca6a",
        "colab": {
          "base_uri": "https://localhost:8080/",
          "height": 418
        }
      },
      "execution_count": 53,
      "outputs": [
        {
          "output_type": "stream",
          "name": "stdout",
          "text": [
            "Apriori\n",
            "\n",
            "Parameter specification:\n",
            " confidence minval smax arem  aval originalSupport maxtime support minlen\n",
            "        0.8    0.1    1 none FALSE            TRUE       5   0.002      6\n",
            " maxlen target  ext\n",
            "     10  rules TRUE\n",
            "\n",
            "Algorithmic control:\n",
            " filter tree heap memopt load sort verbose\n",
            "    0.1 TRUE TRUE  FALSE TRUE    2    TRUE\n",
            "\n",
            "Absolute minimum support count: 1 \n",
            "\n",
            "set item appearances ...[0 item(s)] done [0.00s].\n",
            "set transactions ...[201 item(s), 859 transaction(s)] done [0.00s].\n",
            "sorting and recoding items ... [187 item(s)] done [0.00s].\n",
            "creating transaction tree ... done [0.00s].\n",
            "checking subsets of size 1 2 3 4 5 done [0.00s].\n",
            "writing ... [0 rule(s)] done [0.00s].\n",
            "creating S4 object  ... done [0.00s].\n"
          ]
        },
        {
          "output_type": "display_data",
          "data": {
            "text/plain": [
              "set of 0 rules "
            ]
          },
          "metadata": {}
        }
      ]
    },
    {
      "cell_type": "markdown",
      "source": [
        "이를 데이터프레임으로 변환하여 CSV파일로 출력하시오"
      ],
      "metadata": {
        "id": "8NdLS6f7lp1D"
      }
    },
    {
      "cell_type": "code",
      "source": [
        "getwd()"
      ],
      "metadata": {
        "id": "b2M85S0ymXxx",
        "outputId": "00b6056f-516f-434f-8b48-a529b8e82989",
        "colab": {
          "base_uri": "https://localhost:8080/",
          "height": 34
        }
      },
      "execution_count": 76,
      "outputs": [
        {
          "output_type": "display_data",
          "data": {
            "text/html": [
              "'/content'"
            ],
            "text/markdown": "'/content'",
            "text/latex": "'/content'",
            "text/plain": [
              "[1] \"/content\""
            ]
          },
          "metadata": {}
        }
      ]
    },
    {
      "cell_type": "code",
      "source": [
        "df<-as.data.frame(inspect(rules[1:30]))\n",
        "write.csv(df[,-2], \"df.csv\", row.names=FALSE) #화살표열제거"
      ],
      "metadata": {
        "id": "wqcqtsOtlmf6",
        "outputId": "02d25d7e-6c69-4c6b-e08b-931433de28d8",
        "colab": {
          "base_uri": "https://localhost:8080/"
        }
      },
      "execution_count": 77,
      "outputs": [
        {
          "output_type": "stream",
          "name": "stdout",
          "text": [
            "     lhs                            rhs       support confidence coverage lift\n",
            "[1]  {num1=3, num4=12}           => {num5=13} 0.0023  1          0.0023   430 \n",
            "[2]  {num1=3, num3=11, num4=12}  => {num5=13} 0.0023  1          0.0023   430 \n",
            "[3]  {num3=35, num4=38, num6=44} => {num2=31} 0.0023  1          0.0023   430 \n",
            "[4]  {num4=16, num5=21}          => {num6=29} 0.0023  1          0.0023   143 \n",
            "[5]  {num3=9, num4=16}           => {num5=17} 0.0023  1          0.0023   123 \n",
            "[6]  {num1=9, num4=35}           => {num3=34} 0.0023  1          0.0023    95 \n",
            "[7]  {num2=9, num4=14}           => {num6=28} 0.0023  1          0.0023    95 \n",
            "[8]  {num1=4, num3=11, num4=12}  => {num6=27} 0.0023  1          0.0023    95 \n",
            "[9]  {num2=31}                   => {num3=35} 0.0023  1          0.0023    86 \n",
            "[10] {num2=33}                   => {num4=40} 0.0023  1          0.0023    86 \n",
            "[11] {num2=31, num4=38}          => {num3=35} 0.0023  1          0.0023    86 \n",
            "[12] {num2=31, num6=44}          => {num3=35} 0.0023  1          0.0023    86 \n",
            "[13] {num3=36, num5=42}          => {num4=40} 0.0023  1          0.0023    86 \n",
            "[14] {num1=17, num4=36}          => {num3=35} 0.0023  1          0.0023    86 \n",
            "[15] {num2=31, num4=38, num6=44} => {num3=35} 0.0023  1          0.0023    86 \n",
            "[16] {num2=2, num4=16}           => {num3=6}  0.0023  1          0.0023    78 \n",
            "[17] {num2=20, num3=23, num5=39} => {num1=15} 0.0023  1          0.0023    78 \n",
            "[18] {num1=1, num2=2, num4=16}   => {num3=6}  0.0023  1          0.0023    78 \n",
            "[19] {num3=38}                   => {num4=39} 0.0023  1          0.0023    72 \n",
            "[20] {num3=38, num5=40}          => {num4=39} 0.0023  1          0.0023    72 \n",
            "[21] {num1=5, num3=9}            => {num4=11} 0.0023  1          0.0023    72 \n",
            "[22] {num3=26, num4=29, num6=38} => {num2=24} 0.0023  1          0.0023    72 \n",
            "[23] {num5=13}                   => {num4=12} 0.0023  1          0.0023    66 \n",
            "[24] {num3=11, num5=13}          => {num4=12} 0.0023  1          0.0023    66 \n",
            "[25] {num1=3, num5=13}           => {num4=12} 0.0023  1          0.0023    66 \n",
            "[26] {num4=16, num5=17}          => {num3=9}  0.0023  1          0.0023    66 \n",
            "[27] {num2=5, num3=11}           => {num4=12} 0.0023  1          0.0023    66 \n",
            "[28] {num1=3, num3=11, num5=13}  => {num4=12} 0.0023  1          0.0023    66 \n",
            "[29] {num1=4, num3=11, num6=27}  => {num4=12} 0.0023  1          0.0023    66 \n",
            "[30] {num1=14, num3=30, num4=31} => {num2=27} 0.0023  1          0.0023    66 \n",
            "     count\n",
            "[1]  2    \n",
            "[2]  2    \n",
            "[3]  2    \n",
            "[4]  2    \n",
            "[5]  2    \n",
            "[6]  2    \n",
            "[7]  2    \n",
            "[8]  2    \n",
            "[9]  2    \n",
            "[10] 2    \n",
            "[11] 2    \n",
            "[12] 2    \n",
            "[13] 2    \n",
            "[14] 2    \n",
            "[15] 2    \n",
            "[16] 2    \n",
            "[17] 2    \n",
            "[18] 2    \n",
            "[19] 2    \n",
            "[20] 2    \n",
            "[21] 2    \n",
            "[22] 2    \n",
            "[23] 2    \n",
            "[24] 2    \n",
            "[25] 2    \n",
            "[26] 2    \n",
            "[27] 2    \n",
            "[28] 2    \n",
            "[29] 2    \n",
            "[30] 2    \n"
          ]
        }
      ]
    },
    {
      "cell_type": "markdown",
      "source": [
        "# **3. 시각화**"
      ],
      "metadata": {
        "id": "yx4647-GIMz0"
      }
    },
    {
      "cell_type": "code",
      "source": [
        "#아래는 신뢰도 바탕, 향상도 시각화\n",
        "plot(rules[1:5],method=\"graph\", measure=\"lift\", shading=\"confidence\")\n",
        "plot(rules[1:5],jitter = 1)\n",
        "plot(rules[1:5], shading = \"order\")"
      ],
      "metadata": {
        "id": "VMVgNq51m1Id",
        "outputId": "ecdba460-5307-49f6-f683-c0878c224c59",
        "colab": {
          "base_uri": "https://localhost:8080/",
          "height": 1000
        }
      },
      "execution_count": 81,
      "outputs": [
        {
          "output_type": "display_data",
          "data": {
            "text/plain": [
              "plot without title"
            ],
            "image/png": "[encoded data removed]"
          },
          "metadata": {
            "image/png": {
              "width": 420,
              "height": 420
            }
          }
        },
        {
          "output_type": "stream",
          "name": "stderr",
          "text": [
            "To reduce overplotting, jitter is added! Use jitter = 0 to prevent jitter.\n",
            "\n"
          ]
        },
        {
          "output_type": "display_data",
          "data": {
            "text/plain": [
              "plot without title"
            ],
            "image/png": "[encoded data removed]"
          },
          "metadata": {
            "image/png": {
              "width": 420,
              "height": 420
            }
          }
        },
        {
          "output_type": "display_data",
          "data": {
            "text/plain": [
              "plot without title"
            ],
            "image/png": "[encoded data removed]"
          },
          "metadata": {
            "image/png": {
              "width": 420,
              "height": 420
            }
          }
        }
      ]
    },
    {
      "cell_type": "markdown",
      "source": [
        "1. `num3`=35 -> `num6`=44, `num4`=38=>`num2`=31이 최대 신뢰도 하에서 가장 큰 리프트 값을 보이는 세트 중 하나임\n"
      ],
      "metadata": {
        "id": "CdZkNq6mnWzM"
      }
    },
    {
      "cell_type": "markdown",
      "source": [
        "# **4. 결론 (4-3)**"
      ],
      "metadata": {
        "id": "yHdnOhP2IP8A"
      }
    },
    {
      "cell_type": "markdown",
      "source": [
        "1. 최소 조합 항목수 파라미터를 지정하는 방법이 궁금하다.\n",
        "2. 일확천금을 발원합니다."
      ],
      "metadata": {
        "id": "4jY5IWfan8jy"
      }
    }
  ]
}
