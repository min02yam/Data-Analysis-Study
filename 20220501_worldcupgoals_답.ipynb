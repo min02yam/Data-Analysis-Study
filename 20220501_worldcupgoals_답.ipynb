{
  "cells": [
    {
      "cell_type": "code",
      "execution_count": 1,
      "metadata": {
        "colab": {
          "base_uri": "https://localhost:8080/",
          "height": 34
        },
        "id": "KfN39srDBVWW",
        "outputId": "228bd4ea-8edb-475f-fe2f-429750f2a017"
      },
      "outputs": [
        {
          "output_type": "display_data",
          "data": {
            "text/html": [
              "'/content'"
            ],
            "text/markdown": "'/content'",
            "text/latex": "'/content'",
            "text/plain": [
              "[1] \"/content\""
            ]
          },
          "metadata": {}
        }
      ],
      "source": [
        "getwd()"
      ]
    },
    {
      "cell_type": "code",
      "execution_count": 2,
      "metadata": {
        "colab": {
          "base_uri": "https://localhost:8080/",
          "height": 136
        },
        "id": "q3BZzSSkBVWc",
        "outputId": "ec304c35-4416-4976-9851-7cdf13657dc9"
      },
      "outputs": [
        {
          "output_type": "error",
          "ename": "ERROR",
          "evalue": "ignored",
          "traceback": [
            "Error in setwd(\"C:/Users/alsdu/Downloads/20220501_데이터분석 스터디\"): cannot change working directory\nTraceback:\n",
            "1. setwd(\"C:/Users/alsdu/Downloads/20220501_데이터분석 스터디\")"
          ]
        }
      ],
      "source": [
        "setwd(\"C:/Users/alsdu/Downloads/20220501_데이터분석 스터디\")"
      ]
    },
    {
      "cell_type": "code",
      "execution_count": 4,
      "metadata": {
        "id": "KTCXxdofBVWc"
      },
      "outputs": [],
      "source": [
        "library(dplyr); library(magrittr)"
      ]
    },
    {
      "cell_type": "markdown",
      "metadata": {
        "id": "GadsnNq8BVWd"
      },
      "source": [
        "# ⚽1. Worldcupgoals\n",
        "첨부된 'Worldcupgoals' 데이터셋은 1930년부터 2018년까지 FIFA 월드컵에서득점한 선수관련데이터입니다.\n",
        "- 1) 골득점을 한 선수가 가장 많은 나라 상위 5개 국가와 그 선수 숫자를 출력하세요.\n",
        "- 2) Brazil 국가의 월드컵 출전 횟수가 ~~5회 이상인 선수들을 내림차순으로 정렬하세요.~~ **3회인 선수들을 도출하시오.**"
      ]
    },
    {
      "cell_type": "code",
      "execution_count": 5,
      "metadata": {
        "id": "APmzJ9dxBVWf"
      },
      "outputs": [],
      "source": [
        "wc<-read.csv(\"/content/Worldcupgoals.csv\")"
      ]
    },
    {
      "cell_type": "code",
      "execution_count": 6,
      "metadata": {
        "colab": {
          "base_uri": "https://localhost:8080/"
        },
        "id": "H3OzZFpFBVWg",
        "outputId": "8eb3b3cd-d8b1-45fe-832f-8b83bb926735"
      },
      "outputs": [
        {
          "output_type": "stream",
          "name": "stdout",
          "text": [
            "'data.frame':\t1295 obs. of  4 variables:\n",
            " $ Player : chr  \"Miroslav Klose\" \"Ronaldo\" \"Gerd Muller\" \"Just Fontaine\" ...\n",
            " $ Goals  : int  16 15 14 13 12 11 11 10 10 10 ...\n",
            " $ Years  : chr  \"2002-2006-2010-2014\" \"1998-2002-2006\" \"1970-1974\" \"1958\" ...\n",
            " $ Country: chr  \"Germany\" \"Brazil\" \"Germany\" \"France\" ...\n"
          ]
        }
      ],
      "source": [
        "str(wc)"
      ]
    },
    {
      "cell_type": "code",
      "execution_count": 7,
      "metadata": {
        "scrolled": true,
        "colab": {
          "base_uri": "https://localhost:8080/",
          "height": 144
        },
        "id": "f02KMmdSBVWh",
        "outputId": "f5434f4f-bf18-46e3-9cf4-53153ec45c5b"
      },
      "outputs": [
        {
          "output_type": "display_data",
          "data": {
            "text/plain": [
              "    Player              Goals           Years             Country         \n",
              " Length:1295        Min.   : 1.000   Length:1295        Length:1295       \n",
              " Class :character   1st Qu.: 1.000   Class :character   Class :character  \n",
              " Mode  :character   Median : 1.000   Mode  :character   Mode  :character  \n",
              "                    Mean   : 1.924                                        \n",
              "                    3rd Qu.: 2.000                                        \n",
              "                    Max.   :16.000                                        "
            ]
          },
          "metadata": {}
        }
      ],
      "source": [
        "summary(wc) "
      ]
    },
    {
      "cell_type": "code",
      "execution_count": 8,
      "metadata": {
        "scrolled": true,
        "colab": {
          "base_uri": "https://localhost:8080/",
          "height": 286
        },
        "id": "qWh8tTReBVWh",
        "outputId": "8d9e277a-3681-45d1-ccf7-638bc55202fc"
      },
      "outputs": [
        {
          "output_type": "display_data",
          "data": {
            "text/html": [
              "<table class=\"dataframe\">\n",
              "<caption>A data.frame: 6 × 4</caption>\n",
              "<thead>\n",
              "\t<tr><th></th><th scope=col>Player</th><th scope=col>Goals</th><th scope=col>Years</th><th scope=col>Country</th></tr>\n",
              "\t<tr><th></th><th scope=col>&lt;chr&gt;</th><th scope=col>&lt;int&gt;</th><th scope=col>&lt;chr&gt;</th><th scope=col>&lt;chr&gt;</th></tr>\n",
              "</thead>\n",
              "<tbody>\n",
              "\t<tr><th scope=row>1</th><td>Miroslav Klose  </td><td>16</td><td>2002-2006-2010-2014</td><td>Germany</td></tr>\n",
              "\t<tr><th scope=row>2</th><td>Ronaldo         </td><td>15</td><td>1998-2002-2006     </td><td>Brazil </td></tr>\n",
              "\t<tr><th scope=row>3</th><td>Gerd Muller     </td><td>14</td><td>1970-1974          </td><td>Germany</td></tr>\n",
              "\t<tr><th scope=row>4</th><td>Just Fontaine   </td><td>13</td><td>1958               </td><td>France </td></tr>\n",
              "\t<tr><th scope=row>5</th><td>Pele            </td><td>12</td><td>1958-1962-1966-1970</td><td>Brazil </td></tr>\n",
              "\t<tr><th scope=row>6</th><td>Jurgen Klinsmann</td><td>11</td><td>1990-1994-1998     </td><td>Germany</td></tr>\n",
              "</tbody>\n",
              "</table>\n"
            ],
            "text/markdown": "\nA data.frame: 6 × 4\n\n| <!--/--> | Player &lt;chr&gt; | Goals &lt;int&gt; | Years &lt;chr&gt; | Country &lt;chr&gt; |\n|---|---|---|---|---|\n| 1 | Miroslav Klose   | 16 | 2002-2006-2010-2014 | Germany |\n| 2 | Ronaldo          | 15 | 1998-2002-2006      | Brazil  |\n| 3 | Gerd Muller      | 14 | 1970-1974           | Germany |\n| 4 | Just Fontaine    | 13 | 1958                | France  |\n| 5 | Pele             | 12 | 1958-1962-1966-1970 | Brazil  |\n| 6 | Jurgen Klinsmann | 11 | 1990-1994-1998      | Germany |\n\n",
            "text/latex": "A data.frame: 6 × 4\n\\begin{tabular}{r|llll}\n  & Player & Goals & Years & Country\\\\\n  & <chr> & <int> & <chr> & <chr>\\\\\n\\hline\n\t1 & Miroslav Klose   & 16 & 2002-2006-2010-2014 & Germany\\\\\n\t2 & Ronaldo          & 15 & 1998-2002-2006      & Brazil \\\\\n\t3 & Gerd Muller      & 14 & 1970-1974           & Germany\\\\\n\t4 & Just Fontaine    & 13 & 1958                & France \\\\\n\t5 & Pele             & 12 & 1958-1962-1966-1970 & Brazil \\\\\n\t6 & Jurgen Klinsmann & 11 & 1990-1994-1998      & Germany\\\\\n\\end{tabular}\n",
            "text/plain": [
              "  Player           Goals Years               Country\n",
              "1 Miroslav Klose   16    2002-2006-2010-2014 Germany\n",
              "2 Ronaldo          15    1998-2002-2006      Brazil \n",
              "3 Gerd Muller      14    1970-1974           Germany\n",
              "4 Just Fontaine    13    1958                France \n",
              "5 Pele             12    1958-1962-1966-1970 Brazil \n",
              "6 Jurgen Klinsmann 11    1990-1994-1998      Germany"
            ]
          },
          "metadata": {}
        }
      ],
      "source": [
        "head(wc)"
      ]
    },
    {
      "cell_type": "markdown",
      "metadata": {
        "id": "RQaypsAjBVWi"
      },
      "source": [
        "## 1-1 골득점을 한 선수가 가장 많은 나라 상위 5개 국가와 그 선수 숫자를 출력하세요."
      ]
    },
    {
      "cell_type": "code",
      "execution_count": 9,
      "metadata": {
        "scrolled": true,
        "colab": {
          "base_uri": "https://localhost:8080/",
          "height": 286
        },
        "id": "s3SooCA7BVWj",
        "outputId": "7e046881-eb14-4614-f19c-1945b15c2c97"
      },
      "outputs": [
        {
          "output_type": "display_data",
          "data": {
            "text/html": [
              "<table class=\"dataframe\">\n",
              "<caption>A data.frame: 6 × 5</caption>\n",
              "<thead>\n",
              "\t<tr><th></th><th scope=col>Player</th><th scope=col>Goals</th><th scope=col>Years</th><th scope=col>Country</th><th scope=col>count</th></tr>\n",
              "\t<tr><th></th><th scope=col>&lt;chr&gt;</th><th scope=col>&lt;int&gt;</th><th scope=col>&lt;chr&gt;</th><th scope=col>&lt;chr&gt;</th><th scope=col>&lt;dbl&gt;</th></tr>\n",
              "</thead>\n",
              "<tbody>\n",
              "\t<tr><th scope=row>1</th><td>Miroslav Klose  </td><td>16</td><td>2002-2006-2010-2014</td><td>Germany</td><td>1</td></tr>\n",
              "\t<tr><th scope=row>2</th><td>Ronaldo         </td><td>15</td><td>1998-2002-2006     </td><td>Brazil </td><td>1</td></tr>\n",
              "\t<tr><th scope=row>3</th><td>Gerd Muller     </td><td>14</td><td>1970-1974          </td><td>Germany</td><td>1</td></tr>\n",
              "\t<tr><th scope=row>4</th><td>Just Fontaine   </td><td>13</td><td>1958               </td><td>France </td><td>1</td></tr>\n",
              "\t<tr><th scope=row>5</th><td>Pele            </td><td>12</td><td>1958-1962-1966-1970</td><td>Brazil </td><td>1</td></tr>\n",
              "\t<tr><th scope=row>6</th><td>Jurgen Klinsmann</td><td>11</td><td>1990-1994-1998     </td><td>Germany</td><td>1</td></tr>\n",
              "</tbody>\n",
              "</table>\n"
            ],
            "text/markdown": "\nA data.frame: 6 × 5\n\n| <!--/--> | Player &lt;chr&gt; | Goals &lt;int&gt; | Years &lt;chr&gt; | Country &lt;chr&gt; | count &lt;dbl&gt; |\n|---|---|---|---|---|---|\n| 1 | Miroslav Klose   | 16 | 2002-2006-2010-2014 | Germany | 1 |\n| 2 | Ronaldo          | 15 | 1998-2002-2006      | Brazil  | 1 |\n| 3 | Gerd Muller      | 14 | 1970-1974           | Germany | 1 |\n| 4 | Just Fontaine    | 13 | 1958                | France  | 1 |\n| 5 | Pele             | 12 | 1958-1962-1966-1970 | Brazil  | 1 |\n| 6 | Jurgen Klinsmann | 11 | 1990-1994-1998      | Germany | 1 |\n\n",
            "text/latex": "A data.frame: 6 × 5\n\\begin{tabular}{r|lllll}\n  & Player & Goals & Years & Country & count\\\\\n  & <chr> & <int> & <chr> & <chr> & <dbl>\\\\\n\\hline\n\t1 & Miroslav Klose   & 16 & 2002-2006-2010-2014 & Germany & 1\\\\\n\t2 & Ronaldo          & 15 & 1998-2002-2006      & Brazil  & 1\\\\\n\t3 & Gerd Muller      & 14 & 1970-1974           & Germany & 1\\\\\n\t4 & Just Fontaine    & 13 & 1958                & France  & 1\\\\\n\t5 & Pele             & 12 & 1958-1962-1966-1970 & Brazil  & 1\\\\\n\t6 & Jurgen Klinsmann & 11 & 1990-1994-1998      & Germany & 1\\\\\n\\end{tabular}\n",
            "text/plain": [
              "  Player           Goals Years               Country count\n",
              "1 Miroslav Klose   16    2002-2006-2010-2014 Germany 1    \n",
              "2 Ronaldo          15    1998-2002-2006      Brazil  1    \n",
              "3 Gerd Muller      14    1970-1974           Germany 1    \n",
              "4 Just Fontaine    13    1958                France  1    \n",
              "5 Pele             12    1958-1962-1966-1970 Brazil  1    \n",
              "6 Jurgen Klinsmann 11    1990-1994-1998      Germany 1    "
            ]
          },
          "metadata": {}
        }
      ],
      "source": [
        "#step1. count 변수 생성\n",
        "wc$count<- rep(1, each=nrow(wc) ) ; head(wc)"
      ]
    },
    {
      "cell_type": "code",
      "execution_count": 10,
      "metadata": {
        "scrolled": true,
        "colab": {
          "base_uri": "https://localhost:8080/",
          "height": 255
        },
        "id": "mGViwhbjBVWj",
        "outputId": "83395f17-4733-4c22-d2c1-762b2c216754"
      },
      "outputs": [
        {
          "output_type": "display_data",
          "data": {
            "text/html": [
              "<table class=\"dataframe\">\n",
              "<caption>A tibble: 5 × 2</caption>\n",
              "<thead>\n",
              "\t<tr><th scope=col>Country</th><th scope=col>Player_count</th></tr>\n",
              "\t<tr><th scope=col>&lt;chr&gt;</th><th scope=col>&lt;dbl&gt;</th></tr>\n",
              "</thead>\n",
              "<tbody>\n",
              "\t<tr><td>Brazil   </td><td>81</td></tr>\n",
              "\t<tr><td>Germany  </td><td>78</td></tr>\n",
              "\t<tr><td>Italy    </td><td>60</td></tr>\n",
              "\t<tr><td>Argentina</td><td>59</td></tr>\n",
              "\t<tr><td>France   </td><td>58</td></tr>\n",
              "</tbody>\n",
              "</table>\n"
            ],
            "text/markdown": "\nA tibble: 5 × 2\n\n| Country &lt;chr&gt; | Player_count &lt;dbl&gt; |\n|---|---|\n| Brazil    | 81 |\n| Germany   | 78 |\n| Italy     | 60 |\n| Argentina | 59 |\n| France    | 58 |\n\n",
            "text/latex": "A tibble: 5 × 2\n\\begin{tabular}{ll}\n Country & Player\\_count\\\\\n <chr> & <dbl>\\\\\n\\hline\n\t Brazil    & 81\\\\\n\t Germany   & 78\\\\\n\t Italy     & 60\\\\\n\t Argentina & 59\\\\\n\t France    & 58\\\\\n\\end{tabular}\n",
            "text/plain": [
              "  Country   Player_count\n",
              "1 Brazil    81          \n",
              "2 Germany   78          \n",
              "3 Italy     60          \n",
              "4 Argentina 59          \n",
              "5 France    58          "
            ]
          },
          "metadata": {}
        }
      ],
      "source": [
        "#step2 Country 그룹 기준으로 count를 sum한 뒤 내림차순으로 출력\n",
        "wc  %>%   group_by(Country)  %>% summarise(Player_count= sum(count)) %>% arrange (desc(Player_count))  %>% head(5)"
      ]
    },
    {
      "cell_type": "markdown",
      "metadata": {
        "id": "zfxBqTaYBVWk"
      },
      "source": [
        "## 1-2 Brazil 국가의 월드컵 출전 횟수가 3회인 선수들을 도출하세요. (문제수정)"
      ]
    },
    {
      "cell_type": "code",
      "execution_count": 11,
      "metadata": {
        "scrolled": true,
        "id": "PJGG6w7fBVWk"
      },
      "outputs": [],
      "source": [
        "#wc[wc$Country==\"Brazil\", ]"
      ]
    },
    {
      "cell_type": "markdown",
      "metadata": {
        "id": "SaUOwMzmBVWk"
      },
      "source": [
        "- `step1` gsub() ➡️ factor형 'Years'변수에서 숫자만 추출('\\\\D')해서 새로운 변수('years_new')로 할당  \n",
        "![image.png](attachment:image.png)\n",
        "ref.https://cceeddcc.tistory.com/110"
      ]
    },
    {
      "cell_type": "code",
      "execution_count": 12,
      "metadata": {
        "id": "m8zBWZ8mBVWl"
      },
      "outputs": [],
      "source": [
        "wc$years_new<-gsub('\\\\D','', wc[,3])  ;  #gsub(숫자만 뺌, 공백제외, 해당변수)"
      ]
    },
    {
      "cell_type": "markdown",
      "metadata": {
        "id": "eU_7--FtBVWl"
      },
      "source": [
        "- `step2` nchar() ➡️ 월드컵 출전 횟수 변수 생성"
      ]
    },
    {
      "cell_type": "code",
      "execution_count": 13,
      "metadata": {
        "colab": {
          "base_uri": "https://localhost:8080/",
          "height": 192
        },
        "id": "2oe5q3PABVWl",
        "outputId": "6af429b6-4d20-48ef-9068-9631bdb93992"
      },
      "outputs": [
        {
          "output_type": "display_data",
          "data": {
            "text/html": [
              "<table class=\"dataframe\">\n",
              "<caption>A data.frame: 3 × 7</caption>\n",
              "<thead>\n",
              "\t<tr><th></th><th scope=col>Player</th><th scope=col>Goals</th><th scope=col>Years</th><th scope=col>Country</th><th scope=col>count</th><th scope=col>years_new</th><th scope=col>years_count</th></tr>\n",
              "\t<tr><th></th><th scope=col>&lt;chr&gt;</th><th scope=col>&lt;int&gt;</th><th scope=col>&lt;chr&gt;</th><th scope=col>&lt;chr&gt;</th><th scope=col>&lt;dbl&gt;</th><th scope=col>&lt;chr&gt;</th><th scope=col>&lt;dbl&gt;</th></tr>\n",
              "</thead>\n",
              "<tbody>\n",
              "\t<tr><th scope=row>1</th><td>Miroslav Klose</td><td>16</td><td>2002-2006-2010-2014</td><td>Germany</td><td>1</td><td>2002200620102014</td><td>4</td></tr>\n",
              "\t<tr><th scope=row>2</th><td>Ronaldo       </td><td>15</td><td>1998-2002-2006     </td><td>Brazil </td><td>1</td><td>199820022006    </td><td>3</td></tr>\n",
              "\t<tr><th scope=row>3</th><td>Gerd Muller   </td><td>14</td><td>1970-1974          </td><td>Germany</td><td>1</td><td>19701974        </td><td>2</td></tr>\n",
              "</tbody>\n",
              "</table>\n"
            ],
            "text/markdown": "\nA data.frame: 3 × 7\n\n| <!--/--> | Player &lt;chr&gt; | Goals &lt;int&gt; | Years &lt;chr&gt; | Country &lt;chr&gt; | count &lt;dbl&gt; | years_new &lt;chr&gt; | years_count &lt;dbl&gt; |\n|---|---|---|---|---|---|---|---|\n| 1 | Miroslav Klose | 16 | 2002-2006-2010-2014 | Germany | 1 | 2002200620102014 | 4 |\n| 2 | Ronaldo        | 15 | 1998-2002-2006      | Brazil  | 1 | 199820022006     | 3 |\n| 3 | Gerd Muller    | 14 | 1970-1974           | Germany | 1 | 19701974         | 2 |\n\n",
            "text/latex": "A data.frame: 3 × 7\n\\begin{tabular}{r|lllllll}\n  & Player & Goals & Years & Country & count & years\\_new & years\\_count\\\\\n  & <chr> & <int> & <chr> & <chr> & <dbl> & <chr> & <dbl>\\\\\n\\hline\n\t1 & Miroslav Klose & 16 & 2002-2006-2010-2014 & Germany & 1 & 2002200620102014 & 4\\\\\n\t2 & Ronaldo        & 15 & 1998-2002-2006      & Brazil  & 1 & 199820022006     & 3\\\\\n\t3 & Gerd Muller    & 14 & 1970-1974           & Germany & 1 & 19701974         & 2\\\\\n\\end{tabular}\n",
            "text/plain": [
              "  Player         Goals Years               Country count years_new       \n",
              "1 Miroslav Klose 16    2002-2006-2010-2014 Germany 1     2002200620102014\n",
              "2 Ronaldo        15    1998-2002-2006      Brazil  1     199820022006    \n",
              "3 Gerd Muller    14    1970-1974           Germany 1     19701974        \n",
              "  years_count\n",
              "1 4          \n",
              "2 3          \n",
              "3 2          "
            ]
          },
          "metadata": {}
        }
      ],
      "source": [
        "wc %<>% mutate( years_count= nchar(years_new)/4)  ; head(wc,3)"
      ]
    },
    {
      "cell_type": "markdown",
      "metadata": {
        "id": "d3WNJpo6BVWm"
      },
      "source": [
        "- `step3` filter(), select() ➡️ 최종 결과 도출"
      ]
    },
    {
      "cell_type": "code",
      "execution_count": 14,
      "metadata": {
        "colab": {
          "base_uri": "https://localhost:8080/",
          "height": 412
        },
        "id": "cPxJJQl4BVWm",
        "outputId": "8912277a-65a4-4954-9130-cc99164de606"
      },
      "outputs": [
        {
          "output_type": "display_data",
          "data": {
            "text/html": [
              "<table class=\"dataframe\">\n",
              "<caption>A data.frame: 10 × 4</caption>\n",
              "<thead>\n",
              "\t<tr><th scope=col>Player</th><th scope=col>Goals</th><th scope=col>Country</th><th scope=col>years_count</th></tr>\n",
              "\t<tr><th scope=col>&lt;chr&gt;</th><th scope=col>&lt;int&gt;</th><th scope=col>&lt;chr&gt;</th><th scope=col>&lt;dbl&gt;</th></tr>\n",
              "</thead>\n",
              "<tbody>\n",
              "\t<tr><td>Ronaldo       </td><td>15</td><td>Brazil</td><td>3</td></tr>\n",
              "\t<tr><td>Jairzinho     </td><td> 9</td><td>Brazil</td><td>3</td></tr>\n",
              "\t<tr><td>Rivelino      </td><td> 6</td><td>Brazil</td><td>3</td></tr>\n",
              "\t<tr><td>Garrincha     </td><td> 5</td><td>Brazil</td><td>3</td></tr>\n",
              "\t<tr><td>Didi          </td><td> 3</td><td>Brazil</td><td>3</td></tr>\n",
              "\t<tr><td>Dirceu        </td><td> 3</td><td>Brazil</td><td>3</td></tr>\n",
              "\t<tr><td>Branco        </td><td> 1</td><td>Brazil</td><td>3</td></tr>\n",
              "\t<tr><td>Roberto Carlos</td><td> 1</td><td>Brazil</td><td>3</td></tr>\n",
              "\t<tr><td>Kaka          </td><td> 1</td><td>Brazil</td><td>3</td></tr>\n",
              "\t<tr><td>Nilton Santos </td><td> 1</td><td>Brazil</td><td>3</td></tr>\n",
              "</tbody>\n",
              "</table>\n"
            ],
            "text/markdown": "\nA data.frame: 10 × 4\n\n| Player &lt;chr&gt; | Goals &lt;int&gt; | Country &lt;chr&gt; | years_count &lt;dbl&gt; |\n|---|---|---|---|\n| Ronaldo        | 15 | Brazil | 3 |\n| Jairzinho      |  9 | Brazil | 3 |\n| Rivelino       |  6 | Brazil | 3 |\n| Garrincha      |  5 | Brazil | 3 |\n| Didi           |  3 | Brazil | 3 |\n| Dirceu         |  3 | Brazil | 3 |\n| Branco         |  1 | Brazil | 3 |\n| Roberto Carlos |  1 | Brazil | 3 |\n| Kaka           |  1 | Brazil | 3 |\n| Nilton Santos  |  1 | Brazil | 3 |\n\n",
            "text/latex": "A data.frame: 10 × 4\n\\begin{tabular}{llll}\n Player & Goals & Country & years\\_count\\\\\n <chr> & <int> & <chr> & <dbl>\\\\\n\\hline\n\t Ronaldo        & 15 & Brazil & 3\\\\\n\t Jairzinho      &  9 & Brazil & 3\\\\\n\t Rivelino       &  6 & Brazil & 3\\\\\n\t Garrincha      &  5 & Brazil & 3\\\\\n\t Didi           &  3 & Brazil & 3\\\\\n\t Dirceu         &  3 & Brazil & 3\\\\\n\t Branco         &  1 & Brazil & 3\\\\\n\t Roberto Carlos &  1 & Brazil & 3\\\\\n\t Kaka           &  1 & Brazil & 3\\\\\n\t Nilton Santos  &  1 & Brazil & 3\\\\\n\\end{tabular}\n",
            "text/plain": [
              "   Player         Goals Country years_count\n",
              "1  Ronaldo        15    Brazil  3          \n",
              "2  Jairzinho       9    Brazil  3          \n",
              "3  Rivelino        6    Brazil  3          \n",
              "4  Garrincha       5    Brazil  3          \n",
              "5  Didi            3    Brazil  3          \n",
              "6  Dirceu          3    Brazil  3          \n",
              "7  Branco          1    Brazil  3          \n",
              "8  Roberto Carlos  1    Brazil  3          \n",
              "9  Kaka            1    Brazil  3          \n",
              "10 Nilton Santos   1    Brazil  3          "
            ]
          },
          "metadata": {}
        }
      ],
      "source": [
        "wc  %>%  filter(Country==\"Brazil\", years_count==3 )   %>%  select (Player,Goals,Country,years_count )"
      ]
    }
  ],
  "metadata": {
    "kernelspec": {
      "display_name": "R",
      "language": "R",
      "name": "ir"
    },
    "language_info": {
      "codemirror_mode": "r",
      "file_extension": ".r",
      "mimetype": "text/x-r-source",
      "name": "R",
      "pygments_lexer": "r",
      "version": "3.6.1"
    },
    "toc": {
      "base_numbering": 1,
      "nav_menu": {},
      "number_sections": true,
      "sideBar": true,
      "skip_h1_title": false,
      "title_cell": "Table of Contents",
      "title_sidebar": "Contents",
      "toc_cell": false,
      "toc_position": {},
      "toc_section_display": true,
      "toc_window_display": false
    },
    "colab": {
      "name": "20220501_worldcupgoals_답.ipynb",
      "provenance": []
    }
  },
  "nbformat": 4,
  "nbformat_minor": 0
}