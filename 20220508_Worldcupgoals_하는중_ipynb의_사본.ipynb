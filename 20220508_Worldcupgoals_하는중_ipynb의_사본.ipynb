{
  "nbformat": 4,
  "nbformat_minor": 0,
  "metadata": {
    "colab": {
      "name": "20220508_Worldcupgoals_하는중.ipynb의 사본",
      "provenance": [],
      "authorship_tag": "ABX9TyOsPlqDlLO9jnZsBvNfpAVv",
      "include_colab_link": true
    },
    "kernelspec": {
      "name": "ir",
      "display_name": "R"
    },
    "language_info": {
      "name": "R"
    }
  },
  "cells": [
    {
      "cell_type": "markdown",
      "metadata": {
        "id": "view-in-github",
        "colab_type": "text"
      },
      "source": [
        "<a href=\"https://colab.research.google.com/github/min02yam/Data-study/blob/main/20220508_Worldcupgoals_%ED%95%98%EB%8A%94%EC%A4%91_ipynb%EC%9D%98_%EC%82%AC%EB%B3%B8.ipynb\" target=\"_parent\"><img src=\"https://colab.research.google.com/assets/colab-badge.svg\" alt=\"Open In Colab\"/></a>"
      ]
    },
    {
      "cell_type": "markdown",
      "source": [
        "# 1. Data Pre-processing\n",
        "\n",
        "\n",
        "## 1-2-1. Worldcupgoals.csv 데이터에서 국가별 득점을 한 선수의 숫자와 총 득점수를 표시하시오. (가장 적은 코드로 작성한 사람에게는 커피 한 잔 쿠폰을 선물로 드립니다. )\n",
        "\n",
        "## 1-2-2. Worldcupgoals.csv 데이터에서 tm 패키지를 이용해서 월드컵 출전회수 column을 추가하시오."
      ],
      "metadata": {
        "id": "glH2Xjg7kgtN"
      }
    },
    {
      "cell_type": "code",
      "source": [
        "install.packages(c(\"dplyr\",\"tm\")) "
      ],
      "metadata": {
        "colab": {
          "base_uri": "https://localhost:8080/"
        },
        "id": "pkvZ4WIjlH7t",
        "outputId": "51b9e766-7ea6-4a98-f48c-6029fa187f83"
      },
      "execution_count": 1,
      "outputs": [
        {
          "output_type": "stream",
          "name": "stderr",
          "text": [
            "Installing packages into ‘/usr/local/lib/R/site-library’\n",
            "(as ‘lib’ is unspecified)\n",
            "\n",
            "also installing the dependencies ‘NLP’, ‘Rcpp’, ‘slam’, ‘BH’\n",
            "\n",
            "\n"
          ]
        }
      ]
    },
    {
      "cell_type": "code",
      "source": [
        "library(dplyr);library(magrittr)"
      ],
      "metadata": {
        "id": "Ac6Snw5ClhkZ",
        "outputId": "5ccd5121-aa3b-42ba-a651-b882ef65e868",
        "colab": {
          "base_uri": "https://localhost:8080/"
        }
      },
      "execution_count": 2,
      "outputs": [
        {
          "output_type": "stream",
          "name": "stderr",
          "text": [
            "\n",
            "Attaching package: ‘dplyr’\n",
            "\n",
            "\n",
            "The following objects are masked from ‘package:stats’:\n",
            "\n",
            "    filter, lag\n",
            "\n",
            "\n",
            "The following objects are masked from ‘package:base’:\n",
            "\n",
            "    intersect, setdiff, setequal, union\n",
            "\n",
            "\n"
          ]
        }
      ]
    },
    {
      "cell_type": "code",
      "source": [
        "install.packages(\"tm\");  library(tm)"
      ],
      "metadata": {
        "colab": {
          "base_uri": "https://localhost:8080/"
        },
        "id": "CdCwYFtlU43P",
        "outputId": "2644e970-d8ef-4368-84e0-91184d2640fc"
      },
      "execution_count": 3,
      "outputs": [
        {
          "output_type": "stream",
          "name": "stderr",
          "text": [
            "Installing package into ‘/usr/local/lib/R/site-library’\n",
            "(as ‘lib’ is unspecified)\n",
            "\n",
            "Loading required package: NLP\n",
            "\n"
          ]
        }
      ]
    },
    {
      "cell_type": "markdown",
      "source": [
        "ref. https://cran.r-project.org/web/packages/tm/vignettes/tm.pdf"
      ],
      "metadata": {
        "id": "EO60mBqLvBII"
      }
    },
    {
      "cell_type": "markdown",
      "source": [
        "- `step1)` 데이터 불러오기 및 간단한 구조 확인"
      ],
      "metadata": {
        "id": "Z3MdmaBBoLtV"
      }
    },
    {
      "cell_type": "code",
      "source": [
        "df<-read.csv(\"/content/Worldcupgoals.csv\")"
      ],
      "metadata": {
        "id": "z5XKGAGjTf0v"
      },
      "execution_count": 84,
      "outputs": []
    },
    {
      "cell_type": "code",
      "source": [
        "str(df); head(df)"
      ],
      "metadata": {
        "colab": {
          "base_uri": "https://localhost:8080/",
          "height": 377
        },
        "id": "N4SIpwCfTrIO",
        "outputId": "597fc5f6-2daa-4c3b-e0bb-4e117361b0a4"
      },
      "execution_count": null,
      "outputs": [
        {
          "output_type": "stream",
          "name": "stdout",
          "text": [
            "'data.frame':\t1295 obs. of  4 variables:\n",
            " $ Player : chr  \"Miroslav Klose\" \"Ronaldo\" \"Gerd Muller\" \"Just Fontaine\" ...\n",
            " $ Goals  : int  16 15 14 13 12 11 11 10 10 10 ...\n",
            " $ Years  : chr  \"2002-2006-2010-2014\" \"1998-2002-2006\" \"1970-1974\" \"1958\" ...\n",
            " $ Country: chr  \"Germany\" \"Brazil\" \"Germany\" \"France\" ...\n"
          ]
        },
        {
          "output_type": "display_data",
          "data": {
            "text/html": [
              "<table class=\"dataframe\">\n",
              "<caption>A data.frame: 6 × 4</caption>\n",
              "<thead>\n",
              "\t<tr><th></th><th scope=col>Player</th><th scope=col>Goals</th><th scope=col>Years</th><th scope=col>Country</th></tr>\n",
              "\t<tr><th></th><th scope=col>&lt;chr&gt;</th><th scope=col>&lt;int&gt;</th><th scope=col>&lt;chr&gt;</th><th scope=col>&lt;chr&gt;</th></tr>\n",
              "</thead>\n",
              "<tbody>\n",
              "\t<tr><th scope=row>1</th><td>Miroslav Klose  </td><td>16</td><td>2002-2006-2010-2014</td><td>Germany</td></tr>\n",
              "\t<tr><th scope=row>2</th><td>Ronaldo         </td><td>15</td><td>1998-2002-2006     </td><td>Brazil </td></tr>\n",
              "\t<tr><th scope=row>3</th><td>Gerd Muller     </td><td>14</td><td>1970-1974          </td><td>Germany</td></tr>\n",
              "\t<tr><th scope=row>4</th><td>Just Fontaine   </td><td>13</td><td>1958               </td><td>France </td></tr>\n",
              "\t<tr><th scope=row>5</th><td>Pele            </td><td>12</td><td>1958-1962-1966-1970</td><td>Brazil </td></tr>\n",
              "\t<tr><th scope=row>6</th><td>Jurgen Klinsmann</td><td>11</td><td>1990-1994-1998     </td><td>Germany</td></tr>\n",
              "</tbody>\n",
              "</table>\n"
            ],
            "text/markdown": "\nA data.frame: 6 × 4\n\n| <!--/--> | Player &lt;chr&gt; | Goals &lt;int&gt; | Years &lt;chr&gt; | Country &lt;chr&gt; |\n|---|---|---|---|---|\n| 1 | Miroslav Klose   | 16 | 2002-2006-2010-2014 | Germany |\n| 2 | Ronaldo          | 15 | 1998-2002-2006      | Brazil  |\n| 3 | Gerd Muller      | 14 | 1970-1974           | Germany |\n| 4 | Just Fontaine    | 13 | 1958                | France  |\n| 5 | Pele             | 12 | 1958-1962-1966-1970 | Brazil  |\n| 6 | Jurgen Klinsmann | 11 | 1990-1994-1998      | Germany |\n\n",
            "text/latex": "A data.frame: 6 × 4\n\\begin{tabular}{r|llll}\n  & Player & Goals & Years & Country\\\\\n  & <chr> & <int> & <chr> & <chr>\\\\\n\\hline\n\t1 & Miroslav Klose   & 16 & 2002-2006-2010-2014 & Germany\\\\\n\t2 & Ronaldo          & 15 & 1998-2002-2006      & Brazil \\\\\n\t3 & Gerd Muller      & 14 & 1970-1974           & Germany\\\\\n\t4 & Just Fontaine    & 13 & 1958                & France \\\\\n\t5 & Pele             & 12 & 1958-1962-1966-1970 & Brazil \\\\\n\t6 & Jurgen Klinsmann & 11 & 1990-1994-1998      & Germany\\\\\n\\end{tabular}\n",
            "text/plain": [
              "  Player           Goals Years               Country\n",
              "1 Miroslav Klose   16    2002-2006-2010-2014 Germany\n",
              "2 Ronaldo          15    1998-2002-2006      Brazil \n",
              "3 Gerd Muller      14    1970-1974           Germany\n",
              "4 Just Fontaine    13    1958                France \n",
              "5 Pele             12    1958-1962-1966-1970 Brazil \n",
              "6 Jurgen Klinsmann 11    1990-1994-1998      Germany"
            ]
          },
          "metadata": {}
        }
      ]
    },
    {
      "cell_type": "markdown",
      "source": [
        "- `step2)` 국가별 득점을 한 선수의 숫자와 총 득점수를 표시 \n",
        "> group_by, count, summarise로 해결 "
      ],
      "metadata": {
        "id": "oH8cIDz0UDX3"
      }
    },
    {
      "cell_type": "code",
      "source": [
        "df %>% group_by(Country)  %>% count(Player, Goals) %>% summarise(tot_goals=sum(Goals), tot_player=sum(n)) %>%arrange(-tot_goals)"
      ],
      "metadata": {
        "id": "h-bb0zzYCYVU",
        "outputId": "21eb8430-3eff-4f4b-f95e-73b3952bc189",
        "colab": {
          "base_uri": "https://localhost:8080/",
          "height": 1000
        }
      },
      "execution_count": 57,
      "outputs": [
        {
          "output_type": "display_data",
          "data": {
            "text/html": [
              "<table class=\"dataframe\">\n",
              "<caption>A tibble: 76 × 3</caption>\n",
              "<thead>\n",
              "\t<tr><th scope=col>Country</th><th scope=col>tot_goals</th><th scope=col>tot_player</th></tr>\n",
              "\t<tr><th scope=col>&lt;chr&gt;</th><th scope=col>&lt;int&gt;</th><th scope=col>&lt;int&gt;</th></tr>\n",
              "</thead>\n",
              "<tbody>\n",
              "\t<tr><td>Brazil     </td><td>227</td><td>81</td></tr>\n",
              "\t<tr><td>Germany    </td><td>226</td><td>78</td></tr>\n",
              "\t<tr><td>Argentina  </td><td>135</td><td>59</td></tr>\n",
              "\t<tr><td>Italy      </td><td>123</td><td>60</td></tr>\n",
              "\t<tr><td>France     </td><td>115</td><td>58</td></tr>\n",
              "\t<tr><td>Spain      </td><td> 96</td><td>48</td></tr>\n",
              "\t<tr><td>England    </td><td> 89</td><td>46</td></tr>\n",
              "\t<tr><td>Uruguay    </td><td> 86</td><td>39</td></tr>\n",
              "\t<tr><td>Hungary    </td><td> 85</td><td>36</td></tr>\n",
              "\t<tr><td>Netherlands</td><td> 84</td><td>39</td></tr>\n",
              "\t<tr><td>Sweden     </td><td> 78</td><td>39</td></tr>\n",
              "\t<tr><td>Belgium    </td><td> 65</td><td>37</td></tr>\n",
              "\t<tr><td>Yugoslavia </td><td> 61</td><td>38</td></tr>\n",
              "\t<tr><td>Mexico     </td><td> 60</td><td>42</td></tr>\n",
              "\t<tr><td>USSR       </td><td> 52</td><td>30</td></tr>\n",
              "\t<tr><td>Switzerland</td><td> 50</td><td>28</td></tr>\n",
              "\t<tr><td>Poland     </td><td> 46</td><td>18</td></tr>\n",
              "\t<tr><td>Portugal   </td><td> 46</td><td>22</td></tr>\n",
              "\t<tr><td>Czech      </td><td> 44</td><td>22</td></tr>\n",
              "\t<tr><td>Austria    </td><td> 40</td><td>23</td></tr>\n",
              "\t<tr><td>Chile      </td><td> 40</td><td>24</td></tr>\n",
              "\t<tr><td>USA        </td><td> 34</td><td>20</td></tr>\n",
              "\t<tr><td>South Korea</td><td> 33</td><td>22</td></tr>\n",
              "\t<tr><td>Croatia    </td><td> 31</td><td>16</td></tr>\n",
              "\t<tr><td>Colombia   </td><td> 30</td><td>19</td></tr>\n",
              "\t<tr><td>Denmark    </td><td> 30</td><td>18</td></tr>\n",
              "\t<tr><td>Romania    </td><td> 30</td><td>17</td></tr>\n",
              "\t<tr><td>Paraguay   </td><td> 28</td><td>20</td></tr>\n",
              "\t<tr><td>Russia     </td><td> 23</td><td>13</td></tr>\n",
              "\t<tr><td>Scotland   </td><td> 23</td><td>18</td></tr>\n",
              "\t<tr><td>⋮</td><td>⋮</td><td>⋮</td></tr>\n",
              "\t<tr><td>South Africa  </td><td>11</td><td>9</td></tr>\n",
              "\t<tr><td>Ireland       </td><td>10</td><td>8</td></tr>\n",
              "\t<tr><td>Senegal       </td><td>10</td><td>7</td></tr>\n",
              "\t<tr><td>Iran          </td><td> 8</td><td>8</td></tr>\n",
              "\t<tr><td>North Korea   </td><td> 6</td><td>5</td></tr>\n",
              "\t<tr><td>Norway        </td><td> 6</td><td>5</td></tr>\n",
              "\t<tr><td>Serbia        </td><td> 6</td><td>6</td></tr>\n",
              "\t<tr><td>Cuba          </td><td> 5</td><td>4</td></tr>\n",
              "\t<tr><td>Egypt         </td><td> 5</td><td>3</td></tr>\n",
              "\t<tr><td>Greece        </td><td> 5</td><td>5</td></tr>\n",
              "\t<tr><td>Slovakia      </td><td> 5</td><td>2</td></tr>\n",
              "\t<tr><td>Slovenia      </td><td> 5</td><td>5</td></tr>\n",
              "\t<tr><td>Ukraine       </td><td> 5</td><td>4</td></tr>\n",
              "\t<tr><td>Bosnia Herz   </td><td> 4</td><td>4</td></tr>\n",
              "\t<tr><td>New Zealand   </td><td> 4</td><td>4</td></tr>\n",
              "\t<tr><td>Wales         </td><td> 4</td><td>3</td></tr>\n",
              "\t<tr><td>Czech Republic</td><td> 3</td><td>2</td></tr>\n",
              "\t<tr><td>Honduras      </td><td> 3</td><td>3</td></tr>\n",
              "\t<tr><td>Jamaica       </td><td> 3</td><td>2</td></tr>\n",
              "\t<tr><td>Haiti         </td><td> 2</td><td>1</td></tr>\n",
              "\t<tr><td>Iceland       </td><td> 2</td><td>2</td></tr>\n",
              "\t<tr><td>Kuwait        </td><td> 2</td><td>2</td></tr>\n",
              "\t<tr><td>UAE           </td><td> 2</td><td>2</td></tr>\n",
              "\t<tr><td>Angola        </td><td> 1</td><td>1</td></tr>\n",
              "\t<tr><td>Bolivia       </td><td> 1</td><td>1</td></tr>\n",
              "\t<tr><td>El Salvador   </td><td> 1</td><td>1</td></tr>\n",
              "\t<tr><td>Iraq          </td><td> 1</td><td>1</td></tr>\n",
              "\t<tr><td>Israel        </td><td> 1</td><td>1</td></tr>\n",
              "\t<tr><td>Panama        </td><td> 1</td><td>1</td></tr>\n",
              "\t<tr><td>Togo          </td><td> 1</td><td>1</td></tr>\n",
              "</tbody>\n",
              "</table>\n"
            ],
            "text/markdown": "\nA tibble: 76 × 3\n\n| Country &lt;chr&gt; | tot_goals &lt;int&gt; | tot_player &lt;int&gt; |\n|---|---|---|\n| Brazil      | 227 | 81 |\n| Germany     | 226 | 78 |\n| Argentina   | 135 | 59 |\n| Italy       | 123 | 60 |\n| France      | 115 | 58 |\n| Spain       |  96 | 48 |\n| England     |  89 | 46 |\n| Uruguay     |  86 | 39 |\n| Hungary     |  85 | 36 |\n| Netherlands |  84 | 39 |\n| Sweden      |  78 | 39 |\n| Belgium     |  65 | 37 |\n| Yugoslavia  |  61 | 38 |\n| Mexico      |  60 | 42 |\n| USSR        |  52 | 30 |\n| Switzerland |  50 | 28 |\n| Poland      |  46 | 18 |\n| Portugal    |  46 | 22 |\n| Czech       |  44 | 22 |\n| Austria     |  40 | 23 |\n| Chile       |  40 | 24 |\n| USA         |  34 | 20 |\n| South Korea |  33 | 22 |\n| Croatia     |  31 | 16 |\n| Colombia    |  30 | 19 |\n| Denmark     |  30 | 18 |\n| Romania     |  30 | 17 |\n| Paraguay    |  28 | 20 |\n| Russia      |  23 | 13 |\n| Scotland    |  23 | 18 |\n| ⋮ | ⋮ | ⋮ |\n| South Africa   | 11 | 9 |\n| Ireland        | 10 | 8 |\n| Senegal        | 10 | 7 |\n| Iran           |  8 | 8 |\n| North Korea    |  6 | 5 |\n| Norway         |  6 | 5 |\n| Serbia         |  6 | 6 |\n| Cuba           |  5 | 4 |\n| Egypt          |  5 | 3 |\n| Greece         |  5 | 5 |\n| Slovakia       |  5 | 2 |\n| Slovenia       |  5 | 5 |\n| Ukraine        |  5 | 4 |\n| Bosnia Herz    |  4 | 4 |\n| New Zealand    |  4 | 4 |\n| Wales          |  4 | 3 |\n| Czech Republic |  3 | 2 |\n| Honduras       |  3 | 3 |\n| Jamaica        |  3 | 2 |\n| Haiti          |  2 | 1 |\n| Iceland        |  2 | 2 |\n| Kuwait         |  2 | 2 |\n| UAE            |  2 | 2 |\n| Angola         |  1 | 1 |\n| Bolivia        |  1 | 1 |\n| El Salvador    |  1 | 1 |\n| Iraq           |  1 | 1 |\n| Israel         |  1 | 1 |\n| Panama         |  1 | 1 |\n| Togo           |  1 | 1 |\n\n",
            "text/latex": "A tibble: 76 × 3\n\\begin{tabular}{lll}\n Country & tot\\_goals & tot\\_player\\\\\n <chr> & <int> & <int>\\\\\n\\hline\n\t Brazil      & 227 & 81\\\\\n\t Germany     & 226 & 78\\\\\n\t Argentina   & 135 & 59\\\\\n\t Italy       & 123 & 60\\\\\n\t France      & 115 & 58\\\\\n\t Spain       &  96 & 48\\\\\n\t England     &  89 & 46\\\\\n\t Uruguay     &  86 & 39\\\\\n\t Hungary     &  85 & 36\\\\\n\t Netherlands &  84 & 39\\\\\n\t Sweden      &  78 & 39\\\\\n\t Belgium     &  65 & 37\\\\\n\t Yugoslavia  &  61 & 38\\\\\n\t Mexico      &  60 & 42\\\\\n\t USSR        &  52 & 30\\\\\n\t Switzerland &  50 & 28\\\\\n\t Poland      &  46 & 18\\\\\n\t Portugal    &  46 & 22\\\\\n\t Czech       &  44 & 22\\\\\n\t Austria     &  40 & 23\\\\\n\t Chile       &  40 & 24\\\\\n\t USA         &  34 & 20\\\\\n\t South Korea &  33 & 22\\\\\n\t Croatia     &  31 & 16\\\\\n\t Colombia    &  30 & 19\\\\\n\t Denmark     &  30 & 18\\\\\n\t Romania     &  30 & 17\\\\\n\t Paraguay    &  28 & 20\\\\\n\t Russia      &  23 & 13\\\\\n\t Scotland    &  23 & 18\\\\\n\t ⋮ & ⋮ & ⋮\\\\\n\t South Africa   & 11 & 9\\\\\n\t Ireland        & 10 & 8\\\\\n\t Senegal        & 10 & 7\\\\\n\t Iran           &  8 & 8\\\\\n\t North Korea    &  6 & 5\\\\\n\t Norway         &  6 & 5\\\\\n\t Serbia         &  6 & 6\\\\\n\t Cuba           &  5 & 4\\\\\n\t Egypt          &  5 & 3\\\\\n\t Greece         &  5 & 5\\\\\n\t Slovakia       &  5 & 2\\\\\n\t Slovenia       &  5 & 5\\\\\n\t Ukraine        &  5 & 4\\\\\n\t Bosnia Herz    &  4 & 4\\\\\n\t New Zealand    &  4 & 4\\\\\n\t Wales          &  4 & 3\\\\\n\t Czech Republic &  3 & 2\\\\\n\t Honduras       &  3 & 3\\\\\n\t Jamaica        &  3 & 2\\\\\n\t Haiti          &  2 & 1\\\\\n\t Iceland        &  2 & 2\\\\\n\t Kuwait         &  2 & 2\\\\\n\t UAE            &  2 & 2\\\\\n\t Angola         &  1 & 1\\\\\n\t Bolivia        &  1 & 1\\\\\n\t El Salvador    &  1 & 1\\\\\n\t Iraq           &  1 & 1\\\\\n\t Israel         &  1 & 1\\\\\n\t Panama         &  1 & 1\\\\\n\t Togo           &  1 & 1\\\\\n\\end{tabular}\n",
            "text/plain": [
              "   Country        tot_goals tot_player\n",
              "1  Brazil         227       81        \n",
              "2  Germany        226       78        \n",
              "3  Argentina      135       59        \n",
              "4  Italy          123       60        \n",
              "5  France         115       58        \n",
              "6  Spain           96       48        \n",
              "7  England         89       46        \n",
              "8  Uruguay         86       39        \n",
              "9  Hungary         85       36        \n",
              "10 Netherlands     84       39        \n",
              "11 Sweden          78       39        \n",
              "12 Belgium         65       37        \n",
              "13 Yugoslavia      61       38        \n",
              "14 Mexico          60       42        \n",
              "15 USSR            52       30        \n",
              "16 Switzerland     50       28        \n",
              "17 Poland          46       18        \n",
              "18 Portugal        46       22        \n",
              "19 Czech           44       22        \n",
              "20 Austria         40       23        \n",
              "21 Chile           40       24        \n",
              "22 USA             34       20        \n",
              "23 South Korea     33       22        \n",
              "24 Croatia         31       16        \n",
              "25 Colombia        30       19        \n",
              "26 Denmark         30       18        \n",
              "27 Romania         30       17        \n",
              "28 Paraguay        28       20        \n",
              "29 Russia          23       13        \n",
              "30 Scotland        23       18        \n",
              "⋮  ⋮              ⋮         ⋮         \n",
              "47 South Africa   11        9         \n",
              "48 Ireland        10        8         \n",
              "49 Senegal        10        7         \n",
              "50 Iran            8        8         \n",
              "51 North Korea     6        5         \n",
              "52 Norway          6        5         \n",
              "53 Serbia          6        6         \n",
              "54 Cuba            5        4         \n",
              "55 Egypt           5        3         \n",
              "56 Greece          5        5         \n",
              "57 Slovakia        5        2         \n",
              "58 Slovenia        5        5         \n",
              "59 Ukraine         5        4         \n",
              "60 Bosnia Herz     4        4         \n",
              "61 New Zealand     4        4         \n",
              "62 Wales           4        3         \n",
              "63 Czech Republic  3        2         \n",
              "64 Honduras        3        3         \n",
              "65 Jamaica         3        2         \n",
              "66 Haiti           2        1         \n",
              "67 Iceland         2        2         \n",
              "68 Kuwait          2        2         \n",
              "69 UAE             2        2         \n",
              "70 Angola          1        1         \n",
              "71 Bolivia         1        1         \n",
              "72 El Salvador     1        1         \n",
              "73 Iraq            1        1         \n",
              "74 Israel          1        1         \n",
              "75 Panama          1        1         \n",
              "76 Togo            1        1         "
            ]
          },
          "metadata": {}
        }
      ]
    },
    {
      "cell_type": "markdown",
      "source": [
        "- `step3)` tm 패키지를 이용해서 월드컵 출전회수 column을 추가"
      ],
      "metadata": {
        "id": "CxLfRct4KH3d"
      }
    },
    {
      "cell_type": "code",
      "source": [
        "year<-VCorpus(VectorSource(df[,3]))"
      ],
      "metadata": {
        "id": "NyN8rJitKOWR"
      },
      "execution_count": 85,
      "outputs": []
    },
    {
      "cell_type": "code",
      "source": [
        "#year[[3]]$content"
      ],
      "metadata": {
        "id": "2JUDvNNYNgl6",
        "outputId": "b0c54f52-d1a6-4575-fb4a-c20d8d241a61",
        "colab": {
          "base_uri": "https://localhost:8080/",
          "height": 35
        }
      },
      "execution_count": 68,
      "outputs": [
        {
          "output_type": "display_data",
          "data": {
            "text/html": [
              "'1970-1974'"
            ],
            "text/markdown": "'1970-1974'",
            "text/latex": "'1970-1974'",
            "text/plain": [
              "[1] \"1970-1974\""
            ]
          },
          "metadata": {}
        }
      ]
    },
    {
      "cell_type": "code",
      "source": [
        "nchar( tm_map(year, removePunctuation) )"
      ],
      "metadata": {
        "id": "Q0Pa2Ye4PoEB",
        "outputId": "05aa4b46-606b-4e20-f8dc-92bd17880021",
        "colab": {
          "base_uri": "https://localhost:8080/",
          "height": 35
        }
      },
      "execution_count": 94,
      "outputs": [
        {
          "output_type": "display_data",
          "data": {
            "text/html": [
              "<style>\n",
              ".dl-inline {width: auto; margin:0; padding: 0}\n",
              ".dl-inline>dt, .dl-inline>dd {float: none; width: auto; display: inline-block}\n",
              ".dl-inline>dt::after {content: \":\\0020\"; padding-right: .5ex}\n",
              ".dl-inline>dt:not(:first-of-type) {padding-left: .5ex}\n",
              "</style><dl class=dl-inline><dt>content</dt><dd>390969</dd><dt>meta</dt><dd>6</dd><dt>dmeta</dt><dd>6</dd></dl>\n"
            ],
            "text/markdown": "content\n:   390969meta\n:   6dmeta\n:   6\n\n",
            "text/latex": "\\begin{description*}\n\\item[content] 390969\n\\item[meta] 6\n\\item[dmeta] 6\n\\end{description*}\n",
            "text/plain": [
              "content    meta   dmeta \n",
              " 390969       6       6 "
            ]
          },
          "metadata": {}
        }
      ]
    },
    {
      "cell_type": "code",
      "source": [
        "df$count <- sapply(tm_map(year, removePunctuation) ,nchar)"
      ],
      "metadata": {
        "id": "rWeN3yS1PoqM",
        "outputId": "2cf1ee3a-3809-478a-9ed0-f42220c20aa1",
        "colab": {
          "base_uri": "https://localhost:8080/",
          "height": 1000
        }
      },
      "execution_count": 95,
      "outputs": [
        {
          "output_type": "error",
          "ename": "ERROR",
          "evalue": "ignored",
          "traceback": [
            "Error in `$<-.data.frame`(`*tmp*`, count, value = structure(c(16L, 260L, : replacement has 2 rows, data has 1295\nTraceback:\n",
            "1. `$<-`(`*tmp*`, count, value = structure(c(16L, 260L, 12L, 260L, \n . 8L, 260L, 4L, 260L, 16L, 257L, 12L, 260L, 4L, 260L, 12L, 260L, \n . 8L, 260L, 8L, 260L, 8L, 261L, 12L, 261L, 12L, 261L, 4L, 261L, \n . 12L, 261L, 8L, 261L, 12L, 261L, 16L, 261L, 12L, 261L, 8L, 261L, \n . 8L, 261L, 4L, 261L, 12L, 261L, 16L, 261L, 4L, 260L, 8L, 261L, \n . 8L, 259L, 12L, 261L, 8L, 261L, 8L, 261L, 8L, 261L, 12L, 258L, \n . 8L, 260L, 8L, 261L, 12L, 260L, 16L, 261L, 12L, 261L, 12L, 261L, \n . 16L, 261L, 4L, 261L, 8L, 261L, 8L, 261L, 12L, 261L, 8L, 261L, \n . 4L, 261L, 8L, 261L, 4L, 261L, 16L, 261L, 12L, 261L, 16L, 261L, \n . 4L, 261L, 12L, 261L, 8L, 261L, 4L, 261L, 8L, 261L, 8L, 261L, \n . 12L, 260L, 12L, 261L, 12L, 261L, 12L, 261L, 4L, 261L, 4L, 261L, \n . 8L, 261L, 8L, 261L, 12L, 261L, 8L, 261L, 8L, 261L, 12L, 261L, \n . 12L, 260L, 8L, 261L, 8L, 261L, 1L, 261L, 8L, 261L, 8L, 261L, \n . 4L, 261L, 8L, 260L, 8L, 261L, 12L, 261L, 12L, 261L, 12L, 261L, \n . 8L, 261L, 4L, 261L, 4L, 260L, 8L, 260L, 4L, 260L, 4L, 261L, 8L, \n . 261L, 12L, 261L, 8L, 261L, 12L, 261L, 4L, 260L, 12L, 261L, 4L, \n . 261L, 8L, 261L, 12L, 261L, 8L, 261L, 8L, 261L, 12L, 261L, 12L, \n . 261L, 8L, 262L, 4L, 262L, 8L, 261L, 12L, 262L, 4L, 262L, 8L, \n . 262L, 4L, 262L, 8L, 262L, 4L, 262L, 4L, 262L, 4L, 261L, 12L, \n . 262L, 12L, 262L, 4L, 261L, 4L, 262L, 4L, 262L, 12L, 262L, 8L, \n . 262L, 12L, 262L, 8L, 262L, 4L, 262L, 4L, 262L, 8L, 262L, 4L, \n . 262L, 8L, 262L, 8L, 262L, 8L, 262L, 4L, 262L, 4L, 261L, 12L, \n . 262L, 8L, 262L, 12L, 262L, 8L, 262L, 8L, 261L, 4L, 262L, 8L, \n . 262L, 8L, 262L, 4L, 262L, 4L, 262L, 8L, 262L, 12L, 262L, 4L, \n . 262L, 8L, 262L, 4L, 262L, 8L, 262L, 4L, 262L, 12L, 262L, 4L, \n . 261L, 8L, 262L, 4L, 262L, 8L, 262L, 4L, 262L, 4L, 262L, 12L, \n . 262L, 4L, 261L, 4L, 262L, 4L, 262L, 8L, 262L, 4L, 262L, 4L, 262L, \n . 4L, 262L, 8L, 261L, 4L, 262L, 8L, 262L, 4L, 262L, 8L, 262L, 8L, \n . 261L, 8L, 262L, 4L, 262L, 4L, 262L, 4L, 262L, 8L, 262L, 4L, 262L, \n . 16L, 262L, 4L, 262L, 8L, 262L, 12L, 262L, 4L, 262L, 12L, 262L, \n . 4L, 262L, 4L, 262L, 4L, 262L, 4L, 262L, 4L, 262L, 4L, 262L, 8L, \n . 261L, 8L, 262L, 4L, 262L, 8L, 262L, 8L, 262L, 4L, 262L, 1L, 262L, \n . 8L, 261L, 4L, 262L, 12L, 262L, 8L, 262L, 4L, 262L, 4L, 262L, \n . 4L, 262L, 4L, 262L, 8L, 262L, 8L, 262L, 8L, 261L, 8L, 262L, 8L, \n . 262L, 8L, 261L, 12L, 262L, 12L, 262L, 4L, 262L, 8L, 262L, 4L, \n . 262L, 1L, 262L, 8L, 262L, 4L, 262L, 8L, 261L, 4L, 262L, 8L, 262L, \n . 16L, 262L, 12L, 262L, 16L, 262L, 4L, 262L, 4L, 262L, 8L, 262L, \n . 4L, 262L, 4L, 262L, 12L, 262L, 4L, 262L, 16L, 262L, 12L, 262L, \n . 4L, 262L, 8L, 262L, 8L, 262L, 12L, 262L, 4L, 262L, 4L, 262L, \n . 12L, 262L, 4L, 262L, 8L, 262L, 4L, 262L, 4L, 262L, 4L, 262L, \n . 4L, 262L, 8L, 262L, 4L, 262L, 4L, 262L, 4L, 262L, 4L, 262L, 4L, \n . 261L, 4L, 261L, 12L, 262L, 4L, 262L, 4L, 262L, 4L, 262L, 4L, \n . 262L, 12L, 262L, 8L, 262L, 4L, 262L, 8L, 262L, 4L, 262L, 4L, \n . 261L, 4L, 262L, 8L, 262L, 8L, 262L, 12L, 262L, 8L, 262L, 4L, \n . 262L, 4L, 262L, 4L, 262L, 4L, 261L, 4L, 262L, 4L, 262L, 8L, 262L, \n . 8L, 262L, 8L, 262L, 8L, 262L, 8L, 262L, 4L, 262L, 8L, 262L, 8L, \n . 262L, 8L, 262L, 12L, 262L, 4L, 262L, 8L, 260L, 4L, 262L, 4L, \n . 262L, 4L, 262L, 8L, 262L, 4L, 260L, 4L, 262L, 4L, 262L, 4L, 262L, \n . 4L, 262L, 8L, 260L, 8L, 260L, 4L, 262L, 4L, 262L, 8L, 262L, 8L, \n . 262L, 4L, 262L, 8L, 262L, 8L, 262L, 4L, 262L, 12L, 262L, 8L, \n . 262L, 4L, 262L, 8L, 262L, 8L, 262L, 12L, 261L, 8L, 262L, 4L, \n . 262L, 4L, 262L, 4L, 262L, 4L, 262L, 4L, 262L, 4L, 262L, 8L, 262L, \n . 4L, 262L, 4L, 262L, 8L, 262L, 4L, 262L, 4L, 261L, 8L, 262L, 8L, \n . 262L, 4L, 262L, 4L, 262L, 12L, 262L, 4L, 262L, 4L, 262L, 4L, \n . 262L, 4L, 262L, 4L, 262L, 4L, 262L, 8L, 262L, 4L, 261L, 4L, 262L, \n . 4L, 262L, 8L, 262L, 8L, 262L, 8L, 262L, 8L, 262L, 4L, 262L, 4L, \n . 261L, 4L, 262L, 12L, 262L, 4L, 262L, 4L, 262L, 4L, 262L, 8L, \n . 262L, 12L, 262L, 4L, 261L, 4L, 262L, 4L, 262L, 4L, 262L, 8L, \n . 262L, 8L, 262L, 8L, 262L, 4L, 262L, 12L, 261L, 12L, 262L, 8L, \n . 262L, 4L, 262L, 4L, 262L, 8L, 262L, 8L, 262L, 4L, 262L, 4L, 262L, \n . 4L, 262L, 8L, 262L, 8L, 262L, 4L, 262L, 8L, 262L, 8L, 262L, 8L, \n . 261L, 4L, 262L, 4L, 262L, 8L, 262L, 4L, 262L, 8L, 262L, 4L, 262L, \n . 8L, 261L, 8L, 262L, 4L, 262L, 4L, 262L, 4L, 262L, 8L, 261L, 8L, \n . 262L, 4L, 262L, 4L, 262L, 8L, 262L, 4L, 262L, 12L, 262L, 8L, \n . 262L, 8L, 262L, 8L, 262L, 8L, 262L, 8L, 261L, 4L, 262L, 4L, 262L, \n . 12L, 262L, 4L, 262L, 8L, 261L, 12L, 262L, 8L, 262L, 4L, 262L, \n . 4L, 262L, 1L, 262L, 4L, 262L, 4L, 262L, 4L, 262L, 4L, 262L, 4L, \n . 262L, 4L, 262L, 4L, 262L, 8L, 262L, 8L, 262L, 4L, 262L, 8L, 262L, \n . 8L, 262L, 8L, 262L, 4L, 262L, 8L, 262L, 4L, 261L, 4L, 262L, 4L, \n . 262L, 8L, 262L, 8L, 262L, 4L, 262L, 4L, 262L, 4L, 262L, 4L, 262L, \n . 4L, 262L, 4L, 262L, 4L, 262L, 4L, 262L, 8L, 262L, 4L, 262L, 8L, \n . 262L, 8L, 262L, 4L, 262L, 8L, 262L, 8L, 262L, 4L, 262L, 8L, 262L, \n . 8L, 262L, 4L, 262L, 8L, 262L, 8L, 262L, 12L, 262L, 4L, 262L, \n . 4L, 262L, 4L, 261L, 4L, 262L, 8L, 261L, 16L, 261L, 12L, 262L, \n . 4L, 262L, 4L, 261L, 8L, 262L, 12L, 262L, 4L, 261L, 12L, 262L, \n . 4L, 262L, 8L, 262L, 4L, 261L, 4L, 262L, 4L, 262L, 4L, 262L, 4L, \n . 262L, 4L, 262L, 8L, 262L, 8L, 262L, 4L, 262L, 8L, 262L, 4L, 262L, \n . 4L, 262L, 4L, 262L, 4L, 262L, 4L, 261L, 4L, 262L, 4L, 262L, 12L, \n . 262L, 4L, 262L, 4L, 262L, 4L, 262L, 8L, 262L, 4L, 262L, 4L, 262L, \n . 4L, 262L, 4L, 262L, 4L, 262L, 8L, 262L, 4L, 262L, 4L, 262L, 4L, \n . 262L, 4L, 262L, 4L, 262L, 4L, 262L, 4L, 262L, 8L, 262L, 4L, 262L, \n . 8L, 262L, 4L, 262L, 4L, 262L, 4L, 262L, 4L, 262L, 8L, 262L, 1L, \n . 262L, 4L, 262L, 8L, 262L, 4L, 262L, 4L, 262L, 8L, 261L, 4L, 262L, \n . 8L, 261L, 4L, 262L, 4L, 262L, 4L, 262L, 4L, 262L, 4L, 262L, 4L, \n . 261L, 4L, 262L, 4L, 262L, 4L, 262L, 8L, 262L, 4L, 262L, 8L, 262L, \n . 4L, 262L, 4L, 262L, 4L, 262L, 4L, 262L, 4L, 262L, 4L, 261L, 4L, \n . 261L, 12L, 262L, 4L, 262L, 4L, 262L, 4L, 261L, 8L, 261L, 4L, \n . 262L, 4L, 262L, 8L, 262L, 4L, 262L, 8L, 262L, 8L, 261L, 4L, 261L, \n . 1L, 261L, 4L, 262L, 8L, 262L, 8L, 262L, 8L, 262L, 4L, 262L, 8L, \n . 259L, 8L, 262L, 4L, 262L, 4L, 261L, 4L, 262L, 4L, 262L, 4L, 262L, \n . 4L, 262L, 4L, 262L, 4L, 262L, 4L, 262L, 4L, 262L, 4L, 261L, 4L, \n . 262L, 12L, 262L, 8L, 262L, 12L, 262L, 4L, 262L, 4L, 262L, 4L, \n . 262L, 8L, 262L, 4L, 262L, 4L, 262L, 4L, 262L, 8L, 262L, 8L, 261L, \n . 8L, 262L, 4L, 262L, 4L, 262L, 4L, 262L, 4L, 262L, 4L, 261L, 4L, \n . 262L, 4L, 262L, 4L, 262L, 4L, 262L, 4L, 262L, 8L, 262L, 12L, \n . 262L, 12L, 262L, 4L, 262L, 8L, 262L, 4L, 262L, 4L, 262L, 4L, \n . 262L, 4L, 262L, 8L, 262L, 8L, 262L, 4L, 262L, 8L, 262L, 4L, 262L, \n . 12L, 262L, 4L, 262L, 4L, 262L, 8L, 262L, 4L, 262L, 4L, 262L, \n . 4L, 262L, 4L, 262L, 4L, 262L, 4L, 262L, 16L, 262L, 12L, 262L, \n . 4L, 262L, 4L, 262L, 8L, 261L, 8L, 262L, 12L, 262L, 4L, 262L, \n . 4L, 262L, 8L, 262L, 8L, 260L, 1L, 262L, 8L, 262L, 1L, 262L, 1L, \n . 262L, 8L, 262L, 4L, 262L, 4L, 261L, 8L, 262L, 4L, 262L, 4L, 262L, \n . 4L, 262L, 4L, 262L, 4L, 262L, 4L, 261L, 4L, 261L, 4L, 262L, 4L, \n . 262L, 4L, 262L, 1L, 262L, 4L, 262L, 4L, 262L, 4L, 261L, 4L, 262L, \n . 4L, 262L, 4L, 262L, 4L, 261L, 4L, 262L, 4L, 262L, 4L, 262L, 1L, \n . 262L, 1L, 262L, 4L, 262L, 12L, 262L, 12L, 262L, 4L, 262L, 4L, \n . 262L, 4L, 262L, 4L, 262L, 4L, 262L, 4L, 262L, 1L, 262L, 4L, 262L, \n . 4L, 262L, 4L, 262L, 4L, 262L, 4L, 262L, 4L, 262L, 4L, 262L, 8L, \n . 262L, 8L, 261L, 4L, 262L, 8L, 262L, 8L, 262L, 4L, 262L, 4L, 262L, \n . 4L, 262L, 4L, 262L, 4L, 262L, 8L, 262L, 4L, 262L, 4L, 262L, 4L, \n . 262L, 4L, 262L, 4L, 262L, 4L, 262L, 4L, 262L, 4L, 262L, 4L, 262L, \n . 8L, 262L, 4L, 262L, 1L, 262L, 4L, 262L, 8L, 262L, 4L, 262L, 4L, \n . 262L, 4L, 262L, 4L, 261L, 1L, 262L, 4L, 262L, 8L, 261L, 12L, \n . 261L, 4L, 262L, 4L, 262L, 1L, 262L, 4L, 262L, 4L, 262L, 4L, 262L, \n . 8L, 262L, 8L, 262L, 8L, 262L, 4L, 262L, 1L, 262L, 4L, 262L, 4L, \n . 262L, 8L, 262L, 12L, 262L, 4L, 262L, 12L, 262L, 8L, 262L, 4L, \n . 262L, 8L, 262L, 8L, 262L, 8L, 262L, 8L, 262L, 4L, 262L, 4L, 262L, \n . 4L, 261L, 4L, 262L, 4L, 262L, 4L, 262L, 8L, 262L, 4L, 262L, 4L, \n . 262L, 8L, 262L, 4L, 261L, 4L, 262L, 4L, 262L, 4L, 262L, 4L, 262L, \n . 8L, 262L, 4L, 262L, 4L, 262L, 12L, 262L, 4L, 262L, 4L, 262L, \n . 8L, 262L, 4L, 262L, 1L, 262L, 4L, 262L, 4L, 262L, 4L, 262L, 4L, \n . 261L, 4L, 262L, 4L, 262L, 4L, 262L, 8L, 262L, 4L, 262L, 4L, 262L, \n . 8L, 262L, 8L, 262L, 8L, 262L, 4L, 262L, 4L, 262L, 8L, 262L, 4L, \n . 262L, 4L, 262L, 8L, 262L, 8L, 262L, 12L, 261L, 4L, 262L, 4L, \n . 262L, 4L, 262L, 8L, 262L, 4L, 262L, 4L, 262L, 4L, 262L, 4L, 262L, \n . 8L, 262L, 8L, 262L, 4L, 262L, 4L, 262L, 4L, 261L, 4L, 262L, 8L, \n . 262L, 8L, 262L, 4L, 262L, 8L, 261L, 4L, 262L, 8L, 261L, 4L, 262L, \n . 4L, 262L, 8L, 262L, 4L, 262L, 4L, 262L, 4L, 262L, 8L, 262L, 8L, \n . 262L, 4L, 262L, 8L, 262L, 4L, 262L, 4L, 262L, 1L, 262L, 8L, 262L, \n . 4L, 262L, 4L, 262L, 1L, 262L, 4L, 262L, 8L, 262L, 8L, 262L, 16L, \n . 262L, 4L, 262L, 4L, 262L, 8L, 261L, 8L, 262L, 8L, 262L, 4L, 261L, \n . 4L, 262L, 4L, 262L, 4L, 262L, 4L, 262L, 4L, 262L, 4L, 262L, 4L, \n . 262L, 1L, 262L, 4L, 262L, 4L, 260L, 8L, 262L, 4L, 262L, 4L, 262L, \n . 4L, 262L, 4L, 262L, 4L, 262L, 8L, 261L, 1L, 262L, 4L, 262L, 1L, \n . 262L, 4L, 262L, 4L, 262L, 8L, 262L, 1L, 262L, 8L, 262L, 8L, 262L, \n . 4L, 262L, 4L, 262L, 4L, 262L, 4L, 262L, 4L, 262L, 4L, 262L, 4L, \n . 262L, 4L, 262L, 4L, 262L, 8L, 262L, 1L, 262L, 4L, 262L, 1L, 262L, \n . 4L, 262L, 4L, 262L, 4L, 262L, 8L, 262L, 8L, 262L, 4L, 262L, 4L, \n . 262L, 4L, 262L, 4L, 262L, 4L, 262L, 8L, 261L, 12L, 262L, 12L, \n . 262L, 4L, 262L, 12L, 262L, 8L, 262L, 8L, 262L, 8L, 262L, 4L, \n . 262L, 4L, 262L, 4L, 262L, 4L, 262L, 4L, 261L, 4L, 262L, 8L, 262L, \n . 4L, 262L, 4L, 262L, 4L, 262L, 8L, 262L, 4L, 262L, 4L, 262L, 4L, \n . 262L, 12L, 262L, 4L, 262L, 8L, 262L, 4L, 262L, 8L, 262L, 4L, \n . 262L, 1L, 261L, 8L, 261L, 4L, 262L, 12L, 261L, 1L, 262L, 4L, \n . 262L, 4L, 262L, 4L, 262L, 4L, 262L, 8L, 262L, 12L, 262L, 8L, \n . 262L, 4L, 261L, 4L, 262L, 8L, 262L, 4L, 260L, 4L, 262L, 4L, 262L, \n . 1L, 262L, 4L, 262L, 8L, 262L, 4L, 262L, 4L, 262L, 4L, 262L, 4L, \n . 262L, 8L, 262L, 4L, 262L, 4L, 262L, 4L, 262L, 8L, 262L, 4L, 262L, \n . 4L, 261L, 4L, 262L, 4L, 262L, 4L, 262L, 4L, 262L, 4L, 262L, 4L, \n . 262L, 8L, 262L, 4L, 262L, 4L, 262L, 12L, 262L, 4L, 262L, 12L, \n . 262L, 4L, 262L, 4L, 262L, 4L, 262L, 4L, 262L, 4L, 262L, 4L, 261L, \n . 4L, 262L, 8L, 262L, 4L, 261L, 4L, 262L, 4L, 260L, 4L, 262L, 4L, \n . 262L, 1L, 262L, 4L, 262L, 4L, 262L, 4L, 262L, 8L, 261L, 8L, 262L, \n . 8L, 262L, 1L, 262L, 8L, 262L, 4L, 262L, 8L, 262L, 1L, 262L, 8L, \n . 262L, 8L, 261L, 4L, 262L, 1L, 262L, 4L, 262L, 8L, 262L, 4L, 262L, \n . 12L, 261L, 4L, 262L, 4L, 261L, 4L, 262L, 4L, 262L, 4L, 262L, \n . 4L, 262L, 4L, 262L, 4L, 261L, 8L, 262L, 4L, 261L, 4L, 262L, 4L, \n . 262L, 8L, 262L, 1L, 262L, 4L, 262L, 4L, 262L, 8L, 262L, 4L, 262L, \n . 4L, 262L, 4L, 262L, 4L, 261L, 4L, 262L, 4L, 262L, 8L, 262L, 4L, \n . 262L, 4L, 262L, 4L, 262L, 4L, 263L, 4L, 263L, 4L, 263L, 8L, 263L, \n . 8L, 263L, 4L, 263L, 8L, 263L, 8L, 263L, 12L, 263L, 4L, 263L, \n . 4L, 263L, 4L, 263L, 4L, 263L, 8L, 262L, 4L, 263L, 4L, 263L, 4L, \n . 263L, 8L, 263L, 8L, 263L, 8L, 262L, 4L, 263L, 8L, 263L, 4L, 263L, \n . 8L, 263L, 4L, 263L, 8L, 263L, 1L, 263L, 8L, 263L, 4L, 263L, 4L, \n . 263L, 4L, 262L, 8L, 263L, 4L, 263L, 4L, 263L, 4L, 263L, 4L, 263L, \n . 4L, 263L, 4L, 263L, 8L, 262L, 4L, 263L, 8L, 263L, 4L, 263L, 4L, \n . 263L, 4L, 263L, 4L, 263L, 4L, 263L, 4L, 262L, 4L, 263L, 4L, 263L, \n . 4L, 263L, 4L, 263L, 4L, 262L, 4L, 263L, 4L, 263L, 4L, 263L, 4L, \n . 263L, 4L, 263L, 4L, 263L, 4L, 263L, 4L, 263L, 8L, 263L, 4L, 263L, \n . 4L, 263L, 4L, 263L, 4L, 263L, 4L, 262L, 4L, 263L, 4L, 263L, 1L, \n . 263L, 8L, 262L, 4L, 263L, 1L, 263L, 8L, 263L, 4L, 263L, 4L, 263L, \n . 4L, 263L, 4L, 263L, 4L, 262L, 4L, 263L, 4L, 263L, 4L, 263L, 4L, \n . 263L, 8L, 263L, 8L, 263L, 12L, 263L, 8L, 263L, 4L, 263L, 4L, \n . 263L, 4L, 263L, 4L, 262L, 4L, 263L, 4L, 263L, 4L, 263L, 4L, 262L, \n . 4L, 263L, 4L, 263L, 8L, 263L, 4L, 263L, 4L, 263L, 4L, 263L, 4L, \n . 263L, 4L, 263L, 4L, 263L, 8L, 263L, 4L, 263L, 4L, 263L, 4L, 263L, \n . 8L, 261L, 8L, 263L, 4L, 263L, 8L, 263L, 4L, 263L, 4L, 260L, 4L, \n . 262L, 4L, 263L, 4L, 263L, 8L, 263L, 8L, 263L, 4L, 262L, 8L, 263L, \n . 1L, 263L, 8L, 262L, 8L, 263L, 4L, 263L, 8L, 263L, 4L, 263L, 4L, \n . 261L, 4L, 263L, 1L, 262L, 4L, 263L, 4L, 263L, 4L, 263L, 4L, 263L, \n . 4L, 263L, 4L, 263L, 1L, 263L, 4L, 263L, 4L, 263L, 8L, 263L, 4L, \n . 263L, 4L, 263L, 4L, 263L, 4L, 263L, 4L, 263L, 4L, 262L, 8L, 263L, \n . 8L, 263L, 12L, 263L, 4L, 263L, 4L, 263L, 4L, 263L, 4L, 263L, \n . 4L, 263L, 4L, 263L, 8L, 263L, 8L, 263L, 4L, 263L, 4L, 263L, 4L, \n . 263L, 4L, 263L, 8L, 263L, 4L, 263L, 8L, 263L, 4L, 263L, 8L, 263L, \n . 8L, 263L, 8L, 263L, 4L, 263L, 4L, 263L, 8L, 263L, 1L, 263L, 8L, \n . 263L, 4L, 263L, 4L, 262L, 4L, 263L, 4L, 263L, 8L, 263L, 8L, 263L, \n . 4L, 263L, 4L, 263L, 4L, 263L, 4L, 263L, 4L, 263L, 4L, 263L, 4L, \n . 263L, 8L, 262L, 4L, 263L, 8L, 263L, 4L, 263L, 1L, 262L, 4L, 263L, \n . 4L, 263L, 4L, 263L, 4L, 263L, 4L, 263L, 4L, 261L, 4L, 263L, 4L, \n . 263L, 4L, 263L, 8L, 263L, 8L, 263L, 4L, 263L, 4L, 263L, 4L, 263L, \n . 4L, 263L, 4L, 263L, 4L, 263L, 4L, 263L, 4L, 263L, 4L, 262L, 4L, \n . 263L, 4L, 263L, 4L, 262L, 4L, 263L, 4L, 263L, 1L, 263L, 4L, 263L, \n . 1L, 263L, 4L, 262L, 12L, 263L, 8L, 263L, 4L, 263L, 8L, 262L, \n . 4L, 263L, 4L, 263L, 4L, 263L, 4L, 263L, 4L, 263L, 4L, 263L, 4L, \n . 263L, 4L, 263L, 4L, 263L, 4L, 263L, 16L, 263L, 4L, 263L, 4L, \n . 263L, 4L, 263L, 4L, 263L, 4L, 263L, 4L, 262L, 8L, 263L, 4L, 263L, \n . 4L, 263L, 4L, 262L, 4L, 263L, 4L, 263L, 4L, 263L, 8L, 263L, 12L, \n . 263L, 4L, 263L, 12L, 263L, 8L, 263L, 4L, 263L, 8L, 262L, 4L, \n . 262L, 4L, 263L, 8L, 263L, 4L, 263L, 4L, 263L, 4L, 263L, 4L, 263L, \n . 4L, 263L, 4L, 263L, 4L, 263L, 8L, 263L, 8L, 263L, 4L, 263L, 4L, \n . 263L, 4L, 263L, 1L, 263L, 4L, 262L, 4L, 263L, 4L, 263L, 8L, 263L, \n . 4L, 263L, 4L, 263L, 4L, 263L, 4L, 263L, 4L, 263L, 4L, 263L, 4L, \n . 263L, 4L, 263L, 8L, 263L, 4L, 263L, 4L, 263L, 4L, 263L, 4L, 262L, \n . 8L, 263L, 4L, 263L, 4L, 263L, 4L, 263L, 4L, 262L, 8L, 263L, 4L, \n . 263L, 4L, 263L, 8L, 263L), dim = c(2L, 1295L), dimnames = list(\n .     c(\"content\", \"meta\"), c(\"1\", \"2\", \"3\", \"4\", \"5\", \"6\", \"7\", \n .     \"8\", \"9\", \"10\", \"11\", \"12\", \"13\", \"14\", \"15\", \"16\", \"17\", \n .     \"18\", \"19\", \"20\", \"21\", \"22\", \"23\", \"24\", \"25\", \"26\", \"27\", \n .     \"28\", \"29\", \"30\", \"31\", \"32\", \"33\", \"34\", \"35\", \"36\", \"37\", \n .     \"38\", \"39\", \"40\", \"41\", \"42\", \"43\", \"44\", \"45\", \"46\", \"47\", \n .     \"48\", \"49\", \"50\", \"51\", \"52\", \"53\", \"54\", \"55\", \"56\", \"57\", \n .     \"58\", \"59\", \"60\", \"61\", \"62\", \"63\", \"64\", \"65\", \"66\", \"67\", \n .     \"68\", \"69\", \"70\", \"71\", \"72\", \"73\", \"74\", \"75\", \"76\", \"77\", \n .     \"78\", \"79\", \"80\", \"81\", \"82\", \"83\", \"84\", \"85\", \"86\", \"87\", \n .     \"88\", \"89\", \"90\", \"91\", \"92\", \"93\", \"94\", \"95\", \"96\", \"97\", \n .     \"98\", \"99\", \"100\", \"101\", \"102\", \"103\", \"104\", \"105\", \"106\", \n .     \"107\", \"108\", \"109\", \"110\", \"111\", \"112\", \"113\", \"114\", \"115\", \n .     \"116\", \"117\", \"118\", \"119\", \"120\", \"121\", \"122\", \"123\", \"124\", \n .     \"125\", \"126\", \"127\", \"128\", \"129\", \"130\", \"131\", \"132\", \"133\", \n .     \"134\", \"135\", \"136\", \"137\", \"138\", \"139\", \"140\", \"141\", \"142\", \n .     \"143\", \"144\", \"145\", \"146\", \"147\", \"148\", \"149\", \"150\", \"151\", \n .     \"152\", \"153\", \"154\", \"155\", \"156\", \"157\", \"158\", \"159\", \"160\", \n .     \"161\", \"162\", \"163\", \"164\", \"165\", \"166\", \"167\", \"168\", \"169\", \n .     \"170\", \"171\", \"172\", \"173\", \"174\", \"175\", \"176\", \"177\", \"178\", \n .     \"179\", \"180\", \"181\", \"182\", \"183\", \"184\", \"185\", \"186\", \"187\", \n .     \"188\", \"189\", \"190\", \"191\", \"192\", \"193\", \"194\", \"195\", \"196\", \n .     \"197\", \"198\", \"199\", \"200\", \"201\", \"202\", \"203\", \"204\", \"205\", \n .     \"206\", \"207\", \"208\", \"209\", \"210\", \"211\", \"212\", \"213\", \"214\", \n .     \"215\", \"216\", \"217\", \"218\", \"219\", \"220\", \"221\", \"222\", \"223\", \n .     \"224\", \"225\", \"226\", \"227\", \"228\", \"229\", \"230\", \"231\", \"232\", \n .     \"233\", \"234\", \"235\", \"236\", \"237\", \"238\", \"239\", \"240\", \"241\", \n .     \"242\", \"243\", \"244\", \"245\", \"246\", \"247\", \"248\", \"249\", \"250\", \n .     \"251\", \"252\", \"253\", \"254\", \"255\", \"256\", \"257\", \"258\", \"259\", \n .     \"260\", \"261\", \"262\", \"263\", \"264\", \"265\", \"266\", \"267\", \"268\", \n .     \"269\", \"270\", \"271\", \"272\", \"273\", \"274\", \"275\", \"276\", \"277\", \n .     \"278\", \"279\", \"280\", \"281\", \"282\", \"283\", \"284\", \"285\", \"286\", \n .     \"287\", \"288\", \"289\", \"290\", \"291\", \"292\", \"293\", \"294\", \"295\", \n .     \"296\", \"297\", \"298\", \"299\", \"300\", \"301\", \"302\", \"303\", \"304\", \n .     \"305\", \"306\", \"307\", \"308\", \"309\", \"310\", \"311\", \"312\", \"313\", \n .     \"314\", \"315\", \"316\", \"317\", \"318\", \"319\", \"320\", \"321\", \"322\", \n .     \"323\", \"324\", \"325\", \"326\", \"327\", \"328\", \"329\", \"330\", \"331\", \n .     \"332\", \"333\", \"334\", \"335\", \"336\", \"337\", \"338\", \"339\", \"340\", \n .     \"341\", \"342\", \"343\", \"344\", \"345\", \"346\", \"347\", \"348\", \"349\", \n .     \"350\", \"351\", \"352\", \"353\", \"354\", \"355\", \"356\", \"357\", \"358\", \n .     \"359\", \"360\", \"361\", \"362\", \"363\", \"364\", \"365\", \"366\", \"367\", \n .     \"368\", \"369\", \"370\", \"371\", \"372\", \"373\", \"374\", \"375\", \"376\", \n .     \"377\", \"378\", \"379\", \"380\", \"381\", \"382\", \"383\", \"384\", \"385\", \n .     \"386\", \"387\", \"388\", \"389\", \"390\", \"391\", \"392\", \"393\", \"394\", \n .     \"395\", \"396\", \"397\", \"398\", \"399\", \"400\", \"401\", \"402\", \"403\", \n .     \"404\", \"405\", \"406\", \"407\", \"408\", \"409\", \"410\", \"411\", \"412\", \n .     \"413\", \"414\", \"415\", \"416\", \"417\", \"418\", \"419\", \"420\", \"421\", \n .     \"422\", \"423\", \"424\", \"425\", \"426\", \"427\", \"428\", \"429\", \"430\", \n .     \"431\", \"432\", \"433\", \"434\", \"435\", \"436\", \"437\", \"438\", \"439\", \n .     \"440\", \"441\", \"442\", \"443\", \"444\", \"445\", \"446\", \"447\", \"448\", \n .     \"449\", \"450\", \"451\", \"452\", \"453\", \"454\", \"455\", \"456\", \"457\", \n .     \"458\", \"459\", \"460\", \"461\", \"462\", \"463\", \"464\", \"465\", \"466\", \n .     \"467\", \"468\", \"469\", \"470\", \"471\", \"472\", \"473\", \"474\", \"475\", \n .     \"476\", \"477\", \"478\", \"479\", \"480\", \"481\", \"482\", \"483\", \"484\", \n .     \"485\", \"486\", \"487\", \"488\", \"489\", \"490\", \"491\", \"492\", \"493\", \n .     \"494\", \"495\", \"496\", \"497\", \"498\", \"499\", \"500\", \"501\", \"502\", \n .     \"503\", \"504\", \"505\", \"506\", \"507\", \"508\", \"509\", \"510\", \"511\", \n .     \"512\", \"513\", \"514\", \"515\", \"516\", \"517\", \"518\", \"519\", \"520\", \n .     \"521\", \"522\", \"523\", \"524\", \"525\", \"526\", \"527\", \"528\", \"529\", \n .     \"530\", \"531\", \"532\", \"533\", \"534\", \"535\", \"536\", \"537\", \"538\", \n .     \"539\", \"540\", \"541\", \"542\", \"543\", \"544\", \"545\", \"546\", \"547\", \n .     \"548\", \"549\", \"550\", \"551\", \"552\", \"553\", \"554\", \"555\", \"556\", \n .     \"557\", \"558\", \"559\", \"560\", \"561\", \"562\", \"563\", \"564\", \"565\", \n .     \"566\", \"567\", \"568\", \"569\", \"570\", \"571\", \"572\", \"573\", \"574\", \n .     \"575\", \"576\", \"577\", \"578\", \"579\", \"580\", \"581\", \"582\", \"583\", \n .     \"584\", \"585\", \"586\", \"587\", \"588\", \"589\", \"590\", \"591\", \"592\", \n .     \"593\", \"594\", \"595\", \"596\", \"597\", \"598\", \"599\", \"600\", \"601\", \n .     \"602\", \"603\", \"604\", \"605\", \"606\", \"607\", \"608\", \"609\", \"610\", \n .     \"611\", \"612\", \"613\", \"614\", \"615\", \"616\", \"617\", \"618\", \"619\", \n .     \"620\", \"621\", \"622\", \"623\", \"624\", \"625\", \"626\", \"627\", \"628\", \n .     \"629\", \"630\", \"631\", \"632\", \"633\", \"634\", \"635\", \"636\", \"637\", \n .     \"638\", \"639\", \"640\", \"641\", \"642\", \"643\", \"644\", \"645\", \"646\", \n .     \"647\", \"648\", \"649\", \"650\", \"651\", \"652\", \"653\", \"654\", \"655\", \n .     \"656\", \"657\", \"658\", \"659\", \"660\", \"661\", \"662\", \"663\", \"664\", \n .     \"665\", \"666\", \"667\", \"668\", \"669\", \"670\", \"671\", \"672\", \"673\", \n .     \"674\", \"675\", \"676\", \"677\", \"678\", \"679\", \"680\", \"681\", \"682\", \n .     \"683\", \"684\", \"685\", \"686\", \"687\", \"688\", \"689\", \"690\", \"691\", \n .     \"692\", \"693\", \"694\", \"695\", \"696\", \"697\", \"698\", \"699\", \"700\", \n .     \"701\", \"702\", \"703\", \"704\", \"705\", \"706\", \"707\", \"708\", \"709\", \n .     \"710\", \"711\", \"712\", \"713\", \"714\", \"715\", \"716\", \"717\", \"718\", \n .     \"719\", \"720\", \"721\", \"722\", \"723\", \"724\", \"725\", \"726\", \"727\", \n .     \"728\", \"729\", \"730\", \"731\", \"732\", \"733\", \"734\", \"735\", \"736\", \n .     \"737\", \"738\", \"739\", \"740\", \"741\", \"742\", \"743\", \"744\", \"745\", \n .     \"746\", \"747\", \"748\", \"749\", \"750\", \"751\", \"752\", \"753\", \"754\", \n .     \"755\", \"756\", \"757\", \"758\", \"759\", \"760\", \"761\", \"762\", \"763\", \n .     \"764\", \"765\", \"766\", \"767\", \"768\", \"769\", \"770\", \"771\", \"772\", \n .     \"773\", \"774\", \"775\", \"776\", \"777\", \"778\", \"779\", \"780\", \"781\", \n .     \"782\", \"783\", \"784\", \"785\", \"786\", \"787\", \"788\", \"789\", \"790\", \n .     \"791\", \"792\", \"793\", \"794\", \"795\", \"796\", \"797\", \"798\", \"799\", \n .     \"800\", \"801\", \"802\", \"803\", \"804\", \"805\", \"806\", \"807\", \"808\", \n .     \"809\", \"810\", \"811\", \"812\", \"813\", \"814\", \"815\", \"816\", \"817\", \n .     \"818\", \"819\", \"820\", \"821\", \"822\", \"823\", \"824\", \"825\", \"826\", \n .     \"827\", \"828\", \"829\", \"830\", \"831\", \"832\", \"833\", \"834\", \"835\", \n .     \"836\", \"837\", \"838\", \"839\", \"840\", \"841\", \"842\", \"843\", \"844\", \n .     \"845\", \"846\", \"847\", \"848\", \"849\", \"850\", \"851\", \"852\", \"853\", \n .     \"854\", \"855\", \"856\", \"857\", \"858\", \"859\", \"860\", \"861\", \"862\", \n .     \"863\", \"864\", \"865\", \"866\", \"867\", \"868\", \"869\", \"870\", \"871\", \n .     \"872\", \"873\", \"874\", \"875\", \"876\", \"877\", \"878\", \"879\", \"880\", \n .     \"881\", \"882\", \"883\", \"884\", \"885\", \"886\", \"887\", \"888\", \"889\", \n .     \"890\", \"891\", \"892\", \"893\", \"894\", \"895\", \"896\", \"897\", \"898\", \n .     \"899\", \"900\", \"901\", \"902\", \"903\", \"904\", \"905\", \"906\", \"907\", \n .     \"908\", \"909\", \"910\", \"911\", \"912\", \"913\", \"914\", \"915\", \"916\", \n .     \"917\", \"918\", \"919\", \"920\", \"921\", \"922\", \"923\", \"924\", \"925\", \n .     \"926\", \"927\", \"928\", \"929\", \"930\", \"931\", \"932\", \"933\", \"934\", \n .     \"935\", \"936\", \"937\", \"938\", \"939\", \"940\", \"941\", \"942\", \"943\", \n .     \"944\", \"945\", \"946\", \"947\", \"948\", \"949\", \"950\", \"951\", \"952\", \n .     \"953\", \"954\", \"955\", \"956\", \"957\", \"958\", \"959\", \"960\", \"961\", \n .     \"962\", \"963\", \"964\", \"965\", \"966\", \"967\", \"968\", \"969\", \"970\", \n .     \"971\", \"972\", \"973\", \"974\", \"975\", \"976\", \"977\", \"978\", \"979\", \n .     \"980\", \"981\", \"982\", \"983\", \"984\", \"985\", \"986\", \"987\", \"988\", \n .     \"989\", \"990\", \"991\", \"992\", \"993\", \"994\", \"995\", \"996\", \"997\", \n .     \"998\", \"999\", \"1000\", \"1001\", \"1002\", \"1003\", \"1004\", \"1005\", \n .     \"1006\", \"1007\", \"1008\", \"1009\", \"1010\", \"1011\", \"1012\", \"1013\", \n .     \"1014\", \"1015\", \"1016\", \"1017\", \"1018\", \"1019\", \"1020\", \"1021\", \n .     \"1022\", \"1023\", \"1024\", \"1025\", \"1026\", \"1027\", \"1028\", \"1029\", \n .     \"1030\", \"1031\", \"1032\", \"1033\", \"1034\", \"1035\", \"1036\", \"1037\", \n .     \"1038\", \"1039\", \"1040\", \"1041\", \"1042\", \"1043\", \"1044\", \"1045\", \n .     \"1046\", \"1047\", \"1048\", \"1049\", \"1050\", \"1051\", \"1052\", \"1053\", \n .     \"1054\", \"1055\", \"1056\", \"1057\", \"1058\", \"1059\", \"1060\", \"1061\", \n .     \"1062\", \"1063\", \"1064\", \"1065\", \"1066\", \"1067\", \"1068\", \"1069\", \n .     \"1070\", \"1071\", \"1072\", \"1073\", \"1074\", \"1075\", \"1076\", \"1077\", \n .     \"1078\", \"1079\", \"1080\", \"1081\", \"1082\", \"1083\", \"1084\", \"1085\", \n .     \"1086\", \"1087\", \"1088\", \"1089\", \"1090\", \"1091\", \"1092\", \"1093\", \n .     \"1094\", \"1095\", \"1096\", \"1097\", \"1098\", \"1099\", \"1100\", \"1101\", \n .     \"1102\", \"1103\", \"1104\", \"1105\", \"1106\", \"1107\", \"1108\", \"1109\", \n .     \"1110\", \"1111\", \"1112\", \"1113\", \"1114\", \"1115\", \"1116\", \"1117\", \n .     \"1118\", \"1119\", \"1120\", \"1121\", \"1122\", \"1123\", \"1124\", \"1125\", \n .     \"1126\", \"1127\", \"1128\", \"1129\", \"1130\", \"1131\", \"1132\", \"1133\", \n .     \"1134\", \"1135\", \"1136\", \"1137\", \"1138\", \"1139\", \"1140\", \"1141\", \n .     \"1142\", \"1143\", \"1144\", \"1145\", \"1146\", \"1147\", \"1148\", \"1149\", \n .     \"1150\", \"1151\", \"1152\", \"1153\", \"1154\", \"1155\", \"1156\", \"1157\", \n .     \"1158\", \"1159\", \"1160\", \"1161\", \"1162\", \"1163\", \"1164\", \"1165\", \n .     \"1166\", \"1167\", \"1168\", \"1169\", \"1170\", \"1171\", \"1172\", \"1173\", \n .     \"1174\", \"1175\", \"1176\", \"1177\", \"1178\", \"1179\", \"1180\", \"1181\", \n .     \"1182\", \"1183\", \"1184\", \"1185\", \"1186\", \"1187\", \"1188\", \"1189\", \n .     \"1190\", \"1191\", \"1192\", \"1193\", \"1194\", \"1195\", \"1196\", \"1197\", \n .     \"1198\", \"1199\", \"1200\", \"1201\", \"1202\", \"1203\", \"1204\", \"1205\", \n .     \"1206\", \"1207\", \"1208\", \"1209\", \"1210\", \"1211\", \"1212\", \"1213\", \n .     \"1214\", \"1215\", \"1216\", \"1217\", \"1218\", \"1219\", \"1220\", \"1221\", \n .     \"1222\", \"1223\", \"1224\", \"1225\", \"1226\", \"1227\", \"1228\", \"1229\", \n .     \"1230\", \"1231\", \"1232\", \"1233\", \"1234\", \"1235\", \"1236\", \"1237\", \n .     \"1238\", \"1239\", \"1240\", \"1241\", \"1242\", \"1243\", \"1244\", \"1245\", \n .     \"1246\", \"1247\", \"1248\", \"1249\", \"1250\", \"1251\", \"1252\", \"1253\", \n .     \"1254\", \"1255\", \"1256\", \"1257\", \"1258\", \"1259\", \"1260\", \"1261\", \n .     \"1262\", \"1263\", \"1264\", \"1265\", \"1266\", \"1267\", \"1268\", \"1269\", \n .     \"1270\", \"1271\", \"1272\", \"1273\", \"1274\", \"1275\", \"1276\", \"1277\", \n .     \"1278\", \"1279\", \"1280\", \"1281\", \"1282\", \"1283\", \"1284\", \"1285\", \n .     \"1286\", \"1287\", \"1288\", \"1289\", \"1290\", \"1291\", \"1292\", \"1293\", \n .     \"1294\", \"1295\"))))",
            "2. `$<-.data.frame`(`*tmp*`, count, value = structure(c(16L, 260L, \n . 12L, 260L, 8L, 260L, 4L, 260L, 16L, 257L, 12L, 260L, 4L, 260L, \n . 12L, 260L, 8L, 260L, 8L, 260L, 8L, 261L, 12L, 261L, 12L, 261L, \n . 4L, 261L, 12L, 261L, 8L, 261L, 12L, 261L, 16L, 261L, 12L, 261L, \n . 8L, 261L, 8L, 261L, 4L, 261L, 12L, 261L, 16L, 261L, 4L, 260L, \n . 8L, 261L, 8L, 259L, 12L, 261L, 8L, 261L, 8L, 261L, 8L, 261L, \n . 12L, 258L, 8L, 260L, 8L, 261L, 12L, 260L, 16L, 261L, 12L, 261L, \n . 12L, 261L, 16L, 261L, 4L, 261L, 8L, 261L, 8L, 261L, 12L, 261L, \n . 8L, 261L, 4L, 261L, 8L, 261L, 4L, 261L, 16L, 261L, 12L, 261L, \n . 16L, 261L, 4L, 261L, 12L, 261L, 8L, 261L, 4L, 261L, 8L, 261L, \n . 8L, 261L, 12L, 260L, 12L, 261L, 12L, 261L, 12L, 261L, 4L, 261L, \n . 4L, 261L, 8L, 261L, 8L, 261L, 12L, 261L, 8L, 261L, 8L, 261L, \n . 12L, 261L, 12L, 260L, 8L, 261L, 8L, 261L, 1L, 261L, 8L, 261L, \n . 8L, 261L, 4L, 261L, 8L, 260L, 8L, 261L, 12L, 261L, 12L, 261L, \n . 12L, 261L, 8L, 261L, 4L, 261L, 4L, 260L, 8L, 260L, 4L, 260L, \n . 4L, 261L, 8L, 261L, 12L, 261L, 8L, 261L, 12L, 261L, 4L, 260L, \n . 12L, 261L, 4L, 261L, 8L, 261L, 12L, 261L, 8L, 261L, 8L, 261L, \n . 12L, 261L, 12L, 261L, 8L, 262L, 4L, 262L, 8L, 261L, 12L, 262L, \n . 4L, 262L, 8L, 262L, 4L, 262L, 8L, 262L, 4L, 262L, 4L, 262L, 4L, \n . 261L, 12L, 262L, 12L, 262L, 4L, 261L, 4L, 262L, 4L, 262L, 12L, \n . 262L, 8L, 262L, 12L, 262L, 8L, 262L, 4L, 262L, 4L, 262L, 8L, \n . 262L, 4L, 262L, 8L, 262L, 8L, 262L, 8L, 262L, 4L, 262L, 4L, 261L, \n . 12L, 262L, 8L, 262L, 12L, 262L, 8L, 262L, 8L, 261L, 4L, 262L, \n . 8L, 262L, 8L, 262L, 4L, 262L, 4L, 262L, 8L, 262L, 12L, 262L, \n . 4L, 262L, 8L, 262L, 4L, 262L, 8L, 262L, 4L, 262L, 12L, 262L, \n . 4L, 261L, 8L, 262L, 4L, 262L, 8L, 262L, 4L, 262L, 4L, 262L, 12L, \n . 262L, 4L, 261L, 4L, 262L, 4L, 262L, 8L, 262L, 4L, 262L, 4L, 262L, \n . 4L, 262L, 8L, 261L, 4L, 262L, 8L, 262L, 4L, 262L, 8L, 262L, 8L, \n . 261L, 8L, 262L, 4L, 262L, 4L, 262L, 4L, 262L, 8L, 262L, 4L, 262L, \n . 16L, 262L, 4L, 262L, 8L, 262L, 12L, 262L, 4L, 262L, 12L, 262L, \n . 4L, 262L, 4L, 262L, 4L, 262L, 4L, 262L, 4L, 262L, 4L, 262L, 8L, \n . 261L, 8L, 262L, 4L, 262L, 8L, 262L, 8L, 262L, 4L, 262L, 1L, 262L, \n . 8L, 261L, 4L, 262L, 12L, 262L, 8L, 262L, 4L, 262L, 4L, 262L, \n . 4L, 262L, 4L, 262L, 8L, 262L, 8L, 262L, 8L, 261L, 8L, 262L, 8L, \n . 262L, 8L, 261L, 12L, 262L, 12L, 262L, 4L, 262L, 8L, 262L, 4L, \n . 262L, 1L, 262L, 8L, 262L, 4L, 262L, 8L, 261L, 4L, 262L, 8L, 262L, \n . 16L, 262L, 12L, 262L, 16L, 262L, 4L, 262L, 4L, 262L, 8L, 262L, \n . 4L, 262L, 4L, 262L, 12L, 262L, 4L, 262L, 16L, 262L, 12L, 262L, \n . 4L, 262L, 8L, 262L, 8L, 262L, 12L, 262L, 4L, 262L, 4L, 262L, \n . 12L, 262L, 4L, 262L, 8L, 262L, 4L, 262L, 4L, 262L, 4L, 262L, \n . 4L, 262L, 8L, 262L, 4L, 262L, 4L, 262L, 4L, 262L, 4L, 262L, 4L, \n . 261L, 4L, 261L, 12L, 262L, 4L, 262L, 4L, 262L, 4L, 262L, 4L, \n . 262L, 12L, 262L, 8L, 262L, 4L, 262L, 8L, 262L, 4L, 262L, 4L, \n . 261L, 4L, 262L, 8L, 262L, 8L, 262L, 12L, 262L, 8L, 262L, 4L, \n . 262L, 4L, 262L, 4L, 262L, 4L, 261L, 4L, 262L, 4L, 262L, 8L, 262L, \n . 8L, 262L, 8L, 262L, 8L, 262L, 8L, 262L, 4L, 262L, 8L, 262L, 8L, \n . 262L, 8L, 262L, 12L, 262L, 4L, 262L, 8L, 260L, 4L, 262L, 4L, \n . 262L, 4L, 262L, 8L, 262L, 4L, 260L, 4L, 262L, 4L, 262L, 4L, 262L, \n . 4L, 262L, 8L, 260L, 8L, 260L, 4L, 262L, 4L, 262L, 8L, 262L, 8L, \n . 262L, 4L, 262L, 8L, 262L, 8L, 262L, 4L, 262L, 12L, 262L, 8L, \n . 262L, 4L, 262L, 8L, 262L, 8L, 262L, 12L, 261L, 8L, 262L, 4L, \n . 262L, 4L, 262L, 4L, 262L, 4L, 262L, 4L, 262L, 4L, 262L, 8L, 262L, \n . 4L, 262L, 4L, 262L, 8L, 262L, 4L, 262L, 4L, 261L, 8L, 262L, 8L, \n . 262L, 4L, 262L, 4L, 262L, 12L, 262L, 4L, 262L, 4L, 262L, 4L, \n . 262L, 4L, 262L, 4L, 262L, 4L, 262L, 8L, 262L, 4L, 261L, 4L, 262L, \n . 4L, 262L, 8L, 262L, 8L, 262L, 8L, 262L, 8L, 262L, 4L, 262L, 4L, \n . 261L, 4L, 262L, 12L, 262L, 4L, 262L, 4L, 262L, 4L, 262L, 8L, \n . 262L, 12L, 262L, 4L, 261L, 4L, 262L, 4L, 262L, 4L, 262L, 8L, \n . 262L, 8L, 262L, 8L, 262L, 4L, 262L, 12L, 261L, 12L, 262L, 8L, \n . 262L, 4L, 262L, 4L, 262L, 8L, 262L, 8L, 262L, 4L, 262L, 4L, 262L, \n . 4L, 262L, 8L, 262L, 8L, 262L, 4L, 262L, 8L, 262L, 8L, 262L, 8L, \n . 261L, 4L, 262L, 4L, 262L, 8L, 262L, 4L, 262L, 8L, 262L, 4L, 262L, \n . 8L, 261L, 8L, 262L, 4L, 262L, 4L, 262L, 4L, 262L, 8L, 261L, 8L, \n . 262L, 4L, 262L, 4L, 262L, 8L, 262L, 4L, 262L, 12L, 262L, 8L, \n . 262L, 8L, 262L, 8L, 262L, 8L, 262L, 8L, 261L, 4L, 262L, 4L, 262L, \n . 12L, 262L, 4L, 262L, 8L, 261L, 12L, 262L, 8L, 262L, 4L, 262L, \n . 4L, 262L, 1L, 262L, 4L, 262L, 4L, 262L, 4L, 262L, 4L, 262L, 4L, \n . 262L, 4L, 262L, 4L, 262L, 8L, 262L, 8L, 262L, 4L, 262L, 8L, 262L, \n . 8L, 262L, 8L, 262L, 4L, 262L, 8L, 262L, 4L, 261L, 4L, 262L, 4L, \n . 262L, 8L, 262L, 8L, 262L, 4L, 262L, 4L, 262L, 4L, 262L, 4L, 262L, \n . 4L, 262L, 4L, 262L, 4L, 262L, 4L, 262L, 8L, 262L, 4L, 262L, 8L, \n . 262L, 8L, 262L, 4L, 262L, 8L, 262L, 8L, 262L, 4L, 262L, 8L, 262L, \n . 8L, 262L, 4L, 262L, 8L, 262L, 8L, 262L, 12L, 262L, 4L, 262L, \n . 4L, 262L, 4L, 261L, 4L, 262L, 8L, 261L, 16L, 261L, 12L, 262L, \n . 4L, 262L, 4L, 261L, 8L, 262L, 12L, 262L, 4L, 261L, 12L, 262L, \n . 4L, 262L, 8L, 262L, 4L, 261L, 4L, 262L, 4L, 262L, 4L, 262L, 4L, \n . 262L, 4L, 262L, 8L, 262L, 8L, 262L, 4L, 262L, 8L, 262L, 4L, 262L, \n . 4L, 262L, 4L, 262L, 4L, 262L, 4L, 261L, 4L, 262L, 4L, 262L, 12L, \n . 262L, 4L, 262L, 4L, 262L, 4L, 262L, 8L, 262L, 4L, 262L, 4L, 262L, \n . 4L, 262L, 4L, 262L, 4L, 262L, 8L, 262L, 4L, 262L, 4L, 262L, 4L, \n . 262L, 4L, 262L, 4L, 262L, 4L, 262L, 4L, 262L, 8L, 262L, 4L, 262L, \n . 8L, 262L, 4L, 262L, 4L, 262L, 4L, 262L, 4L, 262L, 8L, 262L, 1L, \n . 262L, 4L, 262L, 8L, 262L, 4L, 262L, 4L, 262L, 8L, 261L, 4L, 262L, \n . 8L, 261L, 4L, 262L, 4L, 262L, 4L, 262L, 4L, 262L, 4L, 262L, 4L, \n . 261L, 4L, 262L, 4L, 262L, 4L, 262L, 8L, 262L, 4L, 262L, 8L, 262L, \n . 4L, 262L, 4L, 262L, 4L, 262L, 4L, 262L, 4L, 262L, 4L, 261L, 4L, \n . 261L, 12L, 262L, 4L, 262L, 4L, 262L, 4L, 261L, 8L, 261L, 4L, \n . 262L, 4L, 262L, 8L, 262L, 4L, 262L, 8L, 262L, 8L, 261L, 4L, 261L, \n . 1L, 261L, 4L, 262L, 8L, 262L, 8L, 262L, 8L, 262L, 4L, 262L, 8L, \n . 259L, 8L, 262L, 4L, 262L, 4L, 261L, 4L, 262L, 4L, 262L, 4L, 262L, \n . 4L, 262L, 4L, 262L, 4L, 262L, 4L, 262L, 4L, 262L, 4L, 261L, 4L, \n . 262L, 12L, 262L, 8L, 262L, 12L, 262L, 4L, 262L, 4L, 262L, 4L, \n . 262L, 8L, 262L, 4L, 262L, 4L, 262L, 4L, 262L, 8L, 262L, 8L, 261L, \n . 8L, 262L, 4L, 262L, 4L, 262L, 4L, 262L, 4L, 262L, 4L, 261L, 4L, \n . 262L, 4L, 262L, 4L, 262L, 4L, 262L, 4L, 262L, 8L, 262L, 12L, \n . 262L, 12L, 262L, 4L, 262L, 8L, 262L, 4L, 262L, 4L, 262L, 4L, \n . 262L, 4L, 262L, 8L, 262L, 8L, 262L, 4L, 262L, 8L, 262L, 4L, 262L, \n . 12L, 262L, 4L, 262L, 4L, 262L, 8L, 262L, 4L, 262L, 4L, 262L, \n . 4L, 262L, 4L, 262L, 4L, 262L, 4L, 262L, 16L, 262L, 12L, 262L, \n . 4L, 262L, 4L, 262L, 8L, 261L, 8L, 262L, 12L, 262L, 4L, 262L, \n . 4L, 262L, 8L, 262L, 8L, 260L, 1L, 262L, 8L, 262L, 1L, 262L, 1L, \n . 262L, 8L, 262L, 4L, 262L, 4L, 261L, 8L, 262L, 4L, 262L, 4L, 262L, \n . 4L, 262L, 4L, 262L, 4L, 262L, 4L, 261L, 4L, 261L, 4L, 262L, 4L, \n . 262L, 4L, 262L, 1L, 262L, 4L, 262L, 4L, 262L, 4L, 261L, 4L, 262L, \n . 4L, 262L, 4L, 262L, 4L, 261L, 4L, 262L, 4L, 262L, 4L, 262L, 1L, \n . 262L, 1L, 262L, 4L, 262L, 12L, 262L, 12L, 262L, 4L, 262L, 4L, \n . 262L, 4L, 262L, 4L, 262L, 4L, 262L, 4L, 262L, 1L, 262L, 4L, 262L, \n . 4L, 262L, 4L, 262L, 4L, 262L, 4L, 262L, 4L, 262L, 4L, 262L, 8L, \n . 262L, 8L, 261L, 4L, 262L, 8L, 262L, 8L, 262L, 4L, 262L, 4L, 262L, \n . 4L, 262L, 4L, 262L, 4L, 262L, 8L, 262L, 4L, 262L, 4L, 262L, 4L, \n . 262L, 4L, 262L, 4L, 262L, 4L, 262L, 4L, 262L, 4L, 262L, 4L, 262L, \n . 8L, 262L, 4L, 262L, 1L, 262L, 4L, 262L, 8L, 262L, 4L, 262L, 4L, \n . 262L, 4L, 262L, 4L, 261L, 1L, 262L, 4L, 262L, 8L, 261L, 12L, \n . 261L, 4L, 262L, 4L, 262L, 1L, 262L, 4L, 262L, 4L, 262L, 4L, 262L, \n . 8L, 262L, 8L, 262L, 8L, 262L, 4L, 262L, 1L, 262L, 4L, 262L, 4L, \n . 262L, 8L, 262L, 12L, 262L, 4L, 262L, 12L, 262L, 8L, 262L, 4L, \n . 262L, 8L, 262L, 8L, 262L, 8L, 262L, 8L, 262L, 4L, 262L, 4L, 262L, \n . 4L, 261L, 4L, 262L, 4L, 262L, 4L, 262L, 8L, 262L, 4L, 262L, 4L, \n . 262L, 8L, 262L, 4L, 261L, 4L, 262L, 4L, 262L, 4L, 262L, 4L, 262L, \n . 8L, 262L, 4L, 262L, 4L, 262L, 12L, 262L, 4L, 262L, 4L, 262L, \n . 8L, 262L, 4L, 262L, 1L, 262L, 4L, 262L, 4L, 262L, 4L, 262L, 4L, \n . 261L, 4L, 262L, 4L, 262L, 4L, 262L, 8L, 262L, 4L, 262L, 4L, 262L, \n . 8L, 262L, 8L, 262L, 8L, 262L, 4L, 262L, 4L, 262L, 8L, 262L, 4L, \n . 262L, 4L, 262L, 8L, 262L, 8L, 262L, 12L, 261L, 4L, 262L, 4L, \n . 262L, 4L, 262L, 8L, 262L, 4L, 262L, 4L, 262L, 4L, 262L, 4L, 262L, \n . 8L, 262L, 8L, 262L, 4L, 262L, 4L, 262L, 4L, 261L, 4L, 262L, 8L, \n . 262L, 8L, 262L, 4L, 262L, 8L, 261L, 4L, 262L, 8L, 261L, 4L, 262L, \n . 4L, 262L, 8L, 262L, 4L, 262L, 4L, 262L, 4L, 262L, 8L, 262L, 8L, \n . 262L, 4L, 262L, 8L, 262L, 4L, 262L, 4L, 262L, 1L, 262L, 8L, 262L, \n . 4L, 262L, 4L, 262L, 1L, 262L, 4L, 262L, 8L, 262L, 8L, 262L, 16L, \n . 262L, 4L, 262L, 4L, 262L, 8L, 261L, 8L, 262L, 8L, 262L, 4L, 261L, \n . 4L, 262L, 4L, 262L, 4L, 262L, 4L, 262L, 4L, 262L, 4L, 262L, 4L, \n . 262L, 1L, 262L, 4L, 262L, 4L, 260L, 8L, 262L, 4L, 262L, 4L, 262L, \n . 4L, 262L, 4L, 262L, 4L, 262L, 8L, 261L, 1L, 262L, 4L, 262L, 1L, \n . 262L, 4L, 262L, 4L, 262L, 8L, 262L, 1L, 262L, 8L, 262L, 8L, 262L, \n . 4L, 262L, 4L, 262L, 4L, 262L, 4L, 262L, 4L, 262L, 4L, 262L, 4L, \n . 262L, 4L, 262L, 4L, 262L, 8L, 262L, 1L, 262L, 4L, 262L, 1L, 262L, \n . 4L, 262L, 4L, 262L, 4L, 262L, 8L, 262L, 8L, 262L, 4L, 262L, 4L, \n . 262L, 4L, 262L, 4L, 262L, 4L, 262L, 8L, 261L, 12L, 262L, 12L, \n . 262L, 4L, 262L, 12L, 262L, 8L, 262L, 8L, 262L, 8L, 262L, 4L, \n . 262L, 4L, 262L, 4L, 262L, 4L, 262L, 4L, 261L, 4L, 262L, 8L, 262L, \n . 4L, 262L, 4L, 262L, 4L, 262L, 8L, 262L, 4L, 262L, 4L, 262L, 4L, \n . 262L, 12L, 262L, 4L, 262L, 8L, 262L, 4L, 262L, 8L, 262L, 4L, \n . 262L, 1L, 261L, 8L, 261L, 4L, 262L, 12L, 261L, 1L, 262L, 4L, \n . 262L, 4L, 262L, 4L, 262L, 4L, 262L, 8L, 262L, 12L, 262L, 8L, \n . 262L, 4L, 261L, 4L, 262L, 8L, 262L, 4L, 260L, 4L, 262L, 4L, 262L, \n . 1L, 262L, 4L, 262L, 8L, 262L, 4L, 262L, 4L, 262L, 4L, 262L, 4L, \n . 262L, 8L, 262L, 4L, 262L, 4L, 262L, 4L, 262L, 8L, 262L, 4L, 262L, \n . 4L, 261L, 4L, 262L, 4L, 262L, 4L, 262L, 4L, 262L, 4L, 262L, 4L, \n . 262L, 8L, 262L, 4L, 262L, 4L, 262L, 12L, 262L, 4L, 262L, 12L, \n . 262L, 4L, 262L, 4L, 262L, 4L, 262L, 4L, 262L, 4L, 262L, 4L, 261L, \n . 4L, 262L, 8L, 262L, 4L, 261L, 4L, 262L, 4L, 260L, 4L, 262L, 4L, \n . 262L, 1L, 262L, 4L, 262L, 4L, 262L, 4L, 262L, 8L, 261L, 8L, 262L, \n . 8L, 262L, 1L, 262L, 8L, 262L, 4L, 262L, 8L, 262L, 1L, 262L, 8L, \n . 262L, 8L, 261L, 4L, 262L, 1L, 262L, 4L, 262L, 8L, 262L, 4L, 262L, \n . 12L, 261L, 4L, 262L, 4L, 261L, 4L, 262L, 4L, 262L, 4L, 262L, \n . 4L, 262L, 4L, 262L, 4L, 261L, 8L, 262L, 4L, 261L, 4L, 262L, 4L, \n . 262L, 8L, 262L, 1L, 262L, 4L, 262L, 4L, 262L, 8L, 262L, 4L, 262L, \n . 4L, 262L, 4L, 262L, 4L, 261L, 4L, 262L, 4L, 262L, 8L, 262L, 4L, \n . 262L, 4L, 262L, 4L, 262L, 4L, 263L, 4L, 263L, 4L, 263L, 8L, 263L, \n . 8L, 263L, 4L, 263L, 8L, 263L, 8L, 263L, 12L, 263L, 4L, 263L, \n . 4L, 263L, 4L, 263L, 4L, 263L, 8L, 262L, 4L, 263L, 4L, 263L, 4L, \n . 263L, 8L, 263L, 8L, 263L, 8L, 262L, 4L, 263L, 8L, 263L, 4L, 263L, \n . 8L, 263L, 4L, 263L, 8L, 263L, 1L, 263L, 8L, 263L, 4L, 263L, 4L, \n . 263L, 4L, 262L, 8L, 263L, 4L, 263L, 4L, 263L, 4L, 263L, 4L, 263L, \n . 4L, 263L, 4L, 263L, 8L, 262L, 4L, 263L, 8L, 263L, 4L, 263L, 4L, \n . 263L, 4L, 263L, 4L, 263L, 4L, 263L, 4L, 262L, 4L, 263L, 4L, 263L, \n . 4L, 263L, 4L, 263L, 4L, 262L, 4L, 263L, 4L, 263L, 4L, 263L, 4L, \n . 263L, 4L, 263L, 4L, 263L, 4L, 263L, 4L, 263L, 8L, 263L, 4L, 263L, \n . 4L, 263L, 4L, 263L, 4L, 263L, 4L, 262L, 4L, 263L, 4L, 263L, 1L, \n . 263L, 8L, 262L, 4L, 263L, 1L, 263L, 8L, 263L, 4L, 263L, 4L, 263L, \n . 4L, 263L, 4L, 263L, 4L, 262L, 4L, 263L, 4L, 263L, 4L, 263L, 4L, \n . 263L, 8L, 263L, 8L, 263L, 12L, 263L, 8L, 263L, 4L, 263L, 4L, \n . 263L, 4L, 263L, 4L, 262L, 4L, 263L, 4L, 263L, 4L, 263L, 4L, 262L, \n . 4L, 263L, 4L, 263L, 8L, 263L, 4L, 263L, 4L, 263L, 4L, 263L, 4L, \n . 263L, 4L, 263L, 4L, 263L, 8L, 263L, 4L, 263L, 4L, 263L, 4L, 263L, \n . 8L, 261L, 8L, 263L, 4L, 263L, 8L, 263L, 4L, 263L, 4L, 260L, 4L, \n . 262L, 4L, 263L, 4L, 263L, 8L, 263L, 8L, 263L, 4L, 262L, 8L, 263L, \n . 1L, 263L, 8L, 262L, 8L, 263L, 4L, 263L, 8L, 263L, 4L, 263L, 4L, \n . 261L, 4L, 263L, 1L, 262L, 4L, 263L, 4L, 263L, 4L, 263L, 4L, 263L, \n . 4L, 263L, 4L, 263L, 1L, 263L, 4L, 263L, 4L, 263L, 8L, 263L, 4L, \n . 263L, 4L, 263L, 4L, 263L, 4L, 263L, 4L, 263L, 4L, 262L, 8L, 263L, \n . 8L, 263L, 12L, 263L, 4L, 263L, 4L, 263L, 4L, 263L, 4L, 263L, \n . 4L, 263L, 4L, 263L, 8L, 263L, 8L, 263L, 4L, 263L, 4L, 263L, 4L, \n . 263L, 4L, 263L, 8L, 263L, 4L, 263L, 8L, 263L, 4L, 263L, 8L, 263L, \n . 8L, 263L, 8L, 263L, 4L, 263L, 4L, 263L, 8L, 263L, 1L, 263L, 8L, \n . 263L, 4L, 263L, 4L, 262L, 4L, 263L, 4L, 263L, 8L, 263L, 8L, 263L, \n . 4L, 263L, 4L, 263L, 4L, 263L, 4L, 263L, 4L, 263L, 4L, 263L, 4L, \n . 263L, 8L, 262L, 4L, 263L, 8L, 263L, 4L, 263L, 1L, 262L, 4L, 263L, \n . 4L, 263L, 4L, 263L, 4L, 263L, 4L, 263L, 4L, 261L, 4L, 263L, 4L, \n . 263L, 4L, 263L, 8L, 263L, 8L, 263L, 4L, 263L, 4L, 263L, 4L, 263L, \n . 4L, 263L, 4L, 263L, 4L, 263L, 4L, 263L, 4L, 263L, 4L, 262L, 4L, \n . 263L, 4L, 263L, 4L, 262L, 4L, 263L, 4L, 263L, 1L, 263L, 4L, 263L, \n . 1L, 263L, 4L, 262L, 12L, 263L, 8L, 263L, 4L, 263L, 8L, 262L, \n . 4L, 263L, 4L, 263L, 4L, 263L, 4L, 263L, 4L, 263L, 4L, 263L, 4L, \n . 263L, 4L, 263L, 4L, 263L, 4L, 263L, 16L, 263L, 4L, 263L, 4L, \n . 263L, 4L, 263L, 4L, 263L, 4L, 263L, 4L, 262L, 8L, 263L, 4L, 263L, \n . 4L, 263L, 4L, 262L, 4L, 263L, 4L, 263L, 4L, 263L, 8L, 263L, 12L, \n . 263L, 4L, 263L, 12L, 263L, 8L, 263L, 4L, 263L, 8L, 262L, 4L, \n . 262L, 4L, 263L, 8L, 263L, 4L, 263L, 4L, 263L, 4L, 263L, 4L, 263L, \n . 4L, 263L, 4L, 263L, 4L, 263L, 8L, 263L, 8L, 263L, 4L, 263L, 4L, \n . 263L, 4L, 263L, 1L, 263L, 4L, 262L, 4L, 263L, 4L, 263L, 8L, 263L, \n . 4L, 263L, 4L, 263L, 4L, 263L, 4L, 263L, 4L, 263L, 4L, 263L, 4L, \n . 263L, 4L, 263L, 8L, 263L, 4L, 263L, 4L, 263L, 4L, 263L, 4L, 262L, \n . 8L, 263L, 4L, 263L, 4L, 263L, 4L, 263L, 4L, 262L, 8L, 263L, 4L, \n . 263L, 4L, 263L, 8L, 263L), dim = c(2L, 1295L), dimnames = list(\n .     c(\"content\", \"meta\"), c(\"1\", \"2\", \"3\", \"4\", \"5\", \"6\", \"7\", \n .     \"8\", \"9\", \"10\", \"11\", \"12\", \"13\", \"14\", \"15\", \"16\", \"17\", \n .     \"18\", \"19\", \"20\", \"21\", \"22\", \"23\", \"24\", \"25\", \"26\", \"27\", \n .     \"28\", \"29\", \"30\", \"31\", \"32\", \"33\", \"34\", \"35\", \"36\", \"37\", \n .     \"38\", \"39\", \"40\", \"41\", \"42\", \"43\", \"44\", \"45\", \"46\", \"47\", \n .     \"48\", \"49\", \"50\", \"51\", \"52\", \"53\", \"54\", \"55\", \"56\", \"57\", \n .     \"58\", \"59\", \"60\", \"61\", \"62\", \"63\", \"64\", \"65\", \"66\", \"67\", \n .     \"68\", \"69\", \"70\", \"71\", \"72\", \"73\", \"74\", \"75\", \"76\", \"77\", \n .     \"78\", \"79\", \"80\", \"81\", \"82\", \"83\", \"84\", \"85\", \"86\", \"87\", \n .     \"88\", \"89\", \"90\", \"91\", \"92\", \"93\", \"94\", \"95\", \"96\", \"97\", \n .     \"98\", \"99\", \"100\", \"101\", \"102\", \"103\", \"104\", \"105\", \"106\", \n .     \"107\", \"108\", \"109\", \"110\", \"111\", \"112\", \"113\", \"114\", \"115\", \n .     \"116\", \"117\", \"118\", \"119\", \"120\", \"121\", \"122\", \"123\", \"124\", \n .     \"125\", \"126\", \"127\", \"128\", \"129\", \"130\", \"131\", \"132\", \"133\", \n .     \"134\", \"135\", \"136\", \"137\", \"138\", \"139\", \"140\", \"141\", \"142\", \n .     \"143\", \"144\", \"145\", \"146\", \"147\", \"148\", \"149\", \"150\", \"151\", \n .     \"152\", \"153\", \"154\", \"155\", \"156\", \"157\", \"158\", \"159\", \"160\", \n .     \"161\", \"162\", \"163\", \"164\", \"165\", \"166\", \"167\", \"168\", \"169\", \n .     \"170\", \"171\", \"172\", \"173\", \"174\", \"175\", \"176\", \"177\", \"178\", \n .     \"179\", \"180\", \"181\", \"182\", \"183\", \"184\", \"185\", \"186\", \"187\", \n .     \"188\", \"189\", \"190\", \"191\", \"192\", \"193\", \"194\", \"195\", \"196\", \n .     \"197\", \"198\", \"199\", \"200\", \"201\", \"202\", \"203\", \"204\", \"205\", \n .     \"206\", \"207\", \"208\", \"209\", \"210\", \"211\", \"212\", \"213\", \"214\", \n .     \"215\", \"216\", \"217\", \"218\", \"219\", \"220\", \"221\", \"222\", \"223\", \n .     \"224\", \"225\", \"226\", \"227\", \"228\", \"229\", \"230\", \"231\", \"232\", \n .     \"233\", \"234\", \"235\", \"236\", \"237\", \"238\", \"239\", \"240\", \"241\", \n .     \"242\", \"243\", \"244\", \"245\", \"246\", \"247\", \"248\", \"249\", \"250\", \n .     \"251\", \"252\", \"253\", \"254\", \"255\", \"256\", \"257\", \"258\", \"259\", \n .     \"260\", \"261\", \"262\", \"263\", \"264\", \"265\", \"266\", \"267\", \"268\", \n .     \"269\", \"270\", \"271\", \"272\", \"273\", \"274\", \"275\", \"276\", \"277\", \n .     \"278\", \"279\", \"280\", \"281\", \"282\", \"283\", \"284\", \"285\", \"286\", \n .     \"287\", \"288\", \"289\", \"290\", \"291\", \"292\", \"293\", \"294\", \"295\", \n .     \"296\", \"297\", \"298\", \"299\", \"300\", \"301\", \"302\", \"303\", \"304\", \n .     \"305\", \"306\", \"307\", \"308\", \"309\", \"310\", \"311\", \"312\", \"313\", \n .     \"314\", \"315\", \"316\", \"317\", \"318\", \"319\", \"320\", \"321\", \"322\", \n .     \"323\", \"324\", \"325\", \"326\", \"327\", \"328\", \"329\", \"330\", \"331\", \n .     \"332\", \"333\", \"334\", \"335\", \"336\", \"337\", \"338\", \"339\", \"340\", \n .     \"341\", \"342\", \"343\", \"344\", \"345\", \"346\", \"347\", \"348\", \"349\", \n .     \"350\", \"351\", \"352\", \"353\", \"354\", \"355\", \"356\", \"357\", \"358\", \n .     \"359\", \"360\", \"361\", \"362\", \"363\", \"364\", \"365\", \"366\", \"367\", \n .     \"368\", \"369\", \"370\", \"371\", \"372\", \"373\", \"374\", \"375\", \"376\", \n .     \"377\", \"378\", \"379\", \"380\", \"381\", \"382\", \"383\", \"384\", \"385\", \n .     \"386\", \"387\", \"388\", \"389\", \"390\", \"391\", \"392\", \"393\", \"394\", \n .     \"395\", \"396\", \"397\", \"398\", \"399\", \"400\", \"401\", \"402\", \"403\", \n .     \"404\", \"405\", \"406\", \"407\", \"408\", \"409\", \"410\", \"411\", \"412\", \n .     \"413\", \"414\", \"415\", \"416\", \"417\", \"418\", \"419\", \"420\", \"421\", \n .     \"422\", \"423\", \"424\", \"425\", \"426\", \"427\", \"428\", \"429\", \"430\", \n .     \"431\", \"432\", \"433\", \"434\", \"435\", \"436\", \"437\", \"438\", \"439\", \n .     \"440\", \"441\", \"442\", \"443\", \"444\", \"445\", \"446\", \"447\", \"448\", \n .     \"449\", \"450\", \"451\", \"452\", \"453\", \"454\", \"455\", \"456\", \"457\", \n .     \"458\", \"459\", \"460\", \"461\", \"462\", \"463\", \"464\", \"465\", \"466\", \n .     \"467\", \"468\", \"469\", \"470\", \"471\", \"472\", \"473\", \"474\", \"475\", \n .     \"476\", \"477\", \"478\", \"479\", \"480\", \"481\", \"482\", \"483\", \"484\", \n .     \"485\", \"486\", \"487\", \"488\", \"489\", \"490\", \"491\", \"492\", \"493\", \n .     \"494\", \"495\", \"496\", \"497\", \"498\", \"499\", \"500\", \"501\", \"502\", \n .     \"503\", \"504\", \"505\", \"506\", \"507\", \"508\", \"509\", \"510\", \"511\", \n .     \"512\", \"513\", \"514\", \"515\", \"516\", \"517\", \"518\", \"519\", \"520\", \n .     \"521\", \"522\", \"523\", \"524\", \"525\", \"526\", \"527\", \"528\", \"529\", \n .     \"530\", \"531\", \"532\", \"533\", \"534\", \"535\", \"536\", \"537\", \"538\", \n .     \"539\", \"540\", \"541\", \"542\", \"543\", \"544\", \"545\", \"546\", \"547\", \n .     \"548\", \"549\", \"550\", \"551\", \"552\", \"553\", \"554\", \"555\", \"556\", \n .     \"557\", \"558\", \"559\", \"560\", \"561\", \"562\", \"563\", \"564\", \"565\", \n .     \"566\", \"567\", \"568\", \"569\", \"570\", \"571\", \"572\", \"573\", \"574\", \n .     \"575\", \"576\", \"577\", \"578\", \"579\", \"580\", \"581\", \"582\", \"583\", \n .     \"584\", \"585\", \"586\", \"587\", \"588\", \"589\", \"590\", \"591\", \"592\", \n .     \"593\", \"594\", \"595\", \"596\", \"597\", \"598\", \"599\", \"600\", \"601\", \n .     \"602\", \"603\", \"604\", \"605\", \"606\", \"607\", \"608\", \"609\", \"610\", \n .     \"611\", \"612\", \"613\", \"614\", \"615\", \"616\", \"617\", \"618\", \"619\", \n .     \"620\", \"621\", \"622\", \"623\", \"624\", \"625\", \"626\", \"627\", \"628\", \n .     \"629\", \"630\", \"631\", \"632\", \"633\", \"634\", \"635\", \"636\", \"637\", \n .     \"638\", \"639\", \"640\", \"641\", \"642\", \"643\", \"644\", \"645\", \"646\", \n .     \"647\", \"648\", \"649\", \"650\", \"651\", \"652\", \"653\", \"654\", \"655\", \n .     \"656\", \"657\", \"658\", \"659\", \"660\", \"661\", \"662\", \"663\", \"664\", \n .     \"665\", \"666\", \"667\", \"668\", \"669\", \"670\", \"671\", \"672\", \"673\", \n .     \"674\", \"675\", \"676\", \"677\", \"678\", \"679\", \"680\", \"681\", \"682\", \n .     \"683\", \"684\", \"685\", \"686\", \"687\", \"688\", \"689\", \"690\", \"691\", \n .     \"692\", \"693\", \"694\", \"695\", \"696\", \"697\", \"698\", \"699\", \"700\", \n .     \"701\", \"702\", \"703\", \"704\", \"705\", \"706\", \"707\", \"708\", \"709\", \n .     \"710\", \"711\", \"712\", \"713\", \"714\", \"715\", \"716\", \"717\", \"718\", \n .     \"719\", \"720\", \"721\", \"722\", \"723\", \"724\", \"725\", \"726\", \"727\", \n .     \"728\", \"729\", \"730\", \"731\", \"732\", \"733\", \"734\", \"735\", \"736\", \n .     \"737\", \"738\", \"739\", \"740\", \"741\", \"742\", \"743\", \"744\", \"745\", \n .     \"746\", \"747\", \"748\", \"749\", \"750\", \"751\", \"752\", \"753\", \"754\", \n .     \"755\", \"756\", \"757\", \"758\", \"759\", \"760\", \"761\", \"762\", \"763\", \n .     \"764\", \"765\", \"766\", \"767\", \"768\", \"769\", \"770\", \"771\", \"772\", \n .     \"773\", \"774\", \"775\", \"776\", \"777\", \"778\", \"779\", \"780\", \"781\", \n .     \"782\", \"783\", \"784\", \"785\", \"786\", \"787\", \"788\", \"789\", \"790\", \n .     \"791\", \"792\", \"793\", \"794\", \"795\", \"796\", \"797\", \"798\", \"799\", \n .     \"800\", \"801\", \"802\", \"803\", \"804\", \"805\", \"806\", \"807\", \"808\", \n .     \"809\", \"810\", \"811\", \"812\", \"813\", \"814\", \"815\", \"816\", \"817\", \n .     \"818\", \"819\", \"820\", \"821\", \"822\", \"823\", \"824\", \"825\", \"826\", \n .     \"827\", \"828\", \"829\", \"830\", \"831\", \"832\", \"833\", \"834\", \"835\", \n .     \"836\", \"837\", \"838\", \"839\", \"840\", \"841\", \"842\", \"843\", \"844\", \n .     \"845\", \"846\", \"847\", \"848\", \"849\", \"850\", \"851\", \"852\", \"853\", \n .     \"854\", \"855\", \"856\", \"857\", \"858\", \"859\", \"860\", \"861\", \"862\", \n .     \"863\", \"864\", \"865\", \"866\", \"867\", \"868\", \"869\", \"870\", \"871\", \n .     \"872\", \"873\", \"874\", \"875\", \"876\", \"877\", \"878\", \"879\", \"880\", \n .     \"881\", \"882\", \"883\", \"884\", \"885\", \"886\", \"887\", \"888\", \"889\", \n .     \"890\", \"891\", \"892\", \"893\", \"894\", \"895\", \"896\", \"897\", \"898\", \n .     \"899\", \"900\", \"901\", \"902\", \"903\", \"904\", \"905\", \"906\", \"907\", \n .     \"908\", \"909\", \"910\", \"911\", \"912\", \"913\", \"914\", \"915\", \"916\", \n .     \"917\", \"918\", \"919\", \"920\", \"921\", \"922\", \"923\", \"924\", \"925\", \n .     \"926\", \"927\", \"928\", \"929\", \"930\", \"931\", \"932\", \"933\", \"934\", \n .     \"935\", \"936\", \"937\", \"938\", \"939\", \"940\", \"941\", \"942\", \"943\", \n .     \"944\", \"945\", \"946\", \"947\", \"948\", \"949\", \"950\", \"951\", \"952\", \n .     \"953\", \"954\", \"955\", \"956\", \"957\", \"958\", \"959\", \"960\", \"961\", \n .     \"962\", \"963\", \"964\", \"965\", \"966\", \"967\", \"968\", \"969\", \"970\", \n .     \"971\", \"972\", \"973\", \"974\", \"975\", \"976\", \"977\", \"978\", \"979\", \n .     \"980\", \"981\", \"982\", \"983\", \"984\", \"985\", \"986\", \"987\", \"988\", \n .     \"989\", \"990\", \"991\", \"992\", \"993\", \"994\", \"995\", \"996\", \"997\", \n .     \"998\", \"999\", \"1000\", \"1001\", \"1002\", \"1003\", \"1004\", \"1005\", \n .     \"1006\", \"1007\", \"1008\", \"1009\", \"1010\", \"1011\", \"1012\", \"1013\", \n .     \"1014\", \"1015\", \"1016\", \"1017\", \"1018\", \"1019\", \"1020\", \"1021\", \n .     \"1022\", \"1023\", \"1024\", \"1025\", \"1026\", \"1027\", \"1028\", \"1029\", \n .     \"1030\", \"1031\", \"1032\", \"1033\", \"1034\", \"1035\", \"1036\", \"1037\", \n .     \"1038\", \"1039\", \"1040\", \"1041\", \"1042\", \"1043\", \"1044\", \"1045\", \n .     \"1046\", \"1047\", \"1048\", \"1049\", \"1050\", \"1051\", \"1052\", \"1053\", \n .     \"1054\", \"1055\", \"1056\", \"1057\", \"1058\", \"1059\", \"1060\", \"1061\", \n .     \"1062\", \"1063\", \"1064\", \"1065\", \"1066\", \"1067\", \"1068\", \"1069\", \n .     \"1070\", \"1071\", \"1072\", \"1073\", \"1074\", \"1075\", \"1076\", \"1077\", \n .     \"1078\", \"1079\", \"1080\", \"1081\", \"1082\", \"1083\", \"1084\", \"1085\", \n .     \"1086\", \"1087\", \"1088\", \"1089\", \"1090\", \"1091\", \"1092\", \"1093\", \n .     \"1094\", \"1095\", \"1096\", \"1097\", \"1098\", \"1099\", \"1100\", \"1101\", \n .     \"1102\", \"1103\", \"1104\", \"1105\", \"1106\", \"1107\", \"1108\", \"1109\", \n .     \"1110\", \"1111\", \"1112\", \"1113\", \"1114\", \"1115\", \"1116\", \"1117\", \n .     \"1118\", \"1119\", \"1120\", \"1121\", \"1122\", \"1123\", \"1124\", \"1125\", \n .     \"1126\", \"1127\", \"1128\", \"1129\", \"1130\", \"1131\", \"1132\", \"1133\", \n .     \"1134\", \"1135\", \"1136\", \"1137\", \"1138\", \"1139\", \"1140\", \"1141\", \n .     \"1142\", \"1143\", \"1144\", \"1145\", \"1146\", \"1147\", \"1148\", \"1149\", \n .     \"1150\", \"1151\", \"1152\", \"1153\", \"1154\", \"1155\", \"1156\", \"1157\", \n .     \"1158\", \"1159\", \"1160\", \"1161\", \"1162\", \"1163\", \"1164\", \"1165\", \n .     \"1166\", \"1167\", \"1168\", \"1169\", \"1170\", \"1171\", \"1172\", \"1173\", \n .     \"1174\", \"1175\", \"1176\", \"1177\", \"1178\", \"1179\", \"1180\", \"1181\", \n .     \"1182\", \"1183\", \"1184\", \"1185\", \"1186\", \"1187\", \"1188\", \"1189\", \n .     \"1190\", \"1191\", \"1192\", \"1193\", \"1194\", \"1195\", \"1196\", \"1197\", \n .     \"1198\", \"1199\", \"1200\", \"1201\", \"1202\", \"1203\", \"1204\", \"1205\", \n .     \"1206\", \"1207\", \"1208\", \"1209\", \"1210\", \"1211\", \"1212\", \"1213\", \n .     \"1214\", \"1215\", \"1216\", \"1217\", \"1218\", \"1219\", \"1220\", \"1221\", \n .     \"1222\", \"1223\", \"1224\", \"1225\", \"1226\", \"1227\", \"1228\", \"1229\", \n .     \"1230\", \"1231\", \"1232\", \"1233\", \"1234\", \"1235\", \"1236\", \"1237\", \n .     \"1238\", \"1239\", \"1240\", \"1241\", \"1242\", \"1243\", \"1244\", \"1245\", \n .     \"1246\", \"1247\", \"1248\", \"1249\", \"1250\", \"1251\", \"1252\", \"1253\", \n .     \"1254\", \"1255\", \"1256\", \"1257\", \"1258\", \"1259\", \"1260\", \"1261\", \n .     \"1262\", \"1263\", \"1264\", \"1265\", \"1266\", \"1267\", \"1268\", \"1269\", \n .     \"1270\", \"1271\", \"1272\", \"1273\", \"1274\", \"1275\", \"1276\", \"1277\", \n .     \"1278\", \"1279\", \"1280\", \"1281\", \"1282\", \"1283\", \"1284\", \"1285\", \n .     \"1286\", \"1287\", \"1288\", \"1289\", \"1290\", \"1291\", \"1292\", \"1293\", \n .     \"1294\", \"1295\"))))",
            "3. stop(sprintf(ngettext(N, \"replacement has %d row, data has %d\", \n .     \"replacement has %d rows, data has %d\"), N, nrows), domain = NA)"
          ]
        }
      ]
    },
    {
      "cell_type": "code",
      "source": [
        "df$year_cl<-tm_map(df$year, removePunctuation) "
      ],
      "metadata": {
        "id": "eDDpdn3XN-AS"
      },
      "execution_count": 71,
      "outputs": []
    },
    {
      "cell_type": "code",
      "source": [
        "df"
      ],
      "metadata": {
        "id": "ZWI7jJcCPpxA",
        "outputId": "5e45f770-b234-4104-918a-ead18f1a36a2",
        "colab": {
          "base_uri": "https://localhost:8080/",
          "height": 1000
        }
      },
      "execution_count": 88,
      "outputs": [
        {
          "output_type": "display_data",
          "data": {
            "text/html": [
              "<table class=\"dataframe\">\n",
              "<caption>A data.frame: 1295 × 5</caption>\n",
              "<thead>\n",
              "\t<tr><th scope=col>Player</th><th scope=col>Goals</th><th scope=col>Years</th><th scope=col>Country</th><th scope=col>count</th></tr>\n",
              "\t<tr><th scope=col>&lt;chr&gt;</th><th scope=col>&lt;int&gt;</th><th scope=col>&lt;chr&gt;</th><th scope=col>&lt;chr&gt;</th><th scope=col>&lt;int&gt;</th></tr>\n",
              "</thead>\n",
              "<tbody>\n",
              "\t<tr><td>Miroslav Klose       </td><td>16</td><td>2002-2006-2010-2014</td><td>Germany  </td><td>2</td></tr>\n",
              "\t<tr><td>Ronaldo              </td><td>15</td><td>1998-2002-2006     </td><td>Brazil   </td><td>2</td></tr>\n",
              "\t<tr><td>Gerd Muller          </td><td>14</td><td>1970-1974          </td><td>Germany  </td><td>2</td></tr>\n",
              "\t<tr><td>Just Fontaine        </td><td>13</td><td>1958               </td><td>France   </td><td>2</td></tr>\n",
              "\t<tr><td>Pele                 </td><td>12</td><td>1958-1962-1966-1970</td><td>Brazil   </td><td>2</td></tr>\n",
              "\t<tr><td>Jurgen Klinsmann     </td><td>11</td><td>1990-1994-1998     </td><td>Germany  </td><td>2</td></tr>\n",
              "\t<tr><td>Sandor Kocsis        </td><td>11</td><td>1954               </td><td>Hungary  </td><td>2</td></tr>\n",
              "\t<tr><td>Gabriel Batistuta    </td><td>10</td><td>1994-1998-2002     </td><td>Argentina</td><td>2</td></tr>\n",
              "\t<tr><td>Gary Lineker         </td><td>10</td><td>1986-1990          </td><td>England  </td><td>2</td></tr>\n",
              "\t<tr><td>Thomas Muller        </td><td>10</td><td>2010-2014          </td><td>Germany  </td><td>2</td></tr>\n",
              "\t<tr><td>Helmut Rahn          </td><td>10</td><td>1954-1958          </td><td>Germany  </td><td>2</td></tr>\n",
              "\t<tr><td>Teofilo Cubillas     </td><td>10</td><td>1970-1978-1982     </td><td>Peru     </td><td>2</td></tr>\n",
              "\t<tr><td>Grzegorz Lato        </td><td>10</td><td>1974-1978-1982     </td><td>Poland   </td><td>2</td></tr>\n",
              "\t<tr><td>Ademir               </td><td> 9</td><td>1950               </td><td>Brazil   </td><td>2</td></tr>\n",
              "\t<tr><td>Jairzinho            </td><td> 9</td><td>1966-1970-1974     </td><td>Brazil   </td><td>2</td></tr>\n",
              "\t<tr><td>Vava                 </td><td> 9</td><td>1958-1962          </td><td>Brazil   </td><td>2</td></tr>\n",
              "\t<tr><td>Karl Heinz Rummenigge</td><td> 9</td><td>1978-1982-1986     </td><td>Germany  </td><td>2</td></tr>\n",
              "\t<tr><td>Uwe Seeler           </td><td> 9</td><td>1958-1962-1966-1970</td><td>Germany  </td><td>2</td></tr>\n",
              "\t<tr><td>Roberto Baggio       </td><td> 9</td><td>1990-1994-1998     </td><td>Italy    </td><td>2</td></tr>\n",
              "\t<tr><td>Paolo Rossi          </td><td> 9</td><td>1978-1982          </td><td>Italy    </td><td>2</td></tr>\n",
              "\t<tr><td>Christian Vieri      </td><td> 9</td><td>1998-2002          </td><td>Italy    </td><td>2</td></tr>\n",
              "\t<tr><td>Eusebio              </td><td> 9</td><td>1966               </td><td>Portugal </td><td>2</td></tr>\n",
              "\t<tr><td>David Villa          </td><td> 9</td><td>2006-2010-2014     </td><td>Spain    </td><td>2</td></tr>\n",
              "\t<tr><td>Diego Maradona       </td><td> 8</td><td>1982-1986-1990-1994</td><td>Argentina</td><td>2</td></tr>\n",
              "\t<tr><td>Guillermo Stabile    </td><td> 8</td><td>1930               </td><td>Argentina</td><td>2</td></tr>\n",
              "\t<tr><td>Leonidas             </td><td> 8</td><td>1934-1938          </td><td>Brazil   </td><td>2</td></tr>\n",
              "\t<tr><td>Rivaldo              </td><td> 8</td><td>1998-2002          </td><td>Brazil   </td><td>2</td></tr>\n",
              "\t<tr><td>Rudi Voller          </td><td> 8</td><td>1986-1990-1994     </td><td>Germany  </td><td>2</td></tr>\n",
              "\t<tr><td>Oscar Miguez         </td><td> 8</td><td>1950-1954          </td><td>Uruguay  </td><td>2</td></tr>\n",
              "\t<tr><td>Careca               </td><td> 7</td><td>1986-1990          </td><td>Brazil   </td><td>2</td></tr>\n",
              "\t<tr><td>⋮</td><td>⋮</td><td>⋮</td><td>⋮</td><td>⋮</td></tr>\n",
              "\t<tr><td>Sergei Rodionov    </td><td>1</td><td>1986     </td><td>USSR      </td><td>2</td></tr>\n",
              "\t<tr><td>Ramaz Shengelia    </td><td>1</td><td>1982     </td><td>USSR      </td><td>2</td></tr>\n",
              "\t<tr><td>Nikita Simonian    </td><td>1</td><td>1958     </td><td>USSR      </td><td>2</td></tr>\n",
              "\t<tr><td>Pavel Yakovenko    </td><td>1</td><td>0        </td><td>USSR      </td><td>2</td></tr>\n",
              "\t<tr><td>Andrei Zygmantovich</td><td>1</td><td>1990     </td><td>USSR      </td><td>2</td></tr>\n",
              "\t<tr><td>John Charles       </td><td>1</td><td>1958     </td><td>Wales     </td><td>2</td></tr>\n",
              "\t<tr><td>Terry Medwin       </td><td>1</td><td>1958     </td><td>Wales     </td><td>2</td></tr>\n",
              "\t<tr><td>Stjepan Bobek      </td><td>1</td><td>1950-1954</td><td>Yugoslavia</td><td>2</td></tr>\n",
              "\t<tr><td>Vladislav Bogicevic</td><td>1</td><td>1974     </td><td>Yugoslavia</td><td>2</td></tr>\n",
              "\t<tr><td>Dragan Dzajic      </td><td>1</td><td>1974     </td><td>Yugoslavia</td><td>2</td></tr>\n",
              "\t<tr><td>Ivan Gudelj        </td><td>1</td><td>1982     </td><td>Yugoslavia</td><td>2</td></tr>\n",
              "\t<tr><td>Josip Katalinski   </td><td>1</td><td>1974     </td><td>Yugoslavia</td><td>2</td></tr>\n",
              "\t<tr><td>Blagoje Marjanovic </td><td>1</td><td>1930     </td><td>Yugoslavia</td><td>2</td></tr>\n",
              "\t<tr><td>Vojislav Melic     </td><td>1</td><td>1962     </td><td>Yugoslavia</td><td>2</td></tr>\n",
              "\t<tr><td>Sinisa Mihajlovic  </td><td>1</td><td>1998     </td><td>Yugoslavia</td><td>2</td></tr>\n",
              "\t<tr><td>Predrag Mijatovic  </td><td>1</td><td>1998     </td><td>Yugoslavia</td><td>2</td></tr>\n",
              "\t<tr><td>Milos Milutinovic  </td><td>1</td><td>1954-1958</td><td>Yugoslavia</td><td>2</td></tr>\n",
              "\t<tr><td>Branko Oblak       </td><td>1</td><td>1974     </td><td>Yugoslavia</td><td>2</td></tr>\n",
              "\t<tr><td>Tihomir Ognjanov   </td><td>1</td><td>1950     </td><td>Yugoslavia</td><td>2</td></tr>\n",
              "\t<tr><td>Radivoje Ognjanovic</td><td>1</td><td>1958     </td><td>Yugoslavia</td><td>2</td></tr>\n",
              "\t<tr><td>Ilija Petkovic     </td><td>1</td><td>1974     </td><td>Yugoslavia</td><td>2</td></tr>\n",
              "\t<tr><td>Vladimir Petrovic  </td><td>1</td><td>1974-1982</td><td>Yugoslavia</td><td>2</td></tr>\n",
              "\t<tr><td>Petar Radakovic    </td><td>1</td><td>1962     </td><td>Yugoslavia</td><td>2</td></tr>\n",
              "\t<tr><td>Zdravko Rajkov     </td><td>1</td><td>1958     </td><td>Yugoslavia</td><td>2</td></tr>\n",
              "\t<tr><td>Branislav Sekulic  </td><td>1</td><td>1930     </td><td>Yugoslavia</td><td>2</td></tr>\n",
              "\t<tr><td>Josip Skoblar      </td><td>1</td><td>1962     </td><td>Yugoslavia</td><td>2</td></tr>\n",
              "\t<tr><td>Safet Susic        </td><td>1</td><td>1982-1990</td><td>Yugoslavia</td><td>2</td></tr>\n",
              "\t<tr><td>Aleksandar Tirnanic</td><td>1</td><td>1930     </td><td>Yugoslavia</td><td>2</td></tr>\n",
              "\t<tr><td>Djordje Vujadinovic</td><td>1</td><td>1930     </td><td>Yugoslavia</td><td>2</td></tr>\n",
              "\t<tr><td>Branko Zebec       </td><td>1</td><td>1954-1958</td><td>Yugoslavia</td><td>2</td></tr>\n",
              "</tbody>\n",
              "</table>\n"
            ],
            "text/markdown": "\nA data.frame: 1295 × 5\n\n| Player &lt;chr&gt; | Goals &lt;int&gt; | Years &lt;chr&gt; | Country &lt;chr&gt; | count &lt;int&gt; |\n|---|---|---|---|---|\n| Miroslav Klose        | 16 | 2002-2006-2010-2014 | Germany   | 2 |\n| Ronaldo               | 15 | 1998-2002-2006      | Brazil    | 2 |\n| Gerd Muller           | 14 | 1970-1974           | Germany   | 2 |\n| Just Fontaine         | 13 | 1958                | France    | 2 |\n| Pele                  | 12 | 1958-1962-1966-1970 | Brazil    | 2 |\n| Jurgen Klinsmann      | 11 | 1990-1994-1998      | Germany   | 2 |\n| Sandor Kocsis         | 11 | 1954                | Hungary   | 2 |\n| Gabriel Batistuta     | 10 | 1994-1998-2002      | Argentina | 2 |\n| Gary Lineker          | 10 | 1986-1990           | England   | 2 |\n| Thomas Muller         | 10 | 2010-2014           | Germany   | 2 |\n| Helmut Rahn           | 10 | 1954-1958           | Germany   | 2 |\n| Teofilo Cubillas      | 10 | 1970-1978-1982      | Peru      | 2 |\n| Grzegorz Lato         | 10 | 1974-1978-1982      | Poland    | 2 |\n| Ademir                |  9 | 1950                | Brazil    | 2 |\n| Jairzinho             |  9 | 1966-1970-1974      | Brazil    | 2 |\n| Vava                  |  9 | 1958-1962           | Brazil    | 2 |\n| Karl Heinz Rummenigge |  9 | 1978-1982-1986      | Germany   | 2 |\n| Uwe Seeler            |  9 | 1958-1962-1966-1970 | Germany   | 2 |\n| Roberto Baggio        |  9 | 1990-1994-1998      | Italy     | 2 |\n| Paolo Rossi           |  9 | 1978-1982           | Italy     | 2 |\n| Christian Vieri       |  9 | 1998-2002           | Italy     | 2 |\n| Eusebio               |  9 | 1966                | Portugal  | 2 |\n| David Villa           |  9 | 2006-2010-2014      | Spain     | 2 |\n| Diego Maradona        |  8 | 1982-1986-1990-1994 | Argentina | 2 |\n| Guillermo Stabile     |  8 | 1930                | Argentina | 2 |\n| Leonidas              |  8 | 1934-1938           | Brazil    | 2 |\n| Rivaldo               |  8 | 1998-2002           | Brazil    | 2 |\n| Rudi Voller           |  8 | 1986-1990-1994      | Germany   | 2 |\n| Oscar Miguez          |  8 | 1950-1954           | Uruguay   | 2 |\n| Careca                |  7 | 1986-1990           | Brazil    | 2 |\n| ⋮ | ⋮ | ⋮ | ⋮ | ⋮ |\n| Sergei Rodionov     | 1 | 1986      | USSR       | 2 |\n| Ramaz Shengelia     | 1 | 1982      | USSR       | 2 |\n| Nikita Simonian     | 1 | 1958      | USSR       | 2 |\n| Pavel Yakovenko     | 1 | 0         | USSR       | 2 |\n| Andrei Zygmantovich | 1 | 1990      | USSR       | 2 |\n| John Charles        | 1 | 1958      | Wales      | 2 |\n| Terry Medwin        | 1 | 1958      | Wales      | 2 |\n| Stjepan Bobek       | 1 | 1950-1954 | Yugoslavia | 2 |\n| Vladislav Bogicevic | 1 | 1974      | Yugoslavia | 2 |\n| Dragan Dzajic       | 1 | 1974      | Yugoslavia | 2 |\n| Ivan Gudelj         | 1 | 1982      | Yugoslavia | 2 |\n| Josip Katalinski    | 1 | 1974      | Yugoslavia | 2 |\n| Blagoje Marjanovic  | 1 | 1930      | Yugoslavia | 2 |\n| Vojislav Melic      | 1 | 1962      | Yugoslavia | 2 |\n| Sinisa Mihajlovic   | 1 | 1998      | Yugoslavia | 2 |\n| Predrag Mijatovic   | 1 | 1998      | Yugoslavia | 2 |\n| Milos Milutinovic   | 1 | 1954-1958 | Yugoslavia | 2 |\n| Branko Oblak        | 1 | 1974      | Yugoslavia | 2 |\n| Tihomir Ognjanov    | 1 | 1950      | Yugoslavia | 2 |\n| Radivoje Ognjanovic | 1 | 1958      | Yugoslavia | 2 |\n| Ilija Petkovic      | 1 | 1974      | Yugoslavia | 2 |\n| Vladimir Petrovic   | 1 | 1974-1982 | Yugoslavia | 2 |\n| Petar Radakovic     | 1 | 1962      | Yugoslavia | 2 |\n| Zdravko Rajkov      | 1 | 1958      | Yugoslavia | 2 |\n| Branislav Sekulic   | 1 | 1930      | Yugoslavia | 2 |\n| Josip Skoblar       | 1 | 1962      | Yugoslavia | 2 |\n| Safet Susic         | 1 | 1982-1990 | Yugoslavia | 2 |\n| Aleksandar Tirnanic | 1 | 1930      | Yugoslavia | 2 |\n| Djordje Vujadinovic | 1 | 1930      | Yugoslavia | 2 |\n| Branko Zebec        | 1 | 1954-1958 | Yugoslavia | 2 |\n\n",
            "text/latex": "A data.frame: 1295 × 5\n\\begin{tabular}{lllll}\n Player & Goals & Years & Country & count\\\\\n <chr> & <int> & <chr> & <chr> & <int>\\\\\n\\hline\n\t Miroslav Klose        & 16 & 2002-2006-2010-2014 & Germany   & 2\\\\\n\t Ronaldo               & 15 & 1998-2002-2006      & Brazil    & 2\\\\\n\t Gerd Muller           & 14 & 1970-1974           & Germany   & 2\\\\\n\t Just Fontaine         & 13 & 1958                & France    & 2\\\\\n\t Pele                  & 12 & 1958-1962-1966-1970 & Brazil    & 2\\\\\n\t Jurgen Klinsmann      & 11 & 1990-1994-1998      & Germany   & 2\\\\\n\t Sandor Kocsis         & 11 & 1954                & Hungary   & 2\\\\\n\t Gabriel Batistuta     & 10 & 1994-1998-2002      & Argentina & 2\\\\\n\t Gary Lineker          & 10 & 1986-1990           & England   & 2\\\\\n\t Thomas Muller         & 10 & 2010-2014           & Germany   & 2\\\\\n\t Helmut Rahn           & 10 & 1954-1958           & Germany   & 2\\\\\n\t Teofilo Cubillas      & 10 & 1970-1978-1982      & Peru      & 2\\\\\n\t Grzegorz Lato         & 10 & 1974-1978-1982      & Poland    & 2\\\\\n\t Ademir                &  9 & 1950                & Brazil    & 2\\\\\n\t Jairzinho             &  9 & 1966-1970-1974      & Brazil    & 2\\\\\n\t Vava                  &  9 & 1958-1962           & Brazil    & 2\\\\\n\t Karl Heinz Rummenigge &  9 & 1978-1982-1986      & Germany   & 2\\\\\n\t Uwe Seeler            &  9 & 1958-1962-1966-1970 & Germany   & 2\\\\\n\t Roberto Baggio        &  9 & 1990-1994-1998      & Italy     & 2\\\\\n\t Paolo Rossi           &  9 & 1978-1982           & Italy     & 2\\\\\n\t Christian Vieri       &  9 & 1998-2002           & Italy     & 2\\\\\n\t Eusebio               &  9 & 1966                & Portugal  & 2\\\\\n\t David Villa           &  9 & 2006-2010-2014      & Spain     & 2\\\\\n\t Diego Maradona        &  8 & 1982-1986-1990-1994 & Argentina & 2\\\\\n\t Guillermo Stabile     &  8 & 1930                & Argentina & 2\\\\\n\t Leonidas              &  8 & 1934-1938           & Brazil    & 2\\\\\n\t Rivaldo               &  8 & 1998-2002           & Brazil    & 2\\\\\n\t Rudi Voller           &  8 & 1986-1990-1994      & Germany   & 2\\\\\n\t Oscar Miguez          &  8 & 1950-1954           & Uruguay   & 2\\\\\n\t Careca                &  7 & 1986-1990           & Brazil    & 2\\\\\n\t ⋮ & ⋮ & ⋮ & ⋮ & ⋮\\\\\n\t Sergei Rodionov     & 1 & 1986      & USSR       & 2\\\\\n\t Ramaz Shengelia     & 1 & 1982      & USSR       & 2\\\\\n\t Nikita Simonian     & 1 & 1958      & USSR       & 2\\\\\n\t Pavel Yakovenko     & 1 & 0         & USSR       & 2\\\\\n\t Andrei Zygmantovich & 1 & 1990      & USSR       & 2\\\\\n\t John Charles        & 1 & 1958      & Wales      & 2\\\\\n\t Terry Medwin        & 1 & 1958      & Wales      & 2\\\\\n\t Stjepan Bobek       & 1 & 1950-1954 & Yugoslavia & 2\\\\\n\t Vladislav Bogicevic & 1 & 1974      & Yugoslavia & 2\\\\\n\t Dragan Dzajic       & 1 & 1974      & Yugoslavia & 2\\\\\n\t Ivan Gudelj         & 1 & 1982      & Yugoslavia & 2\\\\\n\t Josip Katalinski    & 1 & 1974      & Yugoslavia & 2\\\\\n\t Blagoje Marjanovic  & 1 & 1930      & Yugoslavia & 2\\\\\n\t Vojislav Melic      & 1 & 1962      & Yugoslavia & 2\\\\\n\t Sinisa Mihajlovic   & 1 & 1998      & Yugoslavia & 2\\\\\n\t Predrag Mijatovic   & 1 & 1998      & Yugoslavia & 2\\\\\n\t Milos Milutinovic   & 1 & 1954-1958 & Yugoslavia & 2\\\\\n\t Branko Oblak        & 1 & 1974      & Yugoslavia & 2\\\\\n\t Tihomir Ognjanov    & 1 & 1950      & Yugoslavia & 2\\\\\n\t Radivoje Ognjanovic & 1 & 1958      & Yugoslavia & 2\\\\\n\t Ilija Petkovic      & 1 & 1974      & Yugoslavia & 2\\\\\n\t Vladimir Petrovic   & 1 & 1974-1982 & Yugoslavia & 2\\\\\n\t Petar Radakovic     & 1 & 1962      & Yugoslavia & 2\\\\\n\t Zdravko Rajkov      & 1 & 1958      & Yugoslavia & 2\\\\\n\t Branislav Sekulic   & 1 & 1930      & Yugoslavia & 2\\\\\n\t Josip Skoblar       & 1 & 1962      & Yugoslavia & 2\\\\\n\t Safet Susic         & 1 & 1982-1990 & Yugoslavia & 2\\\\\n\t Aleksandar Tirnanic & 1 & 1930      & Yugoslavia & 2\\\\\n\t Djordje Vujadinovic & 1 & 1930      & Yugoslavia & 2\\\\\n\t Branko Zebec        & 1 & 1954-1958 & Yugoslavia & 2\\\\\n\\end{tabular}\n",
            "text/plain": [
              "     Player                Goals Years               Country    count\n",
              "1    Miroslav Klose        16    2002-2006-2010-2014 Germany    2    \n",
              "2    Ronaldo               15    1998-2002-2006      Brazil     2    \n",
              "3    Gerd Muller           14    1970-1974           Germany    2    \n",
              "4    Just Fontaine         13    1958                France     2    \n",
              "5    Pele                  12    1958-1962-1966-1970 Brazil     2    \n",
              "6    Jurgen Klinsmann      11    1990-1994-1998      Germany    2    \n",
              "7    Sandor Kocsis         11    1954                Hungary    2    \n",
              "8    Gabriel Batistuta     10    1994-1998-2002      Argentina  2    \n",
              "9    Gary Lineker          10    1986-1990           England    2    \n",
              "10   Thomas Muller         10    2010-2014           Germany    2    \n",
              "11   Helmut Rahn           10    1954-1958           Germany    2    \n",
              "12   Teofilo Cubillas      10    1970-1978-1982      Peru       2    \n",
              "13   Grzegorz Lato         10    1974-1978-1982      Poland     2    \n",
              "14   Ademir                 9    1950                Brazil     2    \n",
              "15   Jairzinho              9    1966-1970-1974      Brazil     2    \n",
              "16   Vava                   9    1958-1962           Brazil     2    \n",
              "17   Karl Heinz Rummenigge  9    1978-1982-1986      Germany    2    \n",
              "18   Uwe Seeler             9    1958-1962-1966-1970 Germany    2    \n",
              "19   Roberto Baggio         9    1990-1994-1998      Italy      2    \n",
              "20   Paolo Rossi            9    1978-1982           Italy      2    \n",
              "21   Christian Vieri        9    1998-2002           Italy      2    \n",
              "22   Eusebio                9    1966                Portugal   2    \n",
              "23   David Villa            9    2006-2010-2014      Spain      2    \n",
              "24   Diego Maradona         8    1982-1986-1990-1994 Argentina  2    \n",
              "25   Guillermo Stabile      8    1930                Argentina  2    \n",
              "26   Leonidas               8    1934-1938           Brazil     2    \n",
              "27   Rivaldo                8    1998-2002           Brazil     2    \n",
              "28   Rudi Voller            8    1986-1990-1994      Germany    2    \n",
              "29   Oscar Miguez           8    1950-1954           Uruguay    2    \n",
              "30   Careca                 7    1986-1990           Brazil     2    \n",
              "⋮    ⋮                     ⋮     ⋮                   ⋮          ⋮    \n",
              "1266 Sergei Rodionov       1     1986                USSR       2    \n",
              "1267 Ramaz Shengelia       1     1982                USSR       2    \n",
              "1268 Nikita Simonian       1     1958                USSR       2    \n",
              "1269 Pavel Yakovenko       1     0                   USSR       2    \n",
              "1270 Andrei Zygmantovich   1     1990                USSR       2    \n",
              "1271 John Charles          1     1958                Wales      2    \n",
              "1272 Terry Medwin          1     1958                Wales      2    \n",
              "1273 Stjepan Bobek         1     1950-1954           Yugoslavia 2    \n",
              "1274 Vladislav Bogicevic   1     1974                Yugoslavia 2    \n",
              "1275 Dragan Dzajic         1     1974                Yugoslavia 2    \n",
              "1276 Ivan Gudelj           1     1982                Yugoslavia 2    \n",
              "1277 Josip Katalinski      1     1974                Yugoslavia 2    \n",
              "1278 Blagoje Marjanovic    1     1930                Yugoslavia 2    \n",
              "1279 Vojislav Melic        1     1962                Yugoslavia 2    \n",
              "1280 Sinisa Mihajlovic     1     1998                Yugoslavia 2    \n",
              "1281 Predrag Mijatovic     1     1998                Yugoslavia 2    \n",
              "1282 Milos Milutinovic     1     1954-1958           Yugoslavia 2    \n",
              "1283 Branko Oblak          1     1974                Yugoslavia 2    \n",
              "1284 Tihomir Ognjanov      1     1950                Yugoslavia 2    \n",
              "1285 Radivoje Ognjanovic   1     1958                Yugoslavia 2    \n",
              "1286 Ilija Petkovic        1     1974                Yugoslavia 2    \n",
              "1287 Vladimir Petrovic     1     1974-1982           Yugoslavia 2    \n",
              "1288 Petar Radakovic       1     1962                Yugoslavia 2    \n",
              "1289 Zdravko Rajkov        1     1958                Yugoslavia 2    \n",
              "1290 Branislav Sekulic     1     1930                Yugoslavia 2    \n",
              "1291 Josip Skoblar         1     1962                Yugoslavia 2    \n",
              "1292 Safet Susic           1     1982-1990           Yugoslavia 2    \n",
              "1293 Aleksandar Tirnanic   1     1930                Yugoslavia 2    \n",
              "1294 Djordje Vujadinovic   1     1930                Yugoslavia 2    \n",
              "1295 Branko Zebec          1     1954-1958           Yugoslavia 2    "
            ]
          },
          "metadata": {}
        }
      ]
    },
    {
      "cell_type": "code",
      "source": [
        ""
      ],
      "metadata": {
        "id": "RhUxfu9BPpgP"
      },
      "execution_count": null,
      "outputs": []
    }
  ]
}