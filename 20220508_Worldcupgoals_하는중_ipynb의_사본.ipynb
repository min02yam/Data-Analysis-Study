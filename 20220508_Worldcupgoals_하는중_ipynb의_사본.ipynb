{
  "nbformat": 4,
  "nbformat_minor": 0,
  "metadata": {
    "colab": {
      "name": "20220508_Worldcupgoals_하는중.ipynb의 사본",
      "provenance": [],
      "authorship_tag": "ABX9TyNJ9i32gBNqhA0NlcV2gQpk",
      "include_colab_link": true
    },
    "kernelspec": {
      "name": "ir",
      "display_name": "R"
    },
    "language_info": {
      "name": "R"
    }
  },
  "cells": [
    {
      "cell_type": "markdown",
      "metadata": {
        "id": "view-in-github",
        "colab_type": "text"
      },
      "source": [
        "<a href=\"https://colab.research.google.com/github/min02yam/Data-study/blob/main/20220508_Worldcupgoals_%ED%95%98%EB%8A%94%EC%A4%91_ipynb%EC%9D%98_%EC%82%AC%EB%B3%B8.ipynb\" target=\"_parent\"><img src=\"https://colab.research.google.com/assets/colab-badge.svg\" alt=\"Open In Colab\"/></a>"
      ]
    },
    {
      "cell_type": "markdown",
      "source": [
        "# 1. Data Pre-processing\n",
        "\n",
        "\n",
        "## 1-2-1. Worldcupgoals.csv 데이터에서 국가별 득점을 한 선수의 숫자와 총 득점수를 표시하시오. (가장 적은 코드로 작성한 사람에게는 커피 한 잔 쿠폰을 선물로 드립니다. )\n",
        "\n",
        "## 1-2-2. Worldcupgoals.csv 데이터에서 tm 패키지를 이용해서 월드컵 출전회수 column을 추가하시오."
      ],
      "metadata": {
        "id": "glH2Xjg7kgtN"
      }
    },
    {
      "cell_type": "code",
      "source": [
        "install.packages(c(\"dplyr\",\"tm\")) "
      ],
      "metadata": {
        "colab": {
          "base_uri": "https://localhost:8080/"
        },
        "id": "pkvZ4WIjlH7t",
        "outputId": "c83f0bd7-8987-4653-f927-0420e10b2260"
      },
      "execution_count": null,
      "outputs": [
        {
          "output_type": "stream",
          "name": "stderr",
          "text": [
            "Installing packages into ‘/usr/local/lib/R/site-library’\n",
            "(as ‘lib’ is unspecified)\n",
            "\n",
            "also installing the dependencies ‘NLP’, ‘slam’, ‘BH’\n",
            "\n",
            "\n"
          ]
        }
      ]
    },
    {
      "cell_type": "code",
      "source": [
        "library(dplyr);library(magrittr)"
      ],
      "metadata": {
        "id": "Ac6Snw5ClhkZ"
      },
      "execution_count": 7,
      "outputs": []
    },
    {
      "cell_type": "code",
      "source": [
        "install.packages(\"tm\");  library(tm)"
      ],
      "metadata": {
        "colab": {
          "base_uri": "https://localhost:8080/"
        },
        "id": "CdCwYFtlU43P",
        "outputId": "325b7300-a079-4ffc-ee4a-3e84c4566c34"
      },
      "execution_count": 8,
      "outputs": [
        {
          "output_type": "stream",
          "name": "stderr",
          "text": [
            "Installing package into ‘/usr/local/lib/R/site-library’\n",
            "(as ‘lib’ is unspecified)\n",
            "\n",
            "also installing the dependencies ‘NLP’, ‘Rcpp’, ‘slam’, ‘BH’\n",
            "\n",
            "\n",
            "Loading required package: NLP\n",
            "\n"
          ]
        }
      ]
    },
    {
      "cell_type": "markdown",
      "source": [
        "- `step1)` 데이터 불러오기 및 간단한 구조 확인"
      ],
      "metadata": {
        "id": "Z3MdmaBBoLtV"
      }
    },
    {
      "cell_type": "code",
      "source": [
        "df<-read.csv(\"/content/Worldcupgoals.csv\")"
      ],
      "metadata": {
        "id": "z5XKGAGjTf0v"
      },
      "execution_count": 1,
      "outputs": []
    },
    {
      "cell_type": "code",
      "source": [
        "str(df); head(df)"
      ],
      "metadata": {
        "colab": {
          "base_uri": "https://localhost:8080/",
          "height": 377
        },
        "id": "N4SIpwCfTrIO",
        "outputId": "597fc5f6-2daa-4c3b-e0bb-4e117361b0a4"
      },
      "execution_count": 2,
      "outputs": [
        {
          "output_type": "stream",
          "name": "stdout",
          "text": [
            "'data.frame':\t1295 obs. of  4 variables:\n",
            " $ Player : chr  \"Miroslav Klose\" \"Ronaldo\" \"Gerd Muller\" \"Just Fontaine\" ...\n",
            " $ Goals  : int  16 15 14 13 12 11 11 10 10 10 ...\n",
            " $ Years  : chr  \"2002-2006-2010-2014\" \"1998-2002-2006\" \"1970-1974\" \"1958\" ...\n",
            " $ Country: chr  \"Germany\" \"Brazil\" \"Germany\" \"France\" ...\n"
          ]
        },
        {
          "output_type": "display_data",
          "data": {
            "text/html": [
              "<table class=\"dataframe\">\n",
              "<caption>A data.frame: 6 × 4</caption>\n",
              "<thead>\n",
              "\t<tr><th></th><th scope=col>Player</th><th scope=col>Goals</th><th scope=col>Years</th><th scope=col>Country</th></tr>\n",
              "\t<tr><th></th><th scope=col>&lt;chr&gt;</th><th scope=col>&lt;int&gt;</th><th scope=col>&lt;chr&gt;</th><th scope=col>&lt;chr&gt;</th></tr>\n",
              "</thead>\n",
              "<tbody>\n",
              "\t<tr><th scope=row>1</th><td>Miroslav Klose  </td><td>16</td><td>2002-2006-2010-2014</td><td>Germany</td></tr>\n",
              "\t<tr><th scope=row>2</th><td>Ronaldo         </td><td>15</td><td>1998-2002-2006     </td><td>Brazil </td></tr>\n",
              "\t<tr><th scope=row>3</th><td>Gerd Muller     </td><td>14</td><td>1970-1974          </td><td>Germany</td></tr>\n",
              "\t<tr><th scope=row>4</th><td>Just Fontaine   </td><td>13</td><td>1958               </td><td>France </td></tr>\n",
              "\t<tr><th scope=row>5</th><td>Pele            </td><td>12</td><td>1958-1962-1966-1970</td><td>Brazil </td></tr>\n",
              "\t<tr><th scope=row>6</th><td>Jurgen Klinsmann</td><td>11</td><td>1990-1994-1998     </td><td>Germany</td></tr>\n",
              "</tbody>\n",
              "</table>\n"
            ],
            "text/markdown": "\nA data.frame: 6 × 4\n\n| <!--/--> | Player &lt;chr&gt; | Goals &lt;int&gt; | Years &lt;chr&gt; | Country &lt;chr&gt; |\n|---|---|---|---|---|\n| 1 | Miroslav Klose   | 16 | 2002-2006-2010-2014 | Germany |\n| 2 | Ronaldo          | 15 | 1998-2002-2006      | Brazil  |\n| 3 | Gerd Muller      | 14 | 1970-1974           | Germany |\n| 4 | Just Fontaine    | 13 | 1958                | France  |\n| 5 | Pele             | 12 | 1958-1962-1966-1970 | Brazil  |\n| 6 | Jurgen Klinsmann | 11 | 1990-1994-1998      | Germany |\n\n",
            "text/latex": "A data.frame: 6 × 4\n\\begin{tabular}{r|llll}\n  & Player & Goals & Years & Country\\\\\n  & <chr> & <int> & <chr> & <chr>\\\\\n\\hline\n\t1 & Miroslav Klose   & 16 & 2002-2006-2010-2014 & Germany\\\\\n\t2 & Ronaldo          & 15 & 1998-2002-2006      & Brazil \\\\\n\t3 & Gerd Muller      & 14 & 1970-1974           & Germany\\\\\n\t4 & Just Fontaine    & 13 & 1958                & France \\\\\n\t5 & Pele             & 12 & 1958-1962-1966-1970 & Brazil \\\\\n\t6 & Jurgen Klinsmann & 11 & 1990-1994-1998      & Germany\\\\\n\\end{tabular}\n",
            "text/plain": [
              "  Player           Goals Years               Country\n",
              "1 Miroslav Klose   16    2002-2006-2010-2014 Germany\n",
              "2 Ronaldo          15    1998-2002-2006      Brazil \n",
              "3 Gerd Muller      14    1970-1974           Germany\n",
              "4 Just Fontaine    13    1958                France \n",
              "5 Pele             12    1958-1962-1966-1970 Brazil \n",
              "6 Jurgen Klinsmann 11    1990-1994-1998      Germany"
            ]
          },
          "metadata": {}
        }
      ]
    },
    {
      "cell_type": "markdown",
      "source": [
        "- `step2)` 국가별 그룹화 한 뒤, goals갯수 sum"
      ],
      "metadata": {
        "id": "oH8cIDz0UDX3"
      }
    },
    {
      "cell_type": "code",
      "source": [
        ""
      ],
      "metadata": {
        "id": "zEXynrGwUhxh"
      },
      "execution_count": 14,
      "outputs": []
    },
    {
      "cell_type": "code",
      "source": [
        "#장연훈선생님코드\n",
        "#wc[order(-Years)] %>% View()\n",
        "\n",
        "## 1) top 5 Country ----------\n",
        "#wc[,.N, by=Country][order(-N)][1:5]\n",
        "\n",
        "\n",
        "## 2) over 3\n",
        "#split(x = wc$Year)\n",
        "#wc$count <- sapply(strsplit(wc$Years,'-'),function(x)length(x))\n",
        "#wc %>% filter(Country=='Brazil',\n",
        "#              count==3)\n"
      ],
      "metadata": {
        "id": "fUyNgcK4Ug8n"
      },
      "execution_count": null,
      "outputs": []
    }
  ]
}