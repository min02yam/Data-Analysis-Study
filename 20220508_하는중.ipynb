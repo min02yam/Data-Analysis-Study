{
  "nbformat": 4,
  "nbformat_minor": 0,
  "metadata": {
    "colab": {
      "name": "20220508_하는중.ipynb",
      "provenance": [],
      "authorship_tag": "ABX9TyOCKFXJVUTJlP9T1amsndP7",
      "include_colab_link": true
    },
    "kernelspec": {
      "name": "ir",
      "display_name": "R"
    },
    "language_info": {
      "name": "R"
    }
  },
  "cells": [
    {
      "cell_type": "markdown",
      "metadata": {
        "id": "view-in-github",
        "colab_type": "text"
      },
      "source": [
        "<a href=\"https://colab.research.google.com/github/min02yam/Data-study/blob/main/20220508_%ED%95%98%EB%8A%94%EC%A4%91.ipynb\" target=\"_parent\"><img src=\"https://colab.research.google.com/assets/colab-badge.svg\" alt=\"Open In Colab\"/></a>"
      ]
    },
    {
      "cell_type": "markdown",
      "source": [
        "# 1. Data Pre-processing\n",
        "\n",
        "\n",
        "## 1)   airquality 데이터셋에서 결측값에 대해 3분위수로 대체하고, melt()를 써서 날짜변수를 제외한 column변수를 row변수로 바꿔서 air_melt로 저장하시오. \n",
        "## 2)   air_melt를 데이터프레임 구조를 동일하게 유지하면서 원래의 airquality 데이터셋으로 만드시오. \n"
      ],
      "metadata": {
        "id": "glH2Xjg7kgtN"
      }
    },
    {
      "cell_type": "code",
      "source": [
        "install.packages(c(\"dplyr\",\"reshape2\")) "
      ],
      "metadata": {
        "colab": {
          "base_uri": "https://localhost:8080/"
        },
        "id": "pkvZ4WIjlH7t",
        "outputId": "f0129d47-ccf3-4814-cb93-74224cea3e60"
      },
      "execution_count": 3,
      "outputs": [
        {
          "output_type": "stream",
          "name": "stderr",
          "text": [
            "Installing packages into ‘/usr/local/lib/R/site-library’\n",
            "(as ‘lib’ is unspecified)\n",
            "\n",
            "also installing the dependencies ‘plyr’, ‘Rcpp’\n",
            "\n",
            "\n"
          ]
        }
      ]
    },
    {
      "cell_type": "code",
      "source": [
        "library(dplyr); library(reshape2)"
      ],
      "metadata": {
        "id": "Ac6Snw5ClhkZ"
      },
      "execution_count": 6,
      "outputs": []
    },
    {
      "cell_type": "markdown",
      "source": [
        "- `step1)` 데이터 불러오기 및 간단한 구조 확인"
      ],
      "metadata": {
        "id": "Z3MdmaBBoLtV"
      }
    },
    {
      "cell_type": "code",
      "source": [
        "head(airquality)"
      ],
      "metadata": {
        "colab": {
          "base_uri": "https://localhost:8080/",
          "height": 286
        },
        "id": "_VV5Z3TykyuN",
        "outputId": "202dbb43-b696-417c-e1f0-44110cf4cc4d"
      },
      "execution_count": 1,
      "outputs": [
        {
          "output_type": "display_data",
          "data": {
            "text/html": [
              "<table class=\"dataframe\">\n",
              "<caption>A data.frame: 6 × 6</caption>\n",
              "<thead>\n",
              "\t<tr><th></th><th scope=col>Ozone</th><th scope=col>Solar.R</th><th scope=col>Wind</th><th scope=col>Temp</th><th scope=col>Month</th><th scope=col>Day</th></tr>\n",
              "\t<tr><th></th><th scope=col>&lt;int&gt;</th><th scope=col>&lt;int&gt;</th><th scope=col>&lt;dbl&gt;</th><th scope=col>&lt;int&gt;</th><th scope=col>&lt;int&gt;</th><th scope=col>&lt;int&gt;</th></tr>\n",
              "</thead>\n",
              "<tbody>\n",
              "\t<tr><th scope=row>1</th><td>41</td><td>190</td><td> 7.4</td><td>67</td><td>5</td><td>1</td></tr>\n",
              "\t<tr><th scope=row>2</th><td>36</td><td>118</td><td> 8.0</td><td>72</td><td>5</td><td>2</td></tr>\n",
              "\t<tr><th scope=row>3</th><td>12</td><td>149</td><td>12.6</td><td>74</td><td>5</td><td>3</td></tr>\n",
              "\t<tr><th scope=row>4</th><td>18</td><td>313</td><td>11.5</td><td>62</td><td>5</td><td>4</td></tr>\n",
              "\t<tr><th scope=row>5</th><td>NA</td><td> NA</td><td>14.3</td><td>56</td><td>5</td><td>5</td></tr>\n",
              "\t<tr><th scope=row>6</th><td>28</td><td> NA</td><td>14.9</td><td>66</td><td>5</td><td>6</td></tr>\n",
              "</tbody>\n",
              "</table>\n"
            ],
            "text/markdown": "\nA data.frame: 6 × 6\n\n| <!--/--> | Ozone &lt;int&gt; | Solar.R &lt;int&gt; | Wind &lt;dbl&gt; | Temp &lt;int&gt; | Month &lt;int&gt; | Day &lt;int&gt; |\n|---|---|---|---|---|---|---|\n| 1 | 41 | 190 |  7.4 | 67 | 5 | 1 |\n| 2 | 36 | 118 |  8.0 | 72 | 5 | 2 |\n| 3 | 12 | 149 | 12.6 | 74 | 5 | 3 |\n| 4 | 18 | 313 | 11.5 | 62 | 5 | 4 |\n| 5 | NA |  NA | 14.3 | 56 | 5 | 5 |\n| 6 | 28 |  NA | 14.9 | 66 | 5 | 6 |\n\n",
            "text/latex": "A data.frame: 6 × 6\n\\begin{tabular}{r|llllll}\n  & Ozone & Solar.R & Wind & Temp & Month & Day\\\\\n  & <int> & <int> & <dbl> & <int> & <int> & <int>\\\\\n\\hline\n\t1 & 41 & 190 &  7.4 & 67 & 5 & 1\\\\\n\t2 & 36 & 118 &  8.0 & 72 & 5 & 2\\\\\n\t3 & 12 & 149 & 12.6 & 74 & 5 & 3\\\\\n\t4 & 18 & 313 & 11.5 & 62 & 5 & 4\\\\\n\t5 & NA &  NA & 14.3 & 56 & 5 & 5\\\\\n\t6 & 28 &  NA & 14.9 & 66 & 5 & 6\\\\\n\\end{tabular}\n",
            "text/plain": [
              "  Ozone Solar.R Wind Temp Month Day\n",
              "1 41    190      7.4 67   5     1  \n",
              "2 36    118      8.0 72   5     2  \n",
              "3 12    149     12.6 74   5     3  \n",
              "4 18    313     11.5 62   5     4  \n",
              "5 NA     NA     14.3 56   5     5  \n",
              "6 28     NA     14.9 66   5     6  "
            ]
          },
          "metadata": {}
        }
      ]
    },
    {
      "cell_type": "code",
      "source": [
        "df<-airquality"
      ],
      "metadata": {
        "id": "bOVvWLKzlHbY"
      },
      "execution_count": 7,
      "outputs": []
    },
    {
      "cell_type": "code",
      "source": [
        "summary(df)"
      ],
      "metadata": {
        "colab": {
          "base_uri": "https://localhost:8080/",
          "height": 308
        },
        "id": "jnyBcsk_lDAW",
        "outputId": "28355314-22fe-4b2c-bfd6-39fd9dc03706"
      },
      "execution_count": 11,
      "outputs": [
        {
          "output_type": "display_data",
          "data": {
            "text/plain": [
              "     Ozone           Solar.R           Wind             Temp      \n",
              " Min.   :  1.00   Min.   :  7.0   Min.   : 1.700   Min.   :56.00  \n",
              " 1st Qu.: 18.00   1st Qu.:115.8   1st Qu.: 7.400   1st Qu.:72.00  \n",
              " Median : 31.50   Median :205.0   Median : 9.700   Median :79.00  \n",
              " Mean   : 42.13   Mean   :185.9   Mean   : 9.958   Mean   :77.88  \n",
              " 3rd Qu.: 63.25   3rd Qu.:258.8   3rd Qu.:11.500   3rd Qu.:85.00  \n",
              " Max.   :168.00   Max.   :334.0   Max.   :20.700   Max.   :97.00  \n",
              " NA's   :37       NA's   :7                                       \n",
              "     Month            Day      \n",
              " Min.   :5.000   Min.   : 1.0  \n",
              " 1st Qu.:6.000   1st Qu.: 8.0  \n",
              " Median :7.000   Median :16.0  \n",
              " Mean   :6.993   Mean   :15.8  \n",
              " 3rd Qu.:8.000   3rd Qu.:23.0  \n",
              " Max.   :9.000   Max.   :31.0  \n",
              "                               "
            ]
          },
          "metadata": {}
        }
      ]
    },
    {
      "cell_type": "markdown",
      "source": [
        "- `step2)` NA 0.75퀀타일 값으로 대체"
      ],
      "metadata": {
        "id": "M5PfNsXYotix"
      }
    },
    {
      "cell_type": "code",
      "source": [
        "for (j in 1:2) {\n",
        "df[,j]<- ifelse( is.na(df[,j]) , quantile(df[,j], probs=0.75, na.rm=TRUE) , df[,j] )\n",
        "}"
      ],
      "metadata": {
        "id": "uyB5tvLRosoy"
      },
      "execution_count": 16,
      "outputs": []
    },
    {
      "cell_type": "code",
      "source": [
        "summary(df); head(df) # 확인"
      ],
      "metadata": {
        "colab": {
          "base_uri": "https://localhost:8080/",
          "height": 272
        },
        "id": "EeAzVe0nqMex",
        "outputId": "461b820a-a811-46b4-97a0-97b83ffa454c"
      },
      "execution_count": 18,
      "outputs": [
        {
          "output_type": "display_data",
          "data": {
            "text/plain": [
              "     Ozone           Solar.R           Wind             Temp      \n",
              " Min.   :  1.00   Min.   :  7.0   Min.   : 1.700   Min.   :56.00  \n",
              " 1st Qu.: 21.00   1st Qu.:120.0   1st Qu.: 7.400   1st Qu.:72.00  \n",
              " Median : 45.00   Median :215.0   Median : 9.700   Median :79.00  \n",
              " Mean   : 47.24   Mean   :189.3   Mean   : 9.958   Mean   :77.88  \n",
              " 3rd Qu.: 63.25   3rd Qu.:258.8   3rd Qu.:11.500   3rd Qu.:85.00  \n",
              " Max.   :168.00   Max.   :334.0   Max.   :20.700   Max.   :97.00  \n",
              "     Month            Day      \n",
              " Min.   :5.000   Min.   : 1.0  \n",
              " 1st Qu.:6.000   1st Qu.: 8.0  \n",
              " Median :7.000   Median :16.0  \n",
              " Mean   :6.993   Mean   :15.8  \n",
              " 3rd Qu.:8.000   3rd Qu.:23.0  \n",
              " Max.   :9.000   Max.   :31.0  "
            ]
          },
          "metadata": {}
        }
      ]
    },
    {
      "cell_type": "markdown",
      "source": [
        "- `step3)` 날짜변수를 제외한 column변수를 row변수로 바꿔서 air_melt로 저장"
      ],
      "metadata": {
        "id": "LIh7EUgxt9HA"
      }
    },
    {
      "cell_type": "code",
      "source": [
        "air_melt<-melt(df[,-6]) ; air_melt"
      ],
      "metadata": {
        "id": "y-jihnnQsYJD"
      },
      "execution_count": null,
      "outputs": []
    },
    {
      "cell_type": "markdown",
      "source": [
        "- `step4)` \n",
        "데이터프레임 구조를 동일하게 유지하면서 \n",
        "> A data.frame: 765 × 2\n",
        "\n",
        "  원래의 airquality 데이터셋으로...??\n",
        "> air_melt에 6번 컬럼 값 추가..??\n",
        "\n",
        "ref. https://seananderson.ca/2013/10/19/reshape/"
      ],
      "metadata": {
        "id": "7FeILZf_uTnH"
      }
    },
    {
      "cell_type": "code",
      "source": [
        ""
      ],
      "metadata": {
        "id": "w_LJzzKst3RM"
      },
      "execution_count": null,
      "outputs": []
    }
  ]
}