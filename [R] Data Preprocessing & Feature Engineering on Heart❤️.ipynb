{
 "cells": [
  {
   "cell_type": "markdown",
   "metadata": {},
   "source": [
    "첨부된 `heart` 데이터를 활용하여 환자의 심장마비를 예측하는 모델을 만드세요.\n",
    "\n",
    "- `trtbps`, `oldpeak`, `chol`, `thalachh` 변수의 **이상치를 결측치(NA)**로 처리할 것.\n",
    "- 결측치 변수는 모두 그 변수의 **median 값으로 대체**할 것.\n",
    "- `trtbps`, `oldpeak`, `chol`, `thalachh` 변수들에 대해 **min-max scaling을 시행**할 것.\n",
    "- **로지스틱 회귀분석 모델**을 만들 것.\n",
    "    - test set: 30%\n",
    "    - feature (독립변수): Target 변수를 제외한 모든 변수 활용.\n",
    "    - seed 번호: 2022"
   ]
  },
  {
   "cell_type": "code",
   "execution_count": 1,
   "metadata": {},
   "outputs": [],
   "source": [
    "setwd(\"C:/Users/alsdu/OneDrive/문서/카카오톡 받은 파일/20220424_데이터분석 스터디/20220424_데이터분석 스터디\")"
   ]
  },
  {
   "cell_type": "code",
   "execution_count": 2,
   "metadata": {},
   "outputs": [],
   "source": [
    "df<-read.csv(\"heart.csv\")"
   ]
  },
  {
   "cell_type": "markdown",
   "metadata": {},
   "source": [
    "# 1. Basic EDA"
   ]
  },
  {
   "cell_type": "code",
   "execution_count": 3,
   "metadata": {},
   "outputs": [
    {
     "name": "stdout",
     "output_type": "stream",
     "text": [
      "'data.frame':\t303 obs. of  14 variables:\n",
      " $ age     : int  63 37 41 56 57 57 56 44 52 57 ...\n",
      " $ sex     : int  1 1 0 1 0 1 0 1 1 1 ...\n",
      " $ cp      : int  3 2 1 1 0 0 1 1 2 2 ...\n",
      " $ trtbps  : int  145 130 130 120 120 140 140 120 172 150 ...\n",
      " $ chol    : int  233 250 204 236 354 192 294 263 199 168 ...\n",
      " $ fbs     : int  1 0 0 0 0 0 0 0 1 0 ...\n",
      " $ restecg : int  0 1 0 1 1 1 0 1 1 1 ...\n",
      " $ thalachh: int  150 187 172 178 163 148 153 173 162 174 ...\n",
      " $ exng    : int  0 0 0 0 1 0 0 0 0 0 ...\n",
      " $ oldpeak : num  2.3 3.5 1.4 0.8 0.6 0.4 1.3 0 0.5 1.6 ...\n",
      " $ slp     : int  0 0 2 2 2 1 1 2 2 2 ...\n",
      " $ caa     : int  0 0 0 0 0 0 0 0 0 0 ...\n",
      " $ thall   : int  1 2 2 2 2 1 2 3 3 2 ...\n",
      " $ output  : int  1 1 1 1 1 1 1 1 1 1 ...\n"
     ]
    }
   ],
   "source": [
    "str(df)"
   ]
  },
  {
   "cell_type": "code",
   "execution_count": 4,
   "metadata": {
    "scrolled": true
   },
   "outputs": [
    {
     "data": {
      "text/plain": [
       "      age             sex               cp            trtbps     \n",
       " Min.   :29.00   Min.   :0.0000   Min.   :0.000   Min.   : 94.0  \n",
       " 1st Qu.:47.50   1st Qu.:0.0000   1st Qu.:0.000   1st Qu.:120.0  \n",
       " Median :55.00   Median :1.0000   Median :1.000   Median :130.0  \n",
       " Mean   :54.37   Mean   :0.6832   Mean   :0.967   Mean   :131.6  \n",
       " 3rd Qu.:61.00   3rd Qu.:1.0000   3rd Qu.:2.000   3rd Qu.:140.0  \n",
       " Max.   :77.00   Max.   :1.0000   Max.   :3.000   Max.   :200.0  \n",
       "      chol            fbs            restecg          thalachh    \n",
       " Min.   :126.0   Min.   :0.0000   Min.   :0.0000   Min.   : 71.0  \n",
       " 1st Qu.:211.0   1st Qu.:0.0000   1st Qu.:0.0000   1st Qu.:133.5  \n",
       " Median :240.0   Median :0.0000   Median :1.0000   Median :153.0  \n",
       " Mean   :246.3   Mean   :0.1485   Mean   :0.5281   Mean   :149.6  \n",
       " 3rd Qu.:274.5   3rd Qu.:0.0000   3rd Qu.:1.0000   3rd Qu.:166.0  \n",
       " Max.   :564.0   Max.   :1.0000   Max.   :2.0000   Max.   :202.0  \n",
       "      exng           oldpeak          slp             caa        \n",
       " Min.   :0.0000   Min.   :0.00   Min.   :0.000   Min.   :0.0000  \n",
       " 1st Qu.:0.0000   1st Qu.:0.00   1st Qu.:1.000   1st Qu.:0.0000  \n",
       " Median :0.0000   Median :0.80   Median :1.000   Median :0.0000  \n",
       " Mean   :0.3267   Mean   :1.04   Mean   :1.399   Mean   :0.7294  \n",
       " 3rd Qu.:1.0000   3rd Qu.:1.60   3rd Qu.:2.000   3rd Qu.:1.0000  \n",
       " Max.   :1.0000   Max.   :6.20   Max.   :2.000   Max.   :4.0000  \n",
       "     thall           output      \n",
       " Min.   :0.000   Min.   :0.0000  \n",
       " 1st Qu.:2.000   1st Qu.:0.0000  \n",
       " Median :2.000   Median :1.0000  \n",
       " Mean   :2.314   Mean   :0.5446  \n",
       " 3rd Qu.:3.000   3rd Qu.:1.0000  \n",
       " Max.   :3.000   Max.   :1.0000  "
      ]
     },
     "metadata": {},
     "output_type": "display_data"
    }
   ],
   "source": [
    "summary(df)"
   ]
  },
  {
   "cell_type": "markdown",
   "metadata": {},
   "source": [
    "1. 피처 모두 con vars\n",
    "2. 스케일 다름"
   ]
  },
  {
   "cell_type": "markdown",
   "metadata": {},
   "source": [
    "# 2. Data Preprocessing\n",
    "-  `trtbps(4)`, `chol(5)`, `thalachh(8)`,`oldpeak(10)` 변수의 **이상치를 결측치(NA)**로 처리할 것.\n",
    "- 결측치 변수는 모두 그 변수의 **median 값으로 대체**할 것."
   ]
  },
  {
   "cell_type": "markdown",
   "metadata": {},
   "source": [
    "## 2.1. Potential Outliers\n",
    "- quantile 분포를 보고 raw data의 분포를 헤치지 않는 선에서 해결"
   ]
  },
  {
   "cell_type": "code",
   "execution_count": 5,
   "metadata": {},
   "outputs": [
    {
     "data": {
      "image/png": "[encoded data removed]",
      "text/plain": [
       "Plot with title \"chol\""
      ]
     },
     "metadata": {},
     "output_type": "display_data"
    },
    {
     "data": {
      "image/png": "[encoded data removed]",
      "text/plain": [
       "Plot with title \"oldpeak\""
      ]
     },
     "metadata": {},
     "output_type": "display_data"
    }
   ],
   "source": [
    "par(mfrow=c(2,2))\n",
    "\n",
    "for (j in c(4:5, 8,10)) { \n",
    "boxplot(df[,j] , main=names(df)[j]  )  \n",
    "hist(df[,j],  main=names(df)[j] )\n",
    "}"
   ]
  },
  {
   "cell_type": "code",
   "execution_count": 6,
   "metadata": {
    "scrolled": true
   },
   "outputs": [
    {
     "data": {
      "text/html": [
       "<dl class=dl-horizontal>\n",
       "\t<dt>99%</dt>\n",
       "\t\t<dd>180</dd>\n",
       "\t<dt>98%</dt>\n",
       "\t\t<dd>177.84</dd>\n",
       "\t<dt>95%</dt>\n",
       "\t\t<dd>160</dd>\n",
       "\t<dt>90%</dt>\n",
       "\t\t<dd>152</dd>\n",
       "\t<dt>75%</dt>\n",
       "\t\t<dd>140</dd>\n",
       "\t<dt>50%</dt>\n",
       "\t\t<dd>130</dd>\n",
       "\t<dt>25%</dt>\n",
       "\t\t<dd>120</dd>\n",
       "\t<dt>10%</dt>\n",
       "\t\t<dd>110</dd>\n",
       "\t<dt>1%</dt>\n",
       "\t\t<dd>100</dd>\n",
       "</dl>\n"
      ],
      "text/latex": [
       "\\begin{description*}\n",
       "\\item[99\\textbackslash{}\\%] 180\n",
       "\\item[98\\textbackslash{}\\%] 177.84\n",
       "\\item[95\\textbackslash{}\\%] 160\n",
       "\\item[90\\textbackslash{}\\%] 152\n",
       "\\item[75\\textbackslash{}\\%] 140\n",
       "\\item[50\\textbackslash{}\\%] 130\n",
       "\\item[25\\textbackslash{}\\%] 120\n",
       "\\item[10\\textbackslash{}\\%] 110\n",
       "\\item[1\\textbackslash{}\\%] 100\n",
       "\\end{description*}\n"
      ],
      "text/markdown": [
       "99%\n",
       ":   18098%\n",
       ":   177.8495%\n",
       ":   16090%\n",
       ":   15275%\n",
       ":   14050%\n",
       ":   13025%\n",
       ":   12010%\n",
       ":   1101%\n",
       ":   100\n",
       "\n"
      ],
      "text/plain": [
       "   99%    98%    95%    90%    75%    50%    25%    10%     1% \n",
       "180.00 177.84 160.00 152.00 140.00 130.00 120.00 110.00 100.00 "
      ]
     },
     "metadata": {},
     "output_type": "display_data"
    }
   ],
   "source": [
    "#df[,4] 안정혈압\n",
    "quantile(df[,4] , probs=c(0.99,0.98, 0.95,0.90,0.75,0.5,0.25,0.1,0.01))"
   ]
  },
  {
   "cell_type": "code",
   "execution_count": 7,
   "metadata": {},
   "outputs": [
    {
     "data": {
      "text/plain": [
       "\n",
       " 94 100 101 102 104 105 106 108 110 112 114 115 117 118 120 122 123 124 125 126 \n",
       "  2   4   1   2   1   3   1   6  19   9   1   3   1   7  37   4   1   6  11   3 \n",
       "128 129 130 132 134 135 136 138 140 142 144 145 146 148 150 152 154 155 156 160 \n",
       " 12   1  36   8   5   6   3  13  32   3   2   5   2   2  17   5   1   1   1  11 \n",
       "164 165 170 172 174 178 180 192 200 \n",
       "  1   1   4   1   1   2   3   1   1 "
      ]
     },
     "metadata": {},
     "output_type": "display_data"
    }
   ],
   "source": [
    "table(df[,4])"
   ]
  },
  {
   "cell_type": "markdown",
   "metadata": {},
   "source": [
    "- 0.98퀀타일 값보다 큰 값 -> Potential Ouliers"
   ]
  },
  {
   "cell_type": "code",
   "execution_count": 8,
   "metadata": {},
   "outputs": [],
   "source": [
    "#x[x>quantile(x, 0.99)]<-quantile(x, 0.75)"
   ]
  },
  {
   "cell_type": "code",
   "execution_count": 9,
   "metadata": {},
   "outputs": [
    {
     "data": {
      "text/html": [
       "<dl class=dl-horizontal>\n",
       "\t<dt>99%</dt>\n",
       "\t\t<dd>406.74</dd>\n",
       "\t<dt>98%</dt>\n",
       "\t\t<dd>353.96</dd>\n",
       "\t<dt>95%</dt>\n",
       "\t\t<dd>326.9</dd>\n",
       "\t<dt>90%</dt>\n",
       "\t\t<dd>308.8</dd>\n",
       "\t<dt>75%</dt>\n",
       "\t\t<dd>274.5</dd>\n",
       "\t<dt>50%</dt>\n",
       "\t\t<dd>240</dd>\n",
       "\t<dt>25%</dt>\n",
       "\t\t<dd>211</dd>\n",
       "\t<dt>10%</dt>\n",
       "\t\t<dd>188</dd>\n",
       "\t<dt>1%</dt>\n",
       "\t\t<dd>149</dd>\n",
       "</dl>\n"
      ],
      "text/latex": [
       "\\begin{description*}\n",
       "\\item[99\\textbackslash{}\\%] 406.74\n",
       "\\item[98\\textbackslash{}\\%] 353.96\n",
       "\\item[95\\textbackslash{}\\%] 326.9\n",
       "\\item[90\\textbackslash{}\\%] 308.8\n",
       "\\item[75\\textbackslash{}\\%] 274.5\n",
       "\\item[50\\textbackslash{}\\%] 240\n",
       "\\item[25\\textbackslash{}\\%] 211\n",
       "\\item[10\\textbackslash{}\\%] 188\n",
       "\\item[1\\textbackslash{}\\%] 149\n",
       "\\end{description*}\n"
      ],
      "text/markdown": [
       "99%\n",
       ":   406.7498%\n",
       ":   353.9695%\n",
       ":   326.990%\n",
       ":   308.875%\n",
       ":   274.550%\n",
       ":   24025%\n",
       ":   21110%\n",
       ":   1881%\n",
       ":   149\n",
       "\n"
      ],
      "text/plain": [
       "   99%    98%    95%    90%    75%    50%    25%    10%     1% \n",
       "406.74 353.96 326.90 308.80 274.50 240.00 211.00 188.00 149.00 "
      ]
     },
     "metadata": {},
     "output_type": "display_data"
    }
   ],
   "source": [
    "#df[,5] 콜레스테롤\n",
    "quantile(df[,5] , probs=c(0.99,0.98, 0.95,0.90,0.75,0.5,0.25,0.1,0.01))"
   ]
  },
  {
   "cell_type": "code",
   "execution_count": 10,
   "metadata": {
    "scrolled": true
   },
   "outputs": [
    {
     "data": {
      "text/plain": [
       "\n",
       "126 131 141 149 157 160 164 166 167 168 169 172 174 175 176 177 178 180 182 183 \n",
       "  1   1   1   2   1   1   1   1   1   1   1   1   1   3   1   4   1   1   1   1 \n",
       "184 185 186 187 188 192 193 195 196 197 198 199 200 201 203 204 205 206 207 208 \n",
       "  1   1   1   1   2   2   2   1   2   6   2   3   1   3   3   6   2   2   2   2 \n",
       "209 210 211 212 213 214 215 216 217 218 219 220 221 222 223 224 225 226 227 228 \n",
       "  2   1   4   5   2   2   1   2   1   2   3   3   2   2   3   1   2   4   2   2 \n",
       "229 230 231 232 233 234 235 236 237 239 240 241 242 243 244 245 246 247 248 249 \n",
       "  3   3   3   2   4   6   2   3   1   4   4   1   1   4   3   3   3   2   2   3 \n",
       "250 252 253 254 255 256 257 258 259 260 261 262 263 264 265 266 267 268 269 270 \n",
       "  3   1   2   5   2   3   1   3   1   2   2   1   3   2   2   2   2   2   5   2 \n",
       "271 273 274 275 276 277 278 281 282 283 284 286 288 289 290 293 294 295 298 299 \n",
       "  2   2   3   2   1   2   1   1   4   3   1   2   3   2   1   1   2   2   2   2 \n",
       "300 302 303 304 305 306 307 308 309 311 313 315 318 319 321 322 325 326 327 330 \n",
       "  1   2   3   2   1   1   1   2   3   1   1   2   2   1   1   1   2   1   1   2 \n",
       "335 340 341 342 353 354 360 394 407 409 417 564 \n",
       "  2   1   1   1   1   1   1   1   1   1   1   1 "
      ]
     },
     "metadata": {},
     "output_type": "display_data"
    }
   ],
   "source": [
    "table(df[,5])"
   ]
  },
  {
   "cell_type": "markdown",
   "metadata": {},
   "source": [
    "- 0.98퀀타일 값보다 큰 값 -> Potential Ouliers (위와같음, 개수 역시 동일)"
   ]
  },
  {
   "cell_type": "code",
   "execution_count": 11,
   "metadata": {},
   "outputs": [
    {
     "data": {
      "text/html": [
       "<dl class=dl-horizontal>\n",
       "\t<dt>99%</dt>\n",
       "\t\t<dd>191.96</dd>\n",
       "\t<dt>98%</dt>\n",
       "\t\t<dd>186.96</dd>\n",
       "\t<dt>95%</dt>\n",
       "\t\t<dd>181.9</dd>\n",
       "\t<dt>90%</dt>\n",
       "\t\t<dd>176.6</dd>\n",
       "\t<dt>75%</dt>\n",
       "\t\t<dd>166</dd>\n",
       "\t<dt>50%</dt>\n",
       "\t\t<dd>153</dd>\n",
       "\t<dt>25%</dt>\n",
       "\t\t<dd>133.5</dd>\n",
       "\t<dt>10%</dt>\n",
       "\t\t<dd>116</dd>\n",
       "\t<dt>1%</dt>\n",
       "\t\t<dd>95.02</dd>\n",
       "</dl>\n"
      ],
      "text/latex": [
       "\\begin{description*}\n",
       "\\item[99\\textbackslash{}\\%] 191.96\n",
       "\\item[98\\textbackslash{}\\%] 186.96\n",
       "\\item[95\\textbackslash{}\\%] 181.9\n",
       "\\item[90\\textbackslash{}\\%] 176.6\n",
       "\\item[75\\textbackslash{}\\%] 166\n",
       "\\item[50\\textbackslash{}\\%] 153\n",
       "\\item[25\\textbackslash{}\\%] 133.5\n",
       "\\item[10\\textbackslash{}\\%] 116\n",
       "\\item[1\\textbackslash{}\\%] 95.02\n",
       "\\end{description*}\n"
      ],
      "text/markdown": [
       "99%\n",
       ":   191.9698%\n",
       ":   186.9695%\n",
       ":   181.990%\n",
       ":   176.675%\n",
       ":   16650%\n",
       ":   15325%\n",
       ":   133.510%\n",
       ":   1161%\n",
       ":   95.02\n",
       "\n"
      ],
      "text/plain": [
       "   99%    98%    95%    90%    75%    50%    25%    10%     1% \n",
       "191.96 186.96 181.90 176.60 166.00 153.00 133.50 116.00  95.02 "
      ]
     },
     "metadata": {},
     "output_type": "display_data"
    }
   ],
   "source": [
    "#df[,8] 최대 심박수\n",
    "quantile(df[,8] , probs=c(0.99,0.98, 0.95,0.90,0.75,0.5,0.25,0.1,0.01))"
   ]
  },
  {
   "cell_type": "code",
   "execution_count": 12,
   "metadata": {},
   "outputs": [
    {
     "data": {
      "text/plain": [
       "\n",
       " 71  88  90  95  96  97  99 103 105 106 108 109 111 112 113 114 115 116 117 118 \n",
       "  1   1   1   1   2   1   1   2   3   1   2   2   3   2   1   3   3   2   1   1 \n",
       "120 121 122 123 124 125 126 127 128 129 130 131 132 133 134 136 137 138 139 140 \n",
       "  3   1   4   2   1   7   4   1   1   1   4   4   7   2   1   2   1   3   2   6 \n",
       "141 142 143 144 145 146 147 148 149 150 151 152 153 154 155 156 157 158 159 160 \n",
       "  3   6   7   7   4   4   5   3   2   7   4   8   3   5   4   6   5   6   4   9 \n",
       "161 162 163 164 165 166 167 168 169 170 171 172 173 174 175 177 178 179 180 181 \n",
       "  5  11   9   2   5   3   1   5   6   5   4   7   8   5   3   1   5   5   2   2 \n",
       "182 184 185 186 187 188 190 192 194 195 202 \n",
       "  5   1   1   2   1   1   1   1   1   1   1 "
      ]
     },
     "metadata": {},
     "output_type": "display_data"
    }
   ],
   "source": [
    "table(df[,8])"
   ]
  },
  {
   "cell_type": "markdown",
   "metadata": {},
   "source": [
    "- 0.98퀀타일 값보다 큰 값 -> Potential Ouliers (위 2 변수와 같음, 개수 역시 동일)"
   ]
  },
  {
   "cell_type": "code",
   "execution_count": 13,
   "metadata": {},
   "outputs": [
    {
     "data": {
      "text/html": [
       "<dl class=dl-horizontal>\n",
       "\t<dt>99%</dt>\n",
       "\t\t<dd>4.2</dd>\n",
       "\t<dt>98%</dt>\n",
       "\t\t<dd>4</dd>\n",
       "\t<dt>95%</dt>\n",
       "\t\t<dd>3.4</dd>\n",
       "\t<dt>90%</dt>\n",
       "\t\t<dd>2.8</dd>\n",
       "\t<dt>75%</dt>\n",
       "\t\t<dd>1.6</dd>\n",
       "\t<dt>50%</dt>\n",
       "\t\t<dd>0.8</dd>\n",
       "\t<dt>25%</dt>\n",
       "\t\t<dd>0</dd>\n",
       "\t<dt>10%</dt>\n",
       "\t\t<dd>0</dd>\n",
       "\t<dt>1%</dt>\n",
       "\t\t<dd>0</dd>\n",
       "</dl>\n"
      ],
      "text/latex": [
       "\\begin{description*}\n",
       "\\item[99\\textbackslash{}\\%] 4.2\n",
       "\\item[98\\textbackslash{}\\%] 4\n",
       "\\item[95\\textbackslash{}\\%] 3.4\n",
       "\\item[90\\textbackslash{}\\%] 2.8\n",
       "\\item[75\\textbackslash{}\\%] 1.6\n",
       "\\item[50\\textbackslash{}\\%] 0.8\n",
       "\\item[25\\textbackslash{}\\%] 0\n",
       "\\item[10\\textbackslash{}\\%] 0\n",
       "\\item[1\\textbackslash{}\\%] 0\n",
       "\\end{description*}\n"
      ],
      "text/markdown": [
       "99%\n",
       ":   4.298%\n",
       ":   495%\n",
       ":   3.490%\n",
       ":   2.875%\n",
       ":   1.650%\n",
       ":   0.825%\n",
       ":   010%\n",
       ":   01%\n",
       ":   0\n",
       "\n"
      ],
      "text/plain": [
       "99% 98% 95% 90% 75% 50% 25% 10%  1% \n",
       "4.2 4.0 3.4 2.8 1.6 0.8 0.0 0.0 0.0 "
      ]
     },
     "metadata": {},
     "output_type": "display_data"
    }
   ],
   "source": [
    "#df[,10]\n",
    "quantile(df[,10] , probs=c(0.99,0.98, 0.95,0.90,0.75,0.5,0.25,0.1,0.01))"
   ]
  },
  {
   "cell_type": "code",
   "execution_count": 14,
   "metadata": {
    "scrolled": true
   },
   "outputs": [
    {
     "data": {
      "text/plain": [
       "\n",
       "  0 0.1 0.2 0.3 0.4 0.5 0.6 0.7 0.8 0.9   1 1.1 1.2 1.3 1.4 1.5 1.6 1.8 1.9   2 \n",
       " 99   7  12   3   9   5  14   1  13   3  14   2  17   1  13   5  11  10   5   9 \n",
       "2.1 2.2 2.3 2.4 2.5 2.6 2.8 2.9   3 3.1 3.2 3.4 3.5 3.6 3.8   4 4.2 4.4 5.6 6.2 \n",
       "  1   4   2   3   2   6   6   1   5   1   2   3   1   4   1   3   2   1   1   1 "
      ]
     },
     "metadata": {},
     "output_type": "display_data"
    }
   ],
   "source": [
    "table(df[,10])"
   ]
  },
  {
   "cell_type": "markdown",
   "metadata": {},
   "source": [
    "- **정리**: `네 변수 모두 0.98 퀀타일 값 보다 크면 NA로 처리`"
   ]
  },
  {
   "cell_type": "code",
   "execution_count": 15,
   "metadata": {},
   "outputs": [],
   "source": [
    "#함수 생성\n",
    "out<-function(x) {\n",
    "x[x>quantile(x, 0.98)]<-NA\n",
    "x\n",
    "}"
   ]
  },
  {
   "cell_type": "code",
   "execution_count": 16,
   "metadata": {},
   "outputs": [],
   "source": [
    "#c(4:5, 8,10)\n",
    "for (j in c(4:5, 8,10)) { \n",
    "df[,j]<-out(df[,j])\n",
    "}"
   ]
  },
  {
   "cell_type": "code",
   "execution_count": 17,
   "metadata": {
    "scrolled": true
   },
   "outputs": [
    {
     "data": {
      "text/plain": [
       "      age             sex               cp            trtbps     \n",
       " Min.   :29.00   Min.   :0.0000   Min.   :0.000   Min.   : 94.0  \n",
       " 1st Qu.:47.50   1st Qu.:0.0000   1st Qu.:0.000   1st Qu.:120.0  \n",
       " Median :55.00   Median :1.0000   Median :1.000   Median :130.0  \n",
       " Mean   :54.37   Mean   :0.6832   Mean   :0.967   Mean   :130.4  \n",
       " 3rd Qu.:61.00   3rd Qu.:1.0000   3rd Qu.:2.000   3rd Qu.:140.0  \n",
       " Max.   :77.00   Max.   :1.0000   Max.   :3.000   Max.   :174.0  \n",
       "                                                  NA's   :7      \n",
       "      chol            fbs            restecg          thalachh    \n",
       " Min.   :126.0   Min.   :0.0000   Min.   :0.0000   Min.   : 71.0  \n",
       " 1st Qu.:210.8   1st Qu.:0.0000   1st Qu.:0.0000   1st Qu.:132.8  \n",
       " Median :239.5   Median :0.0000   Median :1.0000   Median :152.0  \n",
       " Mean   :242.3   Mean   :0.1485   Mean   :0.5281   Mean   :148.6  \n",
       " 3rd Qu.:271.5   3rd Qu.:0.0000   3rd Qu.:1.0000   3rd Qu.:165.0  \n",
       " Max.   :353.0   Max.   :1.0000   Max.   :2.0000   Max.   :186.0  \n",
       " NA's   :7                                         NA's   :7      \n",
       "      exng           oldpeak            slp             caa        \n",
       " Min.   :0.0000   Min.   :0.0000   Min.   :0.000   Min.   :0.0000  \n",
       " 1st Qu.:0.0000   1st Qu.:0.0000   1st Qu.:1.000   1st Qu.:0.0000  \n",
       " Median :0.0000   Median :0.6500   Median :1.000   Median :0.0000  \n",
       " Mean   :0.3267   Mean   :0.9745   Mean   :1.399   Mean   :0.7294  \n",
       " 3rd Qu.:1.0000   3rd Qu.:1.6000   3rd Qu.:2.000   3rd Qu.:1.0000  \n",
       " Max.   :1.0000   Max.   :4.0000   Max.   :2.000   Max.   :4.0000  \n",
       "                  NA's   :5                                        \n",
       "     thall           output      \n",
       " Min.   :0.000   Min.   :0.0000  \n",
       " 1st Qu.:2.000   1st Qu.:0.0000  \n",
       " Median :2.000   Median :1.0000  \n",
       " Mean   :2.314   Mean   :0.5446  \n",
       " 3rd Qu.:3.000   3rd Qu.:1.0000  \n",
       " Max.   :3.000   Max.   :1.0000  \n",
       "                                 "
      ]
     },
     "metadata": {},
     "output_type": "display_data"
    }
   ],
   "source": [
    "summary(df) #확인"
   ]
  },
  {
   "cell_type": "markdown",
   "metadata": {},
   "source": [
    "## 2.2. Imputation\n",
    "- 결측치 변수는 모두 그 변수의 **median 값으로 대체**할 것."
   ]
  },
  {
   "cell_type": "code",
   "execution_count": 18,
   "metadata": {},
   "outputs": [],
   "source": [
    "# ifelse(is.na(df[,4]),   median(df[,4], na.rm=TRUE) ,   df[,4]    )"
   ]
  },
  {
   "cell_type": "code",
   "execution_count": 19,
   "metadata": {},
   "outputs": [],
   "source": [
    "#적용\n",
    "for (j in c(4:5, 8,10)) { \n",
    "df[,j]<-ifelse(is.na(df[,j]),   median(df[,j], na.rm=TRUE) ,   df[,j]    )\n",
    "}"
   ]
  },
  {
   "cell_type": "code",
   "execution_count": 20,
   "metadata": {},
   "outputs": [
    {
     "data": {
      "text/plain": [
       "     trtbps           chol          thalachh        oldpeak      \n",
       " Min.   : 94.0   Min.   :126.0   Min.   : 71.0   Min.   :0.0000  \n",
       " 1st Qu.:120.0   1st Qu.:211.0   1st Qu.:133.5   1st Qu.:0.0000  \n",
       " Median :130.0   Median :239.5   Median :152.0   Median :0.6500  \n",
       " Mean   :130.4   Mean   :242.2   Mean   :148.7   Mean   :0.9691  \n",
       " 3rd Qu.:140.0   3rd Qu.:270.5   3rd Qu.:164.5   3rd Qu.:1.6000  \n",
       " Max.   :174.0   Max.   :353.0   Max.   :186.0   Max.   :4.0000  "
      ]
     },
     "metadata": {},
     "output_type": "display_data"
    }
   ],
   "source": [
    "#확인\n",
    "summary(df[c(4:5, 8,10)])"
   ]
  },
  {
   "cell_type": "markdown",
   "metadata": {},
   "source": [
    "# 3. Feature Engineering \n",
    "- `trtbps`, `oldpeak`, `chol`, `thalachh` 변수들에 대해 **min-max scaling을 시행**할 것."
   ]
  },
  {
   "cell_type": "code",
   "execution_count": 21,
   "metadata": {},
   "outputs": [],
   "source": [
    "#함수정의\n",
    "min_max_norm <- function(x) {\n",
    "    (x - min(x)) / (max(x) - min(x))\n",
    "  }"
   ]
  },
  {
   "cell_type": "code",
   "execution_count": 22,
   "metadata": {
    "scrolled": true
   },
   "outputs": [],
   "source": [
    "#적용\n",
    "df[c(4:5, 8,10)]<- as.data.frame(lapply(df[c(4:5, 8,10)], min_max_norm))"
   ]
  },
  {
   "cell_type": "code",
   "execution_count": 23,
   "metadata": {},
   "outputs": [
    {
     "data": {
      "text/plain": [
       "      age             sex               cp            trtbps      \n",
       " Min.   :29.00   Min.   :0.0000   Min.   :0.000   Min.   :0.0000  \n",
       " 1st Qu.:47.50   1st Qu.:0.0000   1st Qu.:0.000   1st Qu.:0.3250  \n",
       " Median :55.00   Median :1.0000   Median :1.000   Median :0.4500  \n",
       " Mean   :54.37   Mean   :0.6832   Mean   :0.967   Mean   :0.4547  \n",
       " 3rd Qu.:61.00   3rd Qu.:1.0000   3rd Qu.:2.000   3rd Qu.:0.5750  \n",
       " Max.   :77.00   Max.   :1.0000   Max.   :3.000   Max.   :1.0000  \n",
       "      chol             fbs            restecg          thalachh     \n",
       " Min.   :0.0000   Min.   :0.0000   Min.   :0.0000   Min.   :0.0000  \n",
       " 1st Qu.:0.3744   1st Qu.:0.0000   1st Qu.:0.0000   1st Qu.:0.5435  \n",
       " Median :0.5000   Median :0.0000   Median :1.0000   Median :0.7043  \n",
       " Mean   :0.5119   Mean   :0.1485   Mean   :0.5281   Mean   :0.6757  \n",
       " 3rd Qu.:0.6366   3rd Qu.:0.0000   3rd Qu.:1.0000   3rd Qu.:0.8130  \n",
       " Max.   :1.0000   Max.   :1.0000   Max.   :2.0000   Max.   :1.0000  \n",
       "      exng           oldpeak            slp             caa        \n",
       " Min.   :0.0000   Min.   :0.0000   Min.   :0.000   Min.   :0.0000  \n",
       " 1st Qu.:0.0000   1st Qu.:0.0000   1st Qu.:1.000   1st Qu.:0.0000  \n",
       " Median :0.0000   Median :0.1625   Median :1.000   Median :0.0000  \n",
       " Mean   :0.3267   Mean   :0.2423   Mean   :1.399   Mean   :0.7294  \n",
       " 3rd Qu.:1.0000   3rd Qu.:0.4000   3rd Qu.:2.000   3rd Qu.:1.0000  \n",
       " Max.   :1.0000   Max.   :1.0000   Max.   :2.000   Max.   :4.0000  \n",
       "     thall           output      \n",
       " Min.   :0.000   Min.   :0.0000  \n",
       " 1st Qu.:2.000   1st Qu.:0.0000  \n",
       " Median :2.000   Median :1.0000  \n",
       " Mean   :2.314   Mean   :0.5446  \n",
       " 3rd Qu.:3.000   3rd Qu.:1.0000  \n",
       " Max.   :3.000   Max.   :1.0000  "
      ]
     },
     "metadata": {},
     "output_type": "display_data"
    }
   ],
   "source": [
    "#확인\n",
    "summary(df) "
   ]
  }
 ],
 "metadata": {
  "kernelspec": {
   "display_name": "R",
   "language": "R",
   "name": "ir"
  },
  "language_info": {
   "codemirror_mode": "r",
   "file_extension": ".r",
   "mimetype": "text/x-r-source",
   "name": "R",
   "pygments_lexer": "r",
   "version": "3.6.1"
  },
  "toc": {
   "base_numbering": 1,
   "nav_menu": {},
   "number_sections": true,
   "sideBar": true,
   "skip_h1_title": false,
   "title_cell": "Table of Contents",
   "title_sidebar": "Contents",
   "toc_cell": false,
   "toc_position": {},
   "toc_section_display": true,
   "toc_window_display": false
  }
 },
 "nbformat": 4,
 "nbformat_minor": 4
}
