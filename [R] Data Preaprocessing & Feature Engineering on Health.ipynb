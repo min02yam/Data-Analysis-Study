{
 "cells": [
  {
   "cell_type": "markdown",
   "metadata": {},
   "source": [
    "health 데이터를 활용하여 **인종 별** **'질병이력의 합'**과 **'주관적 건강 인식'**의 상관계수를 구한 뒤, 상관계수가 **가장 큰 인종**과 **가장 작은 인종**을 구하세요.\n",
    "\n",
    "1) 문자형 변수를 숫자형 변수로 바꿔서 진행할 것.\n",
    "\n",
    "** 질병 이력 변수: HeartDisease(1), Diabetic(12), Stroke(5), KidneyDisease(17), SkinCancer(18), Asthma(16)\n",
    "\n",
    "** 주관적 건강 인식: GenHealth(14) (poor < fair < good < very good < excellent)\n",
    "\n"
   ]
  },
  {
   "cell_type": "code",
   "execution_count": 1,
   "metadata": {},
   "outputs": [
    {
     "data": {
      "text/html": [
       "'C:/Users/alsdu/dacon'"
      ],
      "text/latex": [
       "'C:/Users/alsdu/dacon'"
      ],
      "text/markdown": [
       "'C:/Users/alsdu/dacon'"
      ],
      "text/plain": [
       "[1] \"C:/Users/alsdu/dacon\""
      ]
     },
     "metadata": {},
     "output_type": "display_data"
    }
   ],
   "source": [
    "getwd()"
   ]
  },
  {
   "cell_type": "code",
   "execution_count": 2,
   "metadata": {},
   "outputs": [],
   "source": [
    "setwd(\"C:/Users/alsdu/OneDrive/문서/카카오톡 받은 파일/20220424_데이터분석 스터디/20220424_데이터분석 스터디\")"
   ]
  },
  {
   "cell_type": "code",
   "execution_count": 16,
   "metadata": {},
   "outputs": [],
   "source": [
    "df<-read.csv(\"health.csv\")"
   ]
  },
  {
   "cell_type": "code",
   "execution_count": 4,
   "metadata": {},
   "outputs": [
    {
     "name": "stdout",
     "output_type": "stream",
     "text": [
      "'data.frame':\t319795 obs. of  18 variables:\n",
      " $ HeartDisease    : Factor w/ 2 levels \"No\",\"Yes\": 1 1 1 1 1 2 1 1 1 1 ...\n",
      " $ BMI             : num  16.6 20.3 26.6 24.2 23.7 ...\n",
      " $ Smoking         : Factor w/ 2 levels \"No\",\"Yes\": 2 1 2 1 1 2 1 2 1 1 ...\n",
      " $ AlcoholDrinking : Factor w/ 2 levels \"No\",\"Yes\": 1 1 1 1 1 1 1 1 1 1 ...\n",
      " $ Stroke          : Factor w/ 2 levels \"No\",\"Yes\": 1 2 1 1 1 1 1 1 1 1 ...\n",
      " $ PhysicalHealth  : num  3 0 20 0 28 6 15 5 0 0 ...\n",
      " $ MentalHealth    : num  30 0 30 0 0 0 0 0 0 0 ...\n",
      " $ DiffWalking     : Factor w/ 2 levels \"No\",\"Yes\": 1 1 1 1 2 2 1 2 1 2 ...\n",
      " $ Sex             : Factor w/ 2 levels \"Female\",\"Male\": 1 1 2 1 1 1 1 1 1 2 ...\n",
      " $ AgeCategory     : Factor w/ 13 levels \"18-24\",\"25-29\",..: 8 13 10 12 5 12 11 13 13 10 ...\n",
      " $ Race            : Factor w/ 6 levels \"American Indian/Alaskan Native\",..: 6 6 6 6 6 3 6 6 6 6 ...\n",
      " $ Diabetic        : Factor w/ 4 levels \"No\",\"No, borderline diabetes\",..: 3 1 3 1 1 1 1 3 2 1 ...\n",
      " $ PhysicalActivity: Factor w/ 2 levels \"No\",\"Yes\": 2 2 2 1 2 1 2 1 1 2 ...\n",
      " $ GenHealth       : Factor w/ 5 levels \"Excellent\",\"Fair\",..: 5 5 2 3 5 2 2 3 2 3 ...\n",
      " $ SleepTime       : num  5 7 8 6 8 12 4 9 5 10 ...\n",
      " $ Asthma          : Factor w/ 2 levels \"No\",\"Yes\": 2 1 2 1 1 1 2 2 1 1 ...\n",
      " $ KidneyDisease   : Factor w/ 2 levels \"No\",\"Yes\": 1 1 1 1 1 1 1 1 2 1 ...\n",
      " $ SkinCancer      : Factor w/ 2 levels \"No\",\"Yes\": 2 1 1 2 1 1 2 1 1 1 ...\n"
     ]
    }
   ],
   "source": [
    "str(df)"
   ]
  },
  {
   "cell_type": "code",
   "execution_count": 5,
   "metadata": {
    "scrolled": true
   },
   "outputs": [
    {
     "data": {
      "text/html": [
       "<table>\n",
       "<thead><tr><th scope=col>HeartDisease</th><th scope=col>BMI</th><th scope=col>Smoking</th><th scope=col>AlcoholDrinking</th><th scope=col>Stroke</th><th scope=col>PhysicalHealth</th><th scope=col>MentalHealth</th><th scope=col>DiffWalking</th><th scope=col>Sex</th><th scope=col>AgeCategory</th><th scope=col>Race</th><th scope=col>Diabetic</th><th scope=col>PhysicalActivity</th><th scope=col>GenHealth</th><th scope=col>SleepTime</th><th scope=col>Asthma</th><th scope=col>KidneyDisease</th><th scope=col>SkinCancer</th></tr></thead>\n",
       "<tbody>\n",
       "\t<tr><td>No         </td><td>16.60      </td><td>Yes        </td><td>No         </td><td>No         </td><td> 3         </td><td>30         </td><td>No         </td><td>Female     </td><td>55-59      </td><td>White      </td><td>Yes        </td><td>Yes        </td><td>Very good  </td><td> 5         </td><td>Yes        </td><td>No         </td><td>Yes        </td></tr>\n",
       "\t<tr><td>No         </td><td>20.34      </td><td>No         </td><td>No         </td><td>Yes        </td><td> 0         </td><td> 0         </td><td>No         </td><td>Female     </td><td>80 or older</td><td>White      </td><td>No         </td><td>Yes        </td><td>Very good  </td><td> 7         </td><td>No         </td><td>No         </td><td>No         </td></tr>\n",
       "\t<tr><td>No         </td><td>26.58      </td><td>Yes        </td><td>No         </td><td>No         </td><td>20         </td><td>30         </td><td>No         </td><td>Male       </td><td>65-69      </td><td>White      </td><td>Yes        </td><td>Yes        </td><td>Fair       </td><td> 8         </td><td>Yes        </td><td>No         </td><td>No         </td></tr>\n",
       "\t<tr><td>No         </td><td>24.21      </td><td>No         </td><td>No         </td><td>No         </td><td> 0         </td><td> 0         </td><td>No         </td><td>Female     </td><td>75-79      </td><td>White      </td><td>No         </td><td>No         </td><td>Good       </td><td> 6         </td><td>No         </td><td>No         </td><td>Yes        </td></tr>\n",
       "\t<tr><td>No         </td><td>23.71      </td><td>No         </td><td>No         </td><td>No         </td><td>28         </td><td> 0         </td><td>Yes        </td><td>Female     </td><td>40-44      </td><td>White      </td><td>No         </td><td>Yes        </td><td>Very good  </td><td> 8         </td><td>No         </td><td>No         </td><td>No         </td></tr>\n",
       "\t<tr><td>Yes        </td><td>28.87      </td><td>Yes        </td><td>No         </td><td>No         </td><td> 6         </td><td> 0         </td><td>Yes        </td><td>Female     </td><td>75-79      </td><td>Black      </td><td>No         </td><td>No         </td><td>Fair       </td><td>12         </td><td>No         </td><td>No         </td><td>No         </td></tr>\n",
       "</tbody>\n",
       "</table>\n"
      ],
      "text/latex": [
       "\\begin{tabular}{r|llllllllllllllllll}\n",
       " HeartDisease & BMI & Smoking & AlcoholDrinking & Stroke & PhysicalHealth & MentalHealth & DiffWalking & Sex & AgeCategory & Race & Diabetic & PhysicalActivity & GenHealth & SleepTime & Asthma & KidneyDisease & SkinCancer\\\\\n",
       "\\hline\n",
       "\t No          & 16.60       & Yes         & No          & No          &  3          & 30          & No          & Female      & 55-59       & White       & Yes         & Yes         & Very good   &  5          & Yes         & No          & Yes        \\\\\n",
       "\t No          & 20.34       & No          & No          & Yes         &  0          &  0          & No          & Female      & 80 or older & White       & No          & Yes         & Very good   &  7          & No          & No          & No         \\\\\n",
       "\t No          & 26.58       & Yes         & No          & No          & 20          & 30          & No          & Male        & 65-69       & White       & Yes         & Yes         & Fair        &  8          & Yes         & No          & No         \\\\\n",
       "\t No          & 24.21       & No          & No          & No          &  0          &  0          & No          & Female      & 75-79       & White       & No          & No          & Good        &  6          & No          & No          & Yes        \\\\\n",
       "\t No          & 23.71       & No          & No          & No          & 28          &  0          & Yes         & Female      & 40-44       & White       & No          & Yes         & Very good   &  8          & No          & No          & No         \\\\\n",
       "\t Yes         & 28.87       & Yes         & No          & No          &  6          &  0          & Yes         & Female      & 75-79       & Black       & No          & No          & Fair        & 12          & No          & No          & No         \\\\\n",
       "\\end{tabular}\n"
      ],
      "text/markdown": [
       "\n",
       "| HeartDisease | BMI | Smoking | AlcoholDrinking | Stroke | PhysicalHealth | MentalHealth | DiffWalking | Sex | AgeCategory | Race | Diabetic | PhysicalActivity | GenHealth | SleepTime | Asthma | KidneyDisease | SkinCancer |\n",
       "|---|---|---|---|---|---|---|---|---|---|---|---|---|---|---|---|---|---|\n",
       "| No          | 16.60       | Yes         | No          | No          |  3          | 30          | No          | Female      | 55-59       | White       | Yes         | Yes         | Very good   |  5          | Yes         | No          | Yes         |\n",
       "| No          | 20.34       | No          | No          | Yes         |  0          |  0          | No          | Female      | 80 or older | White       | No          | Yes         | Very good   |  7          | No          | No          | No          |\n",
       "| No          | 26.58       | Yes         | No          | No          | 20          | 30          | No          | Male        | 65-69       | White       | Yes         | Yes         | Fair        |  8          | Yes         | No          | No          |\n",
       "| No          | 24.21       | No          | No          | No          |  0          |  0          | No          | Female      | 75-79       | White       | No          | No          | Good        |  6          | No          | No          | Yes         |\n",
       "| No          | 23.71       | No          | No          | No          | 28          |  0          | Yes         | Female      | 40-44       | White       | No          | Yes         | Very good   |  8          | No          | No          | No          |\n",
       "| Yes         | 28.87       | Yes         | No          | No          |  6          |  0          | Yes         | Female      | 75-79       | Black       | No          | No          | Fair        | 12          | No          | No          | No          |\n",
       "\n"
      ],
      "text/plain": [
       "  HeartDisease BMI   Smoking AlcoholDrinking Stroke PhysicalHealth MentalHealth\n",
       "1 No           16.60 Yes     No              No      3             30          \n",
       "2 No           20.34 No      No              Yes     0              0          \n",
       "3 No           26.58 Yes     No              No     20             30          \n",
       "4 No           24.21 No      No              No      0              0          \n",
       "5 No           23.71 No      No              No     28              0          \n",
       "6 Yes          28.87 Yes     No              No      6              0          \n",
       "  DiffWalking Sex    AgeCategory Race  Diabetic PhysicalActivity GenHealth\n",
       "1 No          Female 55-59       White Yes      Yes              Very good\n",
       "2 No          Female 80 or older White No       Yes              Very good\n",
       "3 No          Male   65-69       White Yes      Yes              Fair     \n",
       "4 No          Female 75-79       White No       No               Good     \n",
       "5 Yes         Female 40-44       White No       Yes              Very good\n",
       "6 Yes         Female 75-79       Black No       No               Fair     \n",
       "  SleepTime Asthma KidneyDisease SkinCancer\n",
       "1  5        Yes    No            Yes       \n",
       "2  7        No     No            No        \n",
       "3  8        Yes    No            No        \n",
       "4  6        No     No            Yes       \n",
       "5  8        No     No            No        \n",
       "6 12        No     No            No        "
      ]
     },
     "metadata": {},
     "output_type": "display_data"
    }
   ],
   "source": [
    "head(df)"
   ]
  },
  {
   "cell_type": "code",
   "execution_count": 10,
   "metadata": {},
   "outputs": [
    {
     "data": {
      "text/plain": [
       "\n",
       "American Indian/Alaskan Native                          Asian \n",
       "                          5202                           8068 \n",
       "                         Black                       Hispanic \n",
       "                         22939                          27446 \n",
       "                         Other                          White \n",
       "                         10928                         245212 "
      ]
     },
     "metadata": {},
     "output_type": "display_data"
    }
   ],
   "source": [
    "#클래스 확인\n",
    "table(df$Race)"
   ]
  },
  {
   "cell_type": "code",
   "execution_count": 11,
   "metadata": {},
   "outputs": [
    {
     "data": {
      "text/plain": [
       "\n",
       "                     No No, borderline diabetes                     Yes \n",
       "                 269653                    6781                   40802 \n",
       " Yes (during pregnancy) \n",
       "                   2559 "
      ]
     },
     "metadata": {},
     "output_type": "display_data"
    }
   ],
   "source": [
    "# Diabetic(12)\n",
    "table(df[12])"
   ]
  },
  {
   "cell_type": "markdown",
   "metadata": {},
   "source": [
    "- 12번 변수만 질병이력 중 클래스 4개로 확인"
   ]
  },
  {
   "cell_type": "markdown",
   "metadata": {},
   "source": [
    "# 1. 범주 재조정\n",
    "- Diabetic(12)변수 클래스 조정 (No, Yes)"
   ]
  },
  {
   "cell_type": "code",
   "execution_count": 17,
   "metadata": {},
   "outputs": [
    {
     "data": {
      "text/plain": [
       "\n",
       "     0      1 \n",
       "278993  40802 "
      ]
     },
     "metadata": {},
     "output_type": "display_data"
    }
   ],
   "source": [
    "# head( df[,12] %in% \"Yes\" , 5 ) \n",
    "df[,12]<-ifelse(df[,12] %in% \"Yes\" , 1,0 )\n",
    "table( df[12] ) "
   ]
  },
  {
   "cell_type": "markdown",
   "metadata": {},
   "source": [
    "# 2. Label Encoding\n",
    "## 2.1. 12번 제외 나머지 변수 (순서X)"
   ]
  },
  {
   "cell_type": "code",
   "execution_count": 18,
   "metadata": {},
   "outputs": [
    {
     "name": "stdout",
     "output_type": "stream",
     "text": [
      "package 'superml' successfully unpacked and MD5 sums checked\n",
      "\n",
      "The downloaded binary packages are in\n",
      "\tC:\\Users\\alsdu\\AppData\\Local\\Temp\\RtmpqO2lzf\\downloaded_packages\n"
     ]
    }
   ],
   "source": [
    "install.packages(\"superml\")"
   ]
  },
  {
   "cell_type": "code",
   "execution_count": 19,
   "metadata": {},
   "outputs": [
    {
     "name": "stderr",
     "output_type": "stream",
     "text": [
      "Warning message:\n",
      "\"package 'superml' was built under R version 3.6.3\""
     ]
    }
   ],
   "source": [
    "library(R6)\n",
    "library(superml) # Lebel Encoder"
   ]
  },
  {
   "cell_type": "code",
   "execution_count": 20,
   "metadata": {},
   "outputs": [],
   "source": [
    "lb= LabelEncoder$new()"
   ]
  },
  {
   "cell_type": "code",
   "execution_count": 21,
   "metadata": {},
   "outputs": [],
   "source": [
    "# c(16:18)\n",
    "for (j in 16:18) { \n",
    "df[,j] = lb$fit_transform(df[,j])\n",
    "}"
   ]
  },
  {
   "cell_type": "code",
   "execution_count": 22,
   "metadata": {},
   "outputs": [],
   "source": [
    "#1,5\n",
    "df[,1] = lb$fit_transform(df[,1])\n",
    "df[,5] = lb$fit_transform(df[,5])"
   ]
  },
  {
   "cell_type": "code",
   "execution_count": 23,
   "metadata": {
    "scrolled": true
   },
   "outputs": [
    {
     "data": {
      "text/html": [
       "<table>\n",
       "<thead><tr><th scope=col>HeartDisease</th><th scope=col>BMI</th><th scope=col>Smoking</th><th scope=col>AlcoholDrinking</th><th scope=col>Stroke</th><th scope=col>PhysicalHealth</th><th scope=col>MentalHealth</th><th scope=col>DiffWalking</th><th scope=col>Sex</th><th scope=col>AgeCategory</th><th scope=col>Race</th><th scope=col>Diabetic</th><th scope=col>PhysicalActivity</th><th scope=col>GenHealth</th><th scope=col>SleepTime</th><th scope=col>Asthma</th><th scope=col>KidneyDisease</th><th scope=col>SkinCancer</th></tr></thead>\n",
       "<tbody>\n",
       "\t<tr><td>0          </td><td>16.60      </td><td>Yes        </td><td>No         </td><td>0          </td><td> 3         </td><td>30         </td><td>No         </td><td>Female     </td><td>55-59      </td><td>White      </td><td>1          </td><td>Yes        </td><td>Very good  </td><td> 5         </td><td>1          </td><td>0          </td><td>1          </td></tr>\n",
       "\t<tr><td>0          </td><td>20.34      </td><td>No         </td><td>No         </td><td>1          </td><td> 0         </td><td> 0         </td><td>No         </td><td>Female     </td><td>80 or older</td><td>White      </td><td>0          </td><td>Yes        </td><td>Very good  </td><td> 7         </td><td>0          </td><td>0          </td><td>0          </td></tr>\n",
       "\t<tr><td>0          </td><td>26.58      </td><td>Yes        </td><td>No         </td><td>0          </td><td>20         </td><td>30         </td><td>No         </td><td>Male       </td><td>65-69      </td><td>White      </td><td>1          </td><td>Yes        </td><td>Fair       </td><td> 8         </td><td>1          </td><td>0          </td><td>0          </td></tr>\n",
       "\t<tr><td>0          </td><td>24.21      </td><td>No         </td><td>No         </td><td>0          </td><td> 0         </td><td> 0         </td><td>No         </td><td>Female     </td><td>75-79      </td><td>White      </td><td>0          </td><td>No         </td><td>Good       </td><td> 6         </td><td>0          </td><td>0          </td><td>1          </td></tr>\n",
       "\t<tr><td>0          </td><td>23.71      </td><td>No         </td><td>No         </td><td>0          </td><td>28         </td><td> 0         </td><td>Yes        </td><td>Female     </td><td>40-44      </td><td>White      </td><td>0          </td><td>Yes        </td><td>Very good  </td><td> 8         </td><td>0          </td><td>0          </td><td>0          </td></tr>\n",
       "\t<tr><td>1          </td><td>28.87      </td><td>Yes        </td><td>No         </td><td>0          </td><td> 6         </td><td> 0         </td><td>Yes        </td><td>Female     </td><td>75-79      </td><td>Black      </td><td>0          </td><td>No         </td><td>Fair       </td><td>12         </td><td>0          </td><td>0          </td><td>0          </td></tr>\n",
       "</tbody>\n",
       "</table>\n"
      ],
      "text/latex": [
       "\\begin{tabular}{r|llllllllllllllllll}\n",
       " HeartDisease & BMI & Smoking & AlcoholDrinking & Stroke & PhysicalHealth & MentalHealth & DiffWalking & Sex & AgeCategory & Race & Diabetic & PhysicalActivity & GenHealth & SleepTime & Asthma & KidneyDisease & SkinCancer\\\\\n",
       "\\hline\n",
       "\t 0           & 16.60       & Yes         & No          & 0           &  3          & 30          & No          & Female      & 55-59       & White       & 1           & Yes         & Very good   &  5          & 1           & 0           & 1          \\\\\n",
       "\t 0           & 20.34       & No          & No          & 1           &  0          &  0          & No          & Female      & 80 or older & White       & 0           & Yes         & Very good   &  7          & 0           & 0           & 0          \\\\\n",
       "\t 0           & 26.58       & Yes         & No          & 0           & 20          & 30          & No          & Male        & 65-69       & White       & 1           & Yes         & Fair        &  8          & 1           & 0           & 0          \\\\\n",
       "\t 0           & 24.21       & No          & No          & 0           &  0          &  0          & No          & Female      & 75-79       & White       & 0           & No          & Good        &  6          & 0           & 0           & 1          \\\\\n",
       "\t 0           & 23.71       & No          & No          & 0           & 28          &  0          & Yes         & Female      & 40-44       & White       & 0           & Yes         & Very good   &  8          & 0           & 0           & 0          \\\\\n",
       "\t 1           & 28.87       & Yes         & No          & 0           &  6          &  0          & Yes         & Female      & 75-79       & Black       & 0           & No          & Fair        & 12          & 0           & 0           & 0          \\\\\n",
       "\\end{tabular}\n"
      ],
      "text/markdown": [
       "\n",
       "| HeartDisease | BMI | Smoking | AlcoholDrinking | Stroke | PhysicalHealth | MentalHealth | DiffWalking | Sex | AgeCategory | Race | Diabetic | PhysicalActivity | GenHealth | SleepTime | Asthma | KidneyDisease | SkinCancer |\n",
       "|---|---|---|---|---|---|---|---|---|---|---|---|---|---|---|---|---|---|\n",
       "| 0           | 16.60       | Yes         | No          | 0           |  3          | 30          | No          | Female      | 55-59       | White       | 1           | Yes         | Very good   |  5          | 1           | 0           | 1           |\n",
       "| 0           | 20.34       | No          | No          | 1           |  0          |  0          | No          | Female      | 80 or older | White       | 0           | Yes         | Very good   |  7          | 0           | 0           | 0           |\n",
       "| 0           | 26.58       | Yes         | No          | 0           | 20          | 30          | No          | Male        | 65-69       | White       | 1           | Yes         | Fair        |  8          | 1           | 0           | 0           |\n",
       "| 0           | 24.21       | No          | No          | 0           |  0          |  0          | No          | Female      | 75-79       | White       | 0           | No          | Good        |  6          | 0           | 0           | 1           |\n",
       "| 0           | 23.71       | No          | No          | 0           | 28          |  0          | Yes         | Female      | 40-44       | White       | 0           | Yes         | Very good   |  8          | 0           | 0           | 0           |\n",
       "| 1           | 28.87       | Yes         | No          | 0           |  6          |  0          | Yes         | Female      | 75-79       | Black       | 0           | No          | Fair        | 12          | 0           | 0           | 0           |\n",
       "\n"
      ],
      "text/plain": [
       "  HeartDisease BMI   Smoking AlcoholDrinking Stroke PhysicalHealth MentalHealth\n",
       "1 0            16.60 Yes     No              0       3             30          \n",
       "2 0            20.34 No      No              1       0              0          \n",
       "3 0            26.58 Yes     No              0      20             30          \n",
       "4 0            24.21 No      No              0       0              0          \n",
       "5 0            23.71 No      No              0      28              0          \n",
       "6 1            28.87 Yes     No              0       6              0          \n",
       "  DiffWalking Sex    AgeCategory Race  Diabetic PhysicalActivity GenHealth\n",
       "1 No          Female 55-59       White 1        Yes              Very good\n",
       "2 No          Female 80 or older White 0        Yes              Very good\n",
       "3 No          Male   65-69       White 1        Yes              Fair     \n",
       "4 No          Female 75-79       White 0        No               Good     \n",
       "5 Yes         Female 40-44       White 0        Yes              Very good\n",
       "6 Yes         Female 75-79       Black 0        No               Fair     \n",
       "  SleepTime Asthma KidneyDisease SkinCancer\n",
       "1  5        1      0             1         \n",
       "2  7        0      0             0         \n",
       "3  8        1      0             0         \n",
       "4  6        0      0             1         \n",
       "5  8        0      0             0         \n",
       "6 12        0      0             0         "
      ]
     },
     "metadata": {},
     "output_type": "display_data"
    }
   ],
   "source": [
    "head(df)"
   ]
  },
  {
   "cell_type": "markdown",
   "metadata": {},
   "source": [
    "## 2.2. GenHealth 라벨 인코딩 (순서O)"
   ]
  },
  {
   "cell_type": "code",
   "execution_count": 24,
   "metadata": {
    "scrolled": false
   },
   "outputs": [
    {
     "data": {
      "text/plain": [
       "\n",
       "Excellent      Fair      Good      Poor Very good \n",
       "    66842     34677     93129     11289    113858 "
      ]
     },
     "metadata": {},
     "output_type": "display_data"
    }
   ],
   "source": [
    "table(df[14])"
   ]
  },
  {
   "cell_type": "markdown",
   "metadata": {},
   "source": [
    "- STEP1. poor(5) < fair(4) < good(3) < very good(2) < excellent(1)\n",
    "- 왜냐하면 질병 NO==0, YES==1"
   ]
  },
  {
   "cell_type": "code",
   "execution_count": null,
   "metadata": {},
   "outputs": [],
   "source": [
    "##df[,12]<-ifelse(df[,12] %in% \"Yes\" , 1,0 )"
   ]
  },
  {
   "cell_type": "code",
   "execution_count": 38,
   "metadata": {},
   "outputs": [],
   "source": [
    "df[,14]<-ifelse(df[,14]==\"Poor\",5, \n",
    "               ifelse(df[,14]==\"Fair\",4,\n",
    "                     ifelse(df[,14]==\"Good\",3, \n",
    "                           ifelse(df[,14]==\"Very good\",2,1))))"
   ]
  },
  {
   "cell_type": "code",
   "execution_count": 39,
   "metadata": {
    "scrolled": true
   },
   "outputs": [
    {
     "data": {
      "text/plain": [
       "\n",
       "     1      2      3      4      5 \n",
       " 66842 113858  93129  34677  11289 "
      ]
     },
     "metadata": {},
     "output_type": "display_data"
    }
   ],
   "source": [
    "table(df[14]) # 확인"
   ]
  },
  {
   "cell_type": "markdown",
   "metadata": {},
   "source": [
    "# 3. Feature Engineering\n",
    "- '질병 이력 합' 변수 새로 만들기 "
   ]
  },
  {
   "cell_type": "code",
   "execution_count": 40,
   "metadata": {},
   "outputs": [
    {
     "name": "stderr",
     "output_type": "stream",
     "text": [
      "Warning message:\n",
      "\"package 'dplyr' was built under R version 3.6.3\"\n",
      "Attaching package: 'dplyr'\n",
      "\n",
      "The following object is masked from 'package:gridExtra':\n",
      "\n",
      "    combine\n",
      "\n",
      "The following objects are masked from 'package:stats':\n",
      "\n",
      "    filter, lag\n",
      "\n",
      "The following objects are masked from 'package:base':\n",
      "\n",
      "    intersect, setdiff, setequal, union\n",
      "\n"
     ]
    }
   ],
   "source": [
    "library(dplyr)"
   ]
  },
  {
   "cell_type": "code",
   "execution_count": 42,
   "metadata": {
    "scrolled": false
   },
   "outputs": [
    {
     "data": {
      "text/plain": [
       "\n",
       "     0      1      2      3      4      5      6 \n",
       "201583  83806  24889   7308   1870    308     31 "
      ]
     },
     "metadata": {},
     "output_type": "display_data"
    }
   ],
   "source": [
    "df<- mutate(df, tot= HeartDisease+Stroke+Diabetic+Asthma+KidneyDisease+SkinCancer)\n",
    "table(df$tot)"
   ]
  },
  {
   "cell_type": "markdown",
   "metadata": {},
   "source": [
    "# 4. Correlation"
   ]
  },
  {
   "cell_type": "code",
   "execution_count": 45,
   "metadata": {},
   "outputs": [],
   "source": [
    "#새로운 데이터프레임 생성 \n",
    "df_n<-df[,c(11,14,19)] "
   ]
  },
  {
   "cell_type": "code",
   "execution_count": 47,
   "metadata": {},
   "outputs": [
    {
     "data": {
      "text/html": [
       "<table>\n",
       "<thead><tr><th scope=col>Race</th><th scope=col>cor</th></tr></thead>\n",
       "<tbody>\n",
       "\t<tr><td>American Indian/Alaskan Native</td><td>0.3672213                     </td></tr>\n",
       "\t<tr><td>Asian                         </td><td>0.2794953                     </td></tr>\n",
       "\t<tr><td>Black                         </td><td>0.3764421                     </td></tr>\n",
       "\t<tr><td>Hispanic                      </td><td>0.3353170                     </td></tr>\n",
       "\t<tr><td>Other                         </td><td>0.3713269                     </td></tr>\n",
       "\t<tr><td>White                         </td><td>0.3652956                     </td></tr>\n",
       "</tbody>\n",
       "</table>\n"
      ],
      "text/latex": [
       "\\begin{tabular}{r|ll}\n",
       " Race & cor\\\\\n",
       "\\hline\n",
       "\t American Indian/Alaskan Native & 0.3672213                     \\\\\n",
       "\t Asian                          & 0.2794953                     \\\\\n",
       "\t Black                          & 0.3764421                     \\\\\n",
       "\t Hispanic                       & 0.3353170                     \\\\\n",
       "\t Other                          & 0.3713269                     \\\\\n",
       "\t White                          & 0.3652956                     \\\\\n",
       "\\end{tabular}\n"
      ],
      "text/markdown": [
       "\n",
       "| Race | cor |\n",
       "|---|---|\n",
       "| American Indian/Alaskan Native | 0.3672213                      |\n",
       "| Asian                          | 0.2794953                      |\n",
       "| Black                          | 0.3764421                      |\n",
       "| Hispanic                       | 0.3353170                      |\n",
       "| Other                          | 0.3713269                      |\n",
       "| White                          | 0.3652956                      |\n",
       "\n"
      ],
      "text/plain": [
       "  Race                           cor      \n",
       "1 American Indian/Alaskan Native 0.3672213\n",
       "2 Asian                          0.2794953\n",
       "3 Black                          0.3764421\n",
       "4 Hispanic                       0.3353170\n",
       "5 Other                          0.3713269\n",
       "6 White                          0.3652956"
      ]
     },
     "metadata": {},
     "output_type": "display_data"
    }
   ],
   "source": [
    "df_n %>% group_by(Race) %>% summarise(cor=cor( GenHealth,tot ) )"
   ]
  },
  {
   "cell_type": "code",
   "execution_count": 48,
   "metadata": {},
   "outputs": [],
   "source": [
    "df_f<-as.data.frame( df_n %>% group_by(Race) %>% summarise(cor=cor( GenHealth,tot ) )  ) "
   ]
  },
  {
   "cell_type": "code",
   "execution_count": 49,
   "metadata": {},
   "outputs": [
    {
     "data": {
      "text/html": [
       "<table>\n",
       "<thead><tr><th></th><th scope=col>Race</th><th scope=col>cor</th></tr></thead>\n",
       "<tbody>\n",
       "\t<tr><th scope=row>3</th><td>Black                         </td><td>0.3764421                     </td></tr>\n",
       "\t<tr><th scope=row>5</th><td>Other                         </td><td>0.3713269                     </td></tr>\n",
       "\t<tr><th scope=row>1</th><td>American Indian/Alaskan Native</td><td>0.3672213                     </td></tr>\n",
       "\t<tr><th scope=row>6</th><td>White                         </td><td>0.3652956                     </td></tr>\n",
       "\t<tr><th scope=row>4</th><td>Hispanic                      </td><td>0.3353170                     </td></tr>\n",
       "\t<tr><th scope=row>2</th><td>Asian                         </td><td>0.2794953                     </td></tr>\n",
       "</tbody>\n",
       "</table>\n"
      ],
      "text/latex": [
       "\\begin{tabular}{r|ll}\n",
       "  & Race & cor\\\\\n",
       "\\hline\n",
       "\t3 & Black                          & 0.3764421                     \\\\\n",
       "\t5 & Other                          & 0.3713269                     \\\\\n",
       "\t1 & American Indian/Alaskan Native & 0.3672213                     \\\\\n",
       "\t6 & White                          & 0.3652956                     \\\\\n",
       "\t4 & Hispanic                       & 0.3353170                     \\\\\n",
       "\t2 & Asian                          & 0.2794953                     \\\\\n",
       "\\end{tabular}\n"
      ],
      "text/markdown": [
       "\n",
       "| <!--/--> | Race | cor |\n",
       "|---|---|---|\n",
       "| 3 | Black                          | 0.3764421                      |\n",
       "| 5 | Other                          | 0.3713269                      |\n",
       "| 1 | American Indian/Alaskan Native | 0.3672213                      |\n",
       "| 6 | White                          | 0.3652956                      |\n",
       "| 4 | Hispanic                       | 0.3353170                      |\n",
       "| 2 | Asian                          | 0.2794953                      |\n",
       "\n"
      ],
      "text/plain": [
       "  Race                           cor      \n",
       "3 Black                          0.3764421\n",
       "5 Other                          0.3713269\n",
       "1 American Indian/Alaskan Native 0.3672213\n",
       "6 White                          0.3652956\n",
       "4 Hispanic                       0.3353170\n",
       "2 Asian                          0.2794953"
      ]
     },
     "metadata": {},
     "output_type": "display_data"
    }
   ],
   "source": [
    "#정렬\n",
    "o<-order(df_f$cor, decreasing=TRUE)\n",
    "head(df_f[o,])"
   ]
  },
  {
   "cell_type": "markdown",
   "metadata": {},
   "source": [
    "# 5. Conclusion\n",
    "1. '질병 이력의 합'과 '주관적 건강 인식'의 상관관계는 유의미하다고 할 근거가 부족하다.\n",
    "2. 두 변수의 상관계수가 가장 큰 인종은 흑인(Black)이며, 값은 0.3764 이다.\n",
    "3. 두 변수의 상관계수가 가장 작은 인종은 아시안(Asian)이며, 값은 0.2795 이다.\n",
    "4. 이 차이의 값은 약 0.0969이며 유의미하다고 할 근거가 부족하다. "
   ]
  }
 ],
 "metadata": {
  "kernelspec": {
   "display_name": "R",
   "language": "R",
   "name": "ir"
  },
  "language_info": {
   "codemirror_mode": "r",
   "file_extension": ".r",
   "mimetype": "text/x-r-source",
   "name": "R",
   "pygments_lexer": "r",
   "version": "3.6.1"
  },
  "toc": {
   "base_numbering": 1,
   "nav_menu": {},
   "number_sections": true,
   "sideBar": true,
   "skip_h1_title": false,
   "title_cell": "Table of Contents",
   "title_sidebar": "Contents",
   "toc_cell": false,
   "toc_position": {},
   "toc_section_display": true,
   "toc_window_display": false
  }
 },
 "nbformat": 4,
 "nbformat_minor": 4
}
