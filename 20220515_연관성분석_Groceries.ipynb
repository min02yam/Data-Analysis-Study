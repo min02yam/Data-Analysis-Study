{
  "nbformat": 4,
  "nbformat_minor": 0,
  "metadata": {
    "colab": {
      "name": "20220515_연관성분석_Groceries.ipynb의 사본",
      "provenance": [],
      "authorship_tag": "ABX9TyOZ6rxXHELWnMxLSsDz6v0q",
      "include_colab_link": true
    },
    "kernelspec": {
      "name": "ir",
      "display_name": "R"
    },
    "language_info": {
      "name": "R"
    }
  },
  "cells": [
    {
      "cell_type": "markdown",
      "metadata": {
        "id": "view-in-github",
        "colab_type": "text"
      },
      "source": [
        "<a href=\"https://colab.research.google.com/github/min02yam/R-study/blob/main/20220515_%EC%97%B0%EA%B4%80%EC%84%B1%EB%B6%84%EC%84%9D_Groceries.ipynb\" target=\"_parent\"><img src=\"https://colab.research.google.com/assets/colab-badge.svg\" alt=\"Open In Colab\"/></a>"
      ]
    },
    {
      "cell_type": "markdown",
      "source": [
        "### 3. arulesViz 패키지에 있는 Groceries 데이터 셋을 활용하여 연관성 분석을 실시하시오"
      ],
      "metadata": {
        "id": "DBCzkkuezY3r"
      }
    },
    {
      "cell_type": "code",
      "source": [
        "교수님 ,, 어렵습니다 ,, "
      ],
      "metadata": {
        "id": "ObY6LRJUzznH"
      },
      "execution_count": null,
      "outputs": []
    },
    {
      "cell_type": "markdown",
      "source": [
        ""
      ],
      "metadata": {
        "id": "EHzSolQyjA-_"
      }
    },
    {
      "cell_type": "code",
      "source": [
        ""
      ],
      "metadata": {
        "id": "aTD5XCHFjSWq"
      },
      "execution_count": null,
      "outputs": []
    },
    {
      "cell_type": "markdown",
      "source": [
        "\n",
        "> # 목차\n",
        "\n",
        "### **1. 장바구니 분석(연관성 알고리즘)`arules`, `arulesViz`::<BR>**\n",
        "###### ✅알고리즘: apriori, ECLAT\n",
        "###### 1-1. 데이터 준비\n",
        "###### 1-2. 모델링\n",
        "###### 1-3. 시각화\n",
        "\n",
        "### **2. 추천 엔진`recommender lab`::**\n",
        "#### 2-1. 사용자 기반 협업 필터링(User-based collaborative filering, UBCF)\n",
        "###### ✅알고리즘: KNN, 유사성 측정값(피어슨 상관계수, 코사인 유사도)\n",
        "#### 2-2. 아이템 기반 협업 필터링(Item-based collaborative filtering, IBCF)<BR>\n",
        "######  ✅알고리즘:유사성 측정값(피어슨 상관계수, 코사인 유사도)<BR>\n",
        "#### 2-3. 특이값 분해(SVD)와 주성분 분석(PCA)\n",
        "### **3. 순차적 분석기법 `TraMineR`::<br>**\n",
        "###### ✅알고리즘: 전이조합, 비유사도 행렬"
      ],
      "metadata": {
        "id": "etJzxHfFhhwU"
      }
    },
    {
      "cell_type": "markdown",
      "source": [
        "### **1. 장바구니 분석**<br>\n",
        "1) 최적 상품이나 서비스 조합 찾아내서 ⏩ 마케팅 <br>\n",
        "2) 사기검출(fraud detection), 의료서비스<br>\n",
        "3) if ~ then<br>\n",
        "4) 아이템 세트(item set): 데이터 세트 안에서 1개 이상의 물품의 집합<br>\n",
        "5) 지지도(support)\n",
        "- 관심 있는 아이템 세트를 포함하는 데이터 거래의 비율<br>\n",
        "- 좋은 규칙(빈도가 많은, 구성비가 높은)을 찾거나, 불필요한 연산을 줄일 때(pruning, 가지치기)의 기준\n",
        "\n",
        "6) 신뢰도(confidence): 누가 x를 샀을 때, y를 사는 조건부 확률 `P(Y|X)`\n",
        "  - X: 선행사건(antecedent), 좌변(LHS)\n",
        "  - Y: 결과(cosequence), 우변(RHS)\n",
        "\n",
        "7) 향상도(lift): \n",
        "- X,Y가 함께 일어난 지지도 / X,Y독립가정, 동시에 일어날 수 있는 확률{(X의 마지널)*(Y의 마지널) }<br>\n",
        "\n",
        "8) ✅알고리즘\n",
        "- apriori: 어떤 아이템 세트가 자주 나타나면 ⏩ 모든 부분 집합 또한 자주 나타남\n",
        "  - 최소 빈도(지지도) 설정 *k=l* \n",
        "  - 지정된 지지도보다 같거나 더 긴 길이의 아이템 셋 만듦\n",
        "  - *k+1* 부터 *k+n*까지 반복 ⏩ 지지도보다 낮은 아이템 셋 제거\n",
        "  - 새로운 아이템 셋 발견되지 않을 때까지 반복\n"
      ],
      "metadata": {
        "id": "6SRoYM_Vj4uy"
      }
    },
    {
      "cell_type": "markdown",
      "source": [
        "###### **1-1. 데이터 준비**"
      ],
      "metadata": {
        "id": "Q2Ti8aAHw-Zv"
      }
    },
    {
      "cell_type": "code",
      "source": [
        "#패키지설치\n",
        "install.packages(\"arules\"); library(arules)\n",
        "install.packages(\"arulesViz\"); library(arulesViz)"
      ],
      "metadata": {
        "id": "JaHKeeiUzi0u",
        "colab": {
          "base_uri": "https://localhost:8080/"
        },
        "outputId": "a907a1a3-9866-4f41-d686-fab1d3a58776"
      },
      "execution_count": null,
      "outputs": [
        {
          "output_type": "stream",
          "name": "stderr",
          "text": [
            "Installing package into ‘/usr/local/lib/R/site-library’\n",
            "(as ‘lib’ is unspecified)\n",
            "\n",
            "Loading required package: Matrix\n",
            "\n",
            "\n",
            "Attaching package: ‘arules’\n",
            "\n",
            "\n",
            "The following objects are masked from ‘package:base’:\n",
            "\n",
            "    abbreviate, write\n",
            "\n",
            "\n",
            "Installing package into ‘/usr/local/lib/R/site-library’\n",
            "(as ‘lib’ is unspecified)\n",
            "\n",
            "also installing the dependencies ‘iterators’, ‘foreach’, ‘zoo’, ‘tweenr’, ‘polyclip’, ‘RcppEigen’, ‘gridExtra’, ‘RcppArmadillo’, ‘later’, ‘TSP’, ‘qap’, ‘gclus’, ‘registry’, ‘lmtest’, ‘Rcpp’, ‘ggforce’, ‘ggrepel’, ‘viridis’, ‘tidygraph’, ‘graphlayouts’, ‘htmlwidgets’, ‘crosstalk’, ‘promises’, ‘lazyeval’, ‘seriation’, ‘vcd’, ‘igraph’, ‘scatterplot3d’, ‘ggraph’, ‘DT’, ‘plotly’, ‘visNetwork’\n",
            "\n",
            "\n"
          ]
        }
      ]
    },
    {
      "cell_type": "code",
      "source": [
        "#데이터 로드\n",
        "data(Groceries)\n",
        "gr<-Groceries\n",
        "#간단 구조 확인\n",
        "head(gr)\n",
        "str(gr)"
      ],
      "metadata": {
        "id": "xvxGvBE65AiB",
        "colab": {
          "base_uri": "https://localhost:8080/",
          "height": 327
        },
        "outputId": "1a706da2-4d38-4793-ec0d-5b19ff4e2f07"
      },
      "execution_count": null,
      "outputs": [
        {
          "output_type": "display_data",
          "data": {
            "text/plain": [
              "transactions in sparse format with\n",
              " 6 transactions (rows) and\n",
              " 169 items (columns)"
            ]
          },
          "metadata": {}
        },
        {
          "output_type": "stream",
          "name": "stdout",
          "text": [
            "Formal class 'transactions' [package \"arules\"] with 3 slots\n",
            "  ..@ data       :Formal class 'ngCMatrix' [package \"Matrix\"] with 5 slots\n",
            "  .. .. ..@ i       : int [1:43367] 13 60 69 78 14 29 98 24 15 29 ...\n",
            "  .. .. ..@ p       : int [1:9836] 0 4 7 8 12 16 21 22 27 28 ...\n",
            "  .. .. ..@ Dim     : int [1:2] 169 9835\n",
            "  .. .. ..@ Dimnames:List of 2\n",
            "  .. .. .. ..$ : NULL\n",
            "  .. .. .. ..$ : NULL\n",
            "  .. .. ..@ factors : list()\n",
            "  ..@ itemInfo   :'data.frame':\t169 obs. of  3 variables:\n",
            "  .. ..$ labels: chr [1:169] \"frankfurter\" \"sausage\" \"liver loaf\" \"ham\" ...\n",
            "  .. ..$ level2: Factor w/ 55 levels \"baby food\",\"bags\",..: 44 44 44 44 44 44 44 42 42 41 ...\n",
            "  .. ..$ level1: Factor w/ 10 levels \"canned food\",..: 6 6 6 6 6 6 6 6 6 6 ...\n",
            "  ..@ itemsetInfo:'data.frame':\t0 obs. of  0 variables\n"
          ]
        }
      ]
    },
    {
      "cell_type": "markdown",
      "source": [
        "1. transaction 클래스 즉, 희소 행렬 오브젝트(sparse matrix object)\n",
        "2. #as(df, \"transantions\")"
      ],
      "metadata": {
        "id": "sL872LPQy0Ip"
      }
    },
    {
      "cell_type": "code",
      "source": [
        "#데이터탐색\n",
        "itemFrequencyPlot( gr, topN=10, type=\"absolute\")"
      ],
      "metadata": {
        "id": "1zMXrvfRyyuN",
        "outputId": "41e09d38-385b-4859-8bf3-9066f7ee20c9",
        "colab": {
          "base_uri": "https://localhost:8080/",
          "height": 437
        }
      },
      "execution_count": null,
      "outputs": [
        {
          "output_type": "display_data",
          "data": {
            "text/plain": [
              "plot without title"
            ],
            "image/png": "[encoded data removed]"
          },
          "metadata": {
            "image/png": {
              "width": 420,
              "height": 420
            }
          }
        }
      ]
    },
    {
      "cell_type": "markdown",
      "source": [
        "* 가장 자주 팔림 품목: whole milk"
      ],
      "metadata": {
        "id": "ys1PCXmg2ISN"
      }
    },
    {
      "cell_type": "code",
      "source": [
        "#상대빈도\n",
        "itemFrequencyPlot(gr, topN=15)"
      ],
      "metadata": {
        "id": "XqN6wO-v5D3a",
        "colab": {
          "base_uri": "https://localhost:8080/",
          "height": 437
        },
        "outputId": "990b1cd8-9c53-4796-d4bd-8dc8d0ae580b"
      },
      "execution_count": null,
      "outputs": [
        {
          "output_type": "display_data",
          "data": {
            "text/plain": [
              "plot without title"
            ],
            "image/png": "[encoded data removed]"
          },
          "metadata": {
            "image/png": {
              "width": 420,
              "height": 420
            }
          }
        }
      ]
    },
    {
      "cell_type": "markdown",
      "source": [
        "- 맥주는 13, 15번째로 많이 팔림\n",
        "-10% 미만의 소비자가 병맥주와 캔맥주를 구매함"
      ],
      "metadata": {
        "id": "uv3ms6fD2fYu"
      }
    },
    {
      "cell_type": "markdown",
      "source": [
        "###### **1-2. 모델링**"
      ],
      "metadata": {
        "id": "oSflhSaO2vbH"
      }
    },
    {
      "cell_type": "markdown",
      "source": [
        "- paraneter: 최소 지지도, 최소 신뢰도, 아이템 세트가 가질 수 있는 장바구니 크기 민맥스값"
      ],
      "metadata": {
        "id": "gi-cNDX8ztD9"
      }
    },
    {
      "cell_type": "code",
      "source": [
        "fit<-apriori(gr, parameter = list(supp=0.001, conf=0.9, maxlen=4))"
      ],
      "metadata": {
        "id": "UgDqY56A2eGj",
        "outputId": "10477907-0c55-4e99-d2f6-56d8e28e001e",
        "colab": {
          "base_uri": "https://localhost:8080/"
        }
      },
      "execution_count": null,
      "outputs": [
        {
          "output_type": "stream",
          "name": "stdout",
          "text": [
            "Apriori\n",
            "\n",
            "Parameter specification:\n",
            " confidence minval smax arem  aval originalSupport maxtime support minlen\n",
            "        0.9    0.1    1 none FALSE            TRUE       5   0.001      1\n",
            " maxlen target  ext\n",
            "      4  rules TRUE\n",
            "\n",
            "Algorithmic control:\n",
            " filter tree heap memopt load sort verbose\n",
            "    0.1 TRUE TRUE  FALSE TRUE    2    TRUE\n",
            "\n",
            "Absolute minimum support count: 9 \n",
            "\n",
            "set item appearances ...[0 item(s)] done [0.00s].\n",
            "set transactions ...[169 item(s), 9835 transaction(s)] done [0.00s].\n",
            "sorting and recoding items ... [157 item(s)] done [0.00s].\n",
            "creating transaction tree ... done [0.00s].\n",
            "checking subsets of size 1 2 3 4"
          ]
        },
        {
          "output_type": "stream",
          "name": "stderr",
          "text": [
            "Warning message in apriori(gr, parameter = list(supp = 0.001, conf = 0.9, maxlen = 4)):\n",
            "“Mining stopped (maxlen reached). Only patterns up to a length of 4 returned!”\n"
          ]
        },
        {
          "output_type": "stream",
          "name": "stdout",
          "text": [
            " done [0.02s].\n",
            "writing ... [67 rule(s)] done [0.00s].\n",
            "creating S4 object  ... done [0.00s].\n"
          ]
        }
      ]
    },
    {
      "cell_type": "markdown",
      "source": [
        "1. 최소 지지도: 1000거래중 1\n",
        "2. 최소 신뢰도: 0.9\n",
        "3. 최대 연관될 수 있는 아이템들 수: 4"
      ],
      "metadata": {
        "id": "e4_jYg6x0hY-"
      }
    },
    {
      "cell_type": "code",
      "source": [
        "fit # 67가지 규칙 만듦"
      ],
      "metadata": {
        "id": "umM_2FhCy-FA",
        "outputId": "ebb0088c-c299-4077-c966-f0d3b3d79e71",
        "colab": {
          "base_uri": "https://localhost:8080/",
          "height": 35
        }
      },
      "execution_count": null,
      "outputs": [
        {
          "output_type": "display_data",
          "data": {
            "text/plain": [
              "set of 67 rules "
            ]
          },
          "metadata": {}
        }
      ]
    },
    {
      "cell_type": "code",
      "source": [
        "#규칙확인\n",
        "options(digits = 2)\n",
        "fit<-sort(fit, by=\"lift\", decreasing = TRUE) #향상도 내림차순으로 재정렬\n",
        "#class(fit)\n",
        "#summary(fit)\n",
        "inspect(fit[1:5,])"
      ],
      "metadata": {
        "id": "T4l7pBPwy-zd",
        "outputId": "ceafe9c5-cc43-412b-9ba7-7be2d5963c6e",
        "colab": {
          "base_uri": "https://localhost:8080/"
        }
      },
      "execution_count": null,
      "outputs": [
        {
          "output_type": "stream",
          "name": "stdout",
          "text": [
            "    lhs                      rhs                support confidence coverage lift count\n",
            "[1] {liquor,                                                                          \n",
            "     red/blush wine}      => {bottled beer}      0.0019       0.90   0.0021 11.2    19\n",
            "[2] {root vegetables,                                                                 \n",
            "     butter,                                                                          \n",
            "     cream cheese }       => {yogurt}            0.0010       0.91   0.0011  6.5    10\n",
            "[3] {citrus fruit,                                                                    \n",
            "     root vegetables,                                                                 \n",
            "     soft cheese}         => {other vegetables}  0.0010       1.00   0.0010  5.2    10\n",
            "[4] {pip fruit,                                                                       \n",
            "     whipped/sour cream,                                                              \n",
            "     brown bread}         => {other vegetables}  0.0011       1.00   0.0011  5.2    11\n",
            "[5] {butter,                                                                          \n",
            "     whipped/sour cream,                                                              \n",
            "     soda}                => {other vegetables}  0.0013       0.93   0.0014  4.8    13\n"
          ]
        }
      ]
    },
    {
      "cell_type": "markdown",
      "source": [
        "1. 최소 지지도를 1000거래중 1거래로 했지만 ,, 가장 큰 향상도를 가진 규칙이 1000거래중 1.9거래를 하는건 보편적이진 않음"
      ],
      "metadata": {
        "id": "DB78DtcM2zkB"
      }
    },
    {
      "cell_type": "code",
      "source": [
        "#그래서 신뢰도 기준으로 재정렬\n",
        "fit<-sort(fit, by=\"confidence\", decreasing = TRUE)\n",
        "inspect(fit[1:5,])"
      ],
      "metadata": {
        "id": "ePxl7cUD15NN",
        "outputId": "26f84b79-7fdf-4552-8f2c-5aa3e0888e41",
        "colab": {
          "base_uri": "https://localhost:8080/"
        }
      },
      "execution_count": null,
      "outputs": [
        {
          "output_type": "stream",
          "name": "stdout",
          "text": [
            "    lhs                      rhs                support confidence coverage lift count\n",
            "[1] {citrus fruit,                                                                    \n",
            "     root vegetables,                                                                 \n",
            "     soft cheese}         => {other vegetables}  0.0010          1   0.0010  5.2    10\n",
            "[2] {pip fruit,                                                                       \n",
            "     whipped/sour cream,                                                              \n",
            "     brown bread}         => {other vegetables}  0.0011          1   0.0011  5.2    11\n",
            "[3] {rice,                                                                            \n",
            "     sugar}               => {whole milk}        0.0012          1   0.0012  3.9    12\n",
            "[4] {canned fish,                                                                     \n",
            "     hygiene articles}    => {whole milk}        0.0011          1   0.0011  3.9    11\n",
            "[5] {root vegetables,                                                                 \n",
            "     butter,                                                                          \n",
            "     rice}                => {whole milk}        0.0010          1   0.0010  3.9    10\n"
          ]
        }
      ]
    },
    {
      "cell_type": "markdown",
      "source": [
        "1. 신뢰도 100%"
      ],
      "metadata": {
        "id": "u27KKiCH3hpL"
      }
    },
    {
      "cell_type": "code",
      "source": [
        "#맥주에 관한걸 찾아보자\n",
        "tab<-crossTable(gr) #1.교차표생성\n",
        "tab[1:3, 1:3] #2. 일단 첫 (3,3)행렬에서 아이템 함께 등장하는 횟수 확인\n",
        "#nrow(gr)"
      ],
      "metadata": {
        "id": "dEBSHbf-3ld-",
        "outputId": "19db1b94-ac8f-4ca6-fdbe-e36e692a9241",
        "colab": {
          "base_uri": "https://localhost:8080/",
          "height": 161
        }
      },
      "execution_count": null,
      "outputs": [
        {
          "output_type": "display_data",
          "data": {
            "text/html": [
              "<table class=\"dataframe\">\n",
              "<caption>A matrix: 3 × 3 of type int</caption>\n",
              "<thead>\n",
              "\t<tr><th></th><th scope=col>frankfurter</th><th scope=col>sausage</th><th scope=col>liver loaf</th></tr>\n",
              "</thead>\n",
              "<tbody>\n",
              "\t<tr><th scope=row>frankfurter</th><td>580</td><td> 99</td><td> 7</td></tr>\n",
              "\t<tr><th scope=row>sausage</th><td> 99</td><td>924</td><td>10</td></tr>\n",
              "\t<tr><th scope=row>liver loaf</th><td>  7</td><td> 10</td><td>50</td></tr>\n",
              "</tbody>\n",
              "</table>\n"
            ],
            "text/markdown": "\nA matrix: 3 × 3 of type int\n\n| <!--/--> | frankfurter | sausage | liver loaf |\n|---|---|---|---|\n| frankfurter | 580 |  99 |  7 |\n| sausage |  99 | 924 | 10 |\n| liver loaf |   7 |  10 | 50 |\n\n",
            "text/latex": "A matrix: 3 × 3 of type int\n\\begin{tabular}{r|lll}\n  & frankfurter & sausage & liver loaf\\\\\n\\hline\n\tfrankfurter & 580 &  99 &  7\\\\\n\tsausage &  99 & 924 & 10\\\\\n\tliver loaf &   7 &  10 & 50\\\\\n\\end{tabular}\n",
            "text/plain": [
              "            frankfurter sausage liver loaf\n",
              "frankfurter 580          99      7        \n",
              "sausage      99         924     10        \n",
              "liver loaf    7          10     50        "
            ]
          },
          "metadata": {}
        }
      ]
    },
    {
      "cell_type": "markdown",
      "source": [
        "1. liver loaf를 구매한 횟수는 9835중 50회 밖에 안됨\n",
        "2. 근데 소세지 924번 구매한 와중에 리버로프 10번이나 삼"
      ],
      "metadata": {
        "id": "1vvgnTco4kat"
      }
    },
    {
      "cell_type": "code",
      "source": [
        "#맥주로 넘어가보자\n",
        "tab[\"bottled beer\", \"bottled beer\"]"
      ],
      "metadata": {
        "id": "g9vbbaA45A5U",
        "outputId": "eb9913ed-e097-438f-907b-78a4a7602c44",
        "colab": {
          "base_uri": "https://localhost:8080/",
          "height": 34
        }
      },
      "execution_count": null,
      "outputs": [
        {
          "output_type": "display_data",
          "data": {
            "text/html": [
              "792"
            ],
            "text/markdown": "792",
            "text/latex": "792",
            "text/plain": [
              "[1] 792"
            ]
          },
          "metadata": {}
        }
      ]
    },
    {
      "cell_type": "markdown",
      "source": [
        "1. 병맥주가 포함된 거래는 792회 있었다."
      ],
      "metadata": {
        "id": "QN0TDcQp5k-T"
      }
    },
    {
      "cell_type": "code",
      "source": [
        "tab[\"bottled beer\", \"canned beer\"]"
      ],
      "metadata": {
        "id": "EIdlA84I4h9S",
        "outputId": "aa899314-2c6a-4916-d9d6-3eec2db26773",
        "colab": {
          "base_uri": "https://localhost:8080/",
          "height": 34
        }
      },
      "execution_count": null,
      "outputs": [
        {
          "output_type": "display_data",
          "data": {
            "text/html": [
              "26"
            ],
            "text/markdown": "26",
            "text/latex": "26",
            "text/plain": [
              "[1] 26"
            ]
          },
          "metadata": {}
        }
      ]
    },
    {
      "cell_type": "markdown",
      "source": [
        "1. 사람들은 병맥주나 캔맥주 중 하나를 주로 마신다는 가설 부합"
      ],
      "metadata": {
        "id": "vD3poN3_5ylu"
      }
    },
    {
      "cell_type": "code",
      "source": [
        "#병맥주 규칙 추출\n",
        "#appearance추가 -> (좌)rhs값을 증가시키는 품목들로 지정하겠다. (우) 병맥주를 구매할 확률 \n",
        "beer_fit<-apriori(gr, parameter= list(\n",
        "                        support=0.0015, confidence=0.3),\n",
        "                      appearance= list(\n",
        "                        default=\"lhs\", rhs=\"bottled beer\")  \n",
        "                    )\n",
        "beer_fit"
      ],
      "metadata": {
        "id": "o9F_F6Ko5v59",
        "outputId": "5feaf563-3c88-460c-fc36-bbaa6babacdc",
        "colab": {
          "base_uri": "https://localhost:8080/",
          "height": 418
        }
      },
      "execution_count": null,
      "outputs": [
        {
          "output_type": "stream",
          "name": "stdout",
          "text": [
            "Apriori\n",
            "\n",
            "Parameter specification:\n",
            " confidence minval smax arem  aval originalSupport maxtime support minlen\n",
            "        0.3    0.1    1 none FALSE            TRUE       5  0.0015      1\n",
            " maxlen target  ext\n",
            "     10  rules TRUE\n",
            "\n",
            "Algorithmic control:\n",
            " filter tree heap memopt load sort verbose\n",
            "    0.1 TRUE TRUE  FALSE TRUE    2    TRUE\n",
            "\n",
            "Absolute minimum support count: 14 \n",
            "\n",
            "set item appearances ...[1 item(s)] done [0.00s].\n",
            "set transactions ...[169 item(s), 9835 transaction(s)] done [0.00s].\n",
            "sorting and recoding items ... [153 item(s)] done [0.00s].\n",
            "creating transaction tree ... done [0.00s].\n",
            "checking subsets of size 1 2 3 4 5 6 done [0.01s].\n",
            "writing ... [4 rule(s)] done [0.00s].\n",
            "creating S4 object  ... done [0.00s].\n"
          ]
        },
        {
          "output_type": "display_data",
          "data": {
            "text/plain": [
              "set of 4 rules "
            ]
          },
          "metadata": {}
        }
      ]
    },
    {
      "cell_type": "markdown",
      "source": [
        "1. 규칙 4개 찾음"
      ],
      "metadata": {
        "id": "5i0RVNij8Bhu"
      }
    },
    {
      "cell_type": "code",
      "source": [
        "beer_fit<-sort(beer_fit, decreasing = TRUE, by=\"lift\")\n",
        "inspect(beer_fit)"
      ],
      "metadata": {
        "id": "v5DD-Pqr7tiZ",
        "outputId": "89b949a6-0e9a-4a95-c796-fecc91368c6a",
        "colab": {
          "base_uri": "https://localhost:8080/"
        }
      },
      "execution_count": null,
      "outputs": [
        {
          "output_type": "stream",
          "name": "stdout",
          "text": [
            "    lhs                                   rhs            support confidence\n",
            "[1] {liquor, red/blush wine}           => {bottled beer} 0.0019  0.90      \n",
            "[2] {liquor}                           => {bottled beer} 0.0047  0.42      \n",
            "[3] {soda, red/blush wine}             => {bottled beer} 0.0016  0.36      \n",
            "[4] {other vegetables, red/blush wine} => {bottled beer} 0.0015  0.31      \n",
            "    coverage lift count\n",
            "[1] 0.0021   11.2 19   \n",
            "[2] 0.0111    5.2 46   \n",
            "[3] 0.0046    4.4 16   \n",
            "[4] 0.0050    3.8 15   \n"
          ]
        }
      ]
    },
    {
      "cell_type": "markdown",
      "source": [
        "1. 모든 경우에 병맥주의 구매는 증류주, 레드와인과 연관이 있음\n",
        "2. 화이트 와인과는 연관이 없다..!!"
      ],
      "metadata": {
        "id": "uMRcz_2v-Vre"
      }
    },
    {
      "cell_type": "code",
      "source": [
        "#그렇다면 와인의 종류별로 병맥주와 함께 구매되는 횟수를 살펴보자\n",
        "tab[\"bottled beer\", \"red/blush wine\"] /tab[\"red/blush wine\", \"red/blush wine\"]\n",
        "tab[\"bottled beer\", \"white wine\"]/tab[\"white wine\",\"white wine\"]"
      ],
      "metadata": {
        "id": "eRaRAsT9-Vd8",
        "outputId": "ec524d6f-4646-4953-dd19-96ca91d784ee",
        "colab": {
          "base_uri": "https://localhost:8080/",
          "height": 52
        }
      },
      "execution_count": null,
      "outputs": [
        {
          "output_type": "display_data",
          "data": {
            "text/html": [
              "0.253968253968254"
            ],
            "text/markdown": "0.253968253968254",
            "text/latex": "0.253968253968254",
            "text/plain": [
              "[1] 0.25"
            ]
          },
          "metadata": {}
        },
        {
          "output_type": "display_data",
          "data": {
            "text/html": [
              "0.117647058823529"
            ],
            "text/markdown": "0.117647058823529",
            "text/latex": "0.117647058823529",
            "text/plain": [
              "[1] 0.12"
            ]
          },
          "metadata": {}
        }
      ]
    },
    {
      "cell_type": "markdown",
      "source": [
        "1. 🟥wine을 구매한 경우-> 0.25 확률로 병🍺 구매 😊\n",
        "2. ⬜wine을 구매한 경우-> 0.12로 확률 줄어듦 😥\n",
        "3. 이유는 본 분석으로는 알 수 없지만, 상품배치에는 도움됨"
      ],
      "metadata": {
        "id": "raII23b8_iRF"
      }
    },
    {
      "cell_type": "markdown",
      "source": [
        "###### 1-3. 시각화"
      ],
      "metadata": {
        "id": "-ugUllDHBhFF"
      }
    },
    {
      "cell_type": "code",
      "source": [
        "#규칙 시각화\n",
        "#아래는 신뢰도 바탕, 향상도 시각화\n",
        "plot(beer_fit, method=\"graph\", measure=\"lift\", shading=\"confidence\")"
      ],
      "metadata": {
        "id": "m2y4KS7k_hkV",
        "outputId": "ba824a20-2446-40fa-c220-8f1715bd664e",
        "colab": {
          "base_uri": "https://localhost:8080/",
          "height": 437
        }
      },
      "execution_count": null,
      "outputs": [
        {
          "output_type": "display_data",
          "data": {
            "text/plain": [
              "plot without title"
            ],
            "image/png": "[encoded data removed]"
          },
          "metadata": {
            "image/png": {
              "width": 420,
              "height": 420
            }
          }
        }
      ]
    },
    {
      "cell_type": "markdown",
      "source": [
        "1. liquor과 red wine이 가장 높은 향샹도, 신뢰도 보여줌\n"
      ],
      "metadata": {
        "id": "WM_83WeKBG44"
      }
    },
    {
      "cell_type": "code",
      "source": [
        ""
      ],
      "metadata": {
        "id": "bAp5Cl6QBGLF"
      },
      "execution_count": null,
      "outputs": []
    },
    {
      "cell_type": "code",
      "source": [
        "sksms rkawk ~ ~ ~꿈을 꾸는 감자~감자가~ 진화하면~돼지감자"
      ],
      "metadata": {
        "id": "sGzt8lAWy-kq"
      },
      "execution_count": null,
      "outputs": []
    },
    {
      "cell_type": "markdown",
      "source": [
        ""
      ],
      "metadata": {
        "id": "O2b59fUjy8I9"
      }
    },
    {
      "cell_type": "markdown",
      "source": [
        "[ref1.추천화시스템-03연관분석(Association Analysis)알고리즘](https://velog.io/@redgem92/%EC%B6%94%EC%B2%9C%ED%99%94-%EC%8B%9C%EC%8A%A4%ED%85%9C-03.-%EC%97%B0%EA%B4%80%EB%B6%84%EC%84%9DAssociation-Analysis-%EC%95%8C%EA%B3%A0%EB%A6%AC%EC%A6%98)<BR>\n",
        "[ref2. recommendation_system\n",
        "](https://github.com/pray92/recommendation_system) <br>\n",
        "ref3. R로 마스터하는 머신러닝. 코리 레스마이스터. p337-382<br>\n",
        "[ref4.지지도](https://rfriend.tistory.com/191)"
      ],
      "metadata": {
        "id": "WshmZYKei-Ab"
      }
    }
  ]
}