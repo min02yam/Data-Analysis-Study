{
  "nbformat": 4,
  "nbformat_minor": 0,
  "metadata": {
    "colab": {
      "name": "20220508_하는중.ipynb",
      "provenance": [],
      "authorship_tag": "ABX9TyOEuEpoq1teHnzcfS8pN2F0",
      "include_colab_link": true
    },
    "kernelspec": {
      "name": "ir",
      "display_name": "R"
    },
    "language_info": {
      "name": "R"
    }
  },
  "cells": [
    {
      "cell_type": "markdown",
      "metadata": {
        "id": "view-in-github",
        "colab_type": "text"
      },
      "source": [
        "<a href=\"https://colab.research.google.com/github/min02yam/Data-study/blob/main/20220508_airquality_%EB%8B%B5.ipynb\" target=\"_parent\"><img src=\"https://colab.research.google.com/assets/colab-badge.svg\" alt=\"Open In Colab\"/></a>"
      ]
    },
    {
      "cell_type": "markdown",
      "source": [
        "# 1. Data Pre-processing\n",
        "\n",
        "\n",
        "## 1)   airquality 데이터셋에서 결측값에 대해 3분위수로 대체하고, melt()를 써서 날짜변수를 제외한 column변수를 row변수로 바꿔서 air_melt로 저장하시오. \n",
        "## 2)   air_melt를 데이터프레임 구조를 동일하게 유지하면서 원래의 airquality 데이터셋으로 만드시오. \n"
      ],
      "metadata": {
        "id": "glH2Xjg7kgtN"
      }
    },
    {
      "cell_type": "code",
      "source": [
        "install.packages(c(\"dplyr\",\"reshape2\")) "
      ],
      "metadata": {
        "colab": {
          "base_uri": "https://localhost:8080/"
        },
        "id": "pkvZ4WIjlH7t",
        "outputId": "1b46369c-16e4-42a4-8fb8-2beb73411a9a"
      },
      "execution_count": 2,
      "outputs": [
        {
          "output_type": "stream",
          "name": "stderr",
          "text": [
            "Installing packages into ‘/usr/local/lib/R/site-library’\n",
            "(as ‘lib’ is unspecified)\n",
            "\n",
            "also installing the dependencies ‘plyr’, ‘Rcpp’\n",
            "\n",
            "\n"
          ]
        }
      ]
    },
    {
      "cell_type": "code",
      "source": [
        "library(dplyr); library(reshape2)"
      ],
      "metadata": {
        "id": "Ac6Snw5ClhkZ",
        "colab": {
          "base_uri": "https://localhost:8080/"
        },
        "outputId": "de28e6d9-7f55-454b-e4b6-a7ab2fa5c01c"
      },
      "execution_count": 3,
      "outputs": [
        {
          "output_type": "stream",
          "name": "stderr",
          "text": [
            "\n",
            "Attaching package: ‘dplyr’\n",
            "\n",
            "\n",
            "The following objects are masked from ‘package:stats’:\n",
            "\n",
            "    filter, lag\n",
            "\n",
            "\n",
            "The following objects are masked from ‘package:base’:\n",
            "\n",
            "    intersect, setdiff, setequal, union\n",
            "\n",
            "\n"
          ]
        }
      ]
    },
    {
      "cell_type": "markdown",
      "source": [
        "- `step1)` 데이터 불러오기 및 간단한 구조 확인"
      ],
      "metadata": {
        "id": "Z3MdmaBBoLtV"
      }
    },
    {
      "cell_type": "code",
      "source": [
        "head(airquality)"
      ],
      "metadata": {
        "colab": {
          "base_uri": "https://localhost:8080/",
          "height": 286
        },
        "id": "_VV5Z3TykyuN",
        "outputId": "f1fa4e0b-de00-4db6-af6d-969c6c880cf5"
      },
      "execution_count": 4,
      "outputs": [
        {
          "output_type": "display_data",
          "data": {
            "text/html": [
              "<table class=\"dataframe\">\n",
              "<caption>A data.frame: 6 × 6</caption>\n",
              "<thead>\n",
              "\t<tr><th></th><th scope=col>Ozone</th><th scope=col>Solar.R</th><th scope=col>Wind</th><th scope=col>Temp</th><th scope=col>Month</th><th scope=col>Day</th></tr>\n",
              "\t<tr><th></th><th scope=col>&lt;int&gt;</th><th scope=col>&lt;int&gt;</th><th scope=col>&lt;dbl&gt;</th><th scope=col>&lt;int&gt;</th><th scope=col>&lt;int&gt;</th><th scope=col>&lt;int&gt;</th></tr>\n",
              "</thead>\n",
              "<tbody>\n",
              "\t<tr><th scope=row>1</th><td>41</td><td>190</td><td> 7.4</td><td>67</td><td>5</td><td>1</td></tr>\n",
              "\t<tr><th scope=row>2</th><td>36</td><td>118</td><td> 8.0</td><td>72</td><td>5</td><td>2</td></tr>\n",
              "\t<tr><th scope=row>3</th><td>12</td><td>149</td><td>12.6</td><td>74</td><td>5</td><td>3</td></tr>\n",
              "\t<tr><th scope=row>4</th><td>18</td><td>313</td><td>11.5</td><td>62</td><td>5</td><td>4</td></tr>\n",
              "\t<tr><th scope=row>5</th><td>NA</td><td> NA</td><td>14.3</td><td>56</td><td>5</td><td>5</td></tr>\n",
              "\t<tr><th scope=row>6</th><td>28</td><td> NA</td><td>14.9</td><td>66</td><td>5</td><td>6</td></tr>\n",
              "</tbody>\n",
              "</table>\n"
            ],
            "text/markdown": "\nA data.frame: 6 × 6\n\n| <!--/--> | Ozone &lt;int&gt; | Solar.R &lt;int&gt; | Wind &lt;dbl&gt; | Temp &lt;int&gt; | Month &lt;int&gt; | Day &lt;int&gt; |\n|---|---|---|---|---|---|---|\n| 1 | 41 | 190 |  7.4 | 67 | 5 | 1 |\n| 2 | 36 | 118 |  8.0 | 72 | 5 | 2 |\n| 3 | 12 | 149 | 12.6 | 74 | 5 | 3 |\n| 4 | 18 | 313 | 11.5 | 62 | 5 | 4 |\n| 5 | NA |  NA | 14.3 | 56 | 5 | 5 |\n| 6 | 28 |  NA | 14.9 | 66 | 5 | 6 |\n\n",
            "text/latex": "A data.frame: 6 × 6\n\\begin{tabular}{r|llllll}\n  & Ozone & Solar.R & Wind & Temp & Month & Day\\\\\n  & <int> & <int> & <dbl> & <int> & <int> & <int>\\\\\n\\hline\n\t1 & 41 & 190 &  7.4 & 67 & 5 & 1\\\\\n\t2 & 36 & 118 &  8.0 & 72 & 5 & 2\\\\\n\t3 & 12 & 149 & 12.6 & 74 & 5 & 3\\\\\n\t4 & 18 & 313 & 11.5 & 62 & 5 & 4\\\\\n\t5 & NA &  NA & 14.3 & 56 & 5 & 5\\\\\n\t6 & 28 &  NA & 14.9 & 66 & 5 & 6\\\\\n\\end{tabular}\n",
            "text/plain": [
              "  Ozone Solar.R Wind Temp Month Day\n",
              "1 41    190      7.4 67   5     1  \n",
              "2 36    118      8.0 72   5     2  \n",
              "3 12    149     12.6 74   5     3  \n",
              "4 18    313     11.5 62   5     4  \n",
              "5 NA     NA     14.3 56   5     5  \n",
              "6 28     NA     14.9 66   5     6  "
            ]
          },
          "metadata": {}
        }
      ]
    },
    {
      "cell_type": "code",
      "source": [
        "df<-airquality"
      ],
      "metadata": {
        "id": "bOVvWLKzlHbY"
      },
      "execution_count": 5,
      "outputs": []
    },
    {
      "cell_type": "code",
      "source": [
        "summary(df)"
      ],
      "metadata": {
        "colab": {
          "base_uri": "https://localhost:8080/",
          "height": 308
        },
        "id": "jnyBcsk_lDAW",
        "outputId": "554cdd08-22f4-460e-a77c-8be5cb710a5c"
      },
      "execution_count": 6,
      "outputs": [
        {
          "output_type": "display_data",
          "data": {
            "text/plain": [
              "     Ozone           Solar.R           Wind             Temp      \n",
              " Min.   :  1.00   Min.   :  7.0   Min.   : 1.700   Min.   :56.00  \n",
              " 1st Qu.: 18.00   1st Qu.:115.8   1st Qu.: 7.400   1st Qu.:72.00  \n",
              " Median : 31.50   Median :205.0   Median : 9.700   Median :79.00  \n",
              " Mean   : 42.13   Mean   :185.9   Mean   : 9.958   Mean   :77.88  \n",
              " 3rd Qu.: 63.25   3rd Qu.:258.8   3rd Qu.:11.500   3rd Qu.:85.00  \n",
              " Max.   :168.00   Max.   :334.0   Max.   :20.700   Max.   :97.00  \n",
              " NA's   :37       NA's   :7                                       \n",
              "     Month            Day      \n",
              " Min.   :5.000   Min.   : 1.0  \n",
              " 1st Qu.:6.000   1st Qu.: 8.0  \n",
              " Median :7.000   Median :16.0  \n",
              " Mean   :6.993   Mean   :15.8  \n",
              " 3rd Qu.:8.000   3rd Qu.:23.0  \n",
              " Max.   :9.000   Max.   :31.0  \n",
              "                               "
            ]
          },
          "metadata": {}
        }
      ]
    },
    {
      "cell_type": "markdown",
      "source": [
        "- `step2)` NA 0.75퀀타일 값으로 대체"
      ],
      "metadata": {
        "id": "M5PfNsXYotix"
      }
    },
    {
      "cell_type": "code",
      "source": [
        "for (j in 1:2) {\n",
        "df[,j]<- ifelse( is.na(df[,j]) , quantile(df[,j], probs=0.75, na.rm=TRUE) , df[,j] )\n",
        "}"
      ],
      "metadata": {
        "id": "uyB5tvLRosoy"
      },
      "execution_count": 7,
      "outputs": []
    },
    {
      "cell_type": "code",
      "source": [
        "summary(df); head(df) # 확인"
      ],
      "metadata": {
        "colab": {
          "base_uri": "https://localhost:8080/",
          "height": 541
        },
        "id": "EeAzVe0nqMex",
        "outputId": "2430b80e-cebb-4ad6-a3c8-9b7597ed20b3"
      },
      "execution_count": 8,
      "outputs": [
        {
          "output_type": "display_data",
          "data": {
            "text/plain": [
              "     Ozone           Solar.R           Wind             Temp      \n",
              " Min.   :  1.00   Min.   :  7.0   Min.   : 1.700   Min.   :56.00  \n",
              " 1st Qu.: 21.00   1st Qu.:120.0   1st Qu.: 7.400   1st Qu.:72.00  \n",
              " Median : 45.00   Median :215.0   Median : 9.700   Median :79.00  \n",
              " Mean   : 47.24   Mean   :189.3   Mean   : 9.958   Mean   :77.88  \n",
              " 3rd Qu.: 63.25   3rd Qu.:258.8   3rd Qu.:11.500   3rd Qu.:85.00  \n",
              " Max.   :168.00   Max.   :334.0   Max.   :20.700   Max.   :97.00  \n",
              "     Month            Day      \n",
              " Min.   :5.000   Min.   : 1.0  \n",
              " 1st Qu.:6.000   1st Qu.: 8.0  \n",
              " Median :7.000   Median :16.0  \n",
              " Mean   :6.993   Mean   :15.8  \n",
              " 3rd Qu.:8.000   3rd Qu.:23.0  \n",
              " Max.   :9.000   Max.   :31.0  "
            ]
          },
          "metadata": {}
        },
        {
          "output_type": "display_data",
          "data": {
            "text/html": [
              "<table class=\"dataframe\">\n",
              "<caption>A data.frame: 6 × 6</caption>\n",
              "<thead>\n",
              "\t<tr><th></th><th scope=col>Ozone</th><th scope=col>Solar.R</th><th scope=col>Wind</th><th scope=col>Temp</th><th scope=col>Month</th><th scope=col>Day</th></tr>\n",
              "\t<tr><th></th><th scope=col>&lt;dbl&gt;</th><th scope=col>&lt;dbl&gt;</th><th scope=col>&lt;dbl&gt;</th><th scope=col>&lt;int&gt;</th><th scope=col>&lt;int&gt;</th><th scope=col>&lt;int&gt;</th></tr>\n",
              "</thead>\n",
              "<tbody>\n",
              "\t<tr><th scope=row>1</th><td>41.00</td><td>190.00</td><td> 7.4</td><td>67</td><td>5</td><td>1</td></tr>\n",
              "\t<tr><th scope=row>2</th><td>36.00</td><td>118.00</td><td> 8.0</td><td>72</td><td>5</td><td>2</td></tr>\n",
              "\t<tr><th scope=row>3</th><td>12.00</td><td>149.00</td><td>12.6</td><td>74</td><td>5</td><td>3</td></tr>\n",
              "\t<tr><th scope=row>4</th><td>18.00</td><td>313.00</td><td>11.5</td><td>62</td><td>5</td><td>4</td></tr>\n",
              "\t<tr><th scope=row>5</th><td>63.25</td><td>258.75</td><td>14.3</td><td>56</td><td>5</td><td>5</td></tr>\n",
              "\t<tr><th scope=row>6</th><td>28.00</td><td>258.75</td><td>14.9</td><td>66</td><td>5</td><td>6</td></tr>\n",
              "</tbody>\n",
              "</table>\n"
            ],
            "text/markdown": "\nA data.frame: 6 × 6\n\n| <!--/--> | Ozone &lt;dbl&gt; | Solar.R &lt;dbl&gt; | Wind &lt;dbl&gt; | Temp &lt;int&gt; | Month &lt;int&gt; | Day &lt;int&gt; |\n|---|---|---|---|---|---|---|\n| 1 | 41.00 | 190.00 |  7.4 | 67 | 5 | 1 |\n| 2 | 36.00 | 118.00 |  8.0 | 72 | 5 | 2 |\n| 3 | 12.00 | 149.00 | 12.6 | 74 | 5 | 3 |\n| 4 | 18.00 | 313.00 | 11.5 | 62 | 5 | 4 |\n| 5 | 63.25 | 258.75 | 14.3 | 56 | 5 | 5 |\n| 6 | 28.00 | 258.75 | 14.9 | 66 | 5 | 6 |\n\n",
            "text/latex": "A data.frame: 6 × 6\n\\begin{tabular}{r|llllll}\n  & Ozone & Solar.R & Wind & Temp & Month & Day\\\\\n  & <dbl> & <dbl> & <dbl> & <int> & <int> & <int>\\\\\n\\hline\n\t1 & 41.00 & 190.00 &  7.4 & 67 & 5 & 1\\\\\n\t2 & 36.00 & 118.00 &  8.0 & 72 & 5 & 2\\\\\n\t3 & 12.00 & 149.00 & 12.6 & 74 & 5 & 3\\\\\n\t4 & 18.00 & 313.00 & 11.5 & 62 & 5 & 4\\\\\n\t5 & 63.25 & 258.75 & 14.3 & 56 & 5 & 5\\\\\n\t6 & 28.00 & 258.75 & 14.9 & 66 & 5 & 6\\\\\n\\end{tabular}\n",
            "text/plain": [
              "  Ozone Solar.R Wind Temp Month Day\n",
              "1 41.00 190.00   7.4 67   5     1  \n",
              "2 36.00 118.00   8.0 72   5     2  \n",
              "3 12.00 149.00  12.6 74   5     3  \n",
              "4 18.00 313.00  11.5 62   5     4  \n",
              "5 63.25 258.75  14.3 56   5     5  \n",
              "6 28.00 258.75  14.9 66   5     6  "
            ]
          },
          "metadata": {}
        }
      ]
    },
    {
      "cell_type": "markdown",
      "source": [
        "- `step3)` 날짜변수를 제외한 column변수를 row변수로 바꿔서 air_melt로 저장"
      ],
      "metadata": {
        "id": "LIh7EUgxt9HA"
      }
    },
    {
      "cell_type": "code",
      "source": [
        "air_melt<-melt(df[,-c(5:6)]) ; air_melt"
      ],
      "metadata": {
        "id": "y-jihnnQsYJD",
        "colab": {
          "base_uri": "https://localhost:8080/",
          "height": 1000
        },
        "outputId": "f9a89cc8-2742-4fef-b41a-a47f210462cb"
      },
      "execution_count": 10,
      "outputs": [
        {
          "output_type": "stream",
          "name": "stderr",
          "text": [
            "No id variables; using all as measure variables\n",
            "\n"
          ]
        },
        {
          "output_type": "display_data",
          "data": {
            "text/html": [
              "<table class=\"dataframe\">\n",
              "<caption>A data.frame: 612 × 2</caption>\n",
              "<thead>\n",
              "\t<tr><th scope=col>variable</th><th scope=col>value</th></tr>\n",
              "\t<tr><th scope=col>&lt;fct&gt;</th><th scope=col>&lt;dbl&gt;</th></tr>\n",
              "</thead>\n",
              "<tbody>\n",
              "\t<tr><td>Ozone</td><td> 41.00</td></tr>\n",
              "\t<tr><td>Ozone</td><td> 36.00</td></tr>\n",
              "\t<tr><td>Ozone</td><td> 12.00</td></tr>\n",
              "\t<tr><td>Ozone</td><td> 18.00</td></tr>\n",
              "\t<tr><td>Ozone</td><td> 63.25</td></tr>\n",
              "\t<tr><td>Ozone</td><td> 28.00</td></tr>\n",
              "\t<tr><td>Ozone</td><td> 23.00</td></tr>\n",
              "\t<tr><td>Ozone</td><td> 19.00</td></tr>\n",
              "\t<tr><td>Ozone</td><td>  8.00</td></tr>\n",
              "\t<tr><td>Ozone</td><td> 63.25</td></tr>\n",
              "\t<tr><td>Ozone</td><td>  7.00</td></tr>\n",
              "\t<tr><td>Ozone</td><td> 16.00</td></tr>\n",
              "\t<tr><td>Ozone</td><td> 11.00</td></tr>\n",
              "\t<tr><td>Ozone</td><td> 14.00</td></tr>\n",
              "\t<tr><td>Ozone</td><td> 18.00</td></tr>\n",
              "\t<tr><td>Ozone</td><td> 14.00</td></tr>\n",
              "\t<tr><td>Ozone</td><td> 34.00</td></tr>\n",
              "\t<tr><td>Ozone</td><td>  6.00</td></tr>\n",
              "\t<tr><td>Ozone</td><td> 30.00</td></tr>\n",
              "\t<tr><td>Ozone</td><td> 11.00</td></tr>\n",
              "\t<tr><td>Ozone</td><td>  1.00</td></tr>\n",
              "\t<tr><td>Ozone</td><td> 11.00</td></tr>\n",
              "\t<tr><td>Ozone</td><td>  4.00</td></tr>\n",
              "\t<tr><td>Ozone</td><td> 32.00</td></tr>\n",
              "\t<tr><td>Ozone</td><td> 63.25</td></tr>\n",
              "\t<tr><td>Ozone</td><td> 63.25</td></tr>\n",
              "\t<tr><td>Ozone</td><td> 63.25</td></tr>\n",
              "\t<tr><td>Ozone</td><td> 23.00</td></tr>\n",
              "\t<tr><td>Ozone</td><td> 45.00</td></tr>\n",
              "\t<tr><td>Ozone</td><td>115.00</td></tr>\n",
              "\t<tr><td>⋮</td><td>⋮</td></tr>\n",
              "\t<tr><td>Temp</td><td>91</td></tr>\n",
              "\t<tr><td>Temp</td><td>92</td></tr>\n",
              "\t<tr><td>Temp</td><td>93</td></tr>\n",
              "\t<tr><td>Temp</td><td>93</td></tr>\n",
              "\t<tr><td>Temp</td><td>87</td></tr>\n",
              "\t<tr><td>Temp</td><td>84</td></tr>\n",
              "\t<tr><td>Temp</td><td>80</td></tr>\n",
              "\t<tr><td>Temp</td><td>78</td></tr>\n",
              "\t<tr><td>Temp</td><td>75</td></tr>\n",
              "\t<tr><td>Temp</td><td>73</td></tr>\n",
              "\t<tr><td>Temp</td><td>81</td></tr>\n",
              "\t<tr><td>Temp</td><td>76</td></tr>\n",
              "\t<tr><td>Temp</td><td>77</td></tr>\n",
              "\t<tr><td>Temp</td><td>71</td></tr>\n",
              "\t<tr><td>Temp</td><td>71</td></tr>\n",
              "\t<tr><td>Temp</td><td>78</td></tr>\n",
              "\t<tr><td>Temp</td><td>67</td></tr>\n",
              "\t<tr><td>Temp</td><td>76</td></tr>\n",
              "\t<tr><td>Temp</td><td>68</td></tr>\n",
              "\t<tr><td>Temp</td><td>82</td></tr>\n",
              "\t<tr><td>Temp</td><td>64</td></tr>\n",
              "\t<tr><td>Temp</td><td>71</td></tr>\n",
              "\t<tr><td>Temp</td><td>81</td></tr>\n",
              "\t<tr><td>Temp</td><td>69</td></tr>\n",
              "\t<tr><td>Temp</td><td>63</td></tr>\n",
              "\t<tr><td>Temp</td><td>70</td></tr>\n",
              "\t<tr><td>Temp</td><td>77</td></tr>\n",
              "\t<tr><td>Temp</td><td>75</td></tr>\n",
              "\t<tr><td>Temp</td><td>76</td></tr>\n",
              "\t<tr><td>Temp</td><td>68</td></tr>\n",
              "</tbody>\n",
              "</table>\n"
            ],
            "text/markdown": "\nA data.frame: 612 × 2\n\n| variable &lt;fct&gt; | value &lt;dbl&gt; |\n|---|---|\n| Ozone |  41.00 |\n| Ozone |  36.00 |\n| Ozone |  12.00 |\n| Ozone |  18.00 |\n| Ozone |  63.25 |\n| Ozone |  28.00 |\n| Ozone |  23.00 |\n| Ozone |  19.00 |\n| Ozone |   8.00 |\n| Ozone |  63.25 |\n| Ozone |   7.00 |\n| Ozone |  16.00 |\n| Ozone |  11.00 |\n| Ozone |  14.00 |\n| Ozone |  18.00 |\n| Ozone |  14.00 |\n| Ozone |  34.00 |\n| Ozone |   6.00 |\n| Ozone |  30.00 |\n| Ozone |  11.00 |\n| Ozone |   1.00 |\n| Ozone |  11.00 |\n| Ozone |   4.00 |\n| Ozone |  32.00 |\n| Ozone |  63.25 |\n| Ozone |  63.25 |\n| Ozone |  63.25 |\n| Ozone |  23.00 |\n| Ozone |  45.00 |\n| Ozone | 115.00 |\n| ⋮ | ⋮ |\n| Temp | 91 |\n| Temp | 92 |\n| Temp | 93 |\n| Temp | 93 |\n| Temp | 87 |\n| Temp | 84 |\n| Temp | 80 |\n| Temp | 78 |\n| Temp | 75 |\n| Temp | 73 |\n| Temp | 81 |\n| Temp | 76 |\n| Temp | 77 |\n| Temp | 71 |\n| Temp | 71 |\n| Temp | 78 |\n| Temp | 67 |\n| Temp | 76 |\n| Temp | 68 |\n| Temp | 82 |\n| Temp | 64 |\n| Temp | 71 |\n| Temp | 81 |\n| Temp | 69 |\n| Temp | 63 |\n| Temp | 70 |\n| Temp | 77 |\n| Temp | 75 |\n| Temp | 76 |\n| Temp | 68 |\n\n",
            "text/latex": "A data.frame: 612 × 2\n\\begin{tabular}{ll}\n variable & value\\\\\n <fct> & <dbl>\\\\\n\\hline\n\t Ozone &  41.00\\\\\n\t Ozone &  36.00\\\\\n\t Ozone &  12.00\\\\\n\t Ozone &  18.00\\\\\n\t Ozone &  63.25\\\\\n\t Ozone &  28.00\\\\\n\t Ozone &  23.00\\\\\n\t Ozone &  19.00\\\\\n\t Ozone &   8.00\\\\\n\t Ozone &  63.25\\\\\n\t Ozone &   7.00\\\\\n\t Ozone &  16.00\\\\\n\t Ozone &  11.00\\\\\n\t Ozone &  14.00\\\\\n\t Ozone &  18.00\\\\\n\t Ozone &  14.00\\\\\n\t Ozone &  34.00\\\\\n\t Ozone &   6.00\\\\\n\t Ozone &  30.00\\\\\n\t Ozone &  11.00\\\\\n\t Ozone &   1.00\\\\\n\t Ozone &  11.00\\\\\n\t Ozone &   4.00\\\\\n\t Ozone &  32.00\\\\\n\t Ozone &  63.25\\\\\n\t Ozone &  63.25\\\\\n\t Ozone &  63.25\\\\\n\t Ozone &  23.00\\\\\n\t Ozone &  45.00\\\\\n\t Ozone & 115.00\\\\\n\t ⋮ & ⋮\\\\\n\t Temp & 91\\\\\n\t Temp & 92\\\\\n\t Temp & 93\\\\\n\t Temp & 93\\\\\n\t Temp & 87\\\\\n\t Temp & 84\\\\\n\t Temp & 80\\\\\n\t Temp & 78\\\\\n\t Temp & 75\\\\\n\t Temp & 73\\\\\n\t Temp & 81\\\\\n\t Temp & 76\\\\\n\t Temp & 77\\\\\n\t Temp & 71\\\\\n\t Temp & 71\\\\\n\t Temp & 78\\\\\n\t Temp & 67\\\\\n\t Temp & 76\\\\\n\t Temp & 68\\\\\n\t Temp & 82\\\\\n\t Temp & 64\\\\\n\t Temp & 71\\\\\n\t Temp & 81\\\\\n\t Temp & 69\\\\\n\t Temp & 63\\\\\n\t Temp & 70\\\\\n\t Temp & 77\\\\\n\t Temp & 75\\\\\n\t Temp & 76\\\\\n\t Temp & 68\\\\\n\\end{tabular}\n",
            "text/plain": [
              "    variable value \n",
              "1   Ozone     41.00\n",
              "2   Ozone     36.00\n",
              "3   Ozone     12.00\n",
              "4   Ozone     18.00\n",
              "5   Ozone     63.25\n",
              "6   Ozone     28.00\n",
              "7   Ozone     23.00\n",
              "8   Ozone     19.00\n",
              "9   Ozone      8.00\n",
              "10  Ozone     63.25\n",
              "11  Ozone      7.00\n",
              "12  Ozone     16.00\n",
              "13  Ozone     11.00\n",
              "14  Ozone     14.00\n",
              "15  Ozone     18.00\n",
              "16  Ozone     14.00\n",
              "17  Ozone     34.00\n",
              "18  Ozone      6.00\n",
              "19  Ozone     30.00\n",
              "20  Ozone     11.00\n",
              "21  Ozone      1.00\n",
              "22  Ozone     11.00\n",
              "23  Ozone      4.00\n",
              "24  Ozone     32.00\n",
              "25  Ozone     63.25\n",
              "26  Ozone     63.25\n",
              "27  Ozone     63.25\n",
              "28  Ozone     23.00\n",
              "29  Ozone     45.00\n",
              "30  Ozone    115.00\n",
              "⋮   ⋮        ⋮     \n",
              "583 Temp     91    \n",
              "584 Temp     92    \n",
              "585 Temp     93    \n",
              "586 Temp     93    \n",
              "587 Temp     87    \n",
              "588 Temp     84    \n",
              "589 Temp     80    \n",
              "590 Temp     78    \n",
              "591 Temp     75    \n",
              "592 Temp     73    \n",
              "593 Temp     81    \n",
              "594 Temp     76    \n",
              "595 Temp     77    \n",
              "596 Temp     71    \n",
              "597 Temp     71    \n",
              "598 Temp     78    \n",
              "599 Temp     67    \n",
              "600 Temp     76    \n",
              "601 Temp     68    \n",
              "602 Temp     82    \n",
              "603 Temp     64    \n",
              "604 Temp     71    \n",
              "605 Temp     81    \n",
              "606 Temp     69    \n",
              "607 Temp     63    \n",
              "608 Temp     70    \n",
              "609 Temp     77    \n",
              "610 Temp     75    \n",
              "611 Temp     76    \n",
              "612 Temp     68    "
            ]
          },
          "metadata": {}
        }
      ]
    },
    {
      "cell_type": "markdown",
      "source": [
        "- `step4)` \n",
        "데이터프레임 구조를 동일하게 유지하면서 \n",
        "> A data.frame: 765 × 2\n",
        "\n",
        "  원래의 airquality 데이터셋으로...??\n",
        "> air_melt에 5,6번 컬럼 값 추가..??\n",
        "\n",
        "ref. https://seananderson.ca/2013/10/19/reshape/"
      ],
      "metadata": {
        "id": "7FeILZf_uTnH"
      }
    },
    {
      "cell_type": "code",
      "source": [
        "air_melt2<-melt(df, id.vars = c(\"Month\", \"Day\")) ; head(air_melt2) "
      ],
      "metadata": {
        "id": "w_LJzzKst3RM",
        "colab": {
          "base_uri": "https://localhost:8080/",
          "height": 286
        },
        "outputId": "bf872429-c3ea-4266-c593-7cfdc64129d7"
      },
      "execution_count": 13,
      "outputs": [
        {
          "output_type": "display_data",
          "data": {
            "text/html": [
              "<table class=\"dataframe\">\n",
              "<caption>A data.frame: 6 × 4</caption>\n",
              "<thead>\n",
              "\t<tr><th></th><th scope=col>Month</th><th scope=col>Day</th><th scope=col>variable</th><th scope=col>value</th></tr>\n",
              "\t<tr><th></th><th scope=col>&lt;int&gt;</th><th scope=col>&lt;int&gt;</th><th scope=col>&lt;fct&gt;</th><th scope=col>&lt;dbl&gt;</th></tr>\n",
              "</thead>\n",
              "<tbody>\n",
              "\t<tr><th scope=row>1</th><td>5</td><td>1</td><td>Ozone</td><td>41.00</td></tr>\n",
              "\t<tr><th scope=row>2</th><td>5</td><td>2</td><td>Ozone</td><td>36.00</td></tr>\n",
              "\t<tr><th scope=row>3</th><td>5</td><td>3</td><td>Ozone</td><td>12.00</td></tr>\n",
              "\t<tr><th scope=row>4</th><td>5</td><td>4</td><td>Ozone</td><td>18.00</td></tr>\n",
              "\t<tr><th scope=row>5</th><td>5</td><td>5</td><td>Ozone</td><td>63.25</td></tr>\n",
              "\t<tr><th scope=row>6</th><td>5</td><td>6</td><td>Ozone</td><td>28.00</td></tr>\n",
              "</tbody>\n",
              "</table>\n"
            ],
            "text/markdown": "\nA data.frame: 6 × 4\n\n| <!--/--> | Month &lt;int&gt; | Day &lt;int&gt; | variable &lt;fct&gt; | value &lt;dbl&gt; |\n|---|---|---|---|---|\n| 1 | 5 | 1 | Ozone | 41.00 |\n| 2 | 5 | 2 | Ozone | 36.00 |\n| 3 | 5 | 3 | Ozone | 12.00 |\n| 4 | 5 | 4 | Ozone | 18.00 |\n| 5 | 5 | 5 | Ozone | 63.25 |\n| 6 | 5 | 6 | Ozone | 28.00 |\n\n",
            "text/latex": "A data.frame: 6 × 4\n\\begin{tabular}{r|llll}\n  & Month & Day & variable & value\\\\\n  & <int> & <int> & <fct> & <dbl>\\\\\n\\hline\n\t1 & 5 & 1 & Ozone & 41.00\\\\\n\t2 & 5 & 2 & Ozone & 36.00\\\\\n\t3 & 5 & 3 & Ozone & 12.00\\\\\n\t4 & 5 & 4 & Ozone & 18.00\\\\\n\t5 & 5 & 5 & Ozone & 63.25\\\\\n\t6 & 5 & 6 & Ozone & 28.00\\\\\n\\end{tabular}\n",
            "text/plain": [
              "  Month Day variable value\n",
              "1 5     1   Ozone    41.00\n",
              "2 5     2   Ozone    36.00\n",
              "3 5     3   Ozone    12.00\n",
              "4 5     4   Ozone    18.00\n",
              "5 5     5   Ozone    63.25\n",
              "6 5     6   Ozone    28.00"
            ]
          },
          "metadata": {}
        }
      ]
    },
    {
      "cell_type": "code",
      "source": [
        "aqw <- dcast(air_melt2, Month + Day ~ variable)\n",
        "head(aqw)"
      ],
      "metadata": {
        "colab": {
          "base_uri": "https://localhost:8080/",
          "height": 286
        },
        "id": "FlCN2GebRg9v",
        "outputId": "f110baf1-44c6-430a-87c5-ad81232e2cb4"
      },
      "execution_count": 15,
      "outputs": [
        {
          "output_type": "display_data",
          "data": {
            "text/html": [
              "<table class=\"dataframe\">\n",
              "<caption>A data.frame: 6 × 6</caption>\n",
              "<thead>\n",
              "\t<tr><th></th><th scope=col>Month</th><th scope=col>Day</th><th scope=col>Ozone</th><th scope=col>Solar.R</th><th scope=col>Wind</th><th scope=col>Temp</th></tr>\n",
              "\t<tr><th></th><th scope=col>&lt;int&gt;</th><th scope=col>&lt;int&gt;</th><th scope=col>&lt;dbl&gt;</th><th scope=col>&lt;dbl&gt;</th><th scope=col>&lt;dbl&gt;</th><th scope=col>&lt;dbl&gt;</th></tr>\n",
              "</thead>\n",
              "<tbody>\n",
              "\t<tr><th scope=row>1</th><td>5</td><td>1</td><td>41.00</td><td>190.00</td><td> 7.4</td><td>67</td></tr>\n",
              "\t<tr><th scope=row>2</th><td>5</td><td>2</td><td>36.00</td><td>118.00</td><td> 8.0</td><td>72</td></tr>\n",
              "\t<tr><th scope=row>3</th><td>5</td><td>3</td><td>12.00</td><td>149.00</td><td>12.6</td><td>74</td></tr>\n",
              "\t<tr><th scope=row>4</th><td>5</td><td>4</td><td>18.00</td><td>313.00</td><td>11.5</td><td>62</td></tr>\n",
              "\t<tr><th scope=row>5</th><td>5</td><td>5</td><td>63.25</td><td>258.75</td><td>14.3</td><td>56</td></tr>\n",
              "\t<tr><th scope=row>6</th><td>5</td><td>6</td><td>28.00</td><td>258.75</td><td>14.9</td><td>66</td></tr>\n",
              "</tbody>\n",
              "</table>\n"
            ],
            "text/markdown": "\nA data.frame: 6 × 6\n\n| <!--/--> | Month &lt;int&gt; | Day &lt;int&gt; | Ozone &lt;dbl&gt; | Solar.R &lt;dbl&gt; | Wind &lt;dbl&gt; | Temp &lt;dbl&gt; |\n|---|---|---|---|---|---|---|\n| 1 | 5 | 1 | 41.00 | 190.00 |  7.4 | 67 |\n| 2 | 5 | 2 | 36.00 | 118.00 |  8.0 | 72 |\n| 3 | 5 | 3 | 12.00 | 149.00 | 12.6 | 74 |\n| 4 | 5 | 4 | 18.00 | 313.00 | 11.5 | 62 |\n| 5 | 5 | 5 | 63.25 | 258.75 | 14.3 | 56 |\n| 6 | 5 | 6 | 28.00 | 258.75 | 14.9 | 66 |\n\n",
            "text/latex": "A data.frame: 6 × 6\n\\begin{tabular}{r|llllll}\n  & Month & Day & Ozone & Solar.R & Wind & Temp\\\\\n  & <int> & <int> & <dbl> & <dbl> & <dbl> & <dbl>\\\\\n\\hline\n\t1 & 5 & 1 & 41.00 & 190.00 &  7.4 & 67\\\\\n\t2 & 5 & 2 & 36.00 & 118.00 &  8.0 & 72\\\\\n\t3 & 5 & 3 & 12.00 & 149.00 & 12.6 & 74\\\\\n\t4 & 5 & 4 & 18.00 & 313.00 & 11.5 & 62\\\\\n\t5 & 5 & 5 & 63.25 & 258.75 & 14.3 & 56\\\\\n\t6 & 5 & 6 & 28.00 & 258.75 & 14.9 & 66\\\\\n\\end{tabular}\n",
            "text/plain": [
              "  Month Day Ozone Solar.R Wind Temp\n",
              "1 5     1   41.00 190.00   7.4 67  \n",
              "2 5     2   36.00 118.00   8.0 72  \n",
              "3 5     3   12.00 149.00  12.6 74  \n",
              "4 5     4   18.00 313.00  11.5 62  \n",
              "5 5     5   63.25 258.75  14.3 56  \n",
              "6 5     6   28.00 258.75  14.9 66  "
            ]
          },
          "metadata": {}
        }
      ]
    }
  ]
}