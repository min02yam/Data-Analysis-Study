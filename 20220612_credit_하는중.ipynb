{
  "nbformat": 4,
  "nbformat_minor": 0,
  "metadata": {
    "colab": {
      "name": "Untitled19.ipynb",
      "provenance": [],
      "collapsed_sections": [],
      "authorship_tag": "ABX9TyNnGuj8PGcQ9zSwvmlhGblv",
      "include_colab_link": true
    },
    "kernelspec": {
      "name": "python3",
      "display_name": "Python 3"
    },
    "language_info": {
      "name": "python"
    },
    "accelerator": "GPU"
  },
  "cells": [
    {
      "cell_type": "markdown",
      "metadata": {
        "id": "view-in-github",
        "colab_type": "text"
      },
      "source": [
        "<a href=\"https://colab.research.google.com/github/min02yam/R-study/blob/main/20220612_credit_%ED%95%98%EB%8A%94%EC%A4%91.ipynb\" target=\"_parent\"><img src=\"https://colab.research.google.com/assets/colab-badge.svg\" alt=\"Open In Colab\"/></a>"
      ]
    },
    {
      "cell_type": "code",
      "execution_count": null,
      "metadata": {
        "id": "cSb530URAFf_"
      },
      "outputs": [],
      "source": [
        ""
      ]
    },
    {
      "cell_type": "markdown",
      "source": [
        "credit_final 데이터 세트를 이용하여 credit.rating를 예측하시고 각 모델별 차이를 구하시오\n",
        "\n"
      ],
      "metadata": {
        "id": "w1IydnMqAu9E"
      }
    },
    {
      "cell_type": "markdown",
      "source": [
        "# 1. EDA"
      ],
      "metadata": {
        "id": "qfuYjK-MA84D"
      }
    },
    {
      "cell_type": "markdown",
      "source": [
        "# 2. FEATURE ENGINEERING"
      ],
      "metadata": {
        "id": "Lvndt3gAA-1i"
      }
    },
    {
      "cell_type": "markdown",
      "source": [
        "# 3. MODELING"
      ],
      "metadata": {
        "id": "8Kr9NtloBKfF"
      }
    },
    {
      "cell_type": "markdown",
      "source": [
        "# 4. 평가"
      ],
      "metadata": {
        "id": "DGq6i3o8BM_6"
      }
    },
    {
      "cell_type": "markdown",
      "source": [
        "# 5. 결론"
      ],
      "metadata": {
        "id": "AdVfyTCFBQWe"
      }
    }
  ]
}