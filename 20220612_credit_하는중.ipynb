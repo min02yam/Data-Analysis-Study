{
  "nbformat": 4,
  "nbformat_minor": 0,
  "metadata": {
    "colab": {
      "name": "Untitled20.ipynb",
      "provenance": [],
      "authorship_tag": "ABX9TyMN1dId2NdFcvNEbM+azsbZ",
      "include_colab_link": true
    },
    "kernelspec": {
      "name": "ir",
      "display_name": "R"
    },
    "language_info": {
      "name": "R"
    },
    "accelerator": "GPU"
  },
  "cells": [
    {
      "cell_type": "markdown",
      "metadata": {
        "id": "view-in-github",
        "colab_type": "text"
      },
      "source": [
        "<a href=\"https://colab.research.google.com/github/min02yam/R-study/blob/main/20220612_credit_%ED%95%98%EB%8A%94%EC%A4%91.ipynb\" target=\"_parent\"><img src=\"https://colab.research.google.com/assets/colab-badge.svg\" alt=\"Open In Colab\"/></a>"
      ]
    },
    {
      "cell_type": "markdown",
      "source": [
        "# 1. 라이브러리 및 데이터 로드"
      ],
      "metadata": {
        "id": "suikFV0ZD0lI"
      }
    },
    {
      "cell_type": "code",
      "source": [
        "install.packages\n",
        "\"tidyvers\"\n",
        "\"skimr\",\"magrittr\", \"pacman\",\n",
        "\n",
        "\"leaps\"\n",
        "\"ksvm\",\"e1071\",\"caret\"\n",
        "\"xgboost\"\n",
        "\"pROC\""
      ],
      "metadata": {
        "id": "vSkJDFiqESlH"
      },
      "execution_count": null,
      "outputs": []
    },
    {
      "cell_type": "code",
      "execution_count": 1,
      "metadata": {
        "id": "2yCy224lDtHb"
      },
      "outputs": [],
      "source": [
        "system(\"gdown --id 1FruZr0kLCSwYBgSm7HJibK9JHh1allu9\")"
      ]
    },
    {
      "cell_type": "code",
      "source": [
        "df=read.csv(\"credit_final.csv\", stringsAsFactors = TRUE)"
      ],
      "metadata": {
        "id": "P62EIGDcD3V3"
      },
      "execution_count": 5,
      "outputs": []
    },
    {
      "cell_type": "code",
      "source": [
        ""
      ],
      "metadata": {
        "id": "cVIIZcQrD9wH"
      },
      "execution_count": 2,
      "outputs": []
    }
  ]
}