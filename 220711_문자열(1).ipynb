{
  "nbformat": 4,
  "nbformat_minor": 0,
  "metadata": {
    "colab": {
      "name": "Untitled24.ipynb",
      "provenance": [],
      "authorship_tag": "ABX9TyM9u8m7m2Z4s2llLu7QyFge",
      "include_colab_link": true
    },
    "kernelspec": {
      "name": "ir",
      "display_name": "R"
    },
    "language_info": {
      "name": "R"
    }
  },
  "cells": [
    {
      "cell_type": "markdown",
      "metadata": {
        "id": "view-in-github",
        "colab_type": "text"
      },
      "source": [
        "<a href=\"https://colab.research.google.com/github/min02yam/R-study/blob/main/220711_%EB%AC%B8%EC%9E%90%EC%97%B4(1).ipynb\" target=\"_parent\"><img src=\"https://colab.research.google.com/assets/colab-badge.svg\" alt=\"Open In Colab\"/></a>"
      ]
    },
    {
      "cell_type": "markdown",
      "source": [
        "2022.07.11\n",
        "1. 문자열 찾기: grepl\n",
        "2. 문자열 바꾸기: base, stringr, data.table\n"
      ],
      "metadata": {
        "id": "py0vNQ1OB3Xr"
      }
    },
    {
      "cell_type": "code",
      "source": [
        "library(dplyr)"
      ],
      "metadata": {
        "colab": {
          "base_uri": "https://localhost:8080/"
        },
        "id": "kt0bHNp_HAR0",
        "outputId": "dea88e28-b4ea-490e-db59-c11679eedde8"
      },
      "execution_count": 4,
      "outputs": [
        {
          "output_type": "stream",
          "name": "stderr",
          "text": [
            "\n",
            "Attaching package: ‘dplyr’\n",
            "\n",
            "\n",
            "The following objects are masked from ‘package:stats’:\n",
            "\n",
            "    filter, lag\n",
            "\n",
            "\n",
            "The following objects are masked from ‘package:base’:\n",
            "\n",
            "    intersect, setdiff, setequal, union\n",
            "\n",
            "\n"
          ]
        }
      ]
    },
    {
      "cell_type": "code",
      "source": [
        "#emp=read.csv(\"employees.csv\", stringsAsFactors = TRUE)\n",
        "dep=read.csv(\"departments.csv\", stringsAsFactors = TRUE)"
      ],
      "metadata": {
        "id": "KHRGVuWQG2e8"
      },
      "execution_count": 92,
      "outputs": []
    },
    {
      "cell_type": "code",
      "source": [
        "head(emp)"
      ],
      "metadata": {
        "colab": {
          "base_uri": "https://localhost:8080/",
          "height": 306
        },
        "id": "t4ACAG_MHivl",
        "outputId": "82934815-12ed-4883-d030-5f381b13cd52"
      },
      "execution_count": 41,
      "outputs": [
        {
          "output_type": "display_data",
          "data": {
            "text/html": [
              "<table class=\"dataframe\">\n",
              "<caption>A data.frame: 6 × 11</caption>\n",
              "<thead>\n",
              "\t<tr><th></th><th scope=col>EMPLOYEE_ID</th><th scope=col>FIRST_NAME</th><th scope=col>LAST_NAME</th><th scope=col>EMAIL</th><th scope=col>PHONE_NUMBER</th><th scope=col>HIRE_DATE</th><th scope=col>JOB_ID</th><th scope=col>SALARY</th><th scope=col>COMMISSION_PCT</th><th scope=col>MANAGER_ID</th><th scope=col>DEPARTMENT_ID</th></tr>\n",
              "\t<tr><th></th><th scope=col>&lt;int&gt;</th><th scope=col>&lt;fct&gt;</th><th scope=col>&lt;fct&gt;</th><th scope=col>&lt;fct&gt;</th><th scope=col>&lt;fct&gt;</th><th scope=col>&lt;fct&gt;</th><th scope=col>&lt;fct&gt;</th><th scope=col>&lt;int&gt;</th><th scope=col>&lt;fct&gt;</th><th scope=col>&lt;fct&gt;</th><th scope=col>&lt;int&gt;</th></tr>\n",
              "</thead>\n",
              "<tbody>\n",
              "\t<tr><th scope=row>1</th><td>198</td><td>Donald  </td><td>OConnell </td><td>DOCONNEL</td><td>650.507.9833</td><td>21-JUN-07</td><td>SH_CLERK</td><td> 2600</td><td> - </td><td>124</td><td>50</td></tr>\n",
              "\t<tr><th scope=row>2</th><td>199</td><td>Douglas </td><td>Grant    </td><td>DGRANT  </td><td>650.507.9844</td><td>13-JAN-08</td><td>SH_CLERK</td><td> 2600</td><td> - </td><td>124</td><td>50</td></tr>\n",
              "\t<tr><th scope=row>3</th><td>200</td><td>Jennifer</td><td>Whalen   </td><td>JWHALEN </td><td>515.123.4444</td><td>17-SEP-03</td><td>AD_ASST </td><td> 4400</td><td> - </td><td>101</td><td>10</td></tr>\n",
              "\t<tr><th scope=row>4</th><td>201</td><td>Michael </td><td>Hartstein</td><td>MHARTSTE</td><td>515.123.5555</td><td>17-FEB-04</td><td>MK_MAN  </td><td>13000</td><td> - </td><td>100</td><td>20</td></tr>\n",
              "\t<tr><th scope=row>5</th><td>202</td><td>Pat     </td><td>Fay      </td><td>PFAY    </td><td>603.123.6666</td><td>17-AUG-05</td><td>MK_REP  </td><td> 6000</td><td> - </td><td>201</td><td>20</td></tr>\n",
              "\t<tr><th scope=row>6</th><td>203</td><td>Susan   </td><td>Mavris   </td><td>SMAVRIS </td><td>515.123.7777</td><td>07-JUN-02</td><td>HR_REP  </td><td> 6500</td><td> - </td><td>101</td><td>40</td></tr>\n",
              "</tbody>\n",
              "</table>\n"
            ],
            "text/markdown": "\nA data.frame: 6 × 11\n\n| <!--/--> | EMPLOYEE_ID &lt;int&gt; | FIRST_NAME &lt;fct&gt; | LAST_NAME &lt;fct&gt; | EMAIL &lt;fct&gt; | PHONE_NUMBER &lt;fct&gt; | HIRE_DATE &lt;fct&gt; | JOB_ID &lt;fct&gt; | SALARY &lt;int&gt; | COMMISSION_PCT &lt;fct&gt; | MANAGER_ID &lt;fct&gt; | DEPARTMENT_ID &lt;int&gt; |\n|---|---|---|---|---|---|---|---|---|---|---|---|\n| 1 | 198 | Donald   | OConnell  | DOCONNEL | 650.507.9833 | 21-JUN-07 | SH_CLERK |  2600 |  -  | 124 | 50 |\n| 2 | 199 | Douglas  | Grant     | DGRANT   | 650.507.9844 | 13-JAN-08 | SH_CLERK |  2600 |  -  | 124 | 50 |\n| 3 | 200 | Jennifer | Whalen    | JWHALEN  | 515.123.4444 | 17-SEP-03 | AD_ASST  |  4400 |  -  | 101 | 10 |\n| 4 | 201 | Michael  | Hartstein | MHARTSTE | 515.123.5555 | 17-FEB-04 | MK_MAN   | 13000 |  -  | 100 | 20 |\n| 5 | 202 | Pat      | Fay       | PFAY     | 603.123.6666 | 17-AUG-05 | MK_REP   |  6000 |  -  | 201 | 20 |\n| 6 | 203 | Susan    | Mavris    | SMAVRIS  | 515.123.7777 | 07-JUN-02 | HR_REP   |  6500 |  -  | 101 | 40 |\n\n",
            "text/latex": "A data.frame: 6 × 11\n\\begin{tabular}{r|lllllllllll}\n  & EMPLOYEE\\_ID & FIRST\\_NAME & LAST\\_NAME & EMAIL & PHONE\\_NUMBER & HIRE\\_DATE & JOB\\_ID & SALARY & COMMISSION\\_PCT & MANAGER\\_ID & DEPARTMENT\\_ID\\\\\n  & <int> & <fct> & <fct> & <fct> & <fct> & <fct> & <fct> & <int> & <fct> & <fct> & <int>\\\\\n\\hline\n\t1 & 198 & Donald   & OConnell  & DOCONNEL & 650.507.9833 & 21-JUN-07 & SH\\_CLERK &  2600 &  -  & 124 & 50\\\\\n\t2 & 199 & Douglas  & Grant     & DGRANT   & 650.507.9844 & 13-JAN-08 & SH\\_CLERK &  2600 &  -  & 124 & 50\\\\\n\t3 & 200 & Jennifer & Whalen    & JWHALEN  & 515.123.4444 & 17-SEP-03 & AD\\_ASST  &  4400 &  -  & 101 & 10\\\\\n\t4 & 201 & Michael  & Hartstein & MHARTSTE & 515.123.5555 & 17-FEB-04 & MK\\_MAN   & 13000 &  -  & 100 & 20\\\\\n\t5 & 202 & Pat      & Fay       & PFAY     & 603.123.6666 & 17-AUG-05 & MK\\_REP   &  6000 &  -  & 201 & 20\\\\\n\t6 & 203 & Susan    & Mavris    & SMAVRIS  & 515.123.7777 & 07-JUN-02 & HR\\_REP   &  6500 &  -  & 101 & 40\\\\\n\\end{tabular}\n",
            "text/plain": [
              "  EMPLOYEE_ID FIRST_NAME LAST_NAME EMAIL    PHONE_NUMBER HIRE_DATE JOB_ID  \n",
              "1 198         Donald     OConnell  DOCONNEL 650.507.9833 21-JUN-07 SH_CLERK\n",
              "2 199         Douglas    Grant     DGRANT   650.507.9844 13-JAN-08 SH_CLERK\n",
              "3 200         Jennifer   Whalen    JWHALEN  515.123.4444 17-SEP-03 AD_ASST \n",
              "4 201         Michael    Hartstein MHARTSTE 515.123.5555 17-FEB-04 MK_MAN  \n",
              "5 202         Pat        Fay       PFAY     603.123.6666 17-AUG-05 MK_REP  \n",
              "6 203         Susan      Mavris    SMAVRIS  515.123.7777 07-JUN-02 HR_REP  \n",
              "  SALARY COMMISSION_PCT MANAGER_ID DEPARTMENT_ID\n",
              "1  2600   -             124        50           \n",
              "2  2600   -             124        50           \n",
              "3  4400   -             101        10           \n",
              "4 13000   -             100        20           \n",
              "5  6000   -             201        20           \n",
              "6  6500   -             101        40           "
            ]
          },
          "metadata": {}
        }
      ]
    },
    {
      "cell_type": "markdown",
      "source": [
        "# 1. 찾기"
      ],
      "metadata": {
        "id": "wCNc7YLic0Tr"
      }
    },
    {
      "cell_type": "code",
      "source": [
        "as.data.frame(installed.packages())  %>%\n",
        "  filter( grepl(\"^y\", Package) ) %>% head"
      ],
      "metadata": {
        "colab": {
          "base_uri": "https://localhost:8080/",
          "height": 184
        },
        "id": "P2r3AjsMG7gd",
        "outputId": "adacd408-c49b-4326-bc33-619b785fb1c7"
      },
      "execution_count": 115,
      "outputs": [
        {
          "output_type": "display_data",
          "data": {
            "text/html": [
              "<table class=\"dataframe\">\n",
              "<caption>A data.frame: 1 × 16</caption>\n",
              "<thead>\n",
              "\t<tr><th></th><th scope=col>Package</th><th scope=col>LibPath</th><th scope=col>Version</th><th scope=col>Priority</th><th scope=col>Depends</th><th scope=col>Imports</th><th scope=col>LinkingTo</th><th scope=col>Suggests</th><th scope=col>Enhances</th><th scope=col>License</th><th scope=col>License_is_FOSS</th><th scope=col>License_restricts_use</th><th scope=col>OS_type</th><th scope=col>MD5sum</th><th scope=col>NeedsCompilation</th><th scope=col>Built</th></tr>\n",
              "\t<tr><th></th><th scope=col>&lt;chr&gt;</th><th scope=col>&lt;chr&gt;</th><th scope=col>&lt;chr&gt;</th><th scope=col>&lt;chr&gt;</th><th scope=col>&lt;chr&gt;</th><th scope=col>&lt;chr&gt;</th><th scope=col>&lt;chr&gt;</th><th scope=col>&lt;chr&gt;</th><th scope=col>&lt;chr&gt;</th><th scope=col>&lt;chr&gt;</th><th scope=col>&lt;chr&gt;</th><th scope=col>&lt;chr&gt;</th><th scope=col>&lt;chr&gt;</th><th scope=col>&lt;chr&gt;</th><th scope=col>&lt;chr&gt;</th><th scope=col>&lt;chr&gt;</th></tr>\n",
              "</thead>\n",
              "<tbody>\n",
              "\t<tr><th scope=row>yaml</th><td>yaml</td><td>/usr/lib/R/site-library</td><td>2.3.5</td><td>NA</td><td>NA</td><td>NA</td><td>NA</td><td>RUnit</td><td>NA</td><td>BSD_3_clause + file LICENSE</td><td>NA</td><td>NA</td><td>NA</td><td>NA</td><td>yes</td><td>4.1.2</td></tr>\n",
              "</tbody>\n",
              "</table>\n"
            ],
            "text/markdown": "\nA data.frame: 1 × 16\n\n| <!--/--> | Package &lt;chr&gt; | LibPath &lt;chr&gt; | Version &lt;chr&gt; | Priority &lt;chr&gt; | Depends &lt;chr&gt; | Imports &lt;chr&gt; | LinkingTo &lt;chr&gt; | Suggests &lt;chr&gt; | Enhances &lt;chr&gt; | License &lt;chr&gt; | License_is_FOSS &lt;chr&gt; | License_restricts_use &lt;chr&gt; | OS_type &lt;chr&gt; | MD5sum &lt;chr&gt; | NeedsCompilation &lt;chr&gt; | Built &lt;chr&gt; |\n|---|---|---|---|---|---|---|---|---|---|---|---|---|---|---|---|---|\n| yaml | yaml | /usr/lib/R/site-library | 2.3.5 | NA | NA | NA | NA | RUnit | NA | BSD_3_clause + file LICENSE | NA | NA | NA | NA | yes | 4.1.2 |\n\n",
            "text/latex": "A data.frame: 1 × 16\n\\begin{tabular}{r|llllllllllllllll}\n  & Package & LibPath & Version & Priority & Depends & Imports & LinkingTo & Suggests & Enhances & License & License\\_is\\_FOSS & License\\_restricts\\_use & OS\\_type & MD5sum & NeedsCompilation & Built\\\\\n  & <chr> & <chr> & <chr> & <chr> & <chr> & <chr> & <chr> & <chr> & <chr> & <chr> & <chr> & <chr> & <chr> & <chr> & <chr> & <chr>\\\\\n\\hline\n\tyaml & yaml & /usr/lib/R/site-library & 2.3.5 & NA & NA & NA & NA & RUnit & NA & BSD\\_3\\_clause + file LICENSE & NA & NA & NA & NA & yes & 4.1.2\\\\\n\\end{tabular}\n",
            "text/plain": [
              "     Package LibPath                 Version Priority Depends Imports LinkingTo\n",
              "yaml yaml    /usr/lib/R/site-library 2.3.5   NA       NA      NA      NA       \n",
              "     Suggests Enhances License                     License_is_FOSS\n",
              "yaml RUnit    NA       BSD_3_clause + file LICENSE NA             \n",
              "     License_restricts_use OS_type MD5sum NeedsCompilation Built\n",
              "yaml NA                    NA      NA     yes              4.1.2"
            ]
          },
          "metadata": {}
        }
      ]
    },
    {
      "cell_type": "code",
      "source": [
        "dep $ DEPARTMENT_NAME\t %>% table"
      ],
      "metadata": {
        "colab": {
          "base_uri": "https://localhost:8080/",
          "height": 363
        },
        "id": "QZ05iHYyMA80",
        "outputId": "e4563614-1916-45f1-a787-de73e6b86215"
      },
      "execution_count": 89,
      "outputs": [
        {
          "output_type": "display_data",
          "data": {
            "text/plain": [
              ".\n",
              "          Accounting       Administration             Benefits \n",
              "                   1                    1                    1 \n",
              "        Construction          Contracting   Control And Credit \n",
              "                   1                    1                    1 \n",
              "       Corporate Tax            Executive              Finance \n",
              "                   1                    1                    1 \n",
              "    Government Sales      Human Resources                   IT \n",
              "                   1                    1                    1 \n",
              "         IT Helpdesk           IT Support        Manufacturing \n",
              "                   1                    1                    1 \n",
              "           Marketing                  NOC           Operations \n",
              "                   1                    1                    1 \n",
              "             Payroll     Public Relations           Purchasing \n",
              "                   1                    1                    1 \n",
              "          Recruiting         Retail Sales                Sales \n",
              "                   1                    1                    1 \n",
              "Shareholder Services             Shipping             Treasury \n",
              "                   1                    1                    1 "
            ]
          },
          "metadata": {}
        }
      ]
    },
    {
      "cell_type": "markdown",
      "source": [
        "# 2. 바꾸기"
      ],
      "metadata": {
        "id": "7YuVPUadc2WY"
      }
    },
    {
      "cell_type": "markdown",
      "source": [
        "# Base"
      ],
      "metadata": {
        "id": "9UoK2hxBPMQO"
      }
    },
    {
      "cell_type": "code",
      "source": [
        "dep['DEPARTMENT_NAME']= gsub(\"Benefits\", \"B\", dep$DEPARTMENT_NAME, fixed=TRUE)"
      ],
      "metadata": {
        "id": "6VxHar1sMnGH"
      },
      "execution_count": 61,
      "outputs": []
    },
    {
      "cell_type": "code",
      "source": [
        "dep %>% head"
      ],
      "metadata": {
        "colab": {
          "base_uri": "https://localhost:8080/",
          "height": 286
        },
        "id": "m9SRMNFHOm1P",
        "outputId": "b85d9987-9022-49bc-8069-bd4f633be3d4"
      },
      "execution_count": 65,
      "outputs": [
        {
          "output_type": "display_data",
          "data": {
            "text/html": [
              "<table class=\"dataframe\">\n",
              "<caption>A data.frame: 6 × 4</caption>\n",
              "<thead>\n",
              "\t<tr><th></th><th scope=col>DEPARTMENT_ID</th><th scope=col>DEPARTMENT_NAME</th><th scope=col>MANAGER_ID</th><th scope=col>LOCATION_ID</th></tr>\n",
              "\t<tr><th></th><th scope=col>&lt;int&gt;</th><th scope=col>&lt;chr&gt;</th><th scope=col>&lt;fct&gt;</th><th scope=col>&lt;int&gt;</th></tr>\n",
              "</thead>\n",
              "<tbody>\n",
              "\t<tr><th scope=row>1</th><td>10</td><td>Administration </td><td>200</td><td>1700</td></tr>\n",
              "\t<tr><th scope=row>2</th><td>20</td><td>Marketing      </td><td>201</td><td>1800</td></tr>\n",
              "\t<tr><th scope=row>3</th><td>30</td><td>Purchasing     </td><td>114</td><td>1700</td></tr>\n",
              "\t<tr><th scope=row>4</th><td>40</td><td>Human Resources</td><td>203</td><td>2400</td></tr>\n",
              "\t<tr><th scope=row>5</th><td>50</td><td>Shipping       </td><td>121</td><td>1500</td></tr>\n",
              "\t<tr><th scope=row>6</th><td>60</td><td>IT             </td><td>103</td><td>1400</td></tr>\n",
              "</tbody>\n",
              "</table>\n"
            ],
            "text/markdown": "\nA data.frame: 6 × 4\n\n| <!--/--> | DEPARTMENT_ID &lt;int&gt; | DEPARTMENT_NAME &lt;chr&gt; | MANAGER_ID &lt;fct&gt; | LOCATION_ID &lt;int&gt; |\n|---|---|---|---|---|\n| 1 | 10 | Administration  | 200 | 1700 |\n| 2 | 20 | Marketing       | 201 | 1800 |\n| 3 | 30 | Purchasing      | 114 | 1700 |\n| 4 | 40 | Human Resources | 203 | 2400 |\n| 5 | 50 | Shipping        | 121 | 1500 |\n| 6 | 60 | IT              | 103 | 1400 |\n\n",
            "text/latex": "A data.frame: 6 × 4\n\\begin{tabular}{r|llll}\n  & DEPARTMENT\\_ID & DEPARTMENT\\_NAME & MANAGER\\_ID & LOCATION\\_ID\\\\\n  & <int> & <chr> & <fct> & <int>\\\\\n\\hline\n\t1 & 10 & Administration  & 200 & 1700\\\\\n\t2 & 20 & Marketing       & 201 & 1800\\\\\n\t3 & 30 & Purchasing      & 114 & 1700\\\\\n\t4 & 40 & Human Resources & 203 & 2400\\\\\n\t5 & 50 & Shipping        & 121 & 1500\\\\\n\t6 & 60 & IT              & 103 & 1400\\\\\n\\end{tabular}\n",
            "text/plain": [
              "  DEPARTMENT_ID DEPARTMENT_NAME MANAGER_ID LOCATION_ID\n",
              "1 10            Administration  200        1700       \n",
              "2 20            Marketing       201        1800       \n",
              "3 30            Purchasing      114        1700       \n",
              "4 40            Human Resources 203        2400       \n",
              "5 50            Shipping        121        1500       \n",
              "6 60            IT              103        1400       "
            ]
          },
          "metadata": {}
        }
      ]
    },
    {
      "cell_type": "markdown",
      "source": [
        "# stringr"
      ],
      "metadata": {
        "id": "frByRdbFO8hD"
      }
    },
    {
      "cell_type": "code",
      "source": [
        "require(stringr)"
      ],
      "metadata": {
        "id": "6qa_xy_iPPHO"
      },
      "execution_count": 72,
      "outputs": []
    },
    {
      "cell_type": "code",
      "source": [
        "dep %>% mutate(DEPARTMENT_NAME =  str_replace_all(DEPARTMENT_NAME, \"Finance\" , \"F\" )) %>% head"
      ],
      "metadata": {
        "colab": {
          "base_uri": "https://localhost:8080/",
          "height": 286
        },
        "id": "lzbRxGXYM49g",
        "outputId": "ec3f70f5-de1d-44e1-c741-07c60db87990"
      },
      "execution_count": 74,
      "outputs": [
        {
          "output_type": "display_data",
          "data": {
            "text/html": [
              "<table class=\"dataframe\">\n",
              "<caption>A data.frame: 6 × 4</caption>\n",
              "<thead>\n",
              "\t<tr><th></th><th scope=col>DEPARTMENT_ID</th><th scope=col>DEPARTMENT_NAME</th><th scope=col>MANAGER_ID</th><th scope=col>LOCATION_ID</th></tr>\n",
              "\t<tr><th></th><th scope=col>&lt;int&gt;</th><th scope=col>&lt;chr&gt;</th><th scope=col>&lt;fct&gt;</th><th scope=col>&lt;int&gt;</th></tr>\n",
              "</thead>\n",
              "<tbody>\n",
              "\t<tr><th scope=row>1</th><td>10</td><td>Administration </td><td>200</td><td>1700</td></tr>\n",
              "\t<tr><th scope=row>2</th><td>20</td><td>Marketing      </td><td>201</td><td>1800</td></tr>\n",
              "\t<tr><th scope=row>3</th><td>30</td><td>Purchasing     </td><td>114</td><td>1700</td></tr>\n",
              "\t<tr><th scope=row>4</th><td>40</td><td>Human Resources</td><td>203</td><td>2400</td></tr>\n",
              "\t<tr><th scope=row>5</th><td>50</td><td>Shipping       </td><td>121</td><td>1500</td></tr>\n",
              "\t<tr><th scope=row>6</th><td>60</td><td>IT             </td><td>103</td><td>1400</td></tr>\n",
              "</tbody>\n",
              "</table>\n"
            ],
            "text/markdown": "\nA data.frame: 6 × 4\n\n| <!--/--> | DEPARTMENT_ID &lt;int&gt; | DEPARTMENT_NAME &lt;chr&gt; | MANAGER_ID &lt;fct&gt; | LOCATION_ID &lt;int&gt; |\n|---|---|---|---|---|\n| 1 | 10 | Administration  | 200 | 1700 |\n| 2 | 20 | Marketing       | 201 | 1800 |\n| 3 | 30 | Purchasing      | 114 | 1700 |\n| 4 | 40 | Human Resources | 203 | 2400 |\n| 5 | 50 | Shipping        | 121 | 1500 |\n| 6 | 60 | IT              | 103 | 1400 |\n\n",
            "text/latex": "A data.frame: 6 × 4\n\\begin{tabular}{r|llll}\n  & DEPARTMENT\\_ID & DEPARTMENT\\_NAME & MANAGER\\_ID & LOCATION\\_ID\\\\\n  & <int> & <chr> & <fct> & <int>\\\\\n\\hline\n\t1 & 10 & Administration  & 200 & 1700\\\\\n\t2 & 20 & Marketing       & 201 & 1800\\\\\n\t3 & 30 & Purchasing      & 114 & 1700\\\\\n\t4 & 40 & Human Resources & 203 & 2400\\\\\n\t5 & 50 & Shipping        & 121 & 1500\\\\\n\t6 & 60 & IT              & 103 & 1400\\\\\n\\end{tabular}\n",
            "text/plain": [
              "  DEPARTMENT_ID DEPARTMENT_NAME MANAGER_ID LOCATION_ID\n",
              "1 10            Administration  200        1700       \n",
              "2 20            Marketing       201        1800       \n",
              "3 30            Purchasing      114        1700       \n",
              "4 40            Human Resources 203        2400       \n",
              "5 50            Shipping        121        1500       \n",
              "6 60            IT              103        1400       "
            ]
          },
          "metadata": {}
        }
      ]
    },
    {
      "cell_type": "markdown",
      "source": [
        "# data.table"
      ],
      "metadata": {
        "id": "7mSfQ4EKXsA2"
      }
    },
    {
      "cell_type": "code",
      "source": [
        "require(data.table)"
      ],
      "metadata": {
        "colab": {
          "base_uri": "https://localhost:8080/"
        },
        "id": "NS0MV7rOXzKu",
        "outputId": "b1e27ba4-40c6-41bd-a0b3-4849435e4537"
      },
      "execution_count": 116,
      "outputs": [
        {
          "output_type": "stream",
          "name": "stderr",
          "text": [
            "Loading required package: data.table\n",
            "\n",
            "\n",
            "Attaching package: ‘data.table’\n",
            "\n",
            "\n",
            "The following objects are masked from ‘package:dplyr’:\n",
            "\n",
            "    between, first, last\n",
            "\n",
            "\n"
          ]
        }
      ]
    },
    {
      "cell_type": "code",
      "source": [
        "#DT <- data.table(dep)\n",
        "DT"
      ],
      "metadata": {
        "colab": {
          "base_uri": "https://localhost:8080/",
          "height": 944
        },
        "id": "GyOsCV-oX-2K",
        "outputId": "65f8ba25-0e3b-408c-9e65-628289858e3b"
      },
      "execution_count": 118,
      "outputs": [
        {
          "output_type": "display_data",
          "data": {
            "text/html": [
              "<table class=\"dataframe\">\n",
              "<caption>A data.table: 27 × 4</caption>\n",
              "<thead>\n",
              "\t<tr><th scope=col>DEPARTMENT_ID</th><th scope=col>DEPARTMENT_NAME</th><th scope=col>MANAGER_ID</th><th scope=col>LOCATION_ID</th></tr>\n",
              "\t<tr><th scope=col>&lt;int&gt;</th><th scope=col>&lt;fct&gt;</th><th scope=col>&lt;fct&gt;</th><th scope=col>&lt;int&gt;</th></tr>\n",
              "</thead>\n",
              "<tbody>\n",
              "\t<tr><td> 10</td><td>Administration      </td><td>200</td><td>1700</td></tr>\n",
              "\t<tr><td> 20</td><td>Marketing           </td><td>201</td><td>1800</td></tr>\n",
              "\t<tr><td> 30</td><td>Purchasing          </td><td>114</td><td>1700</td></tr>\n",
              "\t<tr><td> 40</td><td>Human Resources     </td><td>203</td><td>2400</td></tr>\n",
              "\t<tr><td> 50</td><td>Shipping            </td><td>121</td><td>1500</td></tr>\n",
              "\t<tr><td> 60</td><td>IT                  </td><td>103</td><td>1400</td></tr>\n",
              "\t<tr><td> 70</td><td>Public Relations    </td><td>204</td><td>2700</td></tr>\n",
              "\t<tr><td> 80</td><td>Sales               </td><td>145</td><td>2500</td></tr>\n",
              "\t<tr><td> 90</td><td>Executive           </td><td>100</td><td>1700</td></tr>\n",
              "\t<tr><td>100</td><td>Finance             </td><td>108</td><td>1700</td></tr>\n",
              "\t<tr><td>110</td><td>Accounting          </td><td>205</td><td>1700</td></tr>\n",
              "\t<tr><td>120</td><td>Treasury            </td><td> - </td><td>1700</td></tr>\n",
              "\t<tr><td>130</td><td>Corporate Tax       </td><td> - </td><td>1700</td></tr>\n",
              "\t<tr><td>140</td><td>Control And Credit  </td><td> - </td><td>1700</td></tr>\n",
              "\t<tr><td>150</td><td>Shareholder Services</td><td> - </td><td>1700</td></tr>\n",
              "\t<tr><td>160</td><td>Benefits            </td><td> - </td><td>1700</td></tr>\n",
              "\t<tr><td>170</td><td>Manufacturing       </td><td> - </td><td>1700</td></tr>\n",
              "\t<tr><td>180</td><td>Construction        </td><td> - </td><td>1700</td></tr>\n",
              "\t<tr><td>190</td><td>Contracting         </td><td> - </td><td>1700</td></tr>\n",
              "\t<tr><td>200</td><td>Operations          </td><td> - </td><td>1700</td></tr>\n",
              "\t<tr><td>210</td><td>IT Support          </td><td> - </td><td>1700</td></tr>\n",
              "\t<tr><td>220</td><td>NOC                 </td><td> - </td><td>1700</td></tr>\n",
              "\t<tr><td>230</td><td>IT Helpdesk         </td><td> - </td><td>1700</td></tr>\n",
              "\t<tr><td>240</td><td>Government Sales    </td><td> - </td><td>1700</td></tr>\n",
              "\t<tr><td>250</td><td>Retail Sales        </td><td> - </td><td>1700</td></tr>\n",
              "\t<tr><td>260</td><td>Recruiting          </td><td> - </td><td>1700</td></tr>\n",
              "\t<tr><td>270</td><td>Payroll             </td><td> - </td><td>1700</td></tr>\n",
              "</tbody>\n",
              "</table>\n"
            ],
            "text/markdown": "\nA data.table: 27 × 4\n\n| DEPARTMENT_ID &lt;int&gt; | DEPARTMENT_NAME &lt;fct&gt; | MANAGER_ID &lt;fct&gt; | LOCATION_ID &lt;int&gt; |\n|---|---|---|---|\n|  10 | Administration       | 200 | 1700 |\n|  20 | Marketing            | 201 | 1800 |\n|  30 | Purchasing           | 114 | 1700 |\n|  40 | Human Resources      | 203 | 2400 |\n|  50 | Shipping             | 121 | 1500 |\n|  60 | IT                   | 103 | 1400 |\n|  70 | Public Relations     | 204 | 2700 |\n|  80 | Sales                | 145 | 2500 |\n|  90 | Executive            | 100 | 1700 |\n| 100 | Finance              | 108 | 1700 |\n| 110 | Accounting           | 205 | 1700 |\n| 120 | Treasury             |  -  | 1700 |\n| 130 | Corporate Tax        |  -  | 1700 |\n| 140 | Control And Credit   |  -  | 1700 |\n| 150 | Shareholder Services |  -  | 1700 |\n| 160 | Benefits             |  -  | 1700 |\n| 170 | Manufacturing        |  -  | 1700 |\n| 180 | Construction         |  -  | 1700 |\n| 190 | Contracting          |  -  | 1700 |\n| 200 | Operations           |  -  | 1700 |\n| 210 | IT Support           |  -  | 1700 |\n| 220 | NOC                  |  -  | 1700 |\n| 230 | IT Helpdesk          |  -  | 1700 |\n| 240 | Government Sales     |  -  | 1700 |\n| 250 | Retail Sales         |  -  | 1700 |\n| 260 | Recruiting           |  -  | 1700 |\n| 270 | Payroll              |  -  | 1700 |\n\n",
            "text/latex": "A data.table: 27 × 4\n\\begin{tabular}{llll}\n DEPARTMENT\\_ID & DEPARTMENT\\_NAME & MANAGER\\_ID & LOCATION\\_ID\\\\\n <int> & <fct> & <fct> & <int>\\\\\n\\hline\n\t  10 & Administration       & 200 & 1700\\\\\n\t  20 & Marketing            & 201 & 1800\\\\\n\t  30 & Purchasing           & 114 & 1700\\\\\n\t  40 & Human Resources      & 203 & 2400\\\\\n\t  50 & Shipping             & 121 & 1500\\\\\n\t  60 & IT                   & 103 & 1400\\\\\n\t  70 & Public Relations     & 204 & 2700\\\\\n\t  80 & Sales                & 145 & 2500\\\\\n\t  90 & Executive            & 100 & 1700\\\\\n\t 100 & Finance              & 108 & 1700\\\\\n\t 110 & Accounting           & 205 & 1700\\\\\n\t 120 & Treasury             &  -  & 1700\\\\\n\t 130 & Corporate Tax        &  -  & 1700\\\\\n\t 140 & Control And Credit   &  -  & 1700\\\\\n\t 150 & Shareholder Services &  -  & 1700\\\\\n\t 160 & Benefits             &  -  & 1700\\\\\n\t 170 & Manufacturing        &  -  & 1700\\\\\n\t 180 & Construction         &  -  & 1700\\\\\n\t 190 & Contracting          &  -  & 1700\\\\\n\t 200 & Operations           &  -  & 1700\\\\\n\t 210 & IT Support           &  -  & 1700\\\\\n\t 220 & NOC                  &  -  & 1700\\\\\n\t 230 & IT Helpdesk          &  -  & 1700\\\\\n\t 240 & Government Sales     &  -  & 1700\\\\\n\t 250 & Retail Sales         &  -  & 1700\\\\\n\t 260 & Recruiting           &  -  & 1700\\\\\n\t 270 & Payroll              &  -  & 1700\\\\\n\\end{tabular}\n",
            "text/plain": [
              "   DEPARTMENT_ID DEPARTMENT_NAME      MANAGER_ID LOCATION_ID\n",
              "1   10           Administration       200        1700       \n",
              "2   20           Marketing            201        1800       \n",
              "3   30           Purchasing           114        1700       \n",
              "4   40           Human Resources      203        2400       \n",
              "5   50           Shipping             121        1500       \n",
              "6   60           IT                   103        1400       \n",
              "7   70           Public Relations     204        2700       \n",
              "8   80           Sales                145        2500       \n",
              "9   90           Executive            100        1700       \n",
              "10 100           Finance              108        1700       \n",
              "11 110           Accounting           205        1700       \n",
              "12 120           Treasury              -         1700       \n",
              "13 130           Corporate Tax         -         1700       \n",
              "14 140           Control And Credit    -         1700       \n",
              "15 150           Shareholder Services  -         1700       \n",
              "16 160           Benefits              -         1700       \n",
              "17 170           Manufacturing         -         1700       \n",
              "18 180           Construction          -         1700       \n",
              "19 190           Contracting           -         1700       \n",
              "20 200           Operations            -         1700       \n",
              "21 210           IT Support            -         1700       \n",
              "22 220           NOC                   -         1700       \n",
              "23 230           IT Helpdesk           -         1700       \n",
              "24 240           Government Sales      -         1700       \n",
              "25 250           Retail Sales          -         1700       \n",
              "26 260           Recruiting            -         1700       \n",
              "27 270           Payroll               -         1700       "
            ]
          },
          "metadata": {}
        }
      ]
    },
    {
      "cell_type": "code",
      "source": [
        "DT[1:7,]"
      ],
      "metadata": {
        "colab": {
          "base_uri": "https://localhost:8080/",
          "height": 317
        },
        "id": "1l_TD576YHWQ",
        "outputId": "c1680bac-c380-4706-95ef-5f7cd32cd99d"
      },
      "execution_count": 119,
      "outputs": [
        {
          "output_type": "display_data",
          "data": {
            "text/html": [
              "<table class=\"dataframe\">\n",
              "<caption>A data.table: 7 × 4</caption>\n",
              "<thead>\n",
              "\t<tr><th scope=col>DEPARTMENT_ID</th><th scope=col>DEPARTMENT_NAME</th><th scope=col>MANAGER_ID</th><th scope=col>LOCATION_ID</th></tr>\n",
              "\t<tr><th scope=col>&lt;int&gt;</th><th scope=col>&lt;fct&gt;</th><th scope=col>&lt;fct&gt;</th><th scope=col>&lt;int&gt;</th></tr>\n",
              "</thead>\n",
              "<tbody>\n",
              "\t<tr><td>10</td><td>Administration  </td><td>200</td><td>1700</td></tr>\n",
              "\t<tr><td>20</td><td>Marketing       </td><td>201</td><td>1800</td></tr>\n",
              "\t<tr><td>30</td><td>Purchasing      </td><td>114</td><td>1700</td></tr>\n",
              "\t<tr><td>40</td><td>Human Resources </td><td>203</td><td>2400</td></tr>\n",
              "\t<tr><td>50</td><td>Shipping        </td><td>121</td><td>1500</td></tr>\n",
              "\t<tr><td>60</td><td>IT              </td><td>103</td><td>1400</td></tr>\n",
              "\t<tr><td>70</td><td>Public Relations</td><td>204</td><td>2700</td></tr>\n",
              "</tbody>\n",
              "</table>\n"
            ],
            "text/markdown": "\nA data.table: 7 × 4\n\n| DEPARTMENT_ID &lt;int&gt; | DEPARTMENT_NAME &lt;fct&gt; | MANAGER_ID &lt;fct&gt; | LOCATION_ID &lt;int&gt; |\n|---|---|---|---|\n| 10 | Administration   | 200 | 1700 |\n| 20 | Marketing        | 201 | 1800 |\n| 30 | Purchasing       | 114 | 1700 |\n| 40 | Human Resources  | 203 | 2400 |\n| 50 | Shipping         | 121 | 1500 |\n| 60 | IT               | 103 | 1400 |\n| 70 | Public Relations | 204 | 2700 |\n\n",
            "text/latex": "A data.table: 7 × 4\n\\begin{tabular}{llll}\n DEPARTMENT\\_ID & DEPARTMENT\\_NAME & MANAGER\\_ID & LOCATION\\_ID\\\\\n <int> & <fct> & <fct> & <int>\\\\\n\\hline\n\t 10 & Administration   & 200 & 1700\\\\\n\t 20 & Marketing        & 201 & 1800\\\\\n\t 30 & Purchasing       & 114 & 1700\\\\\n\t 40 & Human Resources  & 203 & 2400\\\\\n\t 50 & Shipping         & 121 & 1500\\\\\n\t 60 & IT               & 103 & 1400\\\\\n\t 70 & Public Relations & 204 & 2700\\\\\n\\end{tabular}\n",
            "text/plain": [
              "  DEPARTMENT_ID DEPARTMENT_NAME  MANAGER_ID LOCATION_ID\n",
              "1 10            Administration   200        1700       \n",
              "2 20            Marketing        201        1800       \n",
              "3 30            Purchasing       114        1700       \n",
              "4 40            Human Resources  203        2400       \n",
              "5 50            Shipping         121        1500       \n",
              "6 60            IT               103        1400       \n",
              "7 70            Public Relations 204        2700       "
            ]
          },
          "metadata": {}
        }
      ]
    },
    {
      "cell_type": "code",
      "source": [
        "ㄴ"
      ],
      "metadata": {
        "colab": {
          "base_uri": "https://localhost:8080/",
          "height": 286
        },
        "id": "PVEnmyU8YLXc",
        "outputId": "6b6f4df8-8379-476f-a313-a7111d8907dd"
      },
      "execution_count": 126,
      "outputs": [
        {
          "output_type": "display_data",
          "data": {
            "text/html": [
              "<table class=\"dataframe\">\n",
              "<caption>A data.table: 6 × 5</caption>\n",
              "<thead>\n",
              "\t<tr><th scope=col>DEPARTMENT_ID</th><th scope=col>DEPARTMENT_NAME</th><th scope=col>MANAGER_ID</th><th scope=col>LOCATION_ID</th><th scope=col>DEPARTMENT_NAME_STR</th></tr>\n",
              "\t<tr><th scope=col>&lt;int&gt;</th><th scope=col>&lt;chr&gt;</th><th scope=col>&lt;fct&gt;</th><th scope=col>&lt;int&gt;</th><th scope=col>&lt;chr&gt;</th></tr>\n",
              "</thead>\n",
              "<tbody>\n",
              "\t<tr><td>10</td><td>Administration </td><td>200</td><td>1700</td><td>Administration </td></tr>\n",
              "\t<tr><td>20</td><td>Marketing      </td><td>201</td><td>1800</td><td>Marketing      </td></tr>\n",
              "\t<tr><td>30</td><td>Purchasing     </td><td>114</td><td>1700</td><td>Purchasing     </td></tr>\n",
              "\t<tr><td>40</td><td>Human Resources</td><td>203</td><td>2400</td><td>Human Resources</td></tr>\n",
              "\t<tr><td>50</td><td>Shipping       </td><td>121</td><td>1500</td><td>Shipping       </td></tr>\n",
              "\t<tr><td>60</td><td>NEW            </td><td>103</td><td>1400</td><td>NEW            </td></tr>\n",
              "</tbody>\n",
              "</table>\n"
            ],
            "text/markdown": "\nA data.table: 6 × 5\n\n| DEPARTMENT_ID &lt;int&gt; | DEPARTMENT_NAME &lt;chr&gt; | MANAGER_ID &lt;fct&gt; | LOCATION_ID &lt;int&gt; | DEPARTMENT_NAME_STR &lt;chr&gt; |\n|---|---|---|---|---|\n| 10 | Administration  | 200 | 1700 | Administration  |\n| 20 | Marketing       | 201 | 1800 | Marketing       |\n| 30 | Purchasing      | 114 | 1700 | Purchasing      |\n| 40 | Human Resources | 203 | 2400 | Human Resources |\n| 50 | Shipping        | 121 | 1500 | Shipping        |\n| 60 | NEW             | 103 | 1400 | NEW             |\n\n",
            "text/latex": "A data.table: 6 × 5\n\\begin{tabular}{lllll}\n DEPARTMENT\\_ID & DEPARTMENT\\_NAME & MANAGER\\_ID & LOCATION\\_ID & DEPARTMENT\\_NAME\\_STR\\\\\n <int> & <chr> & <fct> & <int> & <chr>\\\\\n\\hline\n\t 10 & Administration  & 200 & 1700 & Administration \\\\\n\t 20 & Marketing       & 201 & 1800 & Marketing      \\\\\n\t 30 & Purchasing      & 114 & 1700 & Purchasing     \\\\\n\t 40 & Human Resources & 203 & 2400 & Human Resources\\\\\n\t 50 & Shipping        & 121 & 1500 & Shipping       \\\\\n\t 60 & NEW             & 103 & 1400 & NEW            \\\\\n\\end{tabular}\n",
            "text/plain": [
              "  DEPARTMENT_ID DEPARTMENT_NAME MANAGER_ID LOCATION_ID DEPARTMENT_NAME_STR\n",
              "1 10            Administration  200        1700        Administration     \n",
              "2 20            Marketing       201        1800        Marketing          \n",
              "3 30            Purchasing      114        1700        Purchasing         \n",
              "4 40            Human Resources 203        2400        Human Resources    \n",
              "5 50            Shipping        121        1500        Shipping           \n",
              "6 60            NEW             103        1400        NEW                "
            ]
          },
          "metadata": {}
        }
      ]
    },
    {
      "cell_type": "markdown",
      "source": [
        "# 3. "
      ],
      "metadata": {
        "id": "ehgy0cPYc5Np"
      }
    },
    {
      "cell_type": "code",
      "source": [
        "?strsplit"
      ],
      "metadata": {
        "id": "B1RC2HO7c4ys"
      },
      "execution_count": 127,
      "outputs": []
    },
    {
      "cell_type": "markdown",
      "source": [
        "ref. https://statwith.tistory.com/2229"
      ],
      "metadata": {
        "id": "mzbIJ5qYXVy6"
      }
    }
  ]
}