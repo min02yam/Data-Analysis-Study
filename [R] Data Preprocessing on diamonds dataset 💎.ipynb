{
 "cells": [
  {
   "cell_type": "markdown",
   "metadata": {},
   "source": [
    "## 2. Preprocessing"
   ]
  },
  {
   "cell_type": "markdown",
   "metadata": {},
   "source": [
    "- How to use Kaggle API to download datasets in R\n",
    "https://medium.com/mcd-unison/how-to-use-kaggle-api-to-download-datasets-in-r-312179c7a99c"
   ]
  },
  {
   "cell_type": "code",
   "execution_count": 2,
   "metadata": {
    "collapsed": true
   },
   "outputs": [
    {
     "name": "stderr",
     "output_type": "stream",
     "text": [
      "also installing the dependencies 'credentials', 'openssl', 'zip', 'gitcreds', 'ini', 'fastmap', 'desc', 'gert', 'gh', 'rappdirs', 'glue', 'cachem', 'xopen', 'brew', 'commonmark', 'purrr', 'usethis', 'cli', 'fs', 'httr', 'memoise', 'pkgbuild', 'rcmdcheck', 'roxygen2', 'rstudioapi', 'rversions', 'sessioninfo'\n",
      "\n"
     ]
    },
    {
     "name": "stdout",
     "output_type": "stream",
     "text": [
      "\n",
      "  There are binary versions available but the source versions are later:\n",
      "            binary source needs_compilation\n",
      "credentials  1.3.0  1.3.2             FALSE\n",
      "openssl      1.4.4  2.0.0              TRUE\n",
      "zip          2.1.1  2.2.0              TRUE\n",
      "desc         1.3.0  1.4.1             FALSE\n",
      "gert         1.3.0  1.6.0              TRUE\n",
      "glue         1.4.2  1.6.2              TRUE\n",
      "cachem       1.0.4  1.0.6              TRUE\n",
      "brew         1.0-6  1.0-7             FALSE\n",
      "commonmark     1.7  1.8.0              TRUE\n",
      "usethis      2.0.1  2.1.5             FALSE\n",
      "cli          2.5.0  3.2.0              TRUE\n",
      "fs           1.5.0  1.5.2              TRUE\n",
      "memoise      2.0.0  2.0.1             FALSE\n",
      "pkgbuild     1.2.0  1.3.1             FALSE\n",
      "rcmdcheck    1.3.3  1.4.0             FALSE\n",
      "roxygen2     7.1.1  7.1.2              TRUE\n",
      "rversions    2.0.2  2.1.1             FALSE\n",
      "sessioninfo  1.1.1  1.2.2             FALSE\n",
      "devtools     2.4.1  2.4.3             FALSE\n",
      "\n",
      "  Binaries will be installed\n",
      "package 'openssl' successfully unpacked and MD5 sums checked\n",
      "package 'zip' successfully unpacked and MD5 sums checked\n",
      "package 'gitcreds' successfully unpacked and MD5 sums checked\n",
      "package 'ini' successfully unpacked and MD5 sums checked\n",
      "package 'fastmap' successfully unpacked and MD5 sums checked\n",
      "package 'gert' successfully unpacked and MD5 sums checked\n",
      "package 'gh' successfully unpacked and MD5 sums checked\n",
      "package 'rappdirs' successfully unpacked and MD5 sums checked\n",
      "package 'glue' successfully unpacked and MD5 sums checked\n"
     ]
    },
    {
     "name": "stderr",
     "output_type": "stream",
     "text": [
      "Warning message:\n",
      "\"cannot remove prior installation of package 'glue'\"Warning message in file.copy(savedcopy, lib, recursive = TRUE):\n",
      "\"C:\\Users\\alsdu\\anaconda3\\Lib\\R\\library\\00LOCK\\glue\\libs\\x64\\glue.dll를 C:\\Users\\alsdu\\anaconda3\\Lib\\R\\library\\glue\\libs\\x64\\glue.dll로 복사하는데 문제가 발생했습니다: Permission denied\"Warning message:\n",
      "\"restored 'glue'\""
     ]
    },
    {
     "name": "stdout",
     "output_type": "stream",
     "text": [
      "package 'cachem' successfully unpacked and MD5 sums checked\n",
      "package 'xopen' successfully unpacked and MD5 sums checked\n",
      "package 'commonmark' successfully unpacked and MD5 sums checked\n",
      "package 'purrr' successfully unpacked and MD5 sums checked\n",
      "package 'cli' successfully unpacked and MD5 sums checked\n",
      "package 'fs' successfully unpacked and MD5 sums checked\n",
      "package 'httr' successfully unpacked and MD5 sums checked\n",
      "package 'roxygen2' successfully unpacked and MD5 sums checked\n",
      "package 'rstudioapi' successfully unpacked and MD5 sums checked\n",
      "\n",
      "The downloaded binary packages are in\n",
      "\tC:\\Users\\alsdu\\AppData\\Local\\Temp\\RtmpGKCxze\\downloaded_packages\n"
     ]
    },
    {
     "name": "stderr",
     "output_type": "stream",
     "text": [
      "installing the source packages 'credentials', 'desc', 'brew', 'usethis', 'memoise', 'pkgbuild', 'rcmdcheck', 'rversions', 'sessioninfo', 'devtools'\n",
      "\n",
      "Warning message in install.packages(c(\"devtools\")):\n",
      "\"installation of package 'sessioninfo' had non-zero exit status\"Warning message in install.packages(c(\"devtools\")):\n",
      "\"installation of package 'rcmdcheck' had non-zero exit status\"Warning message in install.packages(c(\"devtools\")):\n",
      "\"installation of package 'devtools' had non-zero exit status\""
     ]
    }
   ],
   "source": [
    "# install.packages(c(\"devtools\"))\n",
    "# devtools::install_github(\"ldurazo/kaggler\")\n",
    "#library(readr)\n",
    "#library(kaggler)\n",
    "#kgl_auth(creds_file = 'C:/Users/alsdu/Downloads/kaggle.json')\n",
    "#response <- kgl_datasets_download_all(owner_dataset = \"min02yam/data-preprocessing-on-diamonds-dataset-using-r -p /path/to/dest\")"
   ]
  },
  {
   "cell_type": "code",
   "execution_count": null,
   "metadata": {
    "execution": {
     "iopub.execute_input": "2022-04-22T16:28:54.602786Z",
     "iopub.status.busy": "2022-04-22T16:28:54.601155Z",
     "iopub.status.idle": "2022-04-22T16:28:54.620588Z"
    }
   },
   "outputs": [],
   "source": [
    "ls()"
   ]
  },
  {
   "cell_type": "markdown",
   "metadata": {},
   "source": [
    "###  2.1 Label Encoding : Converting Strings into Numbers"
   ]
  },
  {
   "cell_type": "code",
   "execution_count": null,
   "metadata": {
    "execution": {
     "iopub.execute_input": "2022-04-22T16:28:56.644159Z",
     "iopub.status.busy": "2022-04-22T16:28:56.642386Z",
     "iopub.status.idle": "2022-04-22T16:28:56.663543Z"
    }
   },
   "outputs": [],
   "source": [
    "library(R6)\n",
    "library(superml) # Lebel Encoder"
   ]
  },
  {
   "cell_type": "code",
   "execution_count": null,
   "metadata": {
    "execution": {
     "iopub.execute_input": "2022-04-22T16:28:58.076547Z",
     "iopub.status.busy": "2022-04-22T16:28:58.074977Z",
     "iopub.status.idle": "2022-04-22T16:28:58.111499Z"
    }
   },
   "outputs": [],
   "source": [
    "table(df$cut)\n",
    "table(df$color)\n",
    "table(df$clarity)\n"
   ]
  },
  {
   "cell_type": "code",
   "execution_count": null,
   "metadata": {
    "execution": {
     "iopub.execute_input": "2022-04-22T16:29:00.70893Z",
     "iopub.status.busy": "2022-04-22T16:29:00.707329Z",
     "iopub.status.idle": "2022-04-22T16:29:00.720726Z"
    }
   },
   "outputs": [],
   "source": [
    "lbl = LabelEncoder$new()"
   ]
  },
  {
   "cell_type": "code",
   "execution_count": null,
   "metadata": {
    "execution": {
     "iopub.execute_input": "2022-04-22T16:29:02.129725Z",
     "iopub.status.busy": "2022-04-22T16:29:02.128097Z",
     "iopub.status.idle": "2022-04-22T16:29:02.34192Z"
    }
   },
   "outputs": [],
   "source": [
    "df[,2] = lbl$fit_transform(df[,2])\n",
    "df[,3] = lbl$fit_transform(df[,3])\n",
    "df[,4] = lbl$fit_transform(df[,4])\n",
    "head(df)"
   ]
  },
  {
   "cell_type": "markdown",
   "metadata": {},
   "source": [
    "### Scaling"
   ]
  },
  {
   "cell_type": "code",
   "execution_count": null,
   "metadata": {
    "execution": {
     "iopub.execute_input": "2022-04-22T16:29:10.16259Z",
     "iopub.status.busy": "2022-04-22T16:29:10.161106Z",
     "iopub.status.idle": "2022-04-22T16:29:10.215018Z"
    }
   },
   "outputs": [],
   "source": [
    "df.scl<-data.frame(scale(df[,-7]))"
   ]
  },
  {
   "cell_type": "code",
   "execution_count": null,
   "metadata": {
    "execution": {
     "iopub.execute_input": "2022-04-22T16:29:13.561953Z",
     "iopub.status.busy": "2022-04-22T16:29:13.56037Z",
     "iopub.status.idle": "2022-04-22T16:29:13.573346Z"
    }
   },
   "outputs": [],
   "source": [
    "df.scl$price<-df$price #타겟 포함"
   ]
  },
  {
   "cell_type": "code",
   "execution_count": null,
   "metadata": {
    "execution": {
     "iopub.execute_input": "2022-04-22T16:29:15.657453Z",
     "iopub.status.busy": "2022-04-22T16:29:15.65593Z",
     "iopub.status.idle": "2022-04-22T16:29:15.680188Z"
    }
   },
   "outputs": [],
   "source": [
    "str(df.scl)"
   ]
  },
  {
   "cell_type": "markdown",
   "metadata": {},
   "source": [
    "### PCA\n",
    "- At the previous EDA, `length(8)`, `width(9)`, `depth(10)` All three vars were highly correlated."
   ]
  },
  {
   "cell_type": "code",
   "execution_count": null,
   "metadata": {
    "execution": {
     "iopub.execute_input": "2022-04-22T16:29:18.063007Z",
     "iopub.status.busy": "2022-04-22T16:29:18.061441Z",
     "iopub.status.idle": "2022-04-22T16:29:18.243943Z"
    }
   },
   "outputs": [],
   "source": [
    "library(psych)"
   ]
  },
  {
   "cell_type": "code",
   "execution_count": null,
   "metadata": {
    "execution": {
     "iopub.execute_input": "2022-04-22T16:29:20.279619Z",
     "iopub.status.busy": "2022-04-22T16:29:20.277948Z",
     "iopub.status.idle": "2022-04-22T16:29:20.398234Z"
    },
    "scrolled": true
   },
   "outputs": [],
   "source": [
    "pca<-principal(df.scl[,7:9], nfactors=3,rotate=\"varimax\"); pca"
   ]
  },
  {
   "cell_type": "markdown",
   "metadata": {},
   "source": [
    "- Use only RC2 + RC3 (Becuase Cumulative Var is 0.82 )"
   ]
  },
  {
   "cell_type": "code",
   "execution_count": null,
   "metadata": {
    "execution": {
     "iopub.execute_input": "2022-04-22T16:29:22.420474Z",
     "iopub.status.busy": "2022-04-22T16:29:22.418928Z",
     "iopub.status.idle": "2022-04-22T16:29:22.44243Z"
    }
   },
   "outputs": [],
   "source": [
    "pca.scr<-data.frame(pca$scores[,1:2]) ; head(pca.scr)"
   ]
  },
  {
   "cell_type": "code",
   "execution_count": null,
   "metadata": {
    "execution": {
     "iopub.execute_input": "2022-04-22T16:29:24.473736Z",
     "iopub.status.busy": "2022-04-22T16:29:24.471999Z",
     "iopub.status.idle": "2022-04-22T16:29:24.485803Z"
    }
   },
   "outputs": [],
   "source": [
    "#  Remove the col before.\n",
    "df.scl<-df.scl[,-c(7:10)]   "
   ]
  },
  {
   "cell_type": "code",
   "execution_count": null,
   "metadata": {
    "execution": {
     "iopub.execute_input": "2022-04-22T16:29:26.286413Z",
     "iopub.status.busy": "2022-04-22T16:29:26.284879Z",
     "iopub.status.idle": "2022-04-22T16:29:26.298354Z"
    }
   },
   "outputs": [],
   "source": [
    "# Bind the col about pca scores.\n",
    "df.pca<-cbind(df.scl,pca.scr)"
   ]
  },
  {
   "cell_type": "code",
   "execution_count": null,
   "metadata": {
    "execution": {
     "iopub.execute_input": "2022-04-22T16:29:27.884815Z",
     "iopub.status.busy": "2022-04-22T16:29:27.883203Z",
     "iopub.status.idle": "2022-04-22T16:29:27.897618Z"
    }
   },
   "outputs": [],
   "source": [
    "# Add a target\n",
    "df.pca$price<- df$price"
   ]
  },
  {
   "cell_type": "code",
   "execution_count": null,
   "metadata": {
    "execution": {
     "iopub.execute_input": "2022-04-22T16:29:29.674937Z",
     "iopub.status.busy": "2022-04-22T16:29:29.673346Z",
     "iopub.status.idle": "2022-04-22T16:29:29.701818Z"
    }
   },
   "outputs": [],
   "source": [
    "head(df.pca) "
   ]
  },
  {
   "cell_type": "markdown",
   "metadata": {},
   "source": [
    "### Splitting the Dataset"
   ]
  },
  {
   "cell_type": "code",
   "execution_count": null,
   "metadata": {
    "execution": {
     "iopub.execute_input": "2022-04-22T16:29:33.538196Z",
     "iopub.status.busy": "2022-04-22T16:29:33.536635Z",
     "iopub.status.idle": "2022-04-22T16:29:33.551382Z"
    }
   },
   "outputs": [],
   "source": [
    "set.seed(2022)"
   ]
  },
  {
   "cell_type": "code",
   "execution_count": null,
   "metadata": {
    "execution": {
     "iopub.execute_input": "2022-04-22T16:29:35.861712Z",
     "iopub.status.busy": "2022-04-22T16:29:35.86011Z",
     "iopub.status.idle": "2022-04-22T16:29:35.875899Z"
    }
   },
   "outputs": [],
   "source": [
    "idx<-sample(2, nrow(df.pca), replace=TRUE, prob=c(0.7,0.3))"
   ]
  },
  {
   "cell_type": "code",
   "execution_count": null,
   "metadata": {
    "execution": {
     "iopub.execute_input": "2022-04-22T16:29:37.610956Z",
     "iopub.status.busy": "2022-04-22T16:29:37.609145Z",
     "iopub.status.idle": "2022-04-22T16:29:37.639531Z"
    }
   },
   "outputs": [],
   "source": [
    "train<-df.pca[idx==1,]\n",
    "test<-df.pca[idx==2,]"
   ]
  },
  {
   "cell_type": "code",
   "execution_count": null,
   "metadata": {
    "execution": {
     "iopub.execute_input": "2022-04-22T16:29:39.297576Z",
     "iopub.status.busy": "2022-04-22T16:29:39.29578Z",
     "iopub.status.idle": "2022-04-22T16:29:39.319975Z"
    },
    "scrolled": true
   },
   "outputs": [],
   "source": [
    "str(train)"
   ]
  },
  {
   "cell_type": "code",
   "execution_count": null,
   "metadata": {
    "execution": {
     "iopub.execute_input": "2022-04-22T16:29:41.179733Z",
     "iopub.status.busy": "2022-04-22T16:29:41.178178Z",
     "iopub.status.idle": "2022-04-22T16:29:41.202037Z"
    }
   },
   "outputs": [],
   "source": [
    "str(test)"
   ]
  }
 ],
 "metadata": {
  "kernelspec": {
   "display_name": "R",
   "language": "R",
   "name": "ir"
  },
  "language_info": {
   "codemirror_mode": "r",
   "file_extension": ".r",
   "mimetype": "text/x-r-source",
   "name": "R",
   "pygments_lexer": "r",
   "version": "3.6.1"
  },
  "toc": {
   "base_numbering": 1,
   "nav_menu": {},
   "number_sections": true,
   "sideBar": true,
   "skip_h1_title": false,
   "title_cell": "Table of Contents",
   "title_sidebar": "Contents",
   "toc_cell": false,
   "toc_position": {},
   "toc_section_display": true,
   "toc_window_display": false
  }
 },
 "nbformat": 4,
 "nbformat_minor": 4
}
