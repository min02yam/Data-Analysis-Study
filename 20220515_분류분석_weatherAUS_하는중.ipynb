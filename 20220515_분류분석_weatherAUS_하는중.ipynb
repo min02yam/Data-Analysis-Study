{
  "nbformat": 4,
  "nbformat_minor": 0,
  "metadata": {
    "colab": {
      "name": "20220515_분류분석_weatherAUS_하는중.ipynb",
      "provenance": [],
      "authorship_tag": "ABX9TyMXuiyylptohGM4TM5bGRBM",
      "include_colab_link": true
    },
    "kernelspec": {
      "name": "ir",
      "display_name": "R"
    },
    "language_info": {
      "name": "R"
    }
  },
  "cells": [
    {
      "cell_type": "markdown",
      "metadata": {
        "id": "view-in-github",
        "colab_type": "text"
      },
      "source": [
        "<a href=\"https://colab.research.google.com/github/min02yam/R-study/blob/main/20220515_%EB%B6%84%EB%A5%98%EB%B6%84%EC%84%9D_weatherAUS_%ED%95%98%EB%8A%94%EC%A4%91.ipynb\" target=\"_parent\"><img src=\"https://colab.research.google.com/assets/colab-badge.svg\" alt=\"Open In Colab\"/></a>"
      ]
    },
    {
      "cell_type": "code",
      "source": [
        "kernlab, caret 패키지 활용 SVM 모델링"
      ],
      "metadata": {
        "id": "VQ2ro5C5usPe"
      },
      "execution_count": null,
      "outputs": []
    },
    {
      "cell_type": "markdown",
      "source": [
        "--------------------------------------------------------------------------\n",
        "### **2. (분류분석) weatherAUS 데이터 셋을 활용하여**\n",
        "#### 2-1 데이터 요약 값을 보고 NA값이 10,000개 이상인 열을 제외하고 남은 변수중 NA값이 있는 행을 제거하시오\n",
        "#### 2-2 그리고 AUS 데이터의 Date변수를 Date형으로 변환하고, 전처리가 된 weatherAUS 데이터를 train(70%), test(30%)로 분할하시오 (set.seed(6789))\n",
        "####2-3 train 데이터로 RainTomorrow를 예측하는 분류모델을 1개 생성하고, test데이터에 대한 예측값을 csv 파일로 제출 하시오\n",
        "--------------------------------------------------------------------------"
      ],
      "metadata": {
        "id": "DBCzkkuezY3r"
      }
    },
    {
      "cell_type": "markdown",
      "source": [
        "---------------------------**목차**---------------------------\n",
        "1. 패키지 및 데이터 로드\n",
        "2. 데이터 전처리 (2-1), (2-2)\n",
        "3. 모델링\n",
        "SVM OR LOGISTIC 예정\n"
      ],
      "metadata": {
        "id": "kqM1zOKlQSsg"
      }
    },
    {
      "cell_type": "markdown",
      "source": [
        "## 1. 패키지 및 데이터 로드"
      ],
      "metadata": {
        "id": "UfqBDvtsQI9j"
      }
    },
    {
      "cell_type": "code",
      "source": [
        "install.packages(c(\"kernlab\",\"caret\"))"
      ],
      "metadata": {
        "id": "pyw6bphXt65C",
        "outputId": "40578f35-04dd-49e8-826b-bd084112692b",
        "colab": {
          "base_uri": "https://localhost:8080/"
        }
      },
      "execution_count": 19,
      "outputs": [
        {
          "output_type": "stream",
          "name": "stderr",
          "text": [
            "Installing packages into ‘/usr/local/lib/R/site-library’\n",
            "(as ‘lib’ is unspecified)\n",
            "\n",
            "also installing the dependencies ‘listenv’, ‘parallelly’, ‘future’, ‘globals’, ‘future.apply’, ‘progressr’, ‘numDeriv’, ‘SQUAREM’, ‘lava’, ‘prodlim’, ‘proxy’, ‘iterators’, ‘Rcpp’, ‘gower’, ‘hardhat’, ‘ipred’, ‘timeDate’, ‘e1071’, ‘foreach’, ‘ModelMetrics’, ‘plyr’, ‘pROC’, ‘recipes’, ‘reshape2’\n",
            "\n",
            "\n"
          ]
        }
      ]
    },
    {
      "cell_type": "code",
      "source": [
        "library(dplyr)\n",
        "library(kernlab) #SVM\n",
        "library(caret) #parameter tuning"
      ],
      "metadata": {
        "id": "JjotiZo3tg3Q",
        "outputId": "39e9d3d1-2402-45e0-fd42-1d08f018c93f",
        "colab": {
          "base_uri": "https://localhost:8080/"
        }
      },
      "execution_count": 20,
      "outputs": [
        {
          "output_type": "stream",
          "name": "stderr",
          "text": [
            "Loading required package: ggplot2\n",
            "\n",
            "\n",
            "Attaching package: ‘ggplot2’\n",
            "\n",
            "\n",
            "The following object is masked from ‘package:kernlab’:\n",
            "\n",
            "    alpha\n",
            "\n",
            "\n",
            "Loading required package: lattice\n",
            "\n",
            "Warning message in system(\"timedatectl\", intern = TRUE):\n",
            "“running command 'timedatectl' had status 1”\n"
          ]
        }
      ]
    },
    {
      "cell_type": "code",
      "source": [
        "df<-read.csv(\"/content/weatherAUS.csv\")"
      ],
      "metadata": {
        "id": "ObY6LRJUzznH"
      },
      "execution_count": 50,
      "outputs": []
    },
    {
      "cell_type": "code",
      "source": [
        "#간단 구조 확인\n",
        "str(df)\n",
        "summary(df)"
      ],
      "metadata": {
        "id": "JaHKeeiUzi0u",
        "outputId": "d452094a-0cf5-48fd-ae4d-6d34e0be42da",
        "colab": {
          "base_uri": "https://localhost:8080/",
          "height": 1000
        }
      },
      "execution_count": 51,
      "outputs": [
        {
          "output_type": "stream",
          "name": "stdout",
          "text": [
            "'data.frame':\t142193 obs. of  21 variables:\n",
            " $ Date         : chr  \"2008-12-01\" \"2008-12-02\" \"2008-12-03\" \"2008-12-04\" ...\n",
            " $ Location     : chr  \"Albury\" \"Albury\" \"Albury\" \"Albury\" ...\n",
            " $ MinTemp      : num  13.4 7.4 12.9 9.2 17.5 14.6 14.3 7.7 9.7 13.1 ...\n",
            " $ MaxTemp      : num  22.9 25.1 25.7 28 32.3 29.7 25 26.7 31.9 30.1 ...\n",
            " $ Rainfall     : num  0.6 0 0 0 1 0.2 0 0 0 1.4 ...\n",
            " $ WindGustDir  : chr  \"W\" \"WNW\" \"WSW\" \"NE\" ...\n",
            " $ WindGustSpeed: int  44 44 46 24 41 56 50 35 80 28 ...\n",
            " $ WindDir9am   : chr  \"W\" \"NNW\" \"W\" \"SE\" ...\n",
            " $ WindDir3pm   : chr  \"WNW\" \"WSW\" \"WSW\" \"E\" ...\n",
            " $ WindSpeed9am : int  20 4 19 11 7 19 20 6 7 15 ...\n",
            " $ WindSpeed3pm : int  24 22 26 9 20 24 24 17 28 11 ...\n",
            " $ Humidity9am  : int  71 44 38 45 82 55 49 48 42 58 ...\n",
            " $ Humidity3pm  : int  22 25 30 16 33 23 19 19 9 27 ...\n",
            " $ Pressure9am  : num  1008 1011 1008 1018 1011 ...\n",
            " $ Pressure3pm  : num  1007 1008 1009 1013 1006 ...\n",
            " $ Cloud9am     : int  8 NA NA NA 7 NA 1 NA NA NA ...\n",
            " $ Cloud3pm     : int  NA NA 2 NA 8 NA NA NA NA NA ...\n",
            " $ Temp9am      : num  16.9 17.2 21 18.1 17.8 20.6 18.1 16.3 18.3 20.1 ...\n",
            " $ Temp3pm      : num  21.8 24.3 23.2 26.5 29.7 28.9 24.6 25.5 30.2 28.2 ...\n",
            " $ RainToday    : chr  \"No\" \"No\" \"No\" \"No\" ...\n",
            " $ RainTomorrow : chr  \"No\" \"No\" \"No\" \"No\" ...\n"
          ]
        },
        {
          "output_type": "display_data",
          "data": {
            "text/plain": [
              "     Date             Location            MinTemp         MaxTemp     \n",
              " Length:142193      Length:142193      Min.   :-8.50   Min.   :-4.80  \n",
              " Class :character   Class :character   1st Qu.: 7.60   1st Qu.:17.90  \n",
              " Mode  :character   Mode  :character   Median :12.00   Median :22.60  \n",
              "                                       Mean   :12.19   Mean   :23.23  \n",
              "                                       3rd Qu.:16.80   3rd Qu.:28.20  \n",
              "                                       Max.   :33.90   Max.   :48.10  \n",
              "                                       NA's   :637     NA's   :322    \n",
              "    Rainfall      WindGustDir        WindGustSpeed     WindDir9am       \n",
              " Min.   :  0.00   Length:142193      Min.   :  6.00   Length:142193     \n",
              " 1st Qu.:  0.00   Class :character   1st Qu.: 31.00   Class :character  \n",
              " Median :  0.00   Mode  :character   Median : 39.00   Mode  :character  \n",
              " Mean   :  2.35                      Mean   : 39.98                     \n",
              " 3rd Qu.:  0.80                      3rd Qu.: 48.00                     \n",
              " Max.   :371.00                      Max.   :135.00                     \n",
              " NA's   :1406                        NA's   :9270                       \n",
              "  WindDir3pm         WindSpeed9am   WindSpeed3pm    Humidity9am    \n",
              " Length:142193      Min.   :  0    Min.   : 0.00   Min.   :  0.00  \n",
              " Class :character   1st Qu.:  7    1st Qu.:13.00   1st Qu.: 57.00  \n",
              " Mode  :character   Median : 13    Median :19.00   Median : 70.00  \n",
              "                    Mean   : 14    Mean   :18.64   Mean   : 68.84  \n",
              "                    3rd Qu.: 19    3rd Qu.:24.00   3rd Qu.: 83.00  \n",
              "                    Max.   :130    Max.   :87.00   Max.   :100.00  \n",
              "                    NA's   :1348   NA's   :2630    NA's   :1774    \n",
              "  Humidity3pm      Pressure9am      Pressure3pm        Cloud9am    \n",
              " Min.   :  0.00   Min.   : 980.5   Min.   : 977.1   Min.   :0.00   \n",
              " 1st Qu.: 37.00   1st Qu.:1012.9   1st Qu.:1010.4   1st Qu.:1.00   \n",
              " Median : 52.00   Median :1017.6   Median :1015.2   Median :5.00   \n",
              " Mean   : 51.48   Mean   :1017.7   Mean   :1015.3   Mean   :4.44   \n",
              " 3rd Qu.: 66.00   3rd Qu.:1022.4   3rd Qu.:1020.0   3rd Qu.:7.00   \n",
              " Max.   :100.00   Max.   :1041.0   Max.   :1039.6   Max.   :9.00   \n",
              " NA's   :3610     NA's   :14014    NA's   :13981    NA's   :53657  \n",
              "    Cloud3pm        Temp9am         Temp3pm       RainToday        \n",
              " Min.   :0.0     Min.   :-7.20   Min.   :-5.40   Length:142193     \n",
              " 1st Qu.:2.0     1st Qu.:12.30   1st Qu.:16.60   Class :character  \n",
              " Median :5.0     Median :16.70   Median :21.10   Mode  :character  \n",
              " Mean   :4.5     Mean   :16.99   Mean   :21.69                     \n",
              " 3rd Qu.:7.0     3rd Qu.:21.60   3rd Qu.:26.40                     \n",
              " Max.   :9.0     Max.   :40.20   Max.   :46.70                     \n",
              " NA's   :57094   NA's   :904     NA's   :2726                      \n",
              " RainTomorrow      \n",
              " Length:142193     \n",
              " Class :character  \n",
              " Mode  :character  \n",
              "                   \n",
              "                   \n",
              "                   \n",
              "                   "
            ]
          },
          "metadata": {}
        }
      ]
    },
    {
      "cell_type": "markdown",
      "source": [
        "1. 총 142193 관측치와 21차원\n",
        "2. 이때, 입력피처는 20개이고 타겟은 \"RainTomorrow\"이다\n",
        "3. 이진분류\n",
        "4. 연속형 피처 14개, 범주형 피처6개\n",
        "5. NA 다수 존재 "
      ],
      "metadata": {
        "id": "lWvQXgRHrDSb"
      }
    },
    {
      "cell_type": "markdown",
      "source": [
        "## 2. 데이터 전처리 "
      ],
      "metadata": {
        "id": "CZZGM2Mdrll6"
      }
    },
    {
      "cell_type": "markdown",
      "source": [
        "2-1 데이터 요약 값을 보고 NA값이 10,000개 이상인 열을 제외하고 남은 변수중 NA값이 있는 행을 제거하시오"
      ],
      "metadata": {
        "id": "WgaUCJWcsD8x"
      }
    },
    {
      "cell_type": "code",
      "source": [
        "#which(colSums(is.na(df))>=10000)\n",
        "df<-df[,-which(colSums(is.na(df))>=10000) ]"
      ],
      "metadata": {
        "id": "oaMb-B4ksJ7v"
      },
      "execution_count": 52,
      "outputs": []
    },
    {
      "cell_type": "code",
      "source": [
        "str(df);summary(df) # 확인"
      ],
      "metadata": {
        "id": "hqZY1Z2SsJxY",
        "outputId": "044623e9-cdb6-47de-a382-7d1a2d52fa62",
        "colab": {
          "base_uri": "https://localhost:8080/",
          "height": 911
        }
      },
      "execution_count": 53,
      "outputs": [
        {
          "output_type": "stream",
          "name": "stdout",
          "text": [
            "'data.frame':\t142193 obs. of  16 variables:\n",
            " $ Date         : chr  \"2008-12-01\" \"2008-12-02\" \"2008-12-03\" \"2008-12-04\" ...\n",
            " $ Location     : chr  \"Albury\" \"Albury\" \"Albury\" \"Albury\" ...\n",
            " $ MinTemp      : num  13.4 7.4 12.9 9.2 17.5 14.6 14.3 7.7 9.7 13.1 ...\n",
            " $ MaxTemp      : num  22.9 25.1 25.7 28 32.3 29.7 25 26.7 31.9 30.1 ...\n",
            " $ Rainfall     : num  0.6 0 0 0 1 0.2 0 0 0 1.4 ...\n",
            " $ WindGustDir  : chr  \"W\" \"WNW\" \"WSW\" \"NE\" ...\n",
            " $ WindGustSpeed: int  44 44 46 24 41 56 50 35 80 28 ...\n",
            " $ WindDir3pm   : chr  \"WNW\" \"WSW\" \"WSW\" \"E\" ...\n",
            " $ WindSpeed9am : int  20 4 19 11 7 19 20 6 7 15 ...\n",
            " $ WindSpeed3pm : int  24 22 26 9 20 24 24 17 28 11 ...\n",
            " $ Humidity9am  : int  71 44 38 45 82 55 49 48 42 58 ...\n",
            " $ Humidity3pm  : int  22 25 30 16 33 23 19 19 9 27 ...\n",
            " $ Temp9am      : num  16.9 17.2 21 18.1 17.8 20.6 18.1 16.3 18.3 20.1 ...\n",
            " $ Temp3pm      : num  21.8 24.3 23.2 26.5 29.7 28.9 24.6 25.5 30.2 28.2 ...\n",
            " $ RainToday    : chr  \"No\" \"No\" \"No\" \"No\" ...\n",
            " $ RainTomorrow : chr  \"No\" \"No\" \"No\" \"No\" ...\n"
          ]
        },
        {
          "output_type": "display_data",
          "data": {
            "text/plain": [
              "     Date             Location            MinTemp         MaxTemp     \n",
              " Length:142193      Length:142193      Min.   :-8.50   Min.   :-4.80  \n",
              " Class :character   Class :character   1st Qu.: 7.60   1st Qu.:17.90  \n",
              " Mode  :character   Mode  :character   Median :12.00   Median :22.60  \n",
              "                                       Mean   :12.19   Mean   :23.23  \n",
              "                                       3rd Qu.:16.80   3rd Qu.:28.20  \n",
              "                                       Max.   :33.90   Max.   :48.10  \n",
              "                                       NA's   :637     NA's   :322    \n",
              "    Rainfall      WindGustDir        WindGustSpeed     WindDir3pm       \n",
              " Min.   :  0.00   Length:142193      Min.   :  6.00   Length:142193     \n",
              " 1st Qu.:  0.00   Class :character   1st Qu.: 31.00   Class :character  \n",
              " Median :  0.00   Mode  :character   Median : 39.00   Mode  :character  \n",
              " Mean   :  2.35                      Mean   : 39.98                     \n",
              " 3rd Qu.:  0.80                      3rd Qu.: 48.00                     \n",
              " Max.   :371.00                      Max.   :135.00                     \n",
              " NA's   :1406                        NA's   :9270                       \n",
              "  WindSpeed9am   WindSpeed3pm    Humidity9am      Humidity3pm    \n",
              " Min.   :  0    Min.   : 0.00   Min.   :  0.00   Min.   :  0.00  \n",
              " 1st Qu.:  7    1st Qu.:13.00   1st Qu.: 57.00   1st Qu.: 37.00  \n",
              " Median : 13    Median :19.00   Median : 70.00   Median : 52.00  \n",
              " Mean   : 14    Mean   :18.64   Mean   : 68.84   Mean   : 51.48  \n",
              " 3rd Qu.: 19    3rd Qu.:24.00   3rd Qu.: 83.00   3rd Qu.: 66.00  \n",
              " Max.   :130    Max.   :87.00   Max.   :100.00   Max.   :100.00  \n",
              " NA's   :1348   NA's   :2630    NA's   :1774     NA's   :3610    \n",
              "    Temp9am         Temp3pm       RainToday         RainTomorrow      \n",
              " Min.   :-7.20   Min.   :-5.40   Length:142193      Length:142193     \n",
              " 1st Qu.:12.30   1st Qu.:16.60   Class :character   Class :character  \n",
              " Median :16.70   Median :21.10   Mode  :character   Mode  :character  \n",
              " Mean   :16.99   Mean   :21.69                                        \n",
              " 3rd Qu.:21.60   3rd Qu.:26.40                                        \n",
              " Max.   :40.20   Max.   :46.70                                        \n",
              " NA's   :904     NA's   :2726                                         "
            ]
          },
          "metadata": {}
        }
      ]
    },
    {
      "cell_type": "code",
      "source": [
        "df<-na.omit(df); summary(df)"
      ],
      "metadata": {
        "id": "TxFVNI_wsJhA",
        "outputId": "0d29be07-6c20-4580-e08a-3e2e06649ee9",
        "colab": {
          "base_uri": "https://localhost:8080/",
          "height": 528
        }
      },
      "execution_count": 54,
      "outputs": [
        {
          "output_type": "display_data",
          "data": {
            "text/plain": [
              "     Date             Location            MinTemp         MaxTemp     \n",
              " Length:128576      Length:128576      Min.   :-8.50   Min.   :-4.80  \n",
              " Class :character   Class :character   1st Qu.: 7.50   1st Qu.:17.90  \n",
              " Mode  :character   Mode  :character   Median :11.90   Median :22.80  \n",
              "                                       Mean   :12.14   Mean   :23.31  \n",
              "                                       3rd Qu.:16.80   3rd Qu.:28.40  \n",
              "                                       Max.   :33.90   Max.   :48.10  \n",
              "    Rainfall       WindGustDir        WindGustSpeed     WindDir3pm       \n",
              " Min.   :  0.000   Length:128576      Min.   :  6.00   Length:128576     \n",
              " 1st Qu.:  0.000   Class :character   1st Qu.: 31.00   Class :character  \n",
              " Median :  0.000   Mode  :character   Median : 39.00   Mode  :character  \n",
              " Mean   :  2.299                      Mean   : 40.06                     \n",
              " 3rd Qu.:  0.600                      3rd Qu.: 48.00                     \n",
              " Max.   :367.600                      Max.   :135.00                     \n",
              "  WindSpeed9am    WindSpeed3pm    Humidity9am      Humidity3pm    \n",
              " Min.   : 0.00   Min.   : 2.00   Min.   :  0.00   Min.   :  0.00  \n",
              " 1st Qu.: 7.00   1st Qu.:13.00   1st Qu.: 56.00   1st Qu.: 36.00  \n",
              " Median :13.00   Median :19.00   Median : 69.00   Median : 51.00  \n",
              " Mean   :14.24   Mean   :18.87   Mean   : 68.52   Mean   : 50.92  \n",
              " 3rd Qu.:20.00   3rd Qu.:24.00   3rd Qu.: 83.00   3rd Qu.: 65.00  \n",
              " Max.   :87.00   Max.   :87.00   Max.   :100.00   Max.   :100.00  \n",
              "    Temp9am         Temp3pm      RainToday         RainTomorrow      \n",
              " Min.   :-7.20   Min.   :-5.4   Length:128576      Length:128576     \n",
              " 1st Qu.:12.20   1st Qu.:16.6   Class :character   Class :character  \n",
              " Median :16.70   Median :21.3   Mode  :character   Mode  :character  \n",
              " Mean   :16.97   Mean   :21.8                                        \n",
              " 3rd Qu.:21.60   3rd Qu.:26.6                                        \n",
              " Max.   :40.20   Max.   :46.7                                        "
            ]
          },
          "metadata": {}
        }
      ]
    },
    {
      "cell_type": "markdown",
      "source": [
        "2-2. AUS 데이터의 Date변수를 Date형으로 변환하고"
      ],
      "metadata": {
        "id": "95AAE2x0rsQr"
      }
    },
    {
      "cell_type": "code",
      "source": [
        "df<-tolower(df) #먼저 소문자로 바꿔주고"
      ],
      "metadata": {
        "id": "ZkC0h0B0z6YA"
      },
      "execution_count": 59,
      "outputs": []
    },
    {
      "cell_type": "code",
      "source": [
        "df[,1]<- as.Date(f$dDate, \"%m/%d/%Y\")\n",
        "summary(df)"
      ],
      "metadata": {
        "id": "tLfPLwIZzVTe",
        "outputId": "a49b5f0c-2cdb-4357-9a9c-f2f423d8101e",
        "colab": {
          "base_uri": "https://localhost:8080/",
          "height": 601
        }
      },
      "execution_count": 49,
      "outputs": [
        {
          "output_type": "display_data",
          "data": {
            "text/plain": [
              "      Date          Location            MinTemp         MaxTemp     \n",
              " Min.   :NA       Length:128576      Min.   :-8.50   Min.   :-4.80  \n",
              " 1st Qu.:NA       Class :character   1st Qu.: 7.50   1st Qu.:17.90  \n",
              " Median :NA       Mode  :character   Median :11.90   Median :22.80  \n",
              " Mean   :NaN                         Mean   :12.14   Mean   :23.31  \n",
              " 3rd Qu.:NA                          3rd Qu.:16.80   3rd Qu.:28.40  \n",
              " Max.   :NA                          Max.   :33.90   Max.   :48.10  \n",
              " NA's   :128576                                                     \n",
              "    Rainfall       WindGustDir        WindGustSpeed     WindDir3pm       \n",
              " Min.   :  0.000   Length:128576      Min.   :  6.00   Length:128576     \n",
              " 1st Qu.:  0.000   Class :character   1st Qu.: 31.00   Class :character  \n",
              " Median :  0.000   Mode  :character   Median : 39.00   Mode  :character  \n",
              " Mean   :  2.299                      Mean   : 40.06                     \n",
              " 3rd Qu.:  0.600                      3rd Qu.: 48.00                     \n",
              " Max.   :367.600                      Max.   :135.00                     \n",
              "                                                                         \n",
              "  WindSpeed9am    WindSpeed3pm    Humidity9am      Humidity3pm    \n",
              " Min.   : 0.00   Min.   : 2.00   Min.   :  0.00   Min.   :  0.00  \n",
              " 1st Qu.: 7.00   1st Qu.:13.00   1st Qu.: 56.00   1st Qu.: 36.00  \n",
              " Median :13.00   Median :19.00   Median : 69.00   Median : 51.00  \n",
              " Mean   :14.24   Mean   :18.87   Mean   : 68.52   Mean   : 50.92  \n",
              " 3rd Qu.:20.00   3rd Qu.:24.00   3rd Qu.: 83.00   3rd Qu.: 65.00  \n",
              " Max.   :87.00   Max.   :87.00   Max.   :100.00   Max.   :100.00  \n",
              "                                                                  \n",
              "    Temp9am         Temp3pm      RainToday         RainTomorrow      \n",
              " Min.   :-7.20   Min.   :-5.4   Length:128576      Length:128576     \n",
              " 1st Qu.:12.20   1st Qu.:16.6   Class :character   Class :character  \n",
              " Median :16.70   Median :21.3   Mode  :character   Mode  :character  \n",
              " Mean   :16.97   Mean   :21.8                                        \n",
              " 3rd Qu.:21.60   3rd Qu.:26.6                                        \n",
              " Max.   :40.20   Max.   :46.7                                        \n",
              "                                                                     "
            ]
          },
          "metadata": {}
        }
      ]
    },
    {
      "cell_type": "code",
      "source": [
        "str(df)"
      ],
      "metadata": {
        "id": "xvxGvBE65AiB",
        "outputId": "2a7c1882-5891-4cc4-8442-c883e7d19a4e",
        "colab": {
          "base_uri": "https://localhost:8080/"
        }
      },
      "execution_count": 61,
      "outputs": [
        {
          "output_type": "stream",
          "name": "stdout",
          "text": [
            " chr [1:16] \"c(\\\"2008-12-01\\\", \\\"2008-12-02\\\", \\\"2008-12-03\\\", \\\"2008-12-04\\\", \\\"2008-12-05\\\", \\\"2008-12-06\\\", \\\"2008-12-07\\\"| __truncated__ ...\n"
          ]
        }
      ]
    },
    {
      "cell_type": "code",
      "source": [
        "str(df)"
      ],
      "metadata": {
        "id": "XqN6wO-v5D3a",
        "outputId": "4c3798dd-9f26-4816-ca5b-675f6b85d856",
        "colab": {
          "base_uri": "https://localhost:8080/"
        }
      },
      "execution_count": 29,
      "outputs": [
        {
          "output_type": "stream",
          "name": "stdout",
          "text": [
            "'data.frame':\t142193 obs. of  16 variables:\n",
            " $ Date         : chr  \"2008-12-01\" \"2008-12-02\" \"2008-12-03\" \"2008-12-04\" ...\n",
            " $ Location     : chr  \"Albury\" \"Albury\" \"Albury\" \"Albury\" ...\n",
            " $ MinTemp      : num  13.4 7.4 12.9 9.2 17.5 14.6 14.3 7.7 9.7 13.1 ...\n",
            " $ MaxTemp      : num  22.9 25.1 25.7 28 32.3 29.7 25 26.7 31.9 30.1 ...\n",
            " $ Rainfall     : num  0.6 0 0 0 1 0.2 0 0 0 1.4 ...\n",
            " $ WindGustDir  : chr  \"W\" \"WNW\" \"WSW\" \"NE\" ...\n",
            " $ WindGustSpeed: int  44 44 46 24 41 56 50 35 80 28 ...\n",
            " $ WindDir3pm   : chr  \"WNW\" \"WSW\" \"WSW\" \"E\" ...\n",
            " $ WindSpeed9am : int  20 4 19 11 7 19 20 6 7 15 ...\n",
            " $ WindSpeed3pm : int  24 22 26 9 20 24 24 17 28 11 ...\n",
            " $ Humidity9am  : int  71 44 38 45 82 55 49 48 42 58 ...\n",
            " $ Humidity3pm  : int  22 25 30 16 33 23 19 19 9 27 ...\n",
            " $ Temp9am      : num  16.9 17.2 21 18.1 17.8 20.6 18.1 16.3 18.3 20.1 ...\n",
            " $ Temp3pm      : num  21.8 24.3 23.2 26.5 29.7 28.9 24.6 25.5 30.2 28.2 ...\n",
            " $ RainToday    : chr  \"No\" \"No\" \"No\" \"No\" ...\n",
            " $ RainTomorrow : chr  \"No\" \"No\" \"No\" \"No\" ...\n"
          ]
        }
      ]
    },
    {
      "cell_type": "markdown",
      "source": [
        "2-3. 전처리가 된 weatherAUS 데이터를 train(70%), test(30%)로 분할하시오<br> set.seed(6789)"
      ],
      "metadata": {
        "id": "kEbWXc7Zr0-Z"
      }
    }
  ]
}