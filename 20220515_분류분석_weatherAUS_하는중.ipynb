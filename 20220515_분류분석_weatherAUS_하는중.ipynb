{
  "nbformat": 4,
  "nbformat_minor": 0,
  "metadata": {
    "colab": {
      "name": "20220515_분류분석_weatherAUS_하는중.ipynb",
      "provenance": [],
      "authorship_tag": "ABX9TyMfBATDfNQESqWpoUozSgOa",
      "include_colab_link": true
    },
    "kernelspec": {
      "name": "ir",
      "display_name": "R"
    },
    "language_info": {
      "name": "R"
    }
  },
  "cells": [
    {
      "cell_type": "markdown",
      "metadata": {
        "id": "view-in-github",
        "colab_type": "text"
      },
      "source": [
        "<a href=\"https://colab.research.google.com/github/min02yam/R-study/blob/main/20220515_%EB%B6%84%EB%A5%98%EB%B6%84%EC%84%9D_weatherAUS_%ED%95%98%EB%8A%94%EC%A4%91.ipynb\" target=\"_parent\"><img src=\"https://colab.research.google.com/assets/colab-badge.svg\" alt=\"Open In Colab\"/></a>"
      ]
    },
    {
      "cell_type": "code",
      "source": [
        "05150120\n",
        "1.타겟벨런스홗인\n",
        "2.모델링"
      ],
      "metadata": {
        "id": "VQ2ro5C5usPe"
      },
      "execution_count": null,
      "outputs": []
    },
    {
      "cell_type": "markdown",
      "source": [
        "--------------------------------------------------------------------------\n",
        "### **2. (분류분석) weatherAUS 데이터 셋을 활용하여**\n",
        "#### 2-1 데이터 요약 값을 보고 NA값이 10,000개 이상인 열을 제외하고 남은 변수중 NA값이 있는 행을 제거하시오\n",
        "#### 2-2 그리고 AUS 데이터의 Date변수를 Date형으로 변환하고, 전처리가 된 weatherAUS 데이터를 train(70%), test(30%)로 분할하시오 (set.seed(6789))\n",
        "####2-3 train 데이터로 RainTomorrow를 예측하는 분류모델을 1개 생성하고, test데이터에 대한 예측값을 csv 파일로 제출 하시오\n",
        "--------------------------------------------------------------------------"
      ],
      "metadata": {
        "id": "DBCzkkuezY3r"
      }
    },
    {
      "cell_type": "markdown",
      "source": [
        "---------------------------**목차**---------------------------\n",
        "1. 패키지 및 데이터 로드\n",
        "2. 데이터 전처리 (2-1), (2-2)\n",
        "3. 모델링<br>\n"
      ],
      "metadata": {
        "id": "kqM1zOKlQSsg"
      }
    },
    {
      "cell_type": "markdown",
      "source": [
        "## 1. 패키지 및 데이터 로드"
      ],
      "metadata": {
        "id": "UfqBDvtsQI9j"
      }
    },
    {
      "cell_type": "code",
      "source": [
        "install.packages(c(\"kernlab\",\"caret\"))"
      ],
      "metadata": {
        "colab": {
          "base_uri": "https://localhost:8080/"
        },
        "id": "pyw6bphXt65C",
        "outputId": "22532f18-917d-4466-c8c0-dd2931f6b725"
      },
      "execution_count": null,
      "outputs": [
        {
          "output_type": "stream",
          "name": "stderr",
          "text": [
            "Installing packages into ‘/usr/local/lib/R/site-library’\n",
            "(as ‘lib’ is unspecified)\n",
            "\n",
            "also installing the dependencies ‘listenv’, ‘parallelly’, ‘future’, ‘globals’, ‘future.apply’, ‘progressr’, ‘numDeriv’, ‘SQUAREM’, ‘lava’, ‘prodlim’, ‘proxy’, ‘iterators’, ‘Rcpp’, ‘gower’, ‘hardhat’, ‘ipred’, ‘timeDate’, ‘e1071’, ‘foreach’, ‘ModelMetrics’, ‘plyr’, ‘pROC’, ‘recipes’, ‘reshape2’\n",
            "\n",
            "\n"
          ]
        }
      ]
    },
    {
      "cell_type": "code",
      "source": [
        "library(dplyr)\n",
        "library(kernlab) #SVM\n",
        "library(caret) #parameter tuning"
      ],
      "metadata": {
        "colab": {
          "base_uri": "https://localhost:8080/"
        },
        "id": "JjotiZo3tg3Q",
        "outputId": "ca623d55-4df8-49e8-cea1-4fc8d04f5885"
      },
      "execution_count": null,
      "outputs": [
        {
          "output_type": "stream",
          "name": "stderr",
          "text": [
            "\n",
            "Attaching package: ‘dplyr’\n",
            "\n",
            "\n",
            "The following objects are masked from ‘package:stats’:\n",
            "\n",
            "    filter, lag\n",
            "\n",
            "\n",
            "The following objects are masked from ‘package:base’:\n",
            "\n",
            "    intersect, setdiff, setequal, union\n",
            "\n",
            "\n",
            "Loading required package: ggplot2\n",
            "\n",
            "\n",
            "Attaching package: ‘ggplot2’\n",
            "\n",
            "\n",
            "The following object is masked from ‘package:kernlab’:\n",
            "\n",
            "    alpha\n",
            "\n",
            "\n",
            "Loading required package: lattice\n",
            "\n",
            "Warning message in system(\"timedatectl\", intern = TRUE):\n",
            "“running command 'timedatectl' had status 1”\n"
          ]
        }
      ]
    },
    {
      "cell_type": "code",
      "source": [
        "install.packages(\"DataExplorer\"); library(DataExplorer)"
      ],
      "metadata": {
        "id": "tqajsSU3Iy9g",
        "outputId": "bb1157de-f883-4a87-805c-6063d8f0a3de",
        "colab": {
          "base_uri": "https://localhost:8080/"
        }
      },
      "execution_count": null,
      "outputs": [
        {
          "output_type": "stream",
          "name": "stderr",
          "text": [
            "Installing package into ‘/usr/local/lib/R/site-library’\n",
            "(as ‘lib’ is unspecified)\n",
            "\n",
            "also installing the dependencies ‘htmlwidgets’, ‘igraph’, ‘gridExtra’, ‘networkD3’\n",
            "\n",
            "\n"
          ]
        }
      ]
    },
    {
      "cell_type": "code",
      "source": [
        "df<-read.csv(\"/content/weatherAUS.csv\")"
      ],
      "metadata": {
        "id": "ObY6LRJUzznH"
      },
      "execution_count": null,
      "outputs": []
    },
    {
      "cell_type": "code",
      "source": [
        "#간단 구조 확인\n",
        "str(df)\n",
        "summary(df)"
      ],
      "metadata": {
        "id": "JaHKeeiUzi0u",
        "colab": {
          "base_uri": "https://localhost:8080/",
          "height": 1000
        },
        "outputId": "6bfaaebf-83eb-4d59-abb0-846f86110791"
      },
      "execution_count": null,
      "outputs": [
        {
          "output_type": "stream",
          "name": "stdout",
          "text": [
            "'data.frame':\t142193 obs. of  21 variables:\n",
            " $ Date         : chr  \"2008-12-01\" \"2008-12-02\" \"2008-12-03\" \"2008-12-04\" ...\n",
            " $ Location     : chr  \"Albury\" \"Albury\" \"Albury\" \"Albury\" ...\n",
            " $ MinTemp      : num  13.4 7.4 12.9 9.2 17.5 14.6 14.3 7.7 9.7 13.1 ...\n",
            " $ MaxTemp      : num  22.9 25.1 25.7 28 32.3 29.7 25 26.7 31.9 30.1 ...\n",
            " $ Rainfall     : num  0.6 0 0 0 1 0.2 0 0 0 1.4 ...\n",
            " $ WindGustDir  : chr  \"W\" \"WNW\" \"WSW\" \"NE\" ...\n",
            " $ WindGustSpeed: int  44 44 46 24 41 56 50 35 80 28 ...\n",
            " $ WindDir9am   : chr  \"W\" \"NNW\" \"W\" \"SE\" ...\n",
            " $ WindDir3pm   : chr  \"WNW\" \"WSW\" \"WSW\" \"E\" ...\n",
            " $ WindSpeed9am : int  20 4 19 11 7 19 20 6 7 15 ...\n",
            " $ WindSpeed3pm : int  24 22 26 9 20 24 24 17 28 11 ...\n",
            " $ Humidity9am  : int  71 44 38 45 82 55 49 48 42 58 ...\n",
            " $ Humidity3pm  : int  22 25 30 16 33 23 19 19 9 27 ...\n",
            " $ Pressure9am  : num  1008 1011 1008 1018 1011 ...\n",
            " $ Pressure3pm  : num  1007 1008 1009 1013 1006 ...\n",
            " $ Cloud9am     : int  8 NA NA NA 7 NA 1 NA NA NA ...\n",
            " $ Cloud3pm     : int  NA NA 2 NA 8 NA NA NA NA NA ...\n",
            " $ Temp9am      : num  16.9 17.2 21 18.1 17.8 20.6 18.1 16.3 18.3 20.1 ...\n",
            " $ Temp3pm      : num  21.8 24.3 23.2 26.5 29.7 28.9 24.6 25.5 30.2 28.2 ...\n",
            " $ RainToday    : chr  \"No\" \"No\" \"No\" \"No\" ...\n",
            " $ RainTomorrow : chr  \"No\" \"No\" \"No\" \"No\" ...\n"
          ]
        },
        {
          "output_type": "display_data",
          "data": {
            "text/plain": [
              "     Date             Location            MinTemp         MaxTemp     \n",
              " Length:142193      Length:142193      Min.   :-8.50   Min.   :-4.80  \n",
              " Class :character   Class :character   1st Qu.: 7.60   1st Qu.:17.90  \n",
              " Mode  :character   Mode  :character   Median :12.00   Median :22.60  \n",
              "                                       Mean   :12.19   Mean   :23.23  \n",
              "                                       3rd Qu.:16.80   3rd Qu.:28.20  \n",
              "                                       Max.   :33.90   Max.   :48.10  \n",
              "                                       NA's   :637     NA's   :322    \n",
              "    Rainfall      WindGustDir        WindGustSpeed     WindDir9am       \n",
              " Min.   :  0.00   Length:142193      Min.   :  6.00   Length:142193     \n",
              " 1st Qu.:  0.00   Class :character   1st Qu.: 31.00   Class :character  \n",
              " Median :  0.00   Mode  :character   Median : 39.00   Mode  :character  \n",
              " Mean   :  2.35                      Mean   : 39.98                     \n",
              " 3rd Qu.:  0.80                      3rd Qu.: 48.00                     \n",
              " Max.   :371.00                      Max.   :135.00                     \n",
              " NA's   :1406                        NA's   :9270                       \n",
              "  WindDir3pm         WindSpeed9am   WindSpeed3pm    Humidity9am    \n",
              " Length:142193      Min.   :  0    Min.   : 0.00   Min.   :  0.00  \n",
              " Class :character   1st Qu.:  7    1st Qu.:13.00   1st Qu.: 57.00  \n",
              " Mode  :character   Median : 13    Median :19.00   Median : 70.00  \n",
              "                    Mean   : 14    Mean   :18.64   Mean   : 68.84  \n",
              "                    3rd Qu.: 19    3rd Qu.:24.00   3rd Qu.: 83.00  \n",
              "                    Max.   :130    Max.   :87.00   Max.   :100.00  \n",
              "                    NA's   :1348   NA's   :2630    NA's   :1774    \n",
              "  Humidity3pm      Pressure9am      Pressure3pm        Cloud9am    \n",
              " Min.   :  0.00   Min.   : 980.5   Min.   : 977.1   Min.   :0.00   \n",
              " 1st Qu.: 37.00   1st Qu.:1012.9   1st Qu.:1010.4   1st Qu.:1.00   \n",
              " Median : 52.00   Median :1017.6   Median :1015.2   Median :5.00   \n",
              " Mean   : 51.48   Mean   :1017.7   Mean   :1015.3   Mean   :4.44   \n",
              " 3rd Qu.: 66.00   3rd Qu.:1022.4   3rd Qu.:1020.0   3rd Qu.:7.00   \n",
              " Max.   :100.00   Max.   :1041.0   Max.   :1039.6   Max.   :9.00   \n",
              " NA's   :3610     NA's   :14014    NA's   :13981    NA's   :53657  \n",
              "    Cloud3pm        Temp9am         Temp3pm       RainToday        \n",
              " Min.   :0.0     Min.   :-7.20   Min.   :-5.40   Length:142193     \n",
              " 1st Qu.:2.0     1st Qu.:12.30   1st Qu.:16.60   Class :character  \n",
              " Median :5.0     Median :16.70   Median :21.10   Mode  :character  \n",
              " Mean   :4.5     Mean   :16.99   Mean   :21.69                     \n",
              " 3rd Qu.:7.0     3rd Qu.:21.60   3rd Qu.:26.40                     \n",
              " Max.   :9.0     Max.   :40.20   Max.   :46.70                     \n",
              " NA's   :57094   NA's   :904     NA's   :2726                      \n",
              " RainTomorrow      \n",
              " Length:142193     \n",
              " Class :character  \n",
              " Mode  :character  \n",
              "                   \n",
              "                   \n",
              "                   \n",
              "                   "
            ]
          },
          "metadata": {}
        }
      ]
    },
    {
      "cell_type": "markdown",
      "source": [
        "1. 총 142193 관측치와 21차원\n",
        "2. 이때, 입력피처는 20개이고 타겟은 \"RainTomorrow\"이다\n",
        "3. 이진분류\n",
        "4. 연속형 피처 14개, 범주형 피처6개\n",
        "5. NA 다수 존재 "
      ],
      "metadata": {
        "id": "lWvQXgRHrDSb"
      }
    },
    {
      "cell_type": "markdown",
      "source": [
        "## 2. 데이터 전처리 "
      ],
      "metadata": {
        "id": "CZZGM2Mdrll6"
      }
    },
    {
      "cell_type": "markdown",
      "source": [
        "2-1 데이터 요약 값을 보고 NA값이 10,000개 이상인 열을 제외하고 남은 변수중 NA값이 있는 행을 제거하시오"
      ],
      "metadata": {
        "id": "WgaUCJWcsD8x"
      }
    },
    {
      "cell_type": "code",
      "source": [
        "#which(colSums(is.na(df))>=10000)\n",
        "df<-df[,-which(colSums(is.na(df))>=10000) ]"
      ],
      "metadata": {
        "id": "oaMb-B4ksJ7v"
      },
      "execution_count": null,
      "outputs": []
    },
    {
      "cell_type": "code",
      "source": [
        "str(df);summary(df) # 확인"
      ],
      "metadata": {
        "colab": {
          "base_uri": "https://localhost:8080/",
          "height": 911
        },
        "id": "hqZY1Z2SsJxY",
        "outputId": "a23e3804-906d-429b-a2d1-683c54e88ed8"
      },
      "execution_count": null,
      "outputs": [
        {
          "output_type": "stream",
          "name": "stdout",
          "text": [
            "'data.frame':\t142193 obs. of  16 variables:\n",
            " $ Date         : chr  \"2008-12-01\" \"2008-12-02\" \"2008-12-03\" \"2008-12-04\" ...\n",
            " $ Location     : chr  \"Albury\" \"Albury\" \"Albury\" \"Albury\" ...\n",
            " $ MinTemp      : num  13.4 7.4 12.9 9.2 17.5 14.6 14.3 7.7 9.7 13.1 ...\n",
            " $ MaxTemp      : num  22.9 25.1 25.7 28 32.3 29.7 25 26.7 31.9 30.1 ...\n",
            " $ Rainfall     : num  0.6 0 0 0 1 0.2 0 0 0 1.4 ...\n",
            " $ WindGustDir  : chr  \"W\" \"WNW\" \"WSW\" \"NE\" ...\n",
            " $ WindGustSpeed: int  44 44 46 24 41 56 50 35 80 28 ...\n",
            " $ WindDir3pm   : chr  \"WNW\" \"WSW\" \"WSW\" \"E\" ...\n",
            " $ WindSpeed9am : int  20 4 19 11 7 19 20 6 7 15 ...\n",
            " $ WindSpeed3pm : int  24 22 26 9 20 24 24 17 28 11 ...\n",
            " $ Humidity9am  : int  71 44 38 45 82 55 49 48 42 58 ...\n",
            " $ Humidity3pm  : int  22 25 30 16 33 23 19 19 9 27 ...\n",
            " $ Temp9am      : num  16.9 17.2 21 18.1 17.8 20.6 18.1 16.3 18.3 20.1 ...\n",
            " $ Temp3pm      : num  21.8 24.3 23.2 26.5 29.7 28.9 24.6 25.5 30.2 28.2 ...\n",
            " $ RainToday    : chr  \"No\" \"No\" \"No\" \"No\" ...\n",
            " $ RainTomorrow : chr  \"No\" \"No\" \"No\" \"No\" ...\n"
          ]
        },
        {
          "output_type": "display_data",
          "data": {
            "text/plain": [
              "     Date             Location            MinTemp         MaxTemp     \n",
              " Length:142193      Length:142193      Min.   :-8.50   Min.   :-4.80  \n",
              " Class :character   Class :character   1st Qu.: 7.60   1st Qu.:17.90  \n",
              " Mode  :character   Mode  :character   Median :12.00   Median :22.60  \n",
              "                                       Mean   :12.19   Mean   :23.23  \n",
              "                                       3rd Qu.:16.80   3rd Qu.:28.20  \n",
              "                                       Max.   :33.90   Max.   :48.10  \n",
              "                                       NA's   :637     NA's   :322    \n",
              "    Rainfall      WindGustDir        WindGustSpeed     WindDir3pm       \n",
              " Min.   :  0.00   Length:142193      Min.   :  6.00   Length:142193     \n",
              " 1st Qu.:  0.00   Class :character   1st Qu.: 31.00   Class :character  \n",
              " Median :  0.00   Mode  :character   Median : 39.00   Mode  :character  \n",
              " Mean   :  2.35                      Mean   : 39.98                     \n",
              " 3rd Qu.:  0.80                      3rd Qu.: 48.00                     \n",
              " Max.   :371.00                      Max.   :135.00                     \n",
              " NA's   :1406                        NA's   :9270                       \n",
              "  WindSpeed9am   WindSpeed3pm    Humidity9am      Humidity3pm    \n",
              " Min.   :  0    Min.   : 0.00   Min.   :  0.00   Min.   :  0.00  \n",
              " 1st Qu.:  7    1st Qu.:13.00   1st Qu.: 57.00   1st Qu.: 37.00  \n",
              " Median : 13    Median :19.00   Median : 70.00   Median : 52.00  \n",
              " Mean   : 14    Mean   :18.64   Mean   : 68.84   Mean   : 51.48  \n",
              " 3rd Qu.: 19    3rd Qu.:24.00   3rd Qu.: 83.00   3rd Qu.: 66.00  \n",
              " Max.   :130    Max.   :87.00   Max.   :100.00   Max.   :100.00  \n",
              " NA's   :1348   NA's   :2630    NA's   :1774     NA's   :3610    \n",
              "    Temp9am         Temp3pm       RainToday         RainTomorrow      \n",
              " Min.   :-7.20   Min.   :-5.40   Length:142193      Length:142193     \n",
              " 1st Qu.:12.30   1st Qu.:16.60   Class :character   Class :character  \n",
              " Median :16.70   Median :21.10   Mode  :character   Mode  :character  \n",
              " Mean   :16.99   Mean   :21.69                                        \n",
              " 3rd Qu.:21.60   3rd Qu.:26.40                                        \n",
              " Max.   :40.20   Max.   :46.70                                        \n",
              " NA's   :904     NA's   :2726                                         "
            ]
          },
          "metadata": {}
        }
      ]
    },
    {
      "cell_type": "code",
      "source": [
        "df<-na.omit(df); summary(df)"
      ],
      "metadata": {
        "colab": {
          "base_uri": "https://localhost:8080/",
          "height": 528
        },
        "id": "TxFVNI_wsJhA",
        "outputId": "d620dd4c-a6c4-4d82-ad42-3bde91dd998a"
      },
      "execution_count": null,
      "outputs": [
        {
          "output_type": "display_data",
          "data": {
            "text/plain": [
              "     Date             Location            MinTemp         MaxTemp     \n",
              " Length:128576      Length:128576      Min.   :-8.50   Min.   :-4.80  \n",
              " Class :character   Class :character   1st Qu.: 7.50   1st Qu.:17.90  \n",
              " Mode  :character   Mode  :character   Median :11.90   Median :22.80  \n",
              "                                       Mean   :12.14   Mean   :23.31  \n",
              "                                       3rd Qu.:16.80   3rd Qu.:28.40  \n",
              "                                       Max.   :33.90   Max.   :48.10  \n",
              "    Rainfall       WindGustDir        WindGustSpeed     WindDir3pm       \n",
              " Min.   :  0.000   Length:128576      Min.   :  6.00   Length:128576     \n",
              " 1st Qu.:  0.000   Class :character   1st Qu.: 31.00   Class :character  \n",
              " Median :  0.000   Mode  :character   Median : 39.00   Mode  :character  \n",
              " Mean   :  2.299                      Mean   : 40.06                     \n",
              " 3rd Qu.:  0.600                      3rd Qu.: 48.00                     \n",
              " Max.   :367.600                      Max.   :135.00                     \n",
              "  WindSpeed9am    WindSpeed3pm    Humidity9am      Humidity3pm    \n",
              " Min.   : 0.00   Min.   : 2.00   Min.   :  0.00   Min.   :  0.00  \n",
              " 1st Qu.: 7.00   1st Qu.:13.00   1st Qu.: 56.00   1st Qu.: 36.00  \n",
              " Median :13.00   Median :19.00   Median : 69.00   Median : 51.00  \n",
              " Mean   :14.24   Mean   :18.87   Mean   : 68.52   Mean   : 50.92  \n",
              " 3rd Qu.:20.00   3rd Qu.:24.00   3rd Qu.: 83.00   3rd Qu.: 65.00  \n",
              " Max.   :87.00   Max.   :87.00   Max.   :100.00   Max.   :100.00  \n",
              "    Temp9am         Temp3pm      RainToday         RainTomorrow      \n",
              " Min.   :-7.20   Min.   :-5.4   Length:128576      Length:128576     \n",
              " 1st Qu.:12.20   1st Qu.:16.6   Class :character   Class :character  \n",
              " Median :16.70   Median :21.3   Mode  :character   Mode  :character  \n",
              " Mean   :16.97   Mean   :21.8                                        \n",
              " 3rd Qu.:21.60   3rd Qu.:26.6                                        \n",
              " Max.   :40.20   Max.   :46.7                                        "
            ]
          },
          "metadata": {}
        }
      ]
    },
    {
      "cell_type": "markdown",
      "source": [
        "2-2. AUS 데이터의 Date변수를 Date형으로 변환하고"
      ],
      "metadata": {
        "id": "95AAE2x0rsQr"
      }
    },
    {
      "cell_type": "code",
      "source": [
        "library(magrittr)"
      ],
      "metadata": {
        "id": "L5vZWzJ8FM2R"
      },
      "execution_count": null,
      "outputs": []
    },
    {
      "cell_type": "code",
      "source": [
        "colnames(df)<-tolower(colnames(df)) #먼저 소문자로 바꿔주고\n",
        "names(df)"
      ],
      "metadata": {
        "colab": {
          "base_uri": "https://localhost:8080/",
          "height": 52
        },
        "id": "ZkC0h0B0z6YA",
        "outputId": "e5f97f7c-a510-41e7-b8b7-7830ee4d9b46"
      },
      "execution_count": null,
      "outputs": [
        {
          "output_type": "display_data",
          "data": {
            "text/html": [
              "<style>\n",
              ".list-inline {list-style: none; margin:0; padding: 0}\n",
              ".list-inline>li {display: inline-block}\n",
              ".list-inline>li:not(:last-child)::after {content: \"\\00b7\"; padding: 0 .5ex}\n",
              "</style>\n",
              "<ol class=list-inline><li>'date'</li><li>'location'</li><li>'mintemp'</li><li>'maxtemp'</li><li>'rainfall'</li><li>'windgustdir'</li><li>'windgustspeed'</li><li>'winddir3pm'</li><li>'windspeed9am'</li><li>'windspeed3pm'</li><li>'humidity9am'</li><li>'humidity3pm'</li><li>'temp9am'</li><li>'temp3pm'</li><li>'raintoday'</li><li>'raintomorrow'</li></ol>\n"
            ],
            "text/markdown": "1. 'date'\n2. 'location'\n3. 'mintemp'\n4. 'maxtemp'\n5. 'rainfall'\n6. 'windgustdir'\n7. 'windgustspeed'\n8. 'winddir3pm'\n9. 'windspeed9am'\n10. 'windspeed3pm'\n11. 'humidity9am'\n12. 'humidity3pm'\n13. 'temp9am'\n14. 'temp3pm'\n15. 'raintoday'\n16. 'raintomorrow'\n\n\n",
            "text/latex": "\\begin{enumerate*}\n\\item 'date'\n\\item 'location'\n\\item 'mintemp'\n\\item 'maxtemp'\n\\item 'rainfall'\n\\item 'windgustdir'\n\\item 'windgustspeed'\n\\item 'winddir3pm'\n\\item 'windspeed9am'\n\\item 'windspeed3pm'\n\\item 'humidity9am'\n\\item 'humidity3pm'\n\\item 'temp9am'\n\\item 'temp3pm'\n\\item 'raintoday'\n\\item 'raintomorrow'\n\\end{enumerate*}\n",
            "text/plain": [
              " [1] \"date\"          \"location\"      \"mintemp\"       \"maxtemp\"      \n",
              " [5] \"rainfall\"      \"windgustdir\"   \"windgustspeed\" \"winddir3pm\"   \n",
              " [9] \"windspeed9am\"  \"windspeed3pm\"  \"humidity9am\"   \"humidity3pm\"  \n",
              "[13] \"temp9am\"       \"temp3pm\"       \"raintoday\"     \"raintomorrow\" "
            ]
          },
          "metadata": {}
        }
      ]
    },
    {
      "cell_type": "code",
      "source": [
        "df$date<- as.Date(df$date, tryFormats=\"%Y-%m-%d\") #연도는 대문자\n",
        "str(df)\n",
        "#?as.Date # %Y-%m-%d"
      ],
      "metadata": {
        "colab": {
          "base_uri": "https://localhost:8080/"
        },
        "id": "tLfPLwIZzVTe",
        "outputId": "e187d4a0-0825-4ab6-9450-f4ffca943ba5"
      },
      "execution_count": null,
      "outputs": [
        {
          "output_type": "stream",
          "name": "stdout",
          "text": [
            "'data.frame':\t128576 obs. of  16 variables:\n",
            " $ date         : Date, format: \"2008-12-01\" \"2008-12-02\" ...\n",
            " $ location     : chr  \"Albury\" \"Albury\" \"Albury\" \"Albury\" ...\n",
            " $ mintemp      : num  13.4 7.4 12.9 9.2 17.5 14.6 14.3 7.7 9.7 13.1 ...\n",
            " $ maxtemp      : num  22.9 25.1 25.7 28 32.3 29.7 25 26.7 31.9 30.1 ...\n",
            " $ rainfall     : num  0.6 0 0 0 1 0.2 0 0 0 1.4 ...\n",
            " $ windgustdir  : chr  \"W\" \"WNW\" \"WSW\" \"NE\" ...\n",
            " $ windgustspeed: int  44 44 46 24 41 56 50 35 80 28 ...\n",
            " $ winddir3pm   : chr  \"WNW\" \"WSW\" \"WSW\" \"E\" ...\n",
            " $ windspeed9am : int  20 4 19 11 7 19 20 6 7 15 ...\n",
            " $ windspeed3pm : int  24 22 26 9 20 24 24 17 28 11 ...\n",
            " $ humidity9am  : int  71 44 38 45 82 55 49 48 42 58 ...\n",
            " $ humidity3pm  : int  22 25 30 16 33 23 19 19 9 27 ...\n",
            " $ temp9am      : num  16.9 17.2 21 18.1 17.8 20.6 18.1 16.3 18.3 20.1 ...\n",
            " $ temp3pm      : num  21.8 24.3 23.2 26.5 29.7 28.9 24.6 25.5 30.2 28.2 ...\n",
            " $ raintoday    : chr  \"No\" \"No\" \"No\" \"No\" ...\n",
            " $ raintomorrow : chr  \"No\" \"No\" \"No\" \"No\" ...\n",
            " - attr(*, \"na.action\")= 'omit' Named int [1:13617] 15 64 65 75 89 182 187 196 199 226 ...\n",
            "  ..- attr(*, \"names\")= chr [1:13617] \"15\" \"64\" \"65\" \"75\" ...\n"
          ]
        }
      ]
    },
    {
      "cell_type": "markdown",
      "source": [
        "2-3. 전처리가 된 weatherAUS 데이터를 train(70%), test(30%)로 분할하시오<br> set.seed(6789)"
      ],
      "metadata": {
        "id": "kEbWXc7Zr0-Z"
      }
    },
    {
      "cell_type": "code",
      "source": [
        "set.seed(6789)\n",
        "ind<-sample(1:nrow(df), nrow(df)*0.7, replace=FALSE)\n",
        "train<-df[ind,]\n",
        "test<-df[-ind,]\n",
        "summary(train) # 확인"
      ],
      "metadata": {
        "id": "9s9Co3ScHH2U",
        "outputId": "16603bb6-35b8-406e-a449-e328c4bee646",
        "colab": {
          "base_uri": "https://localhost:8080/",
          "height": 528
        }
      },
      "execution_count": null,
      "outputs": [
        {
          "output_type": "display_data",
          "data": {
            "text/plain": [
              "      date              location            mintemp         maxtemp     \n",
              " Min.   :2007-11-02   Length:90003       Min.   :-8.20   Min.   :-4.80  \n",
              " 1st Qu.:2011-01-21   Class :character   1st Qu.: 7.50   1st Qu.:17.90  \n",
              " Median :2013-06-11   Mode  :character   Median :11.90   Median :22.80  \n",
              " Mean   :2013-04-10                      Mean   :12.15   Mean   :23.31  \n",
              " 3rd Qu.:2015-06-15                      3rd Qu.:16.80   3rd Qu.:28.40  \n",
              " Max.   :2017-06-25                      Max.   :33.90   Max.   :48.10  \n",
              "    rainfall       windgustdir        windgustspeed     winddir3pm       \n",
              " Min.   :  0.000   Length:90003       Min.   :  6.00   Length:90003      \n",
              " 1st Qu.:  0.000   Class :character   1st Qu.: 31.00   Class :character  \n",
              " Median :  0.000   Mode  :character   Median : 39.00   Mode  :character  \n",
              " Mean   :  2.304                      Mean   : 40.02                     \n",
              " 3rd Qu.:  0.600                      3rd Qu.: 48.00                     \n",
              " Max.   :367.600                      Max.   :130.00                     \n",
              "  windspeed9am    windspeed3pm    humidity9am      humidity3pm    \n",
              " Min.   : 0.00   Min.   : 2.00   Min.   :  0.00   Min.   :  0.00  \n",
              " 1st Qu.: 7.00   1st Qu.:13.00   1st Qu.: 56.00   1st Qu.: 36.00  \n",
              " Median :13.00   Median :19.00   Median : 69.00   Median : 51.00  \n",
              " Mean   :14.25   Mean   :18.87   Mean   : 68.51   Mean   : 50.92  \n",
              " 3rd Qu.:20.00   3rd Qu.:24.00   3rd Qu.: 83.00   3rd Qu.: 65.00  \n",
              " Max.   :87.00   Max.   :76.00   Max.   :100.00   Max.   :100.00  \n",
              "    temp9am         temp3pm      raintoday         raintomorrow      \n",
              " Min.   :-7.20   Min.   :-5.4   Length:90003       Length:90003      \n",
              " 1st Qu.:12.20   1st Qu.:16.6   Class :character   Class :character  \n",
              " Median :16.70   Median :21.3   Mode  :character   Mode  :character  \n",
              " Mean   :16.98   Mean   :21.8                                        \n",
              " 3rd Qu.:21.60   3rd Qu.:26.6                                        \n",
              " Max.   :39.40   Max.   :46.7                                        "
            ]
          },
          "metadata": {}
        }
      ]
    },
    {
      "cell_type": "markdown",
      "source": [
        "## 3. 모델링\n",
        "train 데이터로 RainTomorrow를 예측하는 분류모델을 1개 생성하고, test데이터에 대한 예측값을 csv 파일로 제출 하시오"
      ],
      "metadata": {
        "id": "Syu3tYaXHsLn"
      }
    },
    {
      "cell_type": "code",
      "source": [
        "#먼저 범주형 클래스 확인\n",
        "plot_bar(train)"
      ],
      "metadata": {
        "id": "ungmy_HkIgaN",
        "outputId": "aaf31fee-175e-456a-f0d7-1870d83e2b2b",
        "colab": {
          "base_uri": "https://localhost:8080/",
          "height": 510
        }
      },
      "execution_count": null,
      "outputs": [
        {
          "output_type": "stream",
          "name": "stderr",
          "text": [
            "1 columns ignored with more than 50 categories.\n",
            "date: 3358 categories\n",
            "\n",
            "\n"
          ]
        },
        {
          "output_type": "display_data",
          "data": {
            "text/plain": [
              "plot without title"
            ],
            "image/png": "[encoded data removed]"
          },
          "metadata": {
            "image/png": {
              "width": 420,
              "height": 420
            }
          }
        }
      ]
    },
    {
      "cell_type": "code",
      "source": [
        "nrow(table(df$location))  #최대 47클래스있음 date는 어떻게할까 ? "
      ],
      "metadata": {
        "id": "M5Tz4lmzKXw3",
        "outputId": "b460e4f2-7239-4aac-e54c-7023141153af",
        "colab": {
          "base_uri": "https://localhost:8080/",
          "height": 34
        }
      },
      "execution_count": null,
      "outputs": [
        {
          "output_type": "display_data",
          "data": {
            "text/html": [
              "47"
            ],
            "text/markdown": "47",
            "text/latex": "47",
            "text/plain": [
              "[1] 47"
            ]
          },
          "metadata": {}
        }
      ]
    },
    {
      "cell_type": "markdown",
      "source": [
        "내일 다시 랜포나 부스팅방법중 하나 선택하기"
      ],
      "metadata": {
        "id": "cW-ljxGSLHIP"
      }
    }
  ]
}