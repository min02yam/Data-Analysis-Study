{
  "nbformat": 4,
  "nbformat_minor": 0,
  "metadata": {
    "colab": {
      "name": "20220515_분류분석_weatherAUS_하는중.ipynb",
      "provenance": [],
      "authorship_tag": "ABX9TyNnb728zD+rMLBrp1zqvKv+",
      "include_colab_link": true
    },
    "kernelspec": {
      "name": "ir",
      "display_name": "R"
    },
    "language_info": {
      "name": "R"
    }
  },
  "cells": [
    {
      "cell_type": "markdown",
      "metadata": {
        "id": "view-in-github",
        "colab_type": "text"
      },
      "source": [
        "<a href=\"https://colab.research.google.com/github/min02yam/R-study/blob/main/20220515_%EB%B6%84%EB%A5%98%EB%B6%84%EC%84%9D_weatherAUS_%ED%95%98%EB%8A%94%EC%A4%91.ipynb\" target=\"_parent\"><img src=\"https://colab.research.google.com/assets/colab-badge.svg\" alt=\"Open In Colab\"/></a>"
      ]
    },
    {
      "cell_type": "markdown",
      "source": [
        "--------------------------------------------------------------------------\n",
        "### **2. (분류분석) weatherAUS 데이터 셋을 활용하여**\n",
        "#### 2-1 데이터 요약 값을 보고 NA값이 10,000개 이상인 열을 제외하고 남은 변수중 NA값이 있는 행을 제거하시오\n",
        "#### 2-2 그리고 AUS 데이터의 Data변수를 Data형으로 변환하고, 전처리가 된 weatherAUS 데이터를 train(70%), test(30%)로 분할하시오 (set.seed(6789))\n",
        "####2-3 train 데이터로 RainTomorrow를 예측하는 분류모델을 1개 생성하고, test데이터에 대한 예측값을 csv 파일로 제출 하시오\n",
        "--------------------------------------------------------------------------"
      ],
      "metadata": {
        "id": "DBCzkkuezY3r"
      }
    },
    {
      "cell_type": "markdown",
      "source": [
        "---------------------------**목차**---------------------------\n",
        "1. 데이터 로드\n",
        "2. 데이터 전처리 (2-1), (2-2)\n",
        "3. 모델링\n",
        "SVM OR LOGISTIC 예정\n"
      ],
      "metadata": {
        "id": "kqM1zOKlQSsg"
      }
    },
    {
      "cell_type": "markdown",
      "source": [
        "## 2-1."
      ],
      "metadata": {
        "id": "UfqBDvtsQI9j"
      }
    },
    {
      "cell_type": "code",
      "source": [
        ""
      ],
      "metadata": {
        "id": "ObY6LRJUzznH"
      },
      "execution_count": null,
      "outputs": []
    },
    {
      "cell_type": "code",
      "source": [
        "\n"
      ],
      "metadata": {
        "id": "JaHKeeiUzi0u"
      },
      "execution_count": null,
      "outputs": []
    },
    {
      "cell_type": "code",
      "source": [
        ""
      ],
      "metadata": {
        "id": "xvxGvBE65AiB"
      },
      "execution_count": null,
      "outputs": []
    },
    {
      "cell_type": "code",
      "source": [
        ""
      ],
      "metadata": {
        "id": "XqN6wO-v5D3a"
      },
      "execution_count": null,
      "outputs": []
    }
  ]
}