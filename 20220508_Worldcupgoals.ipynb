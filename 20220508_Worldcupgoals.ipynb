{
  "nbformat": 4,
  "nbformat_minor": 0,
  "metadata": {
    "colab": {
      "name": "20220508_Worldcupgoals_하는중.ipynb의 사본",
      "provenance": [],
      "authorship_tag": "ABX9TyMyUckXw21rmT1clIAnKL5s",
      "include_colab_link": true
    },
    "kernelspec": {
      "name": "ir",
      "display_name": "R"
    },
    "language_info": {
      "name": "R"
    }
  },
  "cells": [
    {
      "cell_type": "markdown",
      "metadata": {
        "id": "view-in-github",
        "colab_type": "text"
      },
      "source": [
        "<a href=\"https://colab.research.google.com/github/min02yam/R-study/blob/main/20220508_Worldcupgoals_%EB%8B%B5.ipynb\" target=\"_parent\"><img src=\"https://colab.research.google.com/assets/colab-badge.svg\" alt=\"Open In Colab\"/></a>"
      ]
    },
    {
      "cell_type": "markdown",
      "source": [
        "22.05.01\n",
        "update 22.06.30"
      ],
      "metadata": {
        "id": "QsxTlgp3LS5F"
      }
    },
    {
      "cell_type": "markdown",
      "source": [
        "# 1. Data Pre-processing\n",
        "\n",
        "\n",
        "## 1-2-1. Worldcupgoals.csv 데이터에서 국가별 득점을 한 선수의 숫자와 총 득점수를 표시하시오. (가장 적은 코드로 작성한 사람에게는 커피 한 잔 쿠폰을 선물로 드립니다. )\n",
        "\n",
        "## 1-2-2. Worldcupgoals.csv 데이터에서 tm 패키지를 이용해서 월드컵 출전회수 column을 추가하시오."
      ],
      "metadata": {
        "id": "glH2Xjg7kgtN"
      }
    },
    {
      "cell_type": "code",
      "source": [
        "install.packages(c(\"dplyr\",\"tm\")) "
      ],
      "metadata": {
        "colab": {
          "base_uri": "https://localhost:8080/"
        },
        "id": "pkvZ4WIjlH7t",
        "outputId": "2f0a87a5-e2f4-4200-84b7-6e31fa99f661"
      },
      "execution_count": 1,
      "outputs": [
        {
          "output_type": "stream",
          "name": "stderr",
          "text": [
            "Installing packages into ‘/usr/local/lib/R/site-library’\n",
            "(as ‘lib’ is unspecified)\n",
            "\n",
            "also installing the dependencies ‘NLP’, ‘Rcpp’, ‘slam’, ‘BH’\n",
            "\n",
            "\n"
          ]
        }
      ]
    },
    {
      "cell_type": "code",
      "source": [
        "library(dplyr);library(magrittr)"
      ],
      "metadata": {
        "id": "Ac6Snw5ClhkZ",
        "colab": {
          "base_uri": "https://localhost:8080/"
        },
        "outputId": "e86feb72-6b73-404b-f398-4d2277a866e3"
      },
      "execution_count": 2,
      "outputs": [
        {
          "output_type": "stream",
          "name": "stderr",
          "text": [
            "\n",
            "Attaching package: ‘dplyr’\n",
            "\n",
            "\n",
            "The following objects are masked from ‘package:stats’:\n",
            "\n",
            "    filter, lag\n",
            "\n",
            "\n",
            "The following objects are masked from ‘package:base’:\n",
            "\n",
            "    intersect, setdiff, setequal, union\n",
            "\n",
            "\n"
          ]
        }
      ]
    },
    {
      "cell_type": "code",
      "source": [
        "install.packages(\"tm\");  library(tm)"
      ],
      "metadata": {
        "colab": {
          "base_uri": "https://localhost:8080/"
        },
        "id": "CdCwYFtlU43P",
        "outputId": "48837f99-3c5f-4004-e037-b3890e57170c"
      },
      "execution_count": 3,
      "outputs": [
        {
          "output_type": "stream",
          "name": "stderr",
          "text": [
            "Installing package into ‘/usr/local/lib/R/site-library’\n",
            "(as ‘lib’ is unspecified)\n",
            "\n",
            "Loading required package: NLP\n",
            "\n"
          ]
        }
      ]
    },
    {
      "cell_type": "markdown",
      "source": [
        "ref. https://cran.r-project.org/web/packages/tm/vignettes/tm.pdf"
      ],
      "metadata": {
        "id": "EO60mBqLvBII"
      }
    },
    {
      "cell_type": "markdown",
      "source": [
        "- `step1)` 데이터 불러오기 및 간단한 구조 확인"
      ],
      "metadata": {
        "id": "Z3MdmaBBoLtV"
      }
    },
    {
      "cell_type": "code",
      "source": [
        "system(\"gdown --id 1VKMr75H3Bu3px_rJXd9Y3KQikxKtJadN\")"
      ],
      "metadata": {
        "id": "q7osyiSUH5lC"
      },
      "execution_count": 7,
      "outputs": []
    },
    {
      "cell_type": "code",
      "source": [
        "df=read.csv(\"Worldcupgoals.csv\", stringsAsFactors = TRUE)"
      ],
      "metadata": {
        "id": "z5XKGAGjTf0v"
      },
      "execution_count": 8,
      "outputs": []
    },
    {
      "cell_type": "code",
      "source": [
        "dplyr:: glimpse(df)"
      ],
      "metadata": {
        "id": "sSrf4rgpKVwy",
        "outputId": "e721485c-dac2-4013-f5f0-aa9ba07e691d",
        "colab": {
          "base_uri": "https://localhost:8080/"
        }
      },
      "execution_count": 9,
      "outputs": [
        {
          "output_type": "stream",
          "name": "stdout",
          "text": [
            "Rows: 1,295\n",
            "Columns: 4\n",
            "$ Player  \u001b[3m\u001b[90m<fct>\u001b[39m\u001b[23m Miroslav Klose, Ronaldo, Gerd Muller, Just Fontaine, Pele, Jur…\n",
            "$ Goals   \u001b[3m\u001b[90m<int>\u001b[39m\u001b[23m 16, 15, 14, 13, 12, 11, 11, 10, 10, 10, 10, 10, 10, 9, 9, 9, 9…\n",
            "$ Years   \u001b[3m\u001b[90m<fct>\u001b[39m\u001b[23m 2002-2006-2010-2014, 1998-2002-2006, 1970-1974, 1958, 1958-196…\n",
            "$ Country \u001b[3m\u001b[90m<fct>\u001b[39m\u001b[23m Germany, Brazil, Germany, France, Brazil, Germany, Hungary, Ar…\n"
          ]
        }
      ]
    },
    {
      "cell_type": "code",
      "source": [
        "str(df); head(df)"
      ],
      "metadata": {
        "colab": {
          "base_uri": "https://localhost:8080/",
          "height": 377
        },
        "id": "N4SIpwCfTrIO",
        "outputId": "3ce65a11-657d-43ef-b6d6-2fc20442316f"
      },
      "execution_count": 10,
      "outputs": [
        {
          "output_type": "stream",
          "name": "stdout",
          "text": [
            "'data.frame':\t1295 obs. of  4 variables:\n",
            " $ Player : Factor w/ 1291 levels \"Abdel Fawzi\",..: 868 1072 412 676 957 675 1099 389 395 1180 ...\n",
            " $ Goals  : int  16 15 14 13 12 11 11 10 10 10 ...\n",
            " $ Years  : Factor w/ 95 levels \"0\",\"1930\",\"1930-1934\",..: 82 75 34 19 22 61 14 69 54 91 ...\n",
            " $ Country: Factor w/ 76 levels \"Algeria\",\"Angola\",..: 26 9 26 25 9 26 31 3 24 26 ...\n"
          ]
        },
        {
          "output_type": "display_data",
          "data": {
            "text/html": [
              "<table class=\"dataframe\">\n",
              "<caption>A data.frame: 6 × 4</caption>\n",
              "<thead>\n",
              "\t<tr><th></th><th scope=col>Player</th><th scope=col>Goals</th><th scope=col>Years</th><th scope=col>Country</th></tr>\n",
              "\t<tr><th></th><th scope=col>&lt;fct&gt;</th><th scope=col>&lt;int&gt;</th><th scope=col>&lt;fct&gt;</th><th scope=col>&lt;fct&gt;</th></tr>\n",
              "</thead>\n",
              "<tbody>\n",
              "\t<tr><th scope=row>1</th><td>Miroslav Klose  </td><td>16</td><td>2002-2006-2010-2014</td><td>Germany</td></tr>\n",
              "\t<tr><th scope=row>2</th><td>Ronaldo         </td><td>15</td><td>1998-2002-2006     </td><td>Brazil </td></tr>\n",
              "\t<tr><th scope=row>3</th><td>Gerd Muller     </td><td>14</td><td>1970-1974          </td><td>Germany</td></tr>\n",
              "\t<tr><th scope=row>4</th><td>Just Fontaine   </td><td>13</td><td>1958               </td><td>France </td></tr>\n",
              "\t<tr><th scope=row>5</th><td>Pele            </td><td>12</td><td>1958-1962-1966-1970</td><td>Brazil </td></tr>\n",
              "\t<tr><th scope=row>6</th><td>Jurgen Klinsmann</td><td>11</td><td>1990-1994-1998     </td><td>Germany</td></tr>\n",
              "</tbody>\n",
              "</table>\n"
            ],
            "text/markdown": "\nA data.frame: 6 × 4\n\n| <!--/--> | Player &lt;fct&gt; | Goals &lt;int&gt; | Years &lt;fct&gt; | Country &lt;fct&gt; |\n|---|---|---|---|---|\n| 1 | Miroslav Klose   | 16 | 2002-2006-2010-2014 | Germany |\n| 2 | Ronaldo          | 15 | 1998-2002-2006      | Brazil  |\n| 3 | Gerd Muller      | 14 | 1970-1974           | Germany |\n| 4 | Just Fontaine    | 13 | 1958                | France  |\n| 5 | Pele             | 12 | 1958-1962-1966-1970 | Brazil  |\n| 6 | Jurgen Klinsmann | 11 | 1990-1994-1998      | Germany |\n\n",
            "text/latex": "A data.frame: 6 × 4\n\\begin{tabular}{r|llll}\n  & Player & Goals & Years & Country\\\\\n  & <fct> & <int> & <fct> & <fct>\\\\\n\\hline\n\t1 & Miroslav Klose   & 16 & 2002-2006-2010-2014 & Germany\\\\\n\t2 & Ronaldo          & 15 & 1998-2002-2006      & Brazil \\\\\n\t3 & Gerd Muller      & 14 & 1970-1974           & Germany\\\\\n\t4 & Just Fontaine    & 13 & 1958                & France \\\\\n\t5 & Pele             & 12 & 1958-1962-1966-1970 & Brazil \\\\\n\t6 & Jurgen Klinsmann & 11 & 1990-1994-1998      & Germany\\\\\n\\end{tabular}\n",
            "text/plain": [
              "  Player           Goals Years               Country\n",
              "1 Miroslav Klose   16    2002-2006-2010-2014 Germany\n",
              "2 Ronaldo          15    1998-2002-2006      Brazil \n",
              "3 Gerd Muller      14    1970-1974           Germany\n",
              "4 Just Fontaine    13    1958                France \n",
              "5 Pele             12    1958-1962-1966-1970 Brazil \n",
              "6 Jurgen Klinsmann 11    1990-1994-1998      Germany"
            ]
          },
          "metadata": {}
        }
      ]
    },
    {
      "cell_type": "markdown",
      "source": [
        "- `step2)` 국가별 득점을 한 선수의 숫자와 총 득점수를 표시 "
      ],
      "metadata": {
        "id": "oH8cIDz0UDX3"
      }
    },
    {
      "cell_type": "code",
      "source": [
        "df %>% group_by(Country) %>%\n",
        "       count(Goals,Player) %>%\n",
        "       summarise( tot_Goals=sum(Goals),tot_player= sum(n)) %>%\n",
        "      arrange(-tot_Goals) %>%head()"
      ],
      "metadata": {
        "id": "nn3Ci3CWLOk0",
        "outputId": "fa37a88d-b16e-4124-97c2-0e920a269e9c",
        "colab": {
          "base_uri": "https://localhost:8080/",
          "height": 286
        }
      },
      "execution_count": 36,
      "outputs": [
        {
          "output_type": "display_data",
          "data": {
            "text/html": [
              "<table class=\"dataframe\">\n",
              "<caption>A tibble: 6 × 3</caption>\n",
              "<thead>\n",
              "\t<tr><th scope=col>Country</th><th scope=col>tot_Goals</th><th scope=col>tot_player</th></tr>\n",
              "\t<tr><th scope=col>&lt;fct&gt;</th><th scope=col>&lt;int&gt;</th><th scope=col>&lt;int&gt;</th></tr>\n",
              "</thead>\n",
              "<tbody>\n",
              "\t<tr><td>Brazil   </td><td>227</td><td>81</td></tr>\n",
              "\t<tr><td>Germany  </td><td>226</td><td>78</td></tr>\n",
              "\t<tr><td>Argentina</td><td>135</td><td>59</td></tr>\n",
              "\t<tr><td>Italy    </td><td>123</td><td>60</td></tr>\n",
              "\t<tr><td>France   </td><td>115</td><td>58</td></tr>\n",
              "\t<tr><td>Spain    </td><td> 96</td><td>48</td></tr>\n",
              "</tbody>\n",
              "</table>\n"
            ],
            "text/markdown": "\nA tibble: 6 × 3\n\n| Country &lt;fct&gt; | tot_Goals &lt;int&gt; | tot_player &lt;int&gt; |\n|---|---|---|\n| Brazil    | 227 | 81 |\n| Germany   | 226 | 78 |\n| Argentina | 135 | 59 |\n| Italy     | 123 | 60 |\n| France    | 115 | 58 |\n| Spain     |  96 | 48 |\n\n",
            "text/latex": "A tibble: 6 × 3\n\\begin{tabular}{lll}\n Country & tot\\_Goals & tot\\_player\\\\\n <fct> & <int> & <int>\\\\\n\\hline\n\t Brazil    & 227 & 81\\\\\n\t Germany   & 226 & 78\\\\\n\t Argentina & 135 & 59\\\\\n\t Italy     & 123 & 60\\\\\n\t France    & 115 & 58\\\\\n\t Spain     &  96 & 48\\\\\n\\end{tabular}\n",
            "text/plain": [
              "  Country   tot_Goals tot_player\n",
              "1 Brazil    227       81        \n",
              "2 Germany   226       78        \n",
              "3 Argentina 135       59        \n",
              "4 Italy     123       60        \n",
              "5 France    115       58        \n",
              "6 Spain      96       48        "
            ]
          },
          "metadata": {}
        }
      ]
    },
    {
      "cell_type": "markdown",
      "source": [
        "- `step3)` tm 패키지를 이용해서 월드컵 출전회수 column을 추가"
      ],
      "metadata": {
        "id": "CxLfRct4KH3d"
      }
    },
    {
      "cell_type": "code",
      "source": [
        "#names(df)=tolower(names(df))\n",
        "#names(df)"
      ],
      "metadata": {
        "id": "PkdLSwXTOfOz",
        "outputId": "cd3f3b68-ce45-484b-8074-5a02c4a06566",
        "colab": {
          "base_uri": "https://localhost:8080/",
          "height": 34
        }
      },
      "execution_count": 38,
      "outputs": [
        {
          "output_type": "display_data",
          "data": {
            "text/html": [
              "<style>\n",
              ".list-inline {list-style: none; margin:0; padding: 0}\n",
              ".list-inline>li {display: inline-block}\n",
              ".list-inline>li:not(:last-child)::after {content: \"\\00b7\"; padding: 0 .5ex}\n",
              "</style>\n",
              "<ol class=list-inline><li>'player'</li><li>'goals'</li><li>'years'</li><li>'country'</li></ol>\n"
            ],
            "text/markdown": "1. 'player'\n2. 'goals'\n3. 'years'\n4. 'country'\n\n\n",
            "text/latex": "\\begin{enumerate*}\n\\item 'player'\n\\item 'goals'\n\\item 'years'\n\\item 'country'\n\\end{enumerate*}\n",
            "text/plain": [
              "[1] \"player\"  \"goals\"   \"years\"   \"country\""
            ]
          },
          "metadata": {}
        }
      ]
    },
    {
      "cell_type": "code",
      "source": [
        "df$year %>% VectorSource %>% VCorpus -> cp "
      ],
      "metadata": {
        "id": "kyJWEJYIOr8N"
      },
      "execution_count": 45,
      "outputs": []
    },
    {
      "cell_type": "code",
      "source": [
        "year=tm_map(cp, removePunctuation)  #vcorpus"
      ],
      "metadata": {
        "id": "h5YtFPQsPgD-"
      },
      "execution_count": 54,
      "outputs": []
    },
    {
      "cell_type": "code",
      "source": [
        "df$count_year=sapply(year, nchar)[1,] /4 #행렬반환"
      ],
      "metadata": {
        "id": "TcgodXdpQOL2"
      },
      "execution_count": 60,
      "outputs": []
    },
    {
      "cell_type": "code",
      "source": [
        "#year<-tm_map( VCorpus(VectorSource(df[,3])),  removePunctuation)  \n",
        "#df$count_year<-sapply(year, nchar)[1,] / 4 "
      ],
      "metadata": {
        "id": "NyN8rJitKOWR"
      },
      "execution_count": null,
      "outputs": []
    },
    {
      "cell_type": "code",
      "source": [
        "head(df)"
      ],
      "metadata": {
        "colab": {
          "base_uri": "https://localhost:8080/",
          "height": 286
        },
        "id": "tUmmg1PuiMLh",
        "outputId": "c464f176-db93-48f9-92c9-ad6fba50afe6"
      },
      "execution_count": 61,
      "outputs": [
        {
          "output_type": "display_data",
          "data": {
            "text/html": [
              "<table class=\"dataframe\">\n",
              "<caption>A data.frame: 6 × 5</caption>\n",
              "<thead>\n",
              "\t<tr><th></th><th scope=col>player</th><th scope=col>goals</th><th scope=col>years</th><th scope=col>country</th><th scope=col>count_year</th></tr>\n",
              "\t<tr><th></th><th scope=col>&lt;fct&gt;</th><th scope=col>&lt;int&gt;</th><th scope=col>&lt;fct&gt;</th><th scope=col>&lt;fct&gt;</th><th scope=col>&lt;dbl&gt;</th></tr>\n",
              "</thead>\n",
              "<tbody>\n",
              "\t<tr><th scope=row>1</th><td>Miroslav Klose  </td><td>16</td><td>2002-2006-2010-2014</td><td>Germany</td><td>4</td></tr>\n",
              "\t<tr><th scope=row>2</th><td>Ronaldo         </td><td>15</td><td>1998-2002-2006     </td><td>Brazil </td><td>3</td></tr>\n",
              "\t<tr><th scope=row>3</th><td>Gerd Muller     </td><td>14</td><td>1970-1974          </td><td>Germany</td><td>2</td></tr>\n",
              "\t<tr><th scope=row>4</th><td>Just Fontaine   </td><td>13</td><td>1958               </td><td>France </td><td>1</td></tr>\n",
              "\t<tr><th scope=row>5</th><td>Pele            </td><td>12</td><td>1958-1962-1966-1970</td><td>Brazil </td><td>4</td></tr>\n",
              "\t<tr><th scope=row>6</th><td>Jurgen Klinsmann</td><td>11</td><td>1990-1994-1998     </td><td>Germany</td><td>3</td></tr>\n",
              "</tbody>\n",
              "</table>\n"
            ],
            "text/markdown": "\nA data.frame: 6 × 5\n\n| <!--/--> | player &lt;fct&gt; | goals &lt;int&gt; | years &lt;fct&gt; | country &lt;fct&gt; | count_year &lt;dbl&gt; |\n|---|---|---|---|---|---|\n| 1 | Miroslav Klose   | 16 | 2002-2006-2010-2014 | Germany | 4 |\n| 2 | Ronaldo          | 15 | 1998-2002-2006      | Brazil  | 3 |\n| 3 | Gerd Muller      | 14 | 1970-1974           | Germany | 2 |\n| 4 | Just Fontaine    | 13 | 1958                | France  | 1 |\n| 5 | Pele             | 12 | 1958-1962-1966-1970 | Brazil  | 4 |\n| 6 | Jurgen Klinsmann | 11 | 1990-1994-1998      | Germany | 3 |\n\n",
            "text/latex": "A data.frame: 6 × 5\n\\begin{tabular}{r|lllll}\n  & player & goals & years & country & count\\_year\\\\\n  & <fct> & <int> & <fct> & <fct> & <dbl>\\\\\n\\hline\n\t1 & Miroslav Klose   & 16 & 2002-2006-2010-2014 & Germany & 4\\\\\n\t2 & Ronaldo          & 15 & 1998-2002-2006      & Brazil  & 3\\\\\n\t3 & Gerd Muller      & 14 & 1970-1974           & Germany & 2\\\\\n\t4 & Just Fontaine    & 13 & 1958                & France  & 1\\\\\n\t5 & Pele             & 12 & 1958-1962-1966-1970 & Brazil  & 4\\\\\n\t6 & Jurgen Klinsmann & 11 & 1990-1994-1998      & Germany & 3\\\\\n\\end{tabular}\n",
            "text/plain": [
              "  player           goals years               country count_year\n",
              "1 Miroslav Klose   16    2002-2006-2010-2014 Germany 4         \n",
              "2 Ronaldo          15    1998-2002-2006      Brazil  3         \n",
              "3 Gerd Muller      14    1970-1974           Germany 2         \n",
              "4 Just Fontaine    13    1958                France  1         \n",
              "5 Pele             12    1958-1962-1966-1970 Brazil  4         \n",
              "6 Jurgen Klinsmann 11    1990-1994-1998      Germany 3         "
            ]
          },
          "metadata": {}
        }
      ]
    },
    {
      "cell_type": "markdown",
      "source": [
        "lubridate"
      ],
      "metadata": {
        "id": "TMagfAE_QxCB"
      }
    },
    {
      "cell_type": "code",
      "source": [
        ""
      ],
      "metadata": {
        "id": "NxC1CymAQwmE"
      },
      "execution_count": null,
      "outputs": []
    }
  ]
}
