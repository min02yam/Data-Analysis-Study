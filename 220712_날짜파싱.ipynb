{
  "nbformat": 4,
  "nbformat_minor": 0,
  "metadata": {
    "colab": {
      "name": "Untitled24.ipynb",
      "provenance": [],
      "authorship_tag": "ABX9TyNy7V+0bSGgd+MV5Psc8Qi4",
      "include_colab_link": true
    },
    "kernelspec": {
      "name": "ir",
      "display_name": "R"
    },
    "language_info": {
      "name": "R"
    }
  },
  "cells": [
    {
      "cell_type": "markdown",
      "metadata": {
        "id": "view-in-github",
        "colab_type": "text"
      },
      "source": [
        "<a href=\"https://colab.research.google.com/github/min02yam/R-study/blob/main/220712_%EB%82%A0%EC%A7%9C%ED%8C%8C%EC%8B%B1.ipynb\" target=\"_parent\"><img src=\"https://colab.research.google.com/assets/colab-badge.svg\" alt=\"Open In Colab\"/></a>"
      ]
    },
    {
      "cell_type": "markdown",
      "source": [
        ""
      ],
      "metadata": {
        "id": "Yd0NBlOIfGKL"
      }
    },
    {
      "cell_type": "code",
      "source": [
        "system(\"gdown --id 1VKMr75H3Bu3px_rJXd9Y3KQikxKtJadN\")"
      ],
      "metadata": {
        "id": "p7m7MebNfFUr"
      },
      "execution_count": null,
      "outputs": []
    },
    {
      "cell_type": "code",
      "source": [
        "#require(data.table)\n",
        "#require(dplyr)\n",
        "#require(lubridate)\n",
        "require(magrittr)"
      ],
      "metadata": {
        "colab": {
          "base_uri": "https://localhost:8080/"
        },
        "id": "djXTdPayfWYl",
        "outputId": "a3d284e7-91b4-4795-f791-365dacf83e0f"
      },
      "execution_count": null,
      "outputs": [
        {
          "output_type": "stream",
          "name": "stderr",
          "text": [
            "Loading required package: magrittr\n",
            "\n"
          ]
        }
      ]
    },
    {
      "cell_type": "code",
      "source": [
        "df=read.csv(\"Worldcupgoals.csv\")"
      ],
      "metadata": {
        "id": "4z_5U8APfESZ"
      },
      "execution_count": null,
      "outputs": []
    },
    {
      "cell_type": "code",
      "source": [
        "#df %>% class"
      ],
      "metadata": {
        "colab": {
          "base_uri": "https://localhost:8080/",
          "height": 34
        },
        "id": "gLugupvMovOp",
        "outputId": "737e3df1-cda5-43a1-8f31-19c5a515ad01"
      },
      "execution_count": null,
      "outputs": [
        {
          "output_type": "display_data",
          "data": {
            "text/html": [
              "'data.frame'"
            ],
            "text/markdown": "'data.frame'",
            "text/latex": "'data.frame'",
            "text/plain": [
              "[1] \"data.frame\""
            ]
          },
          "metadata": {}
        }
      ]
    },
    {
      "cell_type": "code",
      "source": [
        "df %>% head"
      ],
      "metadata": {
        "colab": {
          "base_uri": "https://localhost:8080/",
          "height": 286
        },
        "id": "MD20iHDRfiyd",
        "outputId": "c64525b9-4c32-401c-a3a1-4a1f6abcd16e"
      },
      "execution_count": null,
      "outputs": [
        {
          "output_type": "display_data",
          "data": {
            "text/html": [
              "<table class=\"dataframe\">\n",
              "<caption>A data.table: 6 × 4</caption>\n",
              "<thead>\n",
              "\t<tr><th scope=col>Player</th><th scope=col>Goals</th><th scope=col>Years</th><th scope=col>Country</th></tr>\n",
              "\t<tr><th scope=col>&lt;chr&gt;</th><th scope=col>&lt;int&gt;</th><th scope=col>&lt;chr&gt;</th><th scope=col>&lt;chr&gt;</th></tr>\n",
              "</thead>\n",
              "<tbody>\n",
              "\t<tr><td>Miroslav Klose  </td><td>16</td><td>2002-2006-2010-2014</td><td>Germany</td></tr>\n",
              "\t<tr><td>Ronaldo         </td><td>15</td><td>1998-2002-2006     </td><td>Brazil </td></tr>\n",
              "\t<tr><td>Gerd Muller     </td><td>14</td><td>1970-1974          </td><td>Germany</td></tr>\n",
              "\t<tr><td>Just Fontaine   </td><td>13</td><td>1958               </td><td>France </td></tr>\n",
              "\t<tr><td>Pele            </td><td>12</td><td>1958-1962-1966-1970</td><td>Brazil </td></tr>\n",
              "\t<tr><td>Jurgen Klinsmann</td><td>11</td><td>1990-1994-1998     </td><td>Germany</td></tr>\n",
              "</tbody>\n",
              "</table>\n"
            ],
            "text/markdown": "\nA data.table: 6 × 4\n\n| Player &lt;chr&gt; | Goals &lt;int&gt; | Years &lt;chr&gt; | Country &lt;chr&gt; |\n|---|---|---|---|\n| Miroslav Klose   | 16 | 2002-2006-2010-2014 | Germany |\n| Ronaldo          | 15 | 1998-2002-2006      | Brazil  |\n| Gerd Muller      | 14 | 1970-1974           | Germany |\n| Just Fontaine    | 13 | 1958                | France  |\n| Pele             | 12 | 1958-1962-1966-1970 | Brazil  |\n| Jurgen Klinsmann | 11 | 1990-1994-1998      | Germany |\n\n",
            "text/latex": "A data.table: 6 × 4\n\\begin{tabular}{llll}\n Player & Goals & Years & Country\\\\\n <chr> & <int> & <chr> & <chr>\\\\\n\\hline\n\t Miroslav Klose   & 16 & 2002-2006-2010-2014 & Germany\\\\\n\t Ronaldo          & 15 & 1998-2002-2006      & Brazil \\\\\n\t Gerd Muller      & 14 & 1970-1974           & Germany\\\\\n\t Just Fontaine    & 13 & 1958                & France \\\\\n\t Pele             & 12 & 1958-1962-1966-1970 & Brazil \\\\\n\t Jurgen Klinsmann & 11 & 1990-1994-1998      & Germany\\\\\n\\end{tabular}\n",
            "text/plain": [
              "  Player           Goals Years               Country\n",
              "1 Miroslav Klose   16    2002-2006-2010-2014 Germany\n",
              "2 Ronaldo          15    1998-2002-2006      Brazil \n",
              "3 Gerd Muller      14    1970-1974           Germany\n",
              "4 Just Fontaine    13    1958                France \n",
              "5 Pele             12    1958-1962-1966-1970 Brazil \n",
              "6 Jurgen Klinsmann 11    1990-1994-1998      Germany"
            ]
          },
          "metadata": {}
        }
      ]
    },
    {
      "cell_type": "code",
      "source": [
        "names(df) = tolower(names(df))"
      ],
      "metadata": {
        "id": "nyoLdUWef0IP"
      },
      "execution_count": null,
      "outputs": []
    },
    {
      "cell_type": "code",
      "source": [
        "df %>% head"
      ],
      "metadata": {
        "colab": {
          "base_uri": "https://localhost:8080/",
          "height": 286
        },
        "id": "EHF-a-n0f_lU",
        "outputId": "c4b28f0b-a30b-4f8d-d98f-2f110c74a0d3"
      },
      "execution_count": null,
      "outputs": [
        {
          "output_type": "display_data",
          "data": {
            "text/html": [
              "<table class=\"dataframe\">\n",
              "<caption>A data.table: 6 × 4</caption>\n",
              "<thead>\n",
              "\t<tr><th scope=col>player</th><th scope=col>goals</th><th scope=col>years</th><th scope=col>country</th></tr>\n",
              "\t<tr><th scope=col>&lt;chr&gt;</th><th scope=col>&lt;int&gt;</th><th scope=col>&lt;chr&gt;</th><th scope=col>&lt;chr&gt;</th></tr>\n",
              "</thead>\n",
              "<tbody>\n",
              "\t<tr><td>Miroslav Klose  </td><td>16</td><td>2002-2006-2010-2014</td><td>Germany</td></tr>\n",
              "\t<tr><td>Ronaldo         </td><td>15</td><td>1998-2002-2006     </td><td>Brazil </td></tr>\n",
              "\t<tr><td>Gerd Muller     </td><td>14</td><td>1970-1974          </td><td>Germany</td></tr>\n",
              "\t<tr><td>Just Fontaine   </td><td>13</td><td>1958               </td><td>France </td></tr>\n",
              "\t<tr><td>Pele            </td><td>12</td><td>1958-1962-1966-1970</td><td>Brazil </td></tr>\n",
              "\t<tr><td>Jurgen Klinsmann</td><td>11</td><td>1990-1994-1998     </td><td>Germany</td></tr>\n",
              "</tbody>\n",
              "</table>\n"
            ],
            "text/markdown": "\nA data.table: 6 × 4\n\n| player &lt;chr&gt; | goals &lt;int&gt; | years &lt;chr&gt; | country &lt;chr&gt; |\n|---|---|---|---|\n| Miroslav Klose   | 16 | 2002-2006-2010-2014 | Germany |\n| Ronaldo          | 15 | 1998-2002-2006      | Brazil  |\n| Gerd Muller      | 14 | 1970-1974           | Germany |\n| Just Fontaine    | 13 | 1958                | France  |\n| Pele             | 12 | 1958-1962-1966-1970 | Brazil  |\n| Jurgen Klinsmann | 11 | 1990-1994-1998      | Germany |\n\n",
            "text/latex": "A data.table: 6 × 4\n\\begin{tabular}{llll}\n player & goals & years & country\\\\\n <chr> & <int> & <chr> & <chr>\\\\\n\\hline\n\t Miroslav Klose   & 16 & 2002-2006-2010-2014 & Germany\\\\\n\t Ronaldo          & 15 & 1998-2002-2006      & Brazil \\\\\n\t Gerd Muller      & 14 & 1970-1974           & Germany\\\\\n\t Just Fontaine    & 13 & 1958                & France \\\\\n\t Pele             & 12 & 1958-1962-1966-1970 & Brazil \\\\\n\t Jurgen Klinsmann & 11 & 1990-1994-1998      & Germany\\\\\n\\end{tabular}\n",
            "text/plain": [
              "  player           goals years               country\n",
              "1 Miroslav Klose   16    2002-2006-2010-2014 Germany\n",
              "2 Ronaldo          15    1998-2002-2006      Brazil \n",
              "3 Gerd Muller      14    1970-1974           Germany\n",
              "4 Just Fontaine    13    1958                France \n",
              "5 Pele             12    1958-1962-1966-1970 Brazil \n",
              "6 Jurgen Klinsmann 11    1990-1994-1998      Germany"
            ]
          },
          "metadata": {}
        }
      ]
    },
    {
      "cell_type": "markdown",
      "source": [
        "# 날짜 파싱"
      ],
      "metadata": {
        "id": "ZtFgapU3ga0n"
      }
    },
    {
      "cell_type": "code",
      "source": [
        "parse_date_time(df$years, orders=(\"0y\")) %>% head"
      ],
      "metadata": {
        "colab": {
          "base_uri": "https://localhost:8080/",
          "height": 92
        },
        "id": "rT_2T501gb8p",
        "outputId": "b70e9e4a-aa1e-40d4-f0e8-8313444b6800"
      },
      "execution_count": null,
      "outputs": [
        {
          "output_type": "stream",
          "name": "stderr",
          "text": [
            "Warning message:\n",
            "“ 516 failed to parse.”\n"
          ]
        },
        {
          "output_type": "display_data",
          "data": {
            "text/plain": [
              "[1] NA               NA               NA               \"1958-01-01 UTC\"\n",
              "[5] NA               NA              "
            ]
          },
          "metadata": {}
        }
      ]
    },
    {
      "cell_type": "markdown",
      "source": [
        "- 일단 먼저 특수문자('-') 제거해서 나눠야함 "
      ],
      "metadata": {
        "id": "b-SMOIA5ibsh"
      }
    },
    {
      "cell_type": "code",
      "source": [
        "?strsplit"
      ],
      "metadata": {
        "id": "FG5ExNLKipzi"
      },
      "execution_count": null,
      "outputs": []
    },
    {
      "cell_type": "code",
      "source": [
        "     strsplit(x, \"\", fixed=TRUE)\n",
        "     tstrsplit(x, \"\", fixed=TRUE)\n",
        "     tstrsplit(x, \"\", fixed=TRUE, fill=\"<NA>\")"
      ],
      "metadata": {
        "id": "MUrnhxB1i-Xm"
      },
      "execution_count": null,
      "outputs": []
    },
    {
      "cell_type": "code",
      "source": [
        "df %>% select(years)  %>% head"
      ],
      "metadata": {
        "colab": {
          "base_uri": "https://localhost:8080/",
          "height": 286
        },
        "id": "7VG6Fb9UjDz-",
        "outputId": "c5ca794b-af1b-41e4-c844-61269f4a10bc"
      },
      "execution_count": null,
      "outputs": [
        {
          "output_type": "display_data",
          "data": {
            "text/html": [
              "<table class=\"dataframe\">\n",
              "<caption>A data.table: 6 × 1</caption>\n",
              "<thead>\n",
              "\t<tr><th scope=col>years</th></tr>\n",
              "\t<tr><th scope=col>&lt;chr&gt;</th></tr>\n",
              "</thead>\n",
              "<tbody>\n",
              "\t<tr><td>2002-2006-2010-2014</td></tr>\n",
              "\t<tr><td>1998-2002-2006     </td></tr>\n",
              "\t<tr><td>1970-1974          </td></tr>\n",
              "\t<tr><td>1958               </td></tr>\n",
              "\t<tr><td>1958-1962-1966-1970</td></tr>\n",
              "\t<tr><td>1990-1994-1998     </td></tr>\n",
              "</tbody>\n",
              "</table>\n"
            ],
            "text/markdown": "\nA data.table: 6 × 1\n\n| years &lt;chr&gt; |\n|---|\n| 2002-2006-2010-2014 |\n| 1998-2002-2006      |\n| 1970-1974           |\n| 1958                |\n| 1958-1962-1966-1970 |\n| 1990-1994-1998      |\n\n",
            "text/latex": "A data.table: 6 × 1\n\\begin{tabular}{l}\n years\\\\\n <chr>\\\\\n\\hline\n\t 2002-2006-2010-2014\\\\\n\t 1998-2002-2006     \\\\\n\t 1970-1974          \\\\\n\t 1958               \\\\\n\t 1958-1962-1966-1970\\\\\n\t 1990-1994-1998     \\\\\n\\end{tabular}\n",
            "text/plain": [
              "  years              \n",
              "1 2002-2006-2010-2014\n",
              "2 1998-2002-2006     \n",
              "3 1970-1974          \n",
              "4 1958               \n",
              "5 1958-1962-1966-1970\n",
              "6 1990-1994-1998     "
            ]
          },
          "metadata": {}
        }
      ]
    },
    {
      "cell_type": "code",
      "source": [
        "strsplit(df$years, \"-\", fixed=TRUE) %>% head"
      ],
      "metadata": {
        "colab": {
          "base_uri": "https://localhost:8080/",
          "height": 149
        },
        "id": "84AF6ZOPi--U",
        "outputId": "bf87ca96-3d13-4170-b178-0bb74048f7c6"
      },
      "execution_count": null,
      "outputs": [
        {
          "output_type": "display_data",
          "data": {
            "text/html": [
              "<ol>\n",
              "\t<li><style>\n",
              ".list-inline {list-style: none; margin:0; padding: 0}\n",
              ".list-inline>li {display: inline-block}\n",
              ".list-inline>li:not(:last-child)::after {content: \"\\00b7\"; padding: 0 .5ex}\n",
              "</style>\n",
              "<ol class=list-inline><li>'2002'</li><li>'2006'</li><li>'2010'</li><li>'2014'</li></ol>\n",
              "</li>\n",
              "\t<li><style>\n",
              ".list-inline {list-style: none; margin:0; padding: 0}\n",
              ".list-inline>li {display: inline-block}\n",
              ".list-inline>li:not(:last-child)::after {content: \"\\00b7\"; padding: 0 .5ex}\n",
              "</style>\n",
              "<ol class=list-inline><li>'1998'</li><li>'2002'</li><li>'2006'</li></ol>\n",
              "</li>\n",
              "\t<li><style>\n",
              ".list-inline {list-style: none; margin:0; padding: 0}\n",
              ".list-inline>li {display: inline-block}\n",
              ".list-inline>li:not(:last-child)::after {content: \"\\00b7\"; padding: 0 .5ex}\n",
              "</style>\n",
              "<ol class=list-inline><li>'1970'</li><li>'1974'</li></ol>\n",
              "</li>\n",
              "\t<li>'1958'</li>\n",
              "\t<li><style>\n",
              ".list-inline {list-style: none; margin:0; padding: 0}\n",
              ".list-inline>li {display: inline-block}\n",
              ".list-inline>li:not(:last-child)::after {content: \"\\00b7\"; padding: 0 .5ex}\n",
              "</style>\n",
              "<ol class=list-inline><li>'1958'</li><li>'1962'</li><li>'1966'</li><li>'1970'</li></ol>\n",
              "</li>\n",
              "\t<li><style>\n",
              ".list-inline {list-style: none; margin:0; padding: 0}\n",
              ".list-inline>li {display: inline-block}\n",
              ".list-inline>li:not(:last-child)::after {content: \"\\00b7\"; padding: 0 .5ex}\n",
              "</style>\n",
              "<ol class=list-inline><li>'1990'</li><li>'1994'</li><li>'1998'</li></ol>\n",
              "</li>\n",
              "</ol>\n"
            ],
            "text/markdown": "1. 1. '2002'\n2. '2006'\n3. '2010'\n4. '2014'\n\n\n\n2. 1. '1998'\n2. '2002'\n3. '2006'\n\n\n\n3. 1. '1970'\n2. '1974'\n\n\n\n4. '1958'\n5. 1. '1958'\n2. '1962'\n3. '1966'\n4. '1970'\n\n\n\n6. 1. '1990'\n2. '1994'\n3. '1998'\n\n\n\n\n\n",
            "text/latex": "\\begin{enumerate}\n\\item \\begin{enumerate*}\n\\item '2002'\n\\item '2006'\n\\item '2010'\n\\item '2014'\n\\end{enumerate*}\n\n\\item \\begin{enumerate*}\n\\item '1998'\n\\item '2002'\n\\item '2006'\n\\end{enumerate*}\n\n\\item \\begin{enumerate*}\n\\item '1970'\n\\item '1974'\n\\end{enumerate*}\n\n\\item '1958'\n\\item \\begin{enumerate*}\n\\item '1958'\n\\item '1962'\n\\item '1966'\n\\item '1970'\n\\end{enumerate*}\n\n\\item \\begin{enumerate*}\n\\item '1990'\n\\item '1994'\n\\item '1998'\n\\end{enumerate*}\n\n\\end{enumerate}\n",
            "text/plain": [
              "[[1]]\n",
              "[1] \"2002\" \"2006\" \"2010\" \"2014\"\n",
              "\n",
              "[[2]]\n",
              "[1] \"1998\" \"2002\" \"2006\"\n",
              "\n",
              "[[3]]\n",
              "[1] \"1970\" \"1974\"\n",
              "\n",
              "[[4]]\n",
              "[1] \"1958\"\n",
              "\n",
              "[[5]]\n",
              "[1] \"1958\" \"1962\" \"1966\" \"1970\"\n",
              "\n",
              "[[6]]\n",
              "[1] \"1990\" \"1994\" \"1998\"\n"
            ]
          },
          "metadata": {}
        }
      ]
    },
    {
      "cell_type": "code",
      "source": [
        "#strsplit(df$years, \"-\", fixed=TRUE)  %>% transpose -> t_str_split"
      ],
      "metadata": {
        "id": "DXH5-XPOnnCV"
      },
      "execution_count": null,
      "outputs": []
    },
    {
      "cell_type": "code",
      "source": [
        "strsplit(df$years, \"-\", fixed=TRUE)  %>% transpose(fill=\" \") -> t_str_split"
      ],
      "metadata": {
        "id": "Kx2ktCCYoFiD"
      },
      "execution_count": null,
      "outputs": []
    },
    {
      "cell_type": "code",
      "source": [
        "t_str_split[[1]] -> t_str_split_first"
      ],
      "metadata": {
        "id": "z-fUOOQcoTHU"
      },
      "execution_count": null,
      "outputs": []
    },
    {
      "cell_type": "code",
      "source": [
        "df %>% class"
      ],
      "metadata": {
        "colab": {
          "base_uri": "https://localhost:8080/",
          "height": 34
        },
        "id": "3I2dhtWcop9x",
        "outputId": "2f627bb0-1dba-4d9d-a39b-d2fc73570f36"
      },
      "execution_count": null,
      "outputs": [
        {
          "output_type": "display_data",
          "data": {
            "text/html": [
              "<style>\n",
              ".list-inline {list-style: none; margin:0; padding: 0}\n",
              ".list-inline>li {display: inline-block}\n",
              ".list-inline>li:not(:last-child)::after {content: \"\\00b7\"; padding: 0 .5ex}\n",
              "</style>\n",
              "<ol class=list-inline><li>'data.table'</li><li>'data.frame'</li></ol>\n"
            ],
            "text/markdown": "1. 'data.table'\n2. 'data.frame'\n\n\n",
            "text/latex": "\\begin{enumerate*}\n\\item 'data.table'\n\\item 'data.frame'\n\\end{enumerate*}\n",
            "text/plain": [
              "[1] \"data.table\" \"data.frame\""
            ]
          },
          "metadata": {}
        }
      ]
    },
    {
      "cell_type": "code",
      "source": [
        "#df['years_1st']=tstrsplit(df$years, \"-\", fixed=TRUE)[[1]]\n",
        "#df['years_2nd']=tstrsplit(df$years, \"-\", fixed=TRUE)[[2]]\n",
        "#df['years_3rd']=tstrsplit(df$years, \"-\", fixed=TRUE)[[3]]\n",
        "#df['years_4th']=tstrsplit(df$years, \"-\", fixed=TRUE)[[4]]"
      ],
      "metadata": {
        "id": "9h35rFw6kvtT"
      },
      "execution_count": null,
      "outputs": []
    },
    {
      "cell_type": "code",
      "source": [
        "df [tstrsplit(df$years, \"-\", fixed=TRUE)[[1]], on = .(years), ]"
      ],
      "metadata": {
        "colab": {
          "base_uri": "https://localhost:8080/",
          "height": 381
        },
        "id": "TneeiRCImrIy",
        "outputId": "af621ab5-e82a-470a-d5f5-041b3a07f219"
      },
      "execution_count": null,
      "outputs": [
        {
          "output_type": "error",
          "ename": "ERROR",
          "evalue": "ignored",
          "traceback": [
            "Error in vecseq(f__, len__, if (allow.cartesian || notjoin || !anyDuplicated(f__, : Join results in 51704 rows; more than 2590 = nrow(x)+nrow(i). Check for duplicate key values in i each of which join to the same group in x over and over again. If that's ok, try by=.EACHI to run j for each group to avoid the large allocation. If you are sure you wish to proceed, rerun with allow.cartesian=TRUE. Otherwise, please search for this error message in the FAQ, Wiki, Stack Overflow and data.table issue tracker for advice.\nTraceback:\n",
            "1. df[tstrsplit(df$years, \"-\", fixed = TRUE)[[1]], on = .(years), \n .     ]",
            "2. `[.data.table`(df, tstrsplit(df$years, \"-\", fixed = TRUE)[[1]], \n .     on = .(years), )",
            "3. vecseq(f__, len__, if (allow.cartesian || notjoin || !anyDuplicated(f__, \n .     incomparables = c(0L, NA_integer_))) {\n .     NULL\n . } else as.double(nrow(x) + nrow(i)))"
          ]
        }
      ]
    },
    {
      "cell_type": "code",
      "source": [
        "tstrsplit(df$years, \"-\", fixed=TRUE)[[1]] %>% as.vector = df['years_1st']"
      ],
      "metadata": {
        "colab": {
          "base_uri": "https://localhost:8080/",
          "height": 307
        },
        "id": "1vbFSL4MkEMo",
        "outputId": "fcd43e8f-732f-4c76-8dab-f9538f367c14"
      },
      "execution_count": null,
      "outputs": [
        {
          "output_type": "error",
          "ename": "ERROR",
          "evalue": "ignored",
          "traceback": [
            "Error in `[.data.table`(df, \"years_1st\"): When i is a data.table (or character vector), the columns to join by must be specified using 'on=' argument (see ?data.table), by keying x (i.e. sorted, and, marked as sorted, see ?setkey), or by sharing column names between x and i (i.e., a natural join). Keyed joins might have further speed benefits on very large data due to x being sorted in RAM.\nTraceback:\n",
            "1. df[\"years_1st\"]",
            "2. `[.data.table`(df, \"years_1st\")",
            "3. stop(\"When i is a data.table (or character vector), the columns to join by must be specified using 'on=' argument (see ?data.table), by keying x (i.e. sorted, and, marked as sorted, see ?setkey), or by sharing column names between x and i (i.e., a natural join). Keyed joins might have further speed benefits on very large data due to x being sorted in RAM.\")"
          ]
        }
      ]
    },
    {
      "cell_type": "code",
      "source": [
        "tstrsplit(df$years, \"-\", fixed=TRUE, fill=\" \")"
      ],
      "metadata": {
        "id": "lws6TgTHlbS1",
        "colab": {
          "base_uri": "https://localhost:8080/",
          "height": 1000
        },
        "outputId": "f0751dd5-c4ed-47e6-a430-a1edcc99a69f"
      },
      "execution_count": null,
      "outputs": [
        {
          "output_type": "display_data",
          "data": {
            "text/html": [
              "<ol>\n",
              "\t<li><style>\n",
              ".list-inline {list-style: none; margin:0; padding: 0}\n",
              ".list-inline>li {display: inline-block}\n",
              ".list-inline>li:not(:last-child)::after {content: \"\\00b7\"; padding: 0 .5ex}\n",
              "</style>\n",
              "<ol class=list-inline><li>'2002'</li><li>'1998'</li><li>'1970'</li><li>'1958'</li><li>'1958'</li><li>'1990'</li><li>'1954'</li><li>'1994'</li><li>'1986'</li><li>'2010'</li><li>'1954'</li><li>'1970'</li><li>'1974'</li><li>'1950'</li><li>'1966'</li><li>'1958'</li><li>'1978'</li><li>'1958'</li><li>'1990'</li><li>'1978'</li><li>'1998'</li><li>'1966'</li><li>'2006'</li><li>'1982'</li><li>'1930'</li><li>'1934'</li><li>'1998'</li><li>'1986'</li><li>'1950'</li><li>'1986'</li><li>'1934'</li><li>'1954'</li><li>'1958'</li><li>'1974'</li><li>'1974'</li><li>'2006'</li><li>'2010'</li><li>'1974'</li><li>'2006'</li><li>'1954'</li><li>'1994'</li><li>'2014'</li><li>'1970'</li><li>'1994'</li><li>'2014'</li><li>'1998'</li><li>'2018'</li><li>'1998'</li><li>'1962'</li><li>'1986'</li><li>'1954'</li><li>'2006'</li><li>'1934'</li><li>'1990'</li><li>'1994'</li><li>'1974'</li><li>'2006'</li><li>'2006'</li><li>'2006'</li><li>'1978'</li><li>'1994'</li><li>'1954'</li><li>'2002'</li><li>'2010'</li><li>'2006'</li><li>'1978'</li><li>'2014'</li><li>'1994'</li><li>'1958'</li><li>'1990'</li><li>'1978'</li><li>'0'</li><li>'2014'</li><li>'2014'</li><li>'1990'</li><li>'2002'</li><li>'1966'</li><li>'1978'</li><li>'1998'</li><li>'1966'</li><li>'2006'</li><li>'1938'</li><li>'1938'</li><li>'1974'</li><li>'1958'</li><li>'1950'</li><li>'1986'</li><li>'1994'</li><li>'1998'</li><li>'1998'</li><li>'1994'</li><li>'2010'</li><li>'1930'</li><li>'1950'</li><li>'2002'</li><li>'1958'</li><li>'1978'</li><li>'1990'</li><li>'1998'</li><li>'1974'</li><li>'1978'</li><li>'1982'</li><li>'1982'</li><li>'1950'</li><li>'1982'</li><li>'1998'</li><li>'1962'</li><li>'1930'</li><li>'1958'</li><li>'1986'</li><li>'1962'</li><li>'1998'</li><li>'2018'</li><li>'2018'</li><li>'1958'</li><li>'1978'</li><li>'1998'</li><li>'1986'</li><li>'1974'</li><li>'1934'</li><li>'1954'</li><li>'1962'</li><li>'1966'</li><li>'1954'</li><li>'1954'</li><li>'1982'</li><li>'1938'</li><li>'1934'</li><li>'2010'</li><li>'1998'</li><li>'2010'</li><li>'2014'</li><li>'1974'</li><li>'1938'</li><li>'2002'</li><li>'1990'</li><li>'2018'</li><li>'2010'</li><li>'1986'</li><li>'2006'</li><li>'1950'</li><li>'1990'</li><li>'1994'</li><li>'1974'</li><li>'1958'</li><li>'1994'</li><li>'1958'</li><li>'1934'</li><li>'1954'</li><li>'2014'</li><li>'1954'</li><li>'1950'</li><li>'2006'</li><li>'1930'</li><li>'1986'</li><li>'1970'</li><li>'1962'</li><li>'1966'</li><li>'1962'</li><li>'1966'</li><li>'1986'</li><li>'1958'</li><li>'1978'</li><li>'1930'</li><li>'2006'</li><li>'2006'</li><li>'2014'</li><li>'1954'</li><li>'1954'</li><li>'1954'</li><li>'1986'</li><li>'2018'</li><li>'1986'</li><li>'1962'</li><li>'1950'</li><li>'1954'</li><li>'1978'</li><li>'1974'</li><li>'2010'</li><li>'1982'</li><li>'1938'</li><li>'1930'</li><li>'1938'</li><li>'1998'</li><li>'1966'</li><li>'2002'</li><li>'2018'</li><li>'2002'</li><li>'2002'</li><li>'1962'</li><li>'0'</li><li>'2002'</li><li>'2014'</li><li>'1998'</li><li>'2006'</li><li>'1966'</li><li>'1954'</li><li>'1990'</li><li>'2014'</li><li>'1982'</li><li>⋯</li><li>'2006'</li><li>'2010'</li><li>'2002'</li><li>'2010'</li><li>'2002'</li><li>'2010'</li><li>'2010'</li><li>'1998'</li><li>'2010'</li><li>'2002'</li><li>'2010'</li><li>'2002'</li><li>'1998'</li><li>'2010'</li><li>'1986'</li><li>'1986'</li><li>'1990'</li><li>'2014'</li><li>'2014'</li><li>'1986'</li><li>'2002'</li><li>'2002'</li><li>'1986'</li><li>'2006'</li><li>'0'</li><li>'2002'</li><li>'2002'</li><li>'2018'</li><li>'1962'</li><li>'1966'</li><li>'1978'</li><li>'2018'</li><li>'0'</li><li>'1934'</li><li>'1978'</li><li>'1986'</li><li>'1966'</li><li>'1986'</li><li>'1990'</li><li>'0'</li><li>'1950'</li><li>'2018'</li><li>'1978'</li><li>'2006'</li><li>'1998'</li><li>'1934'</li><li>'2014'</li><li>'2002'</li><li>'2018'</li><li>'1962'</li><li>'1966'</li><li>'2002'</li><li>'1966'</li><li>'1982'</li><li>'1986'</li><li>'1982'</li><li>'2002'</li><li>'1982'</li><li>'2002'</li><li>'2002'</li><li>'2018'</li><li>'1934'</li><li>'1990'</li><li>'2018'</li><li>'1970'</li><li>'1958'</li><li>'1934'</li><li>'1934'</li><li>'1990'</li><li>'2002'</li><li>'1950'</li><li>'1994'</li><li>'1978'</li><li>'1950'</li><li>'0'</li><li>'2002'</li><li>'2018'</li><li>'1974'</li><li>'1970'</li><li>'1950'</li><li>'2006'</li><li>'1938'</li><li>'1994'</li><li>'1994'</li><li>'2018'</li><li>'2010'</li><li>'1934'</li><li>'2014'</li><li>'1966'</li><li>'1962'</li><li>'2014'</li><li>'2006'</li><li>'1994'</li><li>'0'</li><li>'1938'</li><li>'1962'</li><li>'2018'</li><li>'2006'</li><li>'2018'</li><li>'2002'</li><li>'2018'</li><li>'1978'</li><li>'1978'</li><li>'2002'</li><li>'2002'</li><li>'1978'</li><li>'2006'</li><li>'2018'</li><li>'1998'</li><li>'2002'</li><li>'1954'</li><li>'1954'</li><li>'2002'</li><li>'2002'</li><li>'1990'</li><li>'1990'</li><li>'2006'</li><li>'2006'</li><li>'2006'</li><li>'0'</li><li>'1954'</li><li>'0'</li><li>'1962'</li><li>'1962'</li><li>'1970'</li><li>'1990'</li><li>'1986'</li><li>'2018'</li><li>'2014'</li><li>'1970'</li><li>'2002'</li><li>'1970'</li><li>'1974'</li><li>'2010'</li><li>'2010'</li><li>'1950'</li><li>'2002'</li><li>'1962'</li><li>'2002'</li><li>'1930'</li><li>'1950'</li><li>'2010'</li><li>'2014'</li><li>'1930'</li><li>'1990'</li><li>'1934'</li><li>'1950'</li><li>'2014'</li><li>'2014'</li><li>'2002'</li><li>'1990'</li><li>'2002'</li><li>'1994'</li><li>'1950'</li><li>'1990'</li><li>'1986'</li><li>'1970'</li><li>'1982'</li><li>'1982'</li><li>'1966'</li><li>'1982'</li><li>'1982'</li><li>'1990'</li><li>'1982'</li><li>'1958'</li><li>'1970'</li><li>'1962'</li><li>'1982'</li><li>'1986'</li><li>'1986'</li><li>'1986'</li><li>'1982'</li><li>'1958'</li><li>'0'</li><li>'1990'</li><li>'1958'</li><li>'1958'</li><li>'1950'</li><li>'1974'</li><li>'1974'</li><li>'1982'</li><li>'1974'</li><li>'1930'</li><li>'1962'</li><li>'1998'</li><li>'1998'</li><li>'1954'</li><li>'1974'</li><li>'1950'</li><li>'1958'</li><li>'1974'</li><li>'1974'</li><li>'1962'</li><li>'1958'</li><li>'1930'</li><li>'1962'</li><li>'1982'</li><li>'1930'</li><li>'1930'</li><li>'1954'</li></ol>\n",
              "</li>\n",
              "\t<li><style>\n",
              ".list-inline {list-style: none; margin:0; padding: 0}\n",
              ".list-inline>li {display: inline-block}\n",
              ".list-inline>li:not(:last-child)::after {content: \"\\00b7\"; padding: 0 .5ex}\n",
              "</style>\n",
              "<ol class=list-inline><li>'2006'</li><li>'2002'</li><li>'1974'</li><li>' '</li><li>'1962'</li><li>'1994'</li><li>' '</li><li>'1998'</li><li>'1990'</li><li>'2014'</li><li>'1958'</li><li>'1978'</li><li>'1978'</li><li>' '</li><li>'1970'</li><li>'1962'</li><li>'1982'</li><li>'1962'</li><li>'1994'</li><li>'1982'</li><li>'2002'</li><li>' '</li><li>'2010'</li><li>'1986'</li><li>' '</li><li>'1938'</li><li>'2002'</li><li>'1990'</li><li>'1954'</li><li>'1990'</li><li>'1938'</li><li>'1958'</li><li>'1962'</li><li>'1978'</li><li>'1978'</li><li>'2010'</li><li>'2014'</li><li>'1978'</li><li>'2010'</li><li>' '</li><li>'1998'</li><li>'2018'</li><li>'1974'</li><li>'1998'</li><li>' '</li><li>'2002'</li><li>' '</li><li>'2002'</li><li>'1966'</li><li>'1990'</li><li>' '</li><li>'2010'</li><li>'1938'</li><li>' '</li><li>'1998'</li><li>'1978'</li><li>'2010'</li><li>'2010'</li><li>'2010'</li><li>'1982'</li><li>' '</li><li>' '</li><li>'2010'</li><li>'2014'</li><li>'2010'</li><li>'1982'</li><li>'2018'</li><li>'1998'</li><li>'1962'</li><li>'1994'</li><li>'1982'</li><li>' '</li><li>'2018'</li><li>'2018'</li><li>' '</li><li>'2010'</li><li>'1970'</li><li>'1982'</li><li>'2002'</li><li>'1970'</li><li>'2010'</li><li>' '</li><li>' '</li><li>'1978'</li><li>' '</li><li>' '</li><li>'1990'</li><li>'1998'</li><li>'2002'</li><li>'2002'</li><li>' '</li><li>'2014'</li><li>' '</li><li>'1954'</li><li>'2006'</li><li>'1962'</li><li>'1982'</li><li>'1994'</li><li>'2002'</li><li>'1978'</li><li>' '</li><li>'1986'</li><li>'1986'</li><li>' '</li><li>'1986'</li><li>' '</li><li>'1966'</li><li>' '</li><li>' '</li><li>' '</li><li>'1966'</li><li>'2002'</li><li>' '</li><li>' '</li><li>' '</li><li>'1982'</li><li>'2002'</li><li>'1990'</li><li>'1982'</li><li>' '</li><li>' '</li><li>'1966'</li><li>' '</li><li>'1958'</li><li>'1962'</li><li>'1986'</li><li>' '</li><li>' '</li><li>'2014'</li><li>'2002'</li><li>'2014'</li><li>'2018'</li><li>'1978'</li><li>' '</li><li>'2006'</li><li>'1994'</li><li>' '</li><li>' '</li><li>'1990'</li><li>'2010'</li><li>' '</li><li>'1994'</li><li>' '</li><li>'1978'</li><li>' '</li><li>'2002'</li><li>' '</li><li>'1938'</li><li>' '</li><li>'2018'</li><li>' '</li><li>' '</li><li>'2010'</li><li>' '</li><li>' '</li><li>' '</li><li>'1966'</li><li>' '</li><li>' '</li><li>' '</li><li>'1990'</li><li>' '</li><li>'1982'</li><li>' '</li><li>'2010'</li><li>'2010'</li><li>'2018'</li><li>' '</li><li>' '</li><li>' '</li><li>'1990'</li><li>' '</li><li>'1990'</li><li>' '</li><li>'1954'</li><li>'1958'</li><li>' '</li><li>'1978'</li><li>' '</li><li>' '</li><li>' '</li><li>' '</li><li>' '</li><li>' '</li><li>'1970'</li><li>'2010'</li><li>' '</li><li>'2006'</li><li>'2006'</li><li>' '</li><li>' '</li><li>'2006'</li><li>' '</li><li>'2002'</li><li>'2010'</li><li>' '</li><li>' '</li><li>' '</li><li>' '</li><li>'1986'</li><li>⋯</li><li>'2010'</li><li>' '</li><li>' '</li><li>' '</li><li>' '</li><li>' '</li><li>' '</li><li>'2002'</li><li>' '</li><li>' '</li><li>' '</li><li>'2010'</li><li>'2002'</li><li>' '</li><li>'1990'</li><li>' '</li><li>' '</li><li>' '</li><li>' '</li><li>' '</li><li>'2006'</li><li>'2006'</li><li>' '</li><li>'2010'</li><li>' '</li><li>'2006'</li><li>'2006'</li><li>' '</li><li>'1966'</li><li>' '</li><li>' '</li><li>' '</li><li>' '</li><li>' '</li><li>' '</li><li>' '</li><li>' '</li><li>' '</li><li>' '</li><li>' '</li><li>' '</li><li>' '</li><li>'1982'</li><li>' '</li><li>' '</li><li>' '</li><li>' '</li><li>' '</li><li>' '</li><li>'1966'</li><li>'1978'</li><li>'2006'</li><li>' '</li><li>' '</li><li>' '</li><li>' '</li><li>' '</li><li>' '</li><li>'2006'</li><li>'2006'</li><li>' '</li><li>' '</li><li>' '</li><li>' '</li><li>'1974'</li><li>' '</li><li>'1938'</li><li>' '</li><li>'1994'</li><li>'2006'</li><li>'1958'</li><li>' '</li><li>' '</li><li>'1958'</li><li>' '</li><li>'2006'</li><li>' '</li><li>' '</li><li>' '</li><li>' '</li><li>'2010'</li><li>'1950'</li><li>' '</li><li>' '</li><li>' '</li><li>' '</li><li>' '</li><li>' '</li><li>' '</li><li>'1966'</li><li>' '</li><li>'2010'</li><li>' '</li><li>' '</li><li>' '</li><li>' '</li><li>' '</li><li>' '</li><li>' '</li><li>' '</li><li>' '</li><li>' '</li><li>' '</li><li>'2006'</li><li>'2006'</li><li>' '</li><li>' '</li><li>' '</li><li>' '</li><li>' '</li><li>' '</li><li>' '</li><li>' '</li><li>' '</li><li>' '</li><li>' '</li><li>' '</li><li>' '</li><li>' '</li><li>' '</li><li>' '</li><li>' '</li><li>' '</li><li>'1966'</li><li>'1974'</li><li>' '</li><li>'1990'</li><li>' '</li><li>' '</li><li>' '</li><li>' '</li><li>' '</li><li>' '</li><li>' '</li><li>' '</li><li>' '</li><li>' '</li><li>'1966'</li><li>' '</li><li>' '</li><li>' '</li><li>' '</li><li>' '</li><li>' '</li><li>'1994'</li><li>' '</li><li>' '</li><li>' '</li><li>' '</li><li>' '</li><li>' '</li><li>'2006'</li><li>'1998'</li><li>' '</li><li>'1994'</li><li>'1990'</li><li>' '</li><li>'1986'</li><li>' '</li><li>' '</li><li>'1986'</li><li>' '</li><li>' '</li><li>' '</li><li>' '</li><li>' '</li><li>' '</li><li>' '</li><li>'1990'</li><li>'1990'</li><li>' '</li><li>' '</li><li>' '</li><li>' '</li><li>' '</li><li>' '</li><li>' '</li><li>'1954'</li><li>' '</li><li>' '</li><li>' '</li><li>' '</li><li>' '</li><li>' '</li><li>' '</li><li>' '</li><li>'1958'</li><li>' '</li><li>' '</li><li>' '</li><li>' '</li><li>'1982'</li><li>' '</li><li>' '</li><li>' '</li><li>' '</li><li>'1990'</li><li>' '</li><li>' '</li><li>'1958'</li></ol>\n",
              "</li>\n",
              "\t<li><style>\n",
              ".list-inline {list-style: none; margin:0; padding: 0}\n",
              ".list-inline>li {display: inline-block}\n",
              ".list-inline>li:not(:last-child)::after {content: \"\\00b7\"; padding: 0 .5ex}\n",
              "</style>\n",
              "<ol class=list-inline><li>'2010'</li><li>'2006'</li><li>' '</li><li>' '</li><li>'1966'</li><li>'1998'</li><li>' '</li><li>'2002'</li><li>' '</li><li>' '</li><li>' '</li><li>'1982'</li><li>'1982'</li><li>' '</li><li>'1974'</li><li>' '</li><li>'1986'</li><li>'1966'</li><li>'1998'</li><li>' '</li><li>' '</li><li>' '</li><li>'2014'</li><li>'1990'</li><li>' '</li><li>' '</li><li>' '</li><li>'1994'</li><li>' '</li><li>' '</li><li>' '</li><li>'1962'</li><li>' '</li><li>' '</li><li>'1982'</li><li>'2014'</li><li>'2018'</li><li>'1982'</li><li>'2014'</li><li>' '</li><li>' '</li><li>' '</li><li>'1978'</li><li>' '</li><li>' '</li><li>' '</li><li>' '</li><li>'2006'</li><li>'1970'</li><li>'1994'</li><li>' '</li><li>'2014'</li><li>' '</li><li>' '</li><li>' '</li><li>' '</li><li>'2014'</li><li>'2014'</li><li>'2014'</li><li>'1986'</li><li>' '</li><li>' '</li><li>' '</li><li>' '</li><li>'2014'</li><li>' '</li><li>' '</li><li>'2002'</li><li>'1966'</li><li>' '</li><li>' '</li><li>' '</li><li>' '</li><li>' '</li><li>' '</li><li>' '</li><li>' '</li><li>'1986'</li><li>'2006'</li><li>'1974'</li><li>' '</li><li>' '</li><li>' '</li><li>' '</li><li>' '</li><li>' '</li><li>' '</li><li>'2002'</li><li>' '</li><li>'2006'</li><li>' '</li><li>'2018'</li><li>' '</li><li>' '</li><li>'2010'</li><li>' '</li><li>' '</li><li>'2002'</li><li>'2006'</li><li>' '</li><li>' '</li><li>' '</li><li>'1990'</li><li>' '</li><li>' '</li><li>' '</li><li>' '</li><li>' '</li><li>' '</li><li>' '</li><li>'1970'</li><li>'2006'</li><li>' '</li><li>' '</li><li>' '</li><li>'1986'</li><li>' '</li><li>'1994'</li><li>' '</li><li>' '</li><li>' '</li><li>' '</li><li>' '</li><li>' '</li><li>' '</li><li>' '</li><li>' '</li><li>' '</li><li>'2018'</li><li>' '</li><li>'2018'</li><li>' '</li><li>' '</li><li>' '</li><li>' '</li><li>' '</li><li>' '</li><li>' '</li><li>' '</li><li>'2014'</li><li>' '</li><li>' '</li><li>' '</li><li>' '</li><li>' '</li><li>'2006'</li><li>' '</li><li>' '</li><li>' '</li><li>' '</li><li>' '</li><li>' '</li><li>'2014'</li><li>' '</li><li>' '</li><li>' '</li><li>' '</li><li>' '</li><li>' '</li><li>' '</li><li>' '</li><li>' '</li><li>' '</li><li>' '</li><li>' '</li><li>' '</li><li>' '</li><li>' '</li><li>' '</li><li>' '</li><li>' '</li><li>' '</li><li>'1994'</li><li>' '</li><li>' '</li><li>'1962'</li><li>' '</li><li>'1982'</li><li>' '</li><li>' '</li><li>' '</li><li>' '</li><li>' '</li><li>' '</li><li>' '</li><li>' '</li><li>' '</li><li>' '</li><li>' '</li><li>' '</li><li>' '</li><li>' '</li><li>' '</li><li>'2006'</li><li>' '</li><li>' '</li><li>' '</li><li>' '</li><li>' '</li><li>' '</li><li>⋯</li><li>' '</li><li>' '</li><li>' '</li><li>' '</li><li>' '</li><li>' '</li><li>' '</li><li>' '</li><li>' '</li><li>' '</li><li>' '</li><li>' '</li><li>' '</li><li>' '</li><li>' '</li><li>' '</li><li>' '</li><li>' '</li><li>' '</li><li>' '</li><li>' '</li><li>' '</li><li>' '</li><li>' '</li><li>' '</li><li>' '</li><li>' '</li><li>' '</li><li>' '</li><li>' '</li><li>' '</li><li>' '</li><li>' '</li><li>' '</li><li>' '</li><li>' '</li><li>' '</li><li>' '</li><li>' '</li><li>' '</li><li>' '</li><li>' '</li><li>' '</li><li>' '</li><li>' '</li><li>' '</li><li>' '</li><li>' '</li><li>' '</li><li>' '</li><li>' '</li><li>'2010'</li><li>' '</li><li>' '</li><li>' '</li><li>' '</li><li>' '</li><li>' '</li><li>' '</li><li>' '</li><li>' '</li><li>' '</li><li>' '</li><li>' '</li><li>' '</li><li>' '</li><li>' '</li><li>' '</li><li>' '</li><li>' '</li><li>' '</li><li>' '</li><li>' '</li><li>' '</li><li>' '</li><li>' '</li><li>' '</li><li>' '</li><li>' '</li><li>' '</li><li>' '</li><li>' '</li><li>' '</li><li>' '</li><li>' '</li><li>' '</li><li>' '</li><li>' '</li><li>' '</li><li>' '</li><li>' '</li><li>' '</li><li>' '</li><li>' '</li><li>' '</li><li>' '</li><li>' '</li><li>' '</li><li>' '</li><li>' '</li><li>' '</li><li>' '</li><li>' '</li><li>' '</li><li>' '</li><li>' '</li><li>' '</li><li>' '</li><li>' '</li><li>' '</li><li>' '</li><li>' '</li><li>' '</li><li>' '</li><li>' '</li><li>' '</li><li>' '</li><li>' '</li><li>' '</li><li>' '</li><li>' '</li><li>' '</li><li>' '</li><li>'1970'</li><li>' '</li><li>' '</li><li>' '</li><li>' '</li><li>' '</li><li>' '</li><li>' '</li><li>' '</li><li>' '</li><li>' '</li><li>' '</li><li>' '</li><li>' '</li><li>'1970'</li><li>' '</li><li>' '</li><li>' '</li><li>' '</li><li>' '</li><li>' '</li><li>' '</li><li>' '</li><li>' '</li><li>' '</li><li>' '</li><li>' '</li><li>' '</li><li>' '</li><li>'2002'</li><li>' '</li><li>'1998'</li><li>' '</li><li>' '</li><li>' '</li><li>' '</li><li>' '</li><li>' '</li><li>' '</li><li>' '</li><li>' '</li><li>' '</li><li>' '</li><li>' '</li><li>' '</li><li>' '</li><li>' '</li><li>' '</li><li>' '</li><li>' '</li><li>' '</li><li>' '</li><li>' '</li><li>' '</li><li>' '</li><li>' '</li><li>' '</li><li>' '</li><li>' '</li><li>' '</li><li>' '</li><li>' '</li><li>' '</li><li>' '</li><li>' '</li><li>' '</li><li>' '</li><li>' '</li><li>' '</li><li>' '</li><li>' '</li><li>' '</li><li>' '</li><li>' '</li><li>' '</li><li>' '</li><li>' '</li></ol>\n",
              "</li>\n",
              "\t<li><style>\n",
              ".list-inline {list-style: none; margin:0; padding: 0}\n",
              ".list-inline>li {display: inline-block}\n",
              ".list-inline>li:not(:last-child)::after {content: \"\\00b7\"; padding: 0 .5ex}\n",
              "</style>\n",
              "<ol class=list-inline><li>'2014'</li><li>' '</li><li>' '</li><li>' '</li><li>'1970'</li><li>' '</li><li>' '</li><li>' '</li><li>' '</li><li>' '</li><li>' '</li><li>' '</li><li>' '</li><li>' '</li><li>' '</li><li>' '</li><li>' '</li><li>'1970'</li><li>' '</li><li>' '</li><li>' '</li><li>' '</li><li>' '</li><li>'1994'</li><li>' '</li><li>' '</li><li>' '</li><li>' '</li><li>' '</li><li>' '</li><li>' '</li><li>' '</li><li>' '</li><li>' '</li><li>' '</li><li>'2018'</li><li>' '</li><li>' '</li><li>'2018'</li><li>' '</li><li>' '</li><li>' '</li><li>' '</li><li>' '</li><li>' '</li><li>' '</li><li>' '</li><li>'2010'</li><li>' '</li><li>'1998'</li><li>' '</li><li>' '</li><li>' '</li><li>' '</li><li>' '</li><li>' '</li><li>' '</li><li>' '</li><li>' '</li><li>' '</li><li>' '</li><li>' '</li><li>' '</li><li>' '</li><li>' '</li><li>' '</li><li>' '</li><li>' '</li><li>' '</li><li>' '</li><li>' '</li><li>' '</li><li>' '</li><li>' '</li><li>' '</li><li>' '</li><li>' '</li><li>' '</li><li>' '</li><li>' '</li><li>' '</li><li>' '</li><li>' '</li><li>' '</li><li>' '</li><li>' '</li><li>' '</li><li>' '</li><li>' '</li><li>' '</li><li>' '</li><li>' '</li><li>' '</li><li>' '</li><li>' '</li><li>' '</li><li>' '</li><li>' '</li><li>' '</li><li>' '</li><li>' '</li><li>' '</li><li>' '</li><li>' '</li><li>' '</li><li>' '</li><li>' '</li><li>' '</li><li>' '</li><li>' '</li><li>' '</li><li>' '</li><li>' '</li><li>' '</li><li>' '</li><li>' '</li><li>' '</li><li>' '</li><li>' '</li><li>' '</li><li>' '</li><li>' '</li><li>' '</li><li>' '</li><li>' '</li><li>' '</li><li>' '</li><li>' '</li><li>' '</li><li>' '</li><li>' '</li><li>' '</li><li>' '</li><li>' '</li><li>' '</li><li>' '</li><li>' '</li><li>' '</li><li>' '</li><li>' '</li><li>' '</li><li>' '</li><li>' '</li><li>' '</li><li>' '</li><li>' '</li><li>' '</li><li>' '</li><li>' '</li><li>' '</li><li>' '</li><li>' '</li><li>' '</li><li>' '</li><li>' '</li><li>' '</li><li>' '</li><li>' '</li><li>' '</li><li>' '</li><li>' '</li><li>' '</li><li>' '</li><li>' '</li><li>' '</li><li>' '</li><li>' '</li><li>' '</li><li>' '</li><li>' '</li><li>' '</li><li>' '</li><li>'1998'</li><li>' '</li><li>' '</li><li>' '</li><li>' '</li><li>' '</li><li>' '</li><li>' '</li><li>' '</li><li>' '</li><li>' '</li><li>' '</li><li>' '</li><li>' '</li><li>' '</li><li>' '</li><li>' '</li><li>' '</li><li>' '</li><li>' '</li><li>' '</li><li>' '</li><li>' '</li><li>' '</li><li>' '</li><li>' '</li><li>' '</li><li>' '</li><li>⋯</li><li>' '</li><li>' '</li><li>' '</li><li>' '</li><li>' '</li><li>' '</li><li>' '</li><li>' '</li><li>' '</li><li>' '</li><li>' '</li><li>' '</li><li>' '</li><li>' '</li><li>' '</li><li>' '</li><li>' '</li><li>' '</li><li>' '</li><li>' '</li><li>' '</li><li>' '</li><li>' '</li><li>' '</li><li>' '</li><li>' '</li><li>' '</li><li>' '</li><li>' '</li><li>' '</li><li>' '</li><li>' '</li><li>' '</li><li>' '</li><li>' '</li><li>' '</li><li>' '</li><li>' '</li><li>' '</li><li>' '</li><li>' '</li><li>' '</li><li>' '</li><li>' '</li><li>' '</li><li>' '</li><li>' '</li><li>' '</li><li>' '</li><li>' '</li><li>' '</li><li>' '</li><li>' '</li><li>' '</li><li>' '</li><li>' '</li><li>' '</li><li>' '</li><li>' '</li><li>' '</li><li>' '</li><li>' '</li><li>' '</li><li>' '</li><li>' '</li><li>' '</li><li>' '</li><li>' '</li><li>' '</li><li>' '</li><li>' '</li><li>' '</li><li>' '</li><li>' '</li><li>' '</li><li>' '</li><li>' '</li><li>' '</li><li>' '</li><li>' '</li><li>' '</li><li>' '</li><li>' '</li><li>' '</li><li>' '</li><li>' '</li><li>' '</li><li>' '</li><li>' '</li><li>' '</li><li>' '</li><li>' '</li><li>' '</li><li>' '</li><li>' '</li><li>' '</li><li>' '</li><li>' '</li><li>' '</li><li>' '</li><li>' '</li><li>' '</li><li>' '</li><li>' '</li><li>' '</li><li>' '</li><li>' '</li><li>' '</li><li>' '</li><li>' '</li><li>' '</li><li>' '</li><li>' '</li><li>' '</li><li>' '</li><li>' '</li><li>' '</li><li>' '</li><li>' '</li><li>' '</li><li>' '</li><li>' '</li><li>' '</li><li>' '</li><li>' '</li><li>' '</li><li>' '</li><li>' '</li><li>' '</li><li>' '</li><li>' '</li><li>' '</li><li>' '</li><li>' '</li><li>' '</li><li>' '</li><li>' '</li><li>'1974'</li><li>' '</li><li>' '</li><li>' '</li><li>' '</li><li>' '</li><li>' '</li><li>' '</li><li>' '</li><li>' '</li><li>' '</li><li>' '</li><li>' '</li><li>' '</li><li>' '</li><li>' '</li><li>' '</li><li>' '</li><li>' '</li><li>' '</li><li>' '</li><li>' '</li><li>' '</li><li>' '</li><li>' '</li><li>' '</li><li>' '</li><li>' '</li><li>' '</li><li>' '</li><li>' '</li><li>' '</li><li>' '</li><li>' '</li><li>' '</li><li>' '</li><li>' '</li><li>' '</li><li>' '</li><li>' '</li><li>' '</li><li>' '</li><li>' '</li><li>' '</li><li>' '</li><li>' '</li><li>' '</li><li>' '</li><li>' '</li><li>' '</li><li>' '</li><li>' '</li><li>' '</li><li>' '</li><li>' '</li><li>' '</li><li>' '</li><li>' '</li><li>' '</li><li>' '</li><li>' '</li><li>' '</li><li>' '</li></ol>\n",
              "</li>\n",
              "</ol>\n"
            ],
            "text/markdown": "1. 1. '2002'\n2. '1998'\n3. '1970'\n4. '1958'\n5. '1958'\n6. '1990'\n7. '1954'\n8. '1994'\n9. '1986'\n10. '2010'\n11. '1954'\n12. '1970'\n13. '1974'\n14. '1950'\n15. '1966'\n16. '1958'\n17. '1978'\n18. '1958'\n19. '1990'\n20. '1978'\n21. '1998'\n22. '1966'\n23. '2006'\n24. '1982'\n25. '1930'\n26. '1934'\n27. '1998'\n28. '1986'\n29. '1950'\n30. '1986'\n31. '1934'\n32. '1954'\n33. '1958'\n34. '1974'\n35. '1974'\n36. '2006'\n37. '2010'\n38. '1974'\n39. '2006'\n40. '1954'\n41. '1994'\n42. '2014'\n43. '1970'\n44. '1994'\n45. '2014'\n46. '1998'\n47. '2018'\n48. '1998'\n49. '1962'\n50. '1986'\n51. '1954'\n52. '2006'\n53. '1934'\n54. '1990'\n55. '1994'\n56. '1974'\n57. '2006'\n58. '2006'\n59. '2006'\n60. '1978'\n61. '1994'\n62. '1954'\n63. '2002'\n64. '2010'\n65. '2006'\n66. '1978'\n67. '2014'\n68. '1994'\n69. '1958'\n70. '1990'\n71. '1978'\n72. '0'\n73. '2014'\n74. '2014'\n75. '1990'\n76. '2002'\n77. '1966'\n78. '1978'\n79. '1998'\n80. '1966'\n81. '2006'\n82. '1938'\n83. '1938'\n84. '1974'\n85. '1958'\n86. '1950'\n87. '1986'\n88. '1994'\n89. '1998'\n90. '1998'\n91. '1994'\n92. '2010'\n93. '1930'\n94. '1950'\n95. '2002'\n96. '1958'\n97. '1978'\n98. '1990'\n99. '1998'\n100. '1974'\n101. '1978'\n102. '1982'\n103. '1982'\n104. '1950'\n105. '1982'\n106. '1998'\n107. '1962'\n108. '1930'\n109. '1958'\n110. '1986'\n111. '1962'\n112. '1998'\n113. '2018'\n114. '2018'\n115. '1958'\n116. '1978'\n117. '1998'\n118. '1986'\n119. '1974'\n120. '1934'\n121. '1954'\n122. '1962'\n123. '1966'\n124. '1954'\n125. '1954'\n126. '1982'\n127. '1938'\n128. '1934'\n129. '2010'\n130. '1998'\n131. '2010'\n132. '2014'\n133. '1974'\n134. '1938'\n135. '2002'\n136. '1990'\n137. '2018'\n138. '2010'\n139. '1986'\n140. '2006'\n141. '1950'\n142. '1990'\n143. '1994'\n144. '1974'\n145. '1958'\n146. '1994'\n147. '1958'\n148. '1934'\n149. '1954'\n150. '2014'\n151. '1954'\n152. '1950'\n153. '2006'\n154. '1930'\n155. '1986'\n156. '1970'\n157. '1962'\n158. '1966'\n159. '1962'\n160. '1966'\n161. '1986'\n162. '1958'\n163. '1978'\n164. '1930'\n165. '2006'\n166. '2006'\n167. '2014'\n168. '1954'\n169. '1954'\n170. '1954'\n171. '1986'\n172. '2018'\n173. '1986'\n174. '1962'\n175. '1950'\n176. '1954'\n177. '1978'\n178. '1974'\n179. '2010'\n180. '1982'\n181. '1938'\n182. '1930'\n183. '1938'\n184. '1998'\n185. '1966'\n186. '2002'\n187. '2018'\n188. '2002'\n189. '2002'\n190. '1962'\n191. '0'\n192. '2002'\n193. '2014'\n194. '1998'\n195. '2006'\n196. '1966'\n197. '1954'\n198. '1990'\n199. '2014'\n200. '1982'\n201. ⋯\n202. '2006'\n203. '2010'\n204. '2002'\n205. '2010'\n206. '2002'\n207. '2010'\n208. '2010'\n209. '1998'\n210. '2010'\n211. '2002'\n212. '2010'\n213. '2002'\n214. '1998'\n215. '2010'\n216. '1986'\n217. '1986'\n218. '1990'\n219. '2014'\n220. '2014'\n221. '1986'\n222. '2002'\n223. '2002'\n224. '1986'\n225. '2006'\n226. '0'\n227. '2002'\n228. '2002'\n229. '2018'\n230. '1962'\n231. '1966'\n232. '1978'\n233. '2018'\n234. '0'\n235. '1934'\n236. '1978'\n237. '1986'\n238. '1966'\n239. '1986'\n240. '1990'\n241. '0'\n242. '1950'\n243. '2018'\n244. '1978'\n245. '2006'\n246. '1998'\n247. '1934'\n248. '2014'\n249. '2002'\n250. '2018'\n251. '1962'\n252. '1966'\n253. '2002'\n254. '1966'\n255. '1982'\n256. '1986'\n257. '1982'\n258. '2002'\n259. '1982'\n260. '2002'\n261. '2002'\n262. '2018'\n263. '1934'\n264. '1990'\n265. '2018'\n266. '1970'\n267. '1958'\n268. '1934'\n269. '1934'\n270. '1990'\n271. '2002'\n272. '1950'\n273. '1994'\n274. '1978'\n275. '1950'\n276. '0'\n277. '2002'\n278. '2018'\n279. '1974'\n280. '1970'\n281. '1950'\n282. '2006'\n283. '1938'\n284. '1994'\n285. '1994'\n286. '2018'\n287. '2010'\n288. '1934'\n289. '2014'\n290. '1966'\n291. '1962'\n292. '2014'\n293. '2006'\n294. '1994'\n295. '0'\n296. '1938'\n297. '1962'\n298. '2018'\n299. '2006'\n300. '2018'\n301. '2002'\n302. '2018'\n303. '1978'\n304. '1978'\n305. '2002'\n306. '2002'\n307. '1978'\n308. '2006'\n309. '2018'\n310. '1998'\n311. '2002'\n312. '1954'\n313. '1954'\n314. '2002'\n315. '2002'\n316. '1990'\n317. '1990'\n318. '2006'\n319. '2006'\n320. '2006'\n321. '0'\n322. '1954'\n323. '0'\n324. '1962'\n325. '1962'\n326. '1970'\n327. '1990'\n328. '1986'\n329. '2018'\n330. '2014'\n331. '1970'\n332. '2002'\n333. '1970'\n334. '1974'\n335. '2010'\n336. '2010'\n337. '1950'\n338. '2002'\n339. '1962'\n340. '2002'\n341. '1930'\n342. '1950'\n343. '2010'\n344. '2014'\n345. '1930'\n346. '1990'\n347. '1934'\n348. '1950'\n349. '2014'\n350. '2014'\n351. '2002'\n352. '1990'\n353. '2002'\n354. '1994'\n355. '1950'\n356. '1990'\n357. '1986'\n358. '1970'\n359. '1982'\n360. '1982'\n361. '1966'\n362. '1982'\n363. '1982'\n364. '1990'\n365. '1982'\n366. '1958'\n367. '1970'\n368. '1962'\n369. '1982'\n370. '1986'\n371. '1986'\n372. '1986'\n373. '1982'\n374. '1958'\n375. '0'\n376. '1990'\n377. '1958'\n378. '1958'\n379. '1950'\n380. '1974'\n381. '1974'\n382. '1982'\n383. '1974'\n384. '1930'\n385. '1962'\n386. '1998'\n387. '1998'\n388. '1954'\n389. '1974'\n390. '1950'\n391. '1958'\n392. '1974'\n393. '1974'\n394. '1962'\n395. '1958'\n396. '1930'\n397. '1962'\n398. '1982'\n399. '1930'\n400. '1930'\n401. '1954'\n\n\n\n2. 1. '2006'\n2. '2002'\n3. '1974'\n4. ' '\n5. '1962'\n6. '1994'\n7. ' '\n8. '1998'\n9. '1990'\n10. '2014'\n11. '1958'\n12. '1978'\n13. '1978'\n14. ' '\n15. '1970'\n16. '1962'\n17. '1982'\n18. '1962'\n19. '1994'\n20. '1982'\n21. '2002'\n22. ' '\n23. '2010'\n24. '1986'\n25. ' '\n26. '1938'\n27. '2002'\n28. '1990'\n29. '1954'\n30. '1990'\n31. '1938'\n32. '1958'\n33. '1962'\n34. '1978'\n35. '1978'\n36. '2010'\n37. '2014'\n38. '1978'\n39. '2010'\n40. ' '\n41. '1998'\n42. '2018'\n43. '1974'\n44. '1998'\n45. ' '\n46. '2002'\n47. ' '\n48. '2002'\n49. '1966'\n50. '1990'\n51. ' '\n52. '2010'\n53. '1938'\n54. ' '\n55. '1998'\n56. '1978'\n57. '2010'\n58. '2010'\n59. '2010'\n60. '1982'\n61. ' '\n62. ' '\n63. '2010'\n64. '2014'\n65. '2010'\n66. '1982'\n67. '2018'\n68. '1998'\n69. '1962'\n70. '1994'\n71. '1982'\n72. ' '\n73. '2018'\n74. '2018'\n75. ' '\n76. '2010'\n77. '1970'\n78. '1982'\n79. '2002'\n80. '1970'\n81. '2010'\n82. ' '\n83. ' '\n84. '1978'\n85. ' '\n86. ' '\n87. '1990'\n88. '1998'\n89. '2002'\n90. '2002'\n91. ' '\n92. '2014'\n93. ' '\n94. '1954'\n95. '2006'\n96. '1962'\n97. '1982'\n98. '1994'\n99. '2002'\n100. '1978'\n101. ' '\n102. '1986'\n103. '1986'\n104. ' '\n105. '1986'\n106. ' '\n107. '1966'\n108. ' '\n109. ' '\n110. ' '\n111. '1966'\n112. '2002'\n113. ' '\n114. ' '\n115. ' '\n116. '1982'\n117. '2002'\n118. '1990'\n119. '1982'\n120. ' '\n121. ' '\n122. '1966'\n123. ' '\n124. '1958'\n125. '1962'\n126. '1986'\n127. ' '\n128. ' '\n129. '2014'\n130. '2002'\n131. '2014'\n132. '2018'\n133. '1978'\n134. ' '\n135. '2006'\n136. '1994'\n137. ' '\n138. ' '\n139. '1990'\n140. '2010'\n141. ' '\n142. '1994'\n143. ' '\n144. '1978'\n145. ' '\n146. '2002'\n147. ' '\n148. '1938'\n149. ' '\n150. '2018'\n151. ' '\n152. ' '\n153. '2010'\n154. ' '\n155. ' '\n156. ' '\n157. '1966'\n158. ' '\n159. ' '\n160. ' '\n161. '1990'\n162. ' '\n163. '1982'\n164. ' '\n165. '2010'\n166. '2010'\n167. '2018'\n168. ' '\n169. ' '\n170. ' '\n171. '1990'\n172. ' '\n173. '1990'\n174. ' '\n175. '1954'\n176. '1958'\n177. ' '\n178. '1978'\n179. ' '\n180. ' '\n181. ' '\n182. ' '\n183. ' '\n184. ' '\n185. '1970'\n186. '2010'\n187. ' '\n188. '2006'\n189. '2006'\n190. ' '\n191. ' '\n192. '2006'\n193. ' '\n194. '2002'\n195. '2010'\n196. ' '\n197. ' '\n198. ' '\n199. ' '\n200. '1986'\n201. ⋯\n202. '2010'\n203. ' '\n204. ' '\n205. ' '\n206. ' '\n207. ' '\n208. ' '\n209. '2002'\n210. ' '\n211. ' '\n212. ' '\n213. '2010'\n214. '2002'\n215. ' '\n216. '1990'\n217. ' '\n218. ' '\n219. ' '\n220. ' '\n221. ' '\n222. '2006'\n223. '2006'\n224. ' '\n225. '2010'\n226. ' '\n227. '2006'\n228. '2006'\n229. ' '\n230. '1966'\n231. ' '\n232. ' '\n233. ' '\n234. ' '\n235. ' '\n236. ' '\n237. ' '\n238. ' '\n239. ' '\n240. ' '\n241. ' '\n242. ' '\n243. ' '\n244. '1982'\n245. ' '\n246. ' '\n247. ' '\n248. ' '\n249. ' '\n250. ' '\n251. '1966'\n252. '1978'\n253. '2006'\n254. ' '\n255. ' '\n256. ' '\n257. ' '\n258. ' '\n259. ' '\n260. '2006'\n261. '2006'\n262. ' '\n263. ' '\n264. ' '\n265. ' '\n266. '1974'\n267. ' '\n268. '1938'\n269. ' '\n270. '1994'\n271. '2006'\n272. '1958'\n273. ' '\n274. ' '\n275. '1958'\n276. ' '\n277. '2006'\n278. ' '\n279. ' '\n280. ' '\n281. ' '\n282. '2010'\n283. '1950'\n284. ' '\n285. ' '\n286. ' '\n287. ' '\n288. ' '\n289. ' '\n290. ' '\n291. '1966'\n292. ' '\n293. '2010'\n294. ' '\n295. ' '\n296. ' '\n297. ' '\n298. ' '\n299. ' '\n300. ' '\n301. ' '\n302. ' '\n303. ' '\n304. ' '\n305. '2006'\n306. '2006'\n307. ' '\n308. ' '\n309. ' '\n310. ' '\n311. ' '\n312. ' '\n313. ' '\n314. ' '\n315. ' '\n316. ' '\n317. ' '\n318. ' '\n319. ' '\n320. ' '\n321. ' '\n322. ' '\n323. ' '\n324. ' '\n325. '1966'\n326. '1974'\n327. ' '\n328. '1990'\n329. ' '\n330. ' '\n331. ' '\n332. ' '\n333. ' '\n334. ' '\n335. ' '\n336. ' '\n337. ' '\n338. ' '\n339. '1966'\n340. ' '\n341. ' '\n342. ' '\n343. ' '\n344. ' '\n345. ' '\n346. '1994'\n347. ' '\n348. ' '\n349. ' '\n350. ' '\n351. ' '\n352. ' '\n353. '2006'\n354. '1998'\n355. ' '\n356. '1994'\n357. '1990'\n358. ' '\n359. '1986'\n360. ' '\n361. ' '\n362. '1986'\n363. ' '\n364. ' '\n365. ' '\n366. ' '\n367. ' '\n368. ' '\n369. ' '\n370. '1990'\n371. '1990'\n372. ' '\n373. ' '\n374. ' '\n375. ' '\n376. ' '\n377. ' '\n378. ' '\n379. '1954'\n380. ' '\n381. ' '\n382. ' '\n383. ' '\n384. ' '\n385. ' '\n386. ' '\n387. ' '\n388. '1958'\n389. ' '\n390. ' '\n391. ' '\n392. ' '\n393. '1982'\n394. ' '\n395. ' '\n396. ' '\n397. ' '\n398. '1990'\n399. ' '\n400. ' '\n401. '1958'\n\n\n\n3. 1. '2010'\n2. '2006'\n3. ' '\n4. ' '\n5. '1966'\n6. '1998'\n7. ' '\n8. '2002'\n9. ' '\n10. ' '\n11. ' '\n12. '1982'\n13. '1982'\n14. ' '\n15. '1974'\n16. ' '\n17. '1986'\n18. '1966'\n19. '1998'\n20. ' '\n21. ' '\n22. ' '\n23. '2014'\n24. '1990'\n25. ' '\n26. ' '\n27. ' '\n28. '1994'\n29. ' '\n30. ' '\n31. ' '\n32. '1962'\n33. ' '\n34. ' '\n35. '1982'\n36. '2014'\n37. '2018'\n38. '1982'\n39. '2014'\n40. ' '\n41. ' '\n42. ' '\n43. '1978'\n44. ' '\n45. ' '\n46. ' '\n47. ' '\n48. '2006'\n49. '1970'\n50. '1994'\n51. ' '\n52. '2014'\n53. ' '\n54. ' '\n55. ' '\n56. ' '\n57. '2014'\n58. '2014'\n59. '2014'\n60. '1986'\n61. ' '\n62. ' '\n63. ' '\n64. ' '\n65. '2014'\n66. ' '\n67. ' '\n68. '2002'\n69. '1966'\n70. ' '\n71. ' '\n72. ' '\n73. ' '\n74. ' '\n75. ' '\n76. ' '\n77. ' '\n78. '1986'\n79. '2006'\n80. '1974'\n81. ' '\n82. ' '\n83. ' '\n84. ' '\n85. ' '\n86. ' '\n87. ' '\n88. '2002'\n89. ' '\n90. '2006'\n91. ' '\n92. '2018'\n93. ' '\n94. ' '\n95. '2010'\n96. ' '\n97. ' '\n98. '2002'\n99. '2006'\n100. ' '\n101. ' '\n102. ' '\n103. '1990'\n104. ' '\n105. ' '\n106. ' '\n107. ' '\n108. ' '\n109. ' '\n110. ' '\n111. '1970'\n112. '2006'\n113. ' '\n114. ' '\n115. ' '\n116. '1986'\n117. ' '\n118. '1994'\n119. ' '\n120. ' '\n121. ' '\n122. ' '\n123. ' '\n124. ' '\n125. ' '\n126. ' '\n127. ' '\n128. ' '\n129. '2018'\n130. ' '\n131. '2018'\n132. ' '\n133. ' '\n134. ' '\n135. ' '\n136. ' '\n137. ' '\n138. ' '\n139. ' '\n140. '2014'\n141. ' '\n142. ' '\n143. ' '\n144. ' '\n145. ' '\n146. '2006'\n147. ' '\n148. ' '\n149. ' '\n150. ' '\n151. ' '\n152. ' '\n153. '2014'\n154. ' '\n155. ' '\n156. ' '\n157. ' '\n158. ' '\n159. ' '\n160. ' '\n161. ' '\n162. ' '\n163. ' '\n164. ' '\n165. ' '\n166. ' '\n167. ' '\n168. ' '\n169. ' '\n170. ' '\n171. ' '\n172. ' '\n173. '1994'\n174. ' '\n175. ' '\n176. '1962'\n177. ' '\n178. '1982'\n179. ' '\n180. ' '\n181. ' '\n182. ' '\n183. ' '\n184. ' '\n185. ' '\n186. ' '\n187. ' '\n188. ' '\n189. ' '\n190. ' '\n191. ' '\n192. ' '\n193. ' '\n194. '2006'\n195. ' '\n196. ' '\n197. ' '\n198. ' '\n199. ' '\n200. ' '\n201. ⋯\n202. ' '\n203. ' '\n204. ' '\n205. ' '\n206. ' '\n207. ' '\n208. ' '\n209. ' '\n210. ' '\n211. ' '\n212. ' '\n213. ' '\n214. ' '\n215. ' '\n216. ' '\n217. ' '\n218. ' '\n219. ' '\n220. ' '\n221. ' '\n222. ' '\n223. ' '\n224. ' '\n225. ' '\n226. ' '\n227. ' '\n228. ' '\n229. ' '\n230. ' '\n231. ' '\n232. ' '\n233. ' '\n234. ' '\n235. ' '\n236. ' '\n237. ' '\n238. ' '\n239. ' '\n240. ' '\n241. ' '\n242. ' '\n243. ' '\n244. ' '\n245. ' '\n246. ' '\n247. ' '\n248. ' '\n249. ' '\n250. ' '\n251. ' '\n252. ' '\n253. '2010'\n254. ' '\n255. ' '\n256. ' '\n257. ' '\n258. ' '\n259. ' '\n260. ' '\n261. ' '\n262. ' '\n263. ' '\n264. ' '\n265. ' '\n266. ' '\n267. ' '\n268. ' '\n269. ' '\n270. ' '\n271. ' '\n272. ' '\n273. ' '\n274. ' '\n275. ' '\n276. ' '\n277. ' '\n278. ' '\n279. ' '\n280. ' '\n281. ' '\n282. ' '\n283. ' '\n284. ' '\n285. ' '\n286. ' '\n287. ' '\n288. ' '\n289. ' '\n290. ' '\n291. ' '\n292. ' '\n293. ' '\n294. ' '\n295. ' '\n296. ' '\n297. ' '\n298. ' '\n299. ' '\n300. ' '\n301. ' '\n302. ' '\n303. ' '\n304. ' '\n305. ' '\n306. ' '\n307. ' '\n308. ' '\n309. ' '\n310. ' '\n311. ' '\n312. ' '\n313. ' '\n314. ' '\n315. ' '\n316. ' '\n317. ' '\n318. ' '\n319. ' '\n320. ' '\n321. ' '\n322. ' '\n323. ' '\n324. ' '\n325. '1970'\n326. ' '\n327. ' '\n328. ' '\n329. ' '\n330. ' '\n331. ' '\n332. ' '\n333. ' '\n334. ' '\n335. ' '\n336. ' '\n337. ' '\n338. ' '\n339. '1970'\n340. ' '\n341. ' '\n342. ' '\n343. ' '\n344. ' '\n345. ' '\n346. ' '\n347. ' '\n348. ' '\n349. ' '\n350. ' '\n351. ' '\n352. ' '\n353. ' '\n354. '2002'\n355. ' '\n356. '1998'\n357. ' '\n358. ' '\n359. ' '\n360. ' '\n361. ' '\n362. ' '\n363. ' '\n364. ' '\n365. ' '\n366. ' '\n367. ' '\n368. ' '\n369. ' '\n370. ' '\n371. ' '\n372. ' '\n373. ' '\n374. ' '\n375. ' '\n376. ' '\n377. ' '\n378. ' '\n379. ' '\n380. ' '\n381. ' '\n382. ' '\n383. ' '\n384. ' '\n385. ' '\n386. ' '\n387. ' '\n388. ' '\n389. ' '\n390. ' '\n391. ' '\n392. ' '\n393. ' '\n394. ' '\n395. ' '\n396. ' '\n397. ' '\n398. ' '\n399. ' '\n400. ' '\n401. ' '\n\n\n\n4. 1. '2014'\n2. ' '\n3. ' '\n4. ' '\n5. '1970'\n6. ' '\n7. ' '\n8. ' '\n9. ' '\n10. ' '\n11. ' '\n12. ' '\n13. ' '\n14. ' '\n15. ' '\n16. ' '\n17. ' '\n18. '1970'\n19. ' '\n20. ' '\n21. ' '\n22. ' '\n23. ' '\n24. '1994'\n25. ' '\n26. ' '\n27. ' '\n28. ' '\n29. ' '\n30. ' '\n31. ' '\n32. ' '\n33. ' '\n34. ' '\n35. ' '\n36. '2018'\n37. ' '\n38. ' '\n39. '2018'\n40. ' '\n41. ' '\n42. ' '\n43. ' '\n44. ' '\n45. ' '\n46. ' '\n47. ' '\n48. '2010'\n49. ' '\n50. '1998'\n51. ' '\n52. ' '\n53. ' '\n54. ' '\n55. ' '\n56. ' '\n57. ' '\n58. ' '\n59. ' '\n60. ' '\n61. ' '\n62. ' '\n63. ' '\n64. ' '\n65. ' '\n66. ' '\n67. ' '\n68. ' '\n69. ' '\n70. ' '\n71. ' '\n72. ' '\n73. ' '\n74. ' '\n75. ' '\n76. ' '\n77. ' '\n78. ' '\n79. ' '\n80. ' '\n81. ' '\n82. ' '\n83. ' '\n84. ' '\n85. ' '\n86. ' '\n87. ' '\n88. ' '\n89. ' '\n90. ' '\n91. ' '\n92. ' '\n93. ' '\n94. ' '\n95. ' '\n96. ' '\n97. ' '\n98. ' '\n99. ' '\n100. ' '\n101. ' '\n102. ' '\n103. ' '\n104. ' '\n105. ' '\n106. ' '\n107. ' '\n108. ' '\n109. ' '\n110. ' '\n111. ' '\n112. ' '\n113. ' '\n114. ' '\n115. ' '\n116. ' '\n117. ' '\n118. ' '\n119. ' '\n120. ' '\n121. ' '\n122. ' '\n123. ' '\n124. ' '\n125. ' '\n126. ' '\n127. ' '\n128. ' '\n129. ' '\n130. ' '\n131. ' '\n132. ' '\n133. ' '\n134. ' '\n135. ' '\n136. ' '\n137. ' '\n138. ' '\n139. ' '\n140. ' '\n141. ' '\n142. ' '\n143. ' '\n144. ' '\n145. ' '\n146. ' '\n147. ' '\n148. ' '\n149. ' '\n150. ' '\n151. ' '\n152. ' '\n153. ' '\n154. ' '\n155. ' '\n156. ' '\n157. ' '\n158. ' '\n159. ' '\n160. ' '\n161. ' '\n162. ' '\n163. ' '\n164. ' '\n165. ' '\n166. ' '\n167. ' '\n168. ' '\n169. ' '\n170. ' '\n171. ' '\n172. ' '\n173. '1998'\n174. ' '\n175. ' '\n176. ' '\n177. ' '\n178. ' '\n179. ' '\n180. ' '\n181. ' '\n182. ' '\n183. ' '\n184. ' '\n185. ' '\n186. ' '\n187. ' '\n188. ' '\n189. ' '\n190. ' '\n191. ' '\n192. ' '\n193. ' '\n194. ' '\n195. ' '\n196. ' '\n197. ' '\n198. ' '\n199. ' '\n200. ' '\n201. ⋯\n202. ' '\n203. ' '\n204. ' '\n205. ' '\n206. ' '\n207. ' '\n208. ' '\n209. ' '\n210. ' '\n211. ' '\n212. ' '\n213. ' '\n214. ' '\n215. ' '\n216. ' '\n217. ' '\n218. ' '\n219. ' '\n220. ' '\n221. ' '\n222. ' '\n223. ' '\n224. ' '\n225. ' '\n226. ' '\n227. ' '\n228. ' '\n229. ' '\n230. ' '\n231. ' '\n232. ' '\n233. ' '\n234. ' '\n235. ' '\n236. ' '\n237. ' '\n238. ' '\n239. ' '\n240. ' '\n241. ' '\n242. ' '\n243. ' '\n244. ' '\n245. ' '\n246. ' '\n247. ' '\n248. ' '\n249. ' '\n250. ' '\n251. ' '\n252. ' '\n253. ' '\n254. ' '\n255. ' '\n256. ' '\n257. ' '\n258. ' '\n259. ' '\n260. ' '\n261. ' '\n262. ' '\n263. ' '\n264. ' '\n265. ' '\n266. ' '\n267. ' '\n268. ' '\n269. ' '\n270. ' '\n271. ' '\n272. ' '\n273. ' '\n274. ' '\n275. ' '\n276. ' '\n277. ' '\n278. ' '\n279. ' '\n280. ' '\n281. ' '\n282. ' '\n283. ' '\n284. ' '\n285. ' '\n286. ' '\n287. ' '\n288. ' '\n289. ' '\n290. ' '\n291. ' '\n292. ' '\n293. ' '\n294. ' '\n295. ' '\n296. ' '\n297. ' '\n298. ' '\n299. ' '\n300. ' '\n301. ' '\n302. ' '\n303. ' '\n304. ' '\n305. ' '\n306. ' '\n307. ' '\n308. ' '\n309. ' '\n310. ' '\n311. ' '\n312. ' '\n313. ' '\n314. ' '\n315. ' '\n316. ' '\n317. ' '\n318. ' '\n319. ' '\n320. ' '\n321. ' '\n322. ' '\n323. ' '\n324. ' '\n325. ' '\n326. ' '\n327. ' '\n328. ' '\n329. ' '\n330. ' '\n331. ' '\n332. ' '\n333. ' '\n334. ' '\n335. ' '\n336. ' '\n337. ' '\n338. ' '\n339. '1974'\n340. ' '\n341. ' '\n342. ' '\n343. ' '\n344. ' '\n345. ' '\n346. ' '\n347. ' '\n348. ' '\n349. ' '\n350. ' '\n351. ' '\n352. ' '\n353. ' '\n354. ' '\n355. ' '\n356. ' '\n357. ' '\n358. ' '\n359. ' '\n360. ' '\n361. ' '\n362. ' '\n363. ' '\n364. ' '\n365. ' '\n366. ' '\n367. ' '\n368. ' '\n369. ' '\n370. ' '\n371. ' '\n372. ' '\n373. ' '\n374. ' '\n375. ' '\n376. ' '\n377. ' '\n378. ' '\n379. ' '\n380. ' '\n381. ' '\n382. ' '\n383. ' '\n384. ' '\n385. ' '\n386. ' '\n387. ' '\n388. ' '\n389. ' '\n390. ' '\n391. ' '\n392. ' '\n393. ' '\n394. ' '\n395. ' '\n396. ' '\n397. ' '\n398. ' '\n399. ' '\n400. ' '\n401. ' '\n\n\n\n\n\n",
            "text/latex": "\\begin{enumerate}\n\\item \\begin{enumerate*}\n\\item '2002'\n\\item '1998'\n\\item '1970'\n\\item '1958'\n\\item '1958'\n\\item '1990'\n\\item '1954'\n\\item '1994'\n\\item '1986'\n\\item '2010'\n\\item '1954'\n\\item '1970'\n\\item '1974'\n\\item '1950'\n\\item '1966'\n\\item '1958'\n\\item '1978'\n\\item '1958'\n\\item '1990'\n\\item '1978'\n\\item '1998'\n\\item '1966'\n\\item '2006'\n\\item '1982'\n\\item '1930'\n\\item '1934'\n\\item '1998'\n\\item '1986'\n\\item '1950'\n\\item '1986'\n\\item '1934'\n\\item '1954'\n\\item '1958'\n\\item '1974'\n\\item '1974'\n\\item '2006'\n\\item '2010'\n\\item '1974'\n\\item '2006'\n\\item '1954'\n\\item '1994'\n\\item '2014'\n\\item '1970'\n\\item '1994'\n\\item '2014'\n\\item '1998'\n\\item '2018'\n\\item '1998'\n\\item '1962'\n\\item '1986'\n\\item '1954'\n\\item '2006'\n\\item '1934'\n\\item '1990'\n\\item '1994'\n\\item '1974'\n\\item '2006'\n\\item '2006'\n\\item '2006'\n\\item '1978'\n\\item '1994'\n\\item '1954'\n\\item '2002'\n\\item '2010'\n\\item '2006'\n\\item '1978'\n\\item '2014'\n\\item '1994'\n\\item '1958'\n\\item '1990'\n\\item '1978'\n\\item '0'\n\\item '2014'\n\\item '2014'\n\\item '1990'\n\\item '2002'\n\\item '1966'\n\\item '1978'\n\\item '1998'\n\\item '1966'\n\\item '2006'\n\\item '1938'\n\\item '1938'\n\\item '1974'\n\\item '1958'\n\\item '1950'\n\\item '1986'\n\\item '1994'\n\\item '1998'\n\\item '1998'\n\\item '1994'\n\\item '2010'\n\\item '1930'\n\\item '1950'\n\\item '2002'\n\\item '1958'\n\\item '1978'\n\\item '1990'\n\\item '1998'\n\\item '1974'\n\\item '1978'\n\\item '1982'\n\\item '1982'\n\\item '1950'\n\\item '1982'\n\\item '1998'\n\\item '1962'\n\\item '1930'\n\\item '1958'\n\\item '1986'\n\\item '1962'\n\\item '1998'\n\\item '2018'\n\\item '2018'\n\\item '1958'\n\\item '1978'\n\\item '1998'\n\\item '1986'\n\\item '1974'\n\\item '1934'\n\\item '1954'\n\\item '1962'\n\\item '1966'\n\\item '1954'\n\\item '1954'\n\\item '1982'\n\\item '1938'\n\\item '1934'\n\\item '2010'\n\\item '1998'\n\\item '2010'\n\\item '2014'\n\\item '1974'\n\\item '1938'\n\\item '2002'\n\\item '1990'\n\\item '2018'\n\\item '2010'\n\\item '1986'\n\\item '2006'\n\\item '1950'\n\\item '1990'\n\\item '1994'\n\\item '1974'\n\\item '1958'\n\\item '1994'\n\\item '1958'\n\\item '1934'\n\\item '1954'\n\\item '2014'\n\\item '1954'\n\\item '1950'\n\\item '2006'\n\\item '1930'\n\\item '1986'\n\\item '1970'\n\\item '1962'\n\\item '1966'\n\\item '1962'\n\\item '1966'\n\\item '1986'\n\\item '1958'\n\\item '1978'\n\\item '1930'\n\\item '2006'\n\\item '2006'\n\\item '2014'\n\\item '1954'\n\\item '1954'\n\\item '1954'\n\\item '1986'\n\\item '2018'\n\\item '1986'\n\\item '1962'\n\\item '1950'\n\\item '1954'\n\\item '1978'\n\\item '1974'\n\\item '2010'\n\\item '1982'\n\\item '1938'\n\\item '1930'\n\\item '1938'\n\\item '1998'\n\\item '1966'\n\\item '2002'\n\\item '2018'\n\\item '2002'\n\\item '2002'\n\\item '1962'\n\\item '0'\n\\item '2002'\n\\item '2014'\n\\item '1998'\n\\item '2006'\n\\item '1966'\n\\item '1954'\n\\item '1990'\n\\item '2014'\n\\item '1982'\n\\item ⋯\n\\item '2006'\n\\item '2010'\n\\item '2002'\n\\item '2010'\n\\item '2002'\n\\item '2010'\n\\item '2010'\n\\item '1998'\n\\item '2010'\n\\item '2002'\n\\item '2010'\n\\item '2002'\n\\item '1998'\n\\item '2010'\n\\item '1986'\n\\item '1986'\n\\item '1990'\n\\item '2014'\n\\item '2014'\n\\item '1986'\n\\item '2002'\n\\item '2002'\n\\item '1986'\n\\item '2006'\n\\item '0'\n\\item '2002'\n\\item '2002'\n\\item '2018'\n\\item '1962'\n\\item '1966'\n\\item '1978'\n\\item '2018'\n\\item '0'\n\\item '1934'\n\\item '1978'\n\\item '1986'\n\\item '1966'\n\\item '1986'\n\\item '1990'\n\\item '0'\n\\item '1950'\n\\item '2018'\n\\item '1978'\n\\item '2006'\n\\item '1998'\n\\item '1934'\n\\item '2014'\n\\item '2002'\n\\item '2018'\n\\item '1962'\n\\item '1966'\n\\item '2002'\n\\item '1966'\n\\item '1982'\n\\item '1986'\n\\item '1982'\n\\item '2002'\n\\item '1982'\n\\item '2002'\n\\item '2002'\n\\item '2018'\n\\item '1934'\n\\item '1990'\n\\item '2018'\n\\item '1970'\n\\item '1958'\n\\item '1934'\n\\item '1934'\n\\item '1990'\n\\item '2002'\n\\item '1950'\n\\item '1994'\n\\item '1978'\n\\item '1950'\n\\item '0'\n\\item '2002'\n\\item '2018'\n\\item '1974'\n\\item '1970'\n\\item '1950'\n\\item '2006'\n\\item '1938'\n\\item '1994'\n\\item '1994'\n\\item '2018'\n\\item '2010'\n\\item '1934'\n\\item '2014'\n\\item '1966'\n\\item '1962'\n\\item '2014'\n\\item '2006'\n\\item '1994'\n\\item '0'\n\\item '1938'\n\\item '1962'\n\\item '2018'\n\\item '2006'\n\\item '2018'\n\\item '2002'\n\\item '2018'\n\\item '1978'\n\\item '1978'\n\\item '2002'\n\\item '2002'\n\\item '1978'\n\\item '2006'\n\\item '2018'\n\\item '1998'\n\\item '2002'\n\\item '1954'\n\\item '1954'\n\\item '2002'\n\\item '2002'\n\\item '1990'\n\\item '1990'\n\\item '2006'\n\\item '2006'\n\\item '2006'\n\\item '0'\n\\item '1954'\n\\item '0'\n\\item '1962'\n\\item '1962'\n\\item '1970'\n\\item '1990'\n\\item '1986'\n\\item '2018'\n\\item '2014'\n\\item '1970'\n\\item '2002'\n\\item '1970'\n\\item '1974'\n\\item '2010'\n\\item '2010'\n\\item '1950'\n\\item '2002'\n\\item '1962'\n\\item '2002'\n\\item '1930'\n\\item '1950'\n\\item '2010'\n\\item '2014'\n\\item '1930'\n\\item '1990'\n\\item '1934'\n\\item '1950'\n\\item '2014'\n\\item '2014'\n\\item '2002'\n\\item '1990'\n\\item '2002'\n\\item '1994'\n\\item '1950'\n\\item '1990'\n\\item '1986'\n\\item '1970'\n\\item '1982'\n\\item '1982'\n\\item '1966'\n\\item '1982'\n\\item '1982'\n\\item '1990'\n\\item '1982'\n\\item '1958'\n\\item '1970'\n\\item '1962'\n\\item '1982'\n\\item '1986'\n\\item '1986'\n\\item '1986'\n\\item '1982'\n\\item '1958'\n\\item '0'\n\\item '1990'\n\\item '1958'\n\\item '1958'\n\\item '1950'\n\\item '1974'\n\\item '1974'\n\\item '1982'\n\\item '1974'\n\\item '1930'\n\\item '1962'\n\\item '1998'\n\\item '1998'\n\\item '1954'\n\\item '1974'\n\\item '1950'\n\\item '1958'\n\\item '1974'\n\\item '1974'\n\\item '1962'\n\\item '1958'\n\\item '1930'\n\\item '1962'\n\\item '1982'\n\\item '1930'\n\\item '1930'\n\\item '1954'\n\\end{enumerate*}\n\n\\item \\begin{enumerate*}\n\\item '2006'\n\\item '2002'\n\\item '1974'\n\\item ' '\n\\item '1962'\n\\item '1994'\n\\item ' '\n\\item '1998'\n\\item '1990'\n\\item '2014'\n\\item '1958'\n\\item '1978'\n\\item '1978'\n\\item ' '\n\\item '1970'\n\\item '1962'\n\\item '1982'\n\\item '1962'\n\\item '1994'\n\\item '1982'\n\\item '2002'\n\\item ' '\n\\item '2010'\n\\item '1986'\n\\item ' '\n\\item '1938'\n\\item '2002'\n\\item '1990'\n\\item '1954'\n\\item '1990'\n\\item '1938'\n\\item '1958'\n\\item '1962'\n\\item '1978'\n\\item '1978'\n\\item '2010'\n\\item '2014'\n\\item '1978'\n\\item '2010'\n\\item ' '\n\\item '1998'\n\\item '2018'\n\\item '1974'\n\\item '1998'\n\\item ' '\n\\item '2002'\n\\item ' '\n\\item '2002'\n\\item '1966'\n\\item '1990'\n\\item ' '\n\\item '2010'\n\\item '1938'\n\\item ' '\n\\item '1998'\n\\item '1978'\n\\item '2010'\n\\item '2010'\n\\item '2010'\n\\item '1982'\n\\item ' '\n\\item ' '\n\\item '2010'\n\\item '2014'\n\\item '2010'\n\\item '1982'\n\\item '2018'\n\\item '1998'\n\\item '1962'\n\\item '1994'\n\\item '1982'\n\\item ' '\n\\item '2018'\n\\item '2018'\n\\item ' '\n\\item '2010'\n\\item '1970'\n\\item '1982'\n\\item '2002'\n\\item '1970'\n\\item '2010'\n\\item ' '\n\\item ' '\n\\item '1978'\n\\item ' '\n\\item ' '\n\\item '1990'\n\\item '1998'\n\\item '2002'\n\\item '2002'\n\\item ' '\n\\item '2014'\n\\item ' '\n\\item '1954'\n\\item '2006'\n\\item '1962'\n\\item '1982'\n\\item '1994'\n\\item '2002'\n\\item '1978'\n\\item ' '\n\\item '1986'\n\\item '1986'\n\\item ' '\n\\item '1986'\n\\item ' '\n\\item '1966'\n\\item ' '\n\\item ' '\n\\item ' '\n\\item '1966'\n\\item '2002'\n\\item ' '\n\\item ' '\n\\item ' '\n\\item '1982'\n\\item '2002'\n\\item '1990'\n\\item '1982'\n\\item ' '\n\\item ' '\n\\item '1966'\n\\item ' '\n\\item '1958'\n\\item '1962'\n\\item '1986'\n\\item ' '\n\\item ' '\n\\item '2014'\n\\item '2002'\n\\item '2014'\n\\item '2018'\n\\item '1978'\n\\item ' '\n\\item '2006'\n\\item '1994'\n\\item ' '\n\\item ' '\n\\item '1990'\n\\item '2010'\n\\item ' '\n\\item '1994'\n\\item ' '\n\\item '1978'\n\\item ' '\n\\item '2002'\n\\item ' '\n\\item '1938'\n\\item ' '\n\\item '2018'\n\\item ' '\n\\item ' '\n\\item '2010'\n\\item ' '\n\\item ' '\n\\item ' '\n\\item '1966'\n\\item ' '\n\\item ' '\n\\item ' '\n\\item '1990'\n\\item ' '\n\\item '1982'\n\\item ' '\n\\item '2010'\n\\item '2010'\n\\item '2018'\n\\item ' '\n\\item ' '\n\\item ' '\n\\item '1990'\n\\item ' '\n\\item '1990'\n\\item ' '\n\\item '1954'\n\\item '1958'\n\\item ' '\n\\item '1978'\n\\item ' '\n\\item ' '\n\\item ' '\n\\item ' '\n\\item ' '\n\\item ' '\n\\item '1970'\n\\item '2010'\n\\item ' '\n\\item '2006'\n\\item '2006'\n\\item ' '\n\\item ' '\n\\item '2006'\n\\item ' '\n\\item '2002'\n\\item '2010'\n\\item ' '\n\\item ' '\n\\item ' '\n\\item ' '\n\\item '1986'\n\\item ⋯\n\\item '2010'\n\\item ' '\n\\item ' '\n\\item ' '\n\\item ' '\n\\item ' '\n\\item ' '\n\\item '2002'\n\\item ' '\n\\item ' '\n\\item ' '\n\\item '2010'\n\\item '2002'\n\\item ' '\n\\item '1990'\n\\item ' '\n\\item ' '\n\\item ' '\n\\item ' '\n\\item ' '\n\\item '2006'\n\\item '2006'\n\\item ' '\n\\item '2010'\n\\item ' '\n\\item '2006'\n\\item '2006'\n\\item ' '\n\\item '1966'\n\\item ' '\n\\item ' '\n\\item ' '\n\\item ' '\n\\item ' '\n\\item ' '\n\\item ' '\n\\item ' '\n\\item ' '\n\\item ' '\n\\item ' '\n\\item ' '\n\\item ' '\n\\item '1982'\n\\item ' '\n\\item ' '\n\\item ' '\n\\item ' '\n\\item ' '\n\\item ' '\n\\item '1966'\n\\item '1978'\n\\item '2006'\n\\item ' '\n\\item ' '\n\\item ' '\n\\item ' '\n\\item ' '\n\\item ' '\n\\item '2006'\n\\item '2006'\n\\item ' '\n\\item ' '\n\\item ' '\n\\item ' '\n\\item '1974'\n\\item ' '\n\\item '1938'\n\\item ' '\n\\item '1994'\n\\item '2006'\n\\item '1958'\n\\item ' '\n\\item ' '\n\\item '1958'\n\\item ' '\n\\item '2006'\n\\item ' '\n\\item ' '\n\\item ' '\n\\item ' '\n\\item '2010'\n\\item '1950'\n\\item ' '\n\\item ' '\n\\item ' '\n\\item ' '\n\\item ' '\n\\item ' '\n\\item ' '\n\\item '1966'\n\\item ' '\n\\item '2010'\n\\item ' '\n\\item ' '\n\\item ' '\n\\item ' '\n\\item ' '\n\\item ' '\n\\item ' '\n\\item ' '\n\\item ' '\n\\item ' '\n\\item ' '\n\\item '2006'\n\\item '2006'\n\\item ' '\n\\item ' '\n\\item ' '\n\\item ' '\n\\item ' '\n\\item ' '\n\\item ' '\n\\item ' '\n\\item ' '\n\\item ' '\n\\item ' '\n\\item ' '\n\\item ' '\n\\item ' '\n\\item ' '\n\\item ' '\n\\item ' '\n\\item ' '\n\\item '1966'\n\\item '1974'\n\\item ' '\n\\item '1990'\n\\item ' '\n\\item ' '\n\\item ' '\n\\item ' '\n\\item ' '\n\\item ' '\n\\item ' '\n\\item ' '\n\\item ' '\n\\item ' '\n\\item '1966'\n\\item ' '\n\\item ' '\n\\item ' '\n\\item ' '\n\\item ' '\n\\item ' '\n\\item '1994'\n\\item ' '\n\\item ' '\n\\item ' '\n\\item ' '\n\\item ' '\n\\item ' '\n\\item '2006'\n\\item '1998'\n\\item ' '\n\\item '1994'\n\\item '1990'\n\\item ' '\n\\item '1986'\n\\item ' '\n\\item ' '\n\\item '1986'\n\\item ' '\n\\item ' '\n\\item ' '\n\\item ' '\n\\item ' '\n\\item ' '\n\\item ' '\n\\item '1990'\n\\item '1990'\n\\item ' '\n\\item ' '\n\\item ' '\n\\item ' '\n\\item ' '\n\\item ' '\n\\item ' '\n\\item '1954'\n\\item ' '\n\\item ' '\n\\item ' '\n\\item ' '\n\\item ' '\n\\item ' '\n\\item ' '\n\\item ' '\n\\item '1958'\n\\item ' '\n\\item ' '\n\\item ' '\n\\item ' '\n\\item '1982'\n\\item ' '\n\\item ' '\n\\item ' '\n\\item ' '\n\\item '1990'\n\\item ' '\n\\item ' '\n\\item '1958'\n\\end{enumerate*}\n\n\\item \\begin{enumerate*}\n\\item '2010'\n\\item '2006'\n\\item ' '\n\\item ' '\n\\item '1966'\n\\item '1998'\n\\item ' '\n\\item '2002'\n\\item ' '\n\\item ' '\n\\item ' '\n\\item '1982'\n\\item '1982'\n\\item ' '\n\\item '1974'\n\\item ' '\n\\item '1986'\n\\item '1966'\n\\item '1998'\n\\item ' '\n\\item ' '\n\\item ' '\n\\item '2014'\n\\item '1990'\n\\item ' '\n\\item ' '\n\\item ' '\n\\item '1994'\n\\item ' '\n\\item ' '\n\\item ' '\n\\item '1962'\n\\item ' '\n\\item ' '\n\\item '1982'\n\\item '2014'\n\\item '2018'\n\\item '1982'\n\\item '2014'\n\\item ' '\n\\item ' '\n\\item ' '\n\\item '1978'\n\\item ' '\n\\item ' '\n\\item ' '\n\\item ' '\n\\item '2006'\n\\item '1970'\n\\item '1994'\n\\item ' '\n\\item '2014'\n\\item ' '\n\\item ' '\n\\item ' '\n\\item ' '\n\\item '2014'\n\\item '2014'\n\\item '2014'\n\\item '1986'\n\\item ' '\n\\item ' '\n\\item ' '\n\\item ' '\n\\item '2014'\n\\item ' '\n\\item ' '\n\\item '2002'\n\\item '1966'\n\\item ' '\n\\item ' '\n\\item ' '\n\\item ' '\n\\item ' '\n\\item ' '\n\\item ' '\n\\item ' '\n\\item '1986'\n\\item '2006'\n\\item '1974'\n\\item ' '\n\\item ' '\n\\item ' '\n\\item ' '\n\\item ' '\n\\item ' '\n\\item ' '\n\\item '2002'\n\\item ' '\n\\item '2006'\n\\item ' '\n\\item '2018'\n\\item ' '\n\\item ' '\n\\item '2010'\n\\item ' '\n\\item ' '\n\\item '2002'\n\\item '2006'\n\\item ' '\n\\item ' '\n\\item ' '\n\\item '1990'\n\\item ' '\n\\item ' '\n\\item ' '\n\\item ' '\n\\item ' '\n\\item ' '\n\\item ' '\n\\item '1970'\n\\item '2006'\n\\item ' '\n\\item ' '\n\\item ' '\n\\item '1986'\n\\item ' '\n\\item '1994'\n\\item ' '\n\\item ' '\n\\item ' '\n\\item ' '\n\\item ' '\n\\item ' '\n\\item ' '\n\\item ' '\n\\item ' '\n\\item ' '\n\\item '2018'\n\\item ' '\n\\item '2018'\n\\item ' '\n\\item ' '\n\\item ' '\n\\item ' '\n\\item ' '\n\\item ' '\n\\item ' '\n\\item ' '\n\\item '2014'\n\\item ' '\n\\item ' '\n\\item ' '\n\\item ' '\n\\item ' '\n\\item '2006'\n\\item ' '\n\\item ' '\n\\item ' '\n\\item ' '\n\\item ' '\n\\item ' '\n\\item '2014'\n\\item ' '\n\\item ' '\n\\item ' '\n\\item ' '\n\\item ' '\n\\item ' '\n\\item ' '\n\\item ' '\n\\item ' '\n\\item ' '\n\\item ' '\n\\item ' '\n\\item ' '\n\\item ' '\n\\item ' '\n\\item ' '\n\\item ' '\n\\item ' '\n\\item ' '\n\\item '1994'\n\\item ' '\n\\item ' '\n\\item '1962'\n\\item ' '\n\\item '1982'\n\\item ' '\n\\item ' '\n\\item ' '\n\\item ' '\n\\item ' '\n\\item ' '\n\\item ' '\n\\item ' '\n\\item ' '\n\\item ' '\n\\item ' '\n\\item ' '\n\\item ' '\n\\item ' '\n\\item ' '\n\\item '2006'\n\\item ' '\n\\item ' '\n\\item ' '\n\\item ' '\n\\item ' '\n\\item ' '\n\\item ⋯\n\\item ' '\n\\item ' '\n\\item ' '\n\\item ' '\n\\item ' '\n\\item ' '\n\\item ' '\n\\item ' '\n\\item ' '\n\\item ' '\n\\item ' '\n\\item ' '\n\\item ' '\n\\item ' '\n\\item ' '\n\\item ' '\n\\item ' '\n\\item ' '\n\\item ' '\n\\item ' '\n\\item ' '\n\\item ' '\n\\item ' '\n\\item ' '\n\\item ' '\n\\item ' '\n\\item ' '\n\\item ' '\n\\item ' '\n\\item ' '\n\\item ' '\n\\item ' '\n\\item ' '\n\\item ' '\n\\item ' '\n\\item ' '\n\\item ' '\n\\item ' '\n\\item ' '\n\\item ' '\n\\item ' '\n\\item ' '\n\\item ' '\n\\item ' '\n\\item ' '\n\\item ' '\n\\item ' '\n\\item ' '\n\\item ' '\n\\item ' '\n\\item ' '\n\\item '2010'\n\\item ' '\n\\item ' '\n\\item ' '\n\\item ' '\n\\item ' '\n\\item ' '\n\\item ' '\n\\item ' '\n\\item ' '\n\\item ' '\n\\item ' '\n\\item ' '\n\\item ' '\n\\item ' '\n\\item ' '\n\\item ' '\n\\item ' '\n\\item ' '\n\\item ' '\n\\item ' '\n\\item ' '\n\\item ' '\n\\item ' '\n\\item ' '\n\\item ' '\n\\item ' '\n\\item ' '\n\\item ' '\n\\item ' '\n\\item ' '\n\\item ' '\n\\item ' '\n\\item ' '\n\\item ' '\n\\item ' '\n\\item ' '\n\\item ' '\n\\item ' '\n\\item ' '\n\\item ' '\n\\item ' '\n\\item ' '\n\\item ' '\n\\item ' '\n\\item ' '\n\\item ' '\n\\item ' '\n\\item ' '\n\\item ' '\n\\item ' '\n\\item ' '\n\\item ' '\n\\item ' '\n\\item ' '\n\\item ' '\n\\item ' '\n\\item ' '\n\\item ' '\n\\item ' '\n\\item ' '\n\\item ' '\n\\item ' '\n\\item ' '\n\\item ' '\n\\item ' '\n\\item ' '\n\\item ' '\n\\item ' '\n\\item ' '\n\\item ' '\n\\item ' '\n\\item '1970'\n\\item ' '\n\\item ' '\n\\item ' '\n\\item ' '\n\\item ' '\n\\item ' '\n\\item ' '\n\\item ' '\n\\item ' '\n\\item ' '\n\\item ' '\n\\item ' '\n\\item ' '\n\\item '1970'\n\\item ' '\n\\item ' '\n\\item ' '\n\\item ' '\n\\item ' '\n\\item ' '\n\\item ' '\n\\item ' '\n\\item ' '\n\\item ' '\n\\item ' '\n\\item ' '\n\\item ' '\n\\item ' '\n\\item '2002'\n\\item ' '\n\\item '1998'\n\\item ' '\n\\item ' '\n\\item ' '\n\\item ' '\n\\item ' '\n\\item ' '\n\\item ' '\n\\item ' '\n\\item ' '\n\\item ' '\n\\item ' '\n\\item ' '\n\\item ' '\n\\item ' '\n\\item ' '\n\\item ' '\n\\item ' '\n\\item ' '\n\\item ' '\n\\item ' '\n\\item ' '\n\\item ' '\n\\item ' '\n\\item ' '\n\\item ' '\n\\item ' '\n\\item ' '\n\\item ' '\n\\item ' '\n\\item ' '\n\\item ' '\n\\item ' '\n\\item ' '\n\\item ' '\n\\item ' '\n\\item ' '\n\\item ' '\n\\item ' '\n\\item ' '\n\\item ' '\n\\item ' '\n\\item ' '\n\\item ' '\n\\item ' '\n\\item ' '\n\\end{enumerate*}\n\n\\item \\begin{enumerate*}\n\\item '2014'\n\\item ' '\n\\item ' '\n\\item ' '\n\\item '1970'\n\\item ' '\n\\item ' '\n\\item ' '\n\\item ' '\n\\item ' '\n\\item ' '\n\\item ' '\n\\item ' '\n\\item ' '\n\\item ' '\n\\item ' '\n\\item ' '\n\\item '1970'\n\\item ' '\n\\item ' '\n\\item ' '\n\\item ' '\n\\item ' '\n\\item '1994'\n\\item ' '\n\\item ' '\n\\item ' '\n\\item ' '\n\\item ' '\n\\item ' '\n\\item ' '\n\\item ' '\n\\item ' '\n\\item ' '\n\\item ' '\n\\item '2018'\n\\item ' '\n\\item ' '\n\\item '2018'\n\\item ' '\n\\item ' '\n\\item ' '\n\\item ' '\n\\item ' '\n\\item ' '\n\\item ' '\n\\item ' '\n\\item '2010'\n\\item ' '\n\\item '1998'\n\\item ' '\n\\item ' '\n\\item ' '\n\\item ' '\n\\item ' '\n\\item ' '\n\\item ' '\n\\item ' '\n\\item ' '\n\\item ' '\n\\item ' '\n\\item ' '\n\\item ' '\n\\item ' '\n\\item ' '\n\\item ' '\n\\item ' '\n\\item ' '\n\\item ' '\n\\item ' '\n\\item ' '\n\\item ' '\n\\item ' '\n\\item ' '\n\\item ' '\n\\item ' '\n\\item ' '\n\\item ' '\n\\item ' '\n\\item ' '\n\\item ' '\n\\item ' '\n\\item ' '\n\\item ' '\n\\item ' '\n\\item ' '\n\\item ' '\n\\item ' '\n\\item ' '\n\\item ' '\n\\item ' '\n\\item ' '\n\\item ' '\n\\item ' '\n\\item ' '\n\\item ' '\n\\item ' '\n\\item ' '\n\\item ' '\n\\item ' '\n\\item ' '\n\\item ' '\n\\item ' '\n\\item ' '\n\\item ' '\n\\item ' '\n\\item ' '\n\\item ' '\n\\item ' '\n\\item ' '\n\\item ' '\n\\item ' '\n\\item ' '\n\\item ' '\n\\item ' '\n\\item ' '\n\\item ' '\n\\item ' '\n\\item ' '\n\\item ' '\n\\item ' '\n\\item ' '\n\\item ' '\n\\item ' '\n\\item ' '\n\\item ' '\n\\item ' '\n\\item ' '\n\\item ' '\n\\item ' '\n\\item ' '\n\\item ' '\n\\item ' '\n\\item ' '\n\\item ' '\n\\item ' '\n\\item ' '\n\\item ' '\n\\item ' '\n\\item ' '\n\\item ' '\n\\item ' '\n\\item ' '\n\\item ' '\n\\item ' '\n\\item ' '\n\\item ' '\n\\item ' '\n\\item ' '\n\\item ' '\n\\item ' '\n\\item ' '\n\\item ' '\n\\item ' '\n\\item ' '\n\\item ' '\n\\item ' '\n\\item ' '\n\\item ' '\n\\item ' '\n\\item ' '\n\\item ' '\n\\item ' '\n\\item ' '\n\\item ' '\n\\item ' '\n\\item ' '\n\\item ' '\n\\item ' '\n\\item ' '\n\\item ' '\n\\item ' '\n\\item '1998'\n\\item ' '\n\\item ' '\n\\item ' '\n\\item ' '\n\\item ' '\n\\item ' '\n\\item ' '\n\\item ' '\n\\item ' '\n\\item ' '\n\\item ' '\n\\item ' '\n\\item ' '\n\\item ' '\n\\item ' '\n\\item ' '\n\\item ' '\n\\item ' '\n\\item ' '\n\\item ' '\n\\item ' '\n\\item ' '\n\\item ' '\n\\item ' '\n\\item ' '\n\\item ' '\n\\item ' '\n\\item ⋯\n\\item ' '\n\\item ' '\n\\item ' '\n\\item ' '\n\\item ' '\n\\item ' '\n\\item ' '\n\\item ' '\n\\item ' '\n\\item ' '\n\\item ' '\n\\item ' '\n\\item ' '\n\\item ' '\n\\item ' '\n\\item ' '\n\\item ' '\n\\item ' '\n\\item ' '\n\\item ' '\n\\item ' '\n\\item ' '\n\\item ' '\n\\item ' '\n\\item ' '\n\\item ' '\n\\item ' '\n\\item ' '\n\\item ' '\n\\item ' '\n\\item ' '\n\\item ' '\n\\item ' '\n\\item ' '\n\\item ' '\n\\item ' '\n\\item ' '\n\\item ' '\n\\item ' '\n\\item ' '\n\\item ' '\n\\item ' '\n\\item ' '\n\\item ' '\n\\item ' '\n\\item ' '\n\\item ' '\n\\item ' '\n\\item ' '\n\\item ' '\n\\item ' '\n\\item ' '\n\\item ' '\n\\item ' '\n\\item ' '\n\\item ' '\n\\item ' '\n\\item ' '\n\\item ' '\n\\item ' '\n\\item ' '\n\\item ' '\n\\item ' '\n\\item ' '\n\\item ' '\n\\item ' '\n\\item ' '\n\\item ' '\n\\item ' '\n\\item ' '\n\\item ' '\n\\item ' '\n\\item ' '\n\\item ' '\n\\item ' '\n\\item ' '\n\\item ' '\n\\item ' '\n\\item ' '\n\\item ' '\n\\item ' '\n\\item ' '\n\\item ' '\n\\item ' '\n\\item ' '\n\\item ' '\n\\item ' '\n\\item ' '\n\\item ' '\n\\item ' '\n\\item ' '\n\\item ' '\n\\item ' '\n\\item ' '\n\\item ' '\n\\item ' '\n\\item ' '\n\\item ' '\n\\item ' '\n\\item ' '\n\\item ' '\n\\item ' '\n\\item ' '\n\\item ' '\n\\item ' '\n\\item ' '\n\\item ' '\n\\item ' '\n\\item ' '\n\\item ' '\n\\item ' '\n\\item ' '\n\\item ' '\n\\item ' '\n\\item ' '\n\\item ' '\n\\item ' '\n\\item ' '\n\\item ' '\n\\item ' '\n\\item ' '\n\\item ' '\n\\item ' '\n\\item ' '\n\\item ' '\n\\item ' '\n\\item ' '\n\\item ' '\n\\item ' '\n\\item ' '\n\\item ' '\n\\item ' '\n\\item ' '\n\\item ' '\n\\item ' '\n\\item ' '\n\\item ' '\n\\item '1974'\n\\item ' '\n\\item ' '\n\\item ' '\n\\item ' '\n\\item ' '\n\\item ' '\n\\item ' '\n\\item ' '\n\\item ' '\n\\item ' '\n\\item ' '\n\\item ' '\n\\item ' '\n\\item ' '\n\\item ' '\n\\item ' '\n\\item ' '\n\\item ' '\n\\item ' '\n\\item ' '\n\\item ' '\n\\item ' '\n\\item ' '\n\\item ' '\n\\item ' '\n\\item ' '\n\\item ' '\n\\item ' '\n\\item ' '\n\\item ' '\n\\item ' '\n\\item ' '\n\\item ' '\n\\item ' '\n\\item ' '\n\\item ' '\n\\item ' '\n\\item ' '\n\\item ' '\n\\item ' '\n\\item ' '\n\\item ' '\n\\item ' '\n\\item ' '\n\\item ' '\n\\item ' '\n\\item ' '\n\\item ' '\n\\item ' '\n\\item ' '\n\\item ' '\n\\item ' '\n\\item ' '\n\\item ' '\n\\item ' '\n\\item ' '\n\\item ' '\n\\item ' '\n\\item ' '\n\\item ' '\n\\item ' '\n\\item ' '\n\\end{enumerate*}\n\n\\end{enumerate}\n",
            "text/plain": [
              "[[1]]\n",
              "   [1] \"2002\" \"1998\" \"1970\" \"1958\" \"1958\" \"1990\" \"1954\" \"1994\" \"1986\" \"2010\"\n",
              "  [11] \"1954\" \"1970\" \"1974\" \"1950\" \"1966\" \"1958\" \"1978\" \"1958\" \"1990\" \"1978\"\n",
              "  [21] \"1998\" \"1966\" \"2006\" \"1982\" \"1930\" \"1934\" \"1998\" \"1986\" \"1950\" \"1986\"\n",
              "  [31] \"1934\" \"1954\" \"1958\" \"1974\" \"1974\" \"2006\" \"2010\" \"1974\" \"2006\" \"1954\"\n",
              "  [41] \"1994\" \"2014\" \"1970\" \"1994\" \"2014\" \"1998\" \"2018\" \"1998\" \"1962\" \"1986\"\n",
              "  [51] \"1954\" \"2006\" \"1934\" \"1990\" \"1994\" \"1974\" \"2006\" \"2006\" \"2006\" \"1978\"\n",
              "  [61] \"1994\" \"1954\" \"2002\" \"2010\" \"2006\" \"1978\" \"2014\" \"1994\" \"1958\" \"1990\"\n",
              "  [71] \"1978\" \"0\"    \"2014\" \"2014\" \"1990\" \"2002\" \"1966\" \"1978\" \"1998\" \"1966\"\n",
              "  [81] \"2006\" \"1938\" \"1938\" \"1974\" \"1958\" \"1950\" \"1986\" \"1994\" \"1998\" \"1998\"\n",
              "  [91] \"1994\" \"2010\" \"1930\" \"1950\" \"2002\" \"1958\" \"1978\" \"1990\" \"1998\" \"1974\"\n",
              " [101] \"1978\" \"1982\" \"1982\" \"1950\" \"1982\" \"1998\" \"1962\" \"1930\" \"1958\" \"1986\"\n",
              " [111] \"1962\" \"1998\" \"2018\" \"2018\" \"1958\" \"1978\" \"1998\" \"1986\" \"1974\" \"1934\"\n",
              " [121] \"1954\" \"1962\" \"1966\" \"1954\" \"1954\" \"1982\" \"1938\" \"1934\" \"2010\" \"1998\"\n",
              " [131] \"2010\" \"2014\" \"1974\" \"1938\" \"2002\" \"1990\" \"2018\" \"2010\" \"1986\" \"2006\"\n",
              " [141] \"1950\" \"1990\" \"1994\" \"1974\" \"1958\" \"1994\" \"1958\" \"1934\" \"1954\" \"2014\"\n",
              " [151] \"1954\" \"1950\" \"2006\" \"1930\" \"1986\" \"1970\" \"1962\" \"1966\" \"1962\" \"1966\"\n",
              " [161] \"1986\" \"1958\" \"1978\" \"1930\" \"2006\" \"2006\" \"2014\" \"1954\" \"1954\" \"1954\"\n",
              " [171] \"1986\" \"2018\" \"1986\" \"1962\" \"1950\" \"1954\" \"1978\" \"1974\" \"2010\" \"1982\"\n",
              " [181] \"1938\" \"1930\" \"1938\" \"1998\" \"1966\" \"2002\" \"2018\" \"2002\" \"2002\" \"1962\"\n",
              " [191] \"0\"    \"2002\" \"2014\" \"1998\" \"2006\" \"1966\" \"1954\" \"1990\" \"2014\" \"1982\"\n",
              " [201] \"1982\" \"1954\" \"1934\" \"2002\" \"2014\" \"1982\" \"1966\" \"2014\" \"1954\" \"1954\"\n",
              " [211] \"0\"    \"1934\" \"2002\" \"1934\" \"1934\" \"1970\" \"1962\" \"1998\" \"2002\" \"1974\"\n",
              " [221] \"1982\" \"2002\" \"1966\" \"1966\" \"1990\" \"2018\" \"1994\" \"1974\" \"2002\" \"2002\"\n",
              " [231] \"2014\" \"2002\" \"1994\" \"2018\" \"1986\" \"1938\" \"1934\" \"1938\" \"1950\" \"1950\"\n",
              " [241] \"1938\" \"1950\" \"1934\" \"1954\" \"1954\" \"2002\" \"1930\" \"1954\" \"1998\" \"1966\"\n",
              " [251] \"1974\" \"1930\" \"1962\" \"1990\" \"1990\" \"1958\" \"1982\" \"2014\" \"2014\" \"2018\"\n",
              " [261] \"2014\" \"1930\" \"1994\" \"2014\" \"1974\" \"1930\" \"2010\" \"1934\" \"1954\" \"1954\"\n",
              " [271] \"1978\" \"1990\" \"2014\" \"1990\" \"2014\" \"1970\" \"2014\" \"1970\" \"2014\" \"1930\"\n",
              " [281] \"2006\" \"1958\" \"2018\" \"1982\" \"2010\" \"2006\" \"1950\" \"1986\" \"1954\" \"2014\"\n",
              " [291] \"1930\" \"1986\" \"1974\" \"2014\" \"1954\" \"2006\" \"2002\" \"1982\" \"2014\" \"1958\"\n",
              " [301] \"1950\" \"1962\" \"1970\" \"1994\" \"1986\" \"1998\" \"1990\" \"2010\" \"1950\" \"1966\"\n",
              " [311] \"1962\" \"1962\" \"2014\" \"1962\" \"2014\" \"2014\" \"1990\" \"1994\" \"2014\" \"2014\"\n",
              " [321] \"2006\" \"2006\" \"2014\" \"2018\" \"2002\" \"1938\" \"1990\" \"1958\" \"1958\" \"1982\"\n",
              " [331] \"1970\" \"1934\" \"1934\" \"2006\" \"1998\" \"1986\" \"2002\" \"2014\" \"2002\" \"1934\"\n",
              " [341] \"2018\" \"1954\" \"1950\" \"1962\" \"1982\" \"1958\" \"1966\" \"1982\" \"1998\" \"2018\"\n",
              " [351] \"1930\" \"1986\" \"1998\" \"2014\" \"1978\" \"1986\" \"1998\" \"1998\" \"1954\" \"1958\"\n",
              " [361] \"1986\" \"1978\" \"1974\" \"2014\" \"1934\" \"2014\" \"2010\" \"1934\" \"1978\" \"2002\"\n",
              " [371] \"2010\" \"2006\" \"1974\" \"2014\" \"2006\" \"1974\" \"1978\" \"1954\" \"1962\" \"1978\"\n",
              " [381] \"1954\" \"1982\" \"1938\" \"1994\" \"1974\" \"1978\" \"1970\" \"1962\" \"1950\" \"1998\"\n",
              " [391] \"1934\" \"2006\" \"2002\" \"1950\" \"1978\" \"2006\" \"1998\" \"2002\" \"2018\" \"2010\"\n",
              " [401] \"1994\" \"2002\" \"2006\" \"1994\" \"0\"    \"1986\" \"1930\" \"1970\" \"1998\" \"1998\"\n",
              " [411] \"1986\" \"1978\" \"1998\" \"1994\" \"2014\" \"1974\" \"2010\" \"1994\" \"1998\" \"1994\"\n",
              " [421] \"1994\" \"2010\" \"1966\" \"1982\" \"1994\" \"1958\" \"1958\" \"1986\" \"1958\" \"1986\"\n",
              " [431] \"1958\" \"1970\" \"2006\" \"1982\" \"2006\" \"2006\" \"2006\" \"1990\" \"1934\" \"1934\"\n",
              " [441] \"1970\" \"1994\" \"1990\" \"1998\" \"1994\" \"1994\" \"1974\" \"1978\" \"1982\" \"2002\"\n",
              " [451] \"1998\" \"1998\" \"1990\" \"1990\" \"2010\" \"2010\" \"1998\" \"2006\" \"1986\" \"1994\"\n",
              " [461] \"1994\" \"2006\" \"1934\" \"1950\" \"2018\" \"1950\" \"1958\" \"1974\" \"2014\" \"2006\"\n",
              " [471] \"1994\" \"2014\" \"2018\" \"2002\" \"1954\" \"2002\" \"2006\" \"1954\" \"1930\" \"1962\"\n",
              " [481] \"1930\" \"1930\" \"1962\" \"1950\" \"1930\" \"1950\" \"1958\" \"1962\" \"1986\" \"1986\"\n",
              " [491] \"1958\" \"1950\" \"1990\" \"1974\" \"1998\" \"1990\" \"1958\" \"1974\" \"1950\" \"1982\"\n",
              " [501] \"1982\" \"2014\" \"2014\" \"2014\" \"1982\" \"0\"    \"2006\" \"1978\" \"1958\" \"1974\"\n",
              " [511] \"1998\" \"1974\" \"1990\" \"1934\" \"1974\" \"1986\" \"2006\" \"2010\" \"1982\" \"1930\"\n",
              " [521] \"1962\" \"1934\" \"2006\" \"1974\" \"1998\" \"1958\" \"2018\" \"1990\" \"1966\" \"2010\"\n",
              " [531] \"1986\" \"1998\" \"1986\" \"1962\" \"2006\" \"1930\" \"1978\" \"1990\" \"1930\" \"1998\"\n",
              " [541] \"2006\" \"2006\" \"2006\" \"1934\" \"0\"    \"1982\" \"1954\" \"1954\" \"1978\" \"1990\"\n",
              " [551] \"1978\" \"1990\" \"1990\" \"1934\" \"1934\" \"1934\" \"1998\" \"1934\" \"2018\" \"2018\"\n",
              " [561] \"1990\" \"1982\" \"1954\" \"1982\" \"1986\" \"1986\" \"1986\" \"1938\" \"2018\" \"2018\"\n",
              " [571] \"1994\" \"2014\" \"2002\" \"2002\" \"1982\" \"1982\" \"1986\" \"1986\" \"2002\" \"1994\"\n",
              " [581] \"2014\" \"2014\" \"2014\" \"2014\" \"1970\" \"1950\" \"2018\" \"1978\" \"1986\" \"1998\"\n",
              " [591] \"1970\" \"1978\" \"2002\" \"2014\" \"2018\" \"1950\" \"1966\" \"2006\" \"2006\" \"1982\"\n",
              " [601] \"2002\" \"2002\" \"2010\" \"1950\" \"2006\" \"2018\" \"1994\" \"1978\" \"1966\" \"1938\"\n",
              " [611] \"2006\" \"1954\" \"1954\" \"1994\" \"1974\" \"1958\" \"1994\" \"1962\" \"1986\" \"1970\"\n",
              " [621] \"1994\" \"1970\" \"0\"    \"1962\" \"0\"    \"0\"    \"1982\" \"2014\" \"1982\" \"1998\"\n",
              " [631] \"1974\" \"2014\" \"2010\" \"1982\" \"2010\" \"1982\" \"1982\" \"1950\" \"1950\" \"1950\"\n",
              " [641] \"0\"    \"2014\" \"2014\" \"1930\" \"1962\" \"2014\" \"1962\" \"2018\" \"1994\" \"2014\"\n",
              " [651] \"1962\" \"0\"    \"0\"    \"1962\" \"1990\" \"1990\" \"1962\" \"2014\" \"1990\" \"2014\"\n",
              " [661] \"1990\" \"1990\" \"0\"    \"2002\" \"2014\" \"2018\" \"2002\" \"2006\" \"2010\" \"2006\"\n",
              " [671] \"2006\" \"2006\" \"2018\" \"1998\" \"2002\" \"2018\" \"2018\" \"2002\" \"2018\" \"2006\"\n",
              " [681] \"1998\" \"2018\" \"1998\" \"1938\" \"1938\" \"1938\" \"1958\" \"1990\" \"1962\" \"1938\"\n",
              " [691] \"1934\" \"1990\" \"0\"    \"1962\" \"1958\" \"1962\" \"1938\" \"2006\" \"2010\" \"0\"   \n",
              " [701] \"2018\" \"1998\" \"1998\" \"2018\" \"1986\" \"0\"    \"1998\" \"2018\" \"1998\" \"1998\"\n",
              " [711] \"2002\" \"2002\" \"1990\" \"0\"    \"2018\" \"1998\" \"1986\" \"1998\" \"1970\" \"2002\"\n",
              " [721] \"2006\" \"2010\" \"2002\" \"1962\" \"1958\" \"2002\" \"1962\" \"2018\" \"2018\" \"1950\"\n",
              " [731] \"1982\" \"1950\" \"1950\" \"1970\" \"2014\" \"1998\" \"2014\" \"2018\" \"2010\" \"1954\"\n",
              " [741] \"1990\" \"1982\" \"1978\" \"1998\" \"1978\" \"1982\" \"1966\" \"1998\" \"1958\" \"0\"   \n",
              " [751] \"2014\" \"1986\" \"1986\" \"1982\" \"2014\" \"1966\" \"1938\" \"1978\" \"1930\" \"1930\"\n",
              " [761] \"1998\" \"1978\" \"2006\" \"2014\" \"2018\" \"2006\" \"2014\" \"1982\" \"1982\" \"1978\"\n",
              " [771] \"1998\" \"2018\" \"2014\" \"2018\" \"1930\" \"1934\" \"1978\" \"1990\" \"2002\" \"1974\"\n",
              " [781] \"1962\" \"2010\" \"1958\" \"1974\" \"1966\" \"2006\" \"2002\" \"1938\" \"1970\" \"1938\"\n",
              " [791] \"1966\" \"1954\" \"1974\" \"1974\" \"1974\" \"1982\" \"2002\" \"2006\" \"1954\" \"1934\"\n",
              " [801] \"2006\" \"1970\" \"2002\" \"0\"    \"1978\" \"1934\" \"1954\" \"0\"    \"2018\" \"1990\"\n",
              " [811] \"2002\" \"1958\" \"1934\" \"1974\" \"1958\" \"1966\" \"2006\" \"2010\" \"2006\" \"2014\"\n",
              " [821] \"2010\" \"2014\" \"2014\" \"2010\" \"2014\" \"0\"    \"1982\" \"1958\" \"1954\" \"1978\"\n",
              " [831] \"1986\" \"1986\" \"1966\" \"1938\" \"1958\" \"0\"    \"1962\" \"0\"    \"1934\" \"1954\"\n",
              " [841] \"1978\" \"0\"    \"1982\" \"1934\" \"1978\" \"2018\" \"2018\" \"2018\" \"2006\" \"1978\"\n",
              " [851] \"1998\" \"2014\" \"2006\" \"1998\" \"0\"    \"1986\" \"0\"    \"2002\" \"2002\" \"2002\"\n",
              " [861] \"1990\" \"1990\" \"1990\" \"1970\" \"1974\" \"2014\" \"1966\" \"1950\" \"1966\" \"1978\"\n",
              " [871] \"1974\" \"1974\" \"1982\" \"2006\" \"1998\" \"2010\" \"1970\" \"1938\" \"1954\" \"1954\"\n",
              " [881] \"1990\" \"2006\" \"1982\" \"2006\" \"1934\" \"2002\" \"1954\" \"2014\" \"1994\" \"1966\"\n",
              " [891] \"1962\" \"1950\" \"1954\" \"2006\" \"2010\" \"0\"    \"2002\" \"1978\" \"2002\" \"0\"   \n",
              " [901] \"2010\" \"2018\" \"2018\" \"2002\" \"2006\" \"1998\" \"1998\" \"2018\" \"2002\" \"2006\"\n",
              " [911] \"1982\" \"1982\" \"1954\" \"0\"    \"1958\" \"1994\" \"1966\" \"1930\" \"1950\" \"1962\"\n",
              " [921] \"1962\" \"2014\" \"1986\" \"2006\" \"1966\" \"1930\" \"1970\" \"2014\" \"1962\" \"1954\"\n",
              " [931] \"2018\" \"1986\" \"1950\" \"1966\" \"2014\" \"1978\" \"1978\" \"1986\" \"2002\" \"1978\"\n",
              " [941] \"2018\" \"2006\" \"2018\" \"1994\" \"2018\" \"1970\" \"1994\" \"1970\" \"1986\" \"1994\"\n",
              " [951] \"2014\" \"1998\" \"0\"    \"2014\" \"1990\" \"1990\" \"1990\" \"1974\" \"2006\" \"0\"   \n",
              " [961] \"1994\" \"1994\" \"1934\" \"0\"    \"2006\" \"1974\" \"1978\" \"0\"    \"2006\" \"1934\"\n",
              " [971] \"2014\" \"1990\" \"1998\" \"2010\" \"2010\" \"1982\" \"1982\" \"1998\" \"2002\" \"1998\"\n",
              " [981] \"1994\" \"1998\" \"2018\" \"2014\" \"1994\" \"0\"    \"1994\" \"2010\" \"1994\" \"2010\"\n",
              " [991] \"1966\" \"1966\" \"1966\" \"1986\" \"1958\" \"1982\" \"1938\" \"1998\" \"1998\" \"1998\"\n",
              "[1001] \"2018\" \"2010\" \"1998\" \"1998\" \"1998\" \"1998\" \"1998\" \"2002\" \"1950\" \"1950\"\n",
              "[1011] \"1930\" \"1958\" \"2006\" \"2010\" \"2018\" \"1970\" \"1970\" \"1978\" \"1978\" \"2018\"\n",
              "[1021] \"1978\" \"1930\" \"1978\" \"2018\" \"1982\" \"0\"    \"1974\" \"2018\" \"2002\" \"1982\"\n",
              "[1031] \"1982\" \"2002\" \"1938\" \"2002\" \"2010\" \"2002\" \"2002\" \"2006\" \"1986\" \"2002\"\n",
              "[1041] \"2010\" \"1986\" \"2010\" \"2014\" \"2018\" \"2018\" \"1966\" \"2014\" \"1938\" \"1930\"\n",
              "[1051] \"1970\" \"1930\" \"1998\" \"1970\" \"1930\" \"2002\" \"2018\" \"2018\" \"2018\" \"1994\"\n",
              "[1061] \"2014\" \"2014\" \"1994\" \"2002\" \"2002\" \"2018\" \"2018\" \"0\"    \"1994\" \"2006\"\n",
              "[1071] \"0\"    \"1982\" \"1958\" \"1998\" \"1958\" \"1998\" \"1990\" \"1974\" \"1990\" \"1958\"\n",
              "[1081] \"1958\" \"1982\" \"1978\" \"1978\" \"1982\" \"2002\" \"2002\" \"2018\" \"2018\" \"2018\"\n",
              "[1091] \"2006\" \"2010\" \"2018\" \"2018\" \"2010\" \"2006\" \"2010\" \"2002\" \"2010\" \"2002\"\n",
              "[1101] \"2010\" \"2010\" \"1998\" \"2010\" \"2002\" \"2010\" \"2002\" \"1998\" \"2010\" \"1986\"\n",
              "[1111] \"1986\" \"1990\" \"2014\" \"2014\" \"1986\" \"2002\" \"2002\" \"1986\" \"2006\" \"0\"   \n",
              "[1121] \"2002\" \"2002\" \"2018\" \"1962\" \"1966\" \"1978\" \"2018\" \"0\"    \"1934\" \"1978\"\n",
              "[1131] \"1986\" \"1966\" \"1986\" \"1990\" \"0\"    \"1950\" \"2018\" \"1978\" \"2006\" \"1998\"\n",
              "[1141] \"1934\" \"2014\" \"2002\" \"2018\" \"1962\" \"1966\" \"2002\" \"1966\" \"1982\" \"1986\"\n",
              "[1151] \"1982\" \"2002\" \"1982\" \"2002\" \"2002\" \"2018\" \"1934\" \"1990\" \"2018\" \"1970\"\n",
              "[1161] \"1958\" \"1934\" \"1934\" \"1990\" \"2002\" \"1950\" \"1994\" \"1978\" \"1950\" \"0\"   \n",
              "[1171] \"2002\" \"2018\" \"1974\" \"1970\" \"1950\" \"2006\" \"1938\" \"1994\" \"1994\" \"2018\"\n",
              "[1181] \"2010\" \"1934\" \"2014\" \"1966\" \"1962\" \"2014\" \"2006\" \"1994\" \"0\"    \"1938\"\n",
              "[1191] \"1962\" \"2018\" \"2006\" \"2018\" \"2002\" \"2018\" \"1978\" \"1978\" \"2002\" \"2002\"\n",
              "[1201] \"1978\" \"2006\" \"2018\" \"1998\" \"2002\" \"1954\" \"1954\" \"2002\" \"2002\" \"1990\"\n",
              "[1211] \"1990\" \"2006\" \"2006\" \"2006\" \"0\"    \"1954\" \"0\"    \"1962\" \"1962\" \"1970\"\n",
              "[1221] \"1990\" \"1986\" \"2018\" \"2014\" \"1970\" \"2002\" \"1970\" \"1974\" \"2010\" \"2010\"\n",
              "[1231] \"1950\" \"2002\" \"1962\" \"2002\" \"1930\" \"1950\" \"2010\" \"2014\" \"1930\" \"1990\"\n",
              "[1241] \"1934\" \"1950\" \"2014\" \"2014\" \"2002\" \"1990\" \"2002\" \"1994\" \"1950\" \"1990\"\n",
              "[1251] \"1986\" \"1970\" \"1982\" \"1982\" \"1966\" \"1982\" \"1982\" \"1990\" \"1982\" \"1958\"\n",
              "[1261] \"1970\" \"1962\" \"1982\" \"1986\" \"1986\" \"1986\" \"1982\" \"1958\" \"0\"    \"1990\"\n",
              "[1271] \"1958\" \"1958\" \"1950\" \"1974\" \"1974\" \"1982\" \"1974\" \"1930\" \"1962\" \"1998\"\n",
              "[1281] \"1998\" \"1954\" \"1974\" \"1950\" \"1958\" \"1974\" \"1974\" \"1962\" \"1958\" \"1930\"\n",
              "[1291] \"1962\" \"1982\" \"1930\" \"1930\" \"1954\"\n",
              "\n",
              "[[2]]\n",
              "   [1] \"2006\" \"2002\" \"1974\" \" \"    \"1962\" \"1994\" \" \"    \"1998\" \"1990\" \"2014\"\n",
              "  [11] \"1958\" \"1978\" \"1978\" \" \"    \"1970\" \"1962\" \"1982\" \"1962\" \"1994\" \"1982\"\n",
              "  [21] \"2002\" \" \"    \"2010\" \"1986\" \" \"    \"1938\" \"2002\" \"1990\" \"1954\" \"1990\"\n",
              "  [31] \"1938\" \"1958\" \"1962\" \"1978\" \"1978\" \"2010\" \"2014\" \"1978\" \"2010\" \" \"   \n",
              "  [41] \"1998\" \"2018\" \"1974\" \"1998\" \" \"    \"2002\" \" \"    \"2002\" \"1966\" \"1990\"\n",
              "  [51] \" \"    \"2010\" \"1938\" \" \"    \"1998\" \"1978\" \"2010\" \"2010\" \"2010\" \"1982\"\n",
              "  [61] \" \"    \" \"    \"2010\" \"2014\" \"2010\" \"1982\" \"2018\" \"1998\" \"1962\" \"1994\"\n",
              "  [71] \"1982\" \" \"    \"2018\" \"2018\" \" \"    \"2010\" \"1970\" \"1982\" \"2002\" \"1970\"\n",
              "  [81] \"2010\" \" \"    \" \"    \"1978\" \" \"    \" \"    \"1990\" \"1998\" \"2002\" \"2002\"\n",
              "  [91] \" \"    \"2014\" \" \"    \"1954\" \"2006\" \"1962\" \"1982\" \"1994\" \"2002\" \"1978\"\n",
              " [101] \" \"    \"1986\" \"1986\" \" \"    \"1986\" \" \"    \"1966\" \" \"    \" \"    \" \"   \n",
              " [111] \"1966\" \"2002\" \" \"    \" \"    \" \"    \"1982\" \"2002\" \"1990\" \"1982\" \" \"   \n",
              " [121] \" \"    \"1966\" \" \"    \"1958\" \"1962\" \"1986\" \" \"    \" \"    \"2014\" \"2002\"\n",
              " [131] \"2014\" \"2018\" \"1978\" \" \"    \"2006\" \"1994\" \" \"    \" \"    \"1990\" \"2010\"\n",
              " [141] \" \"    \"1994\" \" \"    \"1978\" \" \"    \"2002\" \" \"    \"1938\" \" \"    \"2018\"\n",
              " [151] \" \"    \" \"    \"2010\" \" \"    \" \"    \" \"    \"1966\" \" \"    \" \"    \" \"   \n",
              " [161] \"1990\" \" \"    \"1982\" \" \"    \"2010\" \"2010\" \"2018\" \" \"    \" \"    \" \"   \n",
              " [171] \"1990\" \" \"    \"1990\" \" \"    \"1954\" \"1958\" \" \"    \"1978\" \" \"    \" \"   \n",
              " [181] \" \"    \" \"    \" \"    \" \"    \"1970\" \"2010\" \" \"    \"2006\" \"2006\" \" \"   \n",
              " [191] \" \"    \"2006\" \" \"    \"2002\" \"2010\" \" \"    \" \"    \" \"    \" \"    \"1986\"\n",
              " [201] \"1986\" \"1958\" \"1938\" \"2006\" \"2018\" \"1986\" \"1970\" \" \"    \"1958\" \" \"   \n",
              " [211] \" \"    \"1938\" \" \"    \"1938\" \" \"    \"1974\" \"1966\" \"2002\" \"2006\" \" \"   \n",
              " [221] \" \"    \"2006\" \" \"    \" \"    \"1994\" \" \"    \"1998\" \"1978\" \" \"    \"2006\"\n",
              " [231] \"2018\" \"2006\" \" \"    \" \"    \"1990\" \" \"    \"1938\" \" \"    \" \"    \" \"   \n",
              " [241] \" \"    \"1954\" \" \"    \" \"    \" \"    \" \"    \" \"    \" \"    \"2002\" \" \"   \n",
              " [251] \" \"    \" \"    \" \"    \"1998\" \"1998\" \" \"    \"1986\" \" \"    \" \"    \" \"   \n",
              " [261] \"2018\" \"1934\" \"1998\" \"2018\" \" \"    \" \"    \" \"    \" \"    \" \"    \" \"   \n",
              " [271] \"1982\" \"1994\" \"2018\" \"1994\" \"2018\" \" \"    \"2018\" \"1982\" \"2018\" \"1934\"\n",
              " [281] \" \"    \"1962\" \" \"    \" \"    \" \"    \"2014\" \" \"    \" \"    \" \"    \" \"   \n",
              " [291] \" \"    \"1990\" \"1978\" \" \"    \" \"    \"2010\" \"2006\" \" \"    \"2018\" \"1962\"\n",
              " [301] \" \"    \"1966\" \"1974\" \" \"    \"1994\" \"2002\" \"1994\" \"2014\" \" \"    \" \"   \n",
              " [311] \" \"    \" \"    \" \"    \" \"    \"2018\" \" \"    \" \"    \"1998\" \" \"    \" \"   \n",
              " [321] \"2010\" \"2010\" \" \"    \" \"    \"2006\" \" \"    \" \"    \" \"    \" \"    \" \"   \n",
              " [331] \" \"    \"1938\" \" \"    \" \"    \" \"    \"1998\" \"2010\" \"2018\" \"2006\" \" \"   \n",
              " [341] \" \"    \" \"    \"1954\" \" \"    \" \"    \" \"    \"1970\" \"1986\" \" \"    \" \"   \n",
              " [351] \" \"    \" \"    \"2002\" \"2018\" \"1982\" \" \"    \"2002\" \"2002\" \"1958\" \" \"   \n",
              " [361] \" \"    \"1982\" \"1978\" \" \"    \" \"    \" \"    \"2014\" \"1938\" \" \"    \"2006\"\n",
              " [371] \"2014\" \"2010\" \" \"    \" \"    \"2010\" \" \"    \"1982\" \" \"    \"1966\" \"1982\"\n",
              " [381] \" \"    \" \"    \" \"    \"1998\" \"1978\" \" \"    \" \"    \"1966\" \" \"    \"2002\"\n",
              " [391] \"1938\" \"2010\" \"2006\" \"1954\" \"1982\" \" \"    \" \"    \"2006\" \" \"    \"2014\"\n",
              " [401] \"1998\" \"2006\" \" \"    \" \"    \" \"    \" \"    \" \"    \" \"    \" \"    \" \"   \n",
              " [411] \" \"    \" \"    \"2006\" \"1998\" \" \"    \"1978\" \"2014\" \"1998\" \" \"    \"1998\"\n",
              " [421] \" \"    \" \"    \" \"    \"1986\" \"1998\" \" \"    \" \"    \" \"    \" \"    \" \"   \n",
              " [431] \" \"    \" \"    \" \"    \"1986\" \" \"    \"2010\" \"2010\" \" \"    \"1938\" \"1938\"\n",
              " [441] \" \"    \"1998\" \"1998\" \" \"    \"1998\" \"1998\" \"1978\" \" \"    \" \"    \" \"   \n",
              " [451] \" \"    \"2002\" \"1994\" \"1994\" \" \"    \" \"    \"2002\" \"2010\" \" \"    \"1998\"\n",
              " [461] \" \"    \"2010\" \" \"    \" \"    \" \"    \" \"    \" \"    \" \"    \"2018\" \"2010\"\n",
              " [471] \" \"    \"2018\" \" \"    \" \"    \" \"    \" \"    \" \"    \" \"    \" \"    \"1970\"\n",
              " [481] \" \"    \" \"    \" \"    \"1954\" \" \"    \" \"    \" \"    \" \"    \" \"    \"1990\"\n",
              " [491] \" \"    \" \"    \" \"    \" \"    \" \"    \" \"    \" \"    \"1982\" \" \"    \"1986\"\n",
              " [501] \" \"    \" \"    \" \"    \" \"    \"1986\" \" \"    \" \"    \"1982\" \" \"    \" \"   \n",
              " [511] \"2006\" \" \"    \"1994\" \" \"    \" \"    \" \"    \" \"    \" \"    \" \"    \" \"   \n",
              " [521] \" \"    \" \"    \"2010\" \" \"    \"2002\" \" \"    \" \"    \" \"    \" \"    \" \"   \n",
              " [531] \" \"    \" \"    \"1990\" \" \"    \" \"    \" \"    \"1982\" \" \"    \" \"    \"2002\"\n",
              " [541] \" \"    \"2010\" \"2010\" \" \"    \" \"    \" \"    \"1958\" \"1958\" \"1982\" \" \"   \n",
              " [551] \"1982\" \"1998\" \" \"    \" \"    \" \"    \" \"    \" \"    \" \"    \" \"    \" \"   \n",
              " [561] \" \"    \" \"    \" \"    \" \"    \"1990\" \"1990\" \"1990\" \" \"    \" \"    \" \"   \n",
              " [571] \"1998\" \" \"    \" \"    \" \"    \"1986\" \"1986\" \"1990\" \" \"    \" \"    \" \"   \n",
              " [581] \" \"    \" \"    \" \"    \" \"    \" \"    \" \"    \" \"    \"1982\" \"1990\" \"2002\"\n",
              " [591] \" \"    \"1986\" \" \"    \" \"    \" \"    \" \"    \"1970\" \"2010\" \" \"    \"1986\"\n",
              " [601] \" \"    \"2006\" \" \"    \" \"    \"2010\" \" \"    \" \"    \" \"    \" \"    \" \"   \n",
              " [611] \" \"    \"1958\" \"1958\" \" \"    \" \"    \"1962\" \"1998\" \"1966\" \" \"    \" \"   \n",
              " [621] \"1998\" \"1974\" \" \"    \"1970\" \" \"    \" \"    \"1990\" \" \"    \" \"    \"2002\"\n",
              " [631] \" \"    \" \"    \" \"    \" \"    \" \"    \" \"    \" \"    \" \"    \" \"    \" \"   \n",
              " [641] \" \"    \" \"    \" \"    \" \"    \" \"    \" \"    \" \"    \" \"    \" \"    \" \"   \n",
              " [651] \" \"    \" \"    \" \"    \" \"    \"1994\" \"1994\" \" \"    \" \"    \" \"    \" \"   \n",
              " [661] \" \"    \" \"    \" \"    \" \"    \" \"    \" \"    \" \"    \" \"    \" \"    \" \"   \n",
              " [671] \"2010\" \"2010\" \" \"    \"2002\" \"2006\" \" \"    \" \"    \" \"    \" \"    \" \"   \n",
              " [681] \"2002\" \" \"    \" \"    \" \"    \" \"    \" \"    \" \"    \" \"    \" \"    \" \"   \n",
              " [691] \"1938\" \" \"    \" \"    \" \"    \"1962\" \" \"    \" \"    \" \"    \" \"    \" \"   \n",
              " [701] \" \"    \"2002\" \"2002\" \" \"    \" \"    \" \"    \" \"    \" \"    \" \"    \"2002\"\n",
              " [711] \"2006\" \"2006\" \" \"    \" \"    \" \"    \" \"    \"1990\" \"2002\" \" \"    \"2006\"\n",
              " [721] \"2010\" \" \"    \"2006\" \"1966\" \"1962\" \"2010\" \" \"    \" \"    \" \"    \" \"   \n",
              " [731] \" \"    \" \"    \"1954\" \" \"    \" \"    \"2002\" \" \"    \" \"    \" \"    \" \"   \n",
              " [741] \" \"    \"1986\" \" \"    \" \"    \"1982\" \" \"    \" \"    \"2002\" \" \"    \" \"   \n",
              " [751] \" \"    \" \"    \" \"    \" \"    \" \"    \" \"    \" \"    \"1982\" \" \"    \" \"   \n",
              " [761] \"2002\" \"1982\" \"2010\" \" \"    \" \"    \"2010\" \" \"    \" \"    \"1986\" \"1982\"\n",
              " [771] \"2002\" \" \"    \" \"    \" \"    \"1938\" \" \"    \" \"    \" \"    \" \"    \"1978\"\n",
              " [781] \"1966\" \" \"    \" \"    \" \"    \" \"    \"2010\" \"2006\" \" \"    \"1974\" \" \"   \n",
              " [791] \"1970\" \" \"    \" \"    \"1978\" \" \"    \" \"    \" \"    \"2010\" \"1958\" \" \"   \n",
              " [801] \"2010\" \" \"    \" \"    \" \"    \"1982\" \" \"    \" \"    \" \"    \" \"    \"1994\"\n",
              " [811] \"2006\" \"1962\" \" \"    \" \"    \"1962\" \"1970\" \"2010\" \" \"    \" \"    \" \"   \n",
              " [821] \" \"    \" \"    \" \"    \" \"    \" \"    \" \"    \" \"    \" \"    \"1958\" \" \"   \n",
              " [831] \" \"    \" \"    \" \"    \" \"    \"1962\" \" \"    \" \"    \" \"    \" \"    \" \"   \n",
              " [841] \"1982\" \" \"    \"1986\" \"1938\" \" \"    \" \"    \" \"    \" \"    \" \"    \" \"   \n",
              " [851] \" \"    \" \"    \" \"    \"2006\" \" \"    \" \"    \" \"    \" \"    \" \"    \" \"   \n",
              " [861] \"1994\" \"2002\" \" \"    \" \"    \" \"    \" \"    \" \"    \"1954\" \"1970\" \"1982\"\n",
              " [871] \" \"    \"1978\" \"1986\" \"2010\" \"2002\" \" \"    \" \"    \" \"    \" \"    \" \"   \n",
              " [881] \" \"    \"2010\" \" \"    \" \"    \" \"    \"2006\" \" \"    \" \"    \" \"    \"1970\"\n",
              " [891] \" \"    \"1954\" \" \"    \"2010\" \" \"    \" \"    \"2006\" \" \"    \"2006\" \" \"   \n",
              " [901] \" \"    \" \"    \" \"    \" \"    \"2010\" \"2002\" \"2002\" \" \"    \" \"    \"2010\"\n",
              " [911] \" \"    \" \"    \" \"    \" \"    \" \"    \"1998\" \" \"    \" \"    \" \"    \" \"   \n",
              " [921] \"1966\" \" \"    \" \"    \" \"    \"1970\" \" \"    \" \"    \" \"    \" \"    \" \"   \n",
              " [931] \" \"    \" \"    \" \"    \"1970\" \" \"    \" \"    \"1986\" \" \"    \"2006\" \" \"   \n",
              " [941] \" \"    \" \"    \" \"    \" \"    \" \"    \" \"    \"1998\" \" \"    \" \"    \" \"   \n",
              " [951] \" \"    \" \"    \" \"    \" \"    \" \"    \" \"    \"1994\" \"1978\" \"2010\" \" \"   \n",
              " [961] \"1998\" \" \"    \"1938\" \" \"    \"2010\" \"1978\" \" \"    \" \"    \" \"    \"1938\"\n",
              " [971] \" \"    \"1994\" \" \"    \" \"    \" \"    \" \"    \" \"    \" \"    \" \"    \" \"   \n",
              " [981] \"1998\" \" \"    \" \"    \" \"    \"1998\" \" \"    \" \"    \" \"    \"1998\" \" \"   \n",
              " [991] \" \"    \" \"    \" \"    \" \"    \" \"    \"1986\" \" \"    \" \"    \" \"    \" \"   \n",
              "[1001] \" \"    \" \"    \"2002\" \"2002\" \" \"    \"2002\" \"2002\" \"2006\" \" \"    \" \"   \n",
              "[1011] \" \"    \" \"    \"2010\" \" \"    \" \"    \" \"    \"1978\" \"1982\" \"1982\" \" \"   \n",
              "[1021] \"1982\" \" \"    \"1982\" \" \"    \"1986\" \" \"    \"1978\" \" \"    \" \"    \" \"   \n",
              "[1031] \"1986\" \" \"    \" \"    \" \"    \" \"    \" \"    \" \"    \"2010\" \" \"    \"2006\"\n",
              "[1041] \" \"    \" \"    \" \"    \" \"    \" \"    \" \"    \" \"    \" \"    \" \"    \" \"   \n",
              "[1051] \" \"    \" \"    \" \"    \" \"    \" \"    \" \"    \" \"    \" \"    \" \"    \"2002\"\n",
              "[1061] \" \"    \" \"    \" \"    \" \"    \" \"    \" \"    \" \"    \" \"    \"1998\" \" \"   \n",
              "[1071] \" \"    \"1986\" \" \"    \" \"    \" \"    \" \"    \" \"    \" \"    \" \"    \" \"   \n",
              "[1081] \" \"    \"1986\" \"1982\" \"1982\" \"1986\" \" \"    \" \"    \" \"    \" \"    \" \"   \n",
              "[1091] \" \"    \" \"    \" \"    \" \"    \" \"    \"2010\" \" \"    \" \"    \" \"    \" \"   \n",
              "[1101] \" \"    \" \"    \"2002\" \" \"    \" \"    \" \"    \"2010\" \"2002\" \" \"    \"1990\"\n",
              "[1111] \" \"    \" \"    \" \"    \" \"    \" \"    \"2006\" \"2006\" \" \"    \"2010\" \" \"   \n",
              "[1121] \"2006\" \"2006\" \" \"    \"1966\" \" \"    \" \"    \" \"    \" \"    \" \"    \" \"   \n",
              "[1131] \" \"    \" \"    \" \"    \" \"    \" \"    \" \"    \" \"    \"1982\" \" \"    \" \"   \n",
              "[1141] \" \"    \" \"    \" \"    \" \"    \"1966\" \"1978\" \"2006\" \" \"    \" \"    \" \"   \n",
              "[1151] \" \"    \" \"    \" \"    \"2006\" \"2006\" \" \"    \" \"    \" \"    \" \"    \"1974\"\n",
              "[1161] \" \"    \"1938\" \" \"    \"1994\" \"2006\" \"1958\" \" \"    \" \"    \"1958\" \" \"   \n",
              "[1171] \"2006\" \" \"    \" \"    \" \"    \" \"    \"2010\" \"1950\" \" \"    \" \"    \" \"   \n",
              "[1181] \" \"    \" \"    \" \"    \" \"    \"1966\" \" \"    \"2010\" \" \"    \" \"    \" \"   \n",
              "[1191] \" \"    \" \"    \" \"    \" \"    \" \"    \" \"    \" \"    \" \"    \"2006\" \"2006\"\n",
              "[1201] \" \"    \" \"    \" \"    \" \"    \" \"    \" \"    \" \"    \" \"    \" \"    \" \"   \n",
              "[1211] \" \"    \" \"    \" \"    \" \"    \" \"    \" \"    \" \"    \" \"    \"1966\" \"1974\"\n",
              "[1221] \" \"    \"1990\" \" \"    \" \"    \" \"    \" \"    \" \"    \" \"    \" \"    \" \"   \n",
              "[1231] \" \"    \" \"    \"1966\" \" \"    \" \"    \" \"    \" \"    \" \"    \" \"    \"1994\"\n",
              "[1241] \" \"    \" \"    \" \"    \" \"    \" \"    \" \"    \"2006\" \"1998\" \" \"    \"1994\"\n",
              "[1251] \"1990\" \" \"    \"1986\" \" \"    \" \"    \"1986\" \" \"    \" \"    \" \"    \" \"   \n",
              "[1261] \" \"    \" \"    \" \"    \"1990\" \"1990\" \" \"    \" \"    \" \"    \" \"    \" \"   \n",
              "[1271] \" \"    \" \"    \"1954\" \" \"    \" \"    \" \"    \" \"    \" \"    \" \"    \" \"   \n",
              "[1281] \" \"    \"1958\" \" \"    \" \"    \" \"    \" \"    \"1982\" \" \"    \" \"    \" \"   \n",
              "[1291] \" \"    \"1990\" \" \"    \" \"    \"1958\"\n",
              "\n",
              "[[3]]\n",
              "   [1] \"2010\" \"2006\" \" \"    \" \"    \"1966\" \"1998\" \" \"    \"2002\" \" \"    \" \"   \n",
              "  [11] \" \"    \"1982\" \"1982\" \" \"    \"1974\" \" \"    \"1986\" \"1966\" \"1998\" \" \"   \n",
              "  [21] \" \"    \" \"    \"2014\" \"1990\" \" \"    \" \"    \" \"    \"1994\" \" \"    \" \"   \n",
              "  [31] \" \"    \"1962\" \" \"    \" \"    \"1982\" \"2014\" \"2018\" \"1982\" \"2014\" \" \"   \n",
              "  [41] \" \"    \" \"    \"1978\" \" \"    \" \"    \" \"    \" \"    \"2006\" \"1970\" \"1994\"\n",
              "  [51] \" \"    \"2014\" \" \"    \" \"    \" \"    \" \"    \"2014\" \"2014\" \"2014\" \"1986\"\n",
              "  [61] \" \"    \" \"    \" \"    \" \"    \"2014\" \" \"    \" \"    \"2002\" \"1966\" \" \"   \n",
              "  [71] \" \"    \" \"    \" \"    \" \"    \" \"    \" \"    \" \"    \"1986\" \"2006\" \"1974\"\n",
              "  [81] \" \"    \" \"    \" \"    \" \"    \" \"    \" \"    \" \"    \"2002\" \" \"    \"2006\"\n",
              "  [91] \" \"    \"2018\" \" \"    \" \"    \"2010\" \" \"    \" \"    \"2002\" \"2006\" \" \"   \n",
              " [101] \" \"    \" \"    \"1990\" \" \"    \" \"    \" \"    \" \"    \" \"    \" \"    \" \"   \n",
              " [111] \"1970\" \"2006\" \" \"    \" \"    \" \"    \"1986\" \" \"    \"1994\" \" \"    \" \"   \n",
              " [121] \" \"    \" \"    \" \"    \" \"    \" \"    \" \"    \" \"    \" \"    \"2018\" \" \"   \n",
              " [131] \"2018\" \" \"    \" \"    \" \"    \" \"    \" \"    \" \"    \" \"    \" \"    \"2014\"\n",
              " [141] \" \"    \" \"    \" \"    \" \"    \" \"    \"2006\" \" \"    \" \"    \" \"    \" \"   \n",
              " [151] \" \"    \" \"    \"2014\" \" \"    \" \"    \" \"    \" \"    \" \"    \" \"    \" \"   \n",
              " [161] \" \"    \" \"    \" \"    \" \"    \" \"    \" \"    \" \"    \" \"    \" \"    \" \"   \n",
              " [171] \" \"    \" \"    \"1994\" \" \"    \" \"    \"1962\" \" \"    \"1982\" \" \"    \" \"   \n",
              " [181] \" \"    \" \"    \" \"    \" \"    \" \"    \" \"    \" \"    \" \"    \" \"    \" \"   \n",
              " [191] \" \"    \" \"    \" \"    \"2006\" \" \"    \" \"    \" \"    \" \"    \" \"    \" \"   \n",
              " [201] \" \"    \" \"    \" \"    \" \"    \" \"    \"1990\" \"1974\" \" \"    \" \"    \" \"   \n",
              " [211] \" \"    \" \"    \" \"    \" \"    \" \"    \" \"    \"1970\" \"2010\" \"2010\" \" \"   \n",
              " [221] \" \"    \" \"    \" \"    \" \"    \"1998\" \" \"    \"2002\" \"1982\" \" \"    \" \"   \n",
              " [231] \" \"    \"2010\" \" \"    \" \"    \"1994\" \" \"    \" \"    \" \"    \" \"    \" \"   \n",
              " [241] \" \"    \" \"    \" \"    \" \"    \" \"    \" \"    \" \"    \" \"    \"2006\" \" \"   \n",
              " [251] \" \"    \" \"    \" \"    \"2002\" \" \"    \" \"    \" \"    \" \"    \" \"    \" \"   \n",
              " [261] \" \"    \" \"    \"2002\" \" \"    \" \"    \" \"    \" \"    \" \"    \" \"    \" \"   \n",
              " [271] \" \"    \" \"    \" \"    \" \"    \" \"    \" \"    \" \"    \" \"    \" \"    \"1938\"\n",
              " [281] \" \"    \" \"    \" \"    \" \"    \" \"    \" \"    \" \"    \" \"    \" \"    \" \"   \n",
              " [291] \" \"    \" \"    \" \"    \" \"    \" \"    \" \"    \" \"    \" \"    \" \"    \" \"   \n",
              " [301] \" \"    \"1970\" \" \"    \" \"    \" \"    \" \"    \"1998\" \" \"    \" \"    \" \"   \n",
              " [311] \" \"    \" \"    \" \"    \" \"    \" \"    \" \"    \" \"    \" \"    \" \"    \" \"   \n",
              " [321] \" \"    \" \"    \" \"    \" \"    \"2014\" \" \"    \" \"    \" \"    \" \"    \" \"   \n",
              " [331] \" \"    \" \"    \" \"    \" \"    \" \"    \" \"    \" \"    \" \"    \" \"    \" \"   \n",
              " [341] \" \"    \" \"    \"1958\" \" \"    \" \"    \" \"    \" \"    \"1990\" \" \"    \" \"   \n",
              " [351] \" \"    \" \"    \" \"    \" \"    \" \"    \" \"    \"2006\" \"2006\" \" \"    \" \"   \n",
              " [361] \" \"    \" \"    \" \"    \" \"    \" \"    \" \"    \" \"    \" \"    \" \"    \" \"   \n",
              " [371] \" \"    \" \"    \" \"    \" \"    \" \"    \" \"    \" \"    \" \"    \" \"    \" \"   \n",
              " [381] \" \"    \" \"    \" \"    \" \"    \" \"    \" \"    \" \"    \" \"    \" \"    \"2006\"\n",
              " [391] \" \"    \" \"    \" \"    \" \"    \" \"    \" \"    \" \"    \"2010\" \" \"    \" \"   \n",
              " [401] \"2002\" \" \"    \" \"    \" \"    \" \"    \" \"    \" \"    \" \"    \" \"    \" \"   \n",
              " [411] \" \"    \" \"    \" \"    \" \"    \" \"    \" \"    \" \"    \" \"    \" \"    \" \"   \n",
              " [421] \" \"    \" \"    \" \"    \" \"    \" \"    \" \"    \" \"    \" \"    \" \"    \" \"   \n",
              " [431] \" \"    \" \"    \" \"    \" \"    \" \"    \" \"    \" \"    \" \"    \" \"    \" \"   \n",
              " [441] \" \"    \" \"    \" \"    \" \"    \" \"    \" \"    \"1982\" \" \"    \" \"    \" \"   \n",
              " [451] \" \"    \" \"    \"1998\" \"2002\" \" \"    \" \"    \" \"    \"2014\" \" \"    \"2002\"\n",
              " [461] \" \"    \" \"    \" \"    \" \"    \" \"    \" \"    \" \"    \" \"    \" \"    \" \"   \n",
              " [471] \" \"    \" \"    \" \"    \" \"    \" \"    \" \"    \" \"    \" \"    \" \"    \"1974\"\n",
              " [481] \" \"    \" \"    \" \"    \" \"    \" \"    \" \"    \" \"    \" \"    \" \"    \" \"   \n",
              " [491] \" \"    \" \"    \" \"    \" \"    \" \"    \" \"    \" \"    \" \"    \" \"    \" \"   \n",
              " [501] \" \"    \" \"    \" \"    \" \"    \" \"    \" \"    \" \"    \" \"    \" \"    \" \"   \n",
              " [511] \" \"    \" \"    \" \"    \" \"    \" \"    \" \"    \" \"    \" \"    \" \"    \" \"   \n",
              " [521] \" \"    \" \"    \" \"    \" \"    \" \"    \" \"    \" \"    \" \"    \" \"    \" \"   \n",
              " [531] \" \"    \" \"    \"1994\" \" \"    \" \"    \" \"    \" \"    \" \"    \" \"    \" \"   \n",
              " [541] \" \"    \" \"    \" \"    \" \"    \" \"    \" \"    \" \"    \" \"    \" \"    \" \"   \n",
              " [551] \" \"    \" \"    \" \"    \" \"    \" \"    \" \"    \" \"    \" \"    \" \"    \" \"   \n",
              " [561] \" \"    \" \"    \" \"    \" \"    \"1994\" \" \"    \"1994\" \" \"    \" \"    \" \"   \n",
              " [571] \" \"    \" \"    \" \"    \" \"    \" \"    \" \"    \" \"    \" \"    \" \"    \" \"   \n",
              " [581] \" \"    \" \"    \" \"    \" \"    \" \"    \" \"    \" \"    \" \"    \"1994\" \"2006\"\n",
              " [591] \" \"    \" \"    \" \"    \" \"    \" \"    \" \"    \" \"    \" \"    \" \"    \" \"   \n",
              " [601] \" \"    \"2010\" \" \"    \" \"    \" \"    \" \"    \" \"    \" \"    \" \"    \" \"   \n",
              " [611] \" \"    \"1962\" \"1962\" \" \"    \" \"    \" \"    \" \"    \"1970\" \" \"    \" \"   \n",
              " [621] \" \"    \" \"    \" \"    \" \"    \" \"    \" \"    \" \"    \" \"    \" \"    \" \"   \n",
              " [631] \" \"    \" \"    \" \"    \" \"    \" \"    \" \"    \" \"    \" \"    \" \"    \" \"   \n",
              " [641] \" \"    \" \"    \" \"    \" \"    \" \"    \" \"    \" \"    \" \"    \" \"    \" \"   \n",
              " [651] \" \"    \" \"    \" \"    \" \"    \"1998\" \"1998\" \" \"    \" \"    \" \"    \" \"   \n",
              " [661] \" \"    \" \"    \" \"    \" \"    \" \"    \" \"    \" \"    \" \"    \" \"    \" \"   \n",
              " [671] \" \"    \" \"    \" \"    \" \"    \" \"    \" \"    \" \"    \" \"    \" \"    \" \"   \n",
              " [681] \" \"    \" \"    \" \"    \" \"    \" \"    \" \"    \" \"    \" \"    \" \"    \" \"   \n",
              " [691] \" \"    \" \"    \" \"    \" \"    \" \"    \" \"    \" \"    \" \"    \" \"    \" \"   \n",
              " [701] \" \"    \" \"    \"2010\" \" \"    \" \"    \" \"    \" \"    \" \"    \" \"    \" \"   \n",
              " [711] \" \"    \" \"    \" \"    \" \"    \" \"    \" \"    \" \"    \"2006\" \" \"    \"2010\"\n",
              " [721] \" \"    \" \"    \" \"    \" \"    \" \"    \" \"    \" \"    \" \"    \" \"    \" \"   \n",
              " [731] \" \"    \" \"    \" \"    \" \"    \" \"    \" \"    \" \"    \" \"    \" \"    \" \"   \n",
              " [741] \" \"    \" \"    \" \"    \" \"    \"1986\" \" \"    \" \"    \" \"    \" \"    \" \"   \n",
              " [751] \" \"    \" \"    \" \"    \" \"    \" \"    \" \"    \" \"    \" \"    \" \"    \" \"   \n",
              " [761] \" \"    \" \"    \" \"    \" \"    \" \"    \" \"    \" \"    \" \"    \" \"    \" \"   \n",
              " [771] \"2006\" \" \"    \" \"    \" \"    \" \"    \" \"    \" \"    \" \"    \" \"    \" \"   \n",
              " [781] \" \"    \" \"    \" \"    \" \"    \" \"    \" \"    \" \"    \" \"    \" \"    \" \"   \n",
              " [791] \" \"    \" \"    \" \"    \" \"    \" \"    \" \"    \" \"    \" \"    \" \"    \" \"   \n",
              " [801] \" \"    \" \"    \" \"    \" \"    \" \"    \" \"    \" \"    \" \"    \" \"    \" \"   \n",
              " [811] \" \"    \"1966\" \" \"    \" \"    \" \"    \" \"    \" \"    \" \"    \" \"    \" \"   \n",
              " [821] \" \"    \" \"    \" \"    \" \"    \" \"    \" \"    \" \"    \" \"    \" \"    \" \"   \n",
              " [831] \" \"    \" \"    \" \"    \" \"    \" \"    \" \"    \" \"    \" \"    \" \"    \" \"   \n",
              " [841] \" \"    \" \"    \" \"    \" \"    \" \"    \" \"    \" \"    \" \"    \" \"    \" \"   \n",
              " [851] \" \"    \" \"    \" \"    \" \"    \" \"    \" \"    \" \"    \" \"    \" \"    \" \"   \n",
              " [861] \" \"    \" \"    \" \"    \" \"    \" \"    \" \"    \" \"    \" \"    \"1974\" \"1986\"\n",
              " [871] \" \"    \"1982\" \" \"    \" \"    \" \"    \" \"    \" \"    \" \"    \" \"    \" \"   \n",
              " [881] \" \"    \" \"    \" \"    \" \"    \" \"    \" \"    \" \"    \" \"    \" \"    \"1974\"\n",
              " [891] \" \"    \" \"    \" \"    \" \"    \" \"    \" \"    \" \"    \" \"    \"2010\" \" \"   \n",
              " [901] \" \"    \" \"    \" \"    \" \"    \" \"    \"2006\" \" \"    \" \"    \" \"    \" \"   \n",
              " [911] \" \"    \" \"    \" \"    \" \"    \" \"    \" \"    \" \"    \" \"    \" \"    \" \"   \n",
              " [921] \" \"    \" \"    \" \"    \" \"    \" \"    \" \"    \" \"    \" \"    \" \"    \" \"   \n",
              " [931] \" \"    \" \"    \" \"    \" \"    \" \"    \" \"    \"1994\" \" \"    \"2010\" \" \"   \n",
              " [941] \" \"    \" \"    \" \"    \" \"    \" \"    \" \"    \" \"    \" \"    \" \"    \" \"   \n",
              " [951] \" \"    \" \"    \" \"    \" \"    \" \"    \" \"    \" \"    \" \"    \" \"    \" \"   \n",
              " [961] \" \"    \" \"    \" \"    \" \"    \" \"    \" \"    \" \"    \" \"    \" \"    \" \"   \n",
              " [971] \" \"    \"1998\" \" \"    \" \"    \" \"    \" \"    \" \"    \" \"    \" \"    \" \"   \n",
              " [981] \" \"    \" \"    \" \"    \" \"    \" \"    \" \"    \" \"    \" \"    \" \"    \" \"   \n",
              " [991] \" \"    \" \"    \" \"    \" \"    \" \"    \" \"    \" \"    \" \"    \" \"    \" \"   \n",
              "[1001] \" \"    \" \"    \" \"    \" \"    \" \"    \" \"    \" \"    \"2010\" \" \"    \" \"   \n",
              "[1011] \" \"    \" \"    \" \"    \" \"    \" \"    \" \"    \" \"    \" \"    \" \"    \" \"   \n",
              "[1021] \" \"    \" \"    \" \"    \" \"    \" \"    \" \"    \" \"    \" \"    \" \"    \" \"   \n",
              "[1031] \" \"    \" \"    \" \"    \" \"    \" \"    \" \"    \" \"    \" \"    \" \"    \" \"   \n",
              "[1041] \" \"    \" \"    \" \"    \" \"    \" \"    \" \"    \" \"    \" \"    \" \"    \" \"   \n",
              "[1051] \" \"    \" \"    \" \"    \" \"    \" \"    \" \"    \" \"    \" \"    \" \"    \" \"   \n",
              "[1061] \" \"    \" \"    \" \"    \" \"    \" \"    \" \"    \" \"    \" \"    \" \"    \" \"   \n",
              "[1071] \" \"    \" \"    \" \"    \" \"    \" \"    \" \"    \" \"    \" \"    \" \"    \" \"   \n",
              "[1081] \" \"    \" \"    \" \"    \"1986\" \" \"    \" \"    \" \"    \" \"    \" \"    \" \"   \n",
              "[1091] \" \"    \" \"    \" \"    \" \"    \" \"    \" \"    \" \"    \" \"    \" \"    \" \"   \n",
              "[1101] \" \"    \" \"    \" \"    \" \"    \" \"    \" \"    \" \"    \" \"    \" \"    \" \"   \n",
              "[1111] \" \"    \" \"    \" \"    \" \"    \" \"    \" \"    \" \"    \" \"    \" \"    \" \"   \n",
              "[1121] \" \"    \" \"    \" \"    \" \"    \" \"    \" \"    \" \"    \" \"    \" \"    \" \"   \n",
              "[1131] \" \"    \" \"    \" \"    \" \"    \" \"    \" \"    \" \"    \" \"    \" \"    \" \"   \n",
              "[1141] \" \"    \" \"    \" \"    \" \"    \" \"    \" \"    \"2010\" \" \"    \" \"    \" \"   \n",
              "[1151] \" \"    \" \"    \" \"    \" \"    \" \"    \" \"    \" \"    \" \"    \" \"    \" \"   \n",
              "[1161] \" \"    \" \"    \" \"    \" \"    \" \"    \" \"    \" \"    \" \"    \" \"    \" \"   \n",
              "[1171] \" \"    \" \"    \" \"    \" \"    \" \"    \" \"    \" \"    \" \"    \" \"    \" \"   \n",
              "[1181] \" \"    \" \"    \" \"    \" \"    \" \"    \" \"    \" \"    \" \"    \" \"    \" \"   \n",
              "[1191] \" \"    \" \"    \" \"    \" \"    \" \"    \" \"    \" \"    \" \"    \" \"    \" \"   \n",
              "[1201] \" \"    \" \"    \" \"    \" \"    \" \"    \" \"    \" \"    \" \"    \" \"    \" \"   \n",
              "[1211] \" \"    \" \"    \" \"    \" \"    \" \"    \" \"    \" \"    \" \"    \"1970\" \" \"   \n",
              "[1221] \" \"    \" \"    \" \"    \" \"    \" \"    \" \"    \" \"    \" \"    \" \"    \" \"   \n",
              "[1231] \" \"    \" \"    \"1970\" \" \"    \" \"    \" \"    \" \"    \" \"    \" \"    \" \"   \n",
              "[1241] \" \"    \" \"    \" \"    \" \"    \" \"    \" \"    \" \"    \"2002\" \" \"    \"1998\"\n",
              "[1251] \" \"    \" \"    \" \"    \" \"    \" \"    \" \"    \" \"    \" \"    \" \"    \" \"   \n",
              "[1261] \" \"    \" \"    \" \"    \" \"    \" \"    \" \"    \" \"    \" \"    \" \"    \" \"   \n",
              "[1271] \" \"    \" \"    \" \"    \" \"    \" \"    \" \"    \" \"    \" \"    \" \"    \" \"   \n",
              "[1281] \" \"    \" \"    \" \"    \" \"    \" \"    \" \"    \" \"    \" \"    \" \"    \" \"   \n",
              "[1291] \" \"    \" \"    \" \"    \" \"    \" \"   \n",
              "\n",
              "[[4]]\n",
              "   [1] \"2014\" \" \"    \" \"    \" \"    \"1970\" \" \"    \" \"    \" \"    \" \"    \" \"   \n",
              "  [11] \" \"    \" \"    \" \"    \" \"    \" \"    \" \"    \" \"    \"1970\" \" \"    \" \"   \n",
              "  [21] \" \"    \" \"    \" \"    \"1994\" \" \"    \" \"    \" \"    \" \"    \" \"    \" \"   \n",
              "  [31] \" \"    \" \"    \" \"    \" \"    \" \"    \"2018\" \" \"    \" \"    \"2018\" \" \"   \n",
              "  [41] \" \"    \" \"    \" \"    \" \"    \" \"    \" \"    \" \"    \"2010\" \" \"    \"1998\"\n",
              "  [51] \" \"    \" \"    \" \"    \" \"    \" \"    \" \"    \" \"    \" \"    \" \"    \" \"   \n",
              "  [61] \" \"    \" \"    \" \"    \" \"    \" \"    \" \"    \" \"    \" \"    \" \"    \" \"   \n",
              "  [71] \" \"    \" \"    \" \"    \" \"    \" \"    \" \"    \" \"    \" \"    \" \"    \" \"   \n",
              "  [81] \" \"    \" \"    \" \"    \" \"    \" \"    \" \"    \" \"    \" \"    \" \"    \" \"   \n",
              "  [91] \" \"    \" \"    \" \"    \" \"    \" \"    \" \"    \" \"    \" \"    \" \"    \" \"   \n",
              " [101] \" \"    \" \"    \" \"    \" \"    \" \"    \" \"    \" \"    \" \"    \" \"    \" \"   \n",
              " [111] \" \"    \" \"    \" \"    \" \"    \" \"    \" \"    \" \"    \" \"    \" \"    \" \"   \n",
              " [121] \" \"    \" \"    \" \"    \" \"    \" \"    \" \"    \" \"    \" \"    \" \"    \" \"   \n",
              " [131] \" \"    \" \"    \" \"    \" \"    \" \"    \" \"    \" \"    \" \"    \" \"    \" \"   \n",
              " [141] \" \"    \" \"    \" \"    \" \"    \" \"    \" \"    \" \"    \" \"    \" \"    \" \"   \n",
              " [151] \" \"    \" \"    \" \"    \" \"    \" \"    \" \"    \" \"    \" \"    \" \"    \" \"   \n",
              " [161] \" \"    \" \"    \" \"    \" \"    \" \"    \" \"    \" \"    \" \"    \" \"    \" \"   \n",
              " [171] \" \"    \" \"    \"1998\" \" \"    \" \"    \" \"    \" \"    \" \"    \" \"    \" \"   \n",
              " [181] \" \"    \" \"    \" \"    \" \"    \" \"    \" \"    \" \"    \" \"    \" \"    \" \"   \n",
              " [191] \" \"    \" \"    \" \"    \" \"    \" \"    \" \"    \" \"    \" \"    \" \"    \" \"   \n",
              " [201] \" \"    \" \"    \" \"    \" \"    \" \"    \" \"    \" \"    \" \"    \" \"    \" \"   \n",
              " [211] \" \"    \" \"    \" \"    \" \"    \" \"    \" \"    \"1974\" \" \"    \"2014\" \" \"   \n",
              " [221] \" \"    \" \"    \" \"    \" \"    \" \"    \" \"    \"2006\" \" \"    \" \"    \" \"   \n",
              " [231] \" \"    \" \"    \" \"    \" \"    \" \"    \" \"    \" \"    \" \"    \" \"    \" \"   \n",
              " [241] \" \"    \" \"    \" \"    \" \"    \" \"    \" \"    \" \"    \" \"    \" \"    \" \"   \n",
              " [251] \" \"    \" \"    \" \"    \" \"    \" \"    \" \"    \" \"    \" \"    \" \"    \" \"   \n",
              " [261] \" \"    \" \"    \" \"    \" \"    \" \"    \" \"    \" \"    \" \"    \" \"    \" \"   \n",
              " [271] \" \"    \" \"    \" \"    \" \"    \" \"    \" \"    \" \"    \" \"    \" \"    \" \"   \n",
              " [281] \" \"    \" \"    \" \"    \" \"    \" \"    \" \"    \" \"    \" \"    \" \"    \" \"   \n",
              " [291] \" \"    \" \"    \" \"    \" \"    \" \"    \" \"    \" \"    \" \"    \" \"    \" \"   \n",
              " [301] \" \"    \" \"    \" \"    \" \"    \" \"    \" \"    \" \"    \" \"    \" \"    \" \"   \n",
              " [311] \" \"    \" \"    \" \"    \" \"    \" \"    \" \"    \" \"    \" \"    \" \"    \" \"   \n",
              " [321] \" \"    \" \"    \" \"    \" \"    \" \"    \" \"    \" \"    \" \"    \" \"    \" \"   \n",
              " [331] \" \"    \" \"    \" \"    \" \"    \" \"    \" \"    \" \"    \" \"    \" \"    \" \"   \n",
              " [341] \" \"    \" \"    \" \"    \" \"    \" \"    \" \"    \" \"    \" \"    \" \"    \" \"   \n",
              " [351] \" \"    \" \"    \" \"    \" \"    \" \"    \" \"    \" \"    \" \"    \" \"    \" \"   \n",
              " [361] \" \"    \" \"    \" \"    \" \"    \" \"    \" \"    \" \"    \" \"    \" \"    \" \"   \n",
              " [371] \" \"    \" \"    \" \"    \" \"    \" \"    \" \"    \" \"    \" \"    \" \"    \" \"   \n",
              " [381] \" \"    \" \"    \" \"    \" \"    \" \"    \" \"    \" \"    \" \"    \" \"    \" \"   \n",
              " [391] \" \"    \" \"    \" \"    \" \"    \" \"    \" \"    \" \"    \" \"    \" \"    \" \"   \n",
              " [401] \" \"    \" \"    \" \"    \" \"    \" \"    \" \"    \" \"    \" \"    \" \"    \" \"   \n",
              " [411] \" \"    \" \"    \" \"    \" \"    \" \"    \" \"    \" \"    \" \"    \" \"    \" \"   \n",
              " [421] \" \"    \" \"    \" \"    \" \"    \" \"    \" \"    \" \"    \" \"    \" \"    \" \"   \n",
              " [431] \" \"    \" \"    \" \"    \" \"    \" \"    \" \"    \" \"    \" \"    \" \"    \" \"   \n",
              " [441] \" \"    \" \"    \" \"    \" \"    \" \"    \" \"    \" \"    \" \"    \" \"    \" \"   \n",
              " [451] \" \"    \" \"    \"2002\" \" \"    \" \"    \" \"    \" \"    \" \"    \" \"    \" \"   \n",
              " [461] \" \"    \" \"    \" \"    \" \"    \" \"    \" \"    \" \"    \" \"    \" \"    \" \"   \n",
              " [471] \" \"    \" \"    \" \"    \" \"    \" \"    \" \"    \" \"    \" \"    \" \"    \" \"   \n",
              " [481] \" \"    \" \"    \" \"    \" \"    \" \"    \" \"    \" \"    \" \"    \" \"    \" \"   \n",
              " [491] \" \"    \" \"    \" \"    \" \"    \" \"    \" \"    \" \"    \" \"    \" \"    \" \"   \n",
              " [501] \" \"    \" \"    \" \"    \" \"    \" \"    \" \"    \" \"    \" \"    \" \"    \" \"   \n",
              " [511] \" \"    \" \"    \" \"    \" \"    \" \"    \" \"    \" \"    \" \"    \" \"    \" \"   \n",
              " [521] \" \"    \" \"    \" \"    \" \"    \" \"    \" \"    \" \"    \" \"    \" \"    \" \"   \n",
              " [531] \" \"    \" \"    \" \"    \" \"    \" \"    \" \"    \" \"    \" \"    \" \"    \" \"   \n",
              " [541] \" \"    \" \"    \" \"    \" \"    \" \"    \" \"    \" \"    \" \"    \" \"    \" \"   \n",
              " [551] \" \"    \" \"    \" \"    \" \"    \" \"    \" \"    \" \"    \" \"    \" \"    \" \"   \n",
              " [561] \" \"    \" \"    \" \"    \" \"    \" \"    \" \"    \" \"    \" \"    \" \"    \" \"   \n",
              " [571] \" \"    \" \"    \" \"    \" \"    \" \"    \" \"    \" \"    \" \"    \" \"    \" \"   \n",
              " [581] \" \"    \" \"    \" \"    \" \"    \" \"    \" \"    \" \"    \" \"    \" \"    \" \"   \n",
              " [591] \" \"    \" \"    \" \"    \" \"    \" \"    \" \"    \" \"    \" \"    \" \"    \" \"   \n",
              " [601] \" \"    \" \"    \" \"    \" \"    \" \"    \" \"    \" \"    \" \"    \" \"    \" \"   \n",
              " [611] \" \"    \"1966\" \" \"    \" \"    \" \"    \" \"    \" \"    \" \"    \" \"    \" \"   \n",
              " [621] \" \"    \" \"    \" \"    \" \"    \" \"    \" \"    \" \"    \" \"    \" \"    \" \"   \n",
              " [631] \" \"    \" \"    \" \"    \" \"    \" \"    \" \"    \" \"    \" \"    \" \"    \" \"   \n",
              " [641] \" \"    \" \"    \" \"    \" \"    \" \"    \" \"    \" \"    \" \"    \" \"    \" \"   \n",
              " [651] \" \"    \" \"    \" \"    \" \"    \" \"    \" \"    \" \"    \" \"    \" \"    \" \"   \n",
              " [661] \" \"    \" \"    \" \"    \" \"    \" \"    \" \"    \" \"    \" \"    \" \"    \" \"   \n",
              " [671] \" \"    \" \"    \" \"    \" \"    \" \"    \" \"    \" \"    \" \"    \" \"    \" \"   \n",
              " [681] \" \"    \" \"    \" \"    \" \"    \" \"    \" \"    \" \"    \" \"    \" \"    \" \"   \n",
              " [691] \" \"    \" \"    \" \"    \" \"    \" \"    \" \"    \" \"    \" \"    \" \"    \" \"   \n",
              " [701] \" \"    \" \"    \" \"    \" \"    \" \"    \" \"    \" \"    \" \"    \" \"    \" \"   \n",
              " [711] \" \"    \" \"    \" \"    \" \"    \" \"    \" \"    \" \"    \" \"    \" \"    \" \"   \n",
              " [721] \" \"    \" \"    \" \"    \" \"    \" \"    \" \"    \" \"    \" \"    \" \"    \" \"   \n",
              " [731] \" \"    \" \"    \" \"    \" \"    \" \"    \" \"    \" \"    \" \"    \" \"    \" \"   \n",
              " [741] \" \"    \" \"    \" \"    \" \"    \" \"    \" \"    \" \"    \" \"    \" \"    \" \"   \n",
              " [751] \" \"    \" \"    \" \"    \" \"    \" \"    \" \"    \" \"    \" \"    \" \"    \" \"   \n",
              " [761] \" \"    \" \"    \" \"    \" \"    \" \"    \" \"    \" \"    \" \"    \" \"    \" \"   \n",
              " [771] \" \"    \" \"    \" \"    \" \"    \" \"    \" \"    \" \"    \" \"    \" \"    \" \"   \n",
              " [781] \" \"    \" \"    \" \"    \" \"    \" \"    \" \"    \" \"    \" \"    \" \"    \" \"   \n",
              " [791] \" \"    \" \"    \" \"    \" \"    \" \"    \" \"    \" \"    \" \"    \" \"    \" \"   \n",
              " [801] \" \"    \" \"    \" \"    \" \"    \" \"    \" \"    \" \"    \" \"    \" \"    \" \"   \n",
              " [811] \" \"    \"1970\" \" \"    \" \"    \" \"    \" \"    \" \"    \" \"    \" \"    \" \"   \n",
              " [821] \" \"    \" \"    \" \"    \" \"    \" \"    \" \"    \" \"    \" \"    \" \"    \" \"   \n",
              " [831] \" \"    \" \"    \" \"    \" \"    \" \"    \" \"    \" \"    \" \"    \" \"    \" \"   \n",
              " [841] \" \"    \" \"    \" \"    \" \"    \" \"    \" \"    \" \"    \" \"    \" \"    \" \"   \n",
              " [851] \" \"    \" \"    \" \"    \" \"    \" \"    \" \"    \" \"    \" \"    \" \"    \" \"   \n",
              " [861] \" \"    \" \"    \" \"    \" \"    \" \"    \" \"    \" \"    \" \"    \" \"    \" \"   \n",
              " [871] \" \"    \" \"    \" \"    \" \"    \" \"    \" \"    \" \"    \" \"    \" \"    \" \"   \n",
              " [881] \" \"    \" \"    \" \"    \" \"    \" \"    \" \"    \" \"    \" \"    \" \"    \" \"   \n",
              " [891] \" \"    \" \"    \" \"    \" \"    \" \"    \" \"    \" \"    \" \"    \" \"    \" \"   \n",
              " [901] \" \"    \" \"    \" \"    \" \"    \" \"    \" \"    \" \"    \" \"    \" \"    \" \"   \n",
              " [911] \" \"    \" \"    \" \"    \" \"    \" \"    \" \"    \" \"    \" \"    \" \"    \" \"   \n",
              " [921] \" \"    \" \"    \" \"    \" \"    \" \"    \" \"    \" \"    \" \"    \" \"    \" \"   \n",
              " [931] \" \"    \" \"    \" \"    \" \"    \" \"    \" \"    \" \"    \" \"    \" \"    \" \"   \n",
              " [941] \" \"    \" \"    \" \"    \" \"    \" \"    \" \"    \" \"    \" \"    \" \"    \" \"   \n",
              " [951] \" \"    \" \"    \" \"    \" \"    \" \"    \" \"    \" \"    \" \"    \" \"    \" \"   \n",
              " [961] \" \"    \" \"    \" \"    \" \"    \" \"    \" \"    \" \"    \" \"    \" \"    \" \"   \n",
              " [971] \" \"    \" \"    \" \"    \" \"    \" \"    \" \"    \" \"    \" \"    \" \"    \" \"   \n",
              " [981] \" \"    \" \"    \" \"    \" \"    \" \"    \" \"    \" \"    \" \"    \" \"    \" \"   \n",
              " [991] \" \"    \" \"    \" \"    \" \"    \" \"    \" \"    \" \"    \" \"    \" \"    \" \"   \n",
              "[1001] \" \"    \" \"    \" \"    \" \"    \" \"    \" \"    \" \"    \" \"    \" \"    \" \"   \n",
              "[1011] \" \"    \" \"    \" \"    \" \"    \" \"    \" \"    \" \"    \" \"    \" \"    \" \"   \n",
              "[1021] \" \"    \" \"    \" \"    \" \"    \" \"    \" \"    \" \"    \" \"    \" \"    \" \"   \n",
              "[1031] \" \"    \" \"    \" \"    \" \"    \" \"    \" \"    \" \"    \" \"    \" \"    \" \"   \n",
              "[1041] \" \"    \" \"    \" \"    \" \"    \" \"    \" \"    \" \"    \" \"    \" \"    \" \"   \n",
              "[1051] \" \"    \" \"    \" \"    \" \"    \" \"    \" \"    \" \"    \" \"    \" \"    \" \"   \n",
              "[1061] \" \"    \" \"    \" \"    \" \"    \" \"    \" \"    \" \"    \" \"    \" \"    \" \"   \n",
              "[1071] \" \"    \" \"    \" \"    \" \"    \" \"    \" \"    \" \"    \" \"    \" \"    \" \"   \n",
              "[1081] \" \"    \" \"    \" \"    \" \"    \" \"    \" \"    \" \"    \" \"    \" \"    \" \"   \n",
              "[1091] \" \"    \" \"    \" \"    \" \"    \" \"    \" \"    \" \"    \" \"    \" \"    \" \"   \n",
              "[1101] \" \"    \" \"    \" \"    \" \"    \" \"    \" \"    \" \"    \" \"    \" \"    \" \"   \n",
              "[1111] \" \"    \" \"    \" \"    \" \"    \" \"    \" \"    \" \"    \" \"    \" \"    \" \"   \n",
              "[1121] \" \"    \" \"    \" \"    \" \"    \" \"    \" \"    \" \"    \" \"    \" \"    \" \"   \n",
              "[1131] \" \"    \" \"    \" \"    \" \"    \" \"    \" \"    \" \"    \" \"    \" \"    \" \"   \n",
              "[1141] \" \"    \" \"    \" \"    \" \"    \" \"    \" \"    \" \"    \" \"    \" \"    \" \"   \n",
              "[1151] \" \"    \" \"    \" \"    \" \"    \" \"    \" \"    \" \"    \" \"    \" \"    \" \"   \n",
              "[1161] \" \"    \" \"    \" \"    \" \"    \" \"    \" \"    \" \"    \" \"    \" \"    \" \"   \n",
              "[1171] \" \"    \" \"    \" \"    \" \"    \" \"    \" \"    \" \"    \" \"    \" \"    \" \"   \n",
              "[1181] \" \"    \" \"    \" \"    \" \"    \" \"    \" \"    \" \"    \" \"    \" \"    \" \"   \n",
              "[1191] \" \"    \" \"    \" \"    \" \"    \" \"    \" \"    \" \"    \" \"    \" \"    \" \"   \n",
              "[1201] \" \"    \" \"    \" \"    \" \"    \" \"    \" \"    \" \"    \" \"    \" \"    \" \"   \n",
              "[1211] \" \"    \" \"    \" \"    \" \"    \" \"    \" \"    \" \"    \" \"    \" \"    \" \"   \n",
              "[1221] \" \"    \" \"    \" \"    \" \"    \" \"    \" \"    \" \"    \" \"    \" \"    \" \"   \n",
              "[1231] \" \"    \" \"    \"1974\" \" \"    \" \"    \" \"    \" \"    \" \"    \" \"    \" \"   \n",
              "[1241] \" \"    \" \"    \" \"    \" \"    \" \"    \" \"    \" \"    \" \"    \" \"    \" \"   \n",
              "[1251] \" \"    \" \"    \" \"    \" \"    \" \"    \" \"    \" \"    \" \"    \" \"    \" \"   \n",
              "[1261] \" \"    \" \"    \" \"    \" \"    \" \"    \" \"    \" \"    \" \"    \" \"    \" \"   \n",
              "[1271] \" \"    \" \"    \" \"    \" \"    \" \"    \" \"    \" \"    \" \"    \" \"    \" \"   \n",
              "[1281] \" \"    \" \"    \" \"    \" \"    \" \"    \" \"    \" \"    \" \"    \" \"    \" \"   \n",
              "[1291] \" \"    \" \"    \" \"    \" \"    \" \"   \n"
            ]
          },
          "metadata": {}
        }
      ]
    },
    {
      "cell_type": "code",
      "source": [
        ""
      ],
      "metadata": {
        "id": "SLk-V4X1j-FT"
      },
      "execution_count": null,
      "outputs": []
    },
    {
      "cell_type": "code",
      "source": [
        "strsplit(df$years, \"-\")"
      ],
      "metadata": {
        "colab": {
          "base_uri": "https://localhost:8080/",
          "height": 138
        },
        "id": "xNCNEFrAigxG",
        "outputId": "c3fc098a-5b27-46a7-87da-fc2e0062c188"
      },
      "execution_count": null,
      "outputs": [
        {
          "output_type": "error",
          "ename": "ERROR",
          "evalue": "ignored",
          "traceback": [
            "Error in strsplit(df$years, \"-\"): non-character argument\nTraceback:\n",
            "1. strsplit(df$years, \"-\")"
          ]
        }
      ]
    }
  ]
}