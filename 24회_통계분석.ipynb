{
  "cells": [
    {
      "cell_type": "markdown",
      "metadata": {
        "id": "view-in-github",
        "colab_type": "text"
      },
      "source": [
        "<a href=\"https://colab.research.google.com/github/min02yam/R-study/blob/main/24%ED%9A%8C_%ED%86%B5%EA%B3%84%EB%B6%84%EC%84%9D.ipynb\" target=\"_parent\"><img src=\"https://colab.research.google.com/assets/colab-badge.svg\" alt=\"Open In Colab\"/></a>"
      ]
    },
    {
      "cell_type": "markdown",
      "source": [
        "통계분석"
      ],
      "metadata": {
        "id": "XJNzkBGFjfsL"
      }
    },
    {
      "cell_type": "code",
      "source": [
        "suppressPackageStartupMessages({\n",
        "require(magrittr)\n",
        "require(dplyr)\n",
        "})"
      ],
      "metadata": {
        "id": "-IXxp6OFYPkL"
      },
      "execution_count": 14,
      "outputs": []
    },
    {
      "cell_type": "markdown",
      "source": [
        "# 1.회귀분석\n",
        "연구 개발 및 광고비와 매출액의 연관성을 비교한 자료는 아래와 같다. <BR>(유의수준(α)=5%, 반올림하여 소수점 둘째 자리 까지만 표시)"
      ],
      "metadata": {
        "id": "fGK5h_A0Vyar"
      }
    },
    {
      "cell_type": "code",
      "source": [
        "x1 = c(5,6,7,8,9,11,12,13,14,15)\n",
        "y = c(16,19,18,20,24,26,30,32,31,34)\n",
        "df = as.data.frame(cbind(x1,y)) \n",
        "df[,'x2'] = rep(c(\"낮음\",\"높음\"), times = c(4,6))"
      ],
      "metadata": {
        "id": "zSC3JPu8Vx0l"
      },
      "execution_count": 33,
      "outputs": []
    },
    {
      "cell_type": "markdown",
      "source": [
        "2-1.\t광고비를 가변수로 처리하여 다중회귀방정식을 정의하고 회귀계수를 검정하시오. (5점)\n",
        "\n"
      ],
      "metadata": {
        "id": "o88KyWjnY6nN"
      }
    },
    {
      "cell_type": "code",
      "source": [
        "install.packages(\"fastDummies\")\n",
        "library(fastDummies)"
      ],
      "metadata": {
        "colab": {
          "base_uri": "https://localhost:8080/"
        },
        "id": "Pgub320Klcia",
        "outputId": "52ba68ee-4319-4c90-e842-191a0d3d02f4"
      },
      "execution_count": 45,
      "outputs": [
        {
          "output_type": "stream",
          "name": "stderr",
          "text": [
            "Loading required package: fastDummies\n",
            "\n",
            "Warning message in library(package, lib.loc = lib.loc, character.only = TRUE, logical.return = TRUE, :\n",
            "“there is no package called ‘fastDummies’”\n"
          ]
        }
      ]
    },
    {
      "cell_type": "code",
      "source": [
        "fastDummies\t"
      ],
      "metadata": {
        "id": "uaMLSdiUlbtk"
      },
      "execution_count": null,
      "outputs": []
    },
    {
      "cell_type": "code",
      "source": [
        "lm(y~ x1+factor(x2)+x1:factor(x2), data=df) %>% summary"
      ],
      "metadata": {
        "colab": {
          "base_uri": "https://localhost:8080/",
          "height": 391
        },
        "id": "ZaOe_33bYyMm",
        "outputId": "67b4591e-1897-4467-85fc-959b5cdf15a1"
      },
      "execution_count": 41,
      "outputs": [
        {
          "output_type": "display_data",
          "data": {
            "text/plain": [
              "\n",
              "Call:\n",
              "lm(formula = y ~ x1 + factor(x2) + x1:factor(x2), data = df)\n",
              "\n",
              "Residuals:\n",
              "     Min       1Q   Median       3Q      Max \n",
              "-1.28571 -0.75000  0.05714  0.81786  1.38571 \n",
              "\n",
              "Coefficients:\n",
              "                  Estimate Std. Error t value Pr(>|t|)  \n",
              "(Intercept)        11.1000     3.6153   3.070   0.0219 *\n",
              "x1                  1.1000     0.5482   2.007   0.0916 .\n",
              "factor(x2)높음     -2.2143     4.8078  -0.461   0.6613  \n",
              "x1:factor(x2)높음   0.5714     0.6040   0.946   0.3807  \n",
              "---\n",
              "Signif. codes:  0 ‘***’ 0.001 ‘**’ 0.01 ‘*’ 0.05 ‘.’ 0.1 ‘ ’ 1\n",
              "\n",
              "Residual standard error: 1.226 on 6 degrees of freedom\n",
              "Multiple R-squared:  0.9765,\tAdjusted R-squared:  0.9648 \n",
              "F-statistic:  83.2 on 3 and 6 DF,  p-value: 2.805e-05\n"
            ]
          },
          "metadata": {}
        }
      ]
    },
    {
      "cell_type": "code",
      "source": [
        "lm(y~ x1+factor(x2), data=df)  %>% summary"
      ],
      "metadata": {
        "colab": {
          "base_uri": "https://localhost:8080/",
          "height": 372
        },
        "id": "0E8v48DRgYPt",
        "outputId": "90f759a0-5675-4889-fc39-44c1cc378fc4"
      },
      "execution_count": 43,
      "outputs": [
        {
          "output_type": "display_data",
          "data": {
            "text/plain": [
              "\n",
              "Call:\n",
              "lm(formula = y ~ x1 + factor(x2), data = df)\n",
              "\n",
              "Residuals:\n",
              "     Min       1Q   Median       3Q      Max \n",
              "-1.40588 -0.92794 -0.07941  0.84559  1.53529 \n",
              "\n",
              "Coefficients:\n",
              "               Estimate Std. Error t value Pr(>|t|)    \n",
              "(Intercept)      8.0412     1.6052   5.009 0.001549 ** \n",
              "x1               1.5706     0.2285   6.872 0.000237 ***\n",
              "factor(x2)높음   2.0882     1.5472   1.350 0.219135    \n",
              "---\n",
              "Signif. codes:  0 ‘***’ 0.001 ‘**’ 0.01 ‘*’ 0.05 ‘.’ 0.1 ‘ ’ 1\n",
              "\n",
              "Residual standard error: 1.216 on 7 degrees of freedom\n",
              "Multiple R-squared:  0.973,\tAdjusted R-squared:  0.9653 \n",
              "F-statistic: 126.2 on 2 and 7 DF,  p-value: 3.224e-06\n"
            ]
          },
          "metadata": {}
        }
      ]
    },
    {
      "cell_type": "markdown",
      "source": [
        "2-2.\t회귀모형에 대한 유의성을 검정하시오. (5점) "
      ],
      "metadata": {
        "id": "Ce4qk-VVi27x"
      }
    },
    {
      "cell_type": "code",
      "source": [
        ""
      ],
      "metadata": {
        "id": "74uwwVfxi1_T"
      },
      "execution_count": null,
      "outputs": []
    },
    {
      "cell_type": "markdown",
      "source": [
        "# 3.베이즈정리\n",
        "개발된 바이러스 진단키트를 평가하기 위하여 감염자와 비감염자를 대상으로 한 진단키트 검사 결과가 아래 표와 같다. 바이러스의 유병률이 0.01이라고 한다면 베이즈 정리를 이용하여 진단결과가 양성일 때 바이러스에 감염되었을 확률이 얼마인지를 구하시오. (반올림하여 소수점 둘째 자리 까지만 표시) (15점)"
      ],
      "metadata": {
        "id": "BtpoJ5GxhxW4"
      }
    },
    {
      "cell_type": "code",
      "source": [
        ""
      ],
      "metadata": {
        "id": "nsEp7VbChxJJ"
      },
      "execution_count": null,
      "outputs": []
    },
    {
      "cell_type": "markdown",
      "source": [
        "# 4. 표본평균의 신뢰구간\n",
        "다음은 제품의 평균 길이를 알아보고자 9개의 제품 표본을 추출하여 조사한 자료이다. (Z0.025=1.96, Z0.05=1.65, t(0.025,8)=2.31, t(0.05,8)=1.86, 반올림하여 소수점 둘째 자리 까지만 표시) (15점)"
      ],
      "metadata": {
        "id": "_jjC8tLxh6lW"
      }
    }
  ],
  "metadata": {
    "accelerator": "GPU",
    "colab": {
      "collapsed_sections": [],
      "machine_shape": "hm",
      "name": "24회_통계분석",
      "provenance": [],
      "authorship_tag": "ABX9TyOF5MHVCwvEFvYg8ubjWYCw",
      "include_colab_link": true
    },
    "gpuClass": "standard",
    "kernelspec": {
      "display_name": "R",
      "name": "ir"
    },
    "language_info": {
      "name": "R"
    }
  },
  "nbformat": 4,
  "nbformat_minor": 0
}