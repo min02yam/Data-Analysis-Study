{
  "nbformat": 4,
  "nbformat_minor": 0,
  "metadata": {
    "colab": {
      "name": "20220515_연관성분석_Lotto_하는중",
      "provenance": [],
      "authorship_tag": "ABX9TyMvNZ3BmXkvAmsatH4v6aIS",
      "include_colab_link": true
    },
    "kernelspec": {
      "name": "ir",
      "display_name": "R"
    },
    "language_info": {
      "name": "R"
    }
  },
  "cells": [
    {
      "cell_type": "markdown",
      "metadata": {
        "id": "view-in-github",
        "colab_type": "text"
      },
      "source": [
        "<a href=\"https://colab.research.google.com/github/min02yam/R-study/blob/main/20220515_%EC%97%B0%EA%B4%80%EC%84%B1%EB%B6%84%EC%84%9D_Lotto_%ED%95%98%EB%8A%94%EC%A4%91.ipynb\" target=\"_parent\"><img src=\"https://colab.research.google.com/assets/colab-badge.svg\" alt=\"Open In Colab\"/></a>"
      ]
    },
    {
      "cell_type": "markdown",
      "source": [
        "-----------------------------------------------------------"
      ],
      "metadata": {
        "id": "ekFmNS7RIVyg"
      }
    },
    {
      "cell_type": "markdown",
      "source": [
        "### 4. lotto 데이터를 활용하여 아래를 해결하시오\n",
        "#### 4-1. 연관규칙분석을 수행하기 위해 데이터셋을 transaction 데이터로 변환하시오 그리고, 변환된 데이터에서 가장 많이 등장한 상위 10개의 로또번호를 막대그래프로 출력하시오\n",
        "\n",
        "#### 4-2. 변환 데이테에 대해 apriori 함수를 사용하여 연관규칙을 생성하시오. (최소지지도 ; 0.002, 최소신뢰도 : 0.8, 초대조합 항목 수 :6개)\n",
        "\n",
        "#### 4-3. 도출된 연관규칙들을 향상도 기준으로 내림차순하여 상위 30개의 규칙을 확인하고, 이를 데이터프레임으로 변환하여 CSV파일로 출력하시오"
      ],
      "metadata": {
        "id": "DBCzkkuezY3r"
      }
    },
    {
      "cell_type": "markdown",
      "source": [
        "-----------------------------------------------------------"
      ],
      "metadata": {
        "id": "GjRUfwJQGz-N"
      }
    },
    {
      "cell_type": "markdown",
      "source": [
        "# **😎목차**\n",
        "    1. 데이터 로드 (4-1)\n",
        "    2. 모델링 (4-2)\n",
        "    3. 시각화\n",
        "    4. 결론(4-3)\n",
        "    5. 레퍼런스"
      ],
      "metadata": {
        "id": "TGYz9mTWDO4M"
      }
    },
    {
      "cell_type": "markdown",
      "source": [
        "# **1. 데이터 로드 (4-1)**"
      ],
      "metadata": {
        "id": "EHzSolQyjA-_"
      }
    },
    {
      "cell_type": "code",
      "source": [
        "#패키지설치\n",
        "install.packages(\"arules\"); install.packages(\"arulesViz\")\n",
        "library(arules); library(arulesViz)"
      ],
      "metadata": {
        "colab": {
          "base_uri": "https://localhost:8080/"
        },
        "id": "sy1cpUxEJIdC",
        "outputId": "fad1c8ab-6787-4fb5-d31a-835814f7a522"
      },
      "execution_count": 3,
      "outputs": [
        {
          "output_type": "stream",
          "name": "stderr",
          "text": [
            "Installing package into ‘/usr/local/lib/R/site-library’\n",
            "(as ‘lib’ is unspecified)\n",
            "\n",
            "Installing package into ‘/usr/local/lib/R/site-library’\n",
            "(as ‘lib’ is unspecified)\n",
            "\n",
            "also installing the dependencies ‘graphlayouts’, ‘ggraph’\n",
            "\n",
            "\n"
          ]
        }
      ]
    },
    {
      "cell_type": "code",
      "source": [
        "#데이터 로드\n",
        "df<-read.csv(\"/content/lotto.csv\")\n",
        "head(df)\n",
        "str(df); summary(df)"
      ],
      "metadata": {
        "colab": {
          "base_uri": "https://localhost:8080/",
          "height": 687
        },
        "id": "n9PKgpyJJs4N",
        "outputId": "11bc66dc-db11-492f-8f87-67f415544cd9"
      },
      "execution_count": 17,
      "outputs": [
        {
          "output_type": "display_data",
          "data": {
            "text/html": [
              "<table class=\"dataframe\">\n",
              "<caption>A data.frame: 6 × 7</caption>\n",
              "<thead>\n",
              "\t<tr><th></th><th scope=col>time_id</th><th scope=col>num1</th><th scope=col>num2</th><th scope=col>num3</th><th scope=col>num4</th><th scope=col>num5</th><th scope=col>num6</th></tr>\n",
              "\t<tr><th></th><th scope=col>&lt;int&gt;</th><th scope=col>&lt;int&gt;</th><th scope=col>&lt;int&gt;</th><th scope=col>&lt;int&gt;</th><th scope=col>&lt;int&gt;</th><th scope=col>&lt;int&gt;</th><th scope=col>&lt;int&gt;</th></tr>\n",
              "</thead>\n",
              "<tbody>\n",
              "\t<tr><th scope=row>1</th><td>859</td><td> 8</td><td>22</td><td>35</td><td>38</td><td>39</td><td>41</td></tr>\n",
              "\t<tr><th scope=row>2</th><td>858</td><td> 9</td><td>13</td><td>32</td><td>38</td><td>39</td><td>43</td></tr>\n",
              "\t<tr><th scope=row>3</th><td>857</td><td> 6</td><td>10</td><td>16</td><td>28</td><td>34</td><td>38</td></tr>\n",
              "\t<tr><th scope=row>4</th><td>856</td><td>10</td><td>24</td><td>40</td><td>41</td><td>43</td><td>44</td></tr>\n",
              "\t<tr><th scope=row>5</th><td>855</td><td> 8</td><td>15</td><td>17</td><td>19</td><td>43</td><td>44</td></tr>\n",
              "\t<tr><th scope=row>6</th><td>854</td><td>20</td><td>25</td><td>31</td><td>32</td><td>36</td><td>43</td></tr>\n",
              "</tbody>\n",
              "</table>\n"
            ],
            "text/markdown": "\nA data.frame: 6 × 7\n\n| <!--/--> | time_id &lt;int&gt; | num1 &lt;int&gt; | num2 &lt;int&gt; | num3 &lt;int&gt; | num4 &lt;int&gt; | num5 &lt;int&gt; | num6 &lt;int&gt; |\n|---|---|---|---|---|---|---|---|\n| 1 | 859 |  8 | 22 | 35 | 38 | 39 | 41 |\n| 2 | 858 |  9 | 13 | 32 | 38 | 39 | 43 |\n| 3 | 857 |  6 | 10 | 16 | 28 | 34 | 38 |\n| 4 | 856 | 10 | 24 | 40 | 41 | 43 | 44 |\n| 5 | 855 |  8 | 15 | 17 | 19 | 43 | 44 |\n| 6 | 854 | 20 | 25 | 31 | 32 | 36 | 43 |\n\n",
            "text/latex": "A data.frame: 6 × 7\n\\begin{tabular}{r|lllllll}\n  & time\\_id & num1 & num2 & num3 & num4 & num5 & num6\\\\\n  & <int> & <int> & <int> & <int> & <int> & <int> & <int>\\\\\n\\hline\n\t1 & 859 &  8 & 22 & 35 & 38 & 39 & 41\\\\\n\t2 & 858 &  9 & 13 & 32 & 38 & 39 & 43\\\\\n\t3 & 857 &  6 & 10 & 16 & 28 & 34 & 38\\\\\n\t4 & 856 & 10 & 24 & 40 & 41 & 43 & 44\\\\\n\t5 & 855 &  8 & 15 & 17 & 19 & 43 & 44\\\\\n\t6 & 854 & 20 & 25 & 31 & 32 & 36 & 43\\\\\n\\end{tabular}\n",
            "text/plain": [
              "  time_id num1 num2 num3 num4 num5 num6\n",
              "1 859      8   22   35   38   39   41  \n",
              "2 858      9   13   32   38   39   43  \n",
              "3 857      6   10   16   28   34   38  \n",
              "4 856     10   24   40   41   43   44  \n",
              "5 855      8   15   17   19   43   44  \n",
              "6 854     20   25   31   32   36   43  "
            ]
          },
          "metadata": {}
        },
        {
          "output_type": "stream",
          "name": "stdout",
          "text": [
            "'data.frame':\t859 obs. of  7 variables:\n",
            " $ time_id: int  859 858 857 856 855 854 853 852 851 850 ...\n",
            " $ num1   : int  8 9 6 10 8 20 2 11 14 16 ...\n",
            " $ num2   : int  22 13 10 24 15 25 8 17 18 20 ...\n",
            " $ num3   : int  35 32 16 40 17 31 23 28 22 24 ...\n",
            " $ num4   : int  38 38 28 41 19 32 26 30 26 28 ...\n",
            " $ num5   : int  39 39 34 43 43 36 27 33 31 36 ...\n",
            " $ num6   : int  41 43 38 44 44 43 44 35 44 39 ...\n"
          ]
        },
        {
          "output_type": "display_data",
          "data": {
            "text/plain": [
              "    time_id           num1             num2            num3      \n",
              " Min.   :  1.0   Min.   : 1.000   Min.   : 2.00   Min.   : 3.00  \n",
              " 1st Qu.:215.5   1st Qu.: 2.500   1st Qu.: 8.00   1st Qu.:14.00  \n",
              " Median :430.0   Median : 5.000   Median :12.00   Median :19.00  \n",
              " Mean   :430.0   Mean   : 6.641   Mean   :13.01   Mean   :19.86  \n",
              " 3rd Qu.:644.5   3rd Qu.:10.000   3rd Qu.:17.00   3rd Qu.:25.00  \n",
              " Max.   :859.0   Max.   :35.000   Max.   :37.00   Max.   :40.00  \n",
              "      num4            num5            num6      \n",
              " Min.   : 5.00   Min.   : 9.00   Min.   :19.00  \n",
              " 1st Qu.:21.00   1st Qu.:28.00   1st Qu.:37.00  \n",
              " Median :27.00   Median :34.00   Median :41.00  \n",
              " Mean   :26.18   Mean   :32.84   Mean   :39.48  \n",
              " 3rd Qu.:32.00   3rd Qu.:38.00   3rd Qu.:44.00  \n",
              " Max.   :43.00   Max.   :44.00   Max.   :45.00  "
            ]
          },
          "metadata": {}
        }
      ]
    },
    {
      "cell_type": "code",
      "source": [
        ""
      ],
      "metadata": {
        "id": "SEgzArPqQ7yT"
      },
      "execution_count": null,
      "outputs": []
    },
    {
      "cell_type": "code",
      "source": [
        "#데이터 변환\n",
        "df<-df[,-1] #id빼고\n",
        "ltt<-as(df,\"transactions\"); class(df)"
      ],
      "metadata": {
        "colab": {
          "base_uri": "https://localhost:8080/",
          "height": 71
        },
        "id": "w873flMCK7Ua",
        "outputId": "d5c08134-6413-474f-e3e5-070371cfef1e"
      },
      "execution_count": 18,
      "outputs": [
        {
          "output_type": "stream",
          "name": "stderr",
          "text": [
            "Warning message:\n",
            "“Column(s) 1, 2, 3, 4, 5, 6 not logical or factor. Applying default discretization (see '? discretizeDF').”\n"
          ]
        },
        {
          "output_type": "display_data",
          "data": {
            "text/html": [
              "'data.frame'"
            ],
            "text/markdown": "'data.frame'",
            "text/latex": "'data.frame'",
            "text/plain": [
              "[1] \"data.frame\""
            ]
          },
          "metadata": {}
        }
      ]
    },
    {
      "cell_type": "code",
      "source": [
        "#간단 구조 확인\n",
        "head(ltt); str(ltt); summary(ltt)"
      ],
      "metadata": {
        "colab": {
          "base_uri": "https://localhost:8080/",
          "height": 838
        },
        "id": "YJLkDLSyLoc4",
        "outputId": "0257543c-71fb-45ff-df69-4d10c8d81ae4"
      },
      "execution_count": 19,
      "outputs": [
        {
          "output_type": "display_data",
          "data": {
            "text/plain": [
              "transactions in sparse format with\n",
              " 6 transactions (rows) and\n",
              " 18 items (columns)"
            ]
          },
          "metadata": {}
        },
        {
          "output_type": "stream",
          "name": "stdout",
          "text": [
            "Formal class 'transactions' [package \"arules\"] with 3 slots\n",
            "  ..@ data       :Formal class 'ngCMatrix' [package \"Matrix\"] with 5 slots\n",
            "  .. .. ..@ i       : int [1:5154] 2 5 8 11 14 16 2 4 8 11 ...\n",
            "  .. .. ..@ p       : int [1:860] 0 6 12 18 24 30 36 42 48 54 ...\n",
            "  .. .. ..@ Dim     : int [1:2] 18 859\n",
            "  .. .. ..@ Dimnames:List of 2\n",
            "  .. .. .. ..$ : NULL\n",
            "  .. .. .. ..$ : NULL\n",
            "  .. .. ..@ factors : list()\n",
            "  ..@ itemInfo   :'data.frame':\t18 obs. of  3 variables:\n",
            "  .. ..$ labels   : chr [1:18] \"num1=[1,3)\" \"num1=[3,8)\" \"num1=[8,35]\" \"num2=[2,9)\" ...\n",
            "  .. ..$ variables: Factor w/ 6 levels \"num1\",\"num2\",..: 1 1 1 2 2 2 3 3 3 4 ...\n",
            "  .. ..$ levels   : Factor w/ 18 levels \"[1,3)\",\"[15,37]\",..: 1 9 16 5 17 2 8 3 7 15 ...\n",
            "  ..@ itemsetInfo:'data.frame':\t859 obs. of  1 variable:\n",
            "  .. ..$ transactionID: chr [1:859] \"1\" \"2\" \"3\" \"4\" ...\n"
          ]
        },
        {
          "output_type": "display_data",
          "data": {
            "text/plain": [
              "transactions as itemMatrix in sparse format with\n",
              " 859 rows (elements/itemsets/transactions) and\n",
              " 18 columns (items) and a density of 0.3333333 \n",
              "\n",
              "most frequent items:\n",
              "  num1=[3,8) num6=[43,45] num2=[15,37] num4=[30,43] num5=[37,44]      (Other) \n",
              "         352          325          322          321          309         3525 \n",
              "\n",
              "element (itemset/transaction) length distribution:\n",
              "sizes\n",
              "  6 \n",
              "859 \n",
              "\n",
              "   Min. 1st Qu.  Median    Mean 3rd Qu.    Max. \n",
              "      6       6       6       6       6       6 \n",
              "\n",
              "includes extended item information - examples:\n",
              "       labels variables levels\n",
              "1  num1=[1,3)      num1  [1,3)\n",
              "2  num1=[3,8)      num1  [3,8)\n",
              "3 num1=[8,35]      num1 [8,35]\n",
              "\n",
              "includes extended transaction information - examples:\n",
              "  transactionID\n",
              "1             1\n",
              "2             2\n",
              "3             3"
            ]
          },
          "metadata": {}
        }
      ]
    },
    {
      "cell_type": "code",
      "source": [
        "#상위 10개의 로또번호 막대그래프로 출력\n",
        "itemFrequencyPlot(ltt, topN=10, type=\"absolute\")"
      ],
      "metadata": {
        "colab": {
          "base_uri": "https://localhost:8080/",
          "height": 437
        },
        "id": "920u5lJDQORj",
        "outputId": "4db3f18e-f526-4517-a65d-d61a3e089723"
      },
      "execution_count": 20,
      "outputs": [
        {
          "output_type": "display_data",
          "data": {
            "text/plain": [
              "plot without title"
            ],
            "image/png": "[encoded data removed]"
          },
          "metadata": {
            "image/png": {
              "width": 420,
              "height": 420
            }
          }
        }
      ]
    },
    {
      "cell_type": "markdown",
      "source": [
        "가장 많이 나온 번호 ,, 3,8    \n",
        "사실상 num1-6은 의미 없음\n",
        "transaction 변환 다시 해야 하나 ? "
      ],
      "metadata": {
        "id": "tFflVD0DRrTI"
      }
    },
    {
      "cell_type": "code",
      "source": [
        "#상대빈도\n",
        "itemFrequencyPlot(ltt, topN=10)"
      ],
      "metadata": {
        "colab": {
          "base_uri": "https://localhost:8080/",
          "height": 437
        },
        "id": "anXcRCeDQc15",
        "outputId": "0589cfc4-a6d8-4965-9cbf-a45fc6b1cfff"
      },
      "execution_count": 21,
      "outputs": [
        {
          "output_type": "display_data",
          "data": {
            "text/plain": [
              "plot without title"
            ],
            "image/png": "[encoded data removed]"
          },
          "metadata": {
            "image/png": {
              "width": 420,
              "height": 420
            }
          }
        }
      ]
    },
    {
      "cell_type": "markdown",
      "source": [
        "# **2. 모델링 (4-2)**"
      ],
      "metadata": {
        "id": "2aEkDZF6IF27"
      }
    },
    {
      "cell_type": "markdown",
      "source": [
        "- 최소지지도 ; 0.002, 최소신뢰도 : 0.8, 초대조합 항목 수 :6개"
      ],
      "metadata": {
        "id": "wZK-_U9pRVP5"
      }
    },
    {
      "cell_type": "code",
      "source": [
        "ltt_rules<-apriori(ltt, )"
      ],
      "metadata": {
        "id": "TBcwzLFBRTV7"
      },
      "execution_count": null,
      "outputs": []
    },
    {
      "cell_type": "markdown",
      "source": [
        "# **3. 시각화**"
      ],
      "metadata": {
        "id": "yx4647-GIMz0"
      }
    },
    {
      "cell_type": "markdown",
      "source": [
        "# **4. 결론 (4-3)**"
      ],
      "metadata": {
        "id": "yHdnOhP2IP8A"
      }
    },
    {
      "cell_type": "markdown",
      "source": [
        "ref1. [Association](https://rpubs.com/Bidhansubedi7/834608)"
      ],
      "metadata": {
        "id": "1PNXCkkhLw2d"
      }
    }
  ]
}